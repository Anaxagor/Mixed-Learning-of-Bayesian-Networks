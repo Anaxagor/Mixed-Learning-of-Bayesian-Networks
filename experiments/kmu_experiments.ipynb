{
 "metadata": {
  "language_info": {
   "codemirror_mode": {
    "name": "ipython",
    "version": 3
   },
   "file_extension": ".py",
   "mimetype": "text/x-python",
   "name": "python",
   "nbconvert_exporter": "python",
   "pygments_lexer": "ipython3",
   "version": "3.8.8"
  },
  "orig_nbformat": 2,
  "kernelspec": {
   "name": "python388jvsc74a57bd00110e3ad3d2995649b9eed0505b86961f21d80e4cfa55b9dc2096312fa84aa23",
   "display_name": "Python 3.8.8 64-bit"
  },
  "metadata": {
   "interpreter": {
    "hash": "0110e3ad3d2995649b9eed0505b86961f21d80e4cfa55b9dc2096312fa84aa23"
   }
  }
 },
 "nbformat": 4,
 "nbformat_minor": 2,
 "cells": [
  {
   "cell_type": "code",
   "execution_count": 1,
   "metadata": {},
   "outputs": [],
   "source": [
    "import os,sys,inspect\n",
    "currentdir = os.path.dirname(os.path.abspath(inspect.getfile(inspect.currentframe())))\n",
    "parentdir = os.path.dirname(currentdir)\n",
    "sys.path.insert(0,parentdir) "
   ]
  },
  {
   "cell_type": "code",
   "execution_count": 2,
   "metadata": {},
   "outputs": [],
   "source": [
    "import pandas as pd\n",
    "import numpy as np\n",
    "from bayesian.train_bn import structure_learning, parameter_learning, parameter_learning_mix\n",
    "from preprocess.discretization import get_nodes_type, discretization, inverse_discretization, code_categories\n",
    "from bayesian.save_bn import save_structure, save_params, read_structure, read_params\n",
    "from external.libpgm.hybayesiannetwork import HyBayesianNetwork\n",
    "from visualization.visualization import draw_BN\n",
    "from bayesian.calculate_accuracy import calculate_acc\n",
    "import seaborn as sns\n",
    "import matplotlib.pyplot as plt\n",
    "from scipy import stats\n",
    "from copy import copy\n",
    "from external.libpgm.sampleaggregator import SampleAggregator\n",
    "import operator\n",
    "from sklearn.metrics import accuracy_score, mean_squared_error\n",
    "from scipy import stats\n",
    "from scipy.stats import multivariate_normal"
   ]
  },
  {
   "cell_type": "code",
   "execution_count": 3,
   "metadata": {},
   "outputs": [
    {
     "output_type": "execute_result",
     "data": {
      "text/plain": [
       "         Field name          Reservoir unit       Country  \\\n",
       "0            ABQAIQ                  ARAB D  SAUDI ARABIA   \n",
       "1      ABU GHARADIG                BAHARIYA         EGYPT   \n",
       "2  ABU MADI-EL QARA     ABU MADI (LEVEL II)         EGYPT   \n",
       "3  ABU MADI-EL QARA    ABU MADI (LEVEL III)         EGYPT   \n",
       "4       AL HUWAISAH                 SHUAIBA          OMAN   \n",
       "5     ALABAMA FERRY  UPPER GLEN ROSE D ZONE           USA   \n",
       "6              ALBA                    ALBA            UK   \n",
       "7     ALBION-SCIPIO     TRENTON-BLACK RIVER           USA   \n",
       "8        ALIBEKMOLA                    KT I    KAZAKHSTAN   \n",
       "9        ALIBEKMOLA                   KT II    KAZAKHSTAN   \n",
       "\n",
       "                Region                       Basin name Tectonic regime  \\\n",
       "0          MIDDLE EAST                         THE GULF     COMPRESSION   \n",
       "1               AFRICA                     ABU GHARADIG       EXTENSION   \n",
       "2               AFRICA                       NILE DELTA     STRIKE-SLIP   \n",
       "3               AFRICA                       NILE DELTA     STRIKE-SLIP   \n",
       "4          MIDDLE EAST                       FAHUD SALT     COMPRESSION   \n",
       "5        NORTH AMERICA  GULF OF MEXICO NORTHERN ONSHORE         GRAVITY   \n",
       "6               EUROPE                NORTH SEA CENTRAL             NaN   \n",
       "7        NORTH AMERICA                         MICHIGAN             NaN   \n",
       "8  FORMER SOVIET UNION                    CASPIAN NORTH     COMPRESSION   \n",
       "9  FORMER SOVIET UNION                    CASPIAN NORTH     COMPRESSION   \n",
       "\n",
       "   Latitude  Longitude  Operator company Onshore/offshore Hydrocarbon type  \\\n",
       "0   26.0800    49.8100      SAUDI ARAMCO          ONSHORE              OIL   \n",
       "1   29.7422    28.4925             GUPCO          ONSHORE   GAS-CONDENSATE   \n",
       "2   31.4382    31.3616              IEOC          ONSHORE              GAS   \n",
       "3   31.4382    31.3616              IEOC          ONSHORE              GAS   \n",
       "4   21.9607    56.0452               PDO          ONSHORE              OIL   \n",
       "5   31.2143   -95.7981          NUMEROUS          ONSHORE              OIL   \n",
       "6   58.0692     1.0784           CHEVRON         OFFSHORE              OIL   \n",
       "7   41.9937   -84.6016          NUMEROUS          ONSHORE              OIL   \n",
       "8   48.4740    57.6667  KAZAKHOIL AKTOBE          ONSHORE              OIL   \n",
       "9   48.4740    57.6667  KAZAKHOIL AKTOBE          ONSHORE              OIL   \n",
       "\n",
       "       Reservoir status Structural setting   Depth         Period  \\\n",
       "0          REJUVENATING           FORELAND  1815.0       JURASSIC   \n",
       "1     MATURE PRODUCTION               RIFT  3084.6     CRETACEOUS   \n",
       "2  DECLINING PRODUCTION             WRENCH  2952.9        NEOGENE   \n",
       "3  DECLINING PRODUCTION             WRENCH  3149.7        NEOGENE   \n",
       "4          REJUVENATING               SALT  1486.5     CRETACEOUS   \n",
       "5     MATURE PRODUCTION     PASSIVE MARGIN  2610.0     CRETACEOUS   \n",
       "6  DECLINING PRODUCTION               RIFT  1692.6      PALEOGENE   \n",
       "7       NEARLY DEPLETED      INTRACRATONIC  1140.0     ORDOVICIAN   \n",
       "8            DEVELOPING           SUB-SALT  1800.0  CARBONIFEROUS   \n",
       "9            DEVELOPING           SUB-SALT  2874.0  CARBONIFEROUS   \n",
       "\n",
       "                 Lithology  Gross  Netpay  Porosity  Permeability  \n",
       "0                LIMESTONE   75.0    55.2      21.0         410.0  \n",
       "1                SANDSTONE  223.5    43.2      10.0           8.0  \n",
       "2  THINLY-BEDDED SANDSTONE   34.5    19.8      22.0         200.0  \n",
       "3                SANDSTONE  152.7   123.0      20.0         300.0  \n",
       "4                LIMESTONE   75.0    30.0      21.0          60.0  \n",
       "5                LIMESTONE   28.5     4.5      12.0          20.0  \n",
       "6  THINLY-BEDDED SANDSTONE   90.0    81.0       NaN        3500.0  \n",
       "7                 DOLOMITE  180.0   120.0       NaN          10.0  \n",
       "8                LIMESTONE   90.0    31.5      10.0          20.0  \n",
       "9                LIMESTONE  182.1    32.4      10.0          20.0  "
      ],
      "text/html": "<div>\n<style scoped>\n    .dataframe tbody tr th:only-of-type {\n        vertical-align: middle;\n    }\n\n    .dataframe tbody tr th {\n        vertical-align: top;\n    }\n\n    .dataframe thead th {\n        text-align: right;\n    }\n</style>\n<table border=\"1\" class=\"dataframe\">\n  <thead>\n    <tr style=\"text-align: right;\">\n      <th></th>\n      <th>Field name</th>\n      <th>Reservoir unit</th>\n      <th>Country</th>\n      <th>Region</th>\n      <th>Basin name</th>\n      <th>Tectonic regime</th>\n      <th>Latitude</th>\n      <th>Longitude</th>\n      <th>Operator company</th>\n      <th>Onshore/offshore</th>\n      <th>Hydrocarbon type</th>\n      <th>Reservoir status</th>\n      <th>Structural setting</th>\n      <th>Depth</th>\n      <th>Period</th>\n      <th>Lithology</th>\n      <th>Gross</th>\n      <th>Netpay</th>\n      <th>Porosity</th>\n      <th>Permeability</th>\n    </tr>\n  </thead>\n  <tbody>\n    <tr>\n      <th>0</th>\n      <td>ABQAIQ</td>\n      <td>ARAB D</td>\n      <td>SAUDI ARABIA</td>\n      <td>MIDDLE EAST</td>\n      <td>THE GULF</td>\n      <td>COMPRESSION</td>\n      <td>26.0800</td>\n      <td>49.8100</td>\n      <td>SAUDI ARAMCO</td>\n      <td>ONSHORE</td>\n      <td>OIL</td>\n      <td>REJUVENATING</td>\n      <td>FORELAND</td>\n      <td>1815.0</td>\n      <td>JURASSIC</td>\n      <td>LIMESTONE</td>\n      <td>75.0</td>\n      <td>55.2</td>\n      <td>21.0</td>\n      <td>410.0</td>\n    </tr>\n    <tr>\n      <th>1</th>\n      <td>ABU GHARADIG</td>\n      <td>BAHARIYA</td>\n      <td>EGYPT</td>\n      <td>AFRICA</td>\n      <td>ABU GHARADIG</td>\n      <td>EXTENSION</td>\n      <td>29.7422</td>\n      <td>28.4925</td>\n      <td>GUPCO</td>\n      <td>ONSHORE</td>\n      <td>GAS-CONDENSATE</td>\n      <td>MATURE PRODUCTION</td>\n      <td>RIFT</td>\n      <td>3084.6</td>\n      <td>CRETACEOUS</td>\n      <td>SANDSTONE</td>\n      <td>223.5</td>\n      <td>43.2</td>\n      <td>10.0</td>\n      <td>8.0</td>\n    </tr>\n    <tr>\n      <th>2</th>\n      <td>ABU MADI-EL QARA</td>\n      <td>ABU MADI (LEVEL II)</td>\n      <td>EGYPT</td>\n      <td>AFRICA</td>\n      <td>NILE DELTA</td>\n      <td>STRIKE-SLIP</td>\n      <td>31.4382</td>\n      <td>31.3616</td>\n      <td>IEOC</td>\n      <td>ONSHORE</td>\n      <td>GAS</td>\n      <td>DECLINING PRODUCTION</td>\n      <td>WRENCH</td>\n      <td>2952.9</td>\n      <td>NEOGENE</td>\n      <td>THINLY-BEDDED SANDSTONE</td>\n      <td>34.5</td>\n      <td>19.8</td>\n      <td>22.0</td>\n      <td>200.0</td>\n    </tr>\n    <tr>\n      <th>3</th>\n      <td>ABU MADI-EL QARA</td>\n      <td>ABU MADI (LEVEL III)</td>\n      <td>EGYPT</td>\n      <td>AFRICA</td>\n      <td>NILE DELTA</td>\n      <td>STRIKE-SLIP</td>\n      <td>31.4382</td>\n      <td>31.3616</td>\n      <td>IEOC</td>\n      <td>ONSHORE</td>\n      <td>GAS</td>\n      <td>DECLINING PRODUCTION</td>\n      <td>WRENCH</td>\n      <td>3149.7</td>\n      <td>NEOGENE</td>\n      <td>SANDSTONE</td>\n      <td>152.7</td>\n      <td>123.0</td>\n      <td>20.0</td>\n      <td>300.0</td>\n    </tr>\n    <tr>\n      <th>4</th>\n      <td>AL HUWAISAH</td>\n      <td>SHUAIBA</td>\n      <td>OMAN</td>\n      <td>MIDDLE EAST</td>\n      <td>FAHUD SALT</td>\n      <td>COMPRESSION</td>\n      <td>21.9607</td>\n      <td>56.0452</td>\n      <td>PDO</td>\n      <td>ONSHORE</td>\n      <td>OIL</td>\n      <td>REJUVENATING</td>\n      <td>SALT</td>\n      <td>1486.5</td>\n      <td>CRETACEOUS</td>\n      <td>LIMESTONE</td>\n      <td>75.0</td>\n      <td>30.0</td>\n      <td>21.0</td>\n      <td>60.0</td>\n    </tr>\n    <tr>\n      <th>5</th>\n      <td>ALABAMA FERRY</td>\n      <td>UPPER GLEN ROSE D ZONE</td>\n      <td>USA</td>\n      <td>NORTH AMERICA</td>\n      <td>GULF OF MEXICO NORTHERN ONSHORE</td>\n      <td>GRAVITY</td>\n      <td>31.2143</td>\n      <td>-95.7981</td>\n      <td>NUMEROUS</td>\n      <td>ONSHORE</td>\n      <td>OIL</td>\n      <td>MATURE PRODUCTION</td>\n      <td>PASSIVE MARGIN</td>\n      <td>2610.0</td>\n      <td>CRETACEOUS</td>\n      <td>LIMESTONE</td>\n      <td>28.5</td>\n      <td>4.5</td>\n      <td>12.0</td>\n      <td>20.0</td>\n    </tr>\n    <tr>\n      <th>6</th>\n      <td>ALBA</td>\n      <td>ALBA</td>\n      <td>UK</td>\n      <td>EUROPE</td>\n      <td>NORTH SEA CENTRAL</td>\n      <td>NaN</td>\n      <td>58.0692</td>\n      <td>1.0784</td>\n      <td>CHEVRON</td>\n      <td>OFFSHORE</td>\n      <td>OIL</td>\n      <td>DECLINING PRODUCTION</td>\n      <td>RIFT</td>\n      <td>1692.6</td>\n      <td>PALEOGENE</td>\n      <td>THINLY-BEDDED SANDSTONE</td>\n      <td>90.0</td>\n      <td>81.0</td>\n      <td>NaN</td>\n      <td>3500.0</td>\n    </tr>\n    <tr>\n      <th>7</th>\n      <td>ALBION-SCIPIO</td>\n      <td>TRENTON-BLACK RIVER</td>\n      <td>USA</td>\n      <td>NORTH AMERICA</td>\n      <td>MICHIGAN</td>\n      <td>NaN</td>\n      <td>41.9937</td>\n      <td>-84.6016</td>\n      <td>NUMEROUS</td>\n      <td>ONSHORE</td>\n      <td>OIL</td>\n      <td>NEARLY DEPLETED</td>\n      <td>INTRACRATONIC</td>\n      <td>1140.0</td>\n      <td>ORDOVICIAN</td>\n      <td>DOLOMITE</td>\n      <td>180.0</td>\n      <td>120.0</td>\n      <td>NaN</td>\n      <td>10.0</td>\n    </tr>\n    <tr>\n      <th>8</th>\n      <td>ALIBEKMOLA</td>\n      <td>KT I</td>\n      <td>KAZAKHSTAN</td>\n      <td>FORMER SOVIET UNION</td>\n      <td>CASPIAN NORTH</td>\n      <td>COMPRESSION</td>\n      <td>48.4740</td>\n      <td>57.6667</td>\n      <td>KAZAKHOIL AKTOBE</td>\n      <td>ONSHORE</td>\n      <td>OIL</td>\n      <td>DEVELOPING</td>\n      <td>SUB-SALT</td>\n      <td>1800.0</td>\n      <td>CARBONIFEROUS</td>\n      <td>LIMESTONE</td>\n      <td>90.0</td>\n      <td>31.5</td>\n      <td>10.0</td>\n      <td>20.0</td>\n    </tr>\n    <tr>\n      <th>9</th>\n      <td>ALIBEKMOLA</td>\n      <td>KT II</td>\n      <td>KAZAKHSTAN</td>\n      <td>FORMER SOVIET UNION</td>\n      <td>CASPIAN NORTH</td>\n      <td>COMPRESSION</td>\n      <td>48.4740</td>\n      <td>57.6667</td>\n      <td>KAZAKHOIL AKTOBE</td>\n      <td>ONSHORE</td>\n      <td>OIL</td>\n      <td>DEVELOPING</td>\n      <td>SUB-SALT</td>\n      <td>2874.0</td>\n      <td>CARBONIFEROUS</td>\n      <td>LIMESTONE</td>\n      <td>182.1</td>\n      <td>32.4</td>\n      <td>10.0</td>\n      <td>20.0</td>\n    </tr>\n  </tbody>\n</table>\n</div>"
     },
     "metadata": {},
     "execution_count": 3
    }
   ],
   "source": [
    "geo = pd.read_csv('../datasets/hackathon_processed.csv')\n",
    "geo.head(10)"
   ]
  },
  {
   "cell_type": "code",
   "execution_count": 4,
   "metadata": {},
   "outputs": [],
   "source": [
    "columns = ['Tectonic regime', 'Period', 'Lithology', 'Structural setting', 'Hydrocarbon type', 'Gross','Netpay','Porosity','Permeability', 'Depth']\n",
    "geo = geo[columns]\n",
    "geo.dropna(inplace=True)\n",
    "geo.reset_index(inplace=True, drop=True)"
   ]
  },
  {
   "cell_type": "code",
   "execution_count": 5,
   "metadata": {},
   "outputs": [],
   "source": [
    "geo_coded, label_coder = code_categories(geo, 'label', ['Tectonic regime', 'Period', 'Lithology', 'Structural setting', 'Hydrocarbon type'])"
   ]
  },
  {
   "cell_type": "code",
   "execution_count": 6,
   "metadata": {},
   "outputs": [],
   "source": [
    "geo_discrete, coder = discretization(geo_coded, 'equal_frequency', ['Gross','Netpay','Porosity','Permeability', 'Depth'])"
   ]
  },
  {
   "cell_type": "code",
   "execution_count": 7,
   "metadata": {},
   "outputs": [],
   "source": [
    "geo_only_discrete, discrete_coder = discretization(geo, 'equal_frequency', ['Gross','Netpay','Porosity','Permeability', 'Depth'])"
   ]
  },
  {
   "cell_type": "code",
   "execution_count": 8,
   "metadata": {},
   "outputs": [
    {
     "output_type": "execute_result",
     "data": {
      "text/plain": [
       "{'Tectonic regime': 'disc',\n",
       " 'Period': 'disc',\n",
       " 'Lithology': 'disc',\n",
       " 'Structural setting': 'disc',\n",
       " 'Hydrocarbon type': 'disc',\n",
       " 'Gross': 'cont',\n",
       " 'Netpay': 'cont',\n",
       " 'Porosity': 'cont',\n",
       " 'Permeability': 'cont',\n",
       " 'Depth': 'cont'}"
      ]
     },
     "metadata": {},
     "execution_count": 8
    }
   ],
   "source": [
    "geo_nodes = get_nodes_type(geo)\n",
    "geo_nodes"
   ]
  },
  {
   "cell_type": "code",
   "execution_count": 9,
   "metadata": {},
   "outputs": [
    {
     "output_type": "stream",
     "name": "stdout",
     "text": [
      "Cannot add to history: 'str' object has no attribute 'operation_type'\n",
      "Best metric is -3591.5064026006676\n",
      "Generation num: 0\n",
      "max_depth: 3, no improvements: 0\n",
      "Number of crossover attempts exceeded. Please check composer requirements for correctness.\n",
      "Number of crossover attempts exceeded. Please check composer requirements for correctness.\n",
      "Cannot add to history: 'str' object has no attribute 'operation_type'\n",
      "spent time: 0.0 min\n",
      "Best metric is -3935.2377147540956\n",
      "Generation num: 1\n",
      "max_depth: 3, no improvements: 0\n",
      "Number of mutation attempts exceeded. Please check composer requirements for correctness.\n",
      "Cannot add to history: 'str' object has no attribute 'operation_type'\n",
      "spent time: 0.1 min\n",
      "Best metric is -4297.134510683069\n",
      "Generation num: 2\n",
      "max_depth: 3, no improvements: 0\n",
      "Number of mutation attempts exceeded. Please check composer requirements for correctness.\n",
      "Cannot add to history: 'str' object has no attribute 'operation_type'\n",
      "spent time: 0.1 min\n",
      "Best metric is -4297.134510683069\n",
      "Generation num: 3\n",
      "max_depth: 3, no improvements: 1\n",
      "Cannot add to history: 'str' object has no attribute 'operation_type'\n",
      "spent time: 0.2 min\n",
      "Best metric is -4323.080277637172\n",
      "Generation num: 4\n",
      "max_depth: 3, no improvements: 0\n",
      "Cannot add to history: 'str' object has no attribute 'operation_type'\n",
      "spent time: 0.2 min\n",
      "Best metric is -4323.080277637172\n",
      "Generation num: 5\n",
      "max_depth: 3, no improvements: 1\n",
      "Cannot add to history: 'str' object has no attribute 'operation_type'\n",
      "spent time: 0.3 min\n",
      "Best metric is -4323.080277637172\n",
      "Generation num: 6\n",
      "max_depth: 3, no improvements: 2\n",
      "Cannot add to history: 'str' object has no attribute 'operation_type'\n",
      "spent time: 0.4 min\n",
      "Best metric is -4323.080277637172\n",
      "Generation num: 7\n",
      "max_depth: 3, no improvements: 3\n",
      "Number of mutation attempts exceeded. Please check composer requirements for correctness.\n",
      "Cannot add to history: 'str' object has no attribute 'operation_type'\n",
      "spent time: 0.4 min\n",
      "Best metric is -4323.080277637172\n",
      "Generation num: 8\n",
      "max_depth: 3, no improvements: 4\n",
      "Cannot add to history: 'str' object has no attribute 'operation_type'\n",
      "spent time: 0.5 min\n",
      "Best metric is -4323.080277637172\n",
      "Generation num: 9\n",
      "max_depth: 3, no improvements: 5\n",
      "Cannot add to history: 'str' object has no attribute 'operation_type'\n",
      "spent time: 0.5 min\n",
      "Best metric is -4323.080277637172\n",
      "Generation num: 10\n",
      "max_depth: 3, no improvements: 6\n",
      "Number of mutation attempts exceeded. Please check composer requirements for correctness.\n",
      "Cannot add to history: 'str' object has no attribute 'operation_type'\n",
      "spent time: 0.6 min\n",
      "Best metric is -4323.080277637172\n",
      "Generation num: 11\n",
      "max_depth: 3, no improvements: 7\n",
      "Cannot add to history: 'str' object has no attribute 'operation_type'\n",
      "spent time: 0.6 min\n",
      "Best metric is -4323.080277637172\n",
      "Generation num: 12\n",
      "max_depth: 3, no improvements: 8\n",
      "Cannot add to history: 'str' object has no attribute 'operation_type'\n",
      "spent time: 0.7 min\n",
      "Best metric is -4323.080277637172\n",
      "Generation num: 13\n",
      "max_depth: 3, no improvements: 9\n",
      "Number of mutation attempts exceeded. Please check composer requirements for correctness.\n",
      "Cannot add to history: 'str' object has no attribute 'operation_type'\n",
      "spent time: 0.7 min\n",
      "Best metric is -4323.080277637172\n",
      "Generation num: 14\n",
      "max_depth: 3, no improvements: 10\n",
      "Cannot add to history: 'str' object has no attribute 'operation_type'\n",
      "spent time: 0.8 min\n",
      "Best metric is -5169.405367685336\n",
      "Generation num: 15\n",
      "max_depth: 3, no improvements: 0\n",
      "Composition time: 0.778 min\n",
      "ERROR:root:Internal Python error in the inspect module.\n",
      "Below is the traceback from this internal error.\n",
      "\n",
      "Traceback (most recent call last):\n",
      "  File \"C:\\Users\\anaxa\\AppData\\Roaming\\Python\\Python38\\site-packages\\IPython\\core\\interactiveshell.py\", line 3437, in run_code\n",
      "    exec(code_obj, self.user_global_ns, self.user_ns)\n",
      "  File \"<ipython-input-9-b92e90ca94ad>\", line 1, in <module>\n",
      "    bn_geo = structure_learning(geo_discrete, 'evo', 'K2', geo_nodes)\n",
      "  File \"c:\\Users\\anaxa\\Documents\\Projects\\Mixed-Learning-of-Bayesian-Networks\\bayesian\\train_bn.py\", line 350, in structure_learning\n",
      "    chain = run_bayesian_K2(data)\n",
      "  File \"c:\\Users\\anaxa\\Documents\\Projects\\Mixed-Learning-of-Bayesian-Networks\\bayesian\\train_bn.py\", line 167, in run_bayesian_K2\n",
      "    optimized_network = optimizer.optimise(partial(k2_metric, data=data))\n",
      "  File \"c:\\Users\\anaxa\\Documents\\Projects\\Mixed-Learning-of-Bayesian-Networks\\fedot\\core\\composer\\optimisers\\gp_comp\\gp_optimiser.py\", line 192, in optimise\n",
      "    new_population += self.reproduce(selected_individuals[parent_num],\n",
      "  File \"c:\\Users\\anaxa\\Documents\\Projects\\Mixed-Learning-of-Bayesian-Networks\\fedot\\core\\composer\\optimisers\\gp_comp\\gp_optimiser.py\", line 299, in reproduce\n",
      "    new_inds = tuple([mutation(types=self.parameters.mutation_types,\n",
      "  File \"c:\\Users\\anaxa\\Documents\\Projects\\Mixed-Learning-of-Bayesian-Networks\\fedot\\core\\composer\\optimisers\\gp_comp\\gp_optimiser.py\", line 299, in <listcomp>\n",
      "    new_inds = tuple([mutation(types=self.parameters.mutation_types,\n",
      "  File \"c:\\Users\\anaxa\\Documents\\Projects\\Mixed-Learning-of-Bayesian-Networks\\fedot\\core\\composer\\optimisers\\gp_comp\\operators\\mutation.py\", line 61, in mutation\n",
      "    new_chain = mutation_by_type[mutation_type](chain=deepcopy(chain), requirements=requirements,\n",
      "  File \"c:\\Users\\anaxa\\Documents\\Projects\\Mixed-Learning-of-Bayesian-Networks\\fedot\\core\\composer\\optimisers\\gp_comp\\operators\\mutation.py\", line 123, in growth_mutation\n",
      "    new_subtree = random_chain(chain_generation_params=chain_generation_params, requirements=requirements,\n",
      "  File \"c:\\Users\\anaxa\\Documents\\Projects\\Mixed-Learning-of-Bayesian-Networks\\fedot\\core\\composer\\optimisers\\gp_comp\\gp_operators.py\", line 69, in random_chain\n",
      "    chain = chain_class()\n",
      "  File \"c:\\Users\\anaxa\\Documents\\Projects\\Mixed-Learning-of-Bayesian-Networks\\fedot\\core\\chains\\graph.py\", line 31, in __init__\n",
      "    self.log = default_log(__name__)\n",
      "  File \"c:\\Users\\anaxa\\Documents\\Projects\\Mixed-Learning-of-Bayesian-Networks\\fedot\\core\\log.py\", line 93, in default_log\n",
      "    log_file = os.path.join(default_fedot_data_dir(), 'log.log')\n",
      "  File \"c:\\Users\\anaxa\\Documents\\Projects\\Mixed-Learning-of-Bayesian-Networks\\fedot\\core\\utils.py\", line 20, in default_fedot_data_dir\n",
      "    if 'Fedot' not in os.listdir(str(Path.home())):\n",
      "KeyboardInterrupt\n",
      "\n",
      "During handling of the above exception, another exception occurred:\n",
      "\n",
      "Traceback (most recent call last):\n",
      "  File \"C:\\Users\\anaxa\\AppData\\Roaming\\Python\\Python38\\site-packages\\IPython\\core\\interactiveshell.py\", line 2061, in showtraceback\n",
      "    stb = value._render_traceback_()\n",
      "AttributeError: 'KeyboardInterrupt' object has no attribute '_render_traceback_'\n",
      "\n",
      "During handling of the above exception, another exception occurred:\n",
      "\n",
      "Traceback (most recent call last):\n",
      "  File \"C:\\Users\\anaxa\\AppData\\Roaming\\Python\\Python38\\site-packages\\IPython\\core\\ultratb.py\", line 1101, in get_records\n",
      "    return _fixed_getinnerframes(etb, number_of_lines_of_context, tb_offset)\n",
      "  File \"C:\\Users\\anaxa\\AppData\\Roaming\\Python\\Python38\\site-packages\\IPython\\core\\ultratb.py\", line 248, in wrapped\n",
      "    return f(*args, **kwargs)\n",
      "  File \"C:\\Users\\anaxa\\AppData\\Roaming\\Python\\Python38\\site-packages\\IPython\\core\\ultratb.py\", line 281, in _fixed_getinnerframes\n",
      "    records = fix_frame_records_filenames(inspect.getinnerframes(etb, context))\n",
      "  File \"C:\\Users\\anaxa\\AppData\\Local\\Programs\\Python\\Python38\\lib\\inspect.py\", line 1515, in getinnerframes\n",
      "    frameinfo = (tb.tb_frame,) + getframeinfo(tb, context)\n",
      "  File \"C:\\Users\\anaxa\\AppData\\Local\\Programs\\Python\\Python38\\lib\\inspect.py\", line 1473, in getframeinfo\n",
      "    filename = getsourcefile(frame) or getfile(frame)\n",
      "  File \"C:\\Users\\anaxa\\AppData\\Local\\Programs\\Python\\Python38\\lib\\inspect.py\", line 708, in getsourcefile\n",
      "    if getattr(getmodule(object, filename), '__loader__', None) is not None:\n",
      "  File \"C:\\Users\\anaxa\\AppData\\Local\\Programs\\Python\\Python38\\lib\\inspect.py\", line 754, in getmodule\n",
      "    os.path.realpath(f)] = module.__name__\n",
      "  File \"C:\\Users\\anaxa\\AppData\\Local\\Programs\\Python\\Python38\\lib\\ntpath.py\", line 647, in realpath\n",
      "    path = _getfinalpathname(path)\n",
      "KeyboardInterrupt\n"
     ]
    },
    {
     "output_type": "error",
     "ename": "TypeError",
     "evalue": "object of type 'NoneType' has no len()",
     "traceback": [
      "\u001b[1;31m---------------------------------------------------------------------------\u001b[0m",
      "\u001b[1;31mKeyboardInterrupt\u001b[0m                         Traceback (most recent call last)",
      "    \u001b[1;31m[... skipping hidden 1 frame]\u001b[0m\n",
      "\u001b[1;32m<ipython-input-9-b92e90ca94ad>\u001b[0m in \u001b[0;36m<module>\u001b[1;34m\u001b[0m\n\u001b[1;32m----> 1\u001b[1;33m \u001b[0mbn_geo\u001b[0m \u001b[1;33m=\u001b[0m \u001b[0mstructure_learning\u001b[0m\u001b[1;33m(\u001b[0m\u001b[0mgeo_discrete\u001b[0m\u001b[1;33m,\u001b[0m \u001b[1;34m'evo'\u001b[0m\u001b[1;33m,\u001b[0m \u001b[1;34m'K2'\u001b[0m\u001b[1;33m,\u001b[0m \u001b[0mgeo_nodes\u001b[0m\u001b[1;33m)\u001b[0m\u001b[1;33m\u001b[0m\u001b[1;33m\u001b[0m\u001b[0m\n\u001b[0m",
      "\u001b[1;32mc:\\Users\\anaxa\\Documents\\Projects\\Mixed-Learning-of-Bayesian-Networks\\bayesian\\train_bn.py\u001b[0m in \u001b[0;36mstructure_learning\u001b[1;34m(data, search, score, node_type, init_nodes, white_list, init_edges, remove_init_edges, black_list)\u001b[0m\n\u001b[0;32m    349\u001b[0m         \u001b[1;32mif\u001b[0m \u001b[0mscore\u001b[0m \u001b[1;33m==\u001b[0m \u001b[1;34m\"K2\"\u001b[0m\u001b[1;33m:\u001b[0m\u001b[1;33m\u001b[0m\u001b[1;33m\u001b[0m\u001b[0m\n\u001b[1;32m--> 350\u001b[1;33m             \u001b[0mchain\u001b[0m \u001b[1;33m=\u001b[0m \u001b[0mrun_bayesian_K2\u001b[0m\u001b[1;33m(\u001b[0m\u001b[0mdata\u001b[0m\u001b[1;33m)\u001b[0m\u001b[1;33m\u001b[0m\u001b[1;33m\u001b[0m\u001b[0m\n\u001b[0m\u001b[0;32m    351\u001b[0m             \u001b[0mgraph\u001b[0m\u001b[1;33m,\u001b[0m \u001b[0mlabels\u001b[0m \u001b[1;33m=\u001b[0m \u001b[0mchain_as_nx_graph\u001b[0m\u001b[1;33m(\u001b[0m\u001b[0mchain\u001b[0m\u001b[1;33m)\u001b[0m\u001b[1;33m\u001b[0m\u001b[1;33m\u001b[0m\u001b[0m\n",
      "\u001b[1;32mc:\\Users\\anaxa\\Documents\\Projects\\Mixed-Learning-of-Bayesian-Networks\\bayesian\\train_bn.py\u001b[0m in \u001b[0;36mrun_bayesian_K2\u001b[1;34m(data, max_lead_time)\u001b[0m\n\u001b[0;32m    166\u001b[0m \u001b[1;33m\u001b[0m\u001b[0m\n\u001b[1;32m--> 167\u001b[1;33m     \u001b[0moptimized_network\u001b[0m \u001b[1;33m=\u001b[0m \u001b[0moptimizer\u001b[0m\u001b[1;33m.\u001b[0m\u001b[0moptimise\u001b[0m\u001b[1;33m(\u001b[0m\u001b[0mpartial\u001b[0m\u001b[1;33m(\u001b[0m\u001b[0mk2_metric\u001b[0m\u001b[1;33m,\u001b[0m \u001b[0mdata\u001b[0m\u001b[1;33m=\u001b[0m\u001b[0mdata\u001b[0m\u001b[1;33m)\u001b[0m\u001b[1;33m)\u001b[0m\u001b[1;33m\u001b[0m\u001b[1;33m\u001b[0m\u001b[0m\n\u001b[0m\u001b[0;32m    168\u001b[0m \u001b[1;33m\u001b[0m\u001b[0m\n",
      "\u001b[1;32mc:\\Users\\anaxa\\Documents\\Projects\\Mixed-Learning-of-Bayesian-Networks\\fedot\\core\\composer\\optimisers\\gp_comp\\gp_optimiser.py\u001b[0m in \u001b[0;36moptimise\u001b[1;34m(self, objective_function, offspring_rate, on_next_iteration_callback)\u001b[0m\n\u001b[0;32m    191\u001b[0m                 \u001b[1;32mfor\u001b[0m \u001b[0mparent_num\u001b[0m \u001b[1;32min\u001b[0m \u001b[0mrange\u001b[0m\u001b[1;33m(\u001b[0m\u001b[1;36m0\u001b[0m\u001b[1;33m,\u001b[0m \u001b[0mlen\u001b[0m\u001b[1;33m(\u001b[0m\u001b[0mselected_individuals\u001b[0m\u001b[1;33m)\u001b[0m\u001b[1;33m,\u001b[0m \u001b[1;36m2\u001b[0m\u001b[1;33m)\u001b[0m\u001b[1;33m:\u001b[0m\u001b[1;33m\u001b[0m\u001b[1;33m\u001b[0m\u001b[0m\n\u001b[1;32m--> 192\u001b[1;33m                     new_population += self.reproduce(selected_individuals[parent_num],\n\u001b[0m\u001b[0;32m    193\u001b[0m                                                      selected_individuals[parent_num + 1])\n",
      "\u001b[1;32mc:\\Users\\anaxa\\Documents\\Projects\\Mixed-Learning-of-Bayesian-Networks\\fedot\\core\\composer\\optimisers\\gp_comp\\gp_optimiser.py\u001b[0m in \u001b[0;36mreproduce\u001b[1;34m(self, selected_individual_first, selected_individual_second)\u001b[0m\n\u001b[0;32m    298\u001b[0m \u001b[1;33m\u001b[0m\u001b[0m\n\u001b[1;32m--> 299\u001b[1;33m         new_inds = tuple([mutation(types=self.parameters.mutation_types,\n\u001b[0m\u001b[0;32m    300\u001b[0m                                    \u001b[0mchain_generation_params\u001b[0m\u001b[1;33m=\u001b[0m\u001b[0mself\u001b[0m\u001b[1;33m.\u001b[0m\u001b[0mchain_generation_params\u001b[0m\u001b[1;33m,\u001b[0m\u001b[1;33m\u001b[0m\u001b[1;33m\u001b[0m\u001b[0m\n",
      "\u001b[1;32mc:\\Users\\anaxa\\Documents\\Projects\\Mixed-Learning-of-Bayesian-Networks\\fedot\\core\\composer\\optimisers\\gp_comp\\gp_optimiser.py\u001b[0m in \u001b[0;36m<listcomp>\u001b[1;34m(.0)\u001b[0m\n\u001b[0;32m    298\u001b[0m \u001b[1;33m\u001b[0m\u001b[0m\n\u001b[1;32m--> 299\u001b[1;33m         new_inds = tuple([mutation(types=self.parameters.mutation_types,\n\u001b[0m\u001b[0;32m    300\u001b[0m                                    \u001b[0mchain_generation_params\u001b[0m\u001b[1;33m=\u001b[0m\u001b[0mself\u001b[0m\u001b[1;33m.\u001b[0m\u001b[0mchain_generation_params\u001b[0m\u001b[1;33m,\u001b[0m\u001b[1;33m\u001b[0m\u001b[1;33m\u001b[0m\u001b[0m\n",
      "\u001b[1;32mc:\\Users\\anaxa\\Documents\\Projects\\Mixed-Learning-of-Bayesian-Networks\\fedot\\core\\composer\\optimisers\\gp_comp\\operators\\mutation.py\u001b[0m in \u001b[0;36mmutation\u001b[1;34m(types, chain_generation_params, chain, requirements, log, max_depth)\u001b[0m\n\u001b[0;32m     60\u001b[0m             \u001b[1;32mfor\u001b[0m \u001b[0m_\u001b[0m \u001b[1;32min\u001b[0m \u001b[0mrange\u001b[0m\u001b[1;33m(\u001b[0m\u001b[0mMAX_NUM_OF_ATTEMPTS\u001b[0m\u001b[1;33m)\u001b[0m\u001b[1;33m:\u001b[0m\u001b[1;33m\u001b[0m\u001b[1;33m\u001b[0m\u001b[0m\n\u001b[1;32m---> 61\u001b[1;33m                 new_chain = mutation_by_type[mutation_type](chain=deepcopy(chain), requirements=requirements,\n\u001b[0m\u001b[0;32m     62\u001b[0m                                                             \u001b[0mchain_generation_params\u001b[0m\u001b[1;33m=\u001b[0m\u001b[0mchain_generation_params\u001b[0m\u001b[1;33m,\u001b[0m\u001b[1;33m\u001b[0m\u001b[1;33m\u001b[0m\u001b[0m\n",
      "\u001b[1;32mc:\\Users\\anaxa\\Documents\\Projects\\Mixed-Learning-of-Bayesian-Networks\\fedot\\core\\composer\\optimisers\\gp_comp\\operators\\mutation.py\u001b[0m in \u001b[0;36mgrowth_mutation\u001b[1;34m(chain, requirements, chain_generation_params, max_depth, local_growth)\u001b[0m\n\u001b[0;32m    122\u001b[0m             \u001b[0mmax_depth\u001b[0m \u001b[1;33m=\u001b[0m \u001b[0mmax_depth\u001b[0m \u001b[1;33m-\u001b[0m \u001b[0mnode_height\u001b[0m\u001b[1;33m(\u001b[0m\u001b[0mchain\u001b[0m\u001b[1;33m,\u001b[0m \u001b[0mnode_from_chain\u001b[0m\u001b[1;33m)\u001b[0m\u001b[1;33m\u001b[0m\u001b[1;33m\u001b[0m\u001b[0m\n\u001b[1;32m--> 123\u001b[1;33m         new_subtree = random_chain(chain_generation_params=chain_generation_params, requirements=requirements,\n\u001b[0m\u001b[0;32m    124\u001b[0m                                    max_depth=max_depth).root_node\n",
      "\u001b[1;32mc:\\Users\\anaxa\\Documents\\Projects\\Mixed-Learning-of-Bayesian-Networks\\fedot\\core\\composer\\optimisers\\gp_comp\\gp_operators.py\u001b[0m in \u001b[0;36mrandom_chain\u001b[1;34m(chain_generation_params, requirements, max_depth)\u001b[0m\n\u001b[0;32m     68\u001b[0m     \u001b[1;32mwhile\u001b[0m \u001b[1;32mnot\u001b[0m \u001b[0mis_correct_chain\u001b[0m\u001b[1;33m:\u001b[0m\u001b[1;33m\u001b[0m\u001b[1;33m\u001b[0m\u001b[0m\n\u001b[1;32m---> 69\u001b[1;33m         \u001b[0mchain\u001b[0m \u001b[1;33m=\u001b[0m \u001b[0mchain_class\u001b[0m\u001b[1;33m(\u001b[0m\u001b[1;33m)\u001b[0m\u001b[1;33m\u001b[0m\u001b[1;33m\u001b[0m\u001b[0m\n\u001b[0m\u001b[0;32m     70\u001b[0m         \u001b[0mchain_root\u001b[0m \u001b[1;33m=\u001b[0m \u001b[0msecondary_node_func\u001b[0m\u001b[1;33m(\u001b[0m\u001b[0moperation_type\u001b[0m\u001b[1;33m=\u001b[0m\u001b[0mchoice\u001b[0m\u001b[1;33m(\u001b[0m\u001b[0mrequirements\u001b[0m\u001b[1;33m.\u001b[0m\u001b[0msecondary\u001b[0m\u001b[1;33m)\u001b[0m\u001b[1;33m)\u001b[0m\u001b[1;33m\u001b[0m\u001b[1;33m\u001b[0m\u001b[0m\n",
      "\u001b[1;32mc:\\Users\\anaxa\\Documents\\Projects\\Mixed-Learning-of-Bayesian-Networks\\fedot\\core\\chains\\graph.py\u001b[0m in \u001b[0;36m__init__\u001b[1;34m(self, nodes, log)\u001b[0m\n\u001b[0;32m     30\u001b[0m         \u001b[1;32mif\u001b[0m \u001b[1;32mnot\u001b[0m \u001b[0mlog\u001b[0m\u001b[1;33m:\u001b[0m\u001b[1;33m\u001b[0m\u001b[1;33m\u001b[0m\u001b[0m\n\u001b[1;32m---> 31\u001b[1;33m             \u001b[0mself\u001b[0m\u001b[1;33m.\u001b[0m\u001b[0mlog\u001b[0m \u001b[1;33m=\u001b[0m \u001b[0mdefault_log\u001b[0m\u001b[1;33m(\u001b[0m\u001b[0m__name__\u001b[0m\u001b[1;33m)\u001b[0m\u001b[1;33m\u001b[0m\u001b[1;33m\u001b[0m\u001b[0m\n\u001b[0m\u001b[0;32m     32\u001b[0m         \u001b[1;32melse\u001b[0m\u001b[1;33m:\u001b[0m\u001b[1;33m\u001b[0m\u001b[1;33m\u001b[0m\u001b[0m\n",
      "\u001b[1;32mc:\\Users\\anaxa\\Documents\\Projects\\Mixed-Learning-of-Bayesian-Networks\\fedot\\core\\log.py\u001b[0m in \u001b[0;36mdefault_log\u001b[1;34m(logger_name, log_file, verbose_level)\u001b[0m\n\u001b[0;32m     92\u001b[0m     \u001b[1;32mif\u001b[0m \u001b[1;32mnot\u001b[0m \u001b[0mlog_file\u001b[0m\u001b[1;33m:\u001b[0m\u001b[1;33m\u001b[0m\u001b[1;33m\u001b[0m\u001b[0m\n\u001b[1;32m---> 93\u001b[1;33m         \u001b[0mlog_file\u001b[0m \u001b[1;33m=\u001b[0m \u001b[0mos\u001b[0m\u001b[1;33m.\u001b[0m\u001b[0mpath\u001b[0m\u001b[1;33m.\u001b[0m\u001b[0mjoin\u001b[0m\u001b[1;33m(\u001b[0m\u001b[0mdefault_fedot_data_dir\u001b[0m\u001b[1;33m(\u001b[0m\u001b[1;33m)\u001b[0m\u001b[1;33m,\u001b[0m \u001b[1;34m'log.log'\u001b[0m\u001b[1;33m)\u001b[0m\u001b[1;33m\u001b[0m\u001b[1;33m\u001b[0m\u001b[0m\n\u001b[0m\u001b[0;32m     94\u001b[0m     log = Log(logger_name=logger_name,\n",
      "\u001b[1;32mc:\\Users\\anaxa\\Documents\\Projects\\Mixed-Learning-of-Bayesian-Networks\\fedot\\core\\utils.py\u001b[0m in \u001b[0;36mdefault_fedot_data_dir\u001b[1;34m()\u001b[0m\n\u001b[0;32m     19\u001b[0m     \u001b[0mdefault_data_path\u001b[0m \u001b[1;33m=\u001b[0m \u001b[0mos\u001b[0m\u001b[1;33m.\u001b[0m\u001b[0mpath\u001b[0m\u001b[1;33m.\u001b[0m\u001b[0mjoin\u001b[0m\u001b[1;33m(\u001b[0m\u001b[0mstr\u001b[0m\u001b[1;33m(\u001b[0m\u001b[0mPath\u001b[0m\u001b[1;33m.\u001b[0m\u001b[0mhome\u001b[0m\u001b[1;33m(\u001b[0m\u001b[1;33m)\u001b[0m\u001b[1;33m)\u001b[0m\u001b[1;33m,\u001b[0m \u001b[1;34m'Fedot'\u001b[0m\u001b[1;33m)\u001b[0m\u001b[1;33m\u001b[0m\u001b[1;33m\u001b[0m\u001b[0m\n\u001b[1;32m---> 20\u001b[1;33m     \u001b[1;32mif\u001b[0m \u001b[1;34m'Fedot'\u001b[0m \u001b[1;32mnot\u001b[0m \u001b[1;32min\u001b[0m \u001b[0mos\u001b[0m\u001b[1;33m.\u001b[0m\u001b[0mlistdir\u001b[0m\u001b[1;33m(\u001b[0m\u001b[0mstr\u001b[0m\u001b[1;33m(\u001b[0m\u001b[0mPath\u001b[0m\u001b[1;33m.\u001b[0m\u001b[0mhome\u001b[0m\u001b[1;33m(\u001b[0m\u001b[1;33m)\u001b[0m\u001b[1;33m)\u001b[0m\u001b[1;33m)\u001b[0m\u001b[1;33m:\u001b[0m\u001b[1;33m\u001b[0m\u001b[1;33m\u001b[0m\u001b[0m\n\u001b[0m\u001b[0;32m     21\u001b[0m         \u001b[0mos\u001b[0m\u001b[1;33m.\u001b[0m\u001b[0mmkdir\u001b[0m\u001b[1;33m(\u001b[0m\u001b[0mdefault_data_path\u001b[0m\u001b[1;33m)\u001b[0m\u001b[1;33m\u001b[0m\u001b[1;33m\u001b[0m\u001b[0m\n",
      "\u001b[1;31mKeyboardInterrupt\u001b[0m: ",
      "\nDuring handling of the above exception, another exception occurred:\n",
      "\u001b[1;31mAttributeError\u001b[0m                            Traceback (most recent call last)",
      "\u001b[1;32m~\\AppData\\Roaming\\Python\\Python38\\site-packages\\IPython\\core\\interactiveshell.py\u001b[0m in \u001b[0;36mshowtraceback\u001b[1;34m(self, exc_tuple, filename, tb_offset, exception_only, running_compiled_code)\u001b[0m\n\u001b[0;32m   2060\u001b[0m                         \u001b[1;31m# in the engines. This should return a list of strings.\u001b[0m\u001b[1;33m\u001b[0m\u001b[1;33m\u001b[0m\u001b[1;33m\u001b[0m\u001b[0m\n\u001b[1;32m-> 2061\u001b[1;33m                         \u001b[0mstb\u001b[0m \u001b[1;33m=\u001b[0m \u001b[0mvalue\u001b[0m\u001b[1;33m.\u001b[0m\u001b[0m_render_traceback_\u001b[0m\u001b[1;33m(\u001b[0m\u001b[1;33m)\u001b[0m\u001b[1;33m\u001b[0m\u001b[1;33m\u001b[0m\u001b[0m\n\u001b[0m\u001b[0;32m   2062\u001b[0m                     \u001b[1;32mexcept\u001b[0m \u001b[0mException\u001b[0m\u001b[1;33m:\u001b[0m\u001b[1;33m\u001b[0m\u001b[1;33m\u001b[0m\u001b[0m\n",
      "\u001b[1;31mAttributeError\u001b[0m: 'KeyboardInterrupt' object has no attribute '_render_traceback_'",
      "\nDuring handling of the above exception, another exception occurred:\n",
      "\u001b[1;31mTypeError\u001b[0m                                 Traceback (most recent call last)",
      "    \u001b[1;31m[... skipping hidden 1 frame]\u001b[0m\n",
      "\u001b[1;32m~\\AppData\\Roaming\\Python\\Python38\\site-packages\\IPython\\core\\interactiveshell.py\u001b[0m in \u001b[0;36mshowtraceback\u001b[1;34m(self, exc_tuple, filename, tb_offset, exception_only, running_compiled_code)\u001b[0m\n\u001b[0;32m   2061\u001b[0m                         \u001b[0mstb\u001b[0m \u001b[1;33m=\u001b[0m \u001b[0mvalue\u001b[0m\u001b[1;33m.\u001b[0m\u001b[0m_render_traceback_\u001b[0m\u001b[1;33m(\u001b[0m\u001b[1;33m)\u001b[0m\u001b[1;33m\u001b[0m\u001b[1;33m\u001b[0m\u001b[0m\n\u001b[0;32m   2062\u001b[0m                     \u001b[1;32mexcept\u001b[0m \u001b[0mException\u001b[0m\u001b[1;33m:\u001b[0m\u001b[1;33m\u001b[0m\u001b[1;33m\u001b[0m\u001b[0m\n\u001b[1;32m-> 2063\u001b[1;33m                         stb = self.InteractiveTB.structured_traceback(etype,\n\u001b[0m\u001b[0;32m   2064\u001b[0m                                             value, tb, tb_offset=tb_offset)\n\u001b[0;32m   2065\u001b[0m \u001b[1;33m\u001b[0m\u001b[0m\n",
      "\u001b[1;32m~\\AppData\\Roaming\\Python\\Python38\\site-packages\\IPython\\core\\ultratb.py\u001b[0m in \u001b[0;36mstructured_traceback\u001b[1;34m(self, etype, value, tb, tb_offset, number_of_lines_of_context)\u001b[0m\n\u001b[0;32m   1365\u001b[0m         \u001b[1;32melse\u001b[0m\u001b[1;33m:\u001b[0m\u001b[1;33m\u001b[0m\u001b[1;33m\u001b[0m\u001b[0m\n\u001b[0;32m   1366\u001b[0m             \u001b[0mself\u001b[0m\u001b[1;33m.\u001b[0m\u001b[0mtb\u001b[0m \u001b[1;33m=\u001b[0m \u001b[0mtb\u001b[0m\u001b[1;33m\u001b[0m\u001b[1;33m\u001b[0m\u001b[0m\n\u001b[1;32m-> 1367\u001b[1;33m         return FormattedTB.structured_traceback(\n\u001b[0m\u001b[0;32m   1368\u001b[0m             self, etype, value, tb, tb_offset, number_of_lines_of_context)\n\u001b[0;32m   1369\u001b[0m \u001b[1;33m\u001b[0m\u001b[0m\n",
      "\u001b[1;32m~\\AppData\\Roaming\\Python\\Python38\\site-packages\\IPython\\core\\ultratb.py\u001b[0m in \u001b[0;36mstructured_traceback\u001b[1;34m(self, etype, value, tb, tb_offset, number_of_lines_of_context)\u001b[0m\n\u001b[0;32m   1265\u001b[0m         \u001b[1;32mif\u001b[0m \u001b[0mmode\u001b[0m \u001b[1;32min\u001b[0m \u001b[0mself\u001b[0m\u001b[1;33m.\u001b[0m\u001b[0mverbose_modes\u001b[0m\u001b[1;33m:\u001b[0m\u001b[1;33m\u001b[0m\u001b[1;33m\u001b[0m\u001b[0m\n\u001b[0;32m   1266\u001b[0m             \u001b[1;31m# Verbose modes need a full traceback\u001b[0m\u001b[1;33m\u001b[0m\u001b[1;33m\u001b[0m\u001b[1;33m\u001b[0m\u001b[0m\n\u001b[1;32m-> 1267\u001b[1;33m             return VerboseTB.structured_traceback(\n\u001b[0m\u001b[0;32m   1268\u001b[0m                 \u001b[0mself\u001b[0m\u001b[1;33m,\u001b[0m \u001b[0metype\u001b[0m\u001b[1;33m,\u001b[0m \u001b[0mvalue\u001b[0m\u001b[1;33m,\u001b[0m \u001b[0mtb\u001b[0m\u001b[1;33m,\u001b[0m \u001b[0mtb_offset\u001b[0m\u001b[1;33m,\u001b[0m \u001b[0mnumber_of_lines_of_context\u001b[0m\u001b[1;33m\u001b[0m\u001b[1;33m\u001b[0m\u001b[0m\n\u001b[0;32m   1269\u001b[0m             )\n",
      "\u001b[1;32m~\\AppData\\Roaming\\Python\\Python38\\site-packages\\IPython\\core\\ultratb.py\u001b[0m in \u001b[0;36mstructured_traceback\u001b[1;34m(self, etype, evalue, etb, tb_offset, number_of_lines_of_context)\u001b[0m\n\u001b[0;32m   1122\u001b[0m         \u001b[1;34m\"\"\"Return a nice text document describing the traceback.\"\"\"\u001b[0m\u001b[1;33m\u001b[0m\u001b[1;33m\u001b[0m\u001b[0m\n\u001b[0;32m   1123\u001b[0m \u001b[1;33m\u001b[0m\u001b[0m\n\u001b[1;32m-> 1124\u001b[1;33m         formatted_exception = self.format_exception_as_a_whole(etype, evalue, etb, number_of_lines_of_context,\n\u001b[0m\u001b[0;32m   1125\u001b[0m                                                                tb_offset)\n\u001b[0;32m   1126\u001b[0m \u001b[1;33m\u001b[0m\u001b[0m\n",
      "\u001b[1;32m~\\AppData\\Roaming\\Python\\Python38\\site-packages\\IPython\\core\\ultratb.py\u001b[0m in \u001b[0;36mformat_exception_as_a_whole\u001b[1;34m(self, etype, evalue, etb, number_of_lines_of_context, tb_offset)\u001b[0m\n\u001b[0;32m   1080\u001b[0m \u001b[1;33m\u001b[0m\u001b[0m\n\u001b[0;32m   1081\u001b[0m \u001b[1;33m\u001b[0m\u001b[0m\n\u001b[1;32m-> 1082\u001b[1;33m         \u001b[0mlast_unique\u001b[0m\u001b[1;33m,\u001b[0m \u001b[0mrecursion_repeat\u001b[0m \u001b[1;33m=\u001b[0m \u001b[0mfind_recursion\u001b[0m\u001b[1;33m(\u001b[0m\u001b[0morig_etype\u001b[0m\u001b[1;33m,\u001b[0m \u001b[0mevalue\u001b[0m\u001b[1;33m,\u001b[0m \u001b[0mrecords\u001b[0m\u001b[1;33m)\u001b[0m\u001b[1;33m\u001b[0m\u001b[1;33m\u001b[0m\u001b[0m\n\u001b[0m\u001b[0;32m   1083\u001b[0m \u001b[1;33m\u001b[0m\u001b[0m\n\u001b[0;32m   1084\u001b[0m         \u001b[0mframes\u001b[0m \u001b[1;33m=\u001b[0m \u001b[0mself\u001b[0m\u001b[1;33m.\u001b[0m\u001b[0mformat_records\u001b[0m\u001b[1;33m(\u001b[0m\u001b[0mrecords\u001b[0m\u001b[1;33m,\u001b[0m \u001b[0mlast_unique\u001b[0m\u001b[1;33m,\u001b[0m \u001b[0mrecursion_repeat\u001b[0m\u001b[1;33m)\u001b[0m\u001b[1;33m\u001b[0m\u001b[1;33m\u001b[0m\u001b[0m\n",
      "\u001b[1;32m~\\AppData\\Roaming\\Python\\Python38\\site-packages\\IPython\\core\\ultratb.py\u001b[0m in \u001b[0;36mfind_recursion\u001b[1;34m(etype, value, records)\u001b[0m\n\u001b[0;32m    380\u001b[0m     \u001b[1;31m# first frame (from in to out) that looks different.\u001b[0m\u001b[1;33m\u001b[0m\u001b[1;33m\u001b[0m\u001b[1;33m\u001b[0m\u001b[0m\n\u001b[0;32m    381\u001b[0m     \u001b[1;32mif\u001b[0m \u001b[1;32mnot\u001b[0m \u001b[0mis_recursion_error\u001b[0m\u001b[1;33m(\u001b[0m\u001b[0metype\u001b[0m\u001b[1;33m,\u001b[0m \u001b[0mvalue\u001b[0m\u001b[1;33m,\u001b[0m \u001b[0mrecords\u001b[0m\u001b[1;33m)\u001b[0m\u001b[1;33m:\u001b[0m\u001b[1;33m\u001b[0m\u001b[1;33m\u001b[0m\u001b[0m\n\u001b[1;32m--> 382\u001b[1;33m         \u001b[1;32mreturn\u001b[0m \u001b[0mlen\u001b[0m\u001b[1;33m(\u001b[0m\u001b[0mrecords\u001b[0m\u001b[1;33m)\u001b[0m\u001b[1;33m,\u001b[0m \u001b[1;36m0\u001b[0m\u001b[1;33m\u001b[0m\u001b[1;33m\u001b[0m\u001b[0m\n\u001b[0m\u001b[0;32m    383\u001b[0m \u001b[1;33m\u001b[0m\u001b[0m\n\u001b[0;32m    384\u001b[0m     \u001b[1;31m# Select filename, lineno, func_name to track frames with\u001b[0m\u001b[1;33m\u001b[0m\u001b[1;33m\u001b[0m\u001b[1;33m\u001b[0m\u001b[0m\n",
      "\u001b[1;31mTypeError\u001b[0m: object of type 'NoneType' has no len()"
     ]
    }
   ],
   "source": [
    "bn_geo = structure_learning(geo_discrete, 'evo', 'K2', geo_nodes)"
   ]
  },
  {
   "cell_type": "code",
   "execution_count": 10,
   "metadata": {},
   "outputs": [
    {
     "output_type": "display_data",
     "data": {
      "text/plain": "<Figure size 2025x225 with 1 Axes>",
      "image/svg+xml": "<?xml version=\"1.0\" encoding=\"utf-8\" standalone=\"no\"?>\r\n<!DOCTYPE svg PUBLIC \"-//W3C//DTD SVG 1.1//EN\"\r\n  \"http://www.w3.org/Graphics/SVG/1.1/DTD/svg11.dtd\">\r\n<!-- Created with matplotlib (https://matplotlib.org/) -->\r\n<svg height=\"100.8pt\" version=\"1.1\" viewBox=\"0 0 964.8 100.8\" width=\"964.8pt\" xmlns=\"http://www.w3.org/2000/svg\" xmlns:xlink=\"http://www.w3.org/1999/xlink\">\r\n <metadata>\r\n  <rdf:RDF xmlns:cc=\"http://creativecommons.org/ns#\" xmlns:dc=\"http://purl.org/dc/elements/1.1/\" xmlns:rdf=\"http://www.w3.org/1999/02/22-rdf-syntax-ns#\">\r\n   <cc:Work>\r\n    <dc:type rdf:resource=\"http://purl.org/dc/dcmitype/StillImage\"/>\r\n    <dc:date>2021-04-16T17:18:22.753227</dc:date>\r\n    <dc:format>image/svg+xml</dc:format>\r\n    <dc:creator>\r\n     <cc:Agent>\r\n      <dc:title>Matplotlib v3.3.4, https://matplotlib.org/</dc:title>\r\n     </cc:Agent>\r\n    </dc:creator>\r\n   </cc:Work>\r\n  </rdf:RDF>\r\n </metadata>\r\n <defs>\r\n  <style type=\"text/css\">*{stroke-linecap:butt;stroke-linejoin:round;}</style>\r\n </defs>\r\n <g id=\"figure_1\">\r\n  <g id=\"patch_1\">\r\n   <path d=\"M 0 100.8 \r\nL 964.8 100.8 \r\nL 964.8 0 \r\nL 0 0 \r\nz\r\n\" style=\"fill:none;\"/>\r\n  </g>\r\n  <g id=\"axes_1\">\r\n   <g id=\"legend_1\">\r\n    <g id=\"patch_2\">\r\n     <path d=\"M 421.545312 59.239062 \r\nL 543.254687 59.239062 \r\nQ 545.254687 59.239062 545.254687 57.239062 \r\nL 545.254687 43.560937 \r\nQ 545.254687 41.560937 543.254687 41.560937 \r\nL 421.545312 41.560937 \r\nQ 419.545312 41.560937 419.545312 43.560937 \r\nL 419.545312 57.239062 \r\nQ 419.545312 59.239062 421.545312 59.239062 \r\nz\r\n\" style=\"fill:#ffffff;opacity:0.8;stroke:#cccccc;stroke-linejoin:miter;\"/>\r\n    </g>\r\n    <g id=\"patch_3\">\r\n     <path d=\"M 423.545312 53.159375 \r\nL 443.545312 53.159375 \r\nL 443.545312 46.159375 \r\nL 423.545312 46.159375 \r\nz\r\n\" style=\"fill:#9467bd;stroke:#9467bd;stroke-linejoin:miter;\"/>\r\n    </g>\r\n    <g id=\"text_1\">\r\n     <!-- disc -->\r\n     <g transform=\"translate(451.545312 53.159375)scale(0.1 -0.1)\">\r\n      <defs>\r\n       <path d=\"M 45.40625 46.390625 \r\nL 45.40625 75.984375 \r\nL 54.390625 75.984375 \r\nL 54.390625 0 \r\nL 45.40625 0 \r\nL 45.40625 8.203125 \r\nQ 42.578125 3.328125 38.25 0.953125 \r\nQ 33.9375 -1.421875 27.875 -1.421875 \r\nQ 17.96875 -1.421875 11.734375 6.484375 \r\nQ 5.515625 14.40625 5.515625 27.296875 \r\nQ 5.515625 40.1875 11.734375 48.09375 \r\nQ 17.96875 56 27.875 56 \r\nQ 33.9375 56 38.25 53.625 \r\nQ 42.578125 51.265625 45.40625 46.390625 \r\nz\r\nM 14.796875 27.296875 \r\nQ 14.796875 17.390625 18.875 11.75 \r\nQ 22.953125 6.109375 30.078125 6.109375 \r\nQ 37.203125 6.109375 41.296875 11.75 \r\nQ 45.40625 17.390625 45.40625 27.296875 \r\nQ 45.40625 37.203125 41.296875 42.84375 \r\nQ 37.203125 48.484375 30.078125 48.484375 \r\nQ 22.953125 48.484375 18.875 42.84375 \r\nQ 14.796875 37.203125 14.796875 27.296875 \r\nz\r\n\" id=\"DejaVuSans-100\"/>\r\n       <path d=\"M 9.421875 54.6875 \r\nL 18.40625 54.6875 \r\nL 18.40625 0 \r\nL 9.421875 0 \r\nz\r\nM 9.421875 75.984375 \r\nL 18.40625 75.984375 \r\nL 18.40625 64.59375 \r\nL 9.421875 64.59375 \r\nz\r\n\" id=\"DejaVuSans-105\"/>\r\n       <path d=\"M 44.28125 53.078125 \r\nL 44.28125 44.578125 \r\nQ 40.484375 46.53125 36.375 47.5 \r\nQ 32.28125 48.484375 27.875 48.484375 \r\nQ 21.1875 48.484375 17.84375 46.4375 \r\nQ 14.5 44.390625 14.5 40.28125 \r\nQ 14.5 37.15625 16.890625 35.375 \r\nQ 19.28125 33.59375 26.515625 31.984375 \r\nL 29.59375 31.296875 \r\nQ 39.15625 29.25 43.1875 25.515625 \r\nQ 47.21875 21.78125 47.21875 15.09375 \r\nQ 47.21875 7.46875 41.1875 3.015625 \r\nQ 35.15625 -1.421875 24.609375 -1.421875 \r\nQ 20.21875 -1.421875 15.453125 -0.5625 \r\nQ 10.6875 0.296875 5.421875 2 \r\nL 5.421875 11.28125 \r\nQ 10.40625 8.6875 15.234375 7.390625 \r\nQ 20.0625 6.109375 24.8125 6.109375 \r\nQ 31.15625 6.109375 34.5625 8.28125 \r\nQ 37.984375 10.453125 37.984375 14.40625 \r\nQ 37.984375 18.0625 35.515625 20.015625 \r\nQ 33.0625 21.96875 24.703125 23.78125 \r\nL 21.578125 24.515625 \r\nQ 13.234375 26.265625 9.515625 29.90625 \r\nQ 5.8125 33.546875 5.8125 39.890625 \r\nQ 5.8125 47.609375 11.28125 51.796875 \r\nQ 16.75 56 26.8125 56 \r\nQ 31.78125 56 36.171875 55.265625 \r\nQ 40.578125 54.546875 44.28125 53.078125 \r\nz\r\n\" id=\"DejaVuSans-115\"/>\r\n       <path d=\"M 48.78125 52.59375 \r\nL 48.78125 44.1875 \r\nQ 44.96875 46.296875 41.140625 47.34375 \r\nQ 37.3125 48.390625 33.40625 48.390625 \r\nQ 24.65625 48.390625 19.8125 42.84375 \r\nQ 14.984375 37.3125 14.984375 27.296875 \r\nQ 14.984375 17.28125 19.8125 11.734375 \r\nQ 24.65625 6.203125 33.40625 6.203125 \r\nQ 37.3125 6.203125 41.140625 7.25 \r\nQ 44.96875 8.296875 48.78125 10.40625 \r\nL 48.78125 2.09375 \r\nQ 45.015625 0.34375 40.984375 -0.53125 \r\nQ 36.96875 -1.421875 32.421875 -1.421875 \r\nQ 20.0625 -1.421875 12.78125 6.34375 \r\nQ 5.515625 14.109375 5.515625 27.296875 \r\nQ 5.515625 40.671875 12.859375 48.328125 \r\nQ 20.21875 56 33.015625 56 \r\nQ 37.15625 56 41.109375 55.140625 \r\nQ 45.0625 54.296875 48.78125 52.59375 \r\nz\r\n\" id=\"DejaVuSans-99\"/>\r\n      </defs>\r\n      <use xlink:href=\"#DejaVuSans-100\"/>\r\n      <use x=\"63.476562\" xlink:href=\"#DejaVuSans-105\"/>\r\n      <use x=\"91.259766\" xlink:href=\"#DejaVuSans-115\"/>\r\n      <use x=\"143.359375\" xlink:href=\"#DejaVuSans-99\"/>\r\n     </g>\r\n    </g>\r\n    <g id=\"patch_4\">\r\n     <path d=\"M 491.379687 53.159375 \r\nL 511.379687 53.159375 \r\nL 511.379687 46.159375 \r\nL 491.379687 46.159375 \r\nz\r\n\" style=\"fill:#17becf;stroke:#17becf;stroke-linejoin:miter;\"/>\r\n    </g>\r\n    <g id=\"text_2\">\r\n     <!-- cont -->\r\n     <g transform=\"translate(519.379687 53.159375)scale(0.1 -0.1)\">\r\n      <defs>\r\n       <path d=\"M 30.609375 48.390625 \r\nQ 23.390625 48.390625 19.1875 42.75 \r\nQ 14.984375 37.109375 14.984375 27.296875 \r\nQ 14.984375 17.484375 19.15625 11.84375 \r\nQ 23.34375 6.203125 30.609375 6.203125 \r\nQ 37.796875 6.203125 41.984375 11.859375 \r\nQ 46.1875 17.53125 46.1875 27.296875 \r\nQ 46.1875 37.015625 41.984375 42.703125 \r\nQ 37.796875 48.390625 30.609375 48.390625 \r\nz\r\nM 30.609375 56 \r\nQ 42.328125 56 49.015625 48.375 \r\nQ 55.71875 40.765625 55.71875 27.296875 \r\nQ 55.71875 13.875 49.015625 6.21875 \r\nQ 42.328125 -1.421875 30.609375 -1.421875 \r\nQ 18.84375 -1.421875 12.171875 6.21875 \r\nQ 5.515625 13.875 5.515625 27.296875 \r\nQ 5.515625 40.765625 12.171875 48.375 \r\nQ 18.84375 56 30.609375 56 \r\nz\r\n\" id=\"DejaVuSans-111\"/>\r\n       <path d=\"M 54.890625 33.015625 \r\nL 54.890625 0 \r\nL 45.90625 0 \r\nL 45.90625 32.71875 \r\nQ 45.90625 40.484375 42.875 44.328125 \r\nQ 39.84375 48.1875 33.796875 48.1875 \r\nQ 26.515625 48.1875 22.3125 43.546875 \r\nQ 18.109375 38.921875 18.109375 30.90625 \r\nL 18.109375 0 \r\nL 9.078125 0 \r\nL 9.078125 54.6875 \r\nL 18.109375 54.6875 \r\nL 18.109375 46.1875 \r\nQ 21.34375 51.125 25.703125 53.5625 \r\nQ 30.078125 56 35.796875 56 \r\nQ 45.21875 56 50.046875 50.171875 \r\nQ 54.890625 44.34375 54.890625 33.015625 \r\nz\r\n\" id=\"DejaVuSans-110\"/>\r\n       <path d=\"M 18.3125 70.21875 \r\nL 18.3125 54.6875 \r\nL 36.8125 54.6875 \r\nL 36.8125 47.703125 \r\nL 18.3125 47.703125 \r\nL 18.3125 18.015625 \r\nQ 18.3125 11.328125 20.140625 9.421875 \r\nQ 21.96875 7.515625 27.59375 7.515625 \r\nL 36.8125 7.515625 \r\nL 36.8125 0 \r\nL 27.59375 0 \r\nQ 17.1875 0 13.234375 3.875 \r\nQ 9.28125 7.765625 9.28125 18.015625 \r\nL 9.28125 47.703125 \r\nL 2.6875 47.703125 \r\nL 2.6875 54.6875 \r\nL 9.28125 54.6875 \r\nL 9.28125 70.21875 \r\nz\r\n\" id=\"DejaVuSans-116\"/>\r\n      </defs>\r\n      <use xlink:href=\"#DejaVuSans-99\"/>\r\n      <use x=\"54.980469\" xlink:href=\"#DejaVuSans-111\"/>\r\n      <use x=\"116.162109\" xlink:href=\"#DejaVuSans-110\"/>\r\n      <use x=\"179.541016\" xlink:href=\"#DejaVuSans-116\"/>\r\n     </g>\r\n    </g>\r\n   </g>\r\n  </g>\r\n </g>\r\n</svg>\r\n",
      "image/png": "[encoded data removed]"
     },
     "metadata": {
      "needs_background": "light"
     }
    },
    {
     "output_type": "execute_result",
     "data": {
      "text/plain": [
       "<IPython.lib.display.IFrame at 0x1ede0c9c4f0>"
      ],
      "text/html": "\n        <iframe\n            width=\"100%\"\n            height=\"800px\"\n            src=\"../visualization_result/evo_net.html\"\n            frameborder=\"0\"\n            allowfullscreen\n        ></iframe>\n        "
     },
     "metadata": {},
     "execution_count": 10
    }
   ],
   "source": [
    "draw_BN(bn_geo, geo_nodes, 'evo_net')"
   ]
  },
  {
   "cell_type": "code",
   "execution_count": 11,
   "metadata": {
    "tags": []
   },
   "outputs": [],
   "source": [
    "params = parameter_learning(geo, geo_nodes, bn_geo)"
   ]
  },
  {
   "cell_type": "code",
   "execution_count": 12,
   "metadata": {},
   "outputs": [],
   "source": [
    "save_structure(bn_geo, 'geo_net')\n",
    "skel = read_structure('geo_net')\n",
    "save_params(params, 'geo_net_param')\n",
    "params = read_params('geo_net_param')\n",
    "geo_bn = HyBayesianNetwork(skel, params)"
   ]
  },
  {
   "cell_type": "code",
   "execution_count": 13,
   "metadata": {
    "tags": []
   },
   "outputs": [],
   "source": [
    "acc, rmse = calculate_acc(geo_bn, geo, columns)"
   ]
  },
  {
   "cell_type": "code",
   "execution_count": 14,
   "metadata": {},
   "outputs": [
    {
     "output_type": "execute_result",
     "data": {
      "text/plain": [
       "{'Tectonic regime': 0.48,\n",
       " 'Period': 0.26,\n",
       " 'Lithology': 0.56,\n",
       " 'Structural setting': 0.28,\n",
       " 'Hydrocarbon type': 0.75}"
      ]
     },
     "metadata": {},
     "execution_count": 14
    }
   ],
   "source": [
    "acc"
   ]
  },
  {
   "cell_type": "code",
   "execution_count": 15,
   "metadata": {},
   "outputs": [
    {
     "output_type": "execute_result",
     "data": {
      "text/plain": [
       "{'Gross': 356.19,\n",
       " 'Netpay': 58.76,\n",
       " 'Porosity': 7.55,\n",
       " 'Permeability': 1148.48,\n",
       " 'Depth': 884.07}"
      ]
     },
     "metadata": {},
     "execution_count": 15
    }
   ],
   "source": [
    "rmse"
   ]
  },
  {
   "cell_type": "code",
   "execution_count": 69,
   "metadata": {},
   "outputs": [],
   "source": [
    "discrete_type = {'Tectonic regime': 'disc',\n",
    " 'Period': 'disc',\n",
    " 'Lithology': 'disc',\n",
    " 'Structural setting': 'disc',\n",
    " 'Gross': 'disc',\n",
    " 'Netpay': 'disc',\n",
    " 'Porosity': 'disc',\n",
    " 'Permeability': 'disc',\n",
    " 'Depth': 'disc'}"
   ]
  },
  {
   "cell_type": "code",
   "execution_count": 70,
   "metadata": {},
   "outputs": [
    {
     "output_type": "stream",
     "name": "stderr",
     "text": [
      "  0%|          | 11/1000000 [00:01<41:39:59,  6.67it/s]\n"
     ]
    }
   ],
   "source": [
    "bn_discrete = structure_learning(geo_discrete, 'HC', 'K2', discrete_type)"
   ]
  },
  {
   "cell_type": "code",
   "execution_count": 78,
   "metadata": {},
   "outputs": [],
   "source": [
    "params = parameter_learning(geo_only_discrete, discrete_type, bn_discrete)"
   ]
  },
  {
   "cell_type": "code",
   "execution_count": 79,
   "metadata": {},
   "outputs": [],
   "source": [
    "save_structure(bn_discrete, 'geo_net')\n",
    "skel = read_structure('geo_net')\n",
    "save_params(params, 'geo_net_param')\n",
    "params = read_params('geo_net_param')\n",
    "geo_bn = HyBayesianNetwork(skel, params)"
   ]
  },
  {
   "cell_type": "code",
   "execution_count": 80,
   "metadata": {},
   "outputs": [
    {
     "output_type": "error",
     "ename": "NameError",
     "evalue": "name 'node_type' is not defined",
     "traceback": [
      "\u001b[1;31m---------------------------------------------------------------------------\u001b[0m",
      "\u001b[1;31mNameError\u001b[0m                                 Traceback (most recent call last)",
      "\u001b[1;32m<ipython-input-80-43875671f1d0>\u001b[0m in \u001b[0;36m<module>\u001b[1;34m\u001b[0m\n\u001b[0;32m     16\u001b[0m             \u001b[0mreal_param\u001b[0m\u001b[1;33m[\u001b[0m\u001b[0mn\u001b[0m\u001b[1;33m]\u001b[0m\u001b[1;33m[\u001b[0m\u001b[0mi\u001b[0m\u001b[1;33m]\u001b[0m \u001b[1;33m=\u001b[0m \u001b[0mtest\u001b[0m\u001b[1;33m[\u001b[0m\u001b[0mkey\u001b[0m\u001b[1;33m]\u001b[0m\u001b[1;33m\u001b[0m\u001b[1;33m\u001b[0m\u001b[0m\n\u001b[0;32m     17\u001b[0m \u001b[1;32mfor\u001b[0m \u001b[0mn\u001b[0m\u001b[1;33m,\u001b[0m \u001b[0mkey\u001b[0m \u001b[1;32min\u001b[0m \u001b[0menumerate\u001b[0m\u001b[1;33m(\u001b[0m\u001b[0mcolumns\u001b[0m\u001b[1;33m)\u001b[0m\u001b[1;33m:\u001b[0m\u001b[1;33m\u001b[0m\u001b[1;33m\u001b[0m\u001b[0m\n\u001b[1;32m---> 18\u001b[1;33m     \u001b[1;32mif\u001b[0m \u001b[0mnode_type\u001b[0m\u001b[1;33m[\u001b[0m\u001b[0mkey\u001b[0m\u001b[1;33m]\u001b[0m \u001b[1;33m==\u001b[0m \u001b[1;34m'disc'\u001b[0m\u001b[1;33m:\u001b[0m\u001b[1;33m\u001b[0m\u001b[1;33m\u001b[0m\u001b[0m\n\u001b[0m\u001b[0;32m     19\u001b[0m         \u001b[0maccuracy_dict\u001b[0m\u001b[1;33m[\u001b[0m\u001b[0mkey\u001b[0m\u001b[1;33m]\u001b[0m \u001b[1;33m=\u001b[0m \u001b[0mround\u001b[0m\u001b[1;33m(\u001b[0m\u001b[0maccuracy_score\u001b[0m\u001b[1;33m(\u001b[0m\u001b[0mreal_param\u001b[0m\u001b[1;33m[\u001b[0m\u001b[0mn\u001b[0m\u001b[1;33m]\u001b[0m\u001b[1;33m,\u001b[0m \u001b[0mpred_param\u001b[0m\u001b[1;33m[\u001b[0m\u001b[0mn\u001b[0m\u001b[1;33m]\u001b[0m\u001b[1;33m)\u001b[0m\u001b[1;33m,\u001b[0m \u001b[1;36m2\u001b[0m\u001b[1;33m)\u001b[0m\u001b[1;33m\u001b[0m\u001b[1;33m\u001b[0m\u001b[0m\n\u001b[0;32m     20\u001b[0m     \u001b[1;32mif\u001b[0m \u001b[0mnode_type\u001b[0m\u001b[1;33m[\u001b[0m\u001b[0mkey\u001b[0m\u001b[1;33m]\u001b[0m \u001b[1;33m==\u001b[0m \u001b[1;34m'cont'\u001b[0m\u001b[1;33m:\u001b[0m\u001b[1;33m\u001b[0m\u001b[1;33m\u001b[0m\u001b[0m\n",
      "\u001b[1;31mNameError\u001b[0m: name 'node_type' is not defined"
     ]
    }
   ],
   "source": [
    "accuracy_dict = dict()\n",
    "rmse_dict = dict()\n",
    "pred_param = [[0 for j in range(geo.shape[0])] for i in range(len(columns))]\n",
    "real_param = [[0 for j in range(geo.shape[0])] for i in range(len(columns))]\n",
    "for i in range(geo_discrete.shape[0]):\n",
    "    test = dict(geo_only_discrete.iloc[i, :])\n",
    "    #test = dict([(k, str(v)) for k, v in test.items()])\n",
    "    for n, key in enumerate(columns):\n",
    "        train_dict = copy(test)\n",
    "        train_dict.pop(key)\n",
    "        if discrete_type[key] == 'disc':\n",
    "            agg = SampleAggregator()\n",
    "            sample = agg.aggregate(geo_bn.randomsample(2000, train_dict))\n",
    "            sorted_res = sorted(sample[key].items(), key=operator.itemgetter(1), reverse=True)\n",
    "            pred_param[n][i] = sorted_res[0][0]\n",
    "            real_param[n][i] = test[key]\n"
   ]
  },
  {
   "cell_type": "code",
   "execution_count": 81,
   "metadata": {},
   "outputs": [
    {
     "output_type": "stream",
     "name": "stderr",
     "text": [
      "C:\\Users\\anaxa\\AppData\\Local\\Programs\\Python\\Python38\\lib\\site-packages\\sklearn\\metrics\\_classification.py:208: FutureWarning: elementwise comparison failed; returning scalar instead, but in the future will perform elementwise comparison\n  score = y_true == y_pred\nC:\\Users\\anaxa\\AppData\\Local\\Programs\\Python\\Python38\\lib\\site-packages\\sklearn\\metrics\\_classification.py:208: FutureWarning: elementwise comparison failed; returning scalar instead, but in the future will perform elementwise comparison\n  score = y_true == y_pred\nC:\\Users\\anaxa\\AppData\\Local\\Programs\\Python\\Python38\\lib\\site-packages\\sklearn\\metrics\\_classification.py:208: FutureWarning: elementwise comparison failed; returning scalar instead, but in the future will perform elementwise comparison\n  score = y_true == y_pred\nC:\\Users\\anaxa\\AppData\\Local\\Programs\\Python\\Python38\\lib\\site-packages\\sklearn\\metrics\\_classification.py:208: FutureWarning: elementwise comparison failed; returning scalar instead, but in the future will perform elementwise comparison\n  score = y_true == y_pred\nC:\\Users\\anaxa\\AppData\\Local\\Programs\\Python\\Python38\\lib\\site-packages\\sklearn\\metrics\\_classification.py:208: FutureWarning: elementwise comparison failed; returning scalar instead, but in the future will perform elementwise comparison\n  score = y_true == y_pred\n"
     ]
    }
   ],
   "source": [
    "for n, key in enumerate(columns):\n",
    "    if discrete_type[key] == 'disc':\n",
    "        accuracy_dict[key] = round(accuracy_score(real_param[n], pred_param[n]), 2)"
   ]
  },
  {
   "cell_type": "code",
   "execution_count": 82,
   "metadata": {},
   "outputs": [
    {
     "output_type": "execute_result",
     "data": {
      "text/plain": [
       "{'Tectonic regime': 0.48,\n",
       " 'Period': 0.36,\n",
       " 'Lithology': 0.56,\n",
       " 'Structural setting': 0.56,\n",
       " 'Gross': 0.0,\n",
       " 'Netpay': 0.0,\n",
       " 'Porosity': 0.0,\n",
       " 'Permeability': 0.0,\n",
       " 'Depth': 0.0}"
      ]
     },
     "metadata": {},
     "execution_count": 82
    }
   ],
   "source": [
    "accuracy_dict"
   ]
  },
  {
   "cell_type": "code",
   "execution_count": 83,
   "metadata": {},
   "outputs": [],
   "source": [
    "cont_real = real_param[4:]"
   ]
  },
  {
   "cell_type": "code",
   "execution_count": 85,
   "metadata": {},
   "outputs": [],
   "source": [
    "cont_pred = pred_param[4:]"
   ]
  },
  {
   "cell_type": "code",
   "execution_count": 92,
   "metadata": {},
   "outputs": [],
   "source": [
    "for i in range(0,5,1):\n",
    "    cont_real[i] = [int(x) for x in cont_real[i]]\n",
    "    cont_pred[i] = [int(x) for x in cont_pred[i]]"
   ]
  },
  {
   "cell_type": "code",
   "execution_count": 97,
   "metadata": {},
   "outputs": [
    {
     "output_type": "execute_result",
     "data": {
      "text/plain": [
       "     0  1  2  3  4\n",
       "0    2  3  3  3  2\n",
       "1    3  3  0  1  4\n",
       "2    1  1  3  3  4\n",
       "3    3  4  3  3  4\n",
       "4    2  2  3  2  1\n",
       "..  .. .. .. .. ..\n",
       "437  1  1  4  4  1\n",
       "438  1  1  3  2  1\n",
       "439  3  3  1  0  4\n",
       "440  2  0  3  1  0\n",
       "441  1  1  4  4  0\n",
       "\n",
       "[442 rows x 5 columns]"
      ],
      "text/html": "<div>\n<style scoped>\n    .dataframe tbody tr th:only-of-type {\n        vertical-align: middle;\n    }\n\n    .dataframe tbody tr th {\n        vertical-align: top;\n    }\n\n    .dataframe thead th {\n        text-align: right;\n    }\n</style>\n<table border=\"1\" class=\"dataframe\">\n  <thead>\n    <tr style=\"text-align: right;\">\n      <th></th>\n      <th>0</th>\n      <th>1</th>\n      <th>2</th>\n      <th>3</th>\n      <th>4</th>\n    </tr>\n  </thead>\n  <tbody>\n    <tr>\n      <th>0</th>\n      <td>2</td>\n      <td>3</td>\n      <td>3</td>\n      <td>3</td>\n      <td>2</td>\n    </tr>\n    <tr>\n      <th>1</th>\n      <td>3</td>\n      <td>3</td>\n      <td>0</td>\n      <td>1</td>\n      <td>4</td>\n    </tr>\n    <tr>\n      <th>2</th>\n      <td>1</td>\n      <td>1</td>\n      <td>3</td>\n      <td>3</td>\n      <td>4</td>\n    </tr>\n    <tr>\n      <th>3</th>\n      <td>3</td>\n      <td>4</td>\n      <td>3</td>\n      <td>3</td>\n      <td>4</td>\n    </tr>\n    <tr>\n      <th>4</th>\n      <td>2</td>\n      <td>2</td>\n      <td>3</td>\n      <td>2</td>\n      <td>1</td>\n    </tr>\n    <tr>\n      <th>...</th>\n      <td>...</td>\n      <td>...</td>\n      <td>...</td>\n      <td>...</td>\n      <td>...</td>\n    </tr>\n    <tr>\n      <th>437</th>\n      <td>1</td>\n      <td>1</td>\n      <td>4</td>\n      <td>4</td>\n      <td>1</td>\n    </tr>\n    <tr>\n      <th>438</th>\n      <td>1</td>\n      <td>1</td>\n      <td>3</td>\n      <td>2</td>\n      <td>1</td>\n    </tr>\n    <tr>\n      <th>439</th>\n      <td>3</td>\n      <td>3</td>\n      <td>1</td>\n      <td>0</td>\n      <td>4</td>\n    </tr>\n    <tr>\n      <th>440</th>\n      <td>2</td>\n      <td>0</td>\n      <td>3</td>\n      <td>1</td>\n      <td>0</td>\n    </tr>\n    <tr>\n      <th>441</th>\n      <td>1</td>\n      <td>1</td>\n      <td>4</td>\n      <td>4</td>\n      <td>0</td>\n    </tr>\n  </tbody>\n</table>\n<p>442 rows × 5 columns</p>\n</div>"
     },
     "metadata": {},
     "execution_count": 97
    }
   ],
   "source": [
    "pd.DataFrame(np.transpose(cont_real))"
   ]
  },
  {
   "cell_type": "code",
   "execution_count": 98,
   "metadata": {},
   "outputs": [],
   "source": [
    "invers_real = inverse_discretization(pd.DataFrame(np.transpose(cont_real), columns=['Gross','Netpay','Porosity','Permeability', 'Depth']), ['Gross','Netpay','Porosity','Permeability', 'Depth'], discrete_coder)"
   ]
  },
  {
   "cell_type": "code",
   "execution_count": 99,
   "metadata": {},
   "outputs": [],
   "source": [
    "invers_pred = inverse_discretization(pd.DataFrame(np.transpose(cont_pred), columns=['Gross','Netpay','Porosity','Permeability', 'Depth']), ['Gross','Netpay','Porosity','Permeability', 'Depth'], discrete_coder)"
   ]
  },
  {
   "cell_type": "code",
   "execution_count": 106,
   "metadata": {},
   "outputs": [
    {
     "output_type": "execute_result",
     "data": {
      "text/plain": [
       "1311.41"
      ]
     },
     "metadata": {},
     "execution_count": 106
    }
   ],
   "source": [
    "round(mean_squared_error(invers_real['Depth'], invers_pred['Depth'], squared=False), 2)"
   ]
  },
  {
   "cell_type": "code",
   "execution_count": 27,
   "metadata": {},
   "outputs": [],
   "source": [
    "sample_geo = geo.loc[geo['Lithology'] == 'SANDSTONE']"
   ]
  },
  {
   "cell_type": "code",
   "execution_count": 35,
   "metadata": {},
   "outputs": [],
   "source": [
    "from sklearn.preprocessing import PowerTransformer\n",
    "\n",
    "\n",
    "\n",
    "pt = PowerTransformer()\n",
    "data = pt.fit_transform(np.transpose([sample_geo['Permeability'].values]))"
   ]
  },
  {
   "cell_type": "code",
   "execution_count": 36,
   "metadata": {},
   "outputs": [
    {
     "output_type": "stream",
     "name": "stderr",
     "text": [
      "C:\\Users\\anaxa\\AppData\\Local\\Programs\\Python\\Python38\\lib\\site-packages\\seaborn\\distributions.py:2557: FutureWarning: `distplot` is a deprecated function and will be removed in a future version. Please adapt your code to use either `displot` (a figure-level function with similar flexibility) or `histplot` (an axes-level function for histograms).\n  warnings.warn(msg, FutureWarning)\n"
     ]
    },
    {
     "output_type": "execute_result",
     "data": {
      "text/plain": [
       "<AxesSubplot:ylabel='Density'>"
      ]
     },
     "metadata": {},
     "execution_count": 36
    },
    {
     "output_type": "display_data",
     "data": {
      "text/plain": "<Figure size 432x288 with 1 Axes>",
      "image/svg+xml": "<?xml version=\"1.0\" encoding=\"utf-8\" standalone=\"no\"?>\r\n<!DOCTYPE svg PUBLIC \"-//W3C//DTD SVG 1.1//EN\"\r\n  \"http://www.w3.org/Graphics/SVG/1.1/DTD/svg11.dtd\">\r\n<!-- Created with matplotlib (https://matplotlib.org/) -->\r\n<svg height=\"248.518125pt\" version=\"1.1\" viewBox=\"0 0 392.14375 248.518125\" width=\"392.14375pt\" xmlns=\"http://www.w3.org/2000/svg\" xmlns:xlink=\"http://www.w3.org/1999/xlink\">\r\n <metadata>\r\n  <rdf:RDF xmlns:cc=\"http://creativecommons.org/ns#\" xmlns:dc=\"http://purl.org/dc/elements/1.1/\" xmlns:rdf=\"http://www.w3.org/1999/02/22-rdf-syntax-ns#\">\r\n   <cc:Work>\r\n    <dc:type rdf:resource=\"http://purl.org/dc/dcmitype/StillImage\"/>\r\n    <dc:date>2021-04-15T15:38:51.897221</dc:date>\r\n    <dc:format>image/svg+xml</dc:format>\r\n    <dc:creator>\r\n     <cc:Agent>\r\n      <dc:title>Matplotlib v3.3.4, https://matplotlib.org/</dc:title>\r\n     </cc:Agent>\r\n    </dc:creator>\r\n   </cc:Work>\r\n  </rdf:RDF>\r\n </metadata>\r\n <defs>\r\n  <style type=\"text/css\">*{stroke-linecap:butt;stroke-linejoin:round;}</style>\r\n </defs>\r\n <g id=\"figure_1\">\r\n  <g id=\"patch_1\">\r\n   <path d=\"M 0 248.518125 \r\nL 392.14375 248.518125 \r\nL 392.14375 0 \r\nL 0 0 \r\nz\r\n\" style=\"fill:none;\"/>\r\n  </g>\r\n  <g id=\"axes_1\">\r\n   <g id=\"patch_2\">\r\n    <path d=\"M 50.14375 224.64 \r\nL 384.94375 224.64 \r\nL 384.94375 7.2 \r\nL 50.14375 7.2 \r\nz\r\n\" style=\"fill:#ffffff;\"/>\r\n   </g>\r\n   <g id=\"patch_3\">\r\n    <path clip-path=\"url(#p15dd0d733c)\" d=\"M 113.576757 224.64 \r\nL 134.370155 224.64 \r\nL 134.370155 141.805714 \r\nL 113.576757 141.805714 \r\nz\r\n\" style=\"fill:#1f77b4;opacity:0.4;\"/>\r\n   </g>\r\n   <g id=\"patch_4\">\r\n    <path clip-path=\"url(#p15dd0d733c)\" d=\"M 134.370155 224.64 \r\nL 155.163554 224.64 \r\nL 155.163554 136.628571 \r\nL 134.370155 136.628571 \r\nz\r\n\" style=\"fill:#1f77b4;opacity:0.4;\"/>\r\n   </g>\r\n   <g id=\"patch_5\">\r\n    <path clip-path=\"url(#p15dd0d733c)\" d=\"M 155.163554 224.64 \r\nL 175.956953 224.64 \r\nL 175.956953 95.211429 \r\nL 155.163554 95.211429 \r\nz\r\n\" style=\"fill:#1f77b4;opacity:0.4;\"/>\r\n   </g>\r\n   <g id=\"patch_6\">\r\n    <path clip-path=\"url(#p15dd0d733c)\" d=\"M 175.956953 224.64 \r\nL 196.750351 224.64 \r\nL 196.750351 17.554286 \r\nL 175.956953 17.554286 \r\nz\r\n\" style=\"fill:#1f77b4;opacity:0.4;\"/>\r\n   </g>\r\n   <g id=\"patch_7\">\r\n    <path clip-path=\"url(#p15dd0d733c)\" d=\"M 196.750351 224.64 \r\nL 217.54375 224.64 \r\nL 217.54375 22.731429 \r\nL 196.750351 22.731429 \r\nz\r\n\" style=\"fill:#1f77b4;opacity:0.4;\"/>\r\n   </g>\r\n   <g id=\"patch_8\">\r\n    <path clip-path=\"url(#p15dd0d733c)\" d=\"M 217.54375 224.64 \r\nL 238.337149 224.64 \r\nL 238.337149 33.085714 \r\nL 217.54375 33.085714 \r\nz\r\n\" style=\"fill:#1f77b4;opacity:0.4;\"/>\r\n   </g>\r\n   <g id=\"patch_9\">\r\n    <path clip-path=\"url(#p15dd0d733c)\" d=\"M 238.337149 224.64 \r\nL 259.130547 224.64 \r\nL 259.130547 74.502857 \r\nL 238.337149 74.502857 \r\nz\r\n\" style=\"fill:#1f77b4;opacity:0.4;\"/>\r\n   </g>\r\n   <g id=\"patch_10\">\r\n    <path clip-path=\"url(#p15dd0d733c)\" d=\"M 259.130547 224.64 \r\nL 279.923946 224.64 \r\nL 279.923946 90.034286 \r\nL 259.130547 90.034286 \r\nz\r\n\" style=\"fill:#1f77b4;opacity:0.4;\"/>\r\n   </g>\r\n   <g id=\"patch_11\">\r\n    <path clip-path=\"url(#p15dd0d733c)\" d=\"M 279.923946 224.64 \r\nL 300.717345 224.64 \r\nL 300.717345 167.691429 \r\nL 279.923946 167.691429 \r\nz\r\n\" style=\"fill:#1f77b4;opacity:0.4;\"/>\r\n   </g>\r\n   <g id=\"patch_12\">\r\n    <path clip-path=\"url(#p15dd0d733c)\" d=\"M 300.717345 224.64 \r\nL 321.510743 224.64 \r\nL 321.510743 183.222857 \r\nL 300.717345 183.222857 \r\nz\r\n\" style=\"fill:#1f77b4;opacity:0.4;\"/>\r\n   </g>\r\n   <g id=\"matplotlib.axis_1\">\r\n    <g id=\"xtick_1\">\r\n     <g id=\"line2d_1\">\r\n      <defs>\r\n       <path d=\"M 0 0 \r\nL 0 3.5 \r\n\" id=\"m697eaa205a\" style=\"stroke:#000000;stroke-width:0.8;\"/>\r\n      </defs>\r\n      <g>\r\n       <use style=\"stroke:#000000;stroke-width:0.8;\" x=\"67.728324\" xlink:href=\"#m697eaa205a\" y=\"224.64\"/>\r\n      </g>\r\n     </g>\r\n     <g id=\"text_1\">\r\n      <!-- −3 -->\r\n      <g transform=\"translate(60.35723 239.238438)scale(0.1 -0.1)\">\r\n       <defs>\r\n        <path d=\"M 10.59375 35.5 \r\nL 73.1875 35.5 \r\nL 73.1875 27.203125 \r\nL 10.59375 27.203125 \r\nz\r\n\" id=\"DejaVuSans-8722\"/>\r\n        <path d=\"M 40.578125 39.3125 \r\nQ 47.65625 37.796875 51.625 33 \r\nQ 55.609375 28.21875 55.609375 21.1875 \r\nQ 55.609375 10.40625 48.1875 4.484375 \r\nQ 40.765625 -1.421875 27.09375 -1.421875 \r\nQ 22.515625 -1.421875 17.65625 -0.515625 \r\nQ 12.796875 0.390625 7.625 2.203125 \r\nL 7.625 11.71875 \r\nQ 11.71875 9.328125 16.59375 8.109375 \r\nQ 21.484375 6.890625 26.8125 6.890625 \r\nQ 36.078125 6.890625 40.9375 10.546875 \r\nQ 45.796875 14.203125 45.796875 21.1875 \r\nQ 45.796875 27.640625 41.28125 31.265625 \r\nQ 36.765625 34.90625 28.71875 34.90625 \r\nL 20.21875 34.90625 \r\nL 20.21875 43.015625 \r\nL 29.109375 43.015625 \r\nQ 36.375 43.015625 40.234375 45.921875 \r\nQ 44.09375 48.828125 44.09375 54.296875 \r\nQ 44.09375 59.90625 40.109375 62.90625 \r\nQ 36.140625 65.921875 28.71875 65.921875 \r\nQ 24.65625 65.921875 20.015625 65.03125 \r\nQ 15.375 64.15625 9.8125 62.3125 \r\nL 9.8125 71.09375 \r\nQ 15.4375 72.65625 20.34375 73.4375 \r\nQ 25.25 74.21875 29.59375 74.21875 \r\nQ 40.828125 74.21875 47.359375 69.109375 \r\nQ 53.90625 64.015625 53.90625 55.328125 \r\nQ 53.90625 49.265625 50.4375 45.09375 \r\nQ 46.96875 40.921875 40.578125 39.3125 \r\nz\r\n\" id=\"DejaVuSans-51\"/>\r\n       </defs>\r\n       <use xlink:href=\"#DejaVuSans-8722\"/>\r\n       <use x=\"83.789062\" xlink:href=\"#DejaVuSans-51\"/>\r\n      </g>\r\n     </g>\r\n    </g>\r\n    <g id=\"xtick_2\">\r\n     <g id=\"line2d_2\">\r\n      <g>\r\n       <use style=\"stroke:#000000;stroke-width:0.8;\" x=\"116.042248\" xlink:href=\"#m697eaa205a\" y=\"224.64\"/>\r\n      </g>\r\n     </g>\r\n     <g id=\"text_2\">\r\n      <!-- −2 -->\r\n      <g transform=\"translate(108.671154 239.238438)scale(0.1 -0.1)\">\r\n       <defs>\r\n        <path d=\"M 19.1875 8.296875 \r\nL 53.609375 8.296875 \r\nL 53.609375 0 \r\nL 7.328125 0 \r\nL 7.328125 8.296875 \r\nQ 12.9375 14.109375 22.625 23.890625 \r\nQ 32.328125 33.6875 34.8125 36.53125 \r\nQ 39.546875 41.84375 41.421875 45.53125 \r\nQ 43.3125 49.21875 43.3125 52.78125 \r\nQ 43.3125 58.59375 39.234375 62.25 \r\nQ 35.15625 65.921875 28.609375 65.921875 \r\nQ 23.96875 65.921875 18.8125 64.3125 \r\nQ 13.671875 62.703125 7.8125 59.421875 \r\nL 7.8125 69.390625 \r\nQ 13.765625 71.78125 18.9375 73 \r\nQ 24.125 74.21875 28.421875 74.21875 \r\nQ 39.75 74.21875 46.484375 68.546875 \r\nQ 53.21875 62.890625 53.21875 53.421875 \r\nQ 53.21875 48.921875 51.53125 44.890625 \r\nQ 49.859375 40.875 45.40625 35.40625 \r\nQ 44.1875 33.984375 37.640625 27.21875 \r\nQ 31.109375 20.453125 19.1875 8.296875 \r\nz\r\n\" id=\"DejaVuSans-50\"/>\r\n       </defs>\r\n       <use xlink:href=\"#DejaVuSans-8722\"/>\r\n       <use x=\"83.789062\" xlink:href=\"#DejaVuSans-50\"/>\r\n      </g>\r\n     </g>\r\n    </g>\r\n    <g id=\"xtick_3\">\r\n     <g id=\"line2d_3\">\r\n      <g>\r\n       <use style=\"stroke:#000000;stroke-width:0.8;\" x=\"164.356172\" xlink:href=\"#m697eaa205a\" y=\"224.64\"/>\r\n      </g>\r\n     </g>\r\n     <g id=\"text_3\">\r\n      <!-- −1 -->\r\n      <g transform=\"translate(156.985078 239.238438)scale(0.1 -0.1)\">\r\n       <defs>\r\n        <path d=\"M 12.40625 8.296875 \r\nL 28.515625 8.296875 \r\nL 28.515625 63.921875 \r\nL 10.984375 60.40625 \r\nL 10.984375 69.390625 \r\nL 28.421875 72.90625 \r\nL 38.28125 72.90625 \r\nL 38.28125 8.296875 \r\nL 54.390625 8.296875 \r\nL 54.390625 0 \r\nL 12.40625 0 \r\nz\r\n\" id=\"DejaVuSans-49\"/>\r\n       </defs>\r\n       <use xlink:href=\"#DejaVuSans-8722\"/>\r\n       <use x=\"83.789062\" xlink:href=\"#DejaVuSans-49\"/>\r\n      </g>\r\n     </g>\r\n    </g>\r\n    <g id=\"xtick_4\">\r\n     <g id=\"line2d_4\">\r\n      <g>\r\n       <use style=\"stroke:#000000;stroke-width:0.8;\" x=\"212.670096\" xlink:href=\"#m697eaa205a\" y=\"224.64\"/>\r\n      </g>\r\n     </g>\r\n     <g id=\"text_4\">\r\n      <!-- 0 -->\r\n      <g transform=\"translate(209.488846 239.238438)scale(0.1 -0.1)\">\r\n       <defs>\r\n        <path d=\"M 31.78125 66.40625 \r\nQ 24.171875 66.40625 20.328125 58.90625 \r\nQ 16.5 51.421875 16.5 36.375 \r\nQ 16.5 21.390625 20.328125 13.890625 \r\nQ 24.171875 6.390625 31.78125 6.390625 \r\nQ 39.453125 6.390625 43.28125 13.890625 \r\nQ 47.125 21.390625 47.125 36.375 \r\nQ 47.125 51.421875 43.28125 58.90625 \r\nQ 39.453125 66.40625 31.78125 66.40625 \r\nz\r\nM 31.78125 74.21875 \r\nQ 44.046875 74.21875 50.515625 64.515625 \r\nQ 56.984375 54.828125 56.984375 36.375 \r\nQ 56.984375 17.96875 50.515625 8.265625 \r\nQ 44.046875 -1.421875 31.78125 -1.421875 \r\nQ 19.53125 -1.421875 13.0625 8.265625 \r\nQ 6.59375 17.96875 6.59375 36.375 \r\nQ 6.59375 54.828125 13.0625 64.515625 \r\nQ 19.53125 74.21875 31.78125 74.21875 \r\nz\r\n\" id=\"DejaVuSans-48\"/>\r\n       </defs>\r\n       <use xlink:href=\"#DejaVuSans-48\"/>\r\n      </g>\r\n     </g>\r\n    </g>\r\n    <g id=\"xtick_5\">\r\n     <g id=\"line2d_5\">\r\n      <g>\r\n       <use style=\"stroke:#000000;stroke-width:0.8;\" x=\"260.98402\" xlink:href=\"#m697eaa205a\" y=\"224.64\"/>\r\n      </g>\r\n     </g>\r\n     <g id=\"text_5\">\r\n      <!-- 1 -->\r\n      <g transform=\"translate(257.80277 239.238438)scale(0.1 -0.1)\">\r\n       <use xlink:href=\"#DejaVuSans-49\"/>\r\n      </g>\r\n     </g>\r\n    </g>\r\n    <g id=\"xtick_6\">\r\n     <g id=\"line2d_6\">\r\n      <g>\r\n       <use style=\"stroke:#000000;stroke-width:0.8;\" x=\"309.297944\" xlink:href=\"#m697eaa205a\" y=\"224.64\"/>\r\n      </g>\r\n     </g>\r\n     <g id=\"text_6\">\r\n      <!-- 2 -->\r\n      <g transform=\"translate(306.116694 239.238438)scale(0.1 -0.1)\">\r\n       <use xlink:href=\"#DejaVuSans-50\"/>\r\n      </g>\r\n     </g>\r\n    </g>\r\n    <g id=\"xtick_7\">\r\n     <g id=\"line2d_7\">\r\n      <g>\r\n       <use style=\"stroke:#000000;stroke-width:0.8;\" x=\"357.611868\" xlink:href=\"#m697eaa205a\" y=\"224.64\"/>\r\n      </g>\r\n     </g>\r\n     <g id=\"text_7\">\r\n      <!-- 3 -->\r\n      <g transform=\"translate(354.430618 239.238438)scale(0.1 -0.1)\">\r\n       <use xlink:href=\"#DejaVuSans-51\"/>\r\n      </g>\r\n     </g>\r\n    </g>\r\n   </g>\r\n   <g id=\"matplotlib.axis_2\">\r\n    <g id=\"ytick_1\">\r\n     <g id=\"line2d_8\">\r\n      <defs>\r\n       <path d=\"M 0 0 \r\nL -3.5 0 \r\n\" id=\"m9f9be05d5c\" style=\"stroke:#000000;stroke-width:0.8;\"/>\r\n      </defs>\r\n      <g>\r\n       <use style=\"stroke:#000000;stroke-width:0.8;\" x=\"50.14375\" xlink:href=\"#m9f9be05d5c\" y=\"224.64\"/>\r\n      </g>\r\n     </g>\r\n     <g id=\"text_8\">\r\n      <!-- 0.00 -->\r\n      <g transform=\"translate(20.878125 228.439219)scale(0.1 -0.1)\">\r\n       <defs>\r\n        <path d=\"M 10.6875 12.40625 \r\nL 21 12.40625 \r\nL 21 0 \r\nL 10.6875 0 \r\nz\r\n\" id=\"DejaVuSans-46\"/>\r\n       </defs>\r\n       <use xlink:href=\"#DejaVuSans-48\"/>\r\n       <use x=\"63.623047\" xlink:href=\"#DejaVuSans-46\"/>\r\n       <use x=\"95.410156\" xlink:href=\"#DejaVuSans-48\"/>\r\n       <use x=\"159.033203\" xlink:href=\"#DejaVuSans-48\"/>\r\n      </g>\r\n     </g>\r\n    </g>\r\n    <g id=\"ytick_2\">\r\n     <g id=\"line2d_9\">\r\n      <g>\r\n       <use style=\"stroke:#000000;stroke-width:0.8;\" x=\"50.14375\" xlink:href=\"#m9f9be05d5c\" y=\"197.011011\"/>\r\n      </g>\r\n     </g>\r\n     <g id=\"text_9\">\r\n      <!-- 0.05 -->\r\n      <g transform=\"translate(20.878125 200.810229)scale(0.1 -0.1)\">\r\n       <defs>\r\n        <path d=\"M 10.796875 72.90625 \r\nL 49.515625 72.90625 \r\nL 49.515625 64.59375 \r\nL 19.828125 64.59375 \r\nL 19.828125 46.734375 \r\nQ 21.96875 47.46875 24.109375 47.828125 \r\nQ 26.265625 48.1875 28.421875 48.1875 \r\nQ 40.625 48.1875 47.75 41.5 \r\nQ 54.890625 34.8125 54.890625 23.390625 \r\nQ 54.890625 11.625 47.5625 5.09375 \r\nQ 40.234375 -1.421875 26.90625 -1.421875 \r\nQ 22.3125 -1.421875 17.546875 -0.640625 \r\nQ 12.796875 0.140625 7.71875 1.703125 \r\nL 7.71875 11.625 \r\nQ 12.109375 9.234375 16.796875 8.0625 \r\nQ 21.484375 6.890625 26.703125 6.890625 \r\nQ 35.15625 6.890625 40.078125 11.328125 \r\nQ 45.015625 15.765625 45.015625 23.390625 \r\nQ 45.015625 31 40.078125 35.4375 \r\nQ 35.15625 39.890625 26.703125 39.890625 \r\nQ 22.75 39.890625 18.8125 39.015625 \r\nQ 14.890625 38.140625 10.796875 36.28125 \r\nz\r\n\" id=\"DejaVuSans-53\"/>\r\n       </defs>\r\n       <use xlink:href=\"#DejaVuSans-48\"/>\r\n       <use x=\"63.623047\" xlink:href=\"#DejaVuSans-46\"/>\r\n       <use x=\"95.410156\" xlink:href=\"#DejaVuSans-48\"/>\r\n       <use x=\"159.033203\" xlink:href=\"#DejaVuSans-53\"/>\r\n      </g>\r\n     </g>\r\n    </g>\r\n    <g id=\"ytick_3\">\r\n     <g id=\"line2d_10\">\r\n      <g>\r\n       <use style=\"stroke:#000000;stroke-width:0.8;\" x=\"50.14375\" xlink:href=\"#m9f9be05d5c\" y=\"169.382021\"/>\r\n      </g>\r\n     </g>\r\n     <g id=\"text_10\">\r\n      <!-- 0.10 -->\r\n      <g transform=\"translate(20.878125 173.18124)scale(0.1 -0.1)\">\r\n       <use xlink:href=\"#DejaVuSans-48\"/>\r\n       <use x=\"63.623047\" xlink:href=\"#DejaVuSans-46\"/>\r\n       <use x=\"95.410156\" xlink:href=\"#DejaVuSans-49\"/>\r\n       <use x=\"159.033203\" xlink:href=\"#DejaVuSans-48\"/>\r\n      </g>\r\n     </g>\r\n    </g>\r\n    <g id=\"ytick_4\">\r\n     <g id=\"line2d_11\">\r\n      <g>\r\n       <use style=\"stroke:#000000;stroke-width:0.8;\" x=\"50.14375\" xlink:href=\"#m9f9be05d5c\" y=\"141.753032\"/>\r\n      </g>\r\n     </g>\r\n     <g id=\"text_11\">\r\n      <!-- 0.15 -->\r\n      <g transform=\"translate(20.878125 145.55225)scale(0.1 -0.1)\">\r\n       <use xlink:href=\"#DejaVuSans-48\"/>\r\n       <use x=\"63.623047\" xlink:href=\"#DejaVuSans-46\"/>\r\n       <use x=\"95.410156\" xlink:href=\"#DejaVuSans-49\"/>\r\n       <use x=\"159.033203\" xlink:href=\"#DejaVuSans-53\"/>\r\n      </g>\r\n     </g>\r\n    </g>\r\n    <g id=\"ytick_5\">\r\n     <g id=\"line2d_12\">\r\n      <g>\r\n       <use style=\"stroke:#000000;stroke-width:0.8;\" x=\"50.14375\" xlink:href=\"#m9f9be05d5c\" y=\"114.124042\"/>\r\n      </g>\r\n     </g>\r\n     <g id=\"text_12\">\r\n      <!-- 0.20 -->\r\n      <g transform=\"translate(20.878125 117.923261)scale(0.1 -0.1)\">\r\n       <use xlink:href=\"#DejaVuSans-48\"/>\r\n       <use x=\"63.623047\" xlink:href=\"#DejaVuSans-46\"/>\r\n       <use x=\"95.410156\" xlink:href=\"#DejaVuSans-50\"/>\r\n       <use x=\"159.033203\" xlink:href=\"#DejaVuSans-48\"/>\r\n      </g>\r\n     </g>\r\n    </g>\r\n    <g id=\"ytick_6\">\r\n     <g id=\"line2d_13\">\r\n      <g>\r\n       <use style=\"stroke:#000000;stroke-width:0.8;\" x=\"50.14375\" xlink:href=\"#m9f9be05d5c\" y=\"86.495053\"/>\r\n      </g>\r\n     </g>\r\n     <g id=\"text_13\">\r\n      <!-- 0.25 -->\r\n      <g transform=\"translate(20.878125 90.294271)scale(0.1 -0.1)\">\r\n       <use xlink:href=\"#DejaVuSans-48\"/>\r\n       <use x=\"63.623047\" xlink:href=\"#DejaVuSans-46\"/>\r\n       <use x=\"95.410156\" xlink:href=\"#DejaVuSans-50\"/>\r\n       <use x=\"159.033203\" xlink:href=\"#DejaVuSans-53\"/>\r\n      </g>\r\n     </g>\r\n    </g>\r\n    <g id=\"ytick_7\">\r\n     <g id=\"line2d_14\">\r\n      <g>\r\n       <use style=\"stroke:#000000;stroke-width:0.8;\" x=\"50.14375\" xlink:href=\"#m9f9be05d5c\" y=\"58.866063\"/>\r\n      </g>\r\n     </g>\r\n     <g id=\"text_14\">\r\n      <!-- 0.30 -->\r\n      <g transform=\"translate(20.878125 62.665282)scale(0.1 -0.1)\">\r\n       <use xlink:href=\"#DejaVuSans-48\"/>\r\n       <use x=\"63.623047\" xlink:href=\"#DejaVuSans-46\"/>\r\n       <use x=\"95.410156\" xlink:href=\"#DejaVuSans-51\"/>\r\n       <use x=\"159.033203\" xlink:href=\"#DejaVuSans-48\"/>\r\n      </g>\r\n     </g>\r\n    </g>\r\n    <g id=\"ytick_8\">\r\n     <g id=\"line2d_15\">\r\n      <g>\r\n       <use style=\"stroke:#000000;stroke-width:0.8;\" x=\"50.14375\" xlink:href=\"#m9f9be05d5c\" y=\"31.237074\"/>\r\n      </g>\r\n     </g>\r\n     <g id=\"text_15\">\r\n      <!-- 0.35 -->\r\n      <g transform=\"translate(20.878125 35.036292)scale(0.1 -0.1)\">\r\n       <use xlink:href=\"#DejaVuSans-48\"/>\r\n       <use x=\"63.623047\" xlink:href=\"#DejaVuSans-46\"/>\r\n       <use x=\"95.410156\" xlink:href=\"#DejaVuSans-51\"/>\r\n       <use x=\"159.033203\" xlink:href=\"#DejaVuSans-53\"/>\r\n      </g>\r\n     </g>\r\n    </g>\r\n    <g id=\"text_16\">\r\n     <!-- Density -->\r\n     <g transform=\"translate(14.798438 134.928594)rotate(-90)scale(0.1 -0.1)\">\r\n      <defs>\r\n       <path d=\"M 19.671875 64.796875 \r\nL 19.671875 8.109375 \r\nL 31.59375 8.109375 \r\nQ 46.6875 8.109375 53.6875 14.9375 \r\nQ 60.6875 21.78125 60.6875 36.53125 \r\nQ 60.6875 51.171875 53.6875 57.984375 \r\nQ 46.6875 64.796875 31.59375 64.796875 \r\nz\r\nM 9.8125 72.90625 \r\nL 30.078125 72.90625 \r\nQ 51.265625 72.90625 61.171875 64.09375 \r\nQ 71.09375 55.28125 71.09375 36.53125 \r\nQ 71.09375 17.671875 61.125 8.828125 \r\nQ 51.171875 0 30.078125 0 \r\nL 9.8125 0 \r\nz\r\n\" id=\"DejaVuSans-68\"/>\r\n       <path d=\"M 56.203125 29.59375 \r\nL 56.203125 25.203125 \r\nL 14.890625 25.203125 \r\nQ 15.484375 15.921875 20.484375 11.0625 \r\nQ 25.484375 6.203125 34.421875 6.203125 \r\nQ 39.59375 6.203125 44.453125 7.46875 \r\nQ 49.3125 8.734375 54.109375 11.28125 \r\nL 54.109375 2.78125 \r\nQ 49.265625 0.734375 44.1875 -0.34375 \r\nQ 39.109375 -1.421875 33.890625 -1.421875 \r\nQ 20.796875 -1.421875 13.15625 6.1875 \r\nQ 5.515625 13.8125 5.515625 26.8125 \r\nQ 5.515625 40.234375 12.765625 48.109375 \r\nQ 20.015625 56 32.328125 56 \r\nQ 43.359375 56 49.78125 48.890625 \r\nQ 56.203125 41.796875 56.203125 29.59375 \r\nz\r\nM 47.21875 32.234375 \r\nQ 47.125 39.59375 43.09375 43.984375 \r\nQ 39.0625 48.390625 32.421875 48.390625 \r\nQ 24.90625 48.390625 20.390625 44.140625 \r\nQ 15.875 39.890625 15.1875 32.171875 \r\nz\r\n\" id=\"DejaVuSans-101\"/>\r\n       <path d=\"M 54.890625 33.015625 \r\nL 54.890625 0 \r\nL 45.90625 0 \r\nL 45.90625 32.71875 \r\nQ 45.90625 40.484375 42.875 44.328125 \r\nQ 39.84375 48.1875 33.796875 48.1875 \r\nQ 26.515625 48.1875 22.3125 43.546875 \r\nQ 18.109375 38.921875 18.109375 30.90625 \r\nL 18.109375 0 \r\nL 9.078125 0 \r\nL 9.078125 54.6875 \r\nL 18.109375 54.6875 \r\nL 18.109375 46.1875 \r\nQ 21.34375 51.125 25.703125 53.5625 \r\nQ 30.078125 56 35.796875 56 \r\nQ 45.21875 56 50.046875 50.171875 \r\nQ 54.890625 44.34375 54.890625 33.015625 \r\nz\r\n\" id=\"DejaVuSans-110\"/>\r\n       <path d=\"M 44.28125 53.078125 \r\nL 44.28125 44.578125 \r\nQ 40.484375 46.53125 36.375 47.5 \r\nQ 32.28125 48.484375 27.875 48.484375 \r\nQ 21.1875 48.484375 17.84375 46.4375 \r\nQ 14.5 44.390625 14.5 40.28125 \r\nQ 14.5 37.15625 16.890625 35.375 \r\nQ 19.28125 33.59375 26.515625 31.984375 \r\nL 29.59375 31.296875 \r\nQ 39.15625 29.25 43.1875 25.515625 \r\nQ 47.21875 21.78125 47.21875 15.09375 \r\nQ 47.21875 7.46875 41.1875 3.015625 \r\nQ 35.15625 -1.421875 24.609375 -1.421875 \r\nQ 20.21875 -1.421875 15.453125 -0.5625 \r\nQ 10.6875 0.296875 5.421875 2 \r\nL 5.421875 11.28125 \r\nQ 10.40625 8.6875 15.234375 7.390625 \r\nQ 20.0625 6.109375 24.8125 6.109375 \r\nQ 31.15625 6.109375 34.5625 8.28125 \r\nQ 37.984375 10.453125 37.984375 14.40625 \r\nQ 37.984375 18.0625 35.515625 20.015625 \r\nQ 33.0625 21.96875 24.703125 23.78125 \r\nL 21.578125 24.515625 \r\nQ 13.234375 26.265625 9.515625 29.90625 \r\nQ 5.8125 33.546875 5.8125 39.890625 \r\nQ 5.8125 47.609375 11.28125 51.796875 \r\nQ 16.75 56 26.8125 56 \r\nQ 31.78125 56 36.171875 55.265625 \r\nQ 40.578125 54.546875 44.28125 53.078125 \r\nz\r\n\" id=\"DejaVuSans-115\"/>\r\n       <path d=\"M 9.421875 54.6875 \r\nL 18.40625 54.6875 \r\nL 18.40625 0 \r\nL 9.421875 0 \r\nz\r\nM 9.421875 75.984375 \r\nL 18.40625 75.984375 \r\nL 18.40625 64.59375 \r\nL 9.421875 64.59375 \r\nz\r\n\" id=\"DejaVuSans-105\"/>\r\n       <path d=\"M 18.3125 70.21875 \r\nL 18.3125 54.6875 \r\nL 36.8125 54.6875 \r\nL 36.8125 47.703125 \r\nL 18.3125 47.703125 \r\nL 18.3125 18.015625 \r\nQ 18.3125 11.328125 20.140625 9.421875 \r\nQ 21.96875 7.515625 27.59375 7.515625 \r\nL 36.8125 7.515625 \r\nL 36.8125 0 \r\nL 27.59375 0 \r\nQ 17.1875 0 13.234375 3.875 \r\nQ 9.28125 7.765625 9.28125 18.015625 \r\nL 9.28125 47.703125 \r\nL 2.6875 47.703125 \r\nL 2.6875 54.6875 \r\nL 9.28125 54.6875 \r\nL 9.28125 70.21875 \r\nz\r\n\" id=\"DejaVuSans-116\"/>\r\n       <path d=\"M 32.171875 -5.078125 \r\nQ 28.375 -14.84375 24.75 -17.8125 \r\nQ 21.140625 -20.796875 15.09375 -20.796875 \r\nL 7.90625 -20.796875 \r\nL 7.90625 -13.28125 \r\nL 13.1875 -13.28125 \r\nQ 16.890625 -13.28125 18.9375 -11.515625 \r\nQ 21 -9.765625 23.484375 -3.21875 \r\nL 25.09375 0.875 \r\nL 2.984375 54.6875 \r\nL 12.5 54.6875 \r\nL 29.59375 11.921875 \r\nL 46.6875 54.6875 \r\nL 56.203125 54.6875 \r\nz\r\n\" id=\"DejaVuSans-121\"/>\r\n      </defs>\r\n      <use xlink:href=\"#DejaVuSans-68\"/>\r\n      <use x=\"77.001953\" xlink:href=\"#DejaVuSans-101\"/>\r\n      <use x=\"138.525391\" xlink:href=\"#DejaVuSans-110\"/>\r\n      <use x=\"201.904297\" xlink:href=\"#DejaVuSans-115\"/>\r\n      <use x=\"254.003906\" xlink:href=\"#DejaVuSans-105\"/>\r\n      <use x=\"281.787109\" xlink:href=\"#DejaVuSans-116\"/>\r\n      <use x=\"320.996094\" xlink:href=\"#DejaVuSans-121\"/>\r\n     </g>\r\n    </g>\r\n   </g>\r\n   <g id=\"line2d_16\">\r\n    <path clip-path=\"url(#p15dd0d733c)\" d=\"M 65.361932 224.434996 \r\nL 69.950328 224.154692 \r\nL 73.009259 223.814396 \r\nL 76.06819 223.282883 \r\nL 79.127121 222.484 \r\nL 82.186052 221.328804 \r\nL 83.715518 220.587837 \r\nL 85.244983 219.722175 \r\nL 86.774449 218.720737 \r\nL 88.303914 217.573609 \r\nL 89.83338 216.272541 \r\nL 91.362845 214.811448 \r\nL 92.892311 213.186882 \r\nL 95.951242 209.449108 \r\nL 99.010173 205.097519 \r\nL 102.069104 200.227001 \r\nL 106.657501 192.274712 \r\nL 114.304828 178.78705 \r\nL 117.363759 173.753828 \r\nL 120.42269 169.042605 \r\nL 123.481621 164.641272 \r\nL 128.070018 158.459458 \r\nL 135.717345 148.329723 \r\nL 138.776276 144.011486 \r\nL 141.835207 139.415388 \r\nL 144.894138 134.491624 \r\nL 147.953069 129.213842 \r\nL 151.012 123.578056 \r\nL 155.600397 114.501153 \r\nL 160.188793 104.832227 \r\nL 175.483448 71.942614 \r\nL 180.071845 62.752366 \r\nL 184.660242 54.011478 \r\nL 189.248638 45.768626 \r\nL 192.307569 40.631918 \r\nL 195.3665 35.889445 \r\nL 198.425431 31.667234 \r\nL 199.954897 29.795571 \r\nL 201.484362 28.107755 \r\nL 203.013828 26.621286 \r\nL 204.543293 25.352432 \r\nL 206.072759 24.315694 \r\nL 207.602224 23.523327 \r\nL 209.13169 22.984944 \r\nL 210.661155 22.707192 \r\nL 212.190621 22.693539 \r\nL 213.720086 22.944135 \r\nL 215.249552 23.455781 \r\nL 216.779017 24.221975 \r\nL 218.308483 25.233037 \r\nL 219.837948 26.476311 \r\nL 221.367414 27.936421 \r\nL 222.896879 29.595582 \r\nL 225.95581 33.430052 \r\nL 229.014741 37.803659 \r\nL 233.603138 44.96276 \r\nL 241.250465 57.049564 \r\nL 245.838862 63.731205 \r\nL 250.427258 69.845891 \r\nL 261.133517 83.518666 \r\nL 264.192448 87.940255 \r\nL 267.251379 92.87661 \r\nL 270.31031 98.437768 \r\nL 273.369241 104.677436 \r\nL 276.428172 111.580702 \r\nL 279.487103 119.060096 \r\nL 284.0755 131.009596 \r\nL 291.722827 151.097807 \r\nL 294.781758 158.590367 \r\nL 297.840689 165.555989 \r\nL 300.89962 171.937514 \r\nL 303.958551 177.740746 \r\nL 307.017482 183.01959 \r\nL 310.076413 187.85437 \r\nL 313.135344 192.328835 \r\nL 316.194275 196.51101 \r\nL 320.782672 202.316395 \r\nL 323.841603 205.879194 \r\nL 326.900534 209.169136 \r\nL 329.959465 212.150342 \r\nL 333.018396 214.788442 \r\nL 336.077327 217.060145 \r\nL 339.136258 218.959055 \r\nL 342.195189 220.49729 \r\nL 345.25412 221.703484 \r\nL 348.313051 222.618346 \r\nL 351.371982 223.289174 \r\nL 354.430913 223.76453 \r\nL 359.01931 224.209129 \r\nL 365.137172 224.490227 \r\nL 369.725568 224.577741 \r\nL 369.725568 224.577741 \r\n\" style=\"fill:none;stroke:#1f77b4;stroke-linecap:square;stroke-width:1.5;\"/>\r\n   </g>\r\n   <g id=\"patch_13\">\r\n    <path d=\"M 50.14375 224.64 \r\nL 50.14375 7.2 \r\n\" style=\"fill:none;stroke:#000000;stroke-linecap:square;stroke-linejoin:miter;stroke-width:0.8;\"/>\r\n   </g>\r\n   <g id=\"patch_14\">\r\n    <path d=\"M 384.94375 224.64 \r\nL 384.94375 7.2 \r\n\" style=\"fill:none;stroke:#000000;stroke-linecap:square;stroke-linejoin:miter;stroke-width:0.8;\"/>\r\n   </g>\r\n   <g id=\"patch_15\">\r\n    <path d=\"M 50.14375 224.64 \r\nL 384.94375 224.64 \r\n\" style=\"fill:none;stroke:#000000;stroke-linecap:square;stroke-linejoin:miter;stroke-width:0.8;\"/>\r\n   </g>\r\n   <g id=\"patch_16\">\r\n    <path d=\"M 50.14375 7.2 \r\nL 384.94375 7.2 \r\n\" style=\"fill:none;stroke:#000000;stroke-linecap:square;stroke-linejoin:miter;stroke-width:0.8;\"/>\r\n   </g>\r\n  </g>\r\n </g>\r\n <defs>\r\n  <clipPath id=\"p15dd0d733c\">\r\n   <rect height=\"217.44\" width=\"334.8\" x=\"50.14375\" y=\"7.2\"/>\r\n  </clipPath>\r\n </defs>\r\n</svg>\r\n",
      "image/png": "[encoded data removed]"
     },
     "metadata": {
      "needs_background": "light"
     }
    }
   ],
   "source": [
    "sns.distplot(data)"
   ]
  },
  {
   "cell_type": "code",
   "execution_count": 37,
   "metadata": {},
   "outputs": [
    {
     "output_type": "execute_result",
     "data": {
      "text/plain": [
       "ShapiroResult(statistic=0.9875103831291199, pvalue=0.029704926535487175)"
      ]
     },
     "metadata": {},
     "execution_count": 37
    }
   ],
   "source": [
    "stats.shapiro(data)"
   ]
  },
  {
   "cell_type": "code",
   "execution_count": 15,
   "metadata": {},
   "outputs": [
    {
     "output_type": "execute_result",
     "data": {
      "text/plain": [
       "<matplotlib.collections.PathCollection at 0x1d00b3f1970>"
      ]
     },
     "metadata": {},
     "execution_count": 15
    },
    {
     "output_type": "display_data",
     "data": {
      "text/plain": "<Figure size 432x288 with 1 Axes>",
      "image/svg+xml": "<?xml version=\"1.0\" encoding=\"utf-8\" standalone=\"no\"?>\r\n<!DOCTYPE svg PUBLIC \"-//W3C//DTD SVG 1.1//EN\"\r\n  \"http://www.w3.org/Graphics/SVG/1.1/DTD/svg11.dtd\">\r\n<!-- Created with matplotlib (https://matplotlib.org/) -->\r\n<svg height=\"248.518125pt\" version=\"1.1\" viewBox=\"0 0 381.65 248.518125\" width=\"381.65pt\" xmlns=\"http://www.w3.org/2000/svg\" xmlns:xlink=\"http://www.w3.org/1999/xlink\">\r\n <metadata>\r\n  <rdf:RDF xmlns:cc=\"http://creativecommons.org/ns#\" xmlns:dc=\"http://purl.org/dc/elements/1.1/\" xmlns:rdf=\"http://www.w3.org/1999/02/22-rdf-syntax-ns#\">\r\n   <cc:Work>\r\n    <dc:type rdf:resource=\"http://purl.org/dc/dcmitype/StillImage\"/>\r\n    <dc:date>2021-04-15T10:02:22.007941</dc:date>\r\n    <dc:format>image/svg+xml</dc:format>\r\n    <dc:creator>\r\n     <cc:Agent>\r\n      <dc:title>Matplotlib v3.3.4, https://matplotlib.org/</dc:title>\r\n     </cc:Agent>\r\n    </dc:creator>\r\n   </cc:Work>\r\n  </rdf:RDF>\r\n </metadata>\r\n <defs>\r\n  <style type=\"text/css\">*{stroke-linecap:butt;stroke-linejoin:round;}</style>\r\n </defs>\r\n <g id=\"figure_1\">\r\n  <g id=\"patch_1\">\r\n   <path d=\"M -0 248.518125 \r\nL 381.65 248.518125 \r\nL 381.65 0 \r\nL -0 0 \r\nz\r\n\" style=\"fill:none;\"/>\r\n  </g>\r\n  <g id=\"axes_1\">\r\n   <g id=\"patch_2\">\r\n    <path d=\"M 39.65 224.64 \r\nL 374.45 224.64 \r\nL 374.45 7.2 \r\nL 39.65 7.2 \r\nz\r\n\" style=\"fill:#ffffff;\"/>\r\n   </g>\r\n   <g id=\"PathCollection_1\">\r\n    <defs>\r\n     <path d=\"M 0 3 \r\nC 0.795609 3 1.55874 2.683901 2.12132 2.12132 \r\nC 2.683901 1.55874 3 0.795609 3 0 \r\nC 3 -0.795609 2.683901 -1.55874 2.12132 -2.12132 \r\nC 1.55874 -2.683901 0.795609 -3 0 -3 \r\nC -0.795609 -3 -1.55874 -2.683901 -2.12132 -2.12132 \r\nC -2.683901 -1.55874 -3 -0.795609 -3 0 \r\nC -3 0.795609 -2.683901 1.55874 -2.12132 2.12132 \r\nC -1.55874 2.683901 -0.795609 3 0 3 \r\nz\r\n\" id=\"md52abc28d9\" style=\"stroke:#1f77b4;\"/>\r\n    </defs>\r\n    <g clip-path=\"url(#p9b4be8a761)\">\r\n     <use style=\"fill:#1f77b4;stroke:#1f77b4;\" x=\"113.777273\" xlink:href=\"#md52abc28d9\" y=\"214.545513\"/>\r\n     <use style=\"fill:#1f77b4;stroke:#1f77b4;\" x=\"211.959091\" xlink:href=\"#md52abc28d9\" y=\"206.849455\"/>\r\n     <use style=\"fill:#1f77b4;stroke:#1f77b4;\" x=\"211.959091\" xlink:href=\"#md52abc28d9\" y=\"214.361018\"/>\r\n     <use style=\"fill:#1f77b4;stroke:#1f77b4;\" x=\"64.686364\" xlink:href=\"#md52abc28d9\" y=\"214.753728\"/>\r\n     <use style=\"fill:#1f77b4;stroke:#1f77b4;\" x=\"182.504545\" xlink:href=\"#md52abc28d9\" y=\"201.578182\"/>\r\n     <use style=\"fill:#1f77b4;stroke:#1f77b4;\" x=\"148.140909\" xlink:href=\"#md52abc28d9\" y=\"206.058764\"/>\r\n     <use style=\"fill:#1f77b4;stroke:#1f77b4;\" x=\"211.959091\" xlink:href=\"#md52abc28d9\" y=\"209.485091\"/>\r\n     <use style=\"fill:#1f77b4;stroke:#1f77b4;\" x=\"192.322727\" xlink:href=\"#md52abc28d9\" y=\"135.687273\"/>\r\n     <use style=\"fill:#1f77b4;stroke:#1f77b4;\" x=\"221.777273\" xlink:href=\"#md52abc28d9\" y=\"208.167273\"/>\r\n     <use style=\"fill:#1f77b4;stroke:#1f77b4;\" x=\"113.777273\" xlink:href=\"#md52abc28d9\" y=\"214.677295\"/>\r\n     <use style=\"fill:#1f77b4;stroke:#1f77b4;\" x=\"202.140909\" xlink:href=\"#md52abc28d9\" y=\"214.624582\"/>\r\n     <use style=\"fill:#1f77b4;stroke:#1f77b4;\" x=\"226.686364\" xlink:href=\"#md52abc28d9\" y=\"213.306764\"/>\r\n     <use style=\"fill:#1f77b4;stroke:#1f77b4;\" x=\"211.959091\" xlink:href=\"#md52abc28d9\" y=\"208.826182\"/>\r\n     <use style=\"fill:#1f77b4;stroke:#1f77b4;\" x=\"153.05\" xlink:href=\"#md52abc28d9\" y=\"205.7952\"/>\r\n     <use style=\"fill:#1f77b4;stroke:#1f77b4;\" x=\"251.231818\" xlink:href=\"#md52abc28d9\" y=\"206.849455\"/>\r\n     <use style=\"fill:#1f77b4;stroke:#1f77b4;\" x=\"280.686364\" xlink:href=\"#md52abc28d9\" y=\"192.722444\"/>\r\n     <use style=\"fill:#1f77b4;stroke:#1f77b4;\" x=\"290.504545\" xlink:href=\"#md52abc28d9\" y=\"82.974545\"/>\r\n     <use style=\"fill:#1f77b4;stroke:#1f77b4;\" x=\"211.959091\" xlink:href=\"#md52abc28d9\" y=\"209.880436\"/>\r\n     <use style=\"fill:#1f77b4;stroke:#1f77b4;\" x=\"123.595455\" xlink:href=\"#md52abc28d9\" y=\"214.743185\"/>\r\n     <use style=\"fill:#1f77b4;stroke:#1f77b4;\" x=\"280.686364\" xlink:href=\"#md52abc28d9\" y=\"82.974545\"/>\r\n     <use style=\"fill:#1f77b4;stroke:#1f77b4;\" x=\"261.05\" xlink:href=\"#md52abc28d9\" y=\"188.4\"/>\r\n     <use style=\"fill:#1f77b4;stroke:#1f77b4;\" x=\"192.322727\" xlink:href=\"#md52abc28d9\" y=\"204.213818\"/>\r\n     <use style=\"fill:#1f77b4;stroke:#1f77b4;\" x=\"295.413636\" xlink:href=\"#md52abc28d9\" y=\"155.454545\"/>\r\n     <use style=\"fill:#1f77b4;stroke:#1f77b4;\" x=\"182.504545\" xlink:href=\"#md52abc28d9\" y=\"205.531636\"/>\r\n     <use style=\"fill:#1f77b4;stroke:#1f77b4;\" x=\"153.05\" xlink:href=\"#md52abc28d9\" y=\"212.120727\"/>\r\n     <use style=\"fill:#1f77b4;stroke:#1f77b4;\" x=\"192.322727\" xlink:href=\"#md52abc28d9\" y=\"209.485091\"/>\r\n     <use style=\"fill:#1f77b4;stroke:#1f77b4;\" x=\"172.686364\" xlink:href=\"#md52abc28d9\" y=\"214.74055\"/>\r\n     <use style=\"fill:#1f77b4;stroke:#1f77b4;\" x=\"231.595455\" xlink:href=\"#md52abc28d9\" y=\"210.539345\"/>\r\n     <use style=\"fill:#1f77b4;stroke:#1f77b4;\" x=\"280.686364\" xlink:href=\"#md52abc28d9\" y=\"212.647855\"/>\r\n     <use style=\"fill:#1f77b4;stroke:#1f77b4;\" x=\"251.231818\" xlink:href=\"#md52abc28d9\" y=\"175.221818\"/>\r\n     <use style=\"fill:#1f77b4;stroke:#1f77b4;\" x=\"211.959091\" xlink:href=\"#md52abc28d9\" y=\"213.649396\"/>\r\n     <use style=\"fill:#1f77b4;stroke:#1f77b4;\" x=\"141.268182\" xlink:href=\"#md52abc28d9\" y=\"212.674211\"/>\r\n     <use style=\"fill:#1f77b4;stroke:#1f77b4;\" x=\"162.868182\" xlink:href=\"#md52abc28d9\" y=\"213.702109\"/>\r\n     <use style=\"fill:#1f77b4;stroke:#1f77b4;\" x=\"251.231818\" xlink:href=\"#md52abc28d9\" y=\"176.539636\"/>\r\n     <use style=\"fill:#1f77b4;stroke:#1f77b4;\" x=\"123.595455\" xlink:href=\"#md52abc28d9\" y=\"214.229236\"/>\r\n     <use style=\"fill:#1f77b4;stroke:#1f77b4;\" x=\"108.868182\" xlink:href=\"#md52abc28d9\" y=\"214.4928\"/>\r\n     <use style=\"fill:#1f77b4;stroke:#1f77b4;\" x=\"290.504545\" xlink:href=\"#md52abc28d9\" y=\"200.260364\"/>\r\n     <use style=\"fill:#1f77b4;stroke:#1f77b4;\" x=\"84.322727\" xlink:href=\"#md52abc28d9\" y=\"214.756364\"/>\r\n     <use style=\"fill:#1f77b4;stroke:#1f77b4;\" x=\"143.231818\" xlink:href=\"#md52abc28d9\" y=\"188.4\"/>\r\n     <use style=\"fill:#1f77b4;stroke:#1f77b4;\" x=\"221.777273\" xlink:href=\"#md52abc28d9\" y=\"197.624727\"/>\r\n     <use style=\"fill:#1f77b4;stroke:#1f77b4;\" x=\"182.504545\" xlink:href=\"#md52abc28d9\" y=\"214.677295\"/>\r\n     <use style=\"fill:#1f77b4;stroke:#1f77b4;\" x=\"192.322727\" xlink:href=\"#md52abc28d9\" y=\"209.485091\"/>\r\n     <use style=\"fill:#1f77b4;stroke:#1f77b4;\" x=\"241.413636\" xlink:href=\"#md52abc28d9\" y=\"212.120727\"/>\r\n     <use style=\"fill:#1f77b4;stroke:#1f77b4;\" x=\"241.413636\" xlink:href=\"#md52abc28d9\" y=\"212.120727\"/>\r\n     <use style=\"fill:#1f77b4;stroke:#1f77b4;\" x=\"280.686364\" xlink:href=\"#md52abc28d9\" y=\"188.4\"/>\r\n     <use style=\"fill:#1f77b4;stroke:#1f77b4;\" x=\"280.686364\" xlink:href=\"#md52abc28d9\" y=\"188.4\"/>\r\n     <use style=\"fill:#1f77b4;stroke:#1f77b4;\" x=\"143.231818\" xlink:href=\"#md52abc28d9\" y=\"211.330036\"/>\r\n     <use style=\"fill:#1f77b4;stroke:#1f77b4;\" x=\"202.140909\" xlink:href=\"#md52abc28d9\" y=\"213.965673\"/>\r\n     <use style=\"fill:#1f77b4;stroke:#1f77b4;\" x=\"347.45\" xlink:href=\"#md52abc28d9\" y=\"148.10112\"/>\r\n     <use style=\"fill:#1f77b4;stroke:#1f77b4;\" x=\"280.686364\" xlink:href=\"#md52abc28d9\" y=\"162.043636\"/>\r\n     <use style=\"fill:#1f77b4;stroke:#1f77b4;\" x=\"192.322727\" xlink:href=\"#md52abc28d9\" y=\"201.4464\"/>\r\n     <use style=\"fill:#1f77b4;stroke:#1f77b4;\" x=\"123.595455\" xlink:href=\"#md52abc28d9\" y=\"214.743185\"/>\r\n     <use style=\"fill:#1f77b4;stroke:#1f77b4;\" x=\"270.868182\" xlink:href=\"#md52abc28d9\" y=\"148.865455\"/>\r\n     <use style=\"fill:#1f77b4;stroke:#1f77b4;\" x=\"118.686364\" xlink:href=\"#md52abc28d9\" y=\"209.485091\"/>\r\n     <use style=\"fill:#1f77b4;stroke:#1f77b4;\" x=\"103.959091\" xlink:href=\"#md52abc28d9\" y=\"212.120727\"/>\r\n     <use style=\"fill:#1f77b4;stroke:#1f77b4;\" x=\"359.231818\" xlink:href=\"#md52abc28d9\" y=\"135.687273\"/>\r\n     <use style=\"fill:#1f77b4;stroke:#1f77b4;\" x=\"290.504545\" xlink:href=\"#md52abc28d9\" y=\"162.043636\"/>\r\n     <use style=\"fill:#1f77b4;stroke:#1f77b4;\" x=\"275.777273\" xlink:href=\"#md52abc28d9\" y=\"162.043636\"/>\r\n     <use style=\"fill:#1f77b4;stroke:#1f77b4;\" x=\"241.413636\" xlink:href=\"#md52abc28d9\" y=\"209.116102\"/>\r\n     <use style=\"fill:#1f77b4;stroke:#1f77b4;\" x=\"182.504545\" xlink:href=\"#md52abc28d9\" y=\"214.176524\"/>\r\n     <use style=\"fill:#1f77b4;stroke:#1f77b4;\" x=\"261.05\" xlink:href=\"#md52abc28d9\" y=\"212.429097\"/>\r\n     <use style=\"fill:#1f77b4;stroke:#1f77b4;\" x=\"211.959091\" xlink:href=\"#md52abc28d9\" y=\"199.838662\"/>\r\n     <use style=\"fill:#1f77b4;stroke:#1f77b4;\" x=\"211.959091\" xlink:href=\"#md52abc28d9\" y=\"56.618182\"/>\r\n     <use style=\"fill:#1f77b4;stroke:#1f77b4;\" x=\"349.413636\" xlink:href=\"#md52abc28d9\" y=\"175.221818\"/>\r\n     <use style=\"fill:#1f77b4;stroke:#1f77b4;\" x=\"329.777273\" xlink:href=\"#md52abc28d9\" y=\"164.679273\"/>\r\n     <use style=\"fill:#1f77b4;stroke:#1f77b4;\" x=\"192.322727\" xlink:href=\"#md52abc28d9\" y=\"212.120727\"/>\r\n     <use style=\"fill:#1f77b4;stroke:#1f77b4;\" x=\"261.05\" xlink:href=\"#md52abc28d9\" y=\"159.460713\"/>\r\n     <use style=\"fill:#1f77b4;stroke:#1f77b4;\" x=\"182.504545\" xlink:href=\"#md52abc28d9\" y=\"201.578182\"/>\r\n     <use style=\"fill:#1f77b4;stroke:#1f77b4;\" x=\"290.504545\" xlink:href=\"#md52abc28d9\" y=\"208.430836\"/>\r\n     <use style=\"fill:#1f77b4;stroke:#1f77b4;\" x=\"162.868182\" xlink:href=\"#md52abc28d9\" y=\"202.105309\"/>\r\n     <use style=\"fill:#1f77b4;stroke:#1f77b4;\" x=\"182.504545\" xlink:href=\"#md52abc28d9\" y=\"210.802909\"/>\r\n     <use style=\"fill:#1f77b4;stroke:#1f77b4;\" x=\"94.140909\" xlink:href=\"#md52abc28d9\" y=\"214.031564\"/>\r\n     <use style=\"fill:#1f77b4;stroke:#1f77b4;\" x=\"211.959091\" xlink:href=\"#md52abc28d9\" y=\"211.066473\"/>\r\n     <use style=\"fill:#1f77b4;stroke:#1f77b4;\" x=\"211.959091\" xlink:href=\"#md52abc28d9\" y=\"214.281949\"/>\r\n     <use style=\"fill:#1f77b4;stroke:#1f77b4;\" x=\"172.686364\" xlink:href=\"#md52abc28d9\" y=\"214.4928\"/>\r\n     <use style=\"fill:#1f77b4;stroke:#1f77b4;\" x=\"310.140909\" xlink:href=\"#md52abc28d9\" y=\"173.904\"/>\r\n     <use style=\"fill:#1f77b4;stroke:#1f77b4;\" x=\"231.595455\" xlink:href=\"#md52abc28d9\" y=\"214.044742\"/>\r\n     <use style=\"fill:#1f77b4;stroke:#1f77b4;\" x=\"211.959091\" xlink:href=\"#md52abc28d9\" y=\"183.128727\"/>\r\n     <use style=\"fill:#1f77b4;stroke:#1f77b4;\" x=\"221.777273\" xlink:href=\"#md52abc28d9\" y=\"214.281949\"/>\r\n     <use style=\"fill:#1f77b4;stroke:#1f77b4;\" x=\"172.686364\" xlink:href=\"#md52abc28d9\" y=\"214.4928\"/>\r\n     <use style=\"fill:#1f77b4;stroke:#1f77b4;\" x=\"251.231818\" xlink:href=\"#md52abc28d9\" y=\"209.959505\"/>\r\n     <use style=\"fill:#1f77b4;stroke:#1f77b4;\" x=\"211.959091\" xlink:href=\"#md52abc28d9\" y=\"211.461818\"/>\r\n     <use style=\"fill:#1f77b4;stroke:#1f77b4;\" x=\"133.413636\" xlink:href=\"#md52abc28d9\" y=\"214.571869\"/>\r\n     <use style=\"fill:#1f77b4;stroke:#1f77b4;\" x=\"146.177273\" xlink:href=\"#md52abc28d9\" y=\"213.617769\"/>\r\n     <use style=\"fill:#1f77b4;stroke:#1f77b4;\" x=\"153.05\" xlink:href=\"#md52abc28d9\" y=\"213.491258\"/>\r\n     <use style=\"fill:#1f77b4;stroke:#1f77b4;\" x=\"202.140909\" xlink:href=\"#md52abc28d9\" y=\"212.068015\"/>\r\n     <use style=\"fill:#1f77b4;stroke:#1f77b4;\" x=\"329.777273\" xlink:href=\"#md52abc28d9\" y=\"193.671273\"/>\r\n     <use style=\"fill:#1f77b4;stroke:#1f77b4;\" x=\"192.322727\" xlink:href=\"#md52abc28d9\" y=\"188.4\"/>\r\n     <use style=\"fill:#1f77b4;stroke:#1f77b4;\" x=\"172.686364\" xlink:href=\"#md52abc28d9\" y=\"196.306909\"/>\r\n     <use style=\"fill:#1f77b4;stroke:#1f77b4;\" x=\"241.413636\" xlink:href=\"#md52abc28d9\" y=\"212.120727\"/>\r\n     <use style=\"fill:#1f77b4;stroke:#1f77b4;\" x=\"162.868182\" xlink:href=\"#md52abc28d9\" y=\"213.965673\"/>\r\n     <use style=\"fill:#1f77b4;stroke:#1f77b4;\" x=\"339.595455\" xlink:href=\"#md52abc28d9\" y=\"175.221818\"/>\r\n     <use style=\"fill:#1f77b4;stroke:#1f77b4;\" x=\"310.140909\" xlink:href=\"#md52abc28d9\" y=\"188.4\"/>\r\n     <use style=\"fill:#1f77b4;stroke:#1f77b4;\" x=\"270.868182\" xlink:href=\"#md52abc28d9\" y=\"188.4\"/>\r\n     <use style=\"fill:#1f77b4;stroke:#1f77b4;\" x=\"211.959091\" xlink:href=\"#md52abc28d9\" y=\"172.586182\"/>\r\n     <use style=\"fill:#1f77b4;stroke:#1f77b4;\" x=\"192.322727\" xlink:href=\"#md52abc28d9\" y=\"209.485091\"/>\r\n     <use style=\"fill:#1f77b4;stroke:#1f77b4;\" x=\"117.704545\" xlink:href=\"#md52abc28d9\" y=\"214.743185\"/>\r\n     <use style=\"fill:#1f77b4;stroke:#1f77b4;\" x=\"143.231818\" xlink:href=\"#md52abc28d9\" y=\"213.965673\"/>\r\n     <use style=\"fill:#1f77b4;stroke:#1f77b4;\" x=\"280.686364\" xlink:href=\"#md52abc28d9\" y=\"125.144727\"/>\r\n     <use style=\"fill:#1f77b4;stroke:#1f77b4;\" x=\"113.777273\" xlink:href=\"#md52abc28d9\" y=\"214.229236\"/>\r\n     <use style=\"fill:#1f77b4;stroke:#1f77b4;\" x=\"290.504545\" xlink:href=\"#md52abc28d9\" y=\"176.539636\"/>\r\n     <use style=\"fill:#1f77b4;stroke:#1f77b4;\" x=\"153.05\" xlink:href=\"#md52abc28d9\" y=\"213.612497\"/>\r\n     <use style=\"fill:#1f77b4;stroke:#1f77b4;\" x=\"211.959091\" xlink:href=\"#md52abc28d9\" y=\"208.957964\"/>\r\n     <use style=\"fill:#1f77b4;stroke:#1f77b4;\" x=\"172.686364\" xlink:href=\"#md52abc28d9\" y=\"196.306909\"/>\r\n     <use style=\"fill:#1f77b4;stroke:#1f77b4;\" x=\"113.777273\" xlink:href=\"#md52abc28d9\" y=\"212.120727\"/>\r\n     <use style=\"fill:#1f77b4;stroke:#1f77b4;\" x=\"123.595455\" xlink:href=\"#md52abc28d9\" y=\"214.624582\"/>\r\n     <use style=\"fill:#1f77b4;stroke:#1f77b4;\" x=\"143.231818\" xlink:href=\"#md52abc28d9\" y=\"214.229236\"/>\r\n     <use style=\"fill:#1f77b4;stroke:#1f77b4;\" x=\"261.05\" xlink:href=\"#md52abc28d9\" y=\"177.857455\"/>\r\n     <use style=\"fill:#1f77b4;stroke:#1f77b4;\" x=\"192.322727\" xlink:href=\"#md52abc28d9\" y=\"212.120727\"/>\r\n     <use style=\"fill:#1f77b4;stroke:#1f77b4;\" x=\"143.231818\" xlink:href=\"#md52abc28d9\" y=\"198.942545\"/>\r\n     <use style=\"fill:#1f77b4;stroke:#1f77b4;\" x=\"162.868182\" xlink:href=\"#md52abc28d9\" y=\"213.965673\"/>\r\n     <use style=\"fill:#1f77b4;stroke:#1f77b4;\" x=\"145.195455\" xlink:href=\"#md52abc28d9\" y=\"209.748655\"/>\r\n     <use style=\"fill:#1f77b4;stroke:#1f77b4;\" x=\"211.959091\" xlink:href=\"#md52abc28d9\" y=\"213.438545\"/>\r\n     <use style=\"fill:#1f77b4;stroke:#1f77b4;\" x=\"310.140909\" xlink:href=\"#md52abc28d9\" y=\"109.330909\"/>\r\n     <use style=\"fill:#1f77b4;stroke:#1f77b4;\" x=\"290.504545\" xlink:href=\"#md52abc28d9\" y=\"208.430836\"/>\r\n     <use style=\"fill:#1f77b4;stroke:#1f77b4;\" x=\"157.959091\" xlink:href=\"#md52abc28d9\" y=\"214.529699\"/>\r\n     <use style=\"fill:#1f77b4;stroke:#1f77b4;\" x=\"290.504545\" xlink:href=\"#md52abc28d9\" y=\"207.508364\"/>\r\n     <use style=\"fill:#1f77b4;stroke:#1f77b4;\" x=\"221.777273\" xlink:href=\"#md52abc28d9\" y=\"212.516073\"/>\r\n     <use style=\"fill:#1f77b4;stroke:#1f77b4;\" x=\"241.413636\" xlink:href=\"#md52abc28d9\" y=\"210.012218\"/>\r\n     <use style=\"fill:#1f77b4;stroke:#1f77b4;\" x=\"290.504545\" xlink:href=\"#md52abc28d9\" y=\"96.152727\"/>\r\n     <use style=\"fill:#1f77b4;stroke:#1f77b4;\" x=\"231.595455\" xlink:href=\"#md52abc28d9\" y=\"207.376582\"/>\r\n     <use style=\"fill:#1f77b4;stroke:#1f77b4;\" x=\"211.959091\" xlink:href=\"#md52abc28d9\" y=\"202.632436\"/>\r\n     <use style=\"fill:#1f77b4;stroke:#1f77b4;\" x=\"182.504545\" xlink:href=\"#md52abc28d9\" y=\"204.398313\"/>\r\n     <use style=\"fill:#1f77b4;stroke:#1f77b4;\" x=\"172.686364\" xlink:href=\"#md52abc28d9\" y=\"214.624582\"/>\r\n     <use style=\"fill:#1f77b4;stroke:#1f77b4;\" x=\"211.959091\" xlink:href=\"#md52abc28d9\" y=\"210.091287\"/>\r\n     <use style=\"fill:#1f77b4;stroke:#1f77b4;\" x=\"106.904545\" xlink:href=\"#md52abc28d9\" y=\"214.74055\"/>\r\n     <use style=\"fill:#1f77b4;stroke:#1f77b4;\" x=\"241.413636\" xlink:href=\"#md52abc28d9\" y=\"205.531636\"/>\r\n     <use style=\"fill:#1f77b4;stroke:#1f77b4;\" x=\"123.595455\" xlink:href=\"#md52abc28d9\" y=\"214.745821\"/>\r\n     <use style=\"fill:#1f77b4;stroke:#1f77b4;\" x=\"261.05\" xlink:href=\"#md52abc28d9\" y=\"204.213818\"/>\r\n     <use style=\"fill:#1f77b4;stroke:#1f77b4;\" x=\"310.140909\" xlink:href=\"#md52abc28d9\" y=\"82.974545\"/>\r\n     <use style=\"fill:#1f77b4;stroke:#1f77b4;\" x=\"221.777273\" xlink:href=\"#md52abc28d9\" y=\"208.509905\"/>\r\n     <use style=\"fill:#1f77b4;stroke:#1f77b4;\" x=\"241.413636\" xlink:href=\"#md52abc28d9\" y=\"198.441775\"/>\r\n     <use style=\"fill:#1f77b4;stroke:#1f77b4;\" x=\"190.359091\" xlink:href=\"#md52abc28d9\" y=\"214.123811\"/>\r\n     <use style=\"fill:#1f77b4;stroke:#1f77b4;\" x=\"231.595455\" xlink:href=\"#md52abc28d9\" y=\"193.671273\"/>\r\n     <use style=\"fill:#1f77b4;stroke:#1f77b4;\" x=\"310.140909\" xlink:href=\"#md52abc28d9\" y=\"162.043636\"/>\r\n     <use style=\"fill:#1f77b4;stroke:#1f77b4;\" x=\"349.413636\" xlink:href=\"#md52abc28d9\" y=\"162.043636\"/>\r\n     <use style=\"fill:#1f77b4;stroke:#1f77b4;\" x=\"251.231818\" xlink:href=\"#md52abc28d9\" y=\"191.035636\"/>\r\n     <use style=\"fill:#1f77b4;stroke:#1f77b4;\" x=\"211.959091\" xlink:href=\"#md52abc28d9\" y=\"213.833891\"/>\r\n     <use style=\"fill:#1f77b4;stroke:#1f77b4;\" x=\"153.05\" xlink:href=\"#md52abc28d9\" y=\"213.174982\"/>\r\n     <use style=\"fill:#1f77b4;stroke:#1f77b4;\" x=\"182.504545\" xlink:href=\"#md52abc28d9\" y=\"214.229236\"/>\r\n     <use style=\"fill:#1f77b4;stroke:#1f77b4;\" x=\"172.686364\" xlink:href=\"#md52abc28d9\" y=\"212.858705\"/>\r\n     <use style=\"fill:#1f77b4;stroke:#1f77b4;\" x=\"103.959091\" xlink:href=\"#md52abc28d9\" y=\"210.750196\"/>\r\n     <use style=\"fill:#1f77b4;stroke:#1f77b4;\" x=\"295.413636\" xlink:href=\"#md52abc28d9\" y=\"162.043636\"/>\r\n     <use style=\"fill:#1f77b4;stroke:#1f77b4;\" x=\"211.959091\" xlink:href=\"#md52abc28d9\" y=\"212.252509\"/>\r\n     <use style=\"fill:#1f77b4;stroke:#1f77b4;\" x=\"149.122727\" xlink:href=\"#md52abc28d9\" y=\"214.466444\"/>\r\n     <use style=\"fill:#1f77b4;stroke:#1f77b4;\" x=\"172.686364\" xlink:href=\"#md52abc28d9\" y=\"214.74055\"/>\r\n     <use style=\"fill:#1f77b4;stroke:#1f77b4;\" x=\"157.959091\" xlink:href=\"#md52abc28d9\" y=\"213.064285\"/>\r\n     <use style=\"fill:#1f77b4;stroke:#1f77b4;\" x=\"261.05\" xlink:href=\"#md52abc28d9\" y=\"211.461818\"/>\r\n     <use style=\"fill:#1f77b4;stroke:#1f77b4;\" x=\"285.595455\" xlink:href=\"#md52abc28d9\" y=\"66.501818\"/>\r\n     <use style=\"fill:#1f77b4;stroke:#1f77b4;\" x=\"270.868182\" xlink:href=\"#md52abc28d9\" y=\"201.578182\"/>\r\n     <use style=\"fill:#1f77b4;stroke:#1f77b4;\" x=\"143.231818\" xlink:href=\"#md52abc28d9\" y=\"208.6944\"/>\r\n     <use style=\"fill:#1f77b4;stroke:#1f77b4;\" x=\"143.231818\" xlink:href=\"#md52abc28d9\" y=\"214.753728\"/>\r\n     <use style=\"fill:#1f77b4;stroke:#1f77b4;\" x=\"197.231818\" xlink:href=\"#md52abc28d9\" y=\"213.570327\"/>\r\n     <use style=\"fill:#1f77b4;stroke:#1f77b4;\" x=\"231.595455\" xlink:href=\"#md52abc28d9\" y=\"194.989091\"/>\r\n     <use style=\"fill:#1f77b4;stroke:#1f77b4;\" x=\"153.05\" xlink:href=\"#md52abc28d9\" y=\"214.400553\"/>\r\n     <use style=\"fill:#1f77b4;stroke:#1f77b4;\" x=\"211.959091\" xlink:href=\"#md52abc28d9\" y=\"201.578182\"/>\r\n     <use style=\"fill:#1f77b4;stroke:#1f77b4;\" x=\"148.140909\" xlink:href=\"#md52abc28d9\" y=\"208.167273\"/>\r\n     <use style=\"fill:#1f77b4;stroke:#1f77b4;\" x=\"180.540909\" xlink:href=\"#md52abc28d9\" y=\"213.438545\"/>\r\n     <use style=\"fill:#1f77b4;stroke:#1f77b4;\" x=\"251.231818\" xlink:href=\"#md52abc28d9\" y=\"201.578182\"/>\r\n     <use style=\"fill:#1f77b4;stroke:#1f77b4;\" x=\"182.504545\" xlink:href=\"#md52abc28d9\" y=\"208.536262\"/>\r\n     <use style=\"fill:#1f77b4;stroke:#1f77b4;\" x=\"211.959091\" xlink:href=\"#md52abc28d9\" y=\"213.570327\"/>\r\n     <use style=\"fill:#1f77b4;stroke:#1f77b4;\" x=\"192.322727\" xlink:href=\"#md52abc28d9\" y=\"201.578182\"/>\r\n     <use style=\"fill:#1f77b4;stroke:#1f77b4;\" x=\"300.322727\" xlink:href=\"#md52abc28d9\" y=\"188.4\"/>\r\n     <use style=\"fill:#1f77b4;stroke:#1f77b4;\" x=\"143.231818\" xlink:href=\"#md52abc28d9\" y=\"213.833891\"/>\r\n     <use style=\"fill:#1f77b4;stroke:#1f77b4;\" x=\"74.504545\" xlink:href=\"#md52abc28d9\" y=\"214.624582\"/>\r\n     <use style=\"fill:#1f77b4;stroke:#1f77b4;\" x=\"54.868182\" xlink:href=\"#md52abc28d9\" y=\"214.756364\"/>\r\n     <use style=\"fill:#1f77b4;stroke:#1f77b4;\" x=\"211.959091\" xlink:href=\"#md52abc28d9\" y=\"213.807535\"/>\r\n     <use style=\"fill:#1f77b4;stroke:#1f77b4;\" x=\"290.504545\" xlink:href=\"#md52abc28d9\" y=\"203.159564\"/>\r\n     <use style=\"fill:#1f77b4;stroke:#1f77b4;\" x=\"143.231818\" xlink:href=\"#md52abc28d9\" y=\"214.756364\"/>\r\n     <use style=\"fill:#1f77b4;stroke:#1f77b4;\" x=\"133.413636\" xlink:href=\"#md52abc28d9\" y=\"211.5936\"/>\r\n     <use style=\"fill:#1f77b4;stroke:#1f77b4;\" x=\"152.068182\" xlink:href=\"#md52abc28d9\" y=\"214.123811\"/>\r\n     <use style=\"fill:#1f77b4;stroke:#1f77b4;\" x=\"261.05\" xlink:href=\"#md52abc28d9\" y=\"212.120727\"/>\r\n     <use style=\"fill:#1f77b4;stroke:#1f77b4;\" x=\"211.959091\" xlink:href=\"#md52abc28d9\" y=\"211.330036\"/>\r\n     <use style=\"fill:#1f77b4;stroke:#1f77b4;\" x=\"211.959091\" xlink:href=\"#md52abc28d9\" y=\"210.275782\"/>\r\n     <use style=\"fill:#1f77b4;stroke:#1f77b4;\" x=\"231.595455\" xlink:href=\"#md52abc28d9\" y=\"211.909876\"/>\r\n     <use style=\"fill:#1f77b4;stroke:#1f77b4;\" x=\"202.140909\" xlink:href=\"#md52abc28d9\" y=\"214.661481\"/>\r\n     <use style=\"fill:#1f77b4;stroke:#1f77b4;\" x=\"211.959091\" xlink:href=\"#md52abc28d9\" y=\"202.896\"/>\r\n     <use style=\"fill:#1f77b4;stroke:#1f77b4;\" x=\"231.595455\" xlink:href=\"#md52abc28d9\" y=\"198.942545\"/>\r\n     <use style=\"fill:#1f77b4;stroke:#1f77b4;\" x=\"162.868182\" xlink:href=\"#md52abc28d9\" y=\"212.120727\"/>\r\n     <use style=\"fill:#1f77b4;stroke:#1f77b4;\" x=\"133.413636\" xlink:href=\"#md52abc28d9\" y=\"214.545513\"/>\r\n     <use style=\"fill:#1f77b4;stroke:#1f77b4;\" x=\"133.413636\" xlink:href=\"#md52abc28d9\" y=\"213.570327\"/>\r\n     <use style=\"fill:#1f77b4;stroke:#1f77b4;\" x=\"133.413636\" xlink:href=\"#md52abc28d9\" y=\"213.438545\"/>\r\n     <use style=\"fill:#1f77b4;stroke:#1f77b4;\" x=\"103.959091\" xlink:href=\"#md52abc28d9\" y=\"214.624582\"/>\r\n     <use style=\"fill:#1f77b4;stroke:#1f77b4;\" x=\"261.05\" xlink:href=\"#md52abc28d9\" y=\"201.578182\"/>\r\n     <use style=\"fill:#1f77b4;stroke:#1f77b4;\" x=\"270.868182\" xlink:href=\"#md52abc28d9\" y=\"212.647855\"/>\r\n     <use style=\"fill:#1f77b4;stroke:#1f77b4;\" x=\"202.140909\" xlink:href=\"#md52abc28d9\" y=\"204.872727\"/>\r\n     <use style=\"fill:#1f77b4;stroke:#1f77b4;\" x=\"310.140909\" xlink:href=\"#md52abc28d9\" y=\"188.4\"/>\r\n     <use style=\"fill:#1f77b4;stroke:#1f77b4;\" x=\"126.540909\" xlink:href=\"#md52abc28d9\" y=\"212.199796\"/>\r\n     <use style=\"fill:#1f77b4;stroke:#1f77b4;\" x=\"103.959091\" xlink:href=\"#md52abc28d9\" y=\"214.571869\"/>\r\n     <use style=\"fill:#1f77b4;stroke:#1f77b4;\" x=\"202.140909\" xlink:href=\"#md52abc28d9\" y=\"213.385833\"/>\r\n     <use style=\"fill:#1f77b4;stroke:#1f77b4;\" x=\"241.413636\" xlink:href=\"#md52abc28d9\" y=\"208.167273\"/>\r\n     <use style=\"fill:#1f77b4;stroke:#1f77b4;\" x=\"290.504545\" xlink:href=\"#md52abc28d9\" y=\"188.4\"/>\r\n     <use style=\"fill:#1f77b4;stroke:#1f77b4;\" x=\"290.504545\" xlink:href=\"#md52abc28d9\" y=\"17.083636\"/>\r\n     <use style=\"fill:#1f77b4;stroke:#1f77b4;\" x=\"329.777273\" xlink:href=\"#md52abc28d9\" y=\"30.261818\"/>\r\n     <use style=\"fill:#1f77b4;stroke:#1f77b4;\" x=\"172.686364\" xlink:href=\"#md52abc28d9\" y=\"212.120727\"/>\r\n     <use style=\"fill:#1f77b4;stroke:#1f77b4;\" x=\"290.504545\" xlink:href=\"#md52abc28d9\" y=\"171.848204\"/>\r\n     <use style=\"fill:#1f77b4;stroke:#1f77b4;\" x=\"133.413636\" xlink:href=\"#md52abc28d9\" y=\"214.548148\"/>\r\n     <use style=\"fill:#1f77b4;stroke:#1f77b4;\" x=\"229.631818\" xlink:href=\"#md52abc28d9\" y=\"208.905251\"/>\r\n     <use style=\"fill:#1f77b4;stroke:#1f77b4;\" x=\"229.631818\" xlink:href=\"#md52abc28d9\" y=\"208.905251\"/>\r\n     <use style=\"fill:#1f77b4;stroke:#1f77b4;\" x=\"211.959091\" xlink:href=\"#md52abc28d9\" y=\"213.438545\"/>\r\n     <use style=\"fill:#1f77b4;stroke:#1f77b4;\" x=\"251.231818\" xlink:href=\"#md52abc28d9\" y=\"162.043636\"/>\r\n     <use style=\"fill:#1f77b4;stroke:#1f77b4;\" x=\"319.959091\" xlink:href=\"#md52abc28d9\" y=\"201.578182\"/>\r\n     <use style=\"fill:#1f77b4;stroke:#1f77b4;\" x=\"280.686364\" xlink:href=\"#md52abc28d9\" y=\"148.865455\"/>\r\n     <use style=\"fill:#1f77b4;stroke:#1f77b4;\" x=\"280.686364\" xlink:href=\"#md52abc28d9\" y=\"188.4\"/>\r\n     <use style=\"fill:#1f77b4;stroke:#1f77b4;\" x=\"329.777273\" xlink:href=\"#md52abc28d9\" y=\"146.229818\"/>\r\n     <use style=\"fill:#1f77b4;stroke:#1f77b4;\" x=\"153.05\" xlink:href=\"#md52abc28d9\" y=\"214.018385\"/>\r\n     <use style=\"fill:#1f77b4;stroke:#1f77b4;\" x=\"182.504545\" xlink:href=\"#md52abc28d9\" y=\"188.4\"/>\r\n     <use style=\"fill:#1f77b4;stroke:#1f77b4;\" x=\"261.05\" xlink:href=\"#md52abc28d9\" y=\"162.043636\"/>\r\n     <use style=\"fill:#1f77b4;stroke:#1f77b4;\" x=\"182.504545\" xlink:href=\"#md52abc28d9\" y=\"210.802909\"/>\r\n     <use style=\"fill:#1f77b4;stroke:#1f77b4;\" x=\"261.05\" xlink:href=\"#md52abc28d9\" y=\"188.4\"/>\r\n     <use style=\"fill:#1f77b4;stroke:#1f77b4;\" x=\"261.05\" xlink:href=\"#md52abc28d9\" y=\"149.919709\"/>\r\n     <use style=\"fill:#1f77b4;stroke:#1f77b4;\" x=\"162.868182\" xlink:href=\"#md52abc28d9\" y=\"210.539345\"/>\r\n     <use style=\"fill:#1f77b4;stroke:#1f77b4;\" x=\"256.140909\" xlink:href=\"#md52abc28d9\" y=\"204.477382\"/>\r\n     <use style=\"fill:#1f77b4;stroke:#1f77b4;\" x=\"231.595455\" xlink:href=\"#md52abc28d9\" y=\"205.531636\"/>\r\n     <use style=\"fill:#1f77b4;stroke:#1f77b4;\" x=\"251.231818\" xlink:href=\"#md52abc28d9\" y=\"183.128727\"/>\r\n     <use style=\"fill:#1f77b4;stroke:#1f77b4;\" x=\"359.231818\" xlink:href=\"#md52abc28d9\" y=\"183.128727\"/>\r\n     <use style=\"fill:#1f77b4;stroke:#1f77b4;\" x=\"125.559091\" xlink:href=\"#md52abc28d9\" y=\"214.730007\"/>\r\n     <use style=\"fill:#1f77b4;stroke:#1f77b4;\" x=\"182.504545\" xlink:href=\"#md52abc28d9\" y=\"214.018385\"/>\r\n     <use style=\"fill:#1f77b4;stroke:#1f77b4;\" x=\"177.595455\" xlink:href=\"#md52abc28d9\" y=\"206.849455\"/>\r\n     <use style=\"fill:#1f77b4;stroke:#1f77b4;\" x=\"310.140909\" xlink:href=\"#md52abc28d9\" y=\"206.058764\"/>\r\n     <use style=\"fill:#1f77b4;stroke:#1f77b4;\" x=\"221.777273\" xlink:href=\"#md52abc28d9\" y=\"208.562618\"/>\r\n     <use style=\"fill:#1f77b4;stroke:#1f77b4;\" x=\"241.413636\" xlink:href=\"#md52abc28d9\" y=\"209.221527\"/>\r\n     <use style=\"fill:#1f77b4;stroke:#1f77b4;\" x=\"247.304545\" xlink:href=\"#md52abc28d9\" y=\"209.827724\"/>\r\n     <use style=\"fill:#1f77b4;stroke:#1f77b4;\" x=\"153.05\" xlink:href=\"#md52abc28d9\" y=\"213.965673\"/>\r\n     <use style=\"fill:#1f77b4;stroke:#1f77b4;\" x=\"113.777273\" xlink:href=\"#md52abc28d9\" y=\"209.247884\"/>\r\n     <use style=\"fill:#1f77b4;stroke:#1f77b4;\" x=\"192.322727\" xlink:href=\"#md52abc28d9\" y=\"193.671273\"/>\r\n     <use style=\"fill:#1f77b4;stroke:#1f77b4;\" x=\"172.686364\" xlink:href=\"#md52abc28d9\" y=\"213.385833\"/>\r\n     <use style=\"fill:#1f77b4;stroke:#1f77b4;\" x=\"195.268182\" xlink:href=\"#md52abc28d9\" y=\"204.582807\"/>\r\n     <use style=\"fill:#1f77b4;stroke:#1f77b4;\" x=\"270.868182\" xlink:href=\"#md52abc28d9\" y=\"122.509091\"/>\r\n     <use style=\"fill:#1f77b4;stroke:#1f77b4;\" x=\"153.05\" xlink:href=\"#md52abc28d9\" y=\"214.643031\"/>\r\n     <use style=\"fill:#1f77b4;stroke:#1f77b4;\" x=\"115.740909\" xlink:href=\"#md52abc28d9\" y=\"213.174982\"/>\r\n     <use style=\"fill:#1f77b4;stroke:#1f77b4;\" x=\"261.05\" xlink:href=\"#md52abc28d9\" y=\"203.686691\"/>\r\n     <use style=\"fill:#1f77b4;stroke:#1f77b4;\" x=\"153.05\" xlink:href=\"#md52abc28d9\" y=\"214.400553\"/>\r\n     <use style=\"fill:#1f77b4;stroke:#1f77b4;\" x=\"162.868182\" xlink:href=\"#md52abc28d9\" y=\"211.409105\"/>\r\n     <use style=\"fill:#1f77b4;stroke:#1f77b4;\" x=\"192.322727\" xlink:href=\"#md52abc28d9\" y=\"212.120727\"/>\r\n     <use style=\"fill:#1f77b4;stroke:#1f77b4;\" x=\"168.759091\" xlink:href=\"#md52abc28d9\" y=\"212.568785\"/>\r\n     <use style=\"fill:#1f77b4;stroke:#1f77b4;\" x=\"192.322727\" xlink:href=\"#md52abc28d9\" y=\"167.314909\"/>\r\n     <use style=\"fill:#1f77b4;stroke:#1f77b4;\" x=\"140.286364\" xlink:href=\"#md52abc28d9\" y=\"207.350225\"/>\r\n     <use style=\"fill:#1f77b4;stroke:#1f77b4;\" x=\"99.05\" xlink:href=\"#md52abc28d9\" y=\"214.693108\"/>\r\n     <use style=\"fill:#1f77b4;stroke:#1f77b4;\" x=\"261.05\" xlink:href=\"#md52abc28d9\" y=\"201.578182\"/>\r\n     <use style=\"fill:#1f77b4;stroke:#1f77b4;\" x=\"280.686364\" xlink:href=\"#md52abc28d9\" y=\"202.896\"/>\r\n     <use style=\"fill:#1f77b4;stroke:#1f77b4;\" x=\"319.959091\" xlink:href=\"#md52abc28d9\" y=\"175.880727\"/>\r\n     <use style=\"fill:#1f77b4;stroke:#1f77b4;\" x=\"221.777273\" xlink:href=\"#md52abc28d9\" y=\"188.4\"/>\r\n     <use style=\"fill:#1f77b4;stroke:#1f77b4;\" x=\"280.686364\" xlink:href=\"#md52abc28d9\" y=\"162.043636\"/>\r\n     <use style=\"fill:#1f77b4;stroke:#1f77b4;\" x=\"277.740909\" xlink:href=\"#md52abc28d9\" y=\"165.417251\"/>\r\n     <use style=\"fill:#1f77b4;stroke:#1f77b4;\" x=\"243.377273\" xlink:href=\"#md52abc28d9\" y=\"211.567244\"/>\r\n     <use style=\"fill:#1f77b4;stroke:#1f77b4;\" x=\"251.231818\" xlink:href=\"#md52abc28d9\" y=\"213.965673\"/>\r\n     <use style=\"fill:#1f77b4;stroke:#1f77b4;\" x=\"270.868182\" xlink:href=\"#md52abc28d9\" y=\"188.4\"/>\r\n    </g>\r\n   </g>\r\n   <g id=\"matplotlib.axis_1\">\r\n    <g id=\"xtick_1\">\r\n     <g id=\"line2d_1\">\r\n      <defs>\r\n       <path d=\"M 0 0 \r\nL 0 3.5 \r\n\" id=\"m9d0dc15b57\" style=\"stroke:#000000;stroke-width:0.8;\"/>\r\n      </defs>\r\n      <g>\r\n       <use style=\"stroke:#000000;stroke-width:0.8;\" x=\"64.686364\" xlink:href=\"#m9d0dc15b57\" y=\"224.64\"/>\r\n      </g>\r\n     </g>\r\n     <g id=\"text_1\">\r\n      <!-- 5 -->\r\n      <g transform=\"translate(61.505114 239.238437)scale(0.1 -0.1)\">\r\n       <defs>\r\n        <path d=\"M 10.796875 72.90625 \r\nL 49.515625 72.90625 \r\nL 49.515625 64.59375 \r\nL 19.828125 64.59375 \r\nL 19.828125 46.734375 \r\nQ 21.96875 47.46875 24.109375 47.828125 \r\nQ 26.265625 48.1875 28.421875 48.1875 \r\nQ 40.625 48.1875 47.75 41.5 \r\nQ 54.890625 34.8125 54.890625 23.390625 \r\nQ 54.890625 11.625 47.5625 5.09375 \r\nQ 40.234375 -1.421875 26.90625 -1.421875 \r\nQ 22.3125 -1.421875 17.546875 -0.640625 \r\nQ 12.796875 0.140625 7.71875 1.703125 \r\nL 7.71875 11.625 \r\nQ 12.109375 9.234375 16.796875 8.0625 \r\nQ 21.484375 6.890625 26.703125 6.890625 \r\nQ 35.15625 6.890625 40.078125 11.328125 \r\nQ 45.015625 15.765625 45.015625 23.390625 \r\nQ 45.015625 31 40.078125 35.4375 \r\nQ 35.15625 39.890625 26.703125 39.890625 \r\nQ 22.75 39.890625 18.8125 39.015625 \r\nQ 14.890625 38.140625 10.796875 36.28125 \r\nz\r\n\" id=\"DejaVuSans-53\"/>\r\n       </defs>\r\n       <use xlink:href=\"#DejaVuSans-53\"/>\r\n      </g>\r\n     </g>\r\n    </g>\r\n    <g id=\"xtick_2\">\r\n     <g id=\"line2d_2\">\r\n      <g>\r\n       <use style=\"stroke:#000000;stroke-width:0.8;\" x=\"113.777273\" xlink:href=\"#m9d0dc15b57\" y=\"224.64\"/>\r\n      </g>\r\n     </g>\r\n     <g id=\"text_2\">\r\n      <!-- 10 -->\r\n      <g transform=\"translate(107.414773 239.238437)scale(0.1 -0.1)\">\r\n       <defs>\r\n        <path d=\"M 12.40625 8.296875 \r\nL 28.515625 8.296875 \r\nL 28.515625 63.921875 \r\nL 10.984375 60.40625 \r\nL 10.984375 69.390625 \r\nL 28.421875 72.90625 \r\nL 38.28125 72.90625 \r\nL 38.28125 8.296875 \r\nL 54.390625 8.296875 \r\nL 54.390625 0 \r\nL 12.40625 0 \r\nz\r\n\" id=\"DejaVuSans-49\"/>\r\n        <path d=\"M 31.78125 66.40625 \r\nQ 24.171875 66.40625 20.328125 58.90625 \r\nQ 16.5 51.421875 16.5 36.375 \r\nQ 16.5 21.390625 20.328125 13.890625 \r\nQ 24.171875 6.390625 31.78125 6.390625 \r\nQ 39.453125 6.390625 43.28125 13.890625 \r\nQ 47.125 21.390625 47.125 36.375 \r\nQ 47.125 51.421875 43.28125 58.90625 \r\nQ 39.453125 66.40625 31.78125 66.40625 \r\nz\r\nM 31.78125 74.21875 \r\nQ 44.046875 74.21875 50.515625 64.515625 \r\nQ 56.984375 54.828125 56.984375 36.375 \r\nQ 56.984375 17.96875 50.515625 8.265625 \r\nQ 44.046875 -1.421875 31.78125 -1.421875 \r\nQ 19.53125 -1.421875 13.0625 8.265625 \r\nQ 6.59375 17.96875 6.59375 36.375 \r\nQ 6.59375 54.828125 13.0625 64.515625 \r\nQ 19.53125 74.21875 31.78125 74.21875 \r\nz\r\n\" id=\"DejaVuSans-48\"/>\r\n       </defs>\r\n       <use xlink:href=\"#DejaVuSans-49\"/>\r\n       <use x=\"63.623047\" xlink:href=\"#DejaVuSans-48\"/>\r\n      </g>\r\n     </g>\r\n    </g>\r\n    <g id=\"xtick_3\">\r\n     <g id=\"line2d_3\">\r\n      <g>\r\n       <use style=\"stroke:#000000;stroke-width:0.8;\" x=\"162.868182\" xlink:href=\"#m9d0dc15b57\" y=\"224.64\"/>\r\n      </g>\r\n     </g>\r\n     <g id=\"text_3\">\r\n      <!-- 15 -->\r\n      <g transform=\"translate(156.505682 239.238437)scale(0.1 -0.1)\">\r\n       <use xlink:href=\"#DejaVuSans-49\"/>\r\n       <use x=\"63.623047\" xlink:href=\"#DejaVuSans-53\"/>\r\n      </g>\r\n     </g>\r\n    </g>\r\n    <g id=\"xtick_4\">\r\n     <g id=\"line2d_4\">\r\n      <g>\r\n       <use style=\"stroke:#000000;stroke-width:0.8;\" x=\"211.959091\" xlink:href=\"#m9d0dc15b57\" y=\"224.64\"/>\r\n      </g>\r\n     </g>\r\n     <g id=\"text_4\">\r\n      <!-- 20 -->\r\n      <g transform=\"translate(205.596591 239.238437)scale(0.1 -0.1)\">\r\n       <defs>\r\n        <path d=\"M 19.1875 8.296875 \r\nL 53.609375 8.296875 \r\nL 53.609375 0 \r\nL 7.328125 0 \r\nL 7.328125 8.296875 \r\nQ 12.9375 14.109375 22.625 23.890625 \r\nQ 32.328125 33.6875 34.8125 36.53125 \r\nQ 39.546875 41.84375 41.421875 45.53125 \r\nQ 43.3125 49.21875 43.3125 52.78125 \r\nQ 43.3125 58.59375 39.234375 62.25 \r\nQ 35.15625 65.921875 28.609375 65.921875 \r\nQ 23.96875 65.921875 18.8125 64.3125 \r\nQ 13.671875 62.703125 7.8125 59.421875 \r\nL 7.8125 69.390625 \r\nQ 13.765625 71.78125 18.9375 73 \r\nQ 24.125 74.21875 28.421875 74.21875 \r\nQ 39.75 74.21875 46.484375 68.546875 \r\nQ 53.21875 62.890625 53.21875 53.421875 \r\nQ 53.21875 48.921875 51.53125 44.890625 \r\nQ 49.859375 40.875 45.40625 35.40625 \r\nQ 44.1875 33.984375 37.640625 27.21875 \r\nQ 31.109375 20.453125 19.1875 8.296875 \r\nz\r\n\" id=\"DejaVuSans-50\"/>\r\n       </defs>\r\n       <use xlink:href=\"#DejaVuSans-50\"/>\r\n       <use x=\"63.623047\" xlink:href=\"#DejaVuSans-48\"/>\r\n      </g>\r\n     </g>\r\n    </g>\r\n    <g id=\"xtick_5\">\r\n     <g id=\"line2d_5\">\r\n      <g>\r\n       <use style=\"stroke:#000000;stroke-width:0.8;\" x=\"261.05\" xlink:href=\"#m9d0dc15b57\" y=\"224.64\"/>\r\n      </g>\r\n     </g>\r\n     <g id=\"text_5\">\r\n      <!-- 25 -->\r\n      <g transform=\"translate(254.6875 239.238437)scale(0.1 -0.1)\">\r\n       <use xlink:href=\"#DejaVuSans-50\"/>\r\n       <use x=\"63.623047\" xlink:href=\"#DejaVuSans-53\"/>\r\n      </g>\r\n     </g>\r\n    </g>\r\n    <g id=\"xtick_6\">\r\n     <g id=\"line2d_6\">\r\n      <g>\r\n       <use style=\"stroke:#000000;stroke-width:0.8;\" x=\"310.140909\" xlink:href=\"#m9d0dc15b57\" y=\"224.64\"/>\r\n      </g>\r\n     </g>\r\n     <g id=\"text_6\">\r\n      <!-- 30 -->\r\n      <g transform=\"translate(303.778409 239.238437)scale(0.1 -0.1)\">\r\n       <defs>\r\n        <path d=\"M 40.578125 39.3125 \r\nQ 47.65625 37.796875 51.625 33 \r\nQ 55.609375 28.21875 55.609375 21.1875 \r\nQ 55.609375 10.40625 48.1875 4.484375 \r\nQ 40.765625 -1.421875 27.09375 -1.421875 \r\nQ 22.515625 -1.421875 17.65625 -0.515625 \r\nQ 12.796875 0.390625 7.625 2.203125 \r\nL 7.625 11.71875 \r\nQ 11.71875 9.328125 16.59375 8.109375 \r\nQ 21.484375 6.890625 26.8125 6.890625 \r\nQ 36.078125 6.890625 40.9375 10.546875 \r\nQ 45.796875 14.203125 45.796875 21.1875 \r\nQ 45.796875 27.640625 41.28125 31.265625 \r\nQ 36.765625 34.90625 28.71875 34.90625 \r\nL 20.21875 34.90625 \r\nL 20.21875 43.015625 \r\nL 29.109375 43.015625 \r\nQ 36.375 43.015625 40.234375 45.921875 \r\nQ 44.09375 48.828125 44.09375 54.296875 \r\nQ 44.09375 59.90625 40.109375 62.90625 \r\nQ 36.140625 65.921875 28.71875 65.921875 \r\nQ 24.65625 65.921875 20.015625 65.03125 \r\nQ 15.375 64.15625 9.8125 62.3125 \r\nL 9.8125 71.09375 \r\nQ 15.4375 72.65625 20.34375 73.4375 \r\nQ 25.25 74.21875 29.59375 74.21875 \r\nQ 40.828125 74.21875 47.359375 69.109375 \r\nQ 53.90625 64.015625 53.90625 55.328125 \r\nQ 53.90625 49.265625 50.4375 45.09375 \r\nQ 46.96875 40.921875 40.578125 39.3125 \r\nz\r\n\" id=\"DejaVuSans-51\"/>\r\n       </defs>\r\n       <use xlink:href=\"#DejaVuSans-51\"/>\r\n       <use x=\"63.623047\" xlink:href=\"#DejaVuSans-48\"/>\r\n      </g>\r\n     </g>\r\n    </g>\r\n    <g id=\"xtick_7\">\r\n     <g id=\"line2d_7\">\r\n      <g>\r\n       <use style=\"stroke:#000000;stroke-width:0.8;\" x=\"359.231818\" xlink:href=\"#m9d0dc15b57\" y=\"224.64\"/>\r\n      </g>\r\n     </g>\r\n     <g id=\"text_7\">\r\n      <!-- 35 -->\r\n      <g transform=\"translate(352.869318 239.238437)scale(0.1 -0.1)\">\r\n       <use xlink:href=\"#DejaVuSans-51\"/>\r\n       <use x=\"63.623047\" xlink:href=\"#DejaVuSans-53\"/>\r\n      </g>\r\n     </g>\r\n    </g>\r\n   </g>\r\n   <g id=\"matplotlib.axis_2\">\r\n    <g id=\"ytick_1\">\r\n     <g id=\"line2d_8\">\r\n      <defs>\r\n       <path d=\"M 0 0 \r\nL -3.5 0 \r\n\" id=\"m6ef26c32bd\" style=\"stroke:#000000;stroke-width:0.8;\"/>\r\n      </defs>\r\n      <g>\r\n       <use style=\"stroke:#000000;stroke-width:0.8;\" x=\"39.65\" xlink:href=\"#m6ef26c32bd\" y=\"214.756364\"/>\r\n      </g>\r\n     </g>\r\n     <g id=\"text_8\">\r\n      <!-- 0 -->\r\n      <g transform=\"translate(26.2875 218.555582)scale(0.1 -0.1)\">\r\n       <use xlink:href=\"#DejaVuSans-48\"/>\r\n      </g>\r\n     </g>\r\n    </g>\r\n    <g id=\"ytick_2\">\r\n     <g id=\"line2d_9\">\r\n      <g>\r\n       <use style=\"stroke:#000000;stroke-width:0.8;\" x=\"39.65\" xlink:href=\"#m6ef26c32bd\" y=\"188.4\"/>\r\n      </g>\r\n     </g>\r\n     <g id=\"text_9\">\r\n      <!-- 1000 -->\r\n      <g transform=\"translate(7.2 192.199219)scale(0.1 -0.1)\">\r\n       <use xlink:href=\"#DejaVuSans-49\"/>\r\n       <use x=\"63.623047\" xlink:href=\"#DejaVuSans-48\"/>\r\n       <use x=\"127.246094\" xlink:href=\"#DejaVuSans-48\"/>\r\n       <use x=\"190.869141\" xlink:href=\"#DejaVuSans-48\"/>\r\n      </g>\r\n     </g>\r\n    </g>\r\n    <g id=\"ytick_3\">\r\n     <g id=\"line2d_10\">\r\n      <g>\r\n       <use style=\"stroke:#000000;stroke-width:0.8;\" x=\"39.65\" xlink:href=\"#m6ef26c32bd\" y=\"162.043636\"/>\r\n      </g>\r\n     </g>\r\n     <g id=\"text_10\">\r\n      <!-- 2000 -->\r\n      <g transform=\"translate(7.2 165.842855)scale(0.1 -0.1)\">\r\n       <use xlink:href=\"#DejaVuSans-50\"/>\r\n       <use x=\"63.623047\" xlink:href=\"#DejaVuSans-48\"/>\r\n       <use x=\"127.246094\" xlink:href=\"#DejaVuSans-48\"/>\r\n       <use x=\"190.869141\" xlink:href=\"#DejaVuSans-48\"/>\r\n      </g>\r\n     </g>\r\n    </g>\r\n    <g id=\"ytick_4\">\r\n     <g id=\"line2d_11\">\r\n      <g>\r\n       <use style=\"stroke:#000000;stroke-width:0.8;\" x=\"39.65\" xlink:href=\"#m6ef26c32bd\" y=\"135.687273\"/>\r\n      </g>\r\n     </g>\r\n     <g id=\"text_11\">\r\n      <!-- 3000 -->\r\n      <g transform=\"translate(7.2 139.486491)scale(0.1 -0.1)\">\r\n       <use xlink:href=\"#DejaVuSans-51\"/>\r\n       <use x=\"63.623047\" xlink:href=\"#DejaVuSans-48\"/>\r\n       <use x=\"127.246094\" xlink:href=\"#DejaVuSans-48\"/>\r\n       <use x=\"190.869141\" xlink:href=\"#DejaVuSans-48\"/>\r\n      </g>\r\n     </g>\r\n    </g>\r\n    <g id=\"ytick_5\">\r\n     <g id=\"line2d_12\">\r\n      <g>\r\n       <use style=\"stroke:#000000;stroke-width:0.8;\" x=\"39.65\" xlink:href=\"#m6ef26c32bd\" y=\"109.330909\"/>\r\n      </g>\r\n     </g>\r\n     <g id=\"text_12\">\r\n      <!-- 4000 -->\r\n      <g transform=\"translate(7.2 113.130128)scale(0.1 -0.1)\">\r\n       <defs>\r\n        <path d=\"M 37.796875 64.3125 \r\nL 12.890625 25.390625 \r\nL 37.796875 25.390625 \r\nz\r\nM 35.203125 72.90625 \r\nL 47.609375 72.90625 \r\nL 47.609375 25.390625 \r\nL 58.015625 25.390625 \r\nL 58.015625 17.1875 \r\nL 47.609375 17.1875 \r\nL 47.609375 0 \r\nL 37.796875 0 \r\nL 37.796875 17.1875 \r\nL 4.890625 17.1875 \r\nL 4.890625 26.703125 \r\nz\r\n\" id=\"DejaVuSans-52\"/>\r\n       </defs>\r\n       <use xlink:href=\"#DejaVuSans-52\"/>\r\n       <use x=\"63.623047\" xlink:href=\"#DejaVuSans-48\"/>\r\n       <use x=\"127.246094\" xlink:href=\"#DejaVuSans-48\"/>\r\n       <use x=\"190.869141\" xlink:href=\"#DejaVuSans-48\"/>\r\n      </g>\r\n     </g>\r\n    </g>\r\n    <g id=\"ytick_6\">\r\n     <g id=\"line2d_13\">\r\n      <g>\r\n       <use style=\"stroke:#000000;stroke-width:0.8;\" x=\"39.65\" xlink:href=\"#m6ef26c32bd\" y=\"82.974545\"/>\r\n      </g>\r\n     </g>\r\n     <g id=\"text_13\">\r\n      <!-- 5000 -->\r\n      <g transform=\"translate(7.2 86.773764)scale(0.1 -0.1)\">\r\n       <use xlink:href=\"#DejaVuSans-53\"/>\r\n       <use x=\"63.623047\" xlink:href=\"#DejaVuSans-48\"/>\r\n       <use x=\"127.246094\" xlink:href=\"#DejaVuSans-48\"/>\r\n       <use x=\"190.869141\" xlink:href=\"#DejaVuSans-48\"/>\r\n      </g>\r\n     </g>\r\n    </g>\r\n    <g id=\"ytick_7\">\r\n     <g id=\"line2d_14\">\r\n      <g>\r\n       <use style=\"stroke:#000000;stroke-width:0.8;\" x=\"39.65\" xlink:href=\"#m6ef26c32bd\" y=\"56.618182\"/>\r\n      </g>\r\n     </g>\r\n     <g id=\"text_14\">\r\n      <!-- 6000 -->\r\n      <g transform=\"translate(7.2 60.417401)scale(0.1 -0.1)\">\r\n       <defs>\r\n        <path d=\"M 33.015625 40.375 \r\nQ 26.375 40.375 22.484375 35.828125 \r\nQ 18.609375 31.296875 18.609375 23.390625 \r\nQ 18.609375 15.53125 22.484375 10.953125 \r\nQ 26.375 6.390625 33.015625 6.390625 \r\nQ 39.65625 6.390625 43.53125 10.953125 \r\nQ 47.40625 15.53125 47.40625 23.390625 \r\nQ 47.40625 31.296875 43.53125 35.828125 \r\nQ 39.65625 40.375 33.015625 40.375 \r\nz\r\nM 52.59375 71.296875 \r\nL 52.59375 62.3125 \r\nQ 48.875 64.0625 45.09375 64.984375 \r\nQ 41.3125 65.921875 37.59375 65.921875 \r\nQ 27.828125 65.921875 22.671875 59.328125 \r\nQ 17.53125 52.734375 16.796875 39.40625 \r\nQ 19.671875 43.65625 24.015625 45.921875 \r\nQ 28.375 48.1875 33.59375 48.1875 \r\nQ 44.578125 48.1875 50.953125 41.515625 \r\nQ 57.328125 34.859375 57.328125 23.390625 \r\nQ 57.328125 12.15625 50.6875 5.359375 \r\nQ 44.046875 -1.421875 33.015625 -1.421875 \r\nQ 20.359375 -1.421875 13.671875 8.265625 \r\nQ 6.984375 17.96875 6.984375 36.375 \r\nQ 6.984375 53.65625 15.1875 63.9375 \r\nQ 23.390625 74.21875 37.203125 74.21875 \r\nQ 40.921875 74.21875 44.703125 73.484375 \r\nQ 48.484375 72.75 52.59375 71.296875 \r\nz\r\n\" id=\"DejaVuSans-54\"/>\r\n       </defs>\r\n       <use xlink:href=\"#DejaVuSans-54\"/>\r\n       <use x=\"63.623047\" xlink:href=\"#DejaVuSans-48\"/>\r\n       <use x=\"127.246094\" xlink:href=\"#DejaVuSans-48\"/>\r\n       <use x=\"190.869141\" xlink:href=\"#DejaVuSans-48\"/>\r\n      </g>\r\n     </g>\r\n    </g>\r\n    <g id=\"ytick_8\">\r\n     <g id=\"line2d_15\">\r\n      <g>\r\n       <use style=\"stroke:#000000;stroke-width:0.8;\" x=\"39.65\" xlink:href=\"#m6ef26c32bd\" y=\"30.261818\"/>\r\n      </g>\r\n     </g>\r\n     <g id=\"text_15\">\r\n      <!-- 7000 -->\r\n      <g transform=\"translate(7.2 34.061037)scale(0.1 -0.1)\">\r\n       <defs>\r\n        <path d=\"M 8.203125 72.90625 \r\nL 55.078125 72.90625 \r\nL 55.078125 68.703125 \r\nL 28.609375 0 \r\nL 18.3125 0 \r\nL 43.21875 64.59375 \r\nL 8.203125 64.59375 \r\nz\r\n\" id=\"DejaVuSans-55\"/>\r\n       </defs>\r\n       <use xlink:href=\"#DejaVuSans-55\"/>\r\n       <use x=\"63.623047\" xlink:href=\"#DejaVuSans-48\"/>\r\n       <use x=\"127.246094\" xlink:href=\"#DejaVuSans-48\"/>\r\n       <use x=\"190.869141\" xlink:href=\"#DejaVuSans-48\"/>\r\n      </g>\r\n     </g>\r\n    </g>\r\n   </g>\r\n   <g id=\"patch_3\">\r\n    <path d=\"M 39.65 224.64 \r\nL 39.65 7.2 \r\n\" style=\"fill:none;stroke:#000000;stroke-linecap:square;stroke-linejoin:miter;stroke-width:0.8;\"/>\r\n   </g>\r\n   <g id=\"patch_4\">\r\n    <path d=\"M 374.45 224.64 \r\nL 374.45 7.2 \r\n\" style=\"fill:none;stroke:#000000;stroke-linecap:square;stroke-linejoin:miter;stroke-width:0.8;\"/>\r\n   </g>\r\n   <g id=\"patch_5\">\r\n    <path d=\"M 39.65 224.64 \r\nL 374.45 224.64 \r\n\" style=\"fill:none;stroke:#000000;stroke-linecap:square;stroke-linejoin:miter;stroke-width:0.8;\"/>\r\n   </g>\r\n   <g id=\"patch_6\">\r\n    <path d=\"M 39.65 7.2 \r\nL 374.45 7.2 \r\n\" style=\"fill:none;stroke:#000000;stroke-linecap:square;stroke-linejoin:miter;stroke-width:0.8;\"/>\r\n   </g>\r\n  </g>\r\n </g>\r\n <defs>\r\n  <clipPath id=\"p9b4be8a761\">\r\n   <rect height=\"217.44\" width=\"334.8\" x=\"39.65\" y=\"7.2\"/>\r\n  </clipPath>\r\n </defs>\r\n</svg>\r\n",
      "image/png": "[encoded data removed]"
     },
     "metadata": {
      "needs_background": "light"
     }
    }
   ],
   "source": [
    "plt.scatter(sample_geo['Porosity'].values, sample_geo['Permeability'].values)"
   ]
  },
  {
   "cell_type": "code",
   "execution_count": 16,
   "metadata": {},
   "outputs": [
    {
     "output_type": "execute_result",
     "data": {
      "text/plain": [
       "<matplotlib.collections.PathCollection at 0x1d00d9f7370>"
      ]
     },
     "metadata": {},
     "execution_count": 16
    },
    {
     "output_type": "display_data",
     "data": {
      "text/plain": "<Figure size 432x288 with 1 Axes>",
      "image/svg+xml": "<?xml version=\"1.0\" encoding=\"utf-8\" standalone=\"no\"?>\r\n<!DOCTYPE svg PUBLIC \"-//W3C//DTD SVG 1.1//EN\"\r\n  \"http://www.w3.org/Graphics/SVG/1.1/DTD/svg11.dtd\">\r\n<!-- Created with matplotlib (https://matplotlib.org/) -->\r\n<svg height=\"248.518125pt\" version=\"1.1\" viewBox=\"0 0 381.65 248.518125\" width=\"381.65pt\" xmlns=\"http://www.w3.org/2000/svg\" xmlns:xlink=\"http://www.w3.org/1999/xlink\">\r\n <metadata>\r\n  <rdf:RDF xmlns:cc=\"http://creativecommons.org/ns#\" xmlns:dc=\"http://purl.org/dc/elements/1.1/\" xmlns:rdf=\"http://www.w3.org/1999/02/22-rdf-syntax-ns#\">\r\n   <cc:Work>\r\n    <dc:type rdf:resource=\"http://purl.org/dc/dcmitype/StillImage\"/>\r\n    <dc:date>2021-04-15T10:02:33.889287</dc:date>\r\n    <dc:format>image/svg+xml</dc:format>\r\n    <dc:creator>\r\n     <cc:Agent>\r\n      <dc:title>Matplotlib v3.3.4, https://matplotlib.org/</dc:title>\r\n     </cc:Agent>\r\n    </dc:creator>\r\n   </cc:Work>\r\n  </rdf:RDF>\r\n </metadata>\r\n <defs>\r\n  <style type=\"text/css\">*{stroke-linecap:butt;stroke-linejoin:round;}</style>\r\n </defs>\r\n <g id=\"figure_1\">\r\n  <g id=\"patch_1\">\r\n   <path d=\"M -0 248.518125 \r\nL 381.65 248.518125 \r\nL 381.65 0 \r\nL -0 0 \r\nz\r\n\" style=\"fill:none;\"/>\r\n  </g>\r\n  <g id=\"axes_1\">\r\n   <g id=\"patch_2\">\r\n    <path d=\"M 39.65 224.64 \r\nL 374.45 224.64 \r\nL 374.45 7.2 \r\nL 39.65 7.2 \r\nz\r\n\" style=\"fill:#ffffff;\"/>\r\n   </g>\r\n   <g id=\"PathCollection_1\">\r\n    <defs>\r\n     <path d=\"M 0 3.162278 \r\nC 0.838646 3.162278 1.643056 2.82908 2.236068 2.236068 \r\nC 2.82908 1.643056 3.162278 0.838646 3.162278 -0 \r\nC 3.162278 -0.838646 2.82908 -1.643056 2.236068 -2.236068 \r\nC 1.643056 -2.82908 0.838646 -3.162278 0 -3.162278 \r\nC -0.838646 -3.162278 -1.643056 -2.82908 -2.236068 -2.236068 \r\nC -2.82908 -1.643056 -3.162278 -0.838646 -3.162278 0 \r\nC -3.162278 0.838646 -2.82908 1.643056 -2.236068 2.236068 \r\nC -1.643056 2.82908 -0.838646 3.162278 0 3.162278 \r\nz\r\n\" id=\"C0_0_b4ef41c69f\"/>\r\n    </defs>\r\n    <g clip-path=\"url(#pa776969385)\">\r\n     <use style=\"fill:#440154;stroke:#440154;\" x=\"113.777273\" xlink:href=\"#C0_0_b4ef41c69f\" y=\"214.545513\"/>\r\n    </g>\r\n    <g clip-path=\"url(#pa776969385)\">\r\n     <use style=\"fill:#21918c;stroke:#21918c;\" x=\"211.959091\" xlink:href=\"#C0_0_b4ef41c69f\" y=\"206.849455\"/>\r\n    </g>\r\n    <g clip-path=\"url(#pa776969385)\">\r\n     <use style=\"fill:#440154;stroke:#440154;\" x=\"211.959091\" xlink:href=\"#C0_0_b4ef41c69f\" y=\"214.361018\"/>\r\n    </g>\r\n    <g clip-path=\"url(#pa776969385)\">\r\n     <use style=\"fill:#440154;stroke:#440154;\" x=\"64.686364\" xlink:href=\"#C0_0_b4ef41c69f\" y=\"214.753728\"/>\r\n    </g>\r\n    <g clip-path=\"url(#pa776969385)\">\r\n     <use style=\"fill:#21918c;stroke:#21918c;\" x=\"182.504545\" xlink:href=\"#C0_0_b4ef41c69f\" y=\"201.578182\"/>\r\n    </g>\r\n    <g clip-path=\"url(#pa776969385)\">\r\n     <use style=\"fill:#21918c;stroke:#21918c;\" x=\"148.140909\" xlink:href=\"#C0_0_b4ef41c69f\" y=\"206.058764\"/>\r\n    </g>\r\n    <g clip-path=\"url(#pa776969385)\">\r\n     <use style=\"fill:#440154;stroke:#440154;\" x=\"211.959091\" xlink:href=\"#C0_0_b4ef41c69f\" y=\"209.485091\"/>\r\n    </g>\r\n    <g clip-path=\"url(#pa776969385)\">\r\n     <use style=\"fill:#fde725;stroke:#fde725;\" x=\"192.322727\" xlink:href=\"#C0_0_b4ef41c69f\" y=\"135.687273\"/>\r\n    </g>\r\n    <g clip-path=\"url(#pa776969385)\">\r\n     <use style=\"fill:#440154;stroke:#440154;\" x=\"221.777273\" xlink:href=\"#C0_0_b4ef41c69f\" y=\"208.167273\"/>\r\n    </g>\r\n    <g clip-path=\"url(#pa776969385)\">\r\n     <use style=\"fill:#440154;stroke:#440154;\" x=\"113.777273\" xlink:href=\"#C0_0_b4ef41c69f\" y=\"214.677295\"/>\r\n    </g>\r\n    <g clip-path=\"url(#pa776969385)\">\r\n     <use style=\"fill:#440154;stroke:#440154;\" x=\"202.140909\" xlink:href=\"#C0_0_b4ef41c69f\" y=\"214.624582\"/>\r\n    </g>\r\n    <g clip-path=\"url(#pa776969385)\">\r\n     <use style=\"fill:#440154;stroke:#440154;\" x=\"226.686364\" xlink:href=\"#C0_0_b4ef41c69f\" y=\"213.306764\"/>\r\n    </g>\r\n    <g clip-path=\"url(#pa776969385)\">\r\n     <use style=\"fill:#440154;stroke:#440154;\" x=\"211.959091\" xlink:href=\"#C0_0_b4ef41c69f\" y=\"208.826182\"/>\r\n    </g>\r\n    <g clip-path=\"url(#pa776969385)\">\r\n     <use style=\"fill:#21918c;stroke:#21918c;\" x=\"153.05\" xlink:href=\"#C0_0_b4ef41c69f\" y=\"205.7952\"/>\r\n    </g>\r\n    <g clip-path=\"url(#pa776969385)\">\r\n     <use style=\"fill:#21918c;stroke:#21918c;\" x=\"251.231818\" xlink:href=\"#C0_0_b4ef41c69f\" y=\"206.849455\"/>\r\n    </g>\r\n    <g clip-path=\"url(#pa776969385)\">\r\n     <use style=\"fill:#21918c;stroke:#21918c;\" x=\"280.686364\" xlink:href=\"#C0_0_b4ef41c69f\" y=\"192.722444\"/>\r\n    </g>\r\n    <g clip-path=\"url(#pa776969385)\">\r\n     <use style=\"fill:#fde725;stroke:#fde725;\" x=\"290.504545\" xlink:href=\"#C0_0_b4ef41c69f\" y=\"82.974545\"/>\r\n    </g>\r\n    <g clip-path=\"url(#pa776969385)\">\r\n     <use style=\"fill:#440154;stroke:#440154;\" x=\"211.959091\" xlink:href=\"#C0_0_b4ef41c69f\" y=\"209.880436\"/>\r\n    </g>\r\n    <g clip-path=\"url(#pa776969385)\">\r\n     <use style=\"fill:#440154;stroke:#440154;\" x=\"123.595455\" xlink:href=\"#C0_0_b4ef41c69f\" y=\"214.743185\"/>\r\n    </g>\r\n    <g clip-path=\"url(#pa776969385)\">\r\n     <use style=\"fill:#fde725;stroke:#fde725;\" x=\"280.686364\" xlink:href=\"#C0_0_b4ef41c69f\" y=\"82.974545\"/>\r\n    </g>\r\n    <g clip-path=\"url(#pa776969385)\">\r\n     <use style=\"fill:#21918c;stroke:#21918c;\" x=\"261.05\" xlink:href=\"#C0_0_b4ef41c69f\" y=\"188.4\"/>\r\n    </g>\r\n    <g clip-path=\"url(#pa776969385)\">\r\n     <use style=\"fill:#21918c;stroke:#21918c;\" x=\"192.322727\" xlink:href=\"#C0_0_b4ef41c69f\" y=\"204.213818\"/>\r\n    </g>\r\n    <g clip-path=\"url(#pa776969385)\">\r\n     <use style=\"fill:#21918c;stroke:#21918c;\" x=\"295.413636\" xlink:href=\"#C0_0_b4ef41c69f\" y=\"155.454545\"/>\r\n    </g>\r\n    <g clip-path=\"url(#pa776969385)\">\r\n     <use style=\"fill:#21918c;stroke:#21918c;\" x=\"182.504545\" xlink:href=\"#C0_0_b4ef41c69f\" y=\"205.531636\"/>\r\n    </g>\r\n    <g clip-path=\"url(#pa776969385)\">\r\n     <use style=\"fill:#440154;stroke:#440154;\" x=\"153.05\" xlink:href=\"#C0_0_b4ef41c69f\" y=\"212.120727\"/>\r\n    </g>\r\n    <g clip-path=\"url(#pa776969385)\">\r\n     <use style=\"fill:#440154;stroke:#440154;\" x=\"192.322727\" xlink:href=\"#C0_0_b4ef41c69f\" y=\"209.485091\"/>\r\n    </g>\r\n    <g clip-path=\"url(#pa776969385)\">\r\n     <use style=\"fill:#440154;stroke:#440154;\" x=\"172.686364\" xlink:href=\"#C0_0_b4ef41c69f\" y=\"214.74055\"/>\r\n    </g>\r\n    <g clip-path=\"url(#pa776969385)\">\r\n     <use style=\"fill:#440154;stroke:#440154;\" x=\"231.595455\" xlink:href=\"#C0_0_b4ef41c69f\" y=\"210.539345\"/>\r\n    </g>\r\n    <g clip-path=\"url(#pa776969385)\">\r\n     <use style=\"fill:#440154;stroke:#440154;\" x=\"280.686364\" xlink:href=\"#C0_0_b4ef41c69f\" y=\"212.647855\"/>\r\n    </g>\r\n    <g clip-path=\"url(#pa776969385)\">\r\n     <use style=\"fill:#21918c;stroke:#21918c;\" x=\"251.231818\" xlink:href=\"#C0_0_b4ef41c69f\" y=\"175.221818\"/>\r\n    </g>\r\n    <g clip-path=\"url(#pa776969385)\">\r\n     <use style=\"fill:#440154;stroke:#440154;\" x=\"211.959091\" xlink:href=\"#C0_0_b4ef41c69f\" y=\"213.649396\"/>\r\n    </g>\r\n    <g clip-path=\"url(#pa776969385)\">\r\n     <use style=\"fill:#440154;stroke:#440154;\" x=\"141.268182\" xlink:href=\"#C0_0_b4ef41c69f\" y=\"212.674211\"/>\r\n    </g>\r\n    <g clip-path=\"url(#pa776969385)\">\r\n     <use style=\"fill:#440154;stroke:#440154;\" x=\"162.868182\" xlink:href=\"#C0_0_b4ef41c69f\" y=\"213.702109\"/>\r\n    </g>\r\n    <g clip-path=\"url(#pa776969385)\">\r\n     <use style=\"fill:#21918c;stroke:#21918c;\" x=\"251.231818\" xlink:href=\"#C0_0_b4ef41c69f\" y=\"176.539636\"/>\r\n    </g>\r\n    <g clip-path=\"url(#pa776969385)\">\r\n     <use style=\"fill:#440154;stroke:#440154;\" x=\"123.595455\" xlink:href=\"#C0_0_b4ef41c69f\" y=\"214.229236\"/>\r\n    </g>\r\n    <g clip-path=\"url(#pa776969385)\">\r\n     <use style=\"fill:#440154;stroke:#440154;\" x=\"108.868182\" xlink:href=\"#C0_0_b4ef41c69f\" y=\"214.4928\"/>\r\n    </g>\r\n    <g clip-path=\"url(#pa776969385)\">\r\n     <use style=\"fill:#21918c;stroke:#21918c;\" x=\"290.504545\" xlink:href=\"#C0_0_b4ef41c69f\" y=\"200.260364\"/>\r\n    </g>\r\n    <g clip-path=\"url(#pa776969385)\">\r\n     <use style=\"fill:#440154;stroke:#440154;\" x=\"84.322727\" xlink:href=\"#C0_0_b4ef41c69f\" y=\"214.756364\"/>\r\n    </g>\r\n    <g clip-path=\"url(#pa776969385)\">\r\n     <use style=\"fill:#21918c;stroke:#21918c;\" x=\"143.231818\" xlink:href=\"#C0_0_b4ef41c69f\" y=\"188.4\"/>\r\n    </g>\r\n    <g clip-path=\"url(#pa776969385)\">\r\n     <use style=\"fill:#21918c;stroke:#21918c;\" x=\"221.777273\" xlink:href=\"#C0_0_b4ef41c69f\" y=\"197.624727\"/>\r\n    </g>\r\n    <g clip-path=\"url(#pa776969385)\">\r\n     <use style=\"fill:#440154;stroke:#440154;\" x=\"182.504545\" xlink:href=\"#C0_0_b4ef41c69f\" y=\"214.677295\"/>\r\n    </g>\r\n    <g clip-path=\"url(#pa776969385)\">\r\n     <use style=\"fill:#440154;stroke:#440154;\" x=\"192.322727\" xlink:href=\"#C0_0_b4ef41c69f\" y=\"209.485091\"/>\r\n    </g>\r\n    <g clip-path=\"url(#pa776969385)\">\r\n     <use style=\"fill:#440154;stroke:#440154;\" x=\"241.413636\" xlink:href=\"#C0_0_b4ef41c69f\" y=\"212.120727\"/>\r\n    </g>\r\n    <g clip-path=\"url(#pa776969385)\">\r\n     <use style=\"fill:#440154;stroke:#440154;\" x=\"241.413636\" xlink:href=\"#C0_0_b4ef41c69f\" y=\"212.120727\"/>\r\n    </g>\r\n    <g clip-path=\"url(#pa776969385)\">\r\n     <use style=\"fill:#21918c;stroke:#21918c;\" x=\"280.686364\" xlink:href=\"#C0_0_b4ef41c69f\" y=\"188.4\"/>\r\n    </g>\r\n    <g clip-path=\"url(#pa776969385)\">\r\n     <use style=\"fill:#21918c;stroke:#21918c;\" x=\"280.686364\" xlink:href=\"#C0_0_b4ef41c69f\" y=\"188.4\"/>\r\n    </g>\r\n    <g clip-path=\"url(#pa776969385)\">\r\n     <use style=\"fill:#440154;stroke:#440154;\" x=\"143.231818\" xlink:href=\"#C0_0_b4ef41c69f\" y=\"211.330036\"/>\r\n    </g>\r\n    <g clip-path=\"url(#pa776969385)\">\r\n     <use style=\"fill:#440154;stroke:#440154;\" x=\"202.140909\" xlink:href=\"#C0_0_b4ef41c69f\" y=\"213.965673\"/>\r\n    </g>\r\n    <g clip-path=\"url(#pa776969385)\">\r\n     <use style=\"fill:#21918c;stroke:#21918c;\" x=\"347.45\" xlink:href=\"#C0_0_b4ef41c69f\" y=\"148.10112\"/>\r\n    </g>\r\n    <g clip-path=\"url(#pa776969385)\">\r\n     <use style=\"fill:#21918c;stroke:#21918c;\" x=\"280.686364\" xlink:href=\"#C0_0_b4ef41c69f\" y=\"162.043636\"/>\r\n    </g>\r\n    <g clip-path=\"url(#pa776969385)\">\r\n     <use style=\"fill:#21918c;stroke:#21918c;\" x=\"192.322727\" xlink:href=\"#C0_0_b4ef41c69f\" y=\"201.4464\"/>\r\n    </g>\r\n    <g clip-path=\"url(#pa776969385)\">\r\n     <use style=\"fill:#440154;stroke:#440154;\" x=\"123.595455\" xlink:href=\"#C0_0_b4ef41c69f\" y=\"214.743185\"/>\r\n    </g>\r\n    <g clip-path=\"url(#pa776969385)\">\r\n     <use style=\"fill:#fde725;stroke:#fde725;\" x=\"270.868182\" xlink:href=\"#C0_0_b4ef41c69f\" y=\"148.865455\"/>\r\n    </g>\r\n    <g clip-path=\"url(#pa776969385)\">\r\n     <use style=\"fill:#440154;stroke:#440154;\" x=\"118.686364\" xlink:href=\"#C0_0_b4ef41c69f\" y=\"209.485091\"/>\r\n    </g>\r\n    <g clip-path=\"url(#pa776969385)\">\r\n     <use style=\"fill:#440154;stroke:#440154;\" x=\"103.959091\" xlink:href=\"#C0_0_b4ef41c69f\" y=\"212.120727\"/>\r\n    </g>\r\n    <g clip-path=\"url(#pa776969385)\">\r\n     <use style=\"fill:#21918c;stroke:#21918c;\" x=\"359.231818\" xlink:href=\"#C0_0_b4ef41c69f\" y=\"135.687273\"/>\r\n    </g>\r\n    <g clip-path=\"url(#pa776969385)\">\r\n     <use style=\"fill:#21918c;stroke:#21918c;\" x=\"290.504545\" xlink:href=\"#C0_0_b4ef41c69f\" y=\"162.043636\"/>\r\n    </g>\r\n    <g clip-path=\"url(#pa776969385)\">\r\n     <use style=\"fill:#21918c;stroke:#21918c;\" x=\"275.777273\" xlink:href=\"#C0_0_b4ef41c69f\" y=\"162.043636\"/>\r\n    </g>\r\n    <g clip-path=\"url(#pa776969385)\">\r\n     <use style=\"fill:#440154;stroke:#440154;\" x=\"241.413636\" xlink:href=\"#C0_0_b4ef41c69f\" y=\"209.116102\"/>\r\n    </g>\r\n    <g clip-path=\"url(#pa776969385)\">\r\n     <use style=\"fill:#440154;stroke:#440154;\" x=\"182.504545\" xlink:href=\"#C0_0_b4ef41c69f\" y=\"214.176524\"/>\r\n    </g>\r\n    <g clip-path=\"url(#pa776969385)\">\r\n     <use style=\"fill:#440154;stroke:#440154;\" x=\"261.05\" xlink:href=\"#C0_0_b4ef41c69f\" y=\"212.429097\"/>\r\n    </g>\r\n    <g clip-path=\"url(#pa776969385)\">\r\n     <use style=\"fill:#21918c;stroke:#21918c;\" x=\"211.959091\" xlink:href=\"#C0_0_b4ef41c69f\" y=\"199.838662\"/>\r\n    </g>\r\n    <g clip-path=\"url(#pa776969385)\">\r\n     <use style=\"fill:#fde725;stroke:#fde725;\" x=\"211.959091\" xlink:href=\"#C0_0_b4ef41c69f\" y=\"56.618182\"/>\r\n    </g>\r\n    <g clip-path=\"url(#pa776969385)\">\r\n     <use style=\"fill:#21918c;stroke:#21918c;\" x=\"349.413636\" xlink:href=\"#C0_0_b4ef41c69f\" y=\"175.221818\"/>\r\n    </g>\r\n    <g clip-path=\"url(#pa776969385)\">\r\n     <use style=\"fill:#21918c;stroke:#21918c;\" x=\"329.777273\" xlink:href=\"#C0_0_b4ef41c69f\" y=\"164.679273\"/>\r\n    </g>\r\n    <g clip-path=\"url(#pa776969385)\">\r\n     <use style=\"fill:#440154;stroke:#440154;\" x=\"192.322727\" xlink:href=\"#C0_0_b4ef41c69f\" y=\"212.120727\"/>\r\n    </g>\r\n    <g clip-path=\"url(#pa776969385)\">\r\n     <use style=\"fill:#21918c;stroke:#21918c;\" x=\"261.05\" xlink:href=\"#C0_0_b4ef41c69f\" y=\"159.460713\"/>\r\n    </g>\r\n    <g clip-path=\"url(#pa776969385)\">\r\n     <use style=\"fill:#21918c;stroke:#21918c;\" x=\"182.504545\" xlink:href=\"#C0_0_b4ef41c69f\" y=\"201.578182\"/>\r\n    </g>\r\n    <g clip-path=\"url(#pa776969385)\">\r\n     <use style=\"fill:#440154;stroke:#440154;\" x=\"290.504545\" xlink:href=\"#C0_0_b4ef41c69f\" y=\"208.430836\"/>\r\n    </g>\r\n    <g clip-path=\"url(#pa776969385)\">\r\n     <use style=\"fill:#21918c;stroke:#21918c;\" x=\"162.868182\" xlink:href=\"#C0_0_b4ef41c69f\" y=\"202.105309\"/>\r\n    </g>\r\n    <g clip-path=\"url(#pa776969385)\">\r\n     <use style=\"fill:#440154;stroke:#440154;\" x=\"182.504545\" xlink:href=\"#C0_0_b4ef41c69f\" y=\"210.802909\"/>\r\n    </g>\r\n    <g clip-path=\"url(#pa776969385)\">\r\n     <use style=\"fill:#440154;stroke:#440154;\" x=\"94.140909\" xlink:href=\"#C0_0_b4ef41c69f\" y=\"214.031564\"/>\r\n    </g>\r\n    <g clip-path=\"url(#pa776969385)\">\r\n     <use style=\"fill:#440154;stroke:#440154;\" x=\"211.959091\" xlink:href=\"#C0_0_b4ef41c69f\" y=\"211.066473\"/>\r\n    </g>\r\n    <g clip-path=\"url(#pa776969385)\">\r\n     <use style=\"fill:#440154;stroke:#440154;\" x=\"211.959091\" xlink:href=\"#C0_0_b4ef41c69f\" y=\"214.281949\"/>\r\n    </g>\r\n    <g clip-path=\"url(#pa776969385)\">\r\n     <use style=\"fill:#440154;stroke:#440154;\" x=\"172.686364\" xlink:href=\"#C0_0_b4ef41c69f\" y=\"214.4928\"/>\r\n    </g>\r\n    <g clip-path=\"url(#pa776969385)\">\r\n     <use style=\"fill:#21918c;stroke:#21918c;\" x=\"310.140909\" xlink:href=\"#C0_0_b4ef41c69f\" y=\"173.904\"/>\r\n    </g>\r\n    <g clip-path=\"url(#pa776969385)\">\r\n     <use style=\"fill:#440154;stroke:#440154;\" x=\"231.595455\" xlink:href=\"#C0_0_b4ef41c69f\" y=\"214.044742\"/>\r\n    </g>\r\n    <g clip-path=\"url(#pa776969385)\">\r\n     <use style=\"fill:#21918c;stroke:#21918c;\" x=\"211.959091\" xlink:href=\"#C0_0_b4ef41c69f\" y=\"183.128727\"/>\r\n    </g>\r\n    <g clip-path=\"url(#pa776969385)\">\r\n     <use style=\"fill:#440154;stroke:#440154;\" x=\"221.777273\" xlink:href=\"#C0_0_b4ef41c69f\" y=\"214.281949\"/>\r\n    </g>\r\n    <g clip-path=\"url(#pa776969385)\">\r\n     <use style=\"fill:#440154;stroke:#440154;\" x=\"172.686364\" xlink:href=\"#C0_0_b4ef41c69f\" y=\"214.4928\"/>\r\n    </g>\r\n    <g clip-path=\"url(#pa776969385)\">\r\n     <use style=\"fill:#440154;stroke:#440154;\" x=\"251.231818\" xlink:href=\"#C0_0_b4ef41c69f\" y=\"209.959505\"/>\r\n    </g>\r\n    <g clip-path=\"url(#pa776969385)\">\r\n     <use style=\"fill:#440154;stroke:#440154;\" x=\"211.959091\" xlink:href=\"#C0_0_b4ef41c69f\" y=\"211.461818\"/>\r\n    </g>\r\n    <g clip-path=\"url(#pa776969385)\">\r\n     <use style=\"fill:#440154;stroke:#440154;\" x=\"133.413636\" xlink:href=\"#C0_0_b4ef41c69f\" y=\"214.571869\"/>\r\n    </g>\r\n    <g clip-path=\"url(#pa776969385)\">\r\n     <use style=\"fill:#440154;stroke:#440154;\" x=\"146.177273\" xlink:href=\"#C0_0_b4ef41c69f\" y=\"213.617769\"/>\r\n    </g>\r\n    <g clip-path=\"url(#pa776969385)\">\r\n     <use style=\"fill:#440154;stroke:#440154;\" x=\"153.05\" xlink:href=\"#C0_0_b4ef41c69f\" y=\"213.491258\"/>\r\n    </g>\r\n    <g clip-path=\"url(#pa776969385)\">\r\n     <use style=\"fill:#440154;stroke:#440154;\" x=\"202.140909\" xlink:href=\"#C0_0_b4ef41c69f\" y=\"212.068015\"/>\r\n    </g>\r\n    <g clip-path=\"url(#pa776969385)\">\r\n     <use style=\"fill:#21918c;stroke:#21918c;\" x=\"329.777273\" xlink:href=\"#C0_0_b4ef41c69f\" y=\"193.671273\"/>\r\n    </g>\r\n    <g clip-path=\"url(#pa776969385)\">\r\n     <use style=\"fill:#21918c;stroke:#21918c;\" x=\"192.322727\" xlink:href=\"#C0_0_b4ef41c69f\" y=\"188.4\"/>\r\n    </g>\r\n    <g clip-path=\"url(#pa776969385)\">\r\n     <use style=\"fill:#21918c;stroke:#21918c;\" x=\"172.686364\" xlink:href=\"#C0_0_b4ef41c69f\" y=\"196.306909\"/>\r\n    </g>\r\n    <g clip-path=\"url(#pa776969385)\">\r\n     <use style=\"fill:#440154;stroke:#440154;\" x=\"241.413636\" xlink:href=\"#C0_0_b4ef41c69f\" y=\"212.120727\"/>\r\n    </g>\r\n    <g clip-path=\"url(#pa776969385)\">\r\n     <use style=\"fill:#440154;stroke:#440154;\" x=\"162.868182\" xlink:href=\"#C0_0_b4ef41c69f\" y=\"213.965673\"/>\r\n    </g>\r\n    <g clip-path=\"url(#pa776969385)\">\r\n     <use style=\"fill:#21918c;stroke:#21918c;\" x=\"339.595455\" xlink:href=\"#C0_0_b4ef41c69f\" y=\"175.221818\"/>\r\n    </g>\r\n    <g clip-path=\"url(#pa776969385)\">\r\n     <use style=\"fill:#21918c;stroke:#21918c;\" x=\"310.140909\" xlink:href=\"#C0_0_b4ef41c69f\" y=\"188.4\"/>\r\n    </g>\r\n    <g clip-path=\"url(#pa776969385)\">\r\n     <use style=\"fill:#21918c;stroke:#21918c;\" x=\"270.868182\" xlink:href=\"#C0_0_b4ef41c69f\" y=\"188.4\"/>\r\n    </g>\r\n    <g clip-path=\"url(#pa776969385)\">\r\n     <use style=\"fill:#21918c;stroke:#21918c;\" x=\"211.959091\" xlink:href=\"#C0_0_b4ef41c69f\" y=\"172.586182\"/>\r\n    </g>\r\n    <g clip-path=\"url(#pa776969385)\">\r\n     <use style=\"fill:#440154;stroke:#440154;\" x=\"192.322727\" xlink:href=\"#C0_0_b4ef41c69f\" y=\"209.485091\"/>\r\n    </g>\r\n    <g clip-path=\"url(#pa776969385)\">\r\n     <use style=\"fill:#440154;stroke:#440154;\" x=\"117.704545\" xlink:href=\"#C0_0_b4ef41c69f\" y=\"214.743185\"/>\r\n    </g>\r\n    <g clip-path=\"url(#pa776969385)\">\r\n     <use style=\"fill:#440154;stroke:#440154;\" x=\"143.231818\" xlink:href=\"#C0_0_b4ef41c69f\" y=\"213.965673\"/>\r\n    </g>\r\n    <g clip-path=\"url(#pa776969385)\">\r\n     <use style=\"fill:#fde725;stroke:#fde725;\" x=\"280.686364\" xlink:href=\"#C0_0_b4ef41c69f\" y=\"125.144727\"/>\r\n    </g>\r\n    <g clip-path=\"url(#pa776969385)\">\r\n     <use style=\"fill:#440154;stroke:#440154;\" x=\"113.777273\" xlink:href=\"#C0_0_b4ef41c69f\" y=\"214.229236\"/>\r\n    </g>\r\n    <g clip-path=\"url(#pa776969385)\">\r\n     <use style=\"fill:#21918c;stroke:#21918c;\" x=\"290.504545\" xlink:href=\"#C0_0_b4ef41c69f\" y=\"176.539636\"/>\r\n    </g>\r\n    <g clip-path=\"url(#pa776969385)\">\r\n     <use style=\"fill:#440154;stroke:#440154;\" x=\"153.05\" xlink:href=\"#C0_0_b4ef41c69f\" y=\"213.612497\"/>\r\n    </g>\r\n    <g clip-path=\"url(#pa776969385)\">\r\n     <use style=\"fill:#440154;stroke:#440154;\" x=\"211.959091\" xlink:href=\"#C0_0_b4ef41c69f\" y=\"208.957964\"/>\r\n    </g>\r\n    <g clip-path=\"url(#pa776969385)\">\r\n     <use style=\"fill:#21918c;stroke:#21918c;\" x=\"172.686364\" xlink:href=\"#C0_0_b4ef41c69f\" y=\"196.306909\"/>\r\n    </g>\r\n    <g clip-path=\"url(#pa776969385)\">\r\n     <use style=\"fill:#440154;stroke:#440154;\" x=\"113.777273\" xlink:href=\"#C0_0_b4ef41c69f\" y=\"212.120727\"/>\r\n    </g>\r\n    <g clip-path=\"url(#pa776969385)\">\r\n     <use style=\"fill:#440154;stroke:#440154;\" x=\"123.595455\" xlink:href=\"#C0_0_b4ef41c69f\" y=\"214.624582\"/>\r\n    </g>\r\n    <g clip-path=\"url(#pa776969385)\">\r\n     <use style=\"fill:#440154;stroke:#440154;\" x=\"143.231818\" xlink:href=\"#C0_0_b4ef41c69f\" y=\"214.229236\"/>\r\n    </g>\r\n    <g clip-path=\"url(#pa776969385)\">\r\n     <use style=\"fill:#21918c;stroke:#21918c;\" x=\"261.05\" xlink:href=\"#C0_0_b4ef41c69f\" y=\"177.857455\"/>\r\n    </g>\r\n    <g clip-path=\"url(#pa776969385)\">\r\n     <use style=\"fill:#440154;stroke:#440154;\" x=\"192.322727\" xlink:href=\"#C0_0_b4ef41c69f\" y=\"212.120727\"/>\r\n    </g>\r\n    <g clip-path=\"url(#pa776969385)\">\r\n     <use style=\"fill:#21918c;stroke:#21918c;\" x=\"143.231818\" xlink:href=\"#C0_0_b4ef41c69f\" y=\"198.942545\"/>\r\n    </g>\r\n    <g clip-path=\"url(#pa776969385)\">\r\n     <use style=\"fill:#440154;stroke:#440154;\" x=\"162.868182\" xlink:href=\"#C0_0_b4ef41c69f\" y=\"213.965673\"/>\r\n    </g>\r\n    <g clip-path=\"url(#pa776969385)\">\r\n     <use style=\"fill:#440154;stroke:#440154;\" x=\"145.195455\" xlink:href=\"#C0_0_b4ef41c69f\" y=\"209.748655\"/>\r\n    </g>\r\n    <g clip-path=\"url(#pa776969385)\">\r\n     <use style=\"fill:#440154;stroke:#440154;\" x=\"211.959091\" xlink:href=\"#C0_0_b4ef41c69f\" y=\"213.438545\"/>\r\n    </g>\r\n    <g clip-path=\"url(#pa776969385)\">\r\n     <use style=\"fill:#fde725;stroke:#fde725;\" x=\"310.140909\" xlink:href=\"#C0_0_b4ef41c69f\" y=\"109.330909\"/>\r\n    </g>\r\n    <g clip-path=\"url(#pa776969385)\">\r\n     <use style=\"fill:#440154;stroke:#440154;\" x=\"290.504545\" xlink:href=\"#C0_0_b4ef41c69f\" y=\"208.430836\"/>\r\n    </g>\r\n    <g clip-path=\"url(#pa776969385)\">\r\n     <use style=\"fill:#440154;stroke:#440154;\" x=\"157.959091\" xlink:href=\"#C0_0_b4ef41c69f\" y=\"214.529699\"/>\r\n    </g>\r\n    <g clip-path=\"url(#pa776969385)\">\r\n     <use style=\"fill:#440154;stroke:#440154;\" x=\"290.504545\" xlink:href=\"#C0_0_b4ef41c69f\" y=\"207.508364\"/>\r\n    </g>\r\n    <g clip-path=\"url(#pa776969385)\">\r\n     <use style=\"fill:#440154;stroke:#440154;\" x=\"221.777273\" xlink:href=\"#C0_0_b4ef41c69f\" y=\"212.516073\"/>\r\n    </g>\r\n    <g clip-path=\"url(#pa776969385)\">\r\n     <use style=\"fill:#440154;stroke:#440154;\" x=\"241.413636\" xlink:href=\"#C0_0_b4ef41c69f\" y=\"210.012218\"/>\r\n    </g>\r\n    <g clip-path=\"url(#pa776969385)\">\r\n     <use style=\"fill:#fde725;stroke:#fde725;\" x=\"290.504545\" xlink:href=\"#C0_0_b4ef41c69f\" y=\"96.152727\"/>\r\n    </g>\r\n    <g clip-path=\"url(#pa776969385)\">\r\n     <use style=\"fill:#440154;stroke:#440154;\" x=\"231.595455\" xlink:href=\"#C0_0_b4ef41c69f\" y=\"207.376582\"/>\r\n    </g>\r\n    <g clip-path=\"url(#pa776969385)\">\r\n     <use style=\"fill:#21918c;stroke:#21918c;\" x=\"211.959091\" xlink:href=\"#C0_0_b4ef41c69f\" y=\"202.632436\"/>\r\n    </g>\r\n    <g clip-path=\"url(#pa776969385)\">\r\n     <use style=\"fill:#21918c;stroke:#21918c;\" x=\"182.504545\" xlink:href=\"#C0_0_b4ef41c69f\" y=\"204.398313\"/>\r\n    </g>\r\n    <g clip-path=\"url(#pa776969385)\">\r\n     <use style=\"fill:#440154;stroke:#440154;\" x=\"172.686364\" xlink:href=\"#C0_0_b4ef41c69f\" y=\"214.624582\"/>\r\n    </g>\r\n    <g clip-path=\"url(#pa776969385)\">\r\n     <use style=\"fill:#440154;stroke:#440154;\" x=\"211.959091\" xlink:href=\"#C0_0_b4ef41c69f\" y=\"210.091287\"/>\r\n    </g>\r\n    <g clip-path=\"url(#pa776969385)\">\r\n     <use style=\"fill:#440154;stroke:#440154;\" x=\"106.904545\" xlink:href=\"#C0_0_b4ef41c69f\" y=\"214.74055\"/>\r\n    </g>\r\n    <g clip-path=\"url(#pa776969385)\">\r\n     <use style=\"fill:#21918c;stroke:#21918c;\" x=\"241.413636\" xlink:href=\"#C0_0_b4ef41c69f\" y=\"205.531636\"/>\r\n    </g>\r\n    <g clip-path=\"url(#pa776969385)\">\r\n     <use style=\"fill:#440154;stroke:#440154;\" x=\"123.595455\" xlink:href=\"#C0_0_b4ef41c69f\" y=\"214.745821\"/>\r\n    </g>\r\n    <g clip-path=\"url(#pa776969385)\">\r\n     <use style=\"fill:#21918c;stroke:#21918c;\" x=\"261.05\" xlink:href=\"#C0_0_b4ef41c69f\" y=\"204.213818\"/>\r\n    </g>\r\n    <g clip-path=\"url(#pa776969385)\">\r\n     <use style=\"fill:#fde725;stroke:#fde725;\" x=\"310.140909\" xlink:href=\"#C0_0_b4ef41c69f\" y=\"82.974545\"/>\r\n    </g>\r\n    <g clip-path=\"url(#pa776969385)\">\r\n     <use style=\"fill:#440154;stroke:#440154;\" x=\"221.777273\" xlink:href=\"#C0_0_b4ef41c69f\" y=\"208.509905\"/>\r\n    </g>\r\n    <g clip-path=\"url(#pa776969385)\">\r\n     <use style=\"fill:#21918c;stroke:#21918c;\" x=\"241.413636\" xlink:href=\"#C0_0_b4ef41c69f\" y=\"198.441775\"/>\r\n    </g>\r\n    <g clip-path=\"url(#pa776969385)\">\r\n     <use style=\"fill:#440154;stroke:#440154;\" x=\"190.359091\" xlink:href=\"#C0_0_b4ef41c69f\" y=\"214.123811\"/>\r\n    </g>\r\n    <g clip-path=\"url(#pa776969385)\">\r\n     <use style=\"fill:#21918c;stroke:#21918c;\" x=\"231.595455\" xlink:href=\"#C0_0_b4ef41c69f\" y=\"193.671273\"/>\r\n    </g>\r\n    <g clip-path=\"url(#pa776969385)\">\r\n     <use style=\"fill:#21918c;stroke:#21918c;\" x=\"310.140909\" xlink:href=\"#C0_0_b4ef41c69f\" y=\"162.043636\"/>\r\n    </g>\r\n    <g clip-path=\"url(#pa776969385)\">\r\n     <use style=\"fill:#21918c;stroke:#21918c;\" x=\"349.413636\" xlink:href=\"#C0_0_b4ef41c69f\" y=\"162.043636\"/>\r\n    </g>\r\n    <g clip-path=\"url(#pa776969385)\">\r\n     <use style=\"fill:#21918c;stroke:#21918c;\" x=\"251.231818\" xlink:href=\"#C0_0_b4ef41c69f\" y=\"191.035636\"/>\r\n    </g>\r\n    <g clip-path=\"url(#pa776969385)\">\r\n     <use style=\"fill:#440154;stroke:#440154;\" x=\"211.959091\" xlink:href=\"#C0_0_b4ef41c69f\" y=\"213.833891\"/>\r\n    </g>\r\n    <g clip-path=\"url(#pa776969385)\">\r\n     <use style=\"fill:#440154;stroke:#440154;\" x=\"153.05\" xlink:href=\"#C0_0_b4ef41c69f\" y=\"213.174982\"/>\r\n    </g>\r\n    <g clip-path=\"url(#pa776969385)\">\r\n     <use style=\"fill:#440154;stroke:#440154;\" x=\"182.504545\" xlink:href=\"#C0_0_b4ef41c69f\" y=\"214.229236\"/>\r\n    </g>\r\n    <g clip-path=\"url(#pa776969385)\">\r\n     <use style=\"fill:#440154;stroke:#440154;\" x=\"172.686364\" xlink:href=\"#C0_0_b4ef41c69f\" y=\"212.858705\"/>\r\n    </g>\r\n    <g clip-path=\"url(#pa776969385)\">\r\n     <use style=\"fill:#440154;stroke:#440154;\" x=\"103.959091\" xlink:href=\"#C0_0_b4ef41c69f\" y=\"210.750196\"/>\r\n    </g>\r\n    <g clip-path=\"url(#pa776969385)\">\r\n     <use style=\"fill:#21918c;stroke:#21918c;\" x=\"295.413636\" xlink:href=\"#C0_0_b4ef41c69f\" y=\"162.043636\"/>\r\n    </g>\r\n    <g clip-path=\"url(#pa776969385)\">\r\n     <use style=\"fill:#440154;stroke:#440154;\" x=\"211.959091\" xlink:href=\"#C0_0_b4ef41c69f\" y=\"212.252509\"/>\r\n    </g>\r\n    <g clip-path=\"url(#pa776969385)\">\r\n     <use style=\"fill:#440154;stroke:#440154;\" x=\"149.122727\" xlink:href=\"#C0_0_b4ef41c69f\" y=\"214.466444\"/>\r\n    </g>\r\n    <g clip-path=\"url(#pa776969385)\">\r\n     <use style=\"fill:#440154;stroke:#440154;\" x=\"172.686364\" xlink:href=\"#C0_0_b4ef41c69f\" y=\"214.74055\"/>\r\n    </g>\r\n    <g clip-path=\"url(#pa776969385)\">\r\n     <use style=\"fill:#440154;stroke:#440154;\" x=\"157.959091\" xlink:href=\"#C0_0_b4ef41c69f\" y=\"213.064285\"/>\r\n    </g>\r\n    <g clip-path=\"url(#pa776969385)\">\r\n     <use style=\"fill:#440154;stroke:#440154;\" x=\"261.05\" xlink:href=\"#C0_0_b4ef41c69f\" y=\"211.461818\"/>\r\n    </g>\r\n    <g clip-path=\"url(#pa776969385)\">\r\n     <use style=\"fill:#fde725;stroke:#fde725;\" x=\"285.595455\" xlink:href=\"#C0_0_b4ef41c69f\" y=\"66.501818\"/>\r\n    </g>\r\n    <g clip-path=\"url(#pa776969385)\">\r\n     <use style=\"fill:#21918c;stroke:#21918c;\" x=\"270.868182\" xlink:href=\"#C0_0_b4ef41c69f\" y=\"201.578182\"/>\r\n    </g>\r\n    <g clip-path=\"url(#pa776969385)\">\r\n     <use style=\"fill:#440154;stroke:#440154;\" x=\"143.231818\" xlink:href=\"#C0_0_b4ef41c69f\" y=\"208.6944\"/>\r\n    </g>\r\n    <g clip-path=\"url(#pa776969385)\">\r\n     <use style=\"fill:#440154;stroke:#440154;\" x=\"143.231818\" xlink:href=\"#C0_0_b4ef41c69f\" y=\"214.753728\"/>\r\n    </g>\r\n    <g clip-path=\"url(#pa776969385)\">\r\n     <use style=\"fill:#440154;stroke:#440154;\" x=\"197.231818\" xlink:href=\"#C0_0_b4ef41c69f\" y=\"213.570327\"/>\r\n    </g>\r\n    <g clip-path=\"url(#pa776969385)\">\r\n     <use style=\"fill:#21918c;stroke:#21918c;\" x=\"231.595455\" xlink:href=\"#C0_0_b4ef41c69f\" y=\"194.989091\"/>\r\n    </g>\r\n    <g clip-path=\"url(#pa776969385)\">\r\n     <use style=\"fill:#440154;stroke:#440154;\" x=\"153.05\" xlink:href=\"#C0_0_b4ef41c69f\" y=\"214.400553\"/>\r\n    </g>\r\n    <g clip-path=\"url(#pa776969385)\">\r\n     <use style=\"fill:#21918c;stroke:#21918c;\" x=\"211.959091\" xlink:href=\"#C0_0_b4ef41c69f\" y=\"201.578182\"/>\r\n    </g>\r\n    <g clip-path=\"url(#pa776969385)\">\r\n     <use style=\"fill:#440154;stroke:#440154;\" x=\"148.140909\" xlink:href=\"#C0_0_b4ef41c69f\" y=\"208.167273\"/>\r\n    </g>\r\n    <g clip-path=\"url(#pa776969385)\">\r\n     <use style=\"fill:#440154;stroke:#440154;\" x=\"180.540909\" xlink:href=\"#C0_0_b4ef41c69f\" y=\"213.438545\"/>\r\n    </g>\r\n    <g clip-path=\"url(#pa776969385)\">\r\n     <use style=\"fill:#21918c;stroke:#21918c;\" x=\"251.231818\" xlink:href=\"#C0_0_b4ef41c69f\" y=\"201.578182\"/>\r\n    </g>\r\n    <g clip-path=\"url(#pa776969385)\">\r\n     <use style=\"fill:#440154;stroke:#440154;\" x=\"182.504545\" xlink:href=\"#C0_0_b4ef41c69f\" y=\"208.536262\"/>\r\n    </g>\r\n    <g clip-path=\"url(#pa776969385)\">\r\n     <use style=\"fill:#440154;stroke:#440154;\" x=\"211.959091\" xlink:href=\"#C0_0_b4ef41c69f\" y=\"213.570327\"/>\r\n    </g>\r\n    <g clip-path=\"url(#pa776969385)\">\r\n     <use style=\"fill:#21918c;stroke:#21918c;\" x=\"192.322727\" xlink:href=\"#C0_0_b4ef41c69f\" y=\"201.578182\"/>\r\n    </g>\r\n    <g clip-path=\"url(#pa776969385)\">\r\n     <use style=\"fill:#21918c;stroke:#21918c;\" x=\"300.322727\" xlink:href=\"#C0_0_b4ef41c69f\" y=\"188.4\"/>\r\n    </g>\r\n    <g clip-path=\"url(#pa776969385)\">\r\n     <use style=\"fill:#440154;stroke:#440154;\" x=\"143.231818\" xlink:href=\"#C0_0_b4ef41c69f\" y=\"213.833891\"/>\r\n    </g>\r\n    <g clip-path=\"url(#pa776969385)\">\r\n     <use style=\"fill:#440154;stroke:#440154;\" x=\"74.504545\" xlink:href=\"#C0_0_b4ef41c69f\" y=\"214.624582\"/>\r\n    </g>\r\n    <g clip-path=\"url(#pa776969385)\">\r\n     <use style=\"fill:#440154;stroke:#440154;\" x=\"54.868182\" xlink:href=\"#C0_0_b4ef41c69f\" y=\"214.756364\"/>\r\n    </g>\r\n    <g clip-path=\"url(#pa776969385)\">\r\n     <use style=\"fill:#440154;stroke:#440154;\" x=\"211.959091\" xlink:href=\"#C0_0_b4ef41c69f\" y=\"213.807535\"/>\r\n    </g>\r\n    <g clip-path=\"url(#pa776969385)\">\r\n     <use style=\"fill:#21918c;stroke:#21918c;\" x=\"290.504545\" xlink:href=\"#C0_0_b4ef41c69f\" y=\"203.159564\"/>\r\n    </g>\r\n    <g clip-path=\"url(#pa776969385)\">\r\n     <use style=\"fill:#440154;stroke:#440154;\" x=\"143.231818\" xlink:href=\"#C0_0_b4ef41c69f\" y=\"214.756364\"/>\r\n    </g>\r\n    <g clip-path=\"url(#pa776969385)\">\r\n     <use style=\"fill:#440154;stroke:#440154;\" x=\"133.413636\" xlink:href=\"#C0_0_b4ef41c69f\" y=\"211.5936\"/>\r\n    </g>\r\n    <g clip-path=\"url(#pa776969385)\">\r\n     <use style=\"fill:#440154;stroke:#440154;\" x=\"152.068182\" xlink:href=\"#C0_0_b4ef41c69f\" y=\"214.123811\"/>\r\n    </g>\r\n    <g clip-path=\"url(#pa776969385)\">\r\n     <use style=\"fill:#440154;stroke:#440154;\" x=\"261.05\" xlink:href=\"#C0_0_b4ef41c69f\" y=\"212.120727\"/>\r\n    </g>\r\n    <g clip-path=\"url(#pa776969385)\">\r\n     <use style=\"fill:#440154;stroke:#440154;\" x=\"211.959091\" xlink:href=\"#C0_0_b4ef41c69f\" y=\"211.330036\"/>\r\n    </g>\r\n    <g clip-path=\"url(#pa776969385)\">\r\n     <use style=\"fill:#440154;stroke:#440154;\" x=\"211.959091\" xlink:href=\"#C0_0_b4ef41c69f\" y=\"210.275782\"/>\r\n    </g>\r\n    <g clip-path=\"url(#pa776969385)\">\r\n     <use style=\"fill:#440154;stroke:#440154;\" x=\"231.595455\" xlink:href=\"#C0_0_b4ef41c69f\" y=\"211.909876\"/>\r\n    </g>\r\n    <g clip-path=\"url(#pa776969385)\">\r\n     <use style=\"fill:#440154;stroke:#440154;\" x=\"202.140909\" xlink:href=\"#C0_0_b4ef41c69f\" y=\"214.661481\"/>\r\n    </g>\r\n    <g clip-path=\"url(#pa776969385)\">\r\n     <use style=\"fill:#21918c;stroke:#21918c;\" x=\"211.959091\" xlink:href=\"#C0_0_b4ef41c69f\" y=\"202.896\"/>\r\n    </g>\r\n    <g clip-path=\"url(#pa776969385)\">\r\n     <use style=\"fill:#21918c;stroke:#21918c;\" x=\"231.595455\" xlink:href=\"#C0_0_b4ef41c69f\" y=\"198.942545\"/>\r\n    </g>\r\n    <g clip-path=\"url(#pa776969385)\">\r\n     <use style=\"fill:#440154;stroke:#440154;\" x=\"162.868182\" xlink:href=\"#C0_0_b4ef41c69f\" y=\"212.120727\"/>\r\n    </g>\r\n    <g clip-path=\"url(#pa776969385)\">\r\n     <use style=\"fill:#440154;stroke:#440154;\" x=\"133.413636\" xlink:href=\"#C0_0_b4ef41c69f\" y=\"214.545513\"/>\r\n    </g>\r\n    <g clip-path=\"url(#pa776969385)\">\r\n     <use style=\"fill:#440154;stroke:#440154;\" x=\"133.413636\" xlink:href=\"#C0_0_b4ef41c69f\" y=\"213.570327\"/>\r\n    </g>\r\n    <g clip-path=\"url(#pa776969385)\">\r\n     <use style=\"fill:#440154;stroke:#440154;\" x=\"133.413636\" xlink:href=\"#C0_0_b4ef41c69f\" y=\"213.438545\"/>\r\n    </g>\r\n    <g clip-path=\"url(#pa776969385)\">\r\n     <use style=\"fill:#440154;stroke:#440154;\" x=\"103.959091\" xlink:href=\"#C0_0_b4ef41c69f\" y=\"214.624582\"/>\r\n    </g>\r\n    <g clip-path=\"url(#pa776969385)\">\r\n     <use style=\"fill:#21918c;stroke:#21918c;\" x=\"261.05\" xlink:href=\"#C0_0_b4ef41c69f\" y=\"201.578182\"/>\r\n    </g>\r\n    <g clip-path=\"url(#pa776969385)\">\r\n     <use style=\"fill:#440154;stroke:#440154;\" x=\"270.868182\" xlink:href=\"#C0_0_b4ef41c69f\" y=\"212.647855\"/>\r\n    </g>\r\n    <g clip-path=\"url(#pa776969385)\">\r\n     <use style=\"fill:#21918c;stroke:#21918c;\" x=\"202.140909\" xlink:href=\"#C0_0_b4ef41c69f\" y=\"204.872727\"/>\r\n    </g>\r\n    <g clip-path=\"url(#pa776969385)\">\r\n     <use style=\"fill:#21918c;stroke:#21918c;\" x=\"310.140909\" xlink:href=\"#C0_0_b4ef41c69f\" y=\"188.4\"/>\r\n    </g>\r\n    <g clip-path=\"url(#pa776969385)\">\r\n     <use style=\"fill:#440154;stroke:#440154;\" x=\"126.540909\" xlink:href=\"#C0_0_b4ef41c69f\" y=\"212.199796\"/>\r\n    </g>\r\n    <g clip-path=\"url(#pa776969385)\">\r\n     <use style=\"fill:#440154;stroke:#440154;\" x=\"103.959091\" xlink:href=\"#C0_0_b4ef41c69f\" y=\"214.571869\"/>\r\n    </g>\r\n    <g clip-path=\"url(#pa776969385)\">\r\n     <use style=\"fill:#440154;stroke:#440154;\" x=\"202.140909\" xlink:href=\"#C0_0_b4ef41c69f\" y=\"213.385833\"/>\r\n    </g>\r\n    <g clip-path=\"url(#pa776969385)\">\r\n     <use style=\"fill:#440154;stroke:#440154;\" x=\"241.413636\" xlink:href=\"#C0_0_b4ef41c69f\" y=\"208.167273\"/>\r\n    </g>\r\n    <g clip-path=\"url(#pa776969385)\">\r\n     <use style=\"fill:#21918c;stroke:#21918c;\" x=\"290.504545\" xlink:href=\"#C0_0_b4ef41c69f\" y=\"188.4\"/>\r\n    </g>\r\n    <g clip-path=\"url(#pa776969385)\">\r\n     <use style=\"fill:#fde725;stroke:#fde725;\" x=\"290.504545\" xlink:href=\"#C0_0_b4ef41c69f\" y=\"17.083636\"/>\r\n    </g>\r\n    <g clip-path=\"url(#pa776969385)\">\r\n     <use style=\"fill:#fde725;stroke:#fde725;\" x=\"329.777273\" xlink:href=\"#C0_0_b4ef41c69f\" y=\"30.261818\"/>\r\n    </g>\r\n    <g clip-path=\"url(#pa776969385)\">\r\n     <use style=\"fill:#440154;stroke:#440154;\" x=\"172.686364\" xlink:href=\"#C0_0_b4ef41c69f\" y=\"212.120727\"/>\r\n    </g>\r\n    <g clip-path=\"url(#pa776969385)\">\r\n     <use style=\"fill:#21918c;stroke:#21918c;\" x=\"290.504545\" xlink:href=\"#C0_0_b4ef41c69f\" y=\"171.848204\"/>\r\n    </g>\r\n    <g clip-path=\"url(#pa776969385)\">\r\n     <use style=\"fill:#440154;stroke:#440154;\" x=\"133.413636\" xlink:href=\"#C0_0_b4ef41c69f\" y=\"214.548148\"/>\r\n    </g>\r\n    <g clip-path=\"url(#pa776969385)\">\r\n     <use style=\"fill:#440154;stroke:#440154;\" x=\"229.631818\" xlink:href=\"#C0_0_b4ef41c69f\" y=\"208.905251\"/>\r\n    </g>\r\n    <g clip-path=\"url(#pa776969385)\">\r\n     <use style=\"fill:#440154;stroke:#440154;\" x=\"229.631818\" xlink:href=\"#C0_0_b4ef41c69f\" y=\"208.905251\"/>\r\n    </g>\r\n    <g clip-path=\"url(#pa776969385)\">\r\n     <use style=\"fill:#440154;stroke:#440154;\" x=\"211.959091\" xlink:href=\"#C0_0_b4ef41c69f\" y=\"213.438545\"/>\r\n    </g>\r\n    <g clip-path=\"url(#pa776969385)\">\r\n     <use style=\"fill:#21918c;stroke:#21918c;\" x=\"251.231818\" xlink:href=\"#C0_0_b4ef41c69f\" y=\"162.043636\"/>\r\n    </g>\r\n    <g clip-path=\"url(#pa776969385)\">\r\n     <use style=\"fill:#21918c;stroke:#21918c;\" x=\"319.959091\" xlink:href=\"#C0_0_b4ef41c69f\" y=\"201.578182\"/>\r\n    </g>\r\n    <g clip-path=\"url(#pa776969385)\">\r\n     <use style=\"fill:#fde725;stroke:#fde725;\" x=\"280.686364\" xlink:href=\"#C0_0_b4ef41c69f\" y=\"148.865455\"/>\r\n    </g>\r\n    <g clip-path=\"url(#pa776969385)\">\r\n     <use style=\"fill:#21918c;stroke:#21918c;\" x=\"280.686364\" xlink:href=\"#C0_0_b4ef41c69f\" y=\"188.4\"/>\r\n    </g>\r\n    <g clip-path=\"url(#pa776969385)\">\r\n     <use style=\"fill:#21918c;stroke:#21918c;\" x=\"329.777273\" xlink:href=\"#C0_0_b4ef41c69f\" y=\"146.229818\"/>\r\n    </g>\r\n    <g clip-path=\"url(#pa776969385)\">\r\n     <use style=\"fill:#440154;stroke:#440154;\" x=\"153.05\" xlink:href=\"#C0_0_b4ef41c69f\" y=\"214.018385\"/>\r\n    </g>\r\n    <g clip-path=\"url(#pa776969385)\">\r\n     <use style=\"fill:#21918c;stroke:#21918c;\" x=\"182.504545\" xlink:href=\"#C0_0_b4ef41c69f\" y=\"188.4\"/>\r\n    </g>\r\n    <g clip-path=\"url(#pa776969385)\">\r\n     <use style=\"fill:#21918c;stroke:#21918c;\" x=\"261.05\" xlink:href=\"#C0_0_b4ef41c69f\" y=\"162.043636\"/>\r\n    </g>\r\n    <g clip-path=\"url(#pa776969385)\">\r\n     <use style=\"fill:#440154;stroke:#440154;\" x=\"182.504545\" xlink:href=\"#C0_0_b4ef41c69f\" y=\"210.802909\"/>\r\n    </g>\r\n    <g clip-path=\"url(#pa776969385)\">\r\n     <use style=\"fill:#21918c;stroke:#21918c;\" x=\"261.05\" xlink:href=\"#C0_0_b4ef41c69f\" y=\"188.4\"/>\r\n    </g>\r\n    <g clip-path=\"url(#pa776969385)\">\r\n     <use style=\"fill:#fde725;stroke:#fde725;\" x=\"261.05\" xlink:href=\"#C0_0_b4ef41c69f\" y=\"149.919709\"/>\r\n    </g>\r\n    <g clip-path=\"url(#pa776969385)\">\r\n     <use style=\"fill:#440154;stroke:#440154;\" x=\"162.868182\" xlink:href=\"#C0_0_b4ef41c69f\" y=\"210.539345\"/>\r\n    </g>\r\n    <g clip-path=\"url(#pa776969385)\">\r\n     <use style=\"fill:#21918c;stroke:#21918c;\" x=\"256.140909\" xlink:href=\"#C0_0_b4ef41c69f\" y=\"204.477382\"/>\r\n    </g>\r\n    <g clip-path=\"url(#pa776969385)\">\r\n     <use style=\"fill:#21918c;stroke:#21918c;\" x=\"231.595455\" xlink:href=\"#C0_0_b4ef41c69f\" y=\"205.531636\"/>\r\n    </g>\r\n    <g clip-path=\"url(#pa776969385)\">\r\n     <use style=\"fill:#21918c;stroke:#21918c;\" x=\"251.231818\" xlink:href=\"#C0_0_b4ef41c69f\" y=\"183.128727\"/>\r\n    </g>\r\n    <g clip-path=\"url(#pa776969385)\">\r\n     <use style=\"fill:#21918c;stroke:#21918c;\" x=\"359.231818\" xlink:href=\"#C0_0_b4ef41c69f\" y=\"183.128727\"/>\r\n    </g>\r\n    <g clip-path=\"url(#pa776969385)\">\r\n     <use style=\"fill:#440154;stroke:#440154;\" x=\"125.559091\" xlink:href=\"#C0_0_b4ef41c69f\" y=\"214.730007\"/>\r\n    </g>\r\n    <g clip-path=\"url(#pa776969385)\">\r\n     <use style=\"fill:#440154;stroke:#440154;\" x=\"182.504545\" xlink:href=\"#C0_0_b4ef41c69f\" y=\"214.018385\"/>\r\n    </g>\r\n    <g clip-path=\"url(#pa776969385)\">\r\n     <use style=\"fill:#21918c;stroke:#21918c;\" x=\"177.595455\" xlink:href=\"#C0_0_b4ef41c69f\" y=\"206.849455\"/>\r\n    </g>\r\n    <g clip-path=\"url(#pa776969385)\">\r\n     <use style=\"fill:#21918c;stroke:#21918c;\" x=\"310.140909\" xlink:href=\"#C0_0_b4ef41c69f\" y=\"206.058764\"/>\r\n    </g>\r\n    <g clip-path=\"url(#pa776969385)\">\r\n     <use style=\"fill:#440154;stroke:#440154;\" x=\"221.777273\" xlink:href=\"#C0_0_b4ef41c69f\" y=\"208.562618\"/>\r\n    </g>\r\n    <g clip-path=\"url(#pa776969385)\">\r\n     <use style=\"fill:#440154;stroke:#440154;\" x=\"241.413636\" xlink:href=\"#C0_0_b4ef41c69f\" y=\"209.221527\"/>\r\n    </g>\r\n    <g clip-path=\"url(#pa776969385)\">\r\n     <use style=\"fill:#440154;stroke:#440154;\" x=\"247.304545\" xlink:href=\"#C0_0_b4ef41c69f\" y=\"209.827724\"/>\r\n    </g>\r\n    <g clip-path=\"url(#pa776969385)\">\r\n     <use style=\"fill:#440154;stroke:#440154;\" x=\"153.05\" xlink:href=\"#C0_0_b4ef41c69f\" y=\"213.965673\"/>\r\n    </g>\r\n    <g clip-path=\"url(#pa776969385)\">\r\n     <use style=\"fill:#440154;stroke:#440154;\" x=\"113.777273\" xlink:href=\"#C0_0_b4ef41c69f\" y=\"209.247884\"/>\r\n    </g>\r\n    <g clip-path=\"url(#pa776969385)\">\r\n     <use style=\"fill:#21918c;stroke:#21918c;\" x=\"192.322727\" xlink:href=\"#C0_0_b4ef41c69f\" y=\"193.671273\"/>\r\n    </g>\r\n    <g clip-path=\"url(#pa776969385)\">\r\n     <use style=\"fill:#440154;stroke:#440154;\" x=\"172.686364\" xlink:href=\"#C0_0_b4ef41c69f\" y=\"213.385833\"/>\r\n    </g>\r\n    <g clip-path=\"url(#pa776969385)\">\r\n     <use style=\"fill:#21918c;stroke:#21918c;\" x=\"195.268182\" xlink:href=\"#C0_0_b4ef41c69f\" y=\"204.582807\"/>\r\n    </g>\r\n    <g clip-path=\"url(#pa776969385)\">\r\n     <use style=\"fill:#fde725;stroke:#fde725;\" x=\"270.868182\" xlink:href=\"#C0_0_b4ef41c69f\" y=\"122.509091\"/>\r\n    </g>\r\n    <g clip-path=\"url(#pa776969385)\">\r\n     <use style=\"fill:#440154;stroke:#440154;\" x=\"153.05\" xlink:href=\"#C0_0_b4ef41c69f\" y=\"214.643031\"/>\r\n    </g>\r\n    <g clip-path=\"url(#pa776969385)\">\r\n     <use style=\"fill:#440154;stroke:#440154;\" x=\"115.740909\" xlink:href=\"#C0_0_b4ef41c69f\" y=\"213.174982\"/>\r\n    </g>\r\n    <g clip-path=\"url(#pa776969385)\">\r\n     <use style=\"fill:#21918c;stroke:#21918c;\" x=\"261.05\" xlink:href=\"#C0_0_b4ef41c69f\" y=\"203.686691\"/>\r\n    </g>\r\n    <g clip-path=\"url(#pa776969385)\">\r\n     <use style=\"fill:#440154;stroke:#440154;\" x=\"153.05\" xlink:href=\"#C0_0_b4ef41c69f\" y=\"214.400553\"/>\r\n    </g>\r\n    <g clip-path=\"url(#pa776969385)\">\r\n     <use style=\"fill:#440154;stroke:#440154;\" x=\"162.868182\" xlink:href=\"#C0_0_b4ef41c69f\" y=\"211.409105\"/>\r\n    </g>\r\n    <g clip-path=\"url(#pa776969385)\">\r\n     <use style=\"fill:#440154;stroke:#440154;\" x=\"192.322727\" xlink:href=\"#C0_0_b4ef41c69f\" y=\"212.120727\"/>\r\n    </g>\r\n    <g clip-path=\"url(#pa776969385)\">\r\n     <use style=\"fill:#440154;stroke:#440154;\" x=\"168.759091\" xlink:href=\"#C0_0_b4ef41c69f\" y=\"212.568785\"/>\r\n    </g>\r\n    <g clip-path=\"url(#pa776969385)\">\r\n     <use style=\"fill:#21918c;stroke:#21918c;\" x=\"192.322727\" xlink:href=\"#C0_0_b4ef41c69f\" y=\"167.314909\"/>\r\n    </g>\r\n    <g clip-path=\"url(#pa776969385)\">\r\n     <use style=\"fill:#21918c;stroke:#21918c;\" x=\"140.286364\" xlink:href=\"#C0_0_b4ef41c69f\" y=\"207.350225\"/>\r\n    </g>\r\n    <g clip-path=\"url(#pa776969385)\">\r\n     <use style=\"fill:#440154;stroke:#440154;\" x=\"99.05\" xlink:href=\"#C0_0_b4ef41c69f\" y=\"214.693108\"/>\r\n    </g>\r\n    <g clip-path=\"url(#pa776969385)\">\r\n     <use style=\"fill:#21918c;stroke:#21918c;\" x=\"261.05\" xlink:href=\"#C0_0_b4ef41c69f\" y=\"201.578182\"/>\r\n    </g>\r\n    <g clip-path=\"url(#pa776969385)\">\r\n     <use style=\"fill:#21918c;stroke:#21918c;\" x=\"280.686364\" xlink:href=\"#C0_0_b4ef41c69f\" y=\"202.896\"/>\r\n    </g>\r\n    <g clip-path=\"url(#pa776969385)\">\r\n     <use style=\"fill:#21918c;stroke:#21918c;\" x=\"319.959091\" xlink:href=\"#C0_0_b4ef41c69f\" y=\"175.880727\"/>\r\n    </g>\r\n    <g clip-path=\"url(#pa776969385)\">\r\n     <use style=\"fill:#21918c;stroke:#21918c;\" x=\"221.777273\" xlink:href=\"#C0_0_b4ef41c69f\" y=\"188.4\"/>\r\n    </g>\r\n    <g clip-path=\"url(#pa776969385)\">\r\n     <use style=\"fill:#21918c;stroke:#21918c;\" x=\"280.686364\" xlink:href=\"#C0_0_b4ef41c69f\" y=\"162.043636\"/>\r\n    </g>\r\n    <g clip-path=\"url(#pa776969385)\">\r\n     <use style=\"fill:#21918c;stroke:#21918c;\" x=\"277.740909\" xlink:href=\"#C0_0_b4ef41c69f\" y=\"165.417251\"/>\r\n    </g>\r\n    <g clip-path=\"url(#pa776969385)\">\r\n     <use style=\"fill:#440154;stroke:#440154;\" x=\"243.377273\" xlink:href=\"#C0_0_b4ef41c69f\" y=\"211.567244\"/>\r\n    </g>\r\n    <g clip-path=\"url(#pa776969385)\">\r\n     <use style=\"fill:#440154;stroke:#440154;\" x=\"251.231818\" xlink:href=\"#C0_0_b4ef41c69f\" y=\"213.965673\"/>\r\n    </g>\r\n    <g clip-path=\"url(#pa776969385)\">\r\n     <use style=\"fill:#21918c;stroke:#21918c;\" x=\"270.868182\" xlink:href=\"#C0_0_b4ef41c69f\" y=\"188.4\"/>\r\n    </g>\r\n   </g>\r\n   <g id=\"matplotlib.axis_1\">\r\n    <g id=\"xtick_1\">\r\n     <g id=\"line2d_1\">\r\n      <defs>\r\n       <path d=\"M 0 0 \r\nL 0 3.5 \r\n\" id=\"mab96fb6647\" style=\"stroke:#000000;stroke-width:0.8;\"/>\r\n      </defs>\r\n      <g>\r\n       <use style=\"stroke:#000000;stroke-width:0.8;\" x=\"64.686364\" xlink:href=\"#mab96fb6647\" y=\"224.64\"/>\r\n      </g>\r\n     </g>\r\n     <g id=\"text_1\">\r\n      <!-- 5 -->\r\n      <g transform=\"translate(61.505114 239.238437)scale(0.1 -0.1)\">\r\n       <defs>\r\n        <path d=\"M 10.796875 72.90625 \r\nL 49.515625 72.90625 \r\nL 49.515625 64.59375 \r\nL 19.828125 64.59375 \r\nL 19.828125 46.734375 \r\nQ 21.96875 47.46875 24.109375 47.828125 \r\nQ 26.265625 48.1875 28.421875 48.1875 \r\nQ 40.625 48.1875 47.75 41.5 \r\nQ 54.890625 34.8125 54.890625 23.390625 \r\nQ 54.890625 11.625 47.5625 5.09375 \r\nQ 40.234375 -1.421875 26.90625 -1.421875 \r\nQ 22.3125 -1.421875 17.546875 -0.640625 \r\nQ 12.796875 0.140625 7.71875 1.703125 \r\nL 7.71875 11.625 \r\nQ 12.109375 9.234375 16.796875 8.0625 \r\nQ 21.484375 6.890625 26.703125 6.890625 \r\nQ 35.15625 6.890625 40.078125 11.328125 \r\nQ 45.015625 15.765625 45.015625 23.390625 \r\nQ 45.015625 31 40.078125 35.4375 \r\nQ 35.15625 39.890625 26.703125 39.890625 \r\nQ 22.75 39.890625 18.8125 39.015625 \r\nQ 14.890625 38.140625 10.796875 36.28125 \r\nz\r\n\" id=\"DejaVuSans-53\"/>\r\n       </defs>\r\n       <use xlink:href=\"#DejaVuSans-53\"/>\r\n      </g>\r\n     </g>\r\n    </g>\r\n    <g id=\"xtick_2\">\r\n     <g id=\"line2d_2\">\r\n      <g>\r\n       <use style=\"stroke:#000000;stroke-width:0.8;\" x=\"113.777273\" xlink:href=\"#mab96fb6647\" y=\"224.64\"/>\r\n      </g>\r\n     </g>\r\n     <g id=\"text_2\">\r\n      <!-- 10 -->\r\n      <g transform=\"translate(107.414773 239.238437)scale(0.1 -0.1)\">\r\n       <defs>\r\n        <path d=\"M 12.40625 8.296875 \r\nL 28.515625 8.296875 \r\nL 28.515625 63.921875 \r\nL 10.984375 60.40625 \r\nL 10.984375 69.390625 \r\nL 28.421875 72.90625 \r\nL 38.28125 72.90625 \r\nL 38.28125 8.296875 \r\nL 54.390625 8.296875 \r\nL 54.390625 0 \r\nL 12.40625 0 \r\nz\r\n\" id=\"DejaVuSans-49\"/>\r\n        <path d=\"M 31.78125 66.40625 \r\nQ 24.171875 66.40625 20.328125 58.90625 \r\nQ 16.5 51.421875 16.5 36.375 \r\nQ 16.5 21.390625 20.328125 13.890625 \r\nQ 24.171875 6.390625 31.78125 6.390625 \r\nQ 39.453125 6.390625 43.28125 13.890625 \r\nQ 47.125 21.390625 47.125 36.375 \r\nQ 47.125 51.421875 43.28125 58.90625 \r\nQ 39.453125 66.40625 31.78125 66.40625 \r\nz\r\nM 31.78125 74.21875 \r\nQ 44.046875 74.21875 50.515625 64.515625 \r\nQ 56.984375 54.828125 56.984375 36.375 \r\nQ 56.984375 17.96875 50.515625 8.265625 \r\nQ 44.046875 -1.421875 31.78125 -1.421875 \r\nQ 19.53125 -1.421875 13.0625 8.265625 \r\nQ 6.59375 17.96875 6.59375 36.375 \r\nQ 6.59375 54.828125 13.0625 64.515625 \r\nQ 19.53125 74.21875 31.78125 74.21875 \r\nz\r\n\" id=\"DejaVuSans-48\"/>\r\n       </defs>\r\n       <use xlink:href=\"#DejaVuSans-49\"/>\r\n       <use x=\"63.623047\" xlink:href=\"#DejaVuSans-48\"/>\r\n      </g>\r\n     </g>\r\n    </g>\r\n    <g id=\"xtick_3\">\r\n     <g id=\"line2d_3\">\r\n      <g>\r\n       <use style=\"stroke:#000000;stroke-width:0.8;\" x=\"162.868182\" xlink:href=\"#mab96fb6647\" y=\"224.64\"/>\r\n      </g>\r\n     </g>\r\n     <g id=\"text_3\">\r\n      <!-- 15 -->\r\n      <g transform=\"translate(156.505682 239.238437)scale(0.1 -0.1)\">\r\n       <use xlink:href=\"#DejaVuSans-49\"/>\r\n       <use x=\"63.623047\" xlink:href=\"#DejaVuSans-53\"/>\r\n      </g>\r\n     </g>\r\n    </g>\r\n    <g id=\"xtick_4\">\r\n     <g id=\"line2d_4\">\r\n      <g>\r\n       <use style=\"stroke:#000000;stroke-width:0.8;\" x=\"211.959091\" xlink:href=\"#mab96fb6647\" y=\"224.64\"/>\r\n      </g>\r\n     </g>\r\n     <g id=\"text_4\">\r\n      <!-- 20 -->\r\n      <g transform=\"translate(205.596591 239.238437)scale(0.1 -0.1)\">\r\n       <defs>\r\n        <path d=\"M 19.1875 8.296875 \r\nL 53.609375 8.296875 \r\nL 53.609375 0 \r\nL 7.328125 0 \r\nL 7.328125 8.296875 \r\nQ 12.9375 14.109375 22.625 23.890625 \r\nQ 32.328125 33.6875 34.8125 36.53125 \r\nQ 39.546875 41.84375 41.421875 45.53125 \r\nQ 43.3125 49.21875 43.3125 52.78125 \r\nQ 43.3125 58.59375 39.234375 62.25 \r\nQ 35.15625 65.921875 28.609375 65.921875 \r\nQ 23.96875 65.921875 18.8125 64.3125 \r\nQ 13.671875 62.703125 7.8125 59.421875 \r\nL 7.8125 69.390625 \r\nQ 13.765625 71.78125 18.9375 73 \r\nQ 24.125 74.21875 28.421875 74.21875 \r\nQ 39.75 74.21875 46.484375 68.546875 \r\nQ 53.21875 62.890625 53.21875 53.421875 \r\nQ 53.21875 48.921875 51.53125 44.890625 \r\nQ 49.859375 40.875 45.40625 35.40625 \r\nQ 44.1875 33.984375 37.640625 27.21875 \r\nQ 31.109375 20.453125 19.1875 8.296875 \r\nz\r\n\" id=\"DejaVuSans-50\"/>\r\n       </defs>\r\n       <use xlink:href=\"#DejaVuSans-50\"/>\r\n       <use x=\"63.623047\" xlink:href=\"#DejaVuSans-48\"/>\r\n      </g>\r\n     </g>\r\n    </g>\r\n    <g id=\"xtick_5\">\r\n     <g id=\"line2d_5\">\r\n      <g>\r\n       <use style=\"stroke:#000000;stroke-width:0.8;\" x=\"261.05\" xlink:href=\"#mab96fb6647\" y=\"224.64\"/>\r\n      </g>\r\n     </g>\r\n     <g id=\"text_5\">\r\n      <!-- 25 -->\r\n      <g transform=\"translate(254.6875 239.238437)scale(0.1 -0.1)\">\r\n       <use xlink:href=\"#DejaVuSans-50\"/>\r\n       <use x=\"63.623047\" xlink:href=\"#DejaVuSans-53\"/>\r\n      </g>\r\n     </g>\r\n    </g>\r\n    <g id=\"xtick_6\">\r\n     <g id=\"line2d_6\">\r\n      <g>\r\n       <use style=\"stroke:#000000;stroke-width:0.8;\" x=\"310.140909\" xlink:href=\"#mab96fb6647\" y=\"224.64\"/>\r\n      </g>\r\n     </g>\r\n     <g id=\"text_6\">\r\n      <!-- 30 -->\r\n      <g transform=\"translate(303.778409 239.238437)scale(0.1 -0.1)\">\r\n       <defs>\r\n        <path d=\"M 40.578125 39.3125 \r\nQ 47.65625 37.796875 51.625 33 \r\nQ 55.609375 28.21875 55.609375 21.1875 \r\nQ 55.609375 10.40625 48.1875 4.484375 \r\nQ 40.765625 -1.421875 27.09375 -1.421875 \r\nQ 22.515625 -1.421875 17.65625 -0.515625 \r\nQ 12.796875 0.390625 7.625 2.203125 \r\nL 7.625 11.71875 \r\nQ 11.71875 9.328125 16.59375 8.109375 \r\nQ 21.484375 6.890625 26.8125 6.890625 \r\nQ 36.078125 6.890625 40.9375 10.546875 \r\nQ 45.796875 14.203125 45.796875 21.1875 \r\nQ 45.796875 27.640625 41.28125 31.265625 \r\nQ 36.765625 34.90625 28.71875 34.90625 \r\nL 20.21875 34.90625 \r\nL 20.21875 43.015625 \r\nL 29.109375 43.015625 \r\nQ 36.375 43.015625 40.234375 45.921875 \r\nQ 44.09375 48.828125 44.09375 54.296875 \r\nQ 44.09375 59.90625 40.109375 62.90625 \r\nQ 36.140625 65.921875 28.71875 65.921875 \r\nQ 24.65625 65.921875 20.015625 65.03125 \r\nQ 15.375 64.15625 9.8125 62.3125 \r\nL 9.8125 71.09375 \r\nQ 15.4375 72.65625 20.34375 73.4375 \r\nQ 25.25 74.21875 29.59375 74.21875 \r\nQ 40.828125 74.21875 47.359375 69.109375 \r\nQ 53.90625 64.015625 53.90625 55.328125 \r\nQ 53.90625 49.265625 50.4375 45.09375 \r\nQ 46.96875 40.921875 40.578125 39.3125 \r\nz\r\n\" id=\"DejaVuSans-51\"/>\r\n       </defs>\r\n       <use xlink:href=\"#DejaVuSans-51\"/>\r\n       <use x=\"63.623047\" xlink:href=\"#DejaVuSans-48\"/>\r\n      </g>\r\n     </g>\r\n    </g>\r\n    <g id=\"xtick_7\">\r\n     <g id=\"line2d_7\">\r\n      <g>\r\n       <use style=\"stroke:#000000;stroke-width:0.8;\" x=\"359.231818\" xlink:href=\"#mab96fb6647\" y=\"224.64\"/>\r\n      </g>\r\n     </g>\r\n     <g id=\"text_7\">\r\n      <!-- 35 -->\r\n      <g transform=\"translate(352.869318 239.238437)scale(0.1 -0.1)\">\r\n       <use xlink:href=\"#DejaVuSans-51\"/>\r\n       <use x=\"63.623047\" xlink:href=\"#DejaVuSans-53\"/>\r\n      </g>\r\n     </g>\r\n    </g>\r\n   </g>\r\n   <g id=\"matplotlib.axis_2\">\r\n    <g id=\"ytick_1\">\r\n     <g id=\"line2d_8\">\r\n      <defs>\r\n       <path d=\"M 0 0 \r\nL -3.5 0 \r\n\" id=\"m883ca40284\" style=\"stroke:#000000;stroke-width:0.8;\"/>\r\n      </defs>\r\n      <g>\r\n       <use style=\"stroke:#000000;stroke-width:0.8;\" x=\"39.65\" xlink:href=\"#m883ca40284\" y=\"214.756364\"/>\r\n      </g>\r\n     </g>\r\n     <g id=\"text_8\">\r\n      <!-- 0 -->\r\n      <g transform=\"translate(26.2875 218.555582)scale(0.1 -0.1)\">\r\n       <use xlink:href=\"#DejaVuSans-48\"/>\r\n      </g>\r\n     </g>\r\n    </g>\r\n    <g id=\"ytick_2\">\r\n     <g id=\"line2d_9\">\r\n      <g>\r\n       <use style=\"stroke:#000000;stroke-width:0.8;\" x=\"39.65\" xlink:href=\"#m883ca40284\" y=\"188.4\"/>\r\n      </g>\r\n     </g>\r\n     <g id=\"text_9\">\r\n      <!-- 1000 -->\r\n      <g transform=\"translate(7.2 192.199219)scale(0.1 -0.1)\">\r\n       <use xlink:href=\"#DejaVuSans-49\"/>\r\n       <use x=\"63.623047\" xlink:href=\"#DejaVuSans-48\"/>\r\n       <use x=\"127.246094\" xlink:href=\"#DejaVuSans-48\"/>\r\n       <use x=\"190.869141\" xlink:href=\"#DejaVuSans-48\"/>\r\n      </g>\r\n     </g>\r\n    </g>\r\n    <g id=\"ytick_3\">\r\n     <g id=\"line2d_10\">\r\n      <g>\r\n       <use style=\"stroke:#000000;stroke-width:0.8;\" x=\"39.65\" xlink:href=\"#m883ca40284\" y=\"162.043636\"/>\r\n      </g>\r\n     </g>\r\n     <g id=\"text_10\">\r\n      <!-- 2000 -->\r\n      <g transform=\"translate(7.2 165.842855)scale(0.1 -0.1)\">\r\n       <use xlink:href=\"#DejaVuSans-50\"/>\r\n       <use x=\"63.623047\" xlink:href=\"#DejaVuSans-48\"/>\r\n       <use x=\"127.246094\" xlink:href=\"#DejaVuSans-48\"/>\r\n       <use x=\"190.869141\" xlink:href=\"#DejaVuSans-48\"/>\r\n      </g>\r\n     </g>\r\n    </g>\r\n    <g id=\"ytick_4\">\r\n     <g id=\"line2d_11\">\r\n      <g>\r\n       <use style=\"stroke:#000000;stroke-width:0.8;\" x=\"39.65\" xlink:href=\"#m883ca40284\" y=\"135.687273\"/>\r\n      </g>\r\n     </g>\r\n     <g id=\"text_11\">\r\n      <!-- 3000 -->\r\n      <g transform=\"translate(7.2 139.486491)scale(0.1 -0.1)\">\r\n       <use xlink:href=\"#DejaVuSans-51\"/>\r\n       <use x=\"63.623047\" xlink:href=\"#DejaVuSans-48\"/>\r\n       <use x=\"127.246094\" xlink:href=\"#DejaVuSans-48\"/>\r\n       <use x=\"190.869141\" xlink:href=\"#DejaVuSans-48\"/>\r\n      </g>\r\n     </g>\r\n    </g>\r\n    <g id=\"ytick_5\">\r\n     <g id=\"line2d_12\">\r\n      <g>\r\n       <use style=\"stroke:#000000;stroke-width:0.8;\" x=\"39.65\" xlink:href=\"#m883ca40284\" y=\"109.330909\"/>\r\n      </g>\r\n     </g>\r\n     <g id=\"text_12\">\r\n      <!-- 4000 -->\r\n      <g transform=\"translate(7.2 113.130128)scale(0.1 -0.1)\">\r\n       <defs>\r\n        <path d=\"M 37.796875 64.3125 \r\nL 12.890625 25.390625 \r\nL 37.796875 25.390625 \r\nz\r\nM 35.203125 72.90625 \r\nL 47.609375 72.90625 \r\nL 47.609375 25.390625 \r\nL 58.015625 25.390625 \r\nL 58.015625 17.1875 \r\nL 47.609375 17.1875 \r\nL 47.609375 0 \r\nL 37.796875 0 \r\nL 37.796875 17.1875 \r\nL 4.890625 17.1875 \r\nL 4.890625 26.703125 \r\nz\r\n\" id=\"DejaVuSans-52\"/>\r\n       </defs>\r\n       <use xlink:href=\"#DejaVuSans-52\"/>\r\n       <use x=\"63.623047\" xlink:href=\"#DejaVuSans-48\"/>\r\n       <use x=\"127.246094\" xlink:href=\"#DejaVuSans-48\"/>\r\n       <use x=\"190.869141\" xlink:href=\"#DejaVuSans-48\"/>\r\n      </g>\r\n     </g>\r\n    </g>\r\n    <g id=\"ytick_6\">\r\n     <g id=\"line2d_13\">\r\n      <g>\r\n       <use style=\"stroke:#000000;stroke-width:0.8;\" x=\"39.65\" xlink:href=\"#m883ca40284\" y=\"82.974545\"/>\r\n      </g>\r\n     </g>\r\n     <g id=\"text_13\">\r\n      <!-- 5000 -->\r\n      <g transform=\"translate(7.2 86.773764)scale(0.1 -0.1)\">\r\n       <use xlink:href=\"#DejaVuSans-53\"/>\r\n       <use x=\"63.623047\" xlink:href=\"#DejaVuSans-48\"/>\r\n       <use x=\"127.246094\" xlink:href=\"#DejaVuSans-48\"/>\r\n       <use x=\"190.869141\" xlink:href=\"#DejaVuSans-48\"/>\r\n      </g>\r\n     </g>\r\n    </g>\r\n    <g id=\"ytick_7\">\r\n     <g id=\"line2d_14\">\r\n      <g>\r\n       <use style=\"stroke:#000000;stroke-width:0.8;\" x=\"39.65\" xlink:href=\"#m883ca40284\" y=\"56.618182\"/>\r\n      </g>\r\n     </g>\r\n     <g id=\"text_14\">\r\n      <!-- 6000 -->\r\n      <g transform=\"translate(7.2 60.417401)scale(0.1 -0.1)\">\r\n       <defs>\r\n        <path d=\"M 33.015625 40.375 \r\nQ 26.375 40.375 22.484375 35.828125 \r\nQ 18.609375 31.296875 18.609375 23.390625 \r\nQ 18.609375 15.53125 22.484375 10.953125 \r\nQ 26.375 6.390625 33.015625 6.390625 \r\nQ 39.65625 6.390625 43.53125 10.953125 \r\nQ 47.40625 15.53125 47.40625 23.390625 \r\nQ 47.40625 31.296875 43.53125 35.828125 \r\nQ 39.65625 40.375 33.015625 40.375 \r\nz\r\nM 52.59375 71.296875 \r\nL 52.59375 62.3125 \r\nQ 48.875 64.0625 45.09375 64.984375 \r\nQ 41.3125 65.921875 37.59375 65.921875 \r\nQ 27.828125 65.921875 22.671875 59.328125 \r\nQ 17.53125 52.734375 16.796875 39.40625 \r\nQ 19.671875 43.65625 24.015625 45.921875 \r\nQ 28.375 48.1875 33.59375 48.1875 \r\nQ 44.578125 48.1875 50.953125 41.515625 \r\nQ 57.328125 34.859375 57.328125 23.390625 \r\nQ 57.328125 12.15625 50.6875 5.359375 \r\nQ 44.046875 -1.421875 33.015625 -1.421875 \r\nQ 20.359375 -1.421875 13.671875 8.265625 \r\nQ 6.984375 17.96875 6.984375 36.375 \r\nQ 6.984375 53.65625 15.1875 63.9375 \r\nQ 23.390625 74.21875 37.203125 74.21875 \r\nQ 40.921875 74.21875 44.703125 73.484375 \r\nQ 48.484375 72.75 52.59375 71.296875 \r\nz\r\n\" id=\"DejaVuSans-54\"/>\r\n       </defs>\r\n       <use xlink:href=\"#DejaVuSans-54\"/>\r\n       <use x=\"63.623047\" xlink:href=\"#DejaVuSans-48\"/>\r\n       <use x=\"127.246094\" xlink:href=\"#DejaVuSans-48\"/>\r\n       <use x=\"190.869141\" xlink:href=\"#DejaVuSans-48\"/>\r\n      </g>\r\n     </g>\r\n    </g>\r\n    <g id=\"ytick_8\">\r\n     <g id=\"line2d_15\">\r\n      <g>\r\n       <use style=\"stroke:#000000;stroke-width:0.8;\" x=\"39.65\" xlink:href=\"#m883ca40284\" y=\"30.261818\"/>\r\n      </g>\r\n     </g>\r\n     <g id=\"text_15\">\r\n      <!-- 7000 -->\r\n      <g transform=\"translate(7.2 34.061037)scale(0.1 -0.1)\">\r\n       <defs>\r\n        <path d=\"M 8.203125 72.90625 \r\nL 55.078125 72.90625 \r\nL 55.078125 68.703125 \r\nL 28.609375 0 \r\nL 18.3125 0 \r\nL 43.21875 64.59375 \r\nL 8.203125 64.59375 \r\nz\r\n\" id=\"DejaVuSans-55\"/>\r\n       </defs>\r\n       <use xlink:href=\"#DejaVuSans-55\"/>\r\n       <use x=\"63.623047\" xlink:href=\"#DejaVuSans-48\"/>\r\n       <use x=\"127.246094\" xlink:href=\"#DejaVuSans-48\"/>\r\n       <use x=\"190.869141\" xlink:href=\"#DejaVuSans-48\"/>\r\n      </g>\r\n     </g>\r\n    </g>\r\n   </g>\r\n   <g id=\"patch_3\">\r\n    <path d=\"M 39.65 224.64 \r\nL 39.65 7.2 \r\n\" style=\"fill:none;stroke:#000000;stroke-linecap:square;stroke-linejoin:miter;stroke-width:0.8;\"/>\r\n   </g>\r\n   <g id=\"patch_4\">\r\n    <path d=\"M 374.45 224.64 \r\nL 374.45 7.2 \r\n\" style=\"fill:none;stroke:#000000;stroke-linecap:square;stroke-linejoin:miter;stroke-width:0.8;\"/>\r\n   </g>\r\n   <g id=\"patch_5\">\r\n    <path d=\"M 39.65 224.64 \r\nL 374.45 224.64 \r\n\" style=\"fill:none;stroke:#000000;stroke-linecap:square;stroke-linejoin:miter;stroke-width:0.8;\"/>\r\n   </g>\r\n   <g id=\"patch_6\">\r\n    <path d=\"M 39.65 7.2 \r\nL 374.45 7.2 \r\n\" style=\"fill:none;stroke:#000000;stroke-linecap:square;stroke-linejoin:miter;stroke-width:0.8;\"/>\r\n   </g>\r\n  </g>\r\n </g>\r\n <defs>\r\n  <clipPath id=\"pa776969385\">\r\n   <rect height=\"217.44\" width=\"334.8\" x=\"39.65\" y=\"7.2\"/>\r\n  </clipPath>\r\n </defs>\r\n</svg>\r\n",
      "image/png": "[encoded data removed]"
     },
     "metadata": {
      "needs_background": "light"
     }
    }
   ],
   "source": [
    "from sklearn import mixture\n",
    "gmm = mixture.GaussianMixture(n_components=3, covariance_type='full').fit(sample_geo[['Porosity', 'Permeability']].values)\n",
    "labels = gmm.predict(sample_geo[['Porosity', 'Permeability']].values)\n",
    "plt.scatter(sample_geo['Porosity'], sample_geo['Permeability'], c=labels, s=40, cmap='viridis')"
   ]
  },
  {
   "cell_type": "code",
   "execution_count": 17,
   "metadata": {},
   "outputs": [
    {
     "output_type": "stream",
     "name": "stderr",
     "text": [
      "<ipython-input-17-9b61972398ec>:1: SettingWithCopyWarning: \nA value is trying to be set on a copy of a slice from a DataFrame.\nTry using .loc[row_indexer,col_indexer] = value instead\n\nSee the caveats in the documentation: https://pandas.pydata.org/pandas-docs/stable/user_guide/indexing.html#returning-a-view-versus-a-copy\n  sample_geo['labels'] = labels\n"
     ]
    }
   ],
   "source": [
    "sample_geo['labels'] = labels"
   ]
  },
  {
   "cell_type": "code",
   "execution_count": 19,
   "metadata": {},
   "outputs": [],
   "source": [
    "means_parent = [list(l)[0:-1] for l in list(gmm.means_)]\n",
    "mean_node = [list(l)[-1] for l in list(gmm.means_)]"
   ]
  },
  {
   "cell_type": "code",
   "execution_count": 20,
   "metadata": {},
   "outputs": [
    {
     "output_type": "execute_result",
     "data": {
      "text/plain": [
       "[[16.390294974666816], [23.496644836143467], [26.887263651484954]]"
      ]
     },
     "metadata": {},
     "execution_count": 20
    }
   ],
   "source": [
    "means_parent"
   ]
  },
  {
   "cell_type": "code",
   "execution_count": 21,
   "metadata": {},
   "outputs": [
    {
     "output_type": "execute_result",
     "data": {
      "text/plain": [
       "[84.92937426745506, 948.8982815724421, 4155.014332757755]"
      ]
     },
     "metadata": {},
     "execution_count": 21
    }
   ],
   "source": [
    "mean_node"
   ]
  },
  {
   "cell_type": "code",
   "execution_count": 44,
   "metadata": {},
   "outputs": [],
   "source": [
    "small_sample = sample_geo.loc[sample_geo['labels'] == 2]"
   ]
  },
  {
   "cell_type": "code",
   "execution_count": 46,
   "metadata": {},
   "outputs": [
    {
     "output_type": "execute_result",
     "data": {
      "text/plain": [
       "12.015555555555554"
      ]
     },
     "metadata": {},
     "execution_count": 46
    }
   ],
   "source": [
    "np.var(small_sample['Porosity'].values)"
   ]
  },
  {
   "cell_type": "code",
   "execution_count": 47,
   "metadata": {},
   "outputs": [],
   "source": [
    "from scipy.stats import norm\n",
    "mean, std = norm.fit(small_sample['Porosity'])"
   ]
  },
  {
   "cell_type": "code",
   "execution_count": 21,
   "metadata": {},
   "outputs": [],
   "source": [
    "from sklearn.cluster import KMeans\n",
    "\n",
    "kmeans = KMeans(n_clusters=3, random_state=0).fit(sample_geo[['Porosity', 'Permeability']].values)"
   ]
  },
  {
   "cell_type": "code",
   "execution_count": 22,
   "metadata": {},
   "outputs": [
    {
     "output_type": "execute_result",
     "data": {
      "text/plain": [
       "array([[  27.83333333, 5513.88888889],\n",
       "       [  18.16896552,  247.68128079],\n",
       "       [  27.38888889, 2001.72222222]])"
      ]
     },
     "metadata": {},
     "execution_count": 22
    }
   ],
   "source": [
    "kmeans.cluster_centers_"
   ]
  },
  {
   "cell_type": "code",
   "execution_count": 19,
   "metadata": {},
   "outputs": [],
   "source": [
    "sample = copy(sample_geo)\n",
    "sample['labels'] = labels\n",
    "variances = []"
   ]
  },
  {
   "cell_type": "code",
   "execution_count": 20,
   "metadata": {},
   "outputs": [
    {
     "output_type": "stream",
     "name": "stdout",
     "text": [
      "0\n1\n2\n"
     ]
    }
   ],
   "source": [
    "for i in range(0,3,1):\n",
    "    print(i)\n",
    "    sample_small = sample.loc[sample['labels'] == i]\n",
    "    variances.append(sample_small['Permeability'].var())"
   ]
  },
  {
   "cell_type": "code",
   "execution_count": 21,
   "metadata": {},
   "outputs": [
    {
     "output_type": "execute_result",
     "data": {
      "text/plain": [
       "[16375.0, 320000.0, 0.0]"
      ]
     },
     "metadata": {},
     "execution_count": 21
    }
   ],
   "source": [
    "variances"
   ]
  },
  {
   "cell_type": "code",
   "execution_count": 94,
   "metadata": {},
   "outputs": [
    {
     "output_type": "execute_result",
     "data": {
      "text/plain": [
       "42.80301162335119"
      ]
     },
     "metadata": {},
     "execution_count": 94
    }
   ],
   "source": [
    "sample_geo['Porosity'].var()"
   ]
  },
  {
   "cell_type": "code",
   "execution_count": 90,
   "metadata": {},
   "outputs": [
    {
     "output_type": "execute_result",
     "data": {
      "text/plain": [
       "[84.92937426745507, 4155.014332757755, 948.8982815724424]"
      ]
     },
     "metadata": {},
     "execution_count": 90
    }
   ],
   "source": [
    "mean_parent = [list(l)[-1] for l in list(gmm.means_)]\n",
    "mean_parent"
   ]
  },
  {
   "cell_type": "code",
   "execution_count": null,
   "metadata": {},
   "outputs": [],
   "source": []
  },
  {
   "cell_type": "code",
   "execution_count": 67,
   "metadata": {},
   "outputs": [
    {
     "output_type": "execute_result",
     "data": {
      "text/plain": [
       "array([[  23.49664484,  948.89828157],\n",
       "       [  16.39029497,   84.92937427],\n",
       "       [  26.88726365, 4155.01433276]])"
      ]
     },
     "metadata": {},
     "execution_count": 67
    }
   ],
   "source": [
    "gmm.pr"
   ]
  },
  {
   "cell_type": "code",
   "execution_count": 30,
   "metadata": {},
   "outputs": [
    {
     "output_type": "execute_result",
     "data": {
      "text/plain": [
       "KstestResult(statistic=1.0, pvalue=0.0)"
      ]
     },
     "metadata": {},
     "execution_count": 30
    }
   ],
   "source": [
    "stats.kstest(sample_geo['Depth'], 'norm')"
   ]
  },
  {
   "cell_type": "code",
   "execution_count": 31,
   "metadata": {},
   "outputs": [],
   "source": [
    "params = stats.uniform.fit(sample_geo['Depth'])"
   ]
  },
  {
   "cell_type": "code",
   "execution_count": 32,
   "metadata": {},
   "outputs": [
    {
     "output_type": "execute_result",
     "data": {
      "text/plain": [
       "KstestResult(statistic=0.21525050292173575, pvalue=0.0013048369535451076)"
      ]
     },
     "metadata": {},
     "execution_count": 32
    }
   ],
   "source": [
    "stats.kstest(sample_geo['Depth'], 'uniform', params)"
   ]
  },
  {
   "cell_type": "code",
   "execution_count": 12,
   "metadata": {},
   "outputs": [
    {
     "output_type": "execute_result",
     "data": {
      "text/plain": [
       "LinearRegression()"
      ]
     },
     "metadata": {},
     "execution_count": 12
    }
   ],
   "source": [
    "from sklearn import linear_model\n",
    "\n",
    "clf = linear_model.LinearRegression()\n",
    "clf.fit(np.transpose([sample_geo['Porosity'].values]), sample_geo['Permeability'].values)"
   ]
  },
  {
   "cell_type": "code",
   "execution_count": 13,
   "metadata": {},
   "outputs": [
    {
     "output_type": "execute_result",
     "data": {
      "text/plain": [
       "-1253.578582747665"
      ]
     },
     "metadata": {},
     "execution_count": 13
    }
   ],
   "source": [
    "clf.intercept_"
   ]
  },
  {
   "cell_type": "code",
   "execution_count": 15,
   "metadata": {},
   "outputs": [
    {
     "output_type": "execute_result",
     "data": {
      "text/plain": [
       "  first_name      last_name  sex  age  city_id  has_high_education  relation  \\\n",
       "0      Darya     Tsiberkina  1.0   33        2                   0         4   \n",
       "1       Gleb        Kotenev  2.0   18        2                   0         0   \n",
       "2       Anna        Pavlova  1.0   34        2                   0         0   \n",
       "3     Serega       Martynov  2.0   39        2                   0         0   \n",
       "4      Maria     Pavlyukova  1.0    0        2                   0         0   \n",
       "5       Yury       Golubkov  2.0   47        2                   0         0   \n",
       "6   Svetlana       Muratova  1.0   48        2                   0         4   \n",
       "7       Ivan       Poletaev  2.0    0        2                   0         0   \n",
       "8  Anastasia  Yaguzhinskaya  1.0   25        1                   0         0   \n",
       "9  Valentina       Trokhova  1.0   55        2                   0         0   \n",
       "\n",
       "   num_of_relatives  followers_count  status  ...  top3     top3_mean  \\\n",
       "0                 2              486       8  ...  5812   1277.784568   \n",
       "1                 2                0       5  ...  5814    384.000000   \n",
       "2                 2                7       0  ...  6011  24000.000000   \n",
       "3                 2                7      10  ...  5411    142.175000   \n",
       "4                 2              144       0  ...  6011   1095.238095   \n",
       "5                 2                0       0  ...  5964    760.580000   \n",
       "6                 2               30       0  ...  5411    113.000000   \n",
       "7                 2               53      23  ...  5411    446.565263   \n",
       "8                 2              111       3  ...  5499    185.523529   \n",
       "9                12               56       0  ...  5499    345.572472   \n",
       "\n",
       "   game_sum  is_gamer  parent_sum is_parent  driver_sum is_driver  pets_sum  \\\n",
       "0       0.0         0     9968.00         1         0.0         0       0.0   \n",
       "1       0.0         0        0.00         0         0.0         0       0.0   \n",
       "2       0.0         0        0.00         0         0.0         0       0.0   \n",
       "3       0.0         0        0.00         0         0.0         0       0.0   \n",
       "4       0.0         0    60331.59         1         0.0         0      80.0   \n",
       "5       0.0         0        0.00         0         0.0         0       0.0   \n",
       "6       0.0         0        0.00         0         0.0         0       0.0   \n",
       "7    1000.0         1        0.00         0         0.0         0       0.0   \n",
       "8       0.0         0        0.00         0         0.0         0    1287.0   \n",
       "9       0.0         0        0.00         0         0.0         0       0.0   \n",
       "\n",
       "   has_pets  \n",
       "0         0  \n",
       "1         0  \n",
       "2         0  \n",
       "3         0  \n",
       "4         0  \n",
       "5         0  \n",
       "6         0  \n",
       "7         0  \n",
       "8         0  \n",
       "9         0  \n",
       "\n",
       "[10 rows x 78 columns]"
      ],
      "text/html": "<div>\n<style scoped>\n    .dataframe tbody tr th:only-of-type {\n        vertical-align: middle;\n    }\n\n    .dataframe tbody tr th {\n        vertical-align: top;\n    }\n\n    .dataframe thead th {\n        text-align: right;\n    }\n</style>\n<table border=\"1\" class=\"dataframe\">\n  <thead>\n    <tr style=\"text-align: right;\">\n      <th></th>\n      <th>first_name</th>\n      <th>last_name</th>\n      <th>sex</th>\n      <th>age</th>\n      <th>city_id</th>\n      <th>has_high_education</th>\n      <th>relation</th>\n      <th>num_of_relatives</th>\n      <th>followers_count</th>\n      <th>status</th>\n      <th>...</th>\n      <th>top3</th>\n      <th>top3_mean</th>\n      <th>game_sum</th>\n      <th>is_gamer</th>\n      <th>parent_sum</th>\n      <th>is_parent</th>\n      <th>driver_sum</th>\n      <th>is_driver</th>\n      <th>pets_sum</th>\n      <th>has_pets</th>\n    </tr>\n  </thead>\n  <tbody>\n    <tr>\n      <th>0</th>\n      <td>Darya</td>\n      <td>Tsiberkina</td>\n      <td>1.0</td>\n      <td>33</td>\n      <td>2</td>\n      <td>0</td>\n      <td>4</td>\n      <td>2</td>\n      <td>486</td>\n      <td>8</td>\n      <td>...</td>\n      <td>5812</td>\n      <td>1277.784568</td>\n      <td>0.0</td>\n      <td>0</td>\n      <td>9968.00</td>\n      <td>1</td>\n      <td>0.0</td>\n      <td>0</td>\n      <td>0.0</td>\n      <td>0</td>\n    </tr>\n    <tr>\n      <th>1</th>\n      <td>Gleb</td>\n      <td>Kotenev</td>\n      <td>2.0</td>\n      <td>18</td>\n      <td>2</td>\n      <td>0</td>\n      <td>0</td>\n      <td>2</td>\n      <td>0</td>\n      <td>5</td>\n      <td>...</td>\n      <td>5814</td>\n      <td>384.000000</td>\n      <td>0.0</td>\n      <td>0</td>\n      <td>0.00</td>\n      <td>0</td>\n      <td>0.0</td>\n      <td>0</td>\n      <td>0.0</td>\n      <td>0</td>\n    </tr>\n    <tr>\n      <th>2</th>\n      <td>Anna</td>\n      <td>Pavlova</td>\n      <td>1.0</td>\n      <td>34</td>\n      <td>2</td>\n      <td>0</td>\n      <td>0</td>\n      <td>2</td>\n      <td>7</td>\n      <td>0</td>\n      <td>...</td>\n      <td>6011</td>\n      <td>24000.000000</td>\n      <td>0.0</td>\n      <td>0</td>\n      <td>0.00</td>\n      <td>0</td>\n      <td>0.0</td>\n      <td>0</td>\n      <td>0.0</td>\n      <td>0</td>\n    </tr>\n    <tr>\n      <th>3</th>\n      <td>Serega</td>\n      <td>Martynov</td>\n      <td>2.0</td>\n      <td>39</td>\n      <td>2</td>\n      <td>0</td>\n      <td>0</td>\n      <td>2</td>\n      <td>7</td>\n      <td>10</td>\n      <td>...</td>\n      <td>5411</td>\n      <td>142.175000</td>\n      <td>0.0</td>\n      <td>0</td>\n      <td>0.00</td>\n      <td>0</td>\n      <td>0.0</td>\n      <td>0</td>\n      <td>0.0</td>\n      <td>0</td>\n    </tr>\n    <tr>\n      <th>4</th>\n      <td>Maria</td>\n      <td>Pavlyukova</td>\n      <td>1.0</td>\n      <td>0</td>\n      <td>2</td>\n      <td>0</td>\n      <td>0</td>\n      <td>2</td>\n      <td>144</td>\n      <td>0</td>\n      <td>...</td>\n      <td>6011</td>\n      <td>1095.238095</td>\n      <td>0.0</td>\n      <td>0</td>\n      <td>60331.59</td>\n      <td>1</td>\n      <td>0.0</td>\n      <td>0</td>\n      <td>80.0</td>\n      <td>0</td>\n    </tr>\n    <tr>\n      <th>5</th>\n      <td>Yury</td>\n      <td>Golubkov</td>\n      <td>2.0</td>\n      <td>47</td>\n      <td>2</td>\n      <td>0</td>\n      <td>0</td>\n      <td>2</td>\n      <td>0</td>\n      <td>0</td>\n      <td>...</td>\n      <td>5964</td>\n      <td>760.580000</td>\n      <td>0.0</td>\n      <td>0</td>\n      <td>0.00</td>\n      <td>0</td>\n      <td>0.0</td>\n      <td>0</td>\n      <td>0.0</td>\n      <td>0</td>\n    </tr>\n    <tr>\n      <th>6</th>\n      <td>Svetlana</td>\n      <td>Muratova</td>\n      <td>1.0</td>\n      <td>48</td>\n      <td>2</td>\n      <td>0</td>\n      <td>4</td>\n      <td>2</td>\n      <td>30</td>\n      <td>0</td>\n      <td>...</td>\n      <td>5411</td>\n      <td>113.000000</td>\n      <td>0.0</td>\n      <td>0</td>\n      <td>0.00</td>\n      <td>0</td>\n      <td>0.0</td>\n      <td>0</td>\n      <td>0.0</td>\n      <td>0</td>\n    </tr>\n    <tr>\n      <th>7</th>\n      <td>Ivan</td>\n      <td>Poletaev</td>\n      <td>2.0</td>\n      <td>0</td>\n      <td>2</td>\n      <td>0</td>\n      <td>0</td>\n      <td>2</td>\n      <td>53</td>\n      <td>23</td>\n      <td>...</td>\n      <td>5411</td>\n      <td>446.565263</td>\n      <td>1000.0</td>\n      <td>1</td>\n      <td>0.00</td>\n      <td>0</td>\n      <td>0.0</td>\n      <td>0</td>\n      <td>0.0</td>\n      <td>0</td>\n    </tr>\n    <tr>\n      <th>8</th>\n      <td>Anastasia</td>\n      <td>Yaguzhinskaya</td>\n      <td>1.0</td>\n      <td>25</td>\n      <td>1</td>\n      <td>0</td>\n      <td>0</td>\n      <td>2</td>\n      <td>111</td>\n      <td>3</td>\n      <td>...</td>\n      <td>5499</td>\n      <td>185.523529</td>\n      <td>0.0</td>\n      <td>0</td>\n      <td>0.00</td>\n      <td>0</td>\n      <td>0.0</td>\n      <td>0</td>\n      <td>1287.0</td>\n      <td>0</td>\n    </tr>\n    <tr>\n      <th>9</th>\n      <td>Valentina</td>\n      <td>Trokhova</td>\n      <td>1.0</td>\n      <td>55</td>\n      <td>2</td>\n      <td>0</td>\n      <td>0</td>\n      <td>12</td>\n      <td>56</td>\n      <td>0</td>\n      <td>...</td>\n      <td>5499</td>\n      <td>345.572472</td>\n      <td>0.0</td>\n      <td>0</td>\n      <td>0.00</td>\n      <td>0</td>\n      <td>0.0</td>\n      <td>0</td>\n      <td>0.0</td>\n      <td>0</td>\n    </tr>\n  </tbody>\n</table>\n<p>10 rows × 78 columns</p>\n</div>"
     },
     "metadata": {},
     "execution_count": 15
    }
   ],
   "source": [
    "socio = pd.read_csv('../datasets/vk_interests_finance.csv')\n",
    "socio.head(10)"
   ]
  },
  {
   "cell_type": "code",
   "execution_count": 16,
   "metadata": {},
   "outputs": [],
   "source": [
    "columns = ['age', 'sex', 'relation', 'mean_tr', 'median_tr', 'tr_per_month', 'is_parent', 'is_driver', 'has_pets']\n",
    "socio = socio[columns]\n",
    "socio.dropna(inplace=True)\n",
    "socio.reset_index(inplace=True, drop=True)"
   ]
  },
  {
   "cell_type": "code",
   "execution_count": 17,
   "metadata": {},
   "outputs": [
    {
     "output_type": "execute_result",
     "data": {
      "text/plain": [
       "       age  sex  relation       mean_tr  median_tr  tr_per_month  is_parent  \\\n",
       "0       33    1         4   1834.965024    727.500     30.198341          1   \n",
       "1       18    2         0    179.375000     94.075      8.207697          0   \n",
       "2       34    1         0   4877.224375   3250.000      2.510258          0   \n",
       "3       39    2         0   5816.299912    500.000      8.228150          0   \n",
       "4        0    1         0    528.680410    182.500     13.460532          1   \n",
       "...    ...  ...       ...           ...        ...           ...        ...   \n",
       "93613   20    2         0    324.110811    130.000      2.317211          0   \n",
       "93614   47    1         0   3502.901130    860.000     30.958948          1   \n",
       "93615   57    1         0  17412.500000  13500.000      1.932500          0   \n",
       "93616   58    2         4   5276.737619   1039.000      5.017067          1   \n",
       "93617   21    2         0   2027.286538    549.000      2.500344          0   \n",
       "\n",
       "       is_driver  has_pets  \n",
       "0              0         0  \n",
       "1              0         0  \n",
       "2              0         0  \n",
       "3              0         0  \n",
       "4              0         0  \n",
       "...          ...       ...  \n",
       "93613          0         0  \n",
       "93614          0         0  \n",
       "93615          0         0  \n",
       "93616          0         0  \n",
       "93617          0         0  \n",
       "\n",
       "[93618 rows x 9 columns]"
      ],
      "text/html": "<div>\n<style scoped>\n    .dataframe tbody tr th:only-of-type {\n        vertical-align: middle;\n    }\n\n    .dataframe tbody tr th {\n        vertical-align: top;\n    }\n\n    .dataframe thead th {\n        text-align: right;\n    }\n</style>\n<table border=\"1\" class=\"dataframe\">\n  <thead>\n    <tr style=\"text-align: right;\">\n      <th></th>\n      <th>age</th>\n      <th>sex</th>\n      <th>relation</th>\n      <th>mean_tr</th>\n      <th>median_tr</th>\n      <th>tr_per_month</th>\n      <th>is_parent</th>\n      <th>is_driver</th>\n      <th>has_pets</th>\n    </tr>\n  </thead>\n  <tbody>\n    <tr>\n      <th>0</th>\n      <td>33</td>\n      <td>1</td>\n      <td>4</td>\n      <td>1834.965024</td>\n      <td>727.500</td>\n      <td>30.198341</td>\n      <td>1</td>\n      <td>0</td>\n      <td>0</td>\n    </tr>\n    <tr>\n      <th>1</th>\n      <td>18</td>\n      <td>2</td>\n      <td>0</td>\n      <td>179.375000</td>\n      <td>94.075</td>\n      <td>8.207697</td>\n      <td>0</td>\n      <td>0</td>\n      <td>0</td>\n    </tr>\n    <tr>\n      <th>2</th>\n      <td>34</td>\n      <td>1</td>\n      <td>0</td>\n      <td>4877.224375</td>\n      <td>3250.000</td>\n      <td>2.510258</td>\n      <td>0</td>\n      <td>0</td>\n      <td>0</td>\n    </tr>\n    <tr>\n      <th>3</th>\n      <td>39</td>\n      <td>2</td>\n      <td>0</td>\n      <td>5816.299912</td>\n      <td>500.000</td>\n      <td>8.228150</td>\n      <td>0</td>\n      <td>0</td>\n      <td>0</td>\n    </tr>\n    <tr>\n      <th>4</th>\n      <td>0</td>\n      <td>1</td>\n      <td>0</td>\n      <td>528.680410</td>\n      <td>182.500</td>\n      <td>13.460532</td>\n      <td>1</td>\n      <td>0</td>\n      <td>0</td>\n    </tr>\n    <tr>\n      <th>...</th>\n      <td>...</td>\n      <td>...</td>\n      <td>...</td>\n      <td>...</td>\n      <td>...</td>\n      <td>...</td>\n      <td>...</td>\n      <td>...</td>\n      <td>...</td>\n    </tr>\n    <tr>\n      <th>93613</th>\n      <td>20</td>\n      <td>2</td>\n      <td>0</td>\n      <td>324.110811</td>\n      <td>130.000</td>\n      <td>2.317211</td>\n      <td>0</td>\n      <td>0</td>\n      <td>0</td>\n    </tr>\n    <tr>\n      <th>93614</th>\n      <td>47</td>\n      <td>1</td>\n      <td>0</td>\n      <td>3502.901130</td>\n      <td>860.000</td>\n      <td>30.958948</td>\n      <td>1</td>\n      <td>0</td>\n      <td>0</td>\n    </tr>\n    <tr>\n      <th>93615</th>\n      <td>57</td>\n      <td>1</td>\n      <td>0</td>\n      <td>17412.500000</td>\n      <td>13500.000</td>\n      <td>1.932500</td>\n      <td>0</td>\n      <td>0</td>\n      <td>0</td>\n    </tr>\n    <tr>\n      <th>93616</th>\n      <td>58</td>\n      <td>2</td>\n      <td>4</td>\n      <td>5276.737619</td>\n      <td>1039.000</td>\n      <td>5.017067</td>\n      <td>1</td>\n      <td>0</td>\n      <td>0</td>\n    </tr>\n    <tr>\n      <th>93617</th>\n      <td>21</td>\n      <td>2</td>\n      <td>0</td>\n      <td>2027.286538</td>\n      <td>549.000</td>\n      <td>2.500344</td>\n      <td>0</td>\n      <td>0</td>\n      <td>0</td>\n    </tr>\n  </tbody>\n</table>\n<p>93618 rows × 9 columns</p>\n</div>"
     },
     "metadata": {},
     "execution_count": 17
    }
   ],
   "source": [
    "socio['sex'] = socio['sex'].apply(lambda x: int(x))\n",
    "socio"
   ]
  },
  {
   "cell_type": "code",
   "execution_count": 18,
   "metadata": {},
   "outputs": [],
   "source": [
    "socio['sex'] = socio['sex'].apply(lambda x: str(x))\n",
    "socio['relation'] = socio['relation'].apply(lambda x: str(x))\n",
    "socio['is_parent'] = socio['is_parent'].apply(lambda x: str(x))\n",
    "socio['is_driver'] = socio['is_driver'].apply(lambda x: str(x))\n",
    "socio['has_pets'] = socio['has_pets'].apply(lambda x: str(x))"
   ]
  },
  {
   "cell_type": "code",
   "execution_count": 19,
   "metadata": {},
   "outputs": [
    {
     "output_type": "execute_result",
     "data": {
      "text/plain": [
       "{'age': 'disc',\n",
       " 'sex': 'disc',\n",
       " 'relation': 'disc',\n",
       " 'mean_tr': 'cont',\n",
       " 'median_tr': 'cont',\n",
       " 'tr_per_month': 'cont',\n",
       " 'is_parent': 'disc',\n",
       " 'is_driver': 'disc',\n",
       " 'has_pets': 'disc'}"
      ]
     },
     "metadata": {},
     "execution_count": 19
    }
   ],
   "source": [
    "socio_types = get_nodes_type(socio)\n",
    "socio_types"
   ]
  },
  {
   "cell_type": "code",
   "execution_count": 20,
   "metadata": {},
   "outputs": [],
   "source": [
    "socio_types = {'age': 'cont',\n",
    " 'sex': 'disc',\n",
    " 'relation': 'disc',\n",
    " 'mean_tr': 'cont',\n",
    " 'median_tr': 'cont',\n",
    " 'tr_per_month': 'cont',\n",
    " 'is_parent': 'disc',\n",
    " 'is_driver': 'disc',\n",
    " 'has_pets': 'disc'}"
   ]
  },
  {
   "cell_type": "code",
   "execution_count": 21,
   "metadata": {},
   "outputs": [],
   "source": [
    "discrete_socio, coder_socio = discretization(socio, 'equal_frequency', ['age', 'mean_tr', 'median_tr', 'tr_per_month'])"
   ]
  },
  {
   "cell_type": "code",
   "execution_count": 22,
   "metadata": {},
   "outputs": [
    {
     "output_type": "stream",
     "name": "stderr",
     "text": [
      "  0%|          | 24/1000000 [00:07<89:26:32,  3.11it/s]\n"
     ]
    }
   ],
   "source": [
    "bn_socio = structure_learning(discrete_socio, 'HC', 'K2', socio_types)"
   ]
  },
  {
   "cell_type": "code",
   "execution_count": 23,
   "metadata": {},
   "outputs": [],
   "source": [
    "params = parameter_learning(socio, socio_types, bn_socio)"
   ]
  },
  {
   "cell_type": "code",
   "execution_count": 24,
   "metadata": {},
   "outputs": [],
   "source": [
    "save_structure(bn_socio, 'socio_net')\n",
    "skel = read_structure('socio_net')\n",
    "save_params(params, 'socio_net_param')\n",
    "params = read_params('socio_net_param')\n",
    "socio_bn = HyBayesianNetwork(skel, params)"
   ]
  },
  {
   "cell_type": "code",
   "execution_count": 25,
   "metadata": {},
   "outputs": [],
   "source": [
    "sample_socio = socio.sample(500)"
   ]
  },
  {
   "cell_type": "code",
   "execution_count": 26,
   "metadata": {},
   "outputs": [],
   "source": [
    "accuracy_dict = dict()\n",
    "rmse_dict = dict()\n",
    "pred_param = [[0 for j in range(sample_socio.shape[0])] for i in range(len(columns))]\n",
    "real_param = [[0 for j in range(sample_socio.shape[0])] for i in range(len(columns))]\n",
    "for i in range(sample_socio.shape[0]):\n",
    "    test = dict(sample_socio.iloc[i, :])\n",
    "    for n, key in enumerate(columns):\n",
    "        train_dict = copy(test)\n",
    "        train_dict.pop(key)\n",
    "        if socio_types[key] == 'disc':\n",
    "            agg = SampleAggregator()\n",
    "            sample = agg.aggregate(socio_bn.randomsample(2000, train_dict))\n",
    "            sorted_res = sorted(sample[key].items(), key=operator.itemgetter(1), reverse=True)\n",
    "            pred_param[n][i] = sorted_res[0][0]\n",
    "            real_param[n][i] = test[key]\n",
    "        if socio_types[key] == 'cont':\n",
    "            sample = pd.DataFrame(socio_bn.randomsample(2000, train_dict))\n",
    "            sample = sample.loc[sample[key] >= 0]\n",
    "            if sample.shape[0] == 0:\n",
    "                print(i)\n",
    "            else:\n",
    "                pred = np.mean(sample[key].values)\n",
    "                pred_param[n][i] = pred\n",
    "                real_param[n][i] = test[key]\n",
    "for n, key in enumerate(columns):\n",
    "    if socio_types[key] == 'disc':\n",
    "        accuracy_dict[key] = round(accuracy_score(real_param[n], pred_param[n]), 2)\n",
    "    if socio_types[key] == 'cont':\n",
    "        rmse_dict[key] = round(mean_squared_error(real_param[n], pred_param[n], squared=False), 2)"
   ]
  },
  {
   "cell_type": "code",
   "execution_count": 27,
   "metadata": {},
   "outputs": [
    {
     "output_type": "execute_result",
     "data": {
      "text/plain": [
       "{'sex': 0.63,\n",
       " 'relation': 0.77,\n",
       " 'is_parent': 0.61,\n",
       " 'is_driver': 0.99,\n",
       " 'has_pets': 0.94}"
      ]
     },
     "metadata": {},
     "execution_count": 27
    }
   ],
   "source": [
    "accuracy_dict"
   ]
  },
  {
   "cell_type": "code",
   "execution_count": 28,
   "metadata": {},
   "outputs": [
    {
     "output_type": "execute_result",
     "data": {
      "text/plain": [
       "{'age': 14.49,\n",
       " 'mean_tr': 25157.59,\n",
       " 'median_tr': 30837.2,\n",
       " 'tr_per_month': 27.02}"
      ]
     },
     "metadata": {},
     "execution_count": 28
    }
   ],
   "source": [
    "rmse_dict"
   ]
  },
  {
   "cell_type": "code",
   "execution_count": 166,
   "metadata": {},
   "outputs": [],
   "source": [
    "discrete_types = {'age': 'disc',\n",
    " 'sex': 'disc',\n",
    " 'relation': 'disc',\n",
    " 'mean_tr': 'disc',\n",
    " 'median_tr': 'disc',\n",
    " 'tr_per_month': 'disc',\n",
    " 'is_parent': 'disc',\n",
    " 'is_driver': 'disc',\n",
    " 'has_pets': 'disc'}"
   ]
  },
  {
   "cell_type": "code",
   "execution_count": 167,
   "metadata": {},
   "outputs": [],
   "source": [
    "params = parameter_learning(discrete_socio, discrete_types, bn_socio)"
   ]
  },
  {
   "cell_type": "code",
   "execution_count": 168,
   "metadata": {},
   "outputs": [],
   "source": [
    "save_structure(bn_socio, 'socio_net')\n",
    "skel = read_structure('socio_net')\n",
    "save_params(params, 'socio_net_param')\n",
    "params = read_params('socio_net_param')\n",
    "socio_bn = HyBayesianNetwork(skel, params)"
   ]
  },
  {
   "cell_type": "code",
   "execution_count": 169,
   "metadata": {},
   "outputs": [],
   "source": [
    "sample_socio = discrete_socio.sample(500)"
   ]
  },
  {
   "cell_type": "code",
   "execution_count": 170,
   "metadata": {},
   "outputs": [],
   "source": [
    "accuracy_dict = dict()\n",
    "rmse_dict = dict()\n",
    "pred_param = [[0 for j in range(sample_socio.shape[0])] for i in range(len(columns))]\n",
    "real_param = [[0 for j in range(sample_socio.shape[0])] for i in range(len(columns))]\n",
    "for i in range(sample_socio.shape[0]):\n",
    "    test = dict(sample_socio.iloc[i, :])\n",
    "    #test = dict([(k, str(v)) for k, v in test.items()])\n",
    "    for n, key in enumerate(columns):\n",
    "        train_dict = copy(test)\n",
    "        train_dict.pop(key)\n",
    "        if discrete_types[key] == 'disc':\n",
    "            agg = SampleAggregator()\n",
    "            sample = agg.aggregate(socio_bn.randomsample(2000, train_dict))\n",
    "            sorted_res = sorted(sample[key].items(), key=operator.itemgetter(1), reverse=True)\n",
    "            pred_param[n][i] = sorted_res[0][0]\n",
    "            real_param[n][i] = test[key]"
   ]
  },
  {
   "cell_type": "code",
   "execution_count": 171,
   "metadata": {},
   "outputs": [
    {
     "output_type": "stream",
     "name": "stderr",
     "text": [
      "C:\\Users\\anaxa\\AppData\\Local\\Programs\\Python\\Python38\\lib\\site-packages\\sklearn\\metrics\\_classification.py:208: FutureWarning: elementwise comparison failed; returning scalar instead, but in the future will perform elementwise comparison\n  score = y_true == y_pred\nC:\\Users\\anaxa\\AppData\\Local\\Programs\\Python\\Python38\\lib\\site-packages\\sklearn\\metrics\\_classification.py:208: FutureWarning: elementwise comparison failed; returning scalar instead, but in the future will perform elementwise comparison\n  score = y_true == y_pred\nC:\\Users\\anaxa\\AppData\\Local\\Programs\\Python\\Python38\\lib\\site-packages\\sklearn\\metrics\\_classification.py:208: FutureWarning: elementwise comparison failed; returning scalar instead, but in the future will perform elementwise comparison\n  score = y_true == y_pred\nC:\\Users\\anaxa\\AppData\\Local\\Programs\\Python\\Python38\\lib\\site-packages\\sklearn\\metrics\\_classification.py:208: FutureWarning: elementwise comparison failed; returning scalar instead, but in the future will perform elementwise comparison\n  score = y_true == y_pred\n"
     ]
    }
   ],
   "source": [
    "for n, key in enumerate(columns):\n",
    "    if discrete_types[key] == 'disc':\n",
    "        accuracy_dict[key] = round(accuracy_score(real_param[n], pred_param[n]), 2)"
   ]
  },
  {
   "cell_type": "code",
   "execution_count": 172,
   "metadata": {},
   "outputs": [
    {
     "output_type": "execute_result",
     "data": {
      "text/plain": [
       "{'age': 0.0,\n",
       " 'sex': 0.58,\n",
       " 'relation': 0.81,\n",
       " 'mean_tr': 0.0,\n",
       " 'median_tr': 0.0,\n",
       " 'tr_per_month': 0.0,\n",
       " 'is_parent': 0.61,\n",
       " 'is_driver': 1.0,\n",
       " 'has_pets': 0.93}"
      ]
     },
     "metadata": {},
     "execution_count": 172
    }
   ],
   "source": [
    "accuracy_dict"
   ]
  },
  {
   "cell_type": "code",
   "execution_count": 178,
   "metadata": {},
   "outputs": [],
   "source": [
    "real_cont = []\n",
    "for i in [0, 3, 4, 5]:\n",
    "   real_cont.append(real_param[i])\n"
   ]
  },
  {
   "cell_type": "code",
   "execution_count": 179,
   "metadata": {},
   "outputs": [],
   "source": [
    "pred_cont = []\n",
    "for i in [0, 3, 4, 5]:\n",
    "   pred_cont.append(pred_param[i])"
   ]
  },
  {
   "cell_type": "code",
   "execution_count": 181,
   "metadata": {},
   "outputs": [],
   "source": [
    "for i in range(0,4,1):\n",
    "    real_cont[i] = [int(x) for x in real_cont[i]]\n",
    "    pred_cont[i] = [int(x) for x in pred_cont[i]]"
   ]
  },
  {
   "cell_type": "code",
   "execution_count": 182,
   "metadata": {},
   "outputs": [],
   "source": [
    "invers_real = inverse_discretization(pd.DataFrame(np.transpose(real_cont), columns=['age', 'mean_tr', 'median_tr', 'tr_per_month']), ['age', 'mean_tr', 'median_tr', 'tr_per_month'], coder_socio)"
   ]
  },
  {
   "cell_type": "code",
   "execution_count": 183,
   "metadata": {},
   "outputs": [],
   "source": [
    "invers_pred = inverse_discretization(pd.DataFrame(np.transpose(pred_cont), columns=['age', 'mean_tr', 'median_tr', 'tr_per_month']), ['age', 'mean_tr', 'median_tr', 'tr_per_month'], coder_socio)"
   ]
  },
  {
   "cell_type": "code",
   "execution_count": 187,
   "metadata": {},
   "outputs": [
    {
     "output_type": "execute_result",
     "data": {
      "text/plain": [
       "116.92"
      ]
     },
     "metadata": {},
     "execution_count": 187
    }
   ],
   "source": [
    "round(mean_squared_error(invers_real['tr_per_month'], invers_pred['tr_per_month'], squared=False), 2)"
   ]
  },
  {
   "cell_type": "code",
   "execution_count": 4,
   "metadata": {},
   "outputs": [
    {
     "output_type": "execute_result",
     "data": {
      "text/plain": [
       "   Unnamed: 0           Region                           Zone  \\\n",
       "0           1       North West            Teesside Urban Area   \n",
       "1           2  East of England  Greater Manchester Urban Area   \n",
       "2           3    West Midlands                  West Midlands   \n",
       "3           4    West Midlands          Nottingham Urban Area   \n",
       "4           5       North West                        Eastern   \n",
       "5           6       North West      Greater London Urban Area   \n",
       "6           7       South West                     North East   \n",
       "7           8  East of England      Greater London Urban Area   \n",
       "8           9       North West           Sheffield Urban Area   \n",
       "9          10       South East      Greater London Urban Area   \n",
       "\n",
       "               Type  Year  Season  Month  Day  Hour   Latitude  ...        tp  \\\n",
       "0  Background Urban  1982    Fall     12    9    10  53.004256  ... -0.000384   \n",
       "1  Background Rural  1982  Spring      3   14    21  52.082833  ...  1.647048   \n",
       "2  Industrial Urban  1986  Spring      8    1     3  53.130817  ... -0.001874   \n",
       "3     Traffic Urban  1991  Summer     12   26     3  52.740293  ... -0.000337   \n",
       "4     Traffic Urban  1987  Summer      8   26    13  52.396919  ... -0.001544   \n",
       "5  Background Rural  1982    Fall      1   26    22  54.570390  ... -0.002476   \n",
       "6  Background Urban  1998    Fall      7   24    22  51.859442  ...  0.001015   \n",
       "7  Background Urban  1998    Fall      2   18    14  54.309984  ...  0.000215   \n",
       "8  Background Urban  1983  Winter      2    2     6  50.868020  ...  0.000861   \n",
       "9     Traffic Urban  1993  Spring      9   22     3  51.514340  ...  0.001284   \n",
       "\n",
       "           blh           ssr     CVD60            no2         o3  \\\n",
       "0  -132.536379  1.764807e+05  0.253973      70.912242  13.886300   \n",
       "1   519.511962 -2.275298e+09  0.216665 -115661.469371  12.107172   \n",
       "2   186.536382  2.484053e+06  0.171526      86.566005  18.724361   \n",
       "3    38.110095  5.774116e+05  0.170889      64.279609  36.298044   \n",
       "4  2074.214906  7.529922e+06  0.153783      76.473575  17.750398   \n",
       "5   298.704916  2.966685e+06  0.170852      89.302253   7.475465   \n",
       "6   769.856079  4.475986e+06  0.180193      76.366922  17.742264   \n",
       "7   746.858893  1.287970e+06  0.147226      40.280879  23.210923   \n",
       "8   892.709619  1.595122e+05  0.325878      76.295781  17.747082   \n",
       "9   284.716769  9.373972e+05  0.223841      78.342083  17.744318   \n",
       "\n",
       "            so2        co       pm10      pm2.5  \n",
       "0     14.571613  1.281367  33.582153  18.641989  \n",
       "1  31073.785918  0.134127  33.854881  18.635103  \n",
       "2     18.512337  1.583104  35.983265  18.627684  \n",
       "3     17.351916  0.857752  41.550538  18.616868  \n",
       "4     13.802166  1.442547  36.476342  18.639682  \n",
       "5     22.427121  1.273507  35.629332  18.637978  \n",
       "6     11.458654  1.439972  36.483945  18.643439  \n",
       "7     -2.146069  0.432652  25.327580  18.648243  \n",
       "8     13.802801  1.441416  36.487557  18.637792  \n",
       "9     23.053538  1.688785  36.570633  18.634786  \n",
       "\n",
       "[10 rows x 25 columns]"
      ],
      "text/html": "<div>\n<style scoped>\n    .dataframe tbody tr th:only-of-type {\n        vertical-align: middle;\n    }\n\n    .dataframe tbody tr th {\n        vertical-align: top;\n    }\n\n    .dataframe thead th {\n        text-align: right;\n    }\n</style>\n<table border=\"1\" class=\"dataframe\">\n  <thead>\n    <tr style=\"text-align: right;\">\n      <th></th>\n      <th>Unnamed: 0</th>\n      <th>Region</th>\n      <th>Zone</th>\n      <th>Type</th>\n      <th>Year</th>\n      <th>Season</th>\n      <th>Month</th>\n      <th>Day</th>\n      <th>Hour</th>\n      <th>Latitude</th>\n      <th>...</th>\n      <th>tp</th>\n      <th>blh</th>\n      <th>ssr</th>\n      <th>CVD60</th>\n      <th>no2</th>\n      <th>o3</th>\n      <th>so2</th>\n      <th>co</th>\n      <th>pm10</th>\n      <th>pm2.5</th>\n    </tr>\n  </thead>\n  <tbody>\n    <tr>\n      <th>0</th>\n      <td>1</td>\n      <td>North West</td>\n      <td>Teesside Urban Area</td>\n      <td>Background Urban</td>\n      <td>1982</td>\n      <td>Fall</td>\n      <td>12</td>\n      <td>9</td>\n      <td>10</td>\n      <td>53.004256</td>\n      <td>...</td>\n      <td>-0.000384</td>\n      <td>-132.536379</td>\n      <td>1.764807e+05</td>\n      <td>0.253973</td>\n      <td>70.912242</td>\n      <td>13.886300</td>\n      <td>14.571613</td>\n      <td>1.281367</td>\n      <td>33.582153</td>\n      <td>18.641989</td>\n    </tr>\n    <tr>\n      <th>1</th>\n      <td>2</td>\n      <td>East of England</td>\n      <td>Greater Manchester Urban Area</td>\n      <td>Background Rural</td>\n      <td>1982</td>\n      <td>Spring</td>\n      <td>3</td>\n      <td>14</td>\n      <td>21</td>\n      <td>52.082833</td>\n      <td>...</td>\n      <td>1.647048</td>\n      <td>519.511962</td>\n      <td>-2.275298e+09</td>\n      <td>0.216665</td>\n      <td>-115661.469371</td>\n      <td>12.107172</td>\n      <td>31073.785918</td>\n      <td>0.134127</td>\n      <td>33.854881</td>\n      <td>18.635103</td>\n    </tr>\n    <tr>\n      <th>2</th>\n      <td>3</td>\n      <td>West Midlands</td>\n      <td>West Midlands</td>\n      <td>Industrial Urban</td>\n      <td>1986</td>\n      <td>Spring</td>\n      <td>8</td>\n      <td>1</td>\n      <td>3</td>\n      <td>53.130817</td>\n      <td>...</td>\n      <td>-0.001874</td>\n      <td>186.536382</td>\n      <td>2.484053e+06</td>\n      <td>0.171526</td>\n      <td>86.566005</td>\n      <td>18.724361</td>\n      <td>18.512337</td>\n      <td>1.583104</td>\n      <td>35.983265</td>\n      <td>18.627684</td>\n    </tr>\n    <tr>\n      <th>3</th>\n      <td>4</td>\n      <td>West Midlands</td>\n      <td>Nottingham Urban Area</td>\n      <td>Traffic Urban</td>\n      <td>1991</td>\n      <td>Summer</td>\n      <td>12</td>\n      <td>26</td>\n      <td>3</td>\n      <td>52.740293</td>\n      <td>...</td>\n      <td>-0.000337</td>\n      <td>38.110095</td>\n      <td>5.774116e+05</td>\n      <td>0.170889</td>\n      <td>64.279609</td>\n      <td>36.298044</td>\n      <td>17.351916</td>\n      <td>0.857752</td>\n      <td>41.550538</td>\n      <td>18.616868</td>\n    </tr>\n    <tr>\n      <th>4</th>\n      <td>5</td>\n      <td>North West</td>\n      <td>Eastern</td>\n      <td>Traffic Urban</td>\n      <td>1987</td>\n      <td>Summer</td>\n      <td>8</td>\n      <td>26</td>\n      <td>13</td>\n      <td>52.396919</td>\n      <td>...</td>\n      <td>-0.001544</td>\n      <td>2074.214906</td>\n      <td>7.529922e+06</td>\n      <td>0.153783</td>\n      <td>76.473575</td>\n      <td>17.750398</td>\n      <td>13.802166</td>\n      <td>1.442547</td>\n      <td>36.476342</td>\n      <td>18.639682</td>\n    </tr>\n    <tr>\n      <th>5</th>\n      <td>6</td>\n      <td>North West</td>\n      <td>Greater London Urban Area</td>\n      <td>Background Rural</td>\n      <td>1982</td>\n      <td>Fall</td>\n      <td>1</td>\n      <td>26</td>\n      <td>22</td>\n      <td>54.570390</td>\n      <td>...</td>\n      <td>-0.002476</td>\n      <td>298.704916</td>\n      <td>2.966685e+06</td>\n      <td>0.170852</td>\n      <td>89.302253</td>\n      <td>7.475465</td>\n      <td>22.427121</td>\n      <td>1.273507</td>\n      <td>35.629332</td>\n      <td>18.637978</td>\n    </tr>\n    <tr>\n      <th>6</th>\n      <td>7</td>\n      <td>South West</td>\n      <td>North East</td>\n      <td>Background Urban</td>\n      <td>1998</td>\n      <td>Fall</td>\n      <td>7</td>\n      <td>24</td>\n      <td>22</td>\n      <td>51.859442</td>\n      <td>...</td>\n      <td>0.001015</td>\n      <td>769.856079</td>\n      <td>4.475986e+06</td>\n      <td>0.180193</td>\n      <td>76.366922</td>\n      <td>17.742264</td>\n      <td>11.458654</td>\n      <td>1.439972</td>\n      <td>36.483945</td>\n      <td>18.643439</td>\n    </tr>\n    <tr>\n      <th>7</th>\n      <td>8</td>\n      <td>East of England</td>\n      <td>Greater London Urban Area</td>\n      <td>Background Urban</td>\n      <td>1998</td>\n      <td>Fall</td>\n      <td>2</td>\n      <td>18</td>\n      <td>14</td>\n      <td>54.309984</td>\n      <td>...</td>\n      <td>0.000215</td>\n      <td>746.858893</td>\n      <td>1.287970e+06</td>\n      <td>0.147226</td>\n      <td>40.280879</td>\n      <td>23.210923</td>\n      <td>-2.146069</td>\n      <td>0.432652</td>\n      <td>25.327580</td>\n      <td>18.648243</td>\n    </tr>\n    <tr>\n      <th>8</th>\n      <td>9</td>\n      <td>North West</td>\n      <td>Sheffield Urban Area</td>\n      <td>Background Urban</td>\n      <td>1983</td>\n      <td>Winter</td>\n      <td>2</td>\n      <td>2</td>\n      <td>6</td>\n      <td>50.868020</td>\n      <td>...</td>\n      <td>0.000861</td>\n      <td>892.709619</td>\n      <td>1.595122e+05</td>\n      <td>0.325878</td>\n      <td>76.295781</td>\n      <td>17.747082</td>\n      <td>13.802801</td>\n      <td>1.441416</td>\n      <td>36.487557</td>\n      <td>18.637792</td>\n    </tr>\n    <tr>\n      <th>9</th>\n      <td>10</td>\n      <td>South East</td>\n      <td>Greater London Urban Area</td>\n      <td>Traffic Urban</td>\n      <td>1993</td>\n      <td>Spring</td>\n      <td>9</td>\n      <td>22</td>\n      <td>3</td>\n      <td>51.514340</td>\n      <td>...</td>\n      <td>0.001284</td>\n      <td>284.716769</td>\n      <td>9.373972e+05</td>\n      <td>0.223841</td>\n      <td>78.342083</td>\n      <td>17.744318</td>\n      <td>23.053538</td>\n      <td>1.688785</td>\n      <td>36.570633</td>\n      <td>18.634786</td>\n    </tr>\n  </tbody>\n</table>\n<p>10 rows × 25 columns</p>\n</div>"
     },
     "metadata": {},
     "execution_count": 4
    }
   ],
   "source": [
    "mehra = pd.read_csv('../datasets/mehra.csv')\n",
    "mehra.head(10)"
   ]
  },
  {
   "cell_type": "code",
   "execution_count": 6,
   "metadata": {},
   "outputs": [],
   "source": [
    "mehra = mehra.drop(columns=['Unnamed: 0'])"
   ]
  },
  {
   "cell_type": "code",
   "execution_count": 8,
   "metadata": {},
   "outputs": [
    {
     "output_type": "execute_result",
     "data": {
      "text/plain": [
       "{'Region': 'disc',\n",
       " 'Zone': 'disc',\n",
       " 'Type': 'disc',\n",
       " 'Year': 'disc',\n",
       " 'Season': 'disc',\n",
       " 'Month': 'disc',\n",
       " 'Day': 'disc',\n",
       " 'Hour': 'disc',\n",
       " 'Latitude': 'cont',\n",
       " 'Longitude': 'cont',\n",
       " 'Altitude': 'cont',\n",
       " 't2m': 'cont',\n",
       " 'ws': 'cont',\n",
       " 'wd': 'cont',\n",
       " 'tp': 'cont',\n",
       " 'blh': 'cont',\n",
       " 'ssr': 'cont',\n",
       " 'CVD60': 'cont',\n",
       " 'no2': 'cont',\n",
       " 'o3': 'cont',\n",
       " 'so2': 'cont',\n",
       " 'co': 'cont',\n",
       " 'pm10': 'cont',\n",
       " 'pm2.5': 'cont'}"
      ]
     },
     "metadata": {},
     "execution_count": 8
    }
   ],
   "source": [
    "mehra_types = get_nodes_type(mehra)\n",
    "mehra_types"
   ]
  },
  {
   "cell_type": "code",
   "execution_count": 10,
   "metadata": {},
   "outputs": [],
   "source": [
    "disc_columns = []\n",
    "cont_columns = []\n",
    "for key in mehra_types.keys():\n",
    "    if mehra_types[key] == 'disc':\n",
    "        disc_columns.append(key)\n",
    "    else:\n",
    "        cont_columns.append(key)"
   ]
  },
  {
   "cell_type": "code",
   "execution_count": 13,
   "metadata": {},
   "outputs": [],
   "source": [
    "coded_mehra, coder = code_categories(mehra, 'label', disc_columns)"
   ]
  },
  {
   "cell_type": "code",
   "execution_count": 14,
   "metadata": {},
   "outputs": [],
   "source": [
    "discrete_mehra, est = discretization(coded_mehra, 'equal_frequency', cont_columns)"
   ]
  },
  {
   "cell_type": "code",
   "execution_count": 18,
   "metadata": {},
   "outputs": [
    {
     "output_type": "stream",
     "name": "stderr",
     "text": [
      "  0%|          | 30/1000000 [00:19<182:08:37,  1.53it/s]\n"
     ]
    }
   ],
   "source": [
    "bn_mehra = structure_learning(discrete_mehra, 'HC', 'MI_mixed', mehra_types)"
   ]
  },
  {
   "cell_type": "code",
   "execution_count": 20,
   "metadata": {},
   "outputs": [
    {
     "output_type": "display_data",
     "data": {
      "text/plain": "<Figure size 2025x225 with 1 Axes>",
      "image/svg+xml": "<?xml version=\"1.0\" encoding=\"utf-8\" standalone=\"no\"?>\r\n<!DOCTYPE svg PUBLIC \"-//W3C//DTD SVG 1.1//EN\"\r\n  \"http://www.w3.org/Graphics/SVG/1.1/DTD/svg11.dtd\">\r\n<!-- Created with matplotlib (https://matplotlib.org/) -->\r\n<svg height=\"100.8pt\" version=\"1.1\" viewBox=\"0 0 964.8 100.8\" width=\"964.8pt\" xmlns=\"http://www.w3.org/2000/svg\" xmlns:xlink=\"http://www.w3.org/1999/xlink\">\r\n <metadata>\r\n  <rdf:RDF xmlns:cc=\"http://creativecommons.org/ns#\" xmlns:dc=\"http://purl.org/dc/elements/1.1/\" xmlns:rdf=\"http://www.w3.org/1999/02/22-rdf-syntax-ns#\">\r\n   <cc:Work>\r\n    <dc:type rdf:resource=\"http://purl.org/dc/dcmitype/StillImage\"/>\r\n    <dc:date>2021-04-15T13:45:56.031952</dc:date>\r\n    <dc:format>image/svg+xml</dc:format>\r\n    <dc:creator>\r\n     <cc:Agent>\r\n      <dc:title>Matplotlib v3.3.4, https://matplotlib.org/</dc:title>\r\n     </cc:Agent>\r\n    </dc:creator>\r\n   </cc:Work>\r\n  </rdf:RDF>\r\n </metadata>\r\n <defs>\r\n  <style type=\"text/css\">*{stroke-linecap:butt;stroke-linejoin:round;}</style>\r\n </defs>\r\n <g id=\"figure_1\">\r\n  <g id=\"patch_1\">\r\n   <path d=\"M 0 100.8 \r\nL 964.8 100.8 \r\nL 964.8 0 \r\nL 0 0 \r\nz\r\n\" style=\"fill:none;\"/>\r\n  </g>\r\n  <g id=\"axes_1\">\r\n   <g id=\"legend_1\">\r\n    <g id=\"patch_2\">\r\n     <path d=\"M 421.545312 59.239062 \r\nL 543.254687 59.239062 \r\nQ 545.254687 59.239062 545.254687 57.239062 \r\nL 545.254687 43.560937 \r\nQ 545.254687 41.560937 543.254687 41.560937 \r\nL 421.545312 41.560937 \r\nQ 419.545312 41.560937 419.545312 43.560937 \r\nL 419.545312 57.239062 \r\nQ 419.545312 59.239062 421.545312 59.239062 \r\nz\r\n\" style=\"fill:#ffffff;opacity:0.8;stroke:#cccccc;stroke-linejoin:miter;\"/>\r\n    </g>\r\n    <g id=\"patch_3\">\r\n     <path d=\"M 423.545312 53.159375 \r\nL 443.545312 53.159375 \r\nL 443.545312 46.159375 \r\nL 423.545312 46.159375 \r\nz\r\n\" style=\"fill:#7f7f7f;stroke:#7f7f7f;stroke-linejoin:miter;\"/>\r\n    </g>\r\n    <g id=\"text_1\">\r\n     <!-- disc -->\r\n     <g transform=\"translate(451.545312 53.159375)scale(0.1 -0.1)\">\r\n      <defs>\r\n       <path d=\"M 45.40625 46.390625 \r\nL 45.40625 75.984375 \r\nL 54.390625 75.984375 \r\nL 54.390625 0 \r\nL 45.40625 0 \r\nL 45.40625 8.203125 \r\nQ 42.578125 3.328125 38.25 0.953125 \r\nQ 33.9375 -1.421875 27.875 -1.421875 \r\nQ 17.96875 -1.421875 11.734375 6.484375 \r\nQ 5.515625 14.40625 5.515625 27.296875 \r\nQ 5.515625 40.1875 11.734375 48.09375 \r\nQ 17.96875 56 27.875 56 \r\nQ 33.9375 56 38.25 53.625 \r\nQ 42.578125 51.265625 45.40625 46.390625 \r\nz\r\nM 14.796875 27.296875 \r\nQ 14.796875 17.390625 18.875 11.75 \r\nQ 22.953125 6.109375 30.078125 6.109375 \r\nQ 37.203125 6.109375 41.296875 11.75 \r\nQ 45.40625 17.390625 45.40625 27.296875 \r\nQ 45.40625 37.203125 41.296875 42.84375 \r\nQ 37.203125 48.484375 30.078125 48.484375 \r\nQ 22.953125 48.484375 18.875 42.84375 \r\nQ 14.796875 37.203125 14.796875 27.296875 \r\nz\r\n\" id=\"DejaVuSans-100\"/>\r\n       <path d=\"M 9.421875 54.6875 \r\nL 18.40625 54.6875 \r\nL 18.40625 0 \r\nL 9.421875 0 \r\nz\r\nM 9.421875 75.984375 \r\nL 18.40625 75.984375 \r\nL 18.40625 64.59375 \r\nL 9.421875 64.59375 \r\nz\r\n\" id=\"DejaVuSans-105\"/>\r\n       <path d=\"M 44.28125 53.078125 \r\nL 44.28125 44.578125 \r\nQ 40.484375 46.53125 36.375 47.5 \r\nQ 32.28125 48.484375 27.875 48.484375 \r\nQ 21.1875 48.484375 17.84375 46.4375 \r\nQ 14.5 44.390625 14.5 40.28125 \r\nQ 14.5 37.15625 16.890625 35.375 \r\nQ 19.28125 33.59375 26.515625 31.984375 \r\nL 29.59375 31.296875 \r\nQ 39.15625 29.25 43.1875 25.515625 \r\nQ 47.21875 21.78125 47.21875 15.09375 \r\nQ 47.21875 7.46875 41.1875 3.015625 \r\nQ 35.15625 -1.421875 24.609375 -1.421875 \r\nQ 20.21875 -1.421875 15.453125 -0.5625 \r\nQ 10.6875 0.296875 5.421875 2 \r\nL 5.421875 11.28125 \r\nQ 10.40625 8.6875 15.234375 7.390625 \r\nQ 20.0625 6.109375 24.8125 6.109375 \r\nQ 31.15625 6.109375 34.5625 8.28125 \r\nQ 37.984375 10.453125 37.984375 14.40625 \r\nQ 37.984375 18.0625 35.515625 20.015625 \r\nQ 33.0625 21.96875 24.703125 23.78125 \r\nL 21.578125 24.515625 \r\nQ 13.234375 26.265625 9.515625 29.90625 \r\nQ 5.8125 33.546875 5.8125 39.890625 \r\nQ 5.8125 47.609375 11.28125 51.796875 \r\nQ 16.75 56 26.8125 56 \r\nQ 31.78125 56 36.171875 55.265625 \r\nQ 40.578125 54.546875 44.28125 53.078125 \r\nz\r\n\" id=\"DejaVuSans-115\"/>\r\n       <path d=\"M 48.78125 52.59375 \r\nL 48.78125 44.1875 \r\nQ 44.96875 46.296875 41.140625 47.34375 \r\nQ 37.3125 48.390625 33.40625 48.390625 \r\nQ 24.65625 48.390625 19.8125 42.84375 \r\nQ 14.984375 37.3125 14.984375 27.296875 \r\nQ 14.984375 17.28125 19.8125 11.734375 \r\nQ 24.65625 6.203125 33.40625 6.203125 \r\nQ 37.3125 6.203125 41.140625 7.25 \r\nQ 44.96875 8.296875 48.78125 10.40625 \r\nL 48.78125 2.09375 \r\nQ 45.015625 0.34375 40.984375 -0.53125 \r\nQ 36.96875 -1.421875 32.421875 -1.421875 \r\nQ 20.0625 -1.421875 12.78125 6.34375 \r\nQ 5.515625 14.109375 5.515625 27.296875 \r\nQ 5.515625 40.671875 12.859375 48.328125 \r\nQ 20.21875 56 33.015625 56 \r\nQ 37.15625 56 41.109375 55.140625 \r\nQ 45.0625 54.296875 48.78125 52.59375 \r\nz\r\n\" id=\"DejaVuSans-99\"/>\r\n      </defs>\r\n      <use xlink:href=\"#DejaVuSans-100\"/>\r\n      <use x=\"63.476562\" xlink:href=\"#DejaVuSans-105\"/>\r\n      <use x=\"91.259766\" xlink:href=\"#DejaVuSans-115\"/>\r\n      <use x=\"143.359375\" xlink:href=\"#DejaVuSans-99\"/>\r\n     </g>\r\n    </g>\r\n    <g id=\"patch_4\">\r\n     <path d=\"M 491.379687 53.159375 \r\nL 511.379687 53.159375 \r\nL 511.379687 46.159375 \r\nL 491.379687 46.159375 \r\nz\r\n\" style=\"fill:#3cb371;stroke:#3cb371;stroke-linejoin:miter;\"/>\r\n    </g>\r\n    <g id=\"text_2\">\r\n     <!-- cont -->\r\n     <g transform=\"translate(519.379687 53.159375)scale(0.1 -0.1)\">\r\n      <defs>\r\n       <path d=\"M 30.609375 48.390625 \r\nQ 23.390625 48.390625 19.1875 42.75 \r\nQ 14.984375 37.109375 14.984375 27.296875 \r\nQ 14.984375 17.484375 19.15625 11.84375 \r\nQ 23.34375 6.203125 30.609375 6.203125 \r\nQ 37.796875 6.203125 41.984375 11.859375 \r\nQ 46.1875 17.53125 46.1875 27.296875 \r\nQ 46.1875 37.015625 41.984375 42.703125 \r\nQ 37.796875 48.390625 30.609375 48.390625 \r\nz\r\nM 30.609375 56 \r\nQ 42.328125 56 49.015625 48.375 \r\nQ 55.71875 40.765625 55.71875 27.296875 \r\nQ 55.71875 13.875 49.015625 6.21875 \r\nQ 42.328125 -1.421875 30.609375 -1.421875 \r\nQ 18.84375 -1.421875 12.171875 6.21875 \r\nQ 5.515625 13.875 5.515625 27.296875 \r\nQ 5.515625 40.765625 12.171875 48.375 \r\nQ 18.84375 56 30.609375 56 \r\nz\r\n\" id=\"DejaVuSans-111\"/>\r\n       <path d=\"M 54.890625 33.015625 \r\nL 54.890625 0 \r\nL 45.90625 0 \r\nL 45.90625 32.71875 \r\nQ 45.90625 40.484375 42.875 44.328125 \r\nQ 39.84375 48.1875 33.796875 48.1875 \r\nQ 26.515625 48.1875 22.3125 43.546875 \r\nQ 18.109375 38.921875 18.109375 30.90625 \r\nL 18.109375 0 \r\nL 9.078125 0 \r\nL 9.078125 54.6875 \r\nL 18.109375 54.6875 \r\nL 18.109375 46.1875 \r\nQ 21.34375 51.125 25.703125 53.5625 \r\nQ 30.078125 56 35.796875 56 \r\nQ 45.21875 56 50.046875 50.171875 \r\nQ 54.890625 44.34375 54.890625 33.015625 \r\nz\r\n\" id=\"DejaVuSans-110\"/>\r\n       <path d=\"M 18.3125 70.21875 \r\nL 18.3125 54.6875 \r\nL 36.8125 54.6875 \r\nL 36.8125 47.703125 \r\nL 18.3125 47.703125 \r\nL 18.3125 18.015625 \r\nQ 18.3125 11.328125 20.140625 9.421875 \r\nQ 21.96875 7.515625 27.59375 7.515625 \r\nL 36.8125 7.515625 \r\nL 36.8125 0 \r\nL 27.59375 0 \r\nQ 17.1875 0 13.234375 3.875 \r\nQ 9.28125 7.765625 9.28125 18.015625 \r\nL 9.28125 47.703125 \r\nL 2.6875 47.703125 \r\nL 2.6875 54.6875 \r\nL 9.28125 54.6875 \r\nL 9.28125 70.21875 \r\nz\r\n\" id=\"DejaVuSans-116\"/>\r\n      </defs>\r\n      <use xlink:href=\"#DejaVuSans-99\"/>\r\n      <use x=\"54.980469\" xlink:href=\"#DejaVuSans-111\"/>\r\n      <use x=\"116.162109\" xlink:href=\"#DejaVuSans-110\"/>\r\n      <use x=\"179.541016\" xlink:href=\"#DejaVuSans-116\"/>\r\n     </g>\r\n    </g>\r\n   </g>\r\n  </g>\r\n </g>\r\n</svg>\r\n",
      "image/png": "[encoded data removed]"
     },
     "metadata": {
      "needs_background": "light"
     }
    },
    {
     "output_type": "execute_result",
     "data": {
      "text/plain": [
       "<IPython.lib.display.IFrame at 0x2992c125b20>"
      ],
      "text/html": "\n        <iframe\n            width=\"100%\"\n            height=\"800px\"\n            src=\"../visualization_result/mehra_net.html\"\n            frameborder=\"0\"\n            allowfullscreen\n        ></iframe>\n        "
     },
     "metadata": {},
     "execution_count": 20
    }
   ],
   "source": [
    "draw_BN(bn_mehra, mehra_types, 'mehra_net')"
   ]
  },
  {
   "cell_type": "code",
   "execution_count": 17,
   "metadata": {},
   "outputs": [],
   "source": [
    "params = parameter_learning(mehra, mehra_types, bn_mehra)"
   ]
  },
  {
   "cell_type": "code",
   "execution_count": null,
   "metadata": {},
   "outputs": [],
   "source": []
  }
 ]
}