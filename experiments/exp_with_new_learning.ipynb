{
 "metadata": {
  "language_info": {
   "codemirror_mode": {
    "name": "ipython",
    "version": 3
   },
   "file_extension": ".py",
   "mimetype": "text/x-python",
   "name": "python",
   "nbconvert_exporter": "python",
   "pygments_lexer": "ipython3",
   "version": "3.8.8"
  },
  "orig_nbformat": 2,
  "kernelspec": {
   "name": "python388jvsc74a57bd00110e3ad3d2995649b9eed0505b86961f21d80e4cfa55b9dc2096312fa84aa23",
   "display_name": "Python 3.8.8 64-bit"
  },
  "metadata": {
   "interpreter": {
    "hash": "0110e3ad3d2995649b9eed0505b86961f21d80e4cfa55b9dc2096312fa84aa23"
   }
  }
 },
 "nbformat": 4,
 "nbformat_minor": 2,
 "cells": [
  {
   "cell_type": "code",
   "execution_count": 1,
   "metadata": {},
   "outputs": [],
   "source": [
    "import os,sys,inspect\n",
    "currentdir = os.path.dirname(os.path.abspath(inspect.getfile(inspect.currentframe())))\n",
    "parentdir = os.path.dirname(currentdir)\n",
    "sys.path.insert(0,parentdir) "
   ]
  },
  {
   "cell_type": "code",
   "execution_count": 2,
   "metadata": {},
   "outputs": [],
   "source": [
    "import pandas as pd\n",
    "from bayesian.train_bn import structure_learning, parameter_learning\n",
    "from preprocess.discretization import get_nodes_type, discretization, inverse_discretization, code_categories\n",
    "from bayesian.save_bn import save_structure, save_params, read_structure, read_params\n",
    "from external.libpgm.hybayesiannetwork import HyBayesianNetwork\n",
    "from visualization.visualization import draw_BN\n",
    "from bayesian.calculate_accuracy import calculate_acc\n",
    "import seaborn as sns\n",
    "import matplotlib.pyplot as plt\n",
    "from scipy import stats"
   ]
  },
  {
   "cell_type": "code",
   "execution_count": 3,
   "metadata": {},
   "outputs": [
    {
     "output_type": "execute_result",
     "data": {
      "text/plain": [
       "         Field name          Reservoir unit       Country  \\\n",
       "0            ABQAIQ                  ARAB D  SAUDI ARABIA   \n",
       "1      ABU GHARADIG                BAHARIYA         EGYPT   \n",
       "2  ABU MADI-EL QARA     ABU MADI (LEVEL II)         EGYPT   \n",
       "3  ABU MADI-EL QARA    ABU MADI (LEVEL III)         EGYPT   \n",
       "4       AL HUWAISAH                 SHUAIBA          OMAN   \n",
       "5     ALABAMA FERRY  UPPER GLEN ROSE D ZONE           USA   \n",
       "6              ALBA                    ALBA            UK   \n",
       "7     ALBION-SCIPIO     TRENTON-BLACK RIVER           USA   \n",
       "8        ALIBEKMOLA                    KT I    KAZAKHSTAN   \n",
       "9        ALIBEKMOLA                   KT II    KAZAKHSTAN   \n",
       "\n",
       "                Region                       Basin name Tectonic regime  \\\n",
       "0          MIDDLE EAST                         THE GULF     COMPRESSION   \n",
       "1               AFRICA                     ABU GHARADIG       EXTENSION   \n",
       "2               AFRICA                       NILE DELTA     STRIKE-SLIP   \n",
       "3               AFRICA                       NILE DELTA     STRIKE-SLIP   \n",
       "4          MIDDLE EAST                       FAHUD SALT     COMPRESSION   \n",
       "5        NORTH AMERICA  GULF OF MEXICO NORTHERN ONSHORE         GRAVITY   \n",
       "6               EUROPE                NORTH SEA CENTRAL             NaN   \n",
       "7        NORTH AMERICA                         MICHIGAN             NaN   \n",
       "8  FORMER SOVIET UNION                    CASPIAN NORTH     COMPRESSION   \n",
       "9  FORMER SOVIET UNION                    CASPIAN NORTH     COMPRESSION   \n",
       "\n",
       "   Latitude  Longitude  Operator company Onshore/offshore Hydrocarbon type  \\\n",
       "0   26.0800    49.8100      SAUDI ARAMCO          ONSHORE              OIL   \n",
       "1   29.7422    28.4925             GUPCO          ONSHORE   GAS-CONDENSATE   \n",
       "2   31.4382    31.3616              IEOC          ONSHORE              GAS   \n",
       "3   31.4382    31.3616              IEOC          ONSHORE              GAS   \n",
       "4   21.9607    56.0452               PDO          ONSHORE              OIL   \n",
       "5   31.2143   -95.7981          NUMEROUS          ONSHORE              OIL   \n",
       "6   58.0692     1.0784           CHEVRON         OFFSHORE              OIL   \n",
       "7   41.9937   -84.6016          NUMEROUS          ONSHORE              OIL   \n",
       "8   48.4740    57.6667  KAZAKHOIL AKTOBE          ONSHORE              OIL   \n",
       "9   48.4740    57.6667  KAZAKHOIL AKTOBE          ONSHORE              OIL   \n",
       "\n",
       "       Reservoir status Structural setting   Depth         Period  \\\n",
       "0          REJUVENATING           FORELAND  1815.0       JURASSIC   \n",
       "1     MATURE PRODUCTION               RIFT  3084.6     CRETACEOUS   \n",
       "2  DECLINING PRODUCTION             WRENCH  2952.9        NEOGENE   \n",
       "3  DECLINING PRODUCTION             WRENCH  3149.7        NEOGENE   \n",
       "4          REJUVENATING               SALT  1486.5     CRETACEOUS   \n",
       "5     MATURE PRODUCTION     PASSIVE MARGIN  2610.0     CRETACEOUS   \n",
       "6  DECLINING PRODUCTION               RIFT  1692.6      PALEOGENE   \n",
       "7       NEARLY DEPLETED      INTRACRATONIC  1140.0     ORDOVICIAN   \n",
       "8            DEVELOPING           SUB-SALT  1800.0  CARBONIFEROUS   \n",
       "9            DEVELOPING           SUB-SALT  2874.0  CARBONIFEROUS   \n",
       "\n",
       "                 Lithology  Gross  Netpay  Porosity  Permeability  \n",
       "0                LIMESTONE   75.0    55.2      21.0         410.0  \n",
       "1                SANDSTONE  223.5    43.2      10.0           8.0  \n",
       "2  THINLY-BEDDED SANDSTONE   34.5    19.8      22.0         200.0  \n",
       "3                SANDSTONE  152.7   123.0      20.0         300.0  \n",
       "4                LIMESTONE   75.0    30.0      21.0          60.0  \n",
       "5                LIMESTONE   28.5     4.5      12.0          20.0  \n",
       "6  THINLY-BEDDED SANDSTONE   90.0    81.0       NaN        3500.0  \n",
       "7                 DOLOMITE  180.0   120.0       NaN          10.0  \n",
       "8                LIMESTONE   90.0    31.5      10.0          20.0  \n",
       "9                LIMESTONE  182.1    32.4      10.0          20.0  "
      ],
      "text/html": "<div>\n<style scoped>\n    .dataframe tbody tr th:only-of-type {\n        vertical-align: middle;\n    }\n\n    .dataframe tbody tr th {\n        vertical-align: top;\n    }\n\n    .dataframe thead th {\n        text-align: right;\n    }\n</style>\n<table border=\"1\" class=\"dataframe\">\n  <thead>\n    <tr style=\"text-align: right;\">\n      <th></th>\n      <th>Field name</th>\n      <th>Reservoir unit</th>\n      <th>Country</th>\n      <th>Region</th>\n      <th>Basin name</th>\n      <th>Tectonic regime</th>\n      <th>Latitude</th>\n      <th>Longitude</th>\n      <th>Operator company</th>\n      <th>Onshore/offshore</th>\n      <th>Hydrocarbon type</th>\n      <th>Reservoir status</th>\n      <th>Structural setting</th>\n      <th>Depth</th>\n      <th>Period</th>\n      <th>Lithology</th>\n      <th>Gross</th>\n      <th>Netpay</th>\n      <th>Porosity</th>\n      <th>Permeability</th>\n    </tr>\n  </thead>\n  <tbody>\n    <tr>\n      <th>0</th>\n      <td>ABQAIQ</td>\n      <td>ARAB D</td>\n      <td>SAUDI ARABIA</td>\n      <td>MIDDLE EAST</td>\n      <td>THE GULF</td>\n      <td>COMPRESSION</td>\n      <td>26.0800</td>\n      <td>49.8100</td>\n      <td>SAUDI ARAMCO</td>\n      <td>ONSHORE</td>\n      <td>OIL</td>\n      <td>REJUVENATING</td>\n      <td>FORELAND</td>\n      <td>1815.0</td>\n      <td>JURASSIC</td>\n      <td>LIMESTONE</td>\n      <td>75.0</td>\n      <td>55.2</td>\n      <td>21.0</td>\n      <td>410.0</td>\n    </tr>\n    <tr>\n      <th>1</th>\n      <td>ABU GHARADIG</td>\n      <td>BAHARIYA</td>\n      <td>EGYPT</td>\n      <td>AFRICA</td>\n      <td>ABU GHARADIG</td>\n      <td>EXTENSION</td>\n      <td>29.7422</td>\n      <td>28.4925</td>\n      <td>GUPCO</td>\n      <td>ONSHORE</td>\n      <td>GAS-CONDENSATE</td>\n      <td>MATURE PRODUCTION</td>\n      <td>RIFT</td>\n      <td>3084.6</td>\n      <td>CRETACEOUS</td>\n      <td>SANDSTONE</td>\n      <td>223.5</td>\n      <td>43.2</td>\n      <td>10.0</td>\n      <td>8.0</td>\n    </tr>\n    <tr>\n      <th>2</th>\n      <td>ABU MADI-EL QARA</td>\n      <td>ABU MADI (LEVEL II)</td>\n      <td>EGYPT</td>\n      <td>AFRICA</td>\n      <td>NILE DELTA</td>\n      <td>STRIKE-SLIP</td>\n      <td>31.4382</td>\n      <td>31.3616</td>\n      <td>IEOC</td>\n      <td>ONSHORE</td>\n      <td>GAS</td>\n      <td>DECLINING PRODUCTION</td>\n      <td>WRENCH</td>\n      <td>2952.9</td>\n      <td>NEOGENE</td>\n      <td>THINLY-BEDDED SANDSTONE</td>\n      <td>34.5</td>\n      <td>19.8</td>\n      <td>22.0</td>\n      <td>200.0</td>\n    </tr>\n    <tr>\n      <th>3</th>\n      <td>ABU MADI-EL QARA</td>\n      <td>ABU MADI (LEVEL III)</td>\n      <td>EGYPT</td>\n      <td>AFRICA</td>\n      <td>NILE DELTA</td>\n      <td>STRIKE-SLIP</td>\n      <td>31.4382</td>\n      <td>31.3616</td>\n      <td>IEOC</td>\n      <td>ONSHORE</td>\n      <td>GAS</td>\n      <td>DECLINING PRODUCTION</td>\n      <td>WRENCH</td>\n      <td>3149.7</td>\n      <td>NEOGENE</td>\n      <td>SANDSTONE</td>\n      <td>152.7</td>\n      <td>123.0</td>\n      <td>20.0</td>\n      <td>300.0</td>\n    </tr>\n    <tr>\n      <th>4</th>\n      <td>AL HUWAISAH</td>\n      <td>SHUAIBA</td>\n      <td>OMAN</td>\n      <td>MIDDLE EAST</td>\n      <td>FAHUD SALT</td>\n      <td>COMPRESSION</td>\n      <td>21.9607</td>\n      <td>56.0452</td>\n      <td>PDO</td>\n      <td>ONSHORE</td>\n      <td>OIL</td>\n      <td>REJUVENATING</td>\n      <td>SALT</td>\n      <td>1486.5</td>\n      <td>CRETACEOUS</td>\n      <td>LIMESTONE</td>\n      <td>75.0</td>\n      <td>30.0</td>\n      <td>21.0</td>\n      <td>60.0</td>\n    </tr>\n    <tr>\n      <th>5</th>\n      <td>ALABAMA FERRY</td>\n      <td>UPPER GLEN ROSE D ZONE</td>\n      <td>USA</td>\n      <td>NORTH AMERICA</td>\n      <td>GULF OF MEXICO NORTHERN ONSHORE</td>\n      <td>GRAVITY</td>\n      <td>31.2143</td>\n      <td>-95.7981</td>\n      <td>NUMEROUS</td>\n      <td>ONSHORE</td>\n      <td>OIL</td>\n      <td>MATURE PRODUCTION</td>\n      <td>PASSIVE MARGIN</td>\n      <td>2610.0</td>\n      <td>CRETACEOUS</td>\n      <td>LIMESTONE</td>\n      <td>28.5</td>\n      <td>4.5</td>\n      <td>12.0</td>\n      <td>20.0</td>\n    </tr>\n    <tr>\n      <th>6</th>\n      <td>ALBA</td>\n      <td>ALBA</td>\n      <td>UK</td>\n      <td>EUROPE</td>\n      <td>NORTH SEA CENTRAL</td>\n      <td>NaN</td>\n      <td>58.0692</td>\n      <td>1.0784</td>\n      <td>CHEVRON</td>\n      <td>OFFSHORE</td>\n      <td>OIL</td>\n      <td>DECLINING PRODUCTION</td>\n      <td>RIFT</td>\n      <td>1692.6</td>\n      <td>PALEOGENE</td>\n      <td>THINLY-BEDDED SANDSTONE</td>\n      <td>90.0</td>\n      <td>81.0</td>\n      <td>NaN</td>\n      <td>3500.0</td>\n    </tr>\n    <tr>\n      <th>7</th>\n      <td>ALBION-SCIPIO</td>\n      <td>TRENTON-BLACK RIVER</td>\n      <td>USA</td>\n      <td>NORTH AMERICA</td>\n      <td>MICHIGAN</td>\n      <td>NaN</td>\n      <td>41.9937</td>\n      <td>-84.6016</td>\n      <td>NUMEROUS</td>\n      <td>ONSHORE</td>\n      <td>OIL</td>\n      <td>NEARLY DEPLETED</td>\n      <td>INTRACRATONIC</td>\n      <td>1140.0</td>\n      <td>ORDOVICIAN</td>\n      <td>DOLOMITE</td>\n      <td>180.0</td>\n      <td>120.0</td>\n      <td>NaN</td>\n      <td>10.0</td>\n    </tr>\n    <tr>\n      <th>8</th>\n      <td>ALIBEKMOLA</td>\n      <td>KT I</td>\n      <td>KAZAKHSTAN</td>\n      <td>FORMER SOVIET UNION</td>\n      <td>CASPIAN NORTH</td>\n      <td>COMPRESSION</td>\n      <td>48.4740</td>\n      <td>57.6667</td>\n      <td>KAZAKHOIL AKTOBE</td>\n      <td>ONSHORE</td>\n      <td>OIL</td>\n      <td>DEVELOPING</td>\n      <td>SUB-SALT</td>\n      <td>1800.0</td>\n      <td>CARBONIFEROUS</td>\n      <td>LIMESTONE</td>\n      <td>90.0</td>\n      <td>31.5</td>\n      <td>10.0</td>\n      <td>20.0</td>\n    </tr>\n    <tr>\n      <th>9</th>\n      <td>ALIBEKMOLA</td>\n      <td>KT II</td>\n      <td>KAZAKHSTAN</td>\n      <td>FORMER SOVIET UNION</td>\n      <td>CASPIAN NORTH</td>\n      <td>COMPRESSION</td>\n      <td>48.4740</td>\n      <td>57.6667</td>\n      <td>KAZAKHOIL AKTOBE</td>\n      <td>ONSHORE</td>\n      <td>OIL</td>\n      <td>DEVELOPING</td>\n      <td>SUB-SALT</td>\n      <td>2874.0</td>\n      <td>CARBONIFEROUS</td>\n      <td>LIMESTONE</td>\n      <td>182.1</td>\n      <td>32.4</td>\n      <td>10.0</td>\n      <td>20.0</td>\n    </tr>\n  </tbody>\n</table>\n</div>"
     },
     "metadata": {},
     "execution_count": 3
    }
   ],
   "source": [
    "geo = pd.read_csv('../datasets/hackathon_processed.csv')\n",
    "geo.head(10)"
   ]
  },
  {
   "cell_type": "code",
   "execution_count": 4,
   "metadata": {},
   "outputs": [],
   "source": [
    "columns = ['Tectonic regime', 'Period', 'Lithology', 'Hydrocarbon type', 'Structural setting', 'Gross','Netpay','Porosity','Permeability', 'Depth']\n",
    "geo = geo[columns]\n",
    "geo.dropna(inplace=True)\n",
    "geo.reset_index(inplace=True, drop=True)"
   ]
  },
  {
   "cell_type": "code",
   "execution_count": 5,
   "metadata": {},
   "outputs": [],
   "source": [
    "geo_discrete, label_coder = code_categories(geo, 'label', ['Tectonic regime', 'Period', 'Lithology', 'Hydrocarbon type', 'Structural setting'])"
   ]
  },
  {
   "cell_type": "code",
   "execution_count": 6,
   "metadata": {},
   "outputs": [
    {
     "output_type": "execute_result",
     "data": {
      "text/plain": [
       "{'Tectonic regime': 'disc',\n",
       " 'Period': 'disc',\n",
       " 'Lithology': 'disc',\n",
       " 'Hydrocarbon type': 'disc',\n",
       " 'Structural setting': 'disc',\n",
       " 'Gross': 'cont',\n",
       " 'Netpay': 'cont',\n",
       " 'Porosity': 'cont',\n",
       " 'Permeability': 'cont',\n",
       " 'Depth': 'cont'}"
      ]
     },
     "metadata": {},
     "execution_count": 6
    }
   ],
   "source": [
    "geo_nodes = get_nodes_type(geo)\n",
    "geo_nodes"
   ]
  },
  {
   "cell_type": "code",
   "execution_count": 7,
   "metadata": {},
   "outputs": [
    {
     "output_type": "stream",
     "name": "stderr",
     "text": [
      "  0%|          | 7/1000000 [00:14<588:18:14,  2.12s/it]\n"
     ]
    }
   ],
   "source": [
    "bn_geo = structure_learning(geo_discrete, 'HC', 'MI_mixed', geo_nodes)"
   ]
  },
  {
   "cell_type": "code",
   "execution_count": 8,
   "metadata": {},
   "outputs": [
    {
     "output_type": "display_data",
     "data": {
      "text/plain": "<Figure size 2025x225 with 1 Axes>",
      "image/svg+xml": "<?xml version=\"1.0\" encoding=\"utf-8\" standalone=\"no\"?>\r\n<!DOCTYPE svg PUBLIC \"-//W3C//DTD SVG 1.1//EN\"\r\n  \"http://www.w3.org/Graphics/SVG/1.1/DTD/svg11.dtd\">\r\n<!-- Created with matplotlib (https://matplotlib.org/) -->\r\n<svg height=\"100.8pt\" version=\"1.1\" viewBox=\"0 0 964.8 100.8\" width=\"964.8pt\" xmlns=\"http://www.w3.org/2000/svg\" xmlns:xlink=\"http://www.w3.org/1999/xlink\">\r\n <metadata>\r\n  <rdf:RDF xmlns:cc=\"http://creativecommons.org/ns#\" xmlns:dc=\"http://purl.org/dc/elements/1.1/\" xmlns:rdf=\"http://www.w3.org/1999/02/22-rdf-syntax-ns#\">\r\n   <cc:Work>\r\n    <dc:type rdf:resource=\"http://purl.org/dc/dcmitype/StillImage\"/>\r\n    <dc:date>2021-04-12T15:22:21.866862</dc:date>\r\n    <dc:format>image/svg+xml</dc:format>\r\n    <dc:creator>\r\n     <cc:Agent>\r\n      <dc:title>Matplotlib v3.3.4, https://matplotlib.org/</dc:title>\r\n     </cc:Agent>\r\n    </dc:creator>\r\n   </cc:Work>\r\n  </rdf:RDF>\r\n </metadata>\r\n <defs>\r\n  <style type=\"text/css\">*{stroke-linecap:butt;stroke-linejoin:round;}</style>\r\n </defs>\r\n <g id=\"figure_1\">\r\n  <g id=\"patch_1\">\r\n   <path d=\"M 0 100.8 \r\nL 964.8 100.8 \r\nL 964.8 0 \r\nL 0 0 \r\nz\r\n\" style=\"fill:none;\"/>\r\n  </g>\r\n  <g id=\"axes_1\">\r\n   <g id=\"legend_1\">\r\n    <g id=\"patch_2\">\r\n     <path d=\"M 421.545312 59.239062 \r\nL 543.254687 59.239062 \r\nQ 545.254687 59.239062 545.254687 57.239062 \r\nL 545.254687 43.560937 \r\nQ 545.254687 41.560937 543.254687 41.560937 \r\nL 421.545312 41.560937 \r\nQ 419.545312 41.560937 419.545312 43.560937 \r\nL 419.545312 57.239062 \r\nQ 419.545312 59.239062 421.545312 59.239062 \r\nz\r\n\" style=\"fill:#ffffff;opacity:0.8;stroke:#cccccc;stroke-linejoin:miter;\"/>\r\n    </g>\r\n    <g id=\"patch_3\">\r\n     <path d=\"M 423.545312 53.159375 \r\nL 443.545312 53.159375 \r\nL 443.545312 46.159375 \r\nL 423.545312 46.159375 \r\nz\r\n\" style=\"fill:#9467bd;stroke:#9467bd;stroke-linejoin:miter;\"/>\r\n    </g>\r\n    <g id=\"text_1\">\r\n     <!-- disc -->\r\n     <g transform=\"translate(451.545312 53.159375)scale(0.1 -0.1)\">\r\n      <defs>\r\n       <path d=\"M 45.40625 46.390625 \r\nL 45.40625 75.984375 \r\nL 54.390625 75.984375 \r\nL 54.390625 0 \r\nL 45.40625 0 \r\nL 45.40625 8.203125 \r\nQ 42.578125 3.328125 38.25 0.953125 \r\nQ 33.9375 -1.421875 27.875 -1.421875 \r\nQ 17.96875 -1.421875 11.734375 6.484375 \r\nQ 5.515625 14.40625 5.515625 27.296875 \r\nQ 5.515625 40.1875 11.734375 48.09375 \r\nQ 17.96875 56 27.875 56 \r\nQ 33.9375 56 38.25 53.625 \r\nQ 42.578125 51.265625 45.40625 46.390625 \r\nz\r\nM 14.796875 27.296875 \r\nQ 14.796875 17.390625 18.875 11.75 \r\nQ 22.953125 6.109375 30.078125 6.109375 \r\nQ 37.203125 6.109375 41.296875 11.75 \r\nQ 45.40625 17.390625 45.40625 27.296875 \r\nQ 45.40625 37.203125 41.296875 42.84375 \r\nQ 37.203125 48.484375 30.078125 48.484375 \r\nQ 22.953125 48.484375 18.875 42.84375 \r\nQ 14.796875 37.203125 14.796875 27.296875 \r\nz\r\n\" id=\"DejaVuSans-100\"/>\r\n       <path d=\"M 9.421875 54.6875 \r\nL 18.40625 54.6875 \r\nL 18.40625 0 \r\nL 9.421875 0 \r\nz\r\nM 9.421875 75.984375 \r\nL 18.40625 75.984375 \r\nL 18.40625 64.59375 \r\nL 9.421875 64.59375 \r\nz\r\n\" id=\"DejaVuSans-105\"/>\r\n       <path d=\"M 44.28125 53.078125 \r\nL 44.28125 44.578125 \r\nQ 40.484375 46.53125 36.375 47.5 \r\nQ 32.28125 48.484375 27.875 48.484375 \r\nQ 21.1875 48.484375 17.84375 46.4375 \r\nQ 14.5 44.390625 14.5 40.28125 \r\nQ 14.5 37.15625 16.890625 35.375 \r\nQ 19.28125 33.59375 26.515625 31.984375 \r\nL 29.59375 31.296875 \r\nQ 39.15625 29.25 43.1875 25.515625 \r\nQ 47.21875 21.78125 47.21875 15.09375 \r\nQ 47.21875 7.46875 41.1875 3.015625 \r\nQ 35.15625 -1.421875 24.609375 -1.421875 \r\nQ 20.21875 -1.421875 15.453125 -0.5625 \r\nQ 10.6875 0.296875 5.421875 2 \r\nL 5.421875 11.28125 \r\nQ 10.40625 8.6875 15.234375 7.390625 \r\nQ 20.0625 6.109375 24.8125 6.109375 \r\nQ 31.15625 6.109375 34.5625 8.28125 \r\nQ 37.984375 10.453125 37.984375 14.40625 \r\nQ 37.984375 18.0625 35.515625 20.015625 \r\nQ 33.0625 21.96875 24.703125 23.78125 \r\nL 21.578125 24.515625 \r\nQ 13.234375 26.265625 9.515625 29.90625 \r\nQ 5.8125 33.546875 5.8125 39.890625 \r\nQ 5.8125 47.609375 11.28125 51.796875 \r\nQ 16.75 56 26.8125 56 \r\nQ 31.78125 56 36.171875 55.265625 \r\nQ 40.578125 54.546875 44.28125 53.078125 \r\nz\r\n\" id=\"DejaVuSans-115\"/>\r\n       <path d=\"M 48.78125 52.59375 \r\nL 48.78125 44.1875 \r\nQ 44.96875 46.296875 41.140625 47.34375 \r\nQ 37.3125 48.390625 33.40625 48.390625 \r\nQ 24.65625 48.390625 19.8125 42.84375 \r\nQ 14.984375 37.3125 14.984375 27.296875 \r\nQ 14.984375 17.28125 19.8125 11.734375 \r\nQ 24.65625 6.203125 33.40625 6.203125 \r\nQ 37.3125 6.203125 41.140625 7.25 \r\nQ 44.96875 8.296875 48.78125 10.40625 \r\nL 48.78125 2.09375 \r\nQ 45.015625 0.34375 40.984375 -0.53125 \r\nQ 36.96875 -1.421875 32.421875 -1.421875 \r\nQ 20.0625 -1.421875 12.78125 6.34375 \r\nQ 5.515625 14.109375 5.515625 27.296875 \r\nQ 5.515625 40.671875 12.859375 48.328125 \r\nQ 20.21875 56 33.015625 56 \r\nQ 37.15625 56 41.109375 55.140625 \r\nQ 45.0625 54.296875 48.78125 52.59375 \r\nz\r\n\" id=\"DejaVuSans-99\"/>\r\n      </defs>\r\n      <use xlink:href=\"#DejaVuSans-100\"/>\r\n      <use x=\"63.476562\" xlink:href=\"#DejaVuSans-105\"/>\r\n      <use x=\"91.259766\" xlink:href=\"#DejaVuSans-115\"/>\r\n      <use x=\"143.359375\" xlink:href=\"#DejaVuSans-99\"/>\r\n     </g>\r\n    </g>\r\n    <g id=\"patch_4\">\r\n     <path d=\"M 491.379687 53.159375 \r\nL 511.379687 53.159375 \r\nL 511.379687 46.159375 \r\nL 491.379687 46.159375 \r\nz\r\n\" style=\"fill:#17becf;stroke:#17becf;stroke-linejoin:miter;\"/>\r\n    </g>\r\n    <g id=\"text_2\">\r\n     <!-- cont -->\r\n     <g transform=\"translate(519.379687 53.159375)scale(0.1 -0.1)\">\r\n      <defs>\r\n       <path d=\"M 30.609375 48.390625 \r\nQ 23.390625 48.390625 19.1875 42.75 \r\nQ 14.984375 37.109375 14.984375 27.296875 \r\nQ 14.984375 17.484375 19.15625 11.84375 \r\nQ 23.34375 6.203125 30.609375 6.203125 \r\nQ 37.796875 6.203125 41.984375 11.859375 \r\nQ 46.1875 17.53125 46.1875 27.296875 \r\nQ 46.1875 37.015625 41.984375 42.703125 \r\nQ 37.796875 48.390625 30.609375 48.390625 \r\nz\r\nM 30.609375 56 \r\nQ 42.328125 56 49.015625 48.375 \r\nQ 55.71875 40.765625 55.71875 27.296875 \r\nQ 55.71875 13.875 49.015625 6.21875 \r\nQ 42.328125 -1.421875 30.609375 -1.421875 \r\nQ 18.84375 -1.421875 12.171875 6.21875 \r\nQ 5.515625 13.875 5.515625 27.296875 \r\nQ 5.515625 40.765625 12.171875 48.375 \r\nQ 18.84375 56 30.609375 56 \r\nz\r\n\" id=\"DejaVuSans-111\"/>\r\n       <path d=\"M 54.890625 33.015625 \r\nL 54.890625 0 \r\nL 45.90625 0 \r\nL 45.90625 32.71875 \r\nQ 45.90625 40.484375 42.875 44.328125 \r\nQ 39.84375 48.1875 33.796875 48.1875 \r\nQ 26.515625 48.1875 22.3125 43.546875 \r\nQ 18.109375 38.921875 18.109375 30.90625 \r\nL 18.109375 0 \r\nL 9.078125 0 \r\nL 9.078125 54.6875 \r\nL 18.109375 54.6875 \r\nL 18.109375 46.1875 \r\nQ 21.34375 51.125 25.703125 53.5625 \r\nQ 30.078125 56 35.796875 56 \r\nQ 45.21875 56 50.046875 50.171875 \r\nQ 54.890625 44.34375 54.890625 33.015625 \r\nz\r\n\" id=\"DejaVuSans-110\"/>\r\n       <path d=\"M 18.3125 70.21875 \r\nL 18.3125 54.6875 \r\nL 36.8125 54.6875 \r\nL 36.8125 47.703125 \r\nL 18.3125 47.703125 \r\nL 18.3125 18.015625 \r\nQ 18.3125 11.328125 20.140625 9.421875 \r\nQ 21.96875 7.515625 27.59375 7.515625 \r\nL 36.8125 7.515625 \r\nL 36.8125 0 \r\nL 27.59375 0 \r\nQ 17.1875 0 13.234375 3.875 \r\nQ 9.28125 7.765625 9.28125 18.015625 \r\nL 9.28125 47.703125 \r\nL 2.6875 47.703125 \r\nL 2.6875 54.6875 \r\nL 9.28125 54.6875 \r\nL 9.28125 70.21875 \r\nz\r\n\" id=\"DejaVuSans-116\"/>\r\n      </defs>\r\n      <use xlink:href=\"#DejaVuSans-99\"/>\r\n      <use x=\"54.980469\" xlink:href=\"#DejaVuSans-111\"/>\r\n      <use x=\"116.162109\" xlink:href=\"#DejaVuSans-110\"/>\r\n      <use x=\"179.541016\" xlink:href=\"#DejaVuSans-116\"/>\r\n     </g>\r\n    </g>\r\n   </g>\r\n  </g>\r\n </g>\r\n</svg>\r\n",
      "image/png": "[encoded data removed]"
     },
     "metadata": {
      "needs_background": "light"
     }
    },
    {
     "output_type": "execute_result",
     "data": {
      "text/plain": [
       "<IPython.lib.display.IFrame at 0x121991dd730>"
      ],
      "text/html": "\n        <iframe\n            width=\"100%\"\n            height=\"800px\"\n            src=\"../visualization_result/mi_mixed.html\"\n            frameborder=\"0\"\n            allowfullscreen\n        ></iframe>\n        "
     },
     "metadata": {},
     "execution_count": 8
    }
   ],
   "source": [
    "draw_BN(bn_geo, geo_nodes, 'mi_mixed')"
   ]
  }
 ]
}