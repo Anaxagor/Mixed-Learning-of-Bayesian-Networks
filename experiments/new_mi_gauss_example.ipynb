{
 "metadata": {
  "language_info": {
   "codemirror_mode": {
    "name": "ipython",
    "version": 3
   },
   "file_extension": ".py",
   "mimetype": "text/x-python",
   "name": "python",
   "nbconvert_exporter": "python",
   "pygments_lexer": "ipython3",
   "version": "3.8.2-final"
  },
  "orig_nbformat": 2,
  "kernelspec": {
   "name": "python382jvsc74a57bd01baa965d5efe3ac65b79dfc60c0d706280b1da80fedb7760faf2759126c4f253",
   "display_name": "Python 3.8.2 64-bit"
  },
  "metadata": {
   "interpreter": {
    "hash": "1baa965d5efe3ac65b79dfc60c0d706280b1da80fedb7760faf2759126c4f253"
   }
  }
 },
 "nbformat": 4,
 "nbformat_minor": 2,
 "cells": [
  {
   "cell_type": "code",
   "execution_count": 1,
   "metadata": {},
   "outputs": [],
   "source": [
    "import os,sys,inspect\n",
    "currentdir = os.path.dirname(os.path.abspath(inspect.getfile(inspect.currentframe())))\n",
    "parentdir = os.path.dirname(currentdir)\n",
    "sys.path.insert(0,parentdir)\n",
    "import pandas as pd\n",
    "from preprocess.discretization import get_nodes_type, code_categories\n",
    "from bayesian.mi_entropy_gauss import mi_gauss, entropy_all"
   ]
  },
  {
   "cell_type": "code",
   "execution_count": 2,
   "metadata": {},
   "outputs": [],
   "source": [
    "data = pd.read_csv('../datasets/hackathon_processed.csv')\n",
    "data.dropna(inplace=True)\n",
    "data.reset_index(inplace=True, drop=True)\n",
    "columns = data.columns\n",
    "#columns = ['Period', 'Tectonic regime', 'Hydrocarbon type']\n",
    "#columns = ['Gross', 'Netpay','Porosity']\n",
    "#columns = ['Gross', 'Netpay', 'Period']\n",
    "data_test = data[columns]\n",
    "\n",
    "node_type = get_nodes_type(data_test)\n",
    "columns_for_discrete = []\n",
    "for param in columns:\n",
    "    if node_type[param] == 'cont':\n",
    "        columns_for_discrete.append(param)\n",
    "columns_for_code = []\n",
    "for param in columns:\n",
    "    if node_type[param] == 'disc':\n",
    "        columns_for_code.append(param)        "
   ]
  },
  {
   "cell_type": "code",
   "execution_count": 3,
   "metadata": {},
   "outputs": [
    {
     "output_type": "execute_result",
     "data": {
      "text/plain": [
       "     Field name  Reservoir unit  Country  Region  Basin name  Tectonic regime  \\\n",
       "0             0              22       35       5          99                0   \n",
       "1             1              28       12       0           0                2   \n",
       "2             2               4       12       0          59                5   \n",
       "3             2               5       12       0          59                5   \n",
       "4             3             261       30       5          27                0   \n",
       "..          ...             ...      ...     ...         ...              ...   \n",
       "437         386             140        8       2           9                2   \n",
       "438         386             141        8       2           9                2   \n",
       "439         386             306        8       2           9                2   \n",
       "440         387             188       34       3         108                0   \n",
       "441         387             295       34       3         108                0   \n",
       "\n",
       "     Latitude  Longitude  Operator company  Onshore/offshore  \\\n",
       "0     26.0800    49.8100               138                 1   \n",
       "1     29.7422    28.4925                61                 1   \n",
       "2     31.4382    31.3616                68                 1   \n",
       "3     31.4382    31.3616                68                 1   \n",
       "4     21.9607    56.0452               109                 1   \n",
       "..        ...        ...               ...               ...   \n",
       "437   38.2100   117.0600               115                 1   \n",
       "438   38.2100   117.0600               115                 1   \n",
       "439   38.2100   117.0600               115                 1   \n",
       "440   51.0000    44.8042                96                 1   \n",
       "441   51.0000    44.8042                96                 1   \n",
       "\n",
       "     Hydrocarbon type  Reservoir status  Structural setting   Depth  Period  \\\n",
       "0                   5                 8                   2  1815.0      12   \n",
       "1                   3                 5                   6  3084.6       7   \n",
       "2                   2                 2                  11  2952.9      15   \n",
       "3                   2                 2                  11  3149.7      15   \n",
       "4                   5                 8                   7  1486.5       7   \n",
       "..                ...               ...                 ...     ...     ...   \n",
       "437                 5                 5                   6  1615.2      17   \n",
       "438                 5                 2                   6  1416.3      17   \n",
       "439                 5                 5                   6  2952.9      14   \n",
       "440                 5                 2                   2   561.0       4   \n",
       "441                 5                 6                   2   967.5       4   \n",
       "\n",
       "     Lithology  Gross  Netpay  Porosity  Permeability  \n",
       "0            9   75.0    55.2      21.0         410.0  \n",
       "1           11  223.5    43.2      10.0           8.0  \n",
       "2           15   34.5    19.8      22.0         200.0  \n",
       "3           11  152.7   123.0      20.0         300.0  \n",
       "4            9   75.0    30.0      21.0          60.0  \n",
       "..         ...    ...     ...       ...           ...  \n",
       "437         11   69.0    20.7      26.7        1872.0  \n",
       "438         11   49.2    18.6      23.2         121.0  \n",
       "439         16  147.6    58.2      12.7           3.6  \n",
       "440         11   78.6     9.9      24.0          30.0  \n",
       "441         11   38.4    13.2      26.0        1000.0  \n",
       "\n",
       "[442 rows x 20 columns]"
      ],
      "text/html": "<div>\n<style scoped>\n    .dataframe tbody tr th:only-of-type {\n        vertical-align: middle;\n    }\n\n    .dataframe tbody tr th {\n        vertical-align: top;\n    }\n\n    .dataframe thead th {\n        text-align: right;\n    }\n</style>\n<table border=\"1\" class=\"dataframe\">\n  <thead>\n    <tr style=\"text-align: right;\">\n      <th></th>\n      <th>Field name</th>\n      <th>Reservoir unit</th>\n      <th>Country</th>\n      <th>Region</th>\n      <th>Basin name</th>\n      <th>Tectonic regime</th>\n      <th>Latitude</th>\n      <th>Longitude</th>\n      <th>Operator company</th>\n      <th>Onshore/offshore</th>\n      <th>Hydrocarbon type</th>\n      <th>Reservoir status</th>\n      <th>Structural setting</th>\n      <th>Depth</th>\n      <th>Period</th>\n      <th>Lithology</th>\n      <th>Gross</th>\n      <th>Netpay</th>\n      <th>Porosity</th>\n      <th>Permeability</th>\n    </tr>\n  </thead>\n  <tbody>\n    <tr>\n      <th>0</th>\n      <td>0</td>\n      <td>22</td>\n      <td>35</td>\n      <td>5</td>\n      <td>99</td>\n      <td>0</td>\n      <td>26.0800</td>\n      <td>49.8100</td>\n      <td>138</td>\n      <td>1</td>\n      <td>5</td>\n      <td>8</td>\n      <td>2</td>\n      <td>1815.0</td>\n      <td>12</td>\n      <td>9</td>\n      <td>75.0</td>\n      <td>55.2</td>\n      <td>21.0</td>\n      <td>410.0</td>\n    </tr>\n    <tr>\n      <th>1</th>\n      <td>1</td>\n      <td>28</td>\n      <td>12</td>\n      <td>0</td>\n      <td>0</td>\n      <td>2</td>\n      <td>29.7422</td>\n      <td>28.4925</td>\n      <td>61</td>\n      <td>1</td>\n      <td>3</td>\n      <td>5</td>\n      <td>6</td>\n      <td>3084.6</td>\n      <td>7</td>\n      <td>11</td>\n      <td>223.5</td>\n      <td>43.2</td>\n      <td>10.0</td>\n      <td>8.0</td>\n    </tr>\n    <tr>\n      <th>2</th>\n      <td>2</td>\n      <td>4</td>\n      <td>12</td>\n      <td>0</td>\n      <td>59</td>\n      <td>5</td>\n      <td>31.4382</td>\n      <td>31.3616</td>\n      <td>68</td>\n      <td>1</td>\n      <td>2</td>\n      <td>2</td>\n      <td>11</td>\n      <td>2952.9</td>\n      <td>15</td>\n      <td>15</td>\n      <td>34.5</td>\n      <td>19.8</td>\n      <td>22.0</td>\n      <td>200.0</td>\n    </tr>\n    <tr>\n      <th>3</th>\n      <td>2</td>\n      <td>5</td>\n      <td>12</td>\n      <td>0</td>\n      <td>59</td>\n      <td>5</td>\n      <td>31.4382</td>\n      <td>31.3616</td>\n      <td>68</td>\n      <td>1</td>\n      <td>2</td>\n      <td>2</td>\n      <td>11</td>\n      <td>3149.7</td>\n      <td>15</td>\n      <td>11</td>\n      <td>152.7</td>\n      <td>123.0</td>\n      <td>20.0</td>\n      <td>300.0</td>\n    </tr>\n    <tr>\n      <th>4</th>\n      <td>3</td>\n      <td>261</td>\n      <td>30</td>\n      <td>5</td>\n      <td>27</td>\n      <td>0</td>\n      <td>21.9607</td>\n      <td>56.0452</td>\n      <td>109</td>\n      <td>1</td>\n      <td>5</td>\n      <td>8</td>\n      <td>7</td>\n      <td>1486.5</td>\n      <td>7</td>\n      <td>9</td>\n      <td>75.0</td>\n      <td>30.0</td>\n      <td>21.0</td>\n      <td>60.0</td>\n    </tr>\n    <tr>\n      <th>...</th>\n      <td>...</td>\n      <td>...</td>\n      <td>...</td>\n      <td>...</td>\n      <td>...</td>\n      <td>...</td>\n      <td>...</td>\n      <td>...</td>\n      <td>...</td>\n      <td>...</td>\n      <td>...</td>\n      <td>...</td>\n      <td>...</td>\n      <td>...</td>\n      <td>...</td>\n      <td>...</td>\n      <td>...</td>\n      <td>...</td>\n      <td>...</td>\n      <td>...</td>\n    </tr>\n    <tr>\n      <th>437</th>\n      <td>386</td>\n      <td>140</td>\n      <td>8</td>\n      <td>2</td>\n      <td>9</td>\n      <td>2</td>\n      <td>38.2100</td>\n      <td>117.0600</td>\n      <td>115</td>\n      <td>1</td>\n      <td>5</td>\n      <td>5</td>\n      <td>6</td>\n      <td>1615.2</td>\n      <td>17</td>\n      <td>11</td>\n      <td>69.0</td>\n      <td>20.7</td>\n      <td>26.7</td>\n      <td>1872.0</td>\n    </tr>\n    <tr>\n      <th>438</th>\n      <td>386</td>\n      <td>141</td>\n      <td>8</td>\n      <td>2</td>\n      <td>9</td>\n      <td>2</td>\n      <td>38.2100</td>\n      <td>117.0600</td>\n      <td>115</td>\n      <td>1</td>\n      <td>5</td>\n      <td>2</td>\n      <td>6</td>\n      <td>1416.3</td>\n      <td>17</td>\n      <td>11</td>\n      <td>49.2</td>\n      <td>18.6</td>\n      <td>23.2</td>\n      <td>121.0</td>\n    </tr>\n    <tr>\n      <th>439</th>\n      <td>386</td>\n      <td>306</td>\n      <td>8</td>\n      <td>2</td>\n      <td>9</td>\n      <td>2</td>\n      <td>38.2100</td>\n      <td>117.0600</td>\n      <td>115</td>\n      <td>1</td>\n      <td>5</td>\n      <td>5</td>\n      <td>6</td>\n      <td>2952.9</td>\n      <td>14</td>\n      <td>16</td>\n      <td>147.6</td>\n      <td>58.2</td>\n      <td>12.7</td>\n      <td>3.6</td>\n    </tr>\n    <tr>\n      <th>440</th>\n      <td>387</td>\n      <td>188</td>\n      <td>34</td>\n      <td>3</td>\n      <td>108</td>\n      <td>0</td>\n      <td>51.0000</td>\n      <td>44.8042</td>\n      <td>96</td>\n      <td>1</td>\n      <td>5</td>\n      <td>2</td>\n      <td>2</td>\n      <td>561.0</td>\n      <td>4</td>\n      <td>11</td>\n      <td>78.6</td>\n      <td>9.9</td>\n      <td>24.0</td>\n      <td>30.0</td>\n    </tr>\n    <tr>\n      <th>441</th>\n      <td>387</td>\n      <td>295</td>\n      <td>34</td>\n      <td>3</td>\n      <td>108</td>\n      <td>0</td>\n      <td>51.0000</td>\n      <td>44.8042</td>\n      <td>96</td>\n      <td>1</td>\n      <td>5</td>\n      <td>6</td>\n      <td>2</td>\n      <td>967.5</td>\n      <td>4</td>\n      <td>11</td>\n      <td>38.4</td>\n      <td>13.2</td>\n      <td>26.0</td>\n      <td>1000.0</td>\n    </tr>\n  </tbody>\n</table>\n<p>442 rows × 20 columns</p>\n</div>"
     },
     "metadata": {},
     "execution_count": 3
    }
   ],
   "source": [
    "data_coded, code_dict = code_categories(data_test, \"label\", columns_for_code)\n",
    "data_coded"
   ]
  },
  {
   "cell_type": "code",
   "execution_count": 4,
   "metadata": {
    "tags": []
   },
   "outputs": [
    {
     "output_type": "stream",
     "name": "stdout",
     "text": [
      "442\n",
      "2\n",
      "442\n",
      "2\n",
      "[[  26.08     29.7422   31.4382 ...   38.21     51.       51.    ]\n",
      " [  49.81     28.4925   31.3616 ...  117.06     44.8042   44.8042]\n",
      " [1815.     3084.6    2952.9    ... 2952.9     561.      967.5   ]\n",
      " ...\n",
      " [  55.2      43.2      19.8    ...   58.2       9.9      13.2   ]\n",
      " [  21.       10.       22.     ...   12.7      24.       26.    ]\n",
      " [ 410.        8.      200.     ...    3.6      30.     1000.    ]]\n",
      "-1.7976931348623107e+308\n",
      "442\n",
      "2\n",
      "442\n",
      "2\n",
      "[[  26.08     29.7422   31.4382 ...   38.21     51.       51.    ]\n",
      " [  49.81     28.4925   31.3616 ...  117.06     44.8042   44.8042]\n",
      " [1815.     3084.6    2952.9    ... 2952.9     561.      967.5   ]\n",
      " ...\n",
      " [  55.2      43.2      19.8    ...   58.2       9.9      13.2   ]\n",
      " [  21.       10.       22.     ...   12.7      24.       26.    ]\n",
      " [ 410.        8.      200.     ...    3.6      30.     1000.    ]]\n",
      "-1.7976931348623107e+308\n"
     ]
    }
   ],
   "source": [
    "print(mi_gauss(data_coded))\n",
    "print(mi_gauss(data_coded.values))"
   ]
  },
  {
   "cell_type": "code",
   "execution_count": 5,
   "metadata": {},
   "outputs": [
    {
     "output_type": "error",
     "ename": "MemoryError",
     "evalue": "Unable to allocate 704. GiB for an array with shape (94475101159,) and data type float64",
     "traceback": [
      "\u001b[1;31m---------------------------------------------------------------------------\u001b[0m",
      "\u001b[1;31mMemoryError\u001b[0m                               Traceback (most recent call last)",
      "\u001b[1;32m<ipython-input-5-4b74c2f0adad>\u001b[0m in \u001b[0;36m<module>\u001b[1;34m\u001b[0m\n\u001b[1;32m----> 1\u001b[1;33m \u001b[0mprint\u001b[0m\u001b[1;33m(\u001b[0m\u001b[0mentropy_all\u001b[0m\u001b[1;33m(\u001b[0m\u001b[0mdata_coded\u001b[0m\u001b[1;33m)\u001b[0m\u001b[1;33m)\u001b[0m\u001b[1;33m\u001b[0m\u001b[1;33m\u001b[0m\u001b[0m\n\u001b[0m\u001b[0;32m      2\u001b[0m \u001b[0mprint\u001b[0m\u001b[1;33m(\u001b[0m\u001b[0mentropy_all\u001b[0m\u001b[1;33m(\u001b[0m\u001b[0mdata_coded\u001b[0m\u001b[1;33m.\u001b[0m\u001b[0mvalues\u001b[0m\u001b[1;33m)\u001b[0m\u001b[1;33m)\u001b[0m\u001b[1;33m\u001b[0m\u001b[1;33m\u001b[0m\u001b[0m\n",
      "\u001b[1;32md:\\YSC repo\\Mixed-Learning-of-Bayesian-Networks\\bayesian\\mi_entropy_gauss.py\u001b[0m in \u001b[0;36mentropy_all\u001b[1;34m(data)\u001b[0m\n\u001b[0;32m    156\u001b[0m             \u001b[1;32mreturn\u001b[0m \u001b[0mentropy_gauss\u001b[0m\u001b[1;33m(\u001b[0m\u001b[0mdata_cont\u001b[0m\u001b[1;33m)\u001b[0m\u001b[1;33m\u001b[0m\u001b[1;33m\u001b[0m\u001b[0m\n\u001b[0;32m    157\u001b[0m         \u001b[1;32melse\u001b[0m\u001b[1;33m:\u001b[0m\u001b[1;33m\u001b[0m\u001b[1;33m\u001b[0m\u001b[0m\n\u001b[1;32m--> 158\u001b[1;33m             \u001b[0mH_disc\u001b[0m \u001b[1;33m=\u001b[0m \u001b[0mentropy\u001b[0m\u001b[1;33m(\u001b[0m\u001b[0mdata_disc\u001b[0m\u001b[1;33m.\u001b[0m\u001b[0mvalues\u001b[0m\u001b[1;33m)\u001b[0m\u001b[1;33m\u001b[0m\u001b[1;33m\u001b[0m\u001b[0m\n\u001b[0m\u001b[0;32m    159\u001b[0m             \u001b[0mdict_comb\u001b[0m \u001b[1;33m=\u001b[0m \u001b[1;33m{\u001b[0m\u001b[1;33m}\u001b[0m\u001b[1;33m\u001b[0m\u001b[1;33m\u001b[0m\u001b[0m\n\u001b[0;32m    160\u001b[0m             \u001b[0mcomb_prob\u001b[0m \u001b[1;33m=\u001b[0m \u001b[1;33m{\u001b[0m\u001b[1;33m}\u001b[0m\u001b[1;33m\u001b[0m\u001b[1;33m\u001b[0m\u001b[0m\n",
      "\u001b[1;32md:\\YSC repo\\Mixed-Learning-of-Bayesian-Networks\\external\\pyBN\\utils\\independence_tests.py\u001b[0m in \u001b[0;36mentropy\u001b[1;34m(data)\u001b[0m\n\u001b[0;32m    303\u001b[0m \u001b[1;33m\u001b[0m\u001b[0m\n\u001b[0;32m    304\u001b[0m         \u001b[0mbins\u001b[0m \u001b[1;33m=\u001b[0m \u001b[0mnp\u001b[0m\u001b[1;33m.\u001b[0m\u001b[0mamax\u001b[0m\u001b[1;33m(\u001b[0m\u001b[0mdata\u001b[0m\u001b[1;33m,\u001b[0m \u001b[0maxis\u001b[0m\u001b[1;33m=\u001b[0m\u001b[1;36m0\u001b[0m\u001b[1;33m)\u001b[0m\u001b[1;33m\u001b[0m\u001b[1;33m\u001b[0m\u001b[0m\n\u001b[1;32m--> 305\u001b[1;33m         \u001b[0mhist\u001b[0m\u001b[1;33m,\u001b[0m \u001b[0m_\u001b[0m \u001b[1;33m=\u001b[0m \u001b[0mnp\u001b[0m\u001b[1;33m.\u001b[0m\u001b[0mhistogramdd\u001b[0m\u001b[1;33m(\u001b[0m\u001b[0mdata\u001b[0m\u001b[1;33m,\u001b[0m \u001b[0mbins\u001b[0m\u001b[1;33m=\u001b[0m\u001b[0mbins\u001b[0m\u001b[1;33m)\u001b[0m  \u001b[1;31m# frequency counts\u001b[0m\u001b[1;33m\u001b[0m\u001b[1;33m\u001b[0m\u001b[0m\n\u001b[0m\u001b[0;32m    306\u001b[0m \u001b[1;33m\u001b[0m\u001b[0m\n\u001b[0;32m    307\u001b[0m         \u001b[0mPxyz\u001b[0m \u001b[1;33m=\u001b[0m \u001b[0mhist\u001b[0m \u001b[1;33m/\u001b[0m \u001b[0mhist\u001b[0m\u001b[1;33m.\u001b[0m\u001b[0msum\u001b[0m\u001b[1;33m(\u001b[0m\u001b[1;33m)\u001b[0m  \u001b[1;31m# joint probability distribution over X,Y,Z\u001b[0m\u001b[1;33m\u001b[0m\u001b[1;33m\u001b[0m\u001b[0m\n",
      "\u001b[1;32m<__array_function__ internals>\u001b[0m in \u001b[0;36mhistogramdd\u001b[1;34m(*args, **kwargs)\u001b[0m\n",
      "\u001b[1;32m~\\AppData\\Roaming\\Python\\Python38\\site-packages\\numpy\\lib\\histograms.py\u001b[0m in \u001b[0;36mhistogramdd\u001b[1;34m(sample, bins, range, normed, weights, density)\u001b[0m\n\u001b[0;32m   1056\u001b[0m                 ) from e\n\u001b[0;32m   1057\u001b[0m \u001b[1;33m\u001b[0m\u001b[0m\n\u001b[1;32m-> 1058\u001b[1;33m             \u001b[0medges\u001b[0m\u001b[1;33m[\u001b[0m\u001b[0mi\u001b[0m\u001b[1;33m]\u001b[0m \u001b[1;33m=\u001b[0m \u001b[0mnp\u001b[0m\u001b[1;33m.\u001b[0m\u001b[0mlinspace\u001b[0m\u001b[1;33m(\u001b[0m\u001b[0msmin\u001b[0m\u001b[1;33m,\u001b[0m \u001b[0msmax\u001b[0m\u001b[1;33m,\u001b[0m \u001b[0mn\u001b[0m \u001b[1;33m+\u001b[0m \u001b[1;36m1\u001b[0m\u001b[1;33m)\u001b[0m\u001b[1;33m\u001b[0m\u001b[1;33m\u001b[0m\u001b[0m\n\u001b[0m\u001b[0;32m   1059\u001b[0m         \u001b[1;32melif\u001b[0m \u001b[0mnp\u001b[0m\u001b[1;33m.\u001b[0m\u001b[0mndim\u001b[0m\u001b[1;33m(\u001b[0m\u001b[0mbins\u001b[0m\u001b[1;33m[\u001b[0m\u001b[0mi\u001b[0m\u001b[1;33m]\u001b[0m\u001b[1;33m)\u001b[0m \u001b[1;33m==\u001b[0m \u001b[1;36m1\u001b[0m\u001b[1;33m:\u001b[0m\u001b[1;33m\u001b[0m\u001b[1;33m\u001b[0m\u001b[0m\n\u001b[0;32m   1060\u001b[0m             \u001b[0medges\u001b[0m\u001b[1;33m[\u001b[0m\u001b[0mi\u001b[0m\u001b[1;33m]\u001b[0m \u001b[1;33m=\u001b[0m \u001b[0mnp\u001b[0m\u001b[1;33m.\u001b[0m\u001b[0masarray\u001b[0m\u001b[1;33m(\u001b[0m\u001b[0mbins\u001b[0m\u001b[1;33m[\u001b[0m\u001b[0mi\u001b[0m\u001b[1;33m]\u001b[0m\u001b[1;33m)\u001b[0m\u001b[1;33m\u001b[0m\u001b[1;33m\u001b[0m\u001b[0m\n",
      "\u001b[1;32m<__array_function__ internals>\u001b[0m in \u001b[0;36mlinspace\u001b[1;34m(*args, **kwargs)\u001b[0m\n",
      "\u001b[1;32m~\\AppData\\Roaming\\Python\\Python38\\site-packages\\numpy\\core\\function_base.py\u001b[0m in \u001b[0;36mlinspace\u001b[1;34m(start, stop, num, endpoint, retstep, dtype, axis)\u001b[0m\n\u001b[0;32m    126\u001b[0m \u001b[1;33m\u001b[0m\u001b[0m\n\u001b[0;32m    127\u001b[0m     \u001b[0mdelta\u001b[0m \u001b[1;33m=\u001b[0m \u001b[0mstop\u001b[0m \u001b[1;33m-\u001b[0m \u001b[0mstart\u001b[0m\u001b[1;33m\u001b[0m\u001b[1;33m\u001b[0m\u001b[0m\n\u001b[1;32m--> 128\u001b[1;33m     \u001b[0my\u001b[0m \u001b[1;33m=\u001b[0m \u001b[0m_nx\u001b[0m\u001b[1;33m.\u001b[0m\u001b[0marange\u001b[0m\u001b[1;33m(\u001b[0m\u001b[1;36m0\u001b[0m\u001b[1;33m,\u001b[0m \u001b[0mnum\u001b[0m\u001b[1;33m,\u001b[0m \u001b[0mdtype\u001b[0m\u001b[1;33m=\u001b[0m\u001b[0mdt\u001b[0m\u001b[1;33m)\u001b[0m\u001b[1;33m.\u001b[0m\u001b[0mreshape\u001b[0m\u001b[1;33m(\u001b[0m\u001b[1;33m(\u001b[0m\u001b[1;33m-\u001b[0m\u001b[1;36m1\u001b[0m\u001b[1;33m,\u001b[0m\u001b[1;33m)\u001b[0m \u001b[1;33m+\u001b[0m \u001b[1;33m(\u001b[0m\u001b[1;36m1\u001b[0m\u001b[1;33m,\u001b[0m\u001b[1;33m)\u001b[0m \u001b[1;33m*\u001b[0m \u001b[0mndim\u001b[0m\u001b[1;33m(\u001b[0m\u001b[0mdelta\u001b[0m\u001b[1;33m)\u001b[0m\u001b[1;33m)\u001b[0m\u001b[1;33m\u001b[0m\u001b[1;33m\u001b[0m\u001b[0m\n\u001b[0m\u001b[0;32m    129\u001b[0m     \u001b[1;31m# In-place multiplication y *= delta/div is faster, but prevents the multiplicant\u001b[0m\u001b[1;33m\u001b[0m\u001b[1;33m\u001b[0m\u001b[1;33m\u001b[0m\u001b[0m\n\u001b[0;32m    130\u001b[0m     \u001b[1;31m# from overriding what class is produced, and thus prevents, e.g. use of Quantities,\u001b[0m\u001b[1;33m\u001b[0m\u001b[1;33m\u001b[0m\u001b[1;33m\u001b[0m\u001b[0m\n",
      "\u001b[1;31mMemoryError\u001b[0m: Unable to allocate 704. GiB for an array with shape (94475101159,) and data type float64"
     ]
    }
   ],
   "source": [
    "print(entropy_all(data_coded))\n",
    "print(entropy_all(data_coded.values))"
   ]
  },
  {
   "cell_type": "code",
   "execution_count": 4,
   "metadata": {
    "tags": []
   },
   "outputs": [
    {
     "output_type": "stream",
     "name": "stdout",
     "text": [
      "7.488242977852554\n",
      "7.488241977852554\n",
      "7.488241977852554\n",
      "False\n"
     ]
    }
   ],
   "source": [
    "#columns = ['Period', 'Tectonic regime', 'Hydrocarbon type']\n",
    "#columns = ['Gross', 'Netpay','Porosity']\n",
    "columns1 = ['Period','Gross']\n",
    "columns2 = ['Period', 'Tectonic regime','Gross']\n",
    "print(mi_gauss(data_coded[['Gross']]))\n",
    "one = mi_gauss(data_coded[columns1])\n",
    "two = mi_gauss(data_coded[columns2])\n",
    "print(one)\n",
    "print(two)\n",
    "print(one > two)"
   ]
  },
  {
   "cell_type": "code",
   "execution_count": null,
   "metadata": {},
   "outputs": [],
   "source": []
  }
 ]
}