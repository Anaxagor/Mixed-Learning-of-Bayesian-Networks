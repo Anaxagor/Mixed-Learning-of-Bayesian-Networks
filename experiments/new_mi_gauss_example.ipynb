{
 "metadata": {
  "language_info": {
   "codemirror_mode": {
    "name": "ipython",
    "version": 3
   },
   "file_extension": ".py",
   "mimetype": "text/x-python",
   "name": "python",
   "nbconvert_exporter": "python",
   "pygments_lexer": "ipython3",
   "version": "3.8.8-final"
  },
  "orig_nbformat": 2,
  "kernelspec": {
   "name": "python388jvsc74a57bd092325e3824298d5e9d71878960b8883dae61e3776a88d67e07708db8e5eaf7fa",
   "display_name": "Python 3.8.8 64-bit ('venv': venv)",
   "language": "python"
  },
  "metadata": {
   "interpreter": {
    "hash": "9972f931652c8f11c7a257c873cafc5977925a528a7611d7c91176f705d779e5"
   }
  }
 },
 "nbformat": 4,
 "nbformat_minor": 2,
 "cells": [
  {
   "cell_type": "code",
   "execution_count": 1,
   "metadata": {},
   "outputs": [],
   "source": [
    "import os,sys,inspect\n",
    "currentdir = os.path.dirname(os.path.abspath(inspect.getfile(inspect.currentframe())))\n",
    "parentdir = os.path.dirname(currentdir)\n",
    "sys.path.insert(0,parentdir)\n",
    "import pandas as pd\n",
    "from preprocess.discretization import get_nodes_type, code_categories\n",
    "from bayesian.mi_entropy_gauss import mi_gauss, entropy_all"
   ]
  },
  {
   "cell_type": "code",
   "execution_count": 2,
   "metadata": {},
   "outputs": [],
   "source": [
    "data = pd.read_csv('../datasets/hackathon_processed.csv')\n",
    "data.dropna(inplace=True)\n",
    "data.reset_index(inplace=True, drop=True)\n",
    "#columns = ['Period', 'Tectonic regime', 'Hydrocarbon type']\n",
    "#columns = ['Gross', 'Netpay','Porosity']\n",
    "columns = ['Gross', 'Netpay', 'Period']\n",
    "data_test = data[columns]\n",
    "\n",
    "node_type = get_nodes_type(data_test)\n",
    "columns_for_discrete = []\n",
    "for param in columns:\n",
    "    if node_type[param] == 'cont':\n",
    "        columns_for_discrete.append(param)\n",
    "columns_for_code = []\n",
    "for param in columns:\n",
    "    if node_type[param] == 'disc':\n",
    "        columns_for_code.append(param)        "
   ]
  },
  {
   "cell_type": "code",
   "execution_count": 3,
   "metadata": {},
   "outputs": [
    {
     "output_type": "execute_result",
     "data": {
      "text/plain": [
       "     Gross  Netpay  Period\n",
       "0     75.0    55.2      12\n",
       "1    223.5    43.2       7\n",
       "2     34.5    19.8      15\n",
       "3    152.7   123.0      15\n",
       "4     75.0    30.0       7\n",
       "..     ...     ...     ...\n",
       "437   69.0    20.7      17\n",
       "438   49.2    18.6      17\n",
       "439  147.6    58.2      14\n",
       "440   78.6     9.9       4\n",
       "441   38.4    13.2       4\n",
       "\n",
       "[442 rows x 3 columns]"
      ],
      "text/html": "<div>\n<style scoped>\n    .dataframe tbody tr th:only-of-type {\n        vertical-align: middle;\n    }\n\n    .dataframe tbody tr th {\n        vertical-align: top;\n    }\n\n    .dataframe thead th {\n        text-align: right;\n    }\n</style>\n<table border=\"1\" class=\"dataframe\">\n  <thead>\n    <tr style=\"text-align: right;\">\n      <th></th>\n      <th>Gross</th>\n      <th>Netpay</th>\n      <th>Period</th>\n    </tr>\n  </thead>\n  <tbody>\n    <tr>\n      <th>0</th>\n      <td>75.0</td>\n      <td>55.2</td>\n      <td>12</td>\n    </tr>\n    <tr>\n      <th>1</th>\n      <td>223.5</td>\n      <td>43.2</td>\n      <td>7</td>\n    </tr>\n    <tr>\n      <th>2</th>\n      <td>34.5</td>\n      <td>19.8</td>\n      <td>15</td>\n    </tr>\n    <tr>\n      <th>3</th>\n      <td>152.7</td>\n      <td>123.0</td>\n      <td>15</td>\n    </tr>\n    <tr>\n      <th>4</th>\n      <td>75.0</td>\n      <td>30.0</td>\n      <td>7</td>\n    </tr>\n    <tr>\n      <th>...</th>\n      <td>...</td>\n      <td>...</td>\n      <td>...</td>\n    </tr>\n    <tr>\n      <th>437</th>\n      <td>69.0</td>\n      <td>20.7</td>\n      <td>17</td>\n    </tr>\n    <tr>\n      <th>438</th>\n      <td>49.2</td>\n      <td>18.6</td>\n      <td>17</td>\n    </tr>\n    <tr>\n      <th>439</th>\n      <td>147.6</td>\n      <td>58.2</td>\n      <td>14</td>\n    </tr>\n    <tr>\n      <th>440</th>\n      <td>78.6</td>\n      <td>9.9</td>\n      <td>4</td>\n    </tr>\n    <tr>\n      <th>441</th>\n      <td>38.4</td>\n      <td>13.2</td>\n      <td>4</td>\n    </tr>\n  </tbody>\n</table>\n<p>442 rows × 3 columns</p>\n</div>"
     },
     "metadata": {},
     "execution_count": 3
    }
   ],
   "source": [
    "data_coded, code_dict = code_categories(data_test, \"label\", columns_for_code)\n",
    "data_coded"
   ]
  },
  {
   "cell_type": "code",
   "execution_count": 4,
   "metadata": {},
   "outputs": [
    {
     "output_type": "stream",
     "name": "stdout",
     "text": [
      "1.586924531001543\n1.586924531001543\n"
     ]
    }
   ],
   "source": [
    "print(mi_gauss(data_coded))\n",
    "print(mi_gauss(data_coded.values))"
   ]
  },
  {
   "cell_type": "code",
   "execution_count": 5,
   "metadata": {},
   "outputs": [
    {
     "output_type": "stream",
     "name": "stdout",
     "text": [
      "11.611394603028026\n11.611394603028026\n"
     ]
    }
   ],
   "source": [
    "print(entropy_all(data_coded))\n",
    "print(entropy_all(data_coded.values))"
   ]
  },
  {
   "cell_type": "code",
   "execution_count": null,
   "metadata": {},
   "outputs": [],
   "source": []
  }
 ]
}