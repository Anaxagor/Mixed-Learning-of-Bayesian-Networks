{
 "metadata": {
  "language_info": {
   "codemirror_mode": {
    "name": "ipython",
    "version": 3
   },
   "file_extension": ".py",
   "mimetype": "text/x-python",
   "name": "python",
   "nbconvert_exporter": "python",
   "pygments_lexer": "ipython3",
   "version": "3.8.8"
  },
  "orig_nbformat": 2,
  "kernelspec": {
   "name": "python388jvsc74a57bd00110e3ad3d2995649b9eed0505b86961f21d80e4cfa55b9dc2096312fa84aa23",
   "display_name": "Python 3.8.8 64-bit"
  },
  "metadata": {
   "interpreter": {
    "hash": "0110e3ad3d2995649b9eed0505b86961f21d80e4cfa55b9dc2096312fa84aa23"
   }
  }
 },
 "nbformat": 4,
 "nbformat_minor": 2,
 "cells": [
  {
   "cell_type": "code",
   "execution_count": 1,
   "metadata": {},
   "outputs": [],
   "source": [
    "import os,sys,inspect\n",
    "currentdir = os.path.dirname(os.path.abspath(inspect.getfile(inspect.currentframe())))\n",
    "parentdir = os.path.dirname(currentdir)\n",
    "sys.path.insert(0,parentdir) "
   ]
  },
  {
   "cell_type": "code",
   "execution_count": 2,
   "metadata": {},
   "outputs": [],
   "source": [
    "import pandas as pd\n",
    "import numpy as np\n",
    "from bayesian.train_bn import structure_learning, parameter_learning, parameter_learning_mix\n",
    "from preprocess.discretization import get_nodes_type, discretization, inverse_discretization, code_categories\n",
    "from bayesian.save_bn import save_structure, save_params, read_structure, read_params\n",
    "from external.libpgm.hybayesiannetwork import HyBayesianNetwork\n",
    "from visualization.visualization import draw_BN\n",
    "from bayesian.calculate_accuracy import calculate_acc\n",
    "import seaborn as sns\n",
    "import matplotlib.pyplot as plt\n",
    "from scipy import stats\n",
    "from copy import copy\n",
    "from external.libpgm.sampleaggregator import SampleAggregator\n",
    "import operator\n",
    "from sklearn.metrics import accuracy_score, mean_squared_error\n",
    "from scipy import stats\n",
    "from scipy.stats import multivariate_normal\n",
    "from sklearn.mixture import GaussianMixture\n",
    "import math\n",
    "from pomegranate import DiscreteDistribution\n",
    "import random\n",
    "from sklearn.model_selection import train_test_split"
   ]
  },
  {
   "cell_type": "code",
   "execution_count": 3,
   "metadata": {},
   "outputs": [],
   "source": [
    "df_result_accuracy = pd.DataFrame(columns = ['Parameter', 'Strategy', 'Alg', 'accuracy'])\n",
    "df_result_rmse = pd.DataFrame(columns = ['Parameter', 'Strategy', 'Alg', 'rmse'])"
   ]
  },
  {
   "cell_type": "code",
   "execution_count": 4,
   "metadata": {},
   "outputs": [],
   "source": [
    "geo = geo = pd.read_csv('../datasets/hackathon_processed.csv')\n",
    "columns = ['Tectonic regime', 'Period', 'Lithology', 'Structural setting', 'Hydrocarbon type', 'Gross','Netpay','Porosity','Permeability', 'Depth']\n",
    "geo = geo[columns]\n",
    "geo.dropna(inplace=True)\n",
    "geo.reset_index(inplace=True, drop=True)"
   ]
  },
  {
   "cell_type": "code",
   "execution_count": 5,
   "metadata": {},
   "outputs": [],
   "source": [
    "geo_train, geo_test = train_test_split(geo, test_size=0.1)\n",
    "geo_train.reset_index(inplace=True, drop=True)\n",
    "geo_test.reset_index(inplace=True, drop=True)"
   ]
  },
  {
   "cell_type": "code",
   "execution_count": 6,
   "metadata": {},
   "outputs": [
    {
     "output_type": "execute_result",
     "data": {
      "text/plain": [
       "{'Tectonic regime': 'disc',\n",
       " 'Period': 'disc',\n",
       " 'Lithology': 'disc',\n",
       " 'Structural setting': 'disc',\n",
       " 'Hydrocarbon type': 'disc',\n",
       " 'Gross': 'cont',\n",
       " 'Netpay': 'cont',\n",
       " 'Porosity': 'cont',\n",
       " 'Permeability': 'cont',\n",
       " 'Depth': 'cont'}"
      ]
     },
     "metadata": {},
     "execution_count": 6
    }
   ],
   "source": [
    "geo_types = get_nodes_type(geo)\n",
    "geo_types"
   ]
  },
  {
   "cell_type": "code",
   "execution_count": 7,
   "metadata": {},
   "outputs": [],
   "source": [
    "colums_for_code = []\n",
    "columns_for_disc = []\n",
    "for c in columns:\n",
    "    if geo_types[c] == 'disc':\n",
    "        colums_for_code.append(c)\n",
    "    else:\n",
    "        columns_for_disc.append(c)"
   ]
  },
  {
   "cell_type": "code",
   "execution_count": 8,
   "metadata": {},
   "outputs": [],
   "source": [
    "geo_coded, label_coder = code_categories(geo_train, 'label', colums_for_code)\n",
    "geo_discrete, coder = discretization(geo_coded, 'equal_frequency', columns_for_disc)\n",
    "geo_only_discrete, discrete_coder = discretization(geo_train, 'equal_frequency', columns_for_disc)"
   ]
  },
  {
   "source": [
    "# Hill Climbing"
   ],
   "cell_type": "markdown",
   "metadata": {}
  },
  {
   "source": [
    "# Дискретная структра + смешанные параметры"
   ],
   "cell_type": "markdown",
   "metadata": {}
  },
  {
   "cell_type": "code",
   "execution_count": 9,
   "metadata": {},
   "outputs": [],
   "source": [
    "bn_geo = structure_learning(geo_discrete, 'HC', 'MI', geo_types)"
   ]
  },
  {
   "cell_type": "code",
   "execution_count": 10,
   "metadata": {},
   "outputs": [
    {
     "output_type": "display_data",
     "data": {
      "text/plain": "<Figure size 2025x225 with 1 Axes>",
      "image/svg+xml": "<?xml version=\"1.0\" encoding=\"utf-8\" standalone=\"no\"?>\r\n<!DOCTYPE svg PUBLIC \"-//W3C//DTD SVG 1.1//EN\"\r\n  \"http://www.w3.org/Graphics/SVG/1.1/DTD/svg11.dtd\">\r\n<!-- Created with matplotlib (https://matplotlib.org/) -->\r\n<svg height=\"100.8pt\" version=\"1.1\" viewBox=\"0 0 964.8 100.8\" width=\"964.8pt\" xmlns=\"http://www.w3.org/2000/svg\" xmlns:xlink=\"http://www.w3.org/1999/xlink\">\r\n <metadata>\r\n  <rdf:RDF xmlns:cc=\"http://creativecommons.org/ns#\" xmlns:dc=\"http://purl.org/dc/elements/1.1/\" xmlns:rdf=\"http://www.w3.org/1999/02/22-rdf-syntax-ns#\">\r\n   <cc:Work>\r\n    <dc:type rdf:resource=\"http://purl.org/dc/dcmitype/StillImage\"/>\r\n    <dc:date>2021-05-01T14:55:44.374305</dc:date>\r\n    <dc:format>image/svg+xml</dc:format>\r\n    <dc:creator>\r\n     <cc:Agent>\r\n      <dc:title>Matplotlib v3.3.4, https://matplotlib.org/</dc:title>\r\n     </cc:Agent>\r\n    </dc:creator>\r\n   </cc:Work>\r\n  </rdf:RDF>\r\n </metadata>\r\n <defs>\r\n  <style type=\"text/css\">*{stroke-linecap:butt;stroke-linejoin:round;}</style>\r\n </defs>\r\n <g id=\"figure_1\">\r\n  <g id=\"patch_1\">\r\n   <path d=\"M 0 100.8 \r\nL 964.8 100.8 \r\nL 964.8 0 \r\nL 0 0 \r\nz\r\n\" style=\"fill:none;\"/>\r\n  </g>\r\n  <g id=\"axes_1\">\r\n   <g id=\"legend_1\">\r\n    <g id=\"patch_2\">\r\n     <path d=\"M 421.545312 59.239062 \r\nL 543.254687 59.239062 \r\nQ 545.254687 59.239062 545.254687 57.239062 \r\nL 545.254687 43.560937 \r\nQ 545.254687 41.560937 543.254687 41.560937 \r\nL 421.545312 41.560937 \r\nQ 419.545312 41.560937 419.545312 43.560937 \r\nL 419.545312 57.239062 \r\nQ 419.545312 59.239062 421.545312 59.239062 \r\nz\r\n\" style=\"fill:#ffffff;opacity:0.8;stroke:#cccccc;stroke-linejoin:miter;\"/>\r\n    </g>\r\n    <g id=\"patch_3\">\r\n     <path d=\"M 423.545312 53.159375 \r\nL 443.545312 53.159375 \r\nL 443.545312 46.159375 \r\nL 423.545312 46.159375 \r\nz\r\n\" style=\"fill:#9467bd;stroke:#9467bd;stroke-linejoin:miter;\"/>\r\n    </g>\r\n    <g id=\"text_1\">\r\n     <!-- disc -->\r\n     <g transform=\"translate(451.545312 53.159375)scale(0.1 -0.1)\">\r\n      <defs>\r\n       <path d=\"M 45.40625 46.390625 \r\nL 45.40625 75.984375 \r\nL 54.390625 75.984375 \r\nL 54.390625 0 \r\nL 45.40625 0 \r\nL 45.40625 8.203125 \r\nQ 42.578125 3.328125 38.25 0.953125 \r\nQ 33.9375 -1.421875 27.875 -1.421875 \r\nQ 17.96875 -1.421875 11.734375 6.484375 \r\nQ 5.515625 14.40625 5.515625 27.296875 \r\nQ 5.515625 40.1875 11.734375 48.09375 \r\nQ 17.96875 56 27.875 56 \r\nQ 33.9375 56 38.25 53.625 \r\nQ 42.578125 51.265625 45.40625 46.390625 \r\nz\r\nM 14.796875 27.296875 \r\nQ 14.796875 17.390625 18.875 11.75 \r\nQ 22.953125 6.109375 30.078125 6.109375 \r\nQ 37.203125 6.109375 41.296875 11.75 \r\nQ 45.40625 17.390625 45.40625 27.296875 \r\nQ 45.40625 37.203125 41.296875 42.84375 \r\nQ 37.203125 48.484375 30.078125 48.484375 \r\nQ 22.953125 48.484375 18.875 42.84375 \r\nQ 14.796875 37.203125 14.796875 27.296875 \r\nz\r\n\" id=\"DejaVuSans-100\"/>\r\n       <path d=\"M 9.421875 54.6875 \r\nL 18.40625 54.6875 \r\nL 18.40625 0 \r\nL 9.421875 0 \r\nz\r\nM 9.421875 75.984375 \r\nL 18.40625 75.984375 \r\nL 18.40625 64.59375 \r\nL 9.421875 64.59375 \r\nz\r\n\" id=\"DejaVuSans-105\"/>\r\n       <path d=\"M 44.28125 53.078125 \r\nL 44.28125 44.578125 \r\nQ 40.484375 46.53125 36.375 47.5 \r\nQ 32.28125 48.484375 27.875 48.484375 \r\nQ 21.1875 48.484375 17.84375 46.4375 \r\nQ 14.5 44.390625 14.5 40.28125 \r\nQ 14.5 37.15625 16.890625 35.375 \r\nQ 19.28125 33.59375 26.515625 31.984375 \r\nL 29.59375 31.296875 \r\nQ 39.15625 29.25 43.1875 25.515625 \r\nQ 47.21875 21.78125 47.21875 15.09375 \r\nQ 47.21875 7.46875 41.1875 3.015625 \r\nQ 35.15625 -1.421875 24.609375 -1.421875 \r\nQ 20.21875 -1.421875 15.453125 -0.5625 \r\nQ 10.6875 0.296875 5.421875 2 \r\nL 5.421875 11.28125 \r\nQ 10.40625 8.6875 15.234375 7.390625 \r\nQ 20.0625 6.109375 24.8125 6.109375 \r\nQ 31.15625 6.109375 34.5625 8.28125 \r\nQ 37.984375 10.453125 37.984375 14.40625 \r\nQ 37.984375 18.0625 35.515625 20.015625 \r\nQ 33.0625 21.96875 24.703125 23.78125 \r\nL 21.578125 24.515625 \r\nQ 13.234375 26.265625 9.515625 29.90625 \r\nQ 5.8125 33.546875 5.8125 39.890625 \r\nQ 5.8125 47.609375 11.28125 51.796875 \r\nQ 16.75 56 26.8125 56 \r\nQ 31.78125 56 36.171875 55.265625 \r\nQ 40.578125 54.546875 44.28125 53.078125 \r\nz\r\n\" id=\"DejaVuSans-115\"/>\r\n       <path d=\"M 48.78125 52.59375 \r\nL 48.78125 44.1875 \r\nQ 44.96875 46.296875 41.140625 47.34375 \r\nQ 37.3125 48.390625 33.40625 48.390625 \r\nQ 24.65625 48.390625 19.8125 42.84375 \r\nQ 14.984375 37.3125 14.984375 27.296875 \r\nQ 14.984375 17.28125 19.8125 11.734375 \r\nQ 24.65625 6.203125 33.40625 6.203125 \r\nQ 37.3125 6.203125 41.140625 7.25 \r\nQ 44.96875 8.296875 48.78125 10.40625 \r\nL 48.78125 2.09375 \r\nQ 45.015625 0.34375 40.984375 -0.53125 \r\nQ 36.96875 -1.421875 32.421875 -1.421875 \r\nQ 20.0625 -1.421875 12.78125 6.34375 \r\nQ 5.515625 14.109375 5.515625 27.296875 \r\nQ 5.515625 40.671875 12.859375 48.328125 \r\nQ 20.21875 56 33.015625 56 \r\nQ 37.15625 56 41.109375 55.140625 \r\nQ 45.0625 54.296875 48.78125 52.59375 \r\nz\r\n\" id=\"DejaVuSans-99\"/>\r\n      </defs>\r\n      <use xlink:href=\"#DejaVuSans-100\"/>\r\n      <use x=\"63.476562\" xlink:href=\"#DejaVuSans-105\"/>\r\n      <use x=\"91.259766\" xlink:href=\"#DejaVuSans-115\"/>\r\n      <use x=\"143.359375\" xlink:href=\"#DejaVuSans-99\"/>\r\n     </g>\r\n    </g>\r\n    <g id=\"patch_4\">\r\n     <path d=\"M 491.379687 53.159375 \r\nL 511.379687 53.159375 \r\nL 511.379687 46.159375 \r\nL 491.379687 46.159375 \r\nz\r\n\" style=\"fill:#17becf;stroke:#17becf;stroke-linejoin:miter;\"/>\r\n    </g>\r\n    <g id=\"text_2\">\r\n     <!-- cont -->\r\n     <g transform=\"translate(519.379687 53.159375)scale(0.1 -0.1)\">\r\n      <defs>\r\n       <path d=\"M 30.609375 48.390625 \r\nQ 23.390625 48.390625 19.1875 42.75 \r\nQ 14.984375 37.109375 14.984375 27.296875 \r\nQ 14.984375 17.484375 19.15625 11.84375 \r\nQ 23.34375 6.203125 30.609375 6.203125 \r\nQ 37.796875 6.203125 41.984375 11.859375 \r\nQ 46.1875 17.53125 46.1875 27.296875 \r\nQ 46.1875 37.015625 41.984375 42.703125 \r\nQ 37.796875 48.390625 30.609375 48.390625 \r\nz\r\nM 30.609375 56 \r\nQ 42.328125 56 49.015625 48.375 \r\nQ 55.71875 40.765625 55.71875 27.296875 \r\nQ 55.71875 13.875 49.015625 6.21875 \r\nQ 42.328125 -1.421875 30.609375 -1.421875 \r\nQ 18.84375 -1.421875 12.171875 6.21875 \r\nQ 5.515625 13.875 5.515625 27.296875 \r\nQ 5.515625 40.765625 12.171875 48.375 \r\nQ 18.84375 56 30.609375 56 \r\nz\r\n\" id=\"DejaVuSans-111\"/>\r\n       <path d=\"M 54.890625 33.015625 \r\nL 54.890625 0 \r\nL 45.90625 0 \r\nL 45.90625 32.71875 \r\nQ 45.90625 40.484375 42.875 44.328125 \r\nQ 39.84375 48.1875 33.796875 48.1875 \r\nQ 26.515625 48.1875 22.3125 43.546875 \r\nQ 18.109375 38.921875 18.109375 30.90625 \r\nL 18.109375 0 \r\nL 9.078125 0 \r\nL 9.078125 54.6875 \r\nL 18.109375 54.6875 \r\nL 18.109375 46.1875 \r\nQ 21.34375 51.125 25.703125 53.5625 \r\nQ 30.078125 56 35.796875 56 \r\nQ 45.21875 56 50.046875 50.171875 \r\nQ 54.890625 44.34375 54.890625 33.015625 \r\nz\r\n\" id=\"DejaVuSans-110\"/>\r\n       <path d=\"M 18.3125 70.21875 \r\nL 18.3125 54.6875 \r\nL 36.8125 54.6875 \r\nL 36.8125 47.703125 \r\nL 18.3125 47.703125 \r\nL 18.3125 18.015625 \r\nQ 18.3125 11.328125 20.140625 9.421875 \r\nQ 21.96875 7.515625 27.59375 7.515625 \r\nL 36.8125 7.515625 \r\nL 36.8125 0 \r\nL 27.59375 0 \r\nQ 17.1875 0 13.234375 3.875 \r\nQ 9.28125 7.765625 9.28125 18.015625 \r\nL 9.28125 47.703125 \r\nL 2.6875 47.703125 \r\nL 2.6875 54.6875 \r\nL 9.28125 54.6875 \r\nL 9.28125 70.21875 \r\nz\r\n\" id=\"DejaVuSans-116\"/>\r\n      </defs>\r\n      <use xlink:href=\"#DejaVuSans-99\"/>\r\n      <use x=\"54.980469\" xlink:href=\"#DejaVuSans-111\"/>\r\n      <use x=\"116.162109\" xlink:href=\"#DejaVuSans-110\"/>\r\n      <use x=\"179.541016\" xlink:href=\"#DejaVuSans-116\"/>\r\n     </g>\r\n    </g>\r\n   </g>\r\n  </g>\r\n </g>\r\n</svg>\r\n",
      "image/png": "[encoded data removed]"
     },
     "metadata": {
      "needs_background": "light"
     }
    },
    {
     "output_type": "execute_result",
     "data": {
      "text/plain": [
       "<IPython.lib.display.IFrame at 0x1e909e9ff70>"
      ],
      "text/html": "\n        <iframe\n            width=\"100%\"\n            height=\"800px\"\n            src=\"../visualization_result/geo_net.html\"\n            frameborder=\"0\"\n            allowfullscreen\n        ></iframe>\n        "
     },
     "metadata": {},
     "execution_count": 10
    }
   ],
   "source": [
    "draw_BN(bn_geo, geo_types, 'geo_net')"
   ]
  },
  {
   "cell_type": "code",
   "execution_count": 11,
   "metadata": {},
   "outputs": [],
   "source": [
    "params = parameter_learning(geo_train, geo_types, bn_geo)"
   ]
  },
  {
   "cell_type": "code",
   "execution_count": 12,
   "metadata": {},
   "outputs": [],
   "source": [
    "save_structure(bn_geo, 'geo_net')\n",
    "skel = read_structure('geo_net')\n",
    "save_params(params, 'geo_net_param')\n",
    "params = read_params('geo_net_param')\n",
    "geo_bn = HyBayesianNetwork(skel, params)"
   ]
  },
  {
   "cell_type": "code",
   "execution_count": 13,
   "metadata": {},
   "outputs": [
    {
     "output_type": "stream",
     "name": "stdout",
     "text": [
      "3\n",
      "6\n",
      "7\n",
      "7\n",
      "11\n",
      "12\n",
      "12\n",
      "13\n",
      "17\n",
      "18\n",
      "21\n",
      "21\n",
      "22\n",
      "22\n",
      "27\n",
      "27\n",
      "29\n",
      "32\n",
      "34\n",
      "35\n",
      "36\n",
      "39\n",
      "42\n"
     ]
    }
   ],
   "source": [
    "acc, rmse, real_data, pred_data = calculate_acc(geo_bn, geo_test, columns)"
   ]
  },
  {
   "cell_type": "code",
   "execution_count": 14,
   "metadata": {},
   "outputs": [
    {
     "output_type": "execute_result",
     "data": {
      "text/plain": [
       "{'Tectonic regime': 0.58,\n",
       " 'Period': 0.27,\n",
       " 'Lithology': 0.51,\n",
       " 'Structural setting': 0.31,\n",
       " 'Hydrocarbon type': 0.67}"
      ]
     },
     "metadata": {},
     "execution_count": 14
    }
   ],
   "source": [
    "acc"
   ]
  },
  {
   "cell_type": "code",
   "execution_count": 15,
   "metadata": {},
   "outputs": [
    {
     "output_type": "execute_result",
     "data": {
      "text/plain": [
       "{'Gross': 403.23,\n",
       " 'Netpay': 117.87,\n",
       " 'Porosity': 4.14,\n",
       " 'Permeability': 911.19,\n",
       " 'Depth': 1294.79}"
      ]
     },
     "metadata": {},
     "execution_count": 15
    }
   ],
   "source": [
    "rmse"
   ]
  },
  {
   "cell_type": "code",
   "execution_count": 16,
   "metadata": {},
   "outputs": [],
   "source": [
    "for key in acc.keys():\n",
    "    df_result_accuracy = df_result_accuracy.append({'Parameter': key, 'Strategy': 'HC', 'Alg':'D+M','accuracy':acc[key]}, ignore_index=True)\n",
    "for key in rmse.keys():\n",
    "    df_result_rmse = df_result_rmse.append({'Parameter': key, 'Strategy': 'HC', 'Alg':'D+M','rmse':rmse[key]}, ignore_index=True)"
   ]
  },
  {
   "source": [
    "# Смешанная структура + смешанные параметры"
   ],
   "cell_type": "markdown",
   "metadata": {}
  },
  {
   "cell_type": "code",
   "execution_count": 17,
   "metadata": {},
   "outputs": [],
   "source": [
    "bn_geo = structure_learning(geo_coded, 'HC', 'MI', geo_types)"
   ]
  },
  {
   "cell_type": "code",
   "execution_count": 18,
   "metadata": {},
   "outputs": [
    {
     "output_type": "display_data",
     "data": {
      "text/plain": "<Figure size 2025x225 with 1 Axes>",
      "image/svg+xml": "<?xml version=\"1.0\" encoding=\"utf-8\" standalone=\"no\"?>\r\n<!DOCTYPE svg PUBLIC \"-//W3C//DTD SVG 1.1//EN\"\r\n  \"http://www.w3.org/Graphics/SVG/1.1/DTD/svg11.dtd\">\r\n<!-- Created with matplotlib (https://matplotlib.org/) -->\r\n<svg height=\"100.8pt\" version=\"1.1\" viewBox=\"0 0 964.8 100.8\" width=\"964.8pt\" xmlns=\"http://www.w3.org/2000/svg\" xmlns:xlink=\"http://www.w3.org/1999/xlink\">\r\n <metadata>\r\n  <rdf:RDF xmlns:cc=\"http://creativecommons.org/ns#\" xmlns:dc=\"http://purl.org/dc/elements/1.1/\" xmlns:rdf=\"http://www.w3.org/1999/02/22-rdf-syntax-ns#\">\r\n   <cc:Work>\r\n    <dc:type rdf:resource=\"http://purl.org/dc/dcmitype/StillImage\"/>\r\n    <dc:date>2021-05-01T14:56:26.458011</dc:date>\r\n    <dc:format>image/svg+xml</dc:format>\r\n    <dc:creator>\r\n     <cc:Agent>\r\n      <dc:title>Matplotlib v3.3.4, https://matplotlib.org/</dc:title>\r\n     </cc:Agent>\r\n    </dc:creator>\r\n   </cc:Work>\r\n  </rdf:RDF>\r\n </metadata>\r\n <defs>\r\n  <style type=\"text/css\">*{stroke-linecap:butt;stroke-linejoin:round;}</style>\r\n </defs>\r\n <g id=\"figure_1\">\r\n  <g id=\"patch_1\">\r\n   <path d=\"M 0 100.8 \r\nL 964.8 100.8 \r\nL 964.8 0 \r\nL 0 0 \r\nz\r\n\" style=\"fill:none;\"/>\r\n  </g>\r\n  <g id=\"axes_1\">\r\n   <g id=\"legend_1\">\r\n    <g id=\"patch_2\">\r\n     <path d=\"M 421.545312 59.239062 \r\nL 543.254687 59.239062 \r\nQ 545.254687 59.239062 545.254687 57.239062 \r\nL 545.254687 43.560937 \r\nQ 545.254687 41.560937 543.254687 41.560937 \r\nL 421.545312 41.560937 \r\nQ 419.545312 41.560937 419.545312 43.560937 \r\nL 419.545312 57.239062 \r\nQ 419.545312 59.239062 421.545312 59.239062 \r\nz\r\n\" style=\"fill:#ffffff;opacity:0.8;stroke:#cccccc;stroke-linejoin:miter;\"/>\r\n    </g>\r\n    <g id=\"patch_3\">\r\n     <path d=\"M 423.545312 53.159375 \r\nL 443.545312 53.159375 \r\nL 443.545312 46.159375 \r\nL 423.545312 46.159375 \r\nz\r\n\" style=\"fill:#9467bd;stroke:#9467bd;stroke-linejoin:miter;\"/>\r\n    </g>\r\n    <g id=\"text_1\">\r\n     <!-- disc -->\r\n     <g transform=\"translate(451.545312 53.159375)scale(0.1 -0.1)\">\r\n      <defs>\r\n       <path d=\"M 45.40625 46.390625 \r\nL 45.40625 75.984375 \r\nL 54.390625 75.984375 \r\nL 54.390625 0 \r\nL 45.40625 0 \r\nL 45.40625 8.203125 \r\nQ 42.578125 3.328125 38.25 0.953125 \r\nQ 33.9375 -1.421875 27.875 -1.421875 \r\nQ 17.96875 -1.421875 11.734375 6.484375 \r\nQ 5.515625 14.40625 5.515625 27.296875 \r\nQ 5.515625 40.1875 11.734375 48.09375 \r\nQ 17.96875 56 27.875 56 \r\nQ 33.9375 56 38.25 53.625 \r\nQ 42.578125 51.265625 45.40625 46.390625 \r\nz\r\nM 14.796875 27.296875 \r\nQ 14.796875 17.390625 18.875 11.75 \r\nQ 22.953125 6.109375 30.078125 6.109375 \r\nQ 37.203125 6.109375 41.296875 11.75 \r\nQ 45.40625 17.390625 45.40625 27.296875 \r\nQ 45.40625 37.203125 41.296875 42.84375 \r\nQ 37.203125 48.484375 30.078125 48.484375 \r\nQ 22.953125 48.484375 18.875 42.84375 \r\nQ 14.796875 37.203125 14.796875 27.296875 \r\nz\r\n\" id=\"DejaVuSans-100\"/>\r\n       <path d=\"M 9.421875 54.6875 \r\nL 18.40625 54.6875 \r\nL 18.40625 0 \r\nL 9.421875 0 \r\nz\r\nM 9.421875 75.984375 \r\nL 18.40625 75.984375 \r\nL 18.40625 64.59375 \r\nL 9.421875 64.59375 \r\nz\r\n\" id=\"DejaVuSans-105\"/>\r\n       <path d=\"M 44.28125 53.078125 \r\nL 44.28125 44.578125 \r\nQ 40.484375 46.53125 36.375 47.5 \r\nQ 32.28125 48.484375 27.875 48.484375 \r\nQ 21.1875 48.484375 17.84375 46.4375 \r\nQ 14.5 44.390625 14.5 40.28125 \r\nQ 14.5 37.15625 16.890625 35.375 \r\nQ 19.28125 33.59375 26.515625 31.984375 \r\nL 29.59375 31.296875 \r\nQ 39.15625 29.25 43.1875 25.515625 \r\nQ 47.21875 21.78125 47.21875 15.09375 \r\nQ 47.21875 7.46875 41.1875 3.015625 \r\nQ 35.15625 -1.421875 24.609375 -1.421875 \r\nQ 20.21875 -1.421875 15.453125 -0.5625 \r\nQ 10.6875 0.296875 5.421875 2 \r\nL 5.421875 11.28125 \r\nQ 10.40625 8.6875 15.234375 7.390625 \r\nQ 20.0625 6.109375 24.8125 6.109375 \r\nQ 31.15625 6.109375 34.5625 8.28125 \r\nQ 37.984375 10.453125 37.984375 14.40625 \r\nQ 37.984375 18.0625 35.515625 20.015625 \r\nQ 33.0625 21.96875 24.703125 23.78125 \r\nL 21.578125 24.515625 \r\nQ 13.234375 26.265625 9.515625 29.90625 \r\nQ 5.8125 33.546875 5.8125 39.890625 \r\nQ 5.8125 47.609375 11.28125 51.796875 \r\nQ 16.75 56 26.8125 56 \r\nQ 31.78125 56 36.171875 55.265625 \r\nQ 40.578125 54.546875 44.28125 53.078125 \r\nz\r\n\" id=\"DejaVuSans-115\"/>\r\n       <path d=\"M 48.78125 52.59375 \r\nL 48.78125 44.1875 \r\nQ 44.96875 46.296875 41.140625 47.34375 \r\nQ 37.3125 48.390625 33.40625 48.390625 \r\nQ 24.65625 48.390625 19.8125 42.84375 \r\nQ 14.984375 37.3125 14.984375 27.296875 \r\nQ 14.984375 17.28125 19.8125 11.734375 \r\nQ 24.65625 6.203125 33.40625 6.203125 \r\nQ 37.3125 6.203125 41.140625 7.25 \r\nQ 44.96875 8.296875 48.78125 10.40625 \r\nL 48.78125 2.09375 \r\nQ 45.015625 0.34375 40.984375 -0.53125 \r\nQ 36.96875 -1.421875 32.421875 -1.421875 \r\nQ 20.0625 -1.421875 12.78125 6.34375 \r\nQ 5.515625 14.109375 5.515625 27.296875 \r\nQ 5.515625 40.671875 12.859375 48.328125 \r\nQ 20.21875 56 33.015625 56 \r\nQ 37.15625 56 41.109375 55.140625 \r\nQ 45.0625 54.296875 48.78125 52.59375 \r\nz\r\n\" id=\"DejaVuSans-99\"/>\r\n      </defs>\r\n      <use xlink:href=\"#DejaVuSans-100\"/>\r\n      <use x=\"63.476562\" xlink:href=\"#DejaVuSans-105\"/>\r\n      <use x=\"91.259766\" xlink:href=\"#DejaVuSans-115\"/>\r\n      <use x=\"143.359375\" xlink:href=\"#DejaVuSans-99\"/>\r\n     </g>\r\n    </g>\r\n    <g id=\"patch_4\">\r\n     <path d=\"M 491.379687 53.159375 \r\nL 511.379687 53.159375 \r\nL 511.379687 46.159375 \r\nL 491.379687 46.159375 \r\nz\r\n\" style=\"fill:#17becf;stroke:#17becf;stroke-linejoin:miter;\"/>\r\n    </g>\r\n    <g id=\"text_2\">\r\n     <!-- cont -->\r\n     <g transform=\"translate(519.379687 53.159375)scale(0.1 -0.1)\">\r\n      <defs>\r\n       <path d=\"M 30.609375 48.390625 \r\nQ 23.390625 48.390625 19.1875 42.75 \r\nQ 14.984375 37.109375 14.984375 27.296875 \r\nQ 14.984375 17.484375 19.15625 11.84375 \r\nQ 23.34375 6.203125 30.609375 6.203125 \r\nQ 37.796875 6.203125 41.984375 11.859375 \r\nQ 46.1875 17.53125 46.1875 27.296875 \r\nQ 46.1875 37.015625 41.984375 42.703125 \r\nQ 37.796875 48.390625 30.609375 48.390625 \r\nz\r\nM 30.609375 56 \r\nQ 42.328125 56 49.015625 48.375 \r\nQ 55.71875 40.765625 55.71875 27.296875 \r\nQ 55.71875 13.875 49.015625 6.21875 \r\nQ 42.328125 -1.421875 30.609375 -1.421875 \r\nQ 18.84375 -1.421875 12.171875 6.21875 \r\nQ 5.515625 13.875 5.515625 27.296875 \r\nQ 5.515625 40.765625 12.171875 48.375 \r\nQ 18.84375 56 30.609375 56 \r\nz\r\n\" id=\"DejaVuSans-111\"/>\r\n       <path d=\"M 54.890625 33.015625 \r\nL 54.890625 0 \r\nL 45.90625 0 \r\nL 45.90625 32.71875 \r\nQ 45.90625 40.484375 42.875 44.328125 \r\nQ 39.84375 48.1875 33.796875 48.1875 \r\nQ 26.515625 48.1875 22.3125 43.546875 \r\nQ 18.109375 38.921875 18.109375 30.90625 \r\nL 18.109375 0 \r\nL 9.078125 0 \r\nL 9.078125 54.6875 \r\nL 18.109375 54.6875 \r\nL 18.109375 46.1875 \r\nQ 21.34375 51.125 25.703125 53.5625 \r\nQ 30.078125 56 35.796875 56 \r\nQ 45.21875 56 50.046875 50.171875 \r\nQ 54.890625 44.34375 54.890625 33.015625 \r\nz\r\n\" id=\"DejaVuSans-110\"/>\r\n       <path d=\"M 18.3125 70.21875 \r\nL 18.3125 54.6875 \r\nL 36.8125 54.6875 \r\nL 36.8125 47.703125 \r\nL 18.3125 47.703125 \r\nL 18.3125 18.015625 \r\nQ 18.3125 11.328125 20.140625 9.421875 \r\nQ 21.96875 7.515625 27.59375 7.515625 \r\nL 36.8125 7.515625 \r\nL 36.8125 0 \r\nL 27.59375 0 \r\nQ 17.1875 0 13.234375 3.875 \r\nQ 9.28125 7.765625 9.28125 18.015625 \r\nL 9.28125 47.703125 \r\nL 2.6875 47.703125 \r\nL 2.6875 54.6875 \r\nL 9.28125 54.6875 \r\nL 9.28125 70.21875 \r\nz\r\n\" id=\"DejaVuSans-116\"/>\r\n      </defs>\r\n      <use xlink:href=\"#DejaVuSans-99\"/>\r\n      <use x=\"54.980469\" xlink:href=\"#DejaVuSans-111\"/>\r\n      <use x=\"116.162109\" xlink:href=\"#DejaVuSans-110\"/>\r\n      <use x=\"179.541016\" xlink:href=\"#DejaVuSans-116\"/>\r\n     </g>\r\n    </g>\r\n   </g>\r\n  </g>\r\n </g>\r\n</svg>\r\n",
      "image/png": "[encoded data removed]"
     },
     "metadata": {
      "needs_background": "light"
     }
    },
    {
     "output_type": "execute_result",
     "data": {
      "text/plain": [
       "<IPython.lib.display.IFrame at 0x1e90bf050a0>"
      ],
      "text/html": "\n        <iframe\n            width=\"100%\"\n            height=\"800px\"\n            src=\"../visualization_result/geo_net.html\"\n            frameborder=\"0\"\n            allowfullscreen\n        ></iframe>\n        "
     },
     "metadata": {},
     "execution_count": 18
    }
   ],
   "source": [
    "draw_BN(bn_geo, geo_types, 'geo_net')"
   ]
  },
  {
   "cell_type": "code",
   "execution_count": 19,
   "metadata": {},
   "outputs": [],
   "source": [
    "params = parameter_learning(geo_train, geo_types, bn_geo)"
   ]
  },
  {
   "cell_type": "code",
   "execution_count": 20,
   "metadata": {},
   "outputs": [],
   "source": [
    "save_structure(bn_geo, 'geo_net')\n",
    "skel = read_structure('geo_net')\n",
    "save_params(params, 'geo_net_param')\n",
    "params = read_params('geo_net_param')\n",
    "geo_bn = HyBayesianNetwork(skel, params)"
   ]
  },
  {
   "cell_type": "code",
   "execution_count": 21,
   "metadata": {},
   "outputs": [
    {
     "output_type": "stream",
     "name": "stdout",
     "text": [
      "3\n",
      "3\n",
      "3\n",
      "3\n",
      "3\n",
      "6\n",
      "6\n",
      "6\n",
      "6\n",
      "6\n",
      "7\n",
      "7\n",
      "7\n",
      "7\n",
      "7\n",
      "7\n",
      "12\n",
      "12\n",
      "12\n",
      "12\n",
      "12\n",
      "12\n",
      "13\n",
      "13\n",
      "13\n",
      "13\n",
      "13\n",
      "18\n",
      "18\n",
      "18\n",
      "18\n",
      "18\n",
      "21\n",
      "21\n",
      "21\n",
      "21\n",
      "21\n",
      "21\n",
      "22\n",
      "22\n",
      "22\n",
      "22\n",
      "22\n",
      "26\n",
      "26\n",
      "26\n",
      "26\n",
      "26\n",
      "27\n",
      "27\n",
      "27\n",
      "27\n",
      "27\n",
      "27\n",
      "32\n",
      "32\n",
      "32\n",
      "32\n",
      "32\n",
      "34\n",
      "34\n",
      "34\n",
      "34\n",
      "34\n",
      "36\n",
      "36\n",
      "36\n",
      "36\n",
      "36\n",
      "42\n",
      "42\n",
      "42\n",
      "42\n",
      "42\n"
     ]
    }
   ],
   "source": [
    "acc, rmse, real, pred = calculate_acc(geo_bn, geo_test, columns)"
   ]
  },
  {
   "cell_type": "code",
   "execution_count": 22,
   "metadata": {},
   "outputs": [
    {
     "output_type": "execute_result",
     "data": {
      "text/plain": [
       "{'Tectonic regime': 0.58,\n",
       " 'Period': 0.27,\n",
       " 'Lithology': 0.53,\n",
       " 'Structural setting': 0.31,\n",
       " 'Hydrocarbon type': 0.67}"
      ]
     },
     "metadata": {},
     "execution_count": 22
    }
   ],
   "source": [
    "acc"
   ]
  },
  {
   "cell_type": "code",
   "execution_count": 23,
   "metadata": {},
   "outputs": [
    {
     "output_type": "execute_result",
     "data": {
      "text/plain": [
       "{'Gross': 265.77,\n",
       " 'Netpay': 55.15,\n",
       " 'Porosity': 4.23,\n",
       " 'Permeability': 488.44,\n",
       " 'Depth': 831.7}"
      ]
     },
     "metadata": {},
     "execution_count": 23
    }
   ],
   "source": [
    "rmse"
   ]
  },
  {
   "cell_type": "code",
   "execution_count": 24,
   "metadata": {},
   "outputs": [],
   "source": [
    "for key in acc.keys():\n",
    "    df_result_accuracy = df_result_accuracy.append({'Parameter': key, 'Strategy': 'HC', 'Alg':'M+M','accuracy':acc[key]}, ignore_index=True)\n",
    "for key in rmse.keys():\n",
    "    df_result_rmse = df_result_rmse.append({'Parameter': key, 'Strategy': 'HC', 'Alg':'M+M','rmse':rmse[key]}, ignore_index=True)"
   ]
  },
  {
   "source": [
    "# Дискретная стурктура + дискретные параметры"
   ],
   "cell_type": "markdown",
   "metadata": {}
  },
  {
   "cell_type": "code",
   "execution_count": 25,
   "metadata": {},
   "outputs": [],
   "source": [
    "geo_new_types = {'Tectonic regime': 'disc',\n",
    " 'Period': 'disc',\n",
    " 'Lithology': 'disc',\n",
    " 'Structural setting': 'disc',\n",
    " 'Hydrocarbon type': 'disc',\n",
    " 'Gross': 'disc',\n",
    " 'Netpay': 'disc',\n",
    " 'Porosity': 'disc',\n",
    " 'Permeability': 'disc',\n",
    " 'Depth': 'disc'}"
   ]
  },
  {
   "cell_type": "code",
   "execution_count": 26,
   "metadata": {},
   "outputs": [],
   "source": [
    "bn_geo = structure_learning(geo_discrete, 'HC', 'MI', geo_new_types)"
   ]
  },
  {
   "cell_type": "code",
   "execution_count": 27,
   "metadata": {},
   "outputs": [
    {
     "output_type": "display_data",
     "data": {
      "text/plain": "<Figure size 2025x225 with 1 Axes>",
      "image/svg+xml": "<?xml version=\"1.0\" encoding=\"utf-8\" standalone=\"no\"?>\r\n<!DOCTYPE svg PUBLIC \"-//W3C//DTD SVG 1.1//EN\"\r\n  \"http://www.w3.org/Graphics/SVG/1.1/DTD/svg11.dtd\">\r\n<!-- Created with matplotlib (https://matplotlib.org/) -->\r\n<svg height=\"100.8pt\" version=\"1.1\" viewBox=\"0 0 964.8 100.8\" width=\"964.8pt\" xmlns=\"http://www.w3.org/2000/svg\" xmlns:xlink=\"http://www.w3.org/1999/xlink\">\r\n <metadata>\r\n  <rdf:RDF xmlns:cc=\"http://creativecommons.org/ns#\" xmlns:dc=\"http://purl.org/dc/elements/1.1/\" xmlns:rdf=\"http://www.w3.org/1999/02/22-rdf-syntax-ns#\">\r\n   <cc:Work>\r\n    <dc:type rdf:resource=\"http://purl.org/dc/dcmitype/StillImage\"/>\r\n    <dc:date>2021-05-01T14:57:03.075975</dc:date>\r\n    <dc:format>image/svg+xml</dc:format>\r\n    <dc:creator>\r\n     <cc:Agent>\r\n      <dc:title>Matplotlib v3.3.4, https://matplotlib.org/</dc:title>\r\n     </cc:Agent>\r\n    </dc:creator>\r\n   </cc:Work>\r\n  </rdf:RDF>\r\n </metadata>\r\n <defs>\r\n  <style type=\"text/css\">*{stroke-linecap:butt;stroke-linejoin:round;}</style>\r\n </defs>\r\n <g id=\"figure_1\">\r\n  <g id=\"patch_1\">\r\n   <path d=\"M 0 100.8 \r\nL 964.8 100.8 \r\nL 964.8 0 \r\nL 0 0 \r\nz\r\n\" style=\"fill:none;\"/>\r\n  </g>\r\n  <g id=\"axes_1\">\r\n   <g id=\"legend_1\">\r\n    <g id=\"patch_2\">\r\n     <path d=\"M 421.545312 59.239062 \r\nL 543.254687 59.239062 \r\nQ 545.254687 59.239062 545.254687 57.239062 \r\nL 545.254687 43.560937 \r\nQ 545.254687 41.560937 543.254687 41.560937 \r\nL 421.545312 41.560937 \r\nQ 419.545312 41.560937 419.545312 43.560937 \r\nL 419.545312 57.239062 \r\nQ 419.545312 59.239062 421.545312 59.239062 \r\nz\r\n\" style=\"fill:#ffffff;opacity:0.8;stroke:#cccccc;stroke-linejoin:miter;\"/>\r\n    </g>\r\n    <g id=\"patch_3\">\r\n     <path d=\"M 423.545312 53.159375 \r\nL 443.545312 53.159375 \r\nL 443.545312 46.159375 \r\nL 423.545312 46.159375 \r\nz\r\n\" style=\"fill:#9467bd;stroke:#9467bd;stroke-linejoin:miter;\"/>\r\n    </g>\r\n    <g id=\"text_1\">\r\n     <!-- disc -->\r\n     <g transform=\"translate(451.545312 53.159375)scale(0.1 -0.1)\">\r\n      <defs>\r\n       <path d=\"M 45.40625 46.390625 \r\nL 45.40625 75.984375 \r\nL 54.390625 75.984375 \r\nL 54.390625 0 \r\nL 45.40625 0 \r\nL 45.40625 8.203125 \r\nQ 42.578125 3.328125 38.25 0.953125 \r\nQ 33.9375 -1.421875 27.875 -1.421875 \r\nQ 17.96875 -1.421875 11.734375 6.484375 \r\nQ 5.515625 14.40625 5.515625 27.296875 \r\nQ 5.515625 40.1875 11.734375 48.09375 \r\nQ 17.96875 56 27.875 56 \r\nQ 33.9375 56 38.25 53.625 \r\nQ 42.578125 51.265625 45.40625 46.390625 \r\nz\r\nM 14.796875 27.296875 \r\nQ 14.796875 17.390625 18.875 11.75 \r\nQ 22.953125 6.109375 30.078125 6.109375 \r\nQ 37.203125 6.109375 41.296875 11.75 \r\nQ 45.40625 17.390625 45.40625 27.296875 \r\nQ 45.40625 37.203125 41.296875 42.84375 \r\nQ 37.203125 48.484375 30.078125 48.484375 \r\nQ 22.953125 48.484375 18.875 42.84375 \r\nQ 14.796875 37.203125 14.796875 27.296875 \r\nz\r\n\" id=\"DejaVuSans-100\"/>\r\n       <path d=\"M 9.421875 54.6875 \r\nL 18.40625 54.6875 \r\nL 18.40625 0 \r\nL 9.421875 0 \r\nz\r\nM 9.421875 75.984375 \r\nL 18.40625 75.984375 \r\nL 18.40625 64.59375 \r\nL 9.421875 64.59375 \r\nz\r\n\" id=\"DejaVuSans-105\"/>\r\n       <path d=\"M 44.28125 53.078125 \r\nL 44.28125 44.578125 \r\nQ 40.484375 46.53125 36.375 47.5 \r\nQ 32.28125 48.484375 27.875 48.484375 \r\nQ 21.1875 48.484375 17.84375 46.4375 \r\nQ 14.5 44.390625 14.5 40.28125 \r\nQ 14.5 37.15625 16.890625 35.375 \r\nQ 19.28125 33.59375 26.515625 31.984375 \r\nL 29.59375 31.296875 \r\nQ 39.15625 29.25 43.1875 25.515625 \r\nQ 47.21875 21.78125 47.21875 15.09375 \r\nQ 47.21875 7.46875 41.1875 3.015625 \r\nQ 35.15625 -1.421875 24.609375 -1.421875 \r\nQ 20.21875 -1.421875 15.453125 -0.5625 \r\nQ 10.6875 0.296875 5.421875 2 \r\nL 5.421875 11.28125 \r\nQ 10.40625 8.6875 15.234375 7.390625 \r\nQ 20.0625 6.109375 24.8125 6.109375 \r\nQ 31.15625 6.109375 34.5625 8.28125 \r\nQ 37.984375 10.453125 37.984375 14.40625 \r\nQ 37.984375 18.0625 35.515625 20.015625 \r\nQ 33.0625 21.96875 24.703125 23.78125 \r\nL 21.578125 24.515625 \r\nQ 13.234375 26.265625 9.515625 29.90625 \r\nQ 5.8125 33.546875 5.8125 39.890625 \r\nQ 5.8125 47.609375 11.28125 51.796875 \r\nQ 16.75 56 26.8125 56 \r\nQ 31.78125 56 36.171875 55.265625 \r\nQ 40.578125 54.546875 44.28125 53.078125 \r\nz\r\n\" id=\"DejaVuSans-115\"/>\r\n       <path d=\"M 48.78125 52.59375 \r\nL 48.78125 44.1875 \r\nQ 44.96875 46.296875 41.140625 47.34375 \r\nQ 37.3125 48.390625 33.40625 48.390625 \r\nQ 24.65625 48.390625 19.8125 42.84375 \r\nQ 14.984375 37.3125 14.984375 27.296875 \r\nQ 14.984375 17.28125 19.8125 11.734375 \r\nQ 24.65625 6.203125 33.40625 6.203125 \r\nQ 37.3125 6.203125 41.140625 7.25 \r\nQ 44.96875 8.296875 48.78125 10.40625 \r\nL 48.78125 2.09375 \r\nQ 45.015625 0.34375 40.984375 -0.53125 \r\nQ 36.96875 -1.421875 32.421875 -1.421875 \r\nQ 20.0625 -1.421875 12.78125 6.34375 \r\nQ 5.515625 14.109375 5.515625 27.296875 \r\nQ 5.515625 40.671875 12.859375 48.328125 \r\nQ 20.21875 56 33.015625 56 \r\nQ 37.15625 56 41.109375 55.140625 \r\nQ 45.0625 54.296875 48.78125 52.59375 \r\nz\r\n\" id=\"DejaVuSans-99\"/>\r\n      </defs>\r\n      <use xlink:href=\"#DejaVuSans-100\"/>\r\n      <use x=\"63.476562\" xlink:href=\"#DejaVuSans-105\"/>\r\n      <use x=\"91.259766\" xlink:href=\"#DejaVuSans-115\"/>\r\n      <use x=\"143.359375\" xlink:href=\"#DejaVuSans-99\"/>\r\n     </g>\r\n    </g>\r\n    <g id=\"patch_4\">\r\n     <path d=\"M 491.379687 53.159375 \r\nL 511.379687 53.159375 \r\nL 511.379687 46.159375 \r\nL 491.379687 46.159375 \r\nz\r\n\" style=\"fill:#17becf;stroke:#17becf;stroke-linejoin:miter;\"/>\r\n    </g>\r\n    <g id=\"text_2\">\r\n     <!-- cont -->\r\n     <g transform=\"translate(519.379687 53.159375)scale(0.1 -0.1)\">\r\n      <defs>\r\n       <path d=\"M 30.609375 48.390625 \r\nQ 23.390625 48.390625 19.1875 42.75 \r\nQ 14.984375 37.109375 14.984375 27.296875 \r\nQ 14.984375 17.484375 19.15625 11.84375 \r\nQ 23.34375 6.203125 30.609375 6.203125 \r\nQ 37.796875 6.203125 41.984375 11.859375 \r\nQ 46.1875 17.53125 46.1875 27.296875 \r\nQ 46.1875 37.015625 41.984375 42.703125 \r\nQ 37.796875 48.390625 30.609375 48.390625 \r\nz\r\nM 30.609375 56 \r\nQ 42.328125 56 49.015625 48.375 \r\nQ 55.71875 40.765625 55.71875 27.296875 \r\nQ 55.71875 13.875 49.015625 6.21875 \r\nQ 42.328125 -1.421875 30.609375 -1.421875 \r\nQ 18.84375 -1.421875 12.171875 6.21875 \r\nQ 5.515625 13.875 5.515625 27.296875 \r\nQ 5.515625 40.765625 12.171875 48.375 \r\nQ 18.84375 56 30.609375 56 \r\nz\r\n\" id=\"DejaVuSans-111\"/>\r\n       <path d=\"M 54.890625 33.015625 \r\nL 54.890625 0 \r\nL 45.90625 0 \r\nL 45.90625 32.71875 \r\nQ 45.90625 40.484375 42.875 44.328125 \r\nQ 39.84375 48.1875 33.796875 48.1875 \r\nQ 26.515625 48.1875 22.3125 43.546875 \r\nQ 18.109375 38.921875 18.109375 30.90625 \r\nL 18.109375 0 \r\nL 9.078125 0 \r\nL 9.078125 54.6875 \r\nL 18.109375 54.6875 \r\nL 18.109375 46.1875 \r\nQ 21.34375 51.125 25.703125 53.5625 \r\nQ 30.078125 56 35.796875 56 \r\nQ 45.21875 56 50.046875 50.171875 \r\nQ 54.890625 44.34375 54.890625 33.015625 \r\nz\r\n\" id=\"DejaVuSans-110\"/>\r\n       <path d=\"M 18.3125 70.21875 \r\nL 18.3125 54.6875 \r\nL 36.8125 54.6875 \r\nL 36.8125 47.703125 \r\nL 18.3125 47.703125 \r\nL 18.3125 18.015625 \r\nQ 18.3125 11.328125 20.140625 9.421875 \r\nQ 21.96875 7.515625 27.59375 7.515625 \r\nL 36.8125 7.515625 \r\nL 36.8125 0 \r\nL 27.59375 0 \r\nQ 17.1875 0 13.234375 3.875 \r\nQ 9.28125 7.765625 9.28125 18.015625 \r\nL 9.28125 47.703125 \r\nL 2.6875 47.703125 \r\nL 2.6875 54.6875 \r\nL 9.28125 54.6875 \r\nL 9.28125 70.21875 \r\nz\r\n\" id=\"DejaVuSans-116\"/>\r\n      </defs>\r\n      <use xlink:href=\"#DejaVuSans-99\"/>\r\n      <use x=\"54.980469\" xlink:href=\"#DejaVuSans-111\"/>\r\n      <use x=\"116.162109\" xlink:href=\"#DejaVuSans-110\"/>\r\n      <use x=\"179.541016\" xlink:href=\"#DejaVuSans-116\"/>\r\n     </g>\r\n    </g>\r\n   </g>\r\n  </g>\r\n </g>\r\n</svg>\r\n",
      "image/png": "[encoded data removed]"
     },
     "metadata": {
      "needs_background": "light"
     }
    },
    {
     "output_type": "execute_result",
     "data": {
      "text/plain": [
       "<IPython.lib.display.IFrame at 0x1e90bf05a00>"
      ],
      "text/html": "\n        <iframe\n            width=\"100%\"\n            height=\"800px\"\n            src=\"../visualization_result/geo_net.html\"\n            frameborder=\"0\"\n            allowfullscreen\n        ></iframe>\n        "
     },
     "metadata": {},
     "execution_count": 27
    }
   ],
   "source": [
    "draw_BN(bn_geo, geo_types, 'geo_net')"
   ]
  },
  {
   "cell_type": "code",
   "execution_count": 28,
   "metadata": {},
   "outputs": [],
   "source": [
    "params = parameter_learning(geo_only_discrete, geo_new_types, bn_geo)"
   ]
  },
  {
   "cell_type": "code",
   "execution_count": 29,
   "metadata": {},
   "outputs": [],
   "source": [
    "save_structure(bn_geo, 'geo_net')\n",
    "skel = read_structure('geo_net')\n",
    "save_params(params, 'geo_net_param')\n",
    "params = read_params('geo_net_param')\n",
    "geo_bn = HyBayesianNetwork(skel, params)"
   ]
  },
  {
   "cell_type": "code",
   "execution_count": 30,
   "metadata": {},
   "outputs": [],
   "source": [
    "test_discrete = copy(geo_test)"
   ]
  },
  {
   "cell_type": "code",
   "execution_count": 31,
   "metadata": {},
   "outputs": [],
   "source": [
    "test_discrete[columns_for_disc] = discrete_coder.transform(geo_test[columns_for_disc].values) "
   ]
  },
  {
   "cell_type": "code",
   "execution_count": 32,
   "metadata": {},
   "outputs": [
    {
     "output_type": "execute_result",
     "data": {
      "text/plain": [
       "   Tectonic regime                 Period                  Lithology  \\\n",
       "0          GRAVITY               JURASSIC                  LIMESTONE   \n",
       "1        EXTENSION                NEOGENE                  SANDSTONE   \n",
       "2      COMPRESSION             CRETACEOUS                  SANDSTONE   \n",
       "3      COMPRESSION      PALEOGENE-NEOGENE                  LIMESTONE   \n",
       "4          GRAVITY             CRETACEOUS                  SANDSTONE   \n",
       "5        EXTENSION              PALEOGENE                  SANDSTONE   \n",
       "6      COMPRESSION             ORDOVICIAN                  SANDSTONE   \n",
       "7        EXTENSION               MESOZOIC                  VOLCANICS   \n",
       "8      STRIKE-SLIP                NEOGENE                  SANDSTONE   \n",
       "9      COMPRESSION             CRETACEOUS                  LIMESTONE   \n",
       "10     COMPRESSION          CARBONIFEROUS                  SANDSTONE   \n",
       "11     COMPRESSION  CARBONIFEROUS-PERMIAN                  LIMESTONE   \n",
       "12     COMPRESSION       DEVONIAN-PERMIAN                  LIMESTONE   \n",
       "13     COMPRESSION               SILURIAN                   DOLOMITE   \n",
       "14       EXTENSION               JURASSIC                  SANDSTONE   \n",
       "15     COMPRESSION                NEOGENE                  SANDSTONE   \n",
       "16       INVERSION               JURASSIC                   DOLOMITE   \n",
       "17     COMPRESSION                PERMIAN                   DOLOMITE   \n",
       "18     COMPRESSION               SILURIAN                   DOLOMITE   \n",
       "19     COMPRESSION             CRETACEOUS                  SANDSTONE   \n",
       "20     COMPRESSION               DEVONIAN                  LIMESTONE   \n",
       "21       EXTENSION   PALEOZOIC-CRETACEOUS                  SANDSTONE   \n",
       "22       INVERSION             CRETACEOUS      GLAUCONITIC SANDSTONE   \n",
       "23         GRAVITY             CRETACEOUS                  LIMESTONE   \n",
       "24     COMPRESSION          CARBONIFEROUS            SHALY SANDSTONE   \n",
       "25     COMPRESSION          CARBONIFEROUS                  SANDSTONE   \n",
       "26     COMPRESSION             CRETACEOUS                   DOLOMITE   \n",
       "27       EXTENSION              PALEOZOIC                  SANDSTONE   \n",
       "28     COMPRESSION             CRETACEOUS                  SANDSTONE   \n",
       "29     COMPRESSION               JURASSIC                  SANDSTONE   \n",
       "30       INVERSION               JURASSIC                  SANDSTONE   \n",
       "31       EXTENSION              PALEOGENE                  LIMESTONE   \n",
       "32     COMPRESSION   CRETACEOUS-PALEOGENE                  SANDSTONE   \n",
       "33     COMPRESSION             CRETACEOUS  LOW-RESISTIVITY SANDSTONE   \n",
       "34     COMPRESSION   CRETACEOUS-PALEOGENE                  SANDSTONE   \n",
       "35       EXTENSION              PALEOGENE                  SANDSTONE   \n",
       "36     COMPRESSION      PALEOGENE-NEOGENE        DOLOMITIC LIMESTONE   \n",
       "37     COMPRESSION                PERMIAN                   DOLOMITE   \n",
       "38         GRAVITY             CRETACEOUS                  SANDSTONE   \n",
       "39     COMPRESSION             ORDOVICIAN                   DOLOMITE   \n",
       "40     COMPRESSION             CRETACEOUS                  SANDSTONE   \n",
       "41       EXTENSION             CRETACEOUS                  SANDSTONE   \n",
       "42       EXTENSION             ORDOVICIAN                   DOLOMITE   \n",
       "43     COMPRESSION                PERMIAN                   DOLOMITE   \n",
       "44         GRAVITY               JURASSIC                  SANDSTONE   \n",
       "\n",
       "   Structural setting Hydrocarbon type  Gross  Netpay  Porosity  Permeability  \\\n",
       "0                SALT              OIL      1       2         4             3   \n",
       "1                RIFT              OIL      4       1         4             4   \n",
       "2            FORELAND              OIL      0       0         3             1   \n",
       "3            FORELAND              OIL      4       4         3             2   \n",
       "4                SALT              OIL      2       1         4             4   \n",
       "5                RIFT              OIL      1       1         4             4   \n",
       "6       INTRACRATONIC              GAS      4       3         0             0   \n",
       "7                RIFT              OIL      3       3         1             0   \n",
       "8           INVERSION              OIL      4       3         3             2   \n",
       "9                SALT              OIL      2       2         3             2   \n",
       "10           FORELAND              OIL      2       1         3             1   \n",
       "11           SUB-SALT              GAS      4       4         1             0   \n",
       "12           SUB-SALT   GAS-CONDENSATE      4       4         0             1   \n",
       "13           FORELAND              GAS      1       1         0             0   \n",
       "14               RIFT              OIL      4       4         4             4   \n",
       "15           FORELAND              OIL      4       3         3             3   \n",
       "16          INVERSION              GAS      0       1         2             2   \n",
       "17               SALT              OIL      3       3         2             0   \n",
       "18             THRUST              GAS      4       2         0             0   \n",
       "19      INTRACRATONIC              GAS      4       3         4             3   \n",
       "20           FORELAND              OIL      2       1         0             1   \n",
       "21           SUB-SALT              OIL      4       4         2             3   \n",
       "22               RIFT              GAS      0       0         4             4   \n",
       "23     PASSIVE MARGIN              OIL      0       0         1             1   \n",
       "24           FORELAND              GAS      1       0         1             0   \n",
       "25           FORELAND              OIL      0       1         3             3   \n",
       "26           FORELAND              OIL      4       3         1             1   \n",
       "27           SUB-SALT              OIL      4       4         2             2   \n",
       "28      INTRACRATONIC              OIL      4       3         2             0   \n",
       "29         SUB-THRUST   GAS-CONDENSATE      4       4         0             0   \n",
       "30               RIFT              OIL      2       3         3             3   \n",
       "31               RIFT              OIL      2       2         3             4   \n",
       "32             THRUST              OIL      4       4         0             0   \n",
       "33           FORELAND              OIL      0       0         3             2   \n",
       "34         SUB-THRUST              GAS      4       4         2             0   \n",
       "35               RIFT              GAS      3       4         1             3   \n",
       "36           FORELAND              OIL      4       4         0             0   \n",
       "37           FORELAND              OIL      2       2         0             0   \n",
       "38               SALT              OIL      2       1         3             3   \n",
       "39      INTRACRATONIC              OIL      3       1         1             1   \n",
       "40           FORELAND   GAS-CONDENSATE      0       1         1             0   \n",
       "41               RIFT   GAS-CONDENSATE      4       4         1             3   \n",
       "42               RIFT              OIL      3       2         0             1   \n",
       "43           FORELAND              OIL      2       2         1             0   \n",
       "44               SALT   GAS-CONDENSATE      2       3         0             0   \n",
       "\n",
       "    Depth  \n",
       "0       2  \n",
       "1       1  \n",
       "2       1  \n",
       "3       0  \n",
       "4       1  \n",
       "5       1  \n",
       "6       2  \n",
       "7       4  \n",
       "8       1  \n",
       "9       1  \n",
       "10      0  \n",
       "11      1  \n",
       "12      4  \n",
       "13      4  \n",
       "14      1  \n",
       "15      0  \n",
       "16      2  \n",
       "17      3  \n",
       "18      4  \n",
       "19      1  \n",
       "20      3  \n",
       "21      4  \n",
       "22      0  \n",
       "23      3  \n",
       "24      2  \n",
       "25      2  \n",
       "26      2  \n",
       "27      4  \n",
       "28      3  \n",
       "29      4  \n",
       "30      2  \n",
       "31      2  \n",
       "32      4  \n",
       "33      2  \n",
       "34      1  \n",
       "35      4  \n",
       "36      0  \n",
       "37      0  \n",
       "38      2  \n",
       "39      3  \n",
       "40      1  \n",
       "41      4  \n",
       "42      2  \n",
       "43      1  \n",
       "44      4  "
      ],
      "text/html": "<div>\n<style scoped>\n    .dataframe tbody tr th:only-of-type {\n        vertical-align: middle;\n    }\n\n    .dataframe tbody tr th {\n        vertical-align: top;\n    }\n\n    .dataframe thead th {\n        text-align: right;\n    }\n</style>\n<table border=\"1\" class=\"dataframe\">\n  <thead>\n    <tr style=\"text-align: right;\">\n      <th></th>\n      <th>Tectonic regime</th>\n      <th>Period</th>\n      <th>Lithology</th>\n      <th>Structural setting</th>\n      <th>Hydrocarbon type</th>\n      <th>Gross</th>\n      <th>Netpay</th>\n      <th>Porosity</th>\n      <th>Permeability</th>\n      <th>Depth</th>\n    </tr>\n  </thead>\n  <tbody>\n    <tr>\n      <th>0</th>\n      <td>GRAVITY</td>\n      <td>JURASSIC</td>\n      <td>LIMESTONE</td>\n      <td>SALT</td>\n      <td>OIL</td>\n      <td>1</td>\n      <td>2</td>\n      <td>4</td>\n      <td>3</td>\n      <td>2</td>\n    </tr>\n    <tr>\n      <th>1</th>\n      <td>EXTENSION</td>\n      <td>NEOGENE</td>\n      <td>SANDSTONE</td>\n      <td>RIFT</td>\n      <td>OIL</td>\n      <td>4</td>\n      <td>1</td>\n      <td>4</td>\n      <td>4</td>\n      <td>1</td>\n    </tr>\n    <tr>\n      <th>2</th>\n      <td>COMPRESSION</td>\n      <td>CRETACEOUS</td>\n      <td>SANDSTONE</td>\n      <td>FORELAND</td>\n      <td>OIL</td>\n      <td>0</td>\n      <td>0</td>\n      <td>3</td>\n      <td>1</td>\n      <td>1</td>\n    </tr>\n    <tr>\n      <th>3</th>\n      <td>COMPRESSION</td>\n      <td>PALEOGENE-NEOGENE</td>\n      <td>LIMESTONE</td>\n      <td>FORELAND</td>\n      <td>OIL</td>\n      <td>4</td>\n      <td>4</td>\n      <td>3</td>\n      <td>2</td>\n      <td>0</td>\n    </tr>\n    <tr>\n      <th>4</th>\n      <td>GRAVITY</td>\n      <td>CRETACEOUS</td>\n      <td>SANDSTONE</td>\n      <td>SALT</td>\n      <td>OIL</td>\n      <td>2</td>\n      <td>1</td>\n      <td>4</td>\n      <td>4</td>\n      <td>1</td>\n    </tr>\n    <tr>\n      <th>5</th>\n      <td>EXTENSION</td>\n      <td>PALEOGENE</td>\n      <td>SANDSTONE</td>\n      <td>RIFT</td>\n      <td>OIL</td>\n      <td>1</td>\n      <td>1</td>\n      <td>4</td>\n      <td>4</td>\n      <td>1</td>\n    </tr>\n    <tr>\n      <th>6</th>\n      <td>COMPRESSION</td>\n      <td>ORDOVICIAN</td>\n      <td>SANDSTONE</td>\n      <td>INTRACRATONIC</td>\n      <td>GAS</td>\n      <td>4</td>\n      <td>3</td>\n      <td>0</td>\n      <td>0</td>\n      <td>2</td>\n    </tr>\n    <tr>\n      <th>7</th>\n      <td>EXTENSION</td>\n      <td>MESOZOIC</td>\n      <td>VOLCANICS</td>\n      <td>RIFT</td>\n      <td>OIL</td>\n      <td>3</td>\n      <td>3</td>\n      <td>1</td>\n      <td>0</td>\n      <td>4</td>\n    </tr>\n    <tr>\n      <th>8</th>\n      <td>STRIKE-SLIP</td>\n      <td>NEOGENE</td>\n      <td>SANDSTONE</td>\n      <td>INVERSION</td>\n      <td>OIL</td>\n      <td>4</td>\n      <td>3</td>\n      <td>3</td>\n      <td>2</td>\n      <td>1</td>\n    </tr>\n    <tr>\n      <th>9</th>\n      <td>COMPRESSION</td>\n      <td>CRETACEOUS</td>\n      <td>LIMESTONE</td>\n      <td>SALT</td>\n      <td>OIL</td>\n      <td>2</td>\n      <td>2</td>\n      <td>3</td>\n      <td>2</td>\n      <td>1</td>\n    </tr>\n    <tr>\n      <th>10</th>\n      <td>COMPRESSION</td>\n      <td>CARBONIFEROUS</td>\n      <td>SANDSTONE</td>\n      <td>FORELAND</td>\n      <td>OIL</td>\n      <td>2</td>\n      <td>1</td>\n      <td>3</td>\n      <td>1</td>\n      <td>0</td>\n    </tr>\n    <tr>\n      <th>11</th>\n      <td>COMPRESSION</td>\n      <td>CARBONIFEROUS-PERMIAN</td>\n      <td>LIMESTONE</td>\n      <td>SUB-SALT</td>\n      <td>GAS</td>\n      <td>4</td>\n      <td>4</td>\n      <td>1</td>\n      <td>0</td>\n      <td>1</td>\n    </tr>\n    <tr>\n      <th>12</th>\n      <td>COMPRESSION</td>\n      <td>DEVONIAN-PERMIAN</td>\n      <td>LIMESTONE</td>\n      <td>SUB-SALT</td>\n      <td>GAS-CONDENSATE</td>\n      <td>4</td>\n      <td>4</td>\n      <td>0</td>\n      <td>1</td>\n      <td>4</td>\n    </tr>\n    <tr>\n      <th>13</th>\n      <td>COMPRESSION</td>\n      <td>SILURIAN</td>\n      <td>DOLOMITE</td>\n      <td>FORELAND</td>\n      <td>GAS</td>\n      <td>1</td>\n      <td>1</td>\n      <td>0</td>\n      <td>0</td>\n      <td>4</td>\n    </tr>\n    <tr>\n      <th>14</th>\n      <td>EXTENSION</td>\n      <td>JURASSIC</td>\n      <td>SANDSTONE</td>\n      <td>RIFT</td>\n      <td>OIL</td>\n      <td>4</td>\n      <td>4</td>\n      <td>4</td>\n      <td>4</td>\n      <td>1</td>\n    </tr>\n    <tr>\n      <th>15</th>\n      <td>COMPRESSION</td>\n      <td>NEOGENE</td>\n      <td>SANDSTONE</td>\n      <td>FORELAND</td>\n      <td>OIL</td>\n      <td>4</td>\n      <td>3</td>\n      <td>3</td>\n      <td>3</td>\n      <td>0</td>\n    </tr>\n    <tr>\n      <th>16</th>\n      <td>INVERSION</td>\n      <td>JURASSIC</td>\n      <td>DOLOMITE</td>\n      <td>INVERSION</td>\n      <td>GAS</td>\n      <td>0</td>\n      <td>1</td>\n      <td>2</td>\n      <td>2</td>\n      <td>2</td>\n    </tr>\n    <tr>\n      <th>17</th>\n      <td>COMPRESSION</td>\n      <td>PERMIAN</td>\n      <td>DOLOMITE</td>\n      <td>SALT</td>\n      <td>OIL</td>\n      <td>3</td>\n      <td>3</td>\n      <td>2</td>\n      <td>0</td>\n      <td>3</td>\n    </tr>\n    <tr>\n      <th>18</th>\n      <td>COMPRESSION</td>\n      <td>SILURIAN</td>\n      <td>DOLOMITE</td>\n      <td>THRUST</td>\n      <td>GAS</td>\n      <td>4</td>\n      <td>2</td>\n      <td>0</td>\n      <td>0</td>\n      <td>4</td>\n    </tr>\n    <tr>\n      <th>19</th>\n      <td>COMPRESSION</td>\n      <td>CRETACEOUS</td>\n      <td>SANDSTONE</td>\n      <td>INTRACRATONIC</td>\n      <td>GAS</td>\n      <td>4</td>\n      <td>3</td>\n      <td>4</td>\n      <td>3</td>\n      <td>1</td>\n    </tr>\n    <tr>\n      <th>20</th>\n      <td>COMPRESSION</td>\n      <td>DEVONIAN</td>\n      <td>LIMESTONE</td>\n      <td>FORELAND</td>\n      <td>OIL</td>\n      <td>2</td>\n      <td>1</td>\n      <td>0</td>\n      <td>1</td>\n      <td>3</td>\n    </tr>\n    <tr>\n      <th>21</th>\n      <td>EXTENSION</td>\n      <td>PALEOZOIC-CRETACEOUS</td>\n      <td>SANDSTONE</td>\n      <td>SUB-SALT</td>\n      <td>OIL</td>\n      <td>4</td>\n      <td>4</td>\n      <td>2</td>\n      <td>3</td>\n      <td>4</td>\n    </tr>\n    <tr>\n      <th>22</th>\n      <td>INVERSION</td>\n      <td>CRETACEOUS</td>\n      <td>GLAUCONITIC SANDSTONE</td>\n      <td>RIFT</td>\n      <td>GAS</td>\n      <td>0</td>\n      <td>0</td>\n      <td>4</td>\n      <td>4</td>\n      <td>0</td>\n    </tr>\n    <tr>\n      <th>23</th>\n      <td>GRAVITY</td>\n      <td>CRETACEOUS</td>\n      <td>LIMESTONE</td>\n      <td>PASSIVE MARGIN</td>\n      <td>OIL</td>\n      <td>0</td>\n      <td>0</td>\n      <td>1</td>\n      <td>1</td>\n      <td>3</td>\n    </tr>\n    <tr>\n      <th>24</th>\n      <td>COMPRESSION</td>\n      <td>CARBONIFEROUS</td>\n      <td>SHALY SANDSTONE</td>\n      <td>FORELAND</td>\n      <td>GAS</td>\n      <td>1</td>\n      <td>0</td>\n      <td>1</td>\n      <td>0</td>\n      <td>2</td>\n    </tr>\n    <tr>\n      <th>25</th>\n      <td>COMPRESSION</td>\n      <td>CARBONIFEROUS</td>\n      <td>SANDSTONE</td>\n      <td>FORELAND</td>\n      <td>OIL</td>\n      <td>0</td>\n      <td>1</td>\n      <td>3</td>\n      <td>3</td>\n      <td>2</td>\n    </tr>\n    <tr>\n      <th>26</th>\n      <td>COMPRESSION</td>\n      <td>CRETACEOUS</td>\n      <td>DOLOMITE</td>\n      <td>FORELAND</td>\n      <td>OIL</td>\n      <td>4</td>\n      <td>3</td>\n      <td>1</td>\n      <td>1</td>\n      <td>2</td>\n    </tr>\n    <tr>\n      <th>27</th>\n      <td>EXTENSION</td>\n      <td>PALEOZOIC</td>\n      <td>SANDSTONE</td>\n      <td>SUB-SALT</td>\n      <td>OIL</td>\n      <td>4</td>\n      <td>4</td>\n      <td>2</td>\n      <td>2</td>\n      <td>4</td>\n    </tr>\n    <tr>\n      <th>28</th>\n      <td>COMPRESSION</td>\n      <td>CRETACEOUS</td>\n      <td>SANDSTONE</td>\n      <td>INTRACRATONIC</td>\n      <td>OIL</td>\n      <td>4</td>\n      <td>3</td>\n      <td>2</td>\n      <td>0</td>\n      <td>3</td>\n    </tr>\n    <tr>\n      <th>29</th>\n      <td>COMPRESSION</td>\n      <td>JURASSIC</td>\n      <td>SANDSTONE</td>\n      <td>SUB-THRUST</td>\n      <td>GAS-CONDENSATE</td>\n      <td>4</td>\n      <td>4</td>\n      <td>0</td>\n      <td>0</td>\n      <td>4</td>\n    </tr>\n    <tr>\n      <th>30</th>\n      <td>INVERSION</td>\n      <td>JURASSIC</td>\n      <td>SANDSTONE</td>\n      <td>RIFT</td>\n      <td>OIL</td>\n      <td>2</td>\n      <td>3</td>\n      <td>3</td>\n      <td>3</td>\n      <td>2</td>\n    </tr>\n    <tr>\n      <th>31</th>\n      <td>EXTENSION</td>\n      <td>PALEOGENE</td>\n      <td>LIMESTONE</td>\n      <td>RIFT</td>\n      <td>OIL</td>\n      <td>2</td>\n      <td>2</td>\n      <td>3</td>\n      <td>4</td>\n      <td>2</td>\n    </tr>\n    <tr>\n      <th>32</th>\n      <td>COMPRESSION</td>\n      <td>CRETACEOUS-PALEOGENE</td>\n      <td>SANDSTONE</td>\n      <td>THRUST</td>\n      <td>OIL</td>\n      <td>4</td>\n      <td>4</td>\n      <td>0</td>\n      <td>0</td>\n      <td>4</td>\n    </tr>\n    <tr>\n      <th>33</th>\n      <td>COMPRESSION</td>\n      <td>CRETACEOUS</td>\n      <td>LOW-RESISTIVITY SANDSTONE</td>\n      <td>FORELAND</td>\n      <td>OIL</td>\n      <td>0</td>\n      <td>0</td>\n      <td>3</td>\n      <td>2</td>\n      <td>2</td>\n    </tr>\n    <tr>\n      <th>34</th>\n      <td>COMPRESSION</td>\n      <td>CRETACEOUS-PALEOGENE</td>\n      <td>SANDSTONE</td>\n      <td>SUB-THRUST</td>\n      <td>GAS</td>\n      <td>4</td>\n      <td>4</td>\n      <td>2</td>\n      <td>0</td>\n      <td>1</td>\n    </tr>\n    <tr>\n      <th>35</th>\n      <td>EXTENSION</td>\n      <td>PALEOGENE</td>\n      <td>SANDSTONE</td>\n      <td>RIFT</td>\n      <td>GAS</td>\n      <td>3</td>\n      <td>4</td>\n      <td>1</td>\n      <td>3</td>\n      <td>4</td>\n    </tr>\n    <tr>\n      <th>36</th>\n      <td>COMPRESSION</td>\n      <td>PALEOGENE-NEOGENE</td>\n      <td>DOLOMITIC LIMESTONE</td>\n      <td>FORELAND</td>\n      <td>OIL</td>\n      <td>4</td>\n      <td>4</td>\n      <td>0</td>\n      <td>0</td>\n      <td>0</td>\n    </tr>\n    <tr>\n      <th>37</th>\n      <td>COMPRESSION</td>\n      <td>PERMIAN</td>\n      <td>DOLOMITE</td>\n      <td>FORELAND</td>\n      <td>OIL</td>\n      <td>2</td>\n      <td>2</td>\n      <td>0</td>\n      <td>0</td>\n      <td>0</td>\n    </tr>\n    <tr>\n      <th>38</th>\n      <td>GRAVITY</td>\n      <td>CRETACEOUS</td>\n      <td>SANDSTONE</td>\n      <td>SALT</td>\n      <td>OIL</td>\n      <td>2</td>\n      <td>1</td>\n      <td>3</td>\n      <td>3</td>\n      <td>2</td>\n    </tr>\n    <tr>\n      <th>39</th>\n      <td>COMPRESSION</td>\n      <td>ORDOVICIAN</td>\n      <td>DOLOMITE</td>\n      <td>INTRACRATONIC</td>\n      <td>OIL</td>\n      <td>3</td>\n      <td>1</td>\n      <td>1</td>\n      <td>1</td>\n      <td>3</td>\n    </tr>\n    <tr>\n      <th>40</th>\n      <td>COMPRESSION</td>\n      <td>CRETACEOUS</td>\n      <td>SANDSTONE</td>\n      <td>FORELAND</td>\n      <td>GAS-CONDENSATE</td>\n      <td>0</td>\n      <td>1</td>\n      <td>1</td>\n      <td>0</td>\n      <td>1</td>\n    </tr>\n    <tr>\n      <th>41</th>\n      <td>EXTENSION</td>\n      <td>CRETACEOUS</td>\n      <td>SANDSTONE</td>\n      <td>RIFT</td>\n      <td>GAS-CONDENSATE</td>\n      <td>4</td>\n      <td>4</td>\n      <td>1</td>\n      <td>3</td>\n      <td>4</td>\n    </tr>\n    <tr>\n      <th>42</th>\n      <td>EXTENSION</td>\n      <td>ORDOVICIAN</td>\n      <td>DOLOMITE</td>\n      <td>RIFT</td>\n      <td>OIL</td>\n      <td>3</td>\n      <td>2</td>\n      <td>0</td>\n      <td>1</td>\n      <td>2</td>\n    </tr>\n    <tr>\n      <th>43</th>\n      <td>COMPRESSION</td>\n      <td>PERMIAN</td>\n      <td>DOLOMITE</td>\n      <td>FORELAND</td>\n      <td>OIL</td>\n      <td>2</td>\n      <td>2</td>\n      <td>1</td>\n      <td>0</td>\n      <td>1</td>\n    </tr>\n    <tr>\n      <th>44</th>\n      <td>GRAVITY</td>\n      <td>JURASSIC</td>\n      <td>SANDSTONE</td>\n      <td>SALT</td>\n      <td>GAS-CONDENSATE</td>\n      <td>2</td>\n      <td>3</td>\n      <td>0</td>\n      <td>0</td>\n      <td>4</td>\n    </tr>\n  </tbody>\n</table>\n</div>"
     },
     "metadata": {},
     "execution_count": 32
    }
   ],
   "source": [
    "for c in columns_for_disc:\n",
    "    test_discrete[c] = test_discrete[c].apply(lambda x: int(x))\n",
    "test_discrete"
   ]
  },
  {
   "cell_type": "code",
   "execution_count": 33,
   "metadata": {},
   "outputs": [
    {
     "output_type": "stream",
     "name": "stdout",
     "text": [
      "7\n",
      "7\n",
      "12\n",
      "12\n",
      "21\n",
      "21\n",
      "22\n",
      "22\n",
      "27\n",
      "27\n",
      "C:\\Users\\anaxa\\AppData\\Local\\Programs\\Python\\Python38\\lib\\site-packages\\sklearn\\metrics\\_classification.py:208: FutureWarning: elementwise comparison failed; returning scalar instead, but in the future will perform elementwise comparison\n",
      "  score = y_true == y_pred\n",
      "C:\\Users\\anaxa\\AppData\\Local\\Programs\\Python\\Python38\\lib\\site-packages\\sklearn\\metrics\\_classification.py:208: FutureWarning: elementwise comparison failed; returning scalar instead, but in the future will perform elementwise comparison\n",
      "  score = y_true == y_pred\n",
      "C:\\Users\\anaxa\\AppData\\Local\\Programs\\Python\\Python38\\lib\\site-packages\\sklearn\\metrics\\_classification.py:208: FutureWarning: elementwise comparison failed; returning scalar instead, but in the future will perform elementwise comparison\n",
      "  score = y_true == y_pred\n",
      "C:\\Users\\anaxa\\AppData\\Local\\Programs\\Python\\Python38\\lib\\site-packages\\sklearn\\metrics\\_classification.py:208: FutureWarning: elementwise comparison failed; returning scalar instead, but in the future will perform elementwise comparison\n",
      "  score = y_true == y_pred\n",
      "C:\\Users\\anaxa\\AppData\\Local\\Programs\\Python\\Python38\\lib\\site-packages\\sklearn\\metrics\\_classification.py:208: FutureWarning: elementwise comparison failed; returning scalar instead, but in the future will perform elementwise comparison\n",
      "  score = y_true == y_pred\n"
     ]
    }
   ],
   "source": [
    "acc, rmse, real, pred = calculate_acc(geo_bn, test_discrete, columns)"
   ]
  },
  {
   "cell_type": "code",
   "execution_count": 34,
   "metadata": {},
   "outputs": [
    {
     "output_type": "execute_result",
     "data": {
      "text/plain": [
       "{'Tectonic regime': 0.58,\n",
       " 'Period': 0.27,\n",
       " 'Lithology': 0.51,\n",
       " 'Structural setting': 0.31,\n",
       " 'Hydrocarbon type': 0.67,\n",
       " 'Gross': 0.0,\n",
       " 'Netpay': 0.0,\n",
       " 'Porosity': 0.0,\n",
       " 'Permeability': 0.0,\n",
       " 'Depth': 0.0}"
      ]
     },
     "metadata": {},
     "execution_count": 34
    }
   ],
   "source": [
    "acc"
   ]
  },
  {
   "cell_type": "code",
   "execution_count": 35,
   "metadata": {},
   "outputs": [],
   "source": [
    "for key in colums_for_code:\n",
    "    df_result_accuracy = df_result_accuracy.append({'Parameter': key, 'Strategy': 'HC', 'Alg':'D+D','accuracy':acc[key]}, ignore_index=True)"
   ]
  },
  {
   "cell_type": "code",
   "execution_count": 36,
   "metadata": {},
   "outputs": [],
   "source": [
    "invers_real = inverse_discretization(pd.DataFrame(np.transpose(real[5:10]), columns=['Gross', 'Netpay', 'Porosity', 'Permeability', 'Depth']), ['Gross', 'Netpay', 'Porosity', 'Permeability', 'Depth'], discrete_coder)"
   ]
  },
  {
   "cell_type": "code",
   "execution_count": 37,
   "metadata": {},
   "outputs": [],
   "source": [
    "invers_pred = inverse_discretization(pd.DataFrame(np.transpose(pred[5:10]), columns=['Gross', 'Netpay', 'Porosity', 'Permeability', 'Depth']), ['Gross', 'Netpay', 'Porosity', 'Permeability', 'Depth'], discrete_coder)"
   ]
  },
  {
   "cell_type": "code",
   "execution_count": 38,
   "metadata": {},
   "outputs": [],
   "source": [
    "m = mean_squared_error(invers_real['Gross'], invers_pred['Gross'], squared=False)\n",
    "df_result_rmse = df_result_rmse.append({'Parameter': 'Gross', 'Strategy': 'HC', 'Alg':'D+D','rmse':m}, ignore_index=True)"
   ]
  },
  {
   "cell_type": "code",
   "execution_count": 39,
   "metadata": {},
   "outputs": [],
   "source": [
    "m = mean_squared_error(invers_real['Netpay'], invers_pred['Netpay'], squared=False)\n",
    "df_result_rmse = df_result_rmse.append({'Parameter': 'Netpay', 'Strategy': 'HC', 'Alg':'D+D','rmse':m}, ignore_index=True)"
   ]
  },
  {
   "cell_type": "code",
   "execution_count": 40,
   "metadata": {},
   "outputs": [],
   "source": [
    "m = mean_squared_error(invers_real['Porosity'], invers_pred['Porosity'], squared=False)\n",
    "df_result_rmse = df_result_rmse.append({'Parameter': 'Porosity', 'Strategy': 'HC', 'Alg':'D+D','rmse':m}, ignore_index=True)"
   ]
  },
  {
   "cell_type": "code",
   "execution_count": 41,
   "metadata": {},
   "outputs": [],
   "source": [
    "m = mean_squared_error(invers_real['Permeability'], invers_pred['Permeability'], squared=False)\n",
    "df_result_rmse = df_result_rmse.append({'Parameter': 'Permeability', 'Strategy': 'HC', 'Alg':'D+D','rmse':m}, ignore_index=True)"
   ]
  },
  {
   "cell_type": "code",
   "execution_count": 42,
   "metadata": {},
   "outputs": [],
   "source": [
    "m = mean_squared_error(invers_real['Depth'], invers_pred['Depth'], squared=False)\n",
    "df_result_rmse = df_result_rmse.append({'Parameter': 'Depth', 'Strategy': 'HC', 'Alg':'D+D','rmse':m}, ignore_index=True)"
   ]
  },
  {
   "source": [
    "# Смешанная структура + дискретные параметры"
   ],
   "cell_type": "markdown",
   "metadata": {}
  },
  {
   "cell_type": "code",
   "execution_count": 43,
   "metadata": {
    "tags": [
     "outputPrepend"
    ]
   },
   "outputs": [
    {
     "output_type": "stream",
     "name": "stderr",
     "text": [
      "ed in double_scalars\n",
      "  delta1 = -1* nrow * (mi_old - mi_new)\n",
      "c:\\Users\\anaxa\\Documents\\Projects\\Mixed-Learning-of-Bayesian-Networks\\bayesian\\redef_HC.py:258: RuntimeWarning: overflow encountered in double_scalars\n",
      "  delta2 = nrow * (mi_old - mi_new)\n",
      "c:\\Users\\anaxa\\Documents\\Projects\\Mixed-Learning-of-Bayesian-Networks\\bayesian\\redef_HC.py:178: RuntimeWarning: overflow encountered in double_scalars\n",
      "  delta_score = nrow * (mi_old - mi_new)\n",
      "c:\\Users\\anaxa\\Documents\\Projects\\Mixed-Learning-of-Bayesian-Networks\\bayesian\\redef_HC.py:178: RuntimeWarning: overflow encountered in double_scalars\n",
      "  delta_score = nrow * (mi_old - mi_new)\n",
      "c:\\Users\\anaxa\\Documents\\Projects\\Mixed-Learning-of-Bayesian-Networks\\bayesian\\redef_HC.py:178: RuntimeWarning: overflow encountered in double_scalars\n",
      "  delta_score = nrow * (mi_old - mi_new)\n",
      "c:\\Users\\anaxa\\Documents\\Projects\\Mixed-Learning-of-Bayesian-Networks\\bayesian\\redef_HC.py:178: RuntimeWarning: overflow encountered in double_scalars\n",
      "  delta_score = nrow * (mi_old - mi_new)\n",
      "c:\\Users\\anaxa\\Documents\\Projects\\Mixed-Learning-of-Bayesian-Networks\\bayesian\\redef_HC.py:246: RuntimeWarning: overflow encountered in double_scalars\n",
      "  delta1 = -1* nrow * (mi_old - mi_new)\n",
      "c:\\Users\\anaxa\\Documents\\Projects\\Mixed-Learning-of-Bayesian-Networks\\bayesian\\redef_HC.py:258: RuntimeWarning: overflow encountered in double_scalars\n",
      "  delta2 = nrow * (mi_old - mi_new)\n",
      "c:\\Users\\anaxa\\Documents\\Projects\\Mixed-Learning-of-Bayesian-Networks\\bayesian\\redef_HC.py:246: RuntimeWarning: overflow encountered in double_scalars\n",
      "  delta1 = -1* nrow * (mi_old - mi_new)\n",
      "c:\\Users\\anaxa\\Documents\\Projects\\Mixed-Learning-of-Bayesian-Networks\\bayesian\\redef_HC.py:258: RuntimeWarning: overflow encountered in double_scalars\n",
      "  delta2 = nrow * (mi_old - mi_new)\n",
      "c:\\Users\\anaxa\\Documents\\Projects\\Mixed-Learning-of-Bayesian-Networks\\bayesian\\redef_HC.py:246: RuntimeWarning: overflow encountered in double_scalars\n",
      "  delta1 = -1* nrow * (mi_old - mi_new)\n",
      "c:\\Users\\anaxa\\Documents\\Projects\\Mixed-Learning-of-Bayesian-Networks\\bayesian\\redef_HC.py:258: RuntimeWarning: overflow encountered in double_scalars\n",
      "  delta2 = nrow * (mi_old - mi_new)\n",
      "c:\\Users\\anaxa\\Documents\\Projects\\Mixed-Learning-of-Bayesian-Networks\\bayesian\\redef_HC.py:178: RuntimeWarning: overflow encountered in double_scalars\n",
      "  delta_score = nrow * (mi_old - mi_new)\n",
      "c:\\Users\\anaxa\\Documents\\Projects\\Mixed-Learning-of-Bayesian-Networks\\bayesian\\redef_HC.py:178: RuntimeWarning: overflow encountered in double_scalars\n",
      "  delta_score = nrow * (mi_old - mi_new)\n",
      "c:\\Users\\anaxa\\Documents\\Projects\\Mixed-Learning-of-Bayesian-Networks\\bayesian\\redef_HC.py:178: RuntimeWarning: overflow encountered in double_scalars\n",
      "  delta_score = nrow * (mi_old - mi_new)\n",
      "c:\\Users\\anaxa\\Documents\\Projects\\Mixed-Learning-of-Bayesian-Networks\\bayesian\\redef_HC.py:178: RuntimeWarning: overflow encountered in double_scalars\n",
      "  delta_score = nrow * (mi_old - mi_new)\n",
      "c:\\Users\\anaxa\\Documents\\Projects\\Mixed-Learning-of-Bayesian-Networks\\bayesian\\redef_HC.py:246: RuntimeWarning: overflow encountered in double_scalars\n",
      "  delta1 = -1* nrow * (mi_old - mi_new)\n",
      "c:\\Users\\anaxa\\Documents\\Projects\\Mixed-Learning-of-Bayesian-Networks\\bayesian\\redef_HC.py:258: RuntimeWarning: overflow encountered in double_scalars\n",
      "  delta2 = nrow * (mi_old - mi_new)\n",
      "c:\\Users\\anaxa\\Documents\\Projects\\Mixed-Learning-of-Bayesian-Networks\\bayesian\\redef_HC.py:246: RuntimeWarning: overflow encountered in double_scalars\n",
      "  delta1 = -1* nrow * (mi_old - mi_new)\n",
      "c:\\Users\\anaxa\\Documents\\Projects\\Mixed-Learning-of-Bayesian-Networks\\bayesian\\redef_HC.py:258: RuntimeWarning: overflow encountered in double_scalars\n",
      "  delta2 = nrow * (mi_old - mi_new)\n",
      "c:\\Users\\anaxa\\Documents\\Projects\\Mixed-Learning-of-Bayesian-Networks\\bayesian\\redef_HC.py:246: RuntimeWarning: overflow encountered in double_scalars\n",
      "  delta1 = -1* nrow * (mi_old - mi_new)\n",
      "c:\\Users\\anaxa\\Documents\\Projects\\Mixed-Learning-of-Bayesian-Networks\\bayesian\\redef_HC.py:258: RuntimeWarning: overflow encountered in double_scalars\n",
      "  delta2 = nrow * (mi_old - mi_new)\n",
      "c:\\Users\\anaxa\\Documents\\Projects\\Mixed-Learning-of-Bayesian-Networks\\bayesian\\redef_HC.py:178: RuntimeWarning: overflow encountered in double_scalars\n",
      "  delta_score = nrow * (mi_old - mi_new)\n",
      "c:\\Users\\anaxa\\Documents\\Projects\\Mixed-Learning-of-Bayesian-Networks\\bayesian\\redef_HC.py:178: RuntimeWarning: overflow encountered in double_scalars\n",
      "  delta_score = nrow * (mi_old - mi_new)\n",
      "c:\\Users\\anaxa\\Documents\\Projects\\Mixed-Learning-of-Bayesian-Networks\\bayesian\\redef_HC.py:178: RuntimeWarning: overflow encountered in double_scalars\n",
      "  delta_score = nrow * (mi_old - mi_new)\n",
      "c:\\Users\\anaxa\\Documents\\Projects\\Mixed-Learning-of-Bayesian-Networks\\bayesian\\redef_HC.py:178: RuntimeWarning: overflow encountered in double_scalars\n",
      "  delta_score = nrow * (mi_old - mi_new)\n",
      "c:\\Users\\anaxa\\Documents\\Projects\\Mixed-Learning-of-Bayesian-Networks\\bayesian\\redef_HC.py:246: RuntimeWarning: overflow encountered in double_scalars\n",
      "  delta1 = -1* nrow * (mi_old - mi_new)\n",
      "c:\\Users\\anaxa\\Documents\\Projects\\Mixed-Learning-of-Bayesian-Networks\\bayesian\\redef_HC.py:258: RuntimeWarning: overflow encountered in double_scalars\n",
      "  delta2 = nrow * (mi_old - mi_new)\n",
      "c:\\Users\\anaxa\\Documents\\Projects\\Mixed-Learning-of-Bayesian-Networks\\bayesian\\redef_HC.py:246: RuntimeWarning: overflow encountered in double_scalars\n",
      "  delta1 = -1* nrow * (mi_old - mi_new)\n",
      "c:\\Users\\anaxa\\Documents\\Projects\\Mixed-Learning-of-Bayesian-Networks\\bayesian\\redef_HC.py:258: RuntimeWarning: overflow encountered in double_scalars\n",
      "  delta2 = nrow * (mi_old - mi_new)\n",
      "c:\\Users\\anaxa\\Documents\\Projects\\Mixed-Learning-of-Bayesian-Networks\\bayesian\\redef_HC.py:246: RuntimeWarning: overflow encountered in double_scalars\n",
      "  delta1 = -1* nrow * (mi_old - mi_new)\n",
      "c:\\Users\\anaxa\\Documents\\Projects\\Mixed-Learning-of-Bayesian-Networks\\bayesian\\redef_HC.py:258: RuntimeWarning: overflow encountered in double_scalars\n",
      "  delta2 = nrow * (mi_old - mi_new)\n",
      "c:\\Users\\anaxa\\Documents\\Projects\\Mixed-Learning-of-Bayesian-Networks\\bayesian\\redef_HC.py:178: RuntimeWarning: overflow encountered in double_scalars\n",
      "  delta_score = nrow * (mi_old - mi_new)\n",
      "c:\\Users\\anaxa\\Documents\\Projects\\Mixed-Learning-of-Bayesian-Networks\\bayesian\\redef_HC.py:178: RuntimeWarning: overflow encountered in double_scalars\n",
      "  delta_score = nrow * (mi_old - mi_new)\n",
      "c:\\Users\\anaxa\\Documents\\Projects\\Mixed-Learning-of-Bayesian-Networks\\bayesian\\redef_HC.py:178: RuntimeWarning: overflow encountered in double_scalars\n",
      "  delta_score = nrow * (mi_old - mi_new)\n",
      "c:\\Users\\anaxa\\Documents\\Projects\\Mixed-Learning-of-Bayesian-Networks\\bayesian\\redef_HC.py:178: RuntimeWarning: overflow encountered in double_scalars\n",
      "  delta_score = nrow * (mi_old - mi_new)\n",
      "c:\\Users\\anaxa\\Documents\\Projects\\Mixed-Learning-of-Bayesian-Networks\\bayesian\\redef_HC.py:178: RuntimeWarning: overflow encountered in double_scalars\n",
      "  delta_score = nrow * (mi_old - mi_new)\n",
      "c:\\Users\\anaxa\\Documents\\Projects\\Mixed-Learning-of-Bayesian-Networks\\bayesian\\redef_HC.py:246: RuntimeWarning: overflow encountered in double_scalars\n",
      "  delta1 = -1* nrow * (mi_old - mi_new)\n",
      "c:\\Users\\anaxa\\Documents\\Projects\\Mixed-Learning-of-Bayesian-Networks\\bayesian\\redef_HC.py:258: RuntimeWarning: overflow encountered in double_scalars\n",
      "  delta2 = nrow * (mi_old - mi_new)\n",
      "c:\\Users\\anaxa\\Documents\\Projects\\Mixed-Learning-of-Bayesian-Networks\\bayesian\\redef_HC.py:246: RuntimeWarning: overflow encountered in double_scalars\n",
      "  delta1 = -1* nrow * (mi_old - mi_new)\n",
      "c:\\Users\\anaxa\\Documents\\Projects\\Mixed-Learning-of-Bayesian-Networks\\bayesian\\redef_HC.py:258: RuntimeWarning: overflow encountered in double_scalars\n",
      "  delta2 = nrow * (mi_old - mi_new)\n",
      "c:\\Users\\anaxa\\Documents\\Projects\\Mixed-Learning-of-Bayesian-Networks\\bayesian\\redef_HC.py:246: RuntimeWarning: overflow encountered in double_scalars\n",
      "  delta1 = -1* nrow * (mi_old - mi_new)\n",
      "c:\\Users\\anaxa\\Documents\\Projects\\Mixed-Learning-of-Bayesian-Networks\\bayesian\\redef_HC.py:258: RuntimeWarning: overflow encountered in double_scalars\n",
      "  delta2 = nrow * (mi_old - mi_new)\n",
      "c:\\Users\\anaxa\\Documents\\Projects\\Mixed-Learning-of-Bayesian-Networks\\bayesian\\redef_HC.py:178: RuntimeWarning: overflow encountered in double_scalars\n",
      "  delta_score = nrow * (mi_old - mi_new)\n",
      "c:\\Users\\anaxa\\Documents\\Projects\\Mixed-Learning-of-Bayesian-Networks\\bayesian\\redef_HC.py:246: RuntimeWarning: overflow encountered in double_scalars\n",
      "  delta1 = -1* nrow * (mi_old - mi_new)\n",
      "c:\\Users\\anaxa\\Documents\\Projects\\Mixed-Learning-of-Bayesian-Networks\\bayesian\\redef_HC.py:258: RuntimeWarning: overflow encountered in double_scalars\n",
      "  delta2 = nrow * (mi_old - mi_new)\n",
      "c:\\Users\\anaxa\\Documents\\Projects\\Mixed-Learning-of-Bayesian-Networks\\bayesian\\redef_HC.py:246: RuntimeWarning: overflow encountered in double_scalars\n",
      "  delta1 = -1* nrow * (mi_old - mi_new)\n",
      "c:\\Users\\anaxa\\Documents\\Projects\\Mixed-Learning-of-Bayesian-Networks\\bayesian\\redef_HC.py:258: RuntimeWarning: overflow encountered in double_scalars\n",
      "  delta2 = nrow * (mi_old - mi_new)\n",
      "c:\\Users\\anaxa\\Documents\\Projects\\Mixed-Learning-of-Bayesian-Networks\\bayesian\\redef_HC.py:246: RuntimeWarning: overflow encountered in double_scalars\n",
      "  delta1 = -1* nrow * (mi_old - mi_new)\n",
      "c:\\Users\\anaxa\\Documents\\Projects\\Mixed-Learning-of-Bayesian-Networks\\bayesian\\redef_HC.py:258: RuntimeWarning: overflow encountered in double_scalars\n",
      "  delta2 = nrow * (mi_old - mi_new)\n",
      "c:\\Users\\anaxa\\Documents\\Projects\\Mixed-Learning-of-Bayesian-Networks\\bayesian\\redef_HC.py:178: RuntimeWarning: overflow encountered in double_scalars\n",
      "  delta_score = nrow * (mi_old - mi_new)\n",
      "c:\\Users\\anaxa\\Documents\\Projects\\Mixed-Learning-of-Bayesian-Networks\\bayesian\\redef_HC.py:246: RuntimeWarning: overflow encountered in double_scalars\n",
      "  delta1 = -1* nrow * (mi_old - mi_new)\n",
      "c:\\Users\\anaxa\\Documents\\Projects\\Mixed-Learning-of-Bayesian-Networks\\bayesian\\redef_HC.py:258: RuntimeWarning: overflow encountered in double_scalars\n",
      "  delta2 = nrow * (mi_old - mi_new)\n",
      "c:\\Users\\anaxa\\Documents\\Projects\\Mixed-Learning-of-Bayesian-Networks\\bayesian\\redef_HC.py:246: RuntimeWarning: overflow encountered in double_scalars\n",
      "  delta1 = -1* nrow * (mi_old - mi_new)\n",
      "c:\\Users\\anaxa\\Documents\\Projects\\Mixed-Learning-of-Bayesian-Networks\\bayesian\\redef_HC.py:258: RuntimeWarning: overflow encountered in double_scalars\n",
      "  delta2 = nrow * (mi_old - mi_new)\n",
      "c:\\Users\\anaxa\\Documents\\Projects\\Mixed-Learning-of-Bayesian-Networks\\bayesian\\redef_HC.py:246: RuntimeWarning: overflow encountered in double_scalars\n",
      "  delta1 = -1* nrow * (mi_old - mi_new)\n",
      "c:\\Users\\anaxa\\Documents\\Projects\\Mixed-Learning-of-Bayesian-Networks\\bayesian\\redef_HC.py:258: RuntimeWarning: overflow encountered in double_scalars\n",
      "  delta2 = nrow * (mi_old - mi_new)\n",
      "c:\\Users\\anaxa\\Documents\\Projects\\Mixed-Learning-of-Bayesian-Networks\\bayesian\\redef_HC.py:246: RuntimeWarning: overflow encountered in double_scalars\n",
      "  delta1 = -1* nrow * (mi_old - mi_new)\n",
      "c:\\Users\\anaxa\\Documents\\Projects\\Mixed-Learning-of-Bayesian-Networks\\bayesian\\redef_HC.py:258: RuntimeWarning: overflow encountered in double_scalars\n",
      "  delta2 = nrow * (mi_old - mi_new)\n",
      "c:\\Users\\anaxa\\Documents\\Projects\\Mixed-Learning-of-Bayesian-Networks\\bayesian\\redef_HC.py:178: RuntimeWarning: overflow encountered in double_scalars\n",
      "  delta_score = nrow * (mi_old - mi_new)\n",
      "c:\\Users\\anaxa\\Documents\\Projects\\Mixed-Learning-of-Bayesian-Networks\\bayesian\\redef_HC.py:246: RuntimeWarning: overflow encountered in double_scalars\n",
      "  delta1 = -1* nrow * (mi_old - mi_new)\n",
      "c:\\Users\\anaxa\\Documents\\Projects\\Mixed-Learning-of-Bayesian-Networks\\bayesian\\redef_HC.py:258: RuntimeWarning: overflow encountered in double_scalars\n",
      "  delta2 = nrow * (mi_old - mi_new)\n",
      "c:\\Users\\anaxa\\Documents\\Projects\\Mixed-Learning-of-Bayesian-Networks\\bayesian\\redef_HC.py:246: RuntimeWarning: overflow encountered in double_scalars\n",
      "  delta1 = -1* nrow * (mi_old - mi_new)\n",
      "c:\\Users\\anaxa\\Documents\\Projects\\Mixed-Learning-of-Bayesian-Networks\\bayesian\\redef_HC.py:258: RuntimeWarning: overflow encountered in double_scalars\n",
      "  delta2 = nrow * (mi_old - mi_new)\n",
      "c:\\Users\\anaxa\\Documents\\Projects\\Mixed-Learning-of-Bayesian-Networks\\bayesian\\redef_HC.py:246: RuntimeWarning: overflow encountered in double_scalars\n",
      "  delta1 = -1* nrow * (mi_old - mi_new)\n",
      "c:\\Users\\anaxa\\Documents\\Projects\\Mixed-Learning-of-Bayesian-Networks\\bayesian\\redef_HC.py:258: RuntimeWarning: overflow encountered in double_scalars\n",
      "  delta2 = nrow * (mi_old - mi_new)\n",
      "c:\\Users\\anaxa\\Documents\\Projects\\Mixed-Learning-of-Bayesian-Networks\\bayesian\\redef_HC.py:246: RuntimeWarning: overflow encountered in double_scalars\n",
      "  delta1 = -1* nrow * (mi_old - mi_new)\n",
      "c:\\Users\\anaxa\\Documents\\Projects\\Mixed-Learning-of-Bayesian-Networks\\bayesian\\redef_HC.py:258: RuntimeWarning: overflow encountered in double_scalars\n",
      "  delta2 = nrow * (mi_old - mi_new)\n",
      "c:\\Users\\anaxa\\Documents\\Projects\\Mixed-Learning-of-Bayesian-Networks\\bayesian\\redef_HC.py:178: RuntimeWarning: overflow encountered in double_scalars\n",
      "  delta_score = nrow * (mi_old - mi_new)\n",
      "c:\\Users\\anaxa\\Documents\\Projects\\Mixed-Learning-of-Bayesian-Networks\\bayesian\\redef_HC.py:246: RuntimeWarning: overflow encountered in double_scalars\n",
      "  delta1 = -1* nrow * (mi_old - mi_new)\n",
      "c:\\Users\\anaxa\\Documents\\Projects\\Mixed-Learning-of-Bayesian-Networks\\bayesian\\redef_HC.py:258: RuntimeWarning: overflow encountered in double_scalars\n",
      "  delta2 = nrow * (mi_old - mi_new)\n",
      "c:\\Users\\anaxa\\Documents\\Projects\\Mixed-Learning-of-Bayesian-Networks\\bayesian\\redef_HC.py:246: RuntimeWarning: overflow encountered in double_scalars\n",
      "  delta1 = -1* nrow * (mi_old - mi_new)\n",
      "c:\\Users\\anaxa\\Documents\\Projects\\Mixed-Learning-of-Bayesian-Networks\\bayesian\\redef_HC.py:258: RuntimeWarning: overflow encountered in double_scalars\n",
      "  delta2 = nrow * (mi_old - mi_new)\n",
      "c:\\Users\\anaxa\\Documents\\Projects\\Mixed-Learning-of-Bayesian-Networks\\bayesian\\redef_HC.py:246: RuntimeWarning: overflow encountered in double_scalars\n",
      "  delta1 = -1* nrow * (mi_old - mi_new)\n",
      "c:\\Users\\anaxa\\Documents\\Projects\\Mixed-Learning-of-Bayesian-Networks\\bayesian\\redef_HC.py:258: RuntimeWarning: overflow encountered in double_scalars\n",
      "  delta2 = nrow * (mi_old - mi_new)\n",
      "c:\\Users\\anaxa\\Documents\\Projects\\Mixed-Learning-of-Bayesian-Networks\\bayesian\\redef_HC.py:246: RuntimeWarning: overflow encountered in double_scalars\n",
      "  delta1 = -1* nrow * (mi_old - mi_new)\n",
      "c:\\Users\\anaxa\\Documents\\Projects\\Mixed-Learning-of-Bayesian-Networks\\bayesian\\redef_HC.py:258: RuntimeWarning: overflow encountered in double_scalars\n",
      "  delta2 = nrow * (mi_old - mi_new)\n",
      "c:\\Users\\anaxa\\Documents\\Projects\\Mixed-Learning-of-Bayesian-Networks\\bayesian\\redef_HC.py:178: RuntimeWarning: overflow encountered in double_scalars\n",
      "  delta_score = nrow * (mi_old - mi_new)\n",
      "c:\\Users\\anaxa\\Documents\\Projects\\Mixed-Learning-of-Bayesian-Networks\\bayesian\\redef_HC.py:246: RuntimeWarning: overflow encountered in double_scalars\n",
      "  delta1 = -1* nrow * (mi_old - mi_new)\n",
      "c:\\Users\\anaxa\\Documents\\Projects\\Mixed-Learning-of-Bayesian-Networks\\bayesian\\redef_HC.py:258: RuntimeWarning: overflow encountered in double_scalars\n",
      "  delta2 = nrow * (mi_old - mi_new)\n",
      "c:\\Users\\anaxa\\Documents\\Projects\\Mixed-Learning-of-Bayesian-Networks\\bayesian\\redef_HC.py:246: RuntimeWarning: overflow encountered in double_scalars\n",
      "  delta1 = -1* nrow * (mi_old - mi_new)\n",
      "c:\\Users\\anaxa\\Documents\\Projects\\Mixed-Learning-of-Bayesian-Networks\\bayesian\\redef_HC.py:258: RuntimeWarning: overflow encountered in double_scalars\n",
      "  delta2 = nrow * (mi_old - mi_new)\n",
      "c:\\Users\\anaxa\\Documents\\Projects\\Mixed-Learning-of-Bayesian-Networks\\bayesian\\redef_HC.py:246: RuntimeWarning: overflow encountered in double_scalars\n",
      "  delta1 = -1* nrow * (mi_old - mi_new)\n",
      "c:\\Users\\anaxa\\Documents\\Projects\\Mixed-Learning-of-Bayesian-Networks\\bayesian\\redef_HC.py:258: RuntimeWarning: overflow encountered in double_scalars\n",
      "  delta2 = nrow * (mi_old - mi_new)\n",
      "c:\\Users\\anaxa\\Documents\\Projects\\Mixed-Learning-of-Bayesian-Networks\\bayesian\\redef_HC.py:246: RuntimeWarning: overflow encountered in double_scalars\n",
      "  delta1 = -1* nrow * (mi_old - mi_new)\n",
      "c:\\Users\\anaxa\\Documents\\Projects\\Mixed-Learning-of-Bayesian-Networks\\bayesian\\redef_HC.py:258: RuntimeWarning: overflow encountered in double_scalars\n",
      "  delta2 = nrow * (mi_old - mi_new)\n",
      "c:\\Users\\anaxa\\Documents\\Projects\\Mixed-Learning-of-Bayesian-Networks\\bayesian\\redef_HC.py:204: RuntimeWarning: overflow encountered in double_scalars\n",
      "  delta_score = nrow * (mi_old - mi_new)\n",
      "c:\\Users\\anaxa\\Documents\\Projects\\Mixed-Learning-of-Bayesian-Networks\\bayesian\\redef_HC.py:246: RuntimeWarning: overflow encountered in double_scalars\n",
      "  delta1 = -1* nrow * (mi_old - mi_new)\n",
      "c:\\Users\\anaxa\\Documents\\Projects\\Mixed-Learning-of-Bayesian-Networks\\bayesian\\redef_HC.py:258: RuntimeWarning: overflow encountered in double_scalars\n",
      "  delta2 = nrow * (mi_old - mi_new)\n",
      "c:\\Users\\anaxa\\Documents\\Projects\\Mixed-Learning-of-Bayesian-Networks\\bayesian\\redef_HC.py:204: RuntimeWarning: overflow encountered in double_scalars\n",
      "  delta_score = nrow * (mi_old - mi_new)\n",
      "c:\\Users\\anaxa\\Documents\\Projects\\Mixed-Learning-of-Bayesian-Networks\\bayesian\\redef_HC.py:246: RuntimeWarning: overflow encountered in double_scalars\n",
      "  delta1 = -1* nrow * (mi_old - mi_new)\n",
      "c:\\Users\\anaxa\\Documents\\Projects\\Mixed-Learning-of-Bayesian-Networks\\bayesian\\redef_HC.py:258: RuntimeWarning: overflow encountered in double_scalars\n",
      "  delta2 = nrow * (mi_old - mi_new)\n",
      "c:\\Users\\anaxa\\Documents\\Projects\\Mixed-Learning-of-Bayesian-Networks\\bayesian\\redef_HC.py:178: RuntimeWarning: overflow encountered in double_scalars\n",
      "  delta_score = nrow * (mi_old - mi_new)\n",
      "c:\\Users\\anaxa\\Documents\\Projects\\Mixed-Learning-of-Bayesian-Networks\\bayesian\\redef_HC.py:178: RuntimeWarning: overflow encountered in double_scalars\n",
      "  delta_score = nrow * (mi_old - mi_new)\n",
      "c:\\Users\\anaxa\\Documents\\Projects\\Mixed-Learning-of-Bayesian-Networks\\bayesian\\redef_HC.py:178: RuntimeWarning: overflow encountered in double_scalars\n",
      "  delta_score = nrow * (mi_old - mi_new)\n",
      "c:\\Users\\anaxa\\Documents\\Projects\\Mixed-Learning-of-Bayesian-Networks\\bayesian\\redef_HC.py:178: RuntimeWarning: overflow encountered in double_scalars\n",
      "  delta_score = nrow * (mi_old - mi_new)\n",
      "c:\\Users\\anaxa\\Documents\\Projects\\Mixed-Learning-of-Bayesian-Networks\\bayesian\\redef_HC.py:178: RuntimeWarning: overflow encountered in double_scalars\n",
      "  delta_score = nrow * (mi_old - mi_new)\n",
      "c:\\Users\\anaxa\\Documents\\Projects\\Mixed-Learning-of-Bayesian-Networks\\bayesian\\redef_HC.py:204: RuntimeWarning: overflow encountered in double_scalars\n",
      "  delta_score = nrow * (mi_old - mi_new)\n",
      "c:\\Users\\anaxa\\Documents\\Projects\\Mixed-Learning-of-Bayesian-Networks\\bayesian\\redef_HC.py:246: RuntimeWarning: overflow encountered in double_scalars\n",
      "  delta1 = -1* nrow * (mi_old - mi_new)\n",
      "c:\\Users\\anaxa\\Documents\\Projects\\Mixed-Learning-of-Bayesian-Networks\\bayesian\\redef_HC.py:258: RuntimeWarning: overflow encountered in double_scalars\n",
      "  delta2 = nrow * (mi_old - mi_new)\n",
      "c:\\Users\\anaxa\\Documents\\Projects\\Mixed-Learning-of-Bayesian-Networks\\bayesian\\redef_HC.py:204: RuntimeWarning: overflow encountered in double_scalars\n",
      "  delta_score = nrow * (mi_old - mi_new)\n",
      "c:\\Users\\anaxa\\Documents\\Projects\\Mixed-Learning-of-Bayesian-Networks\\bayesian\\redef_HC.py:246: RuntimeWarning: overflow encountered in double_scalars\n",
      "  delta1 = -1* nrow * (mi_old - mi_new)\n",
      "c:\\Users\\anaxa\\Documents\\Projects\\Mixed-Learning-of-Bayesian-Networks\\bayesian\\redef_HC.py:258: RuntimeWarning: overflow encountered in double_scalars\n",
      "  delta2 = nrow * (mi_old - mi_new)\n",
      "c:\\Users\\anaxa\\Documents\\Projects\\Mixed-Learning-of-Bayesian-Networks\\bayesian\\redef_HC.py:204: RuntimeWarning: overflow encountered in double_scalars\n",
      "  delta_score = nrow * (mi_old - mi_new)\n",
      "c:\\Users\\anaxa\\Documents\\Projects\\Mixed-Learning-of-Bayesian-Networks\\bayesian\\redef_HC.py:246: RuntimeWarning: overflow encountered in double_scalars\n",
      "  delta1 = -1* nrow * (mi_old - mi_new)\n",
      "c:\\Users\\anaxa\\Documents\\Projects\\Mixed-Learning-of-Bayesian-Networks\\bayesian\\redef_HC.py:258: RuntimeWarning: overflow encountered in double_scalars\n",
      "  delta2 = nrow * (mi_old - mi_new)\n"
     ]
    }
   ],
   "source": [
    "bn_geo = structure_learning(geo_coded, 'HC', 'MI', geo_new_types)"
   ]
  },
  {
   "cell_type": "code",
   "execution_count": 44,
   "metadata": {},
   "outputs": [
    {
     "output_type": "display_data",
     "data": {
      "text/plain": "<Figure size 2025x225 with 1 Axes>",
      "image/svg+xml": "<?xml version=\"1.0\" encoding=\"utf-8\" standalone=\"no\"?>\r\n<!DOCTYPE svg PUBLIC \"-//W3C//DTD SVG 1.1//EN\"\r\n  \"http://www.w3.org/Graphics/SVG/1.1/DTD/svg11.dtd\">\r\n<!-- Created with matplotlib (https://matplotlib.org/) -->\r\n<svg height=\"100.8pt\" version=\"1.1\" viewBox=\"0 0 964.8 100.8\" width=\"964.8pt\" xmlns=\"http://www.w3.org/2000/svg\" xmlns:xlink=\"http://www.w3.org/1999/xlink\">\r\n <metadata>\r\n  <rdf:RDF xmlns:cc=\"http://creativecommons.org/ns#\" xmlns:dc=\"http://purl.org/dc/elements/1.1/\" xmlns:rdf=\"http://www.w3.org/1999/02/22-rdf-syntax-ns#\">\r\n   <cc:Work>\r\n    <dc:type rdf:resource=\"http://purl.org/dc/dcmitype/StillImage\"/>\r\n    <dc:date>2021-05-01T14:57:58.130975</dc:date>\r\n    <dc:format>image/svg+xml</dc:format>\r\n    <dc:creator>\r\n     <cc:Agent>\r\n      <dc:title>Matplotlib v3.3.4, https://matplotlib.org/</dc:title>\r\n     </cc:Agent>\r\n    </dc:creator>\r\n   </cc:Work>\r\n  </rdf:RDF>\r\n </metadata>\r\n <defs>\r\n  <style type=\"text/css\">*{stroke-linecap:butt;stroke-linejoin:round;}</style>\r\n </defs>\r\n <g id=\"figure_1\">\r\n  <g id=\"patch_1\">\r\n   <path d=\"M 0 100.8 \r\nL 964.8 100.8 \r\nL 964.8 0 \r\nL 0 0 \r\nz\r\n\" style=\"fill:none;\"/>\r\n  </g>\r\n  <g id=\"axes_1\">\r\n   <g id=\"legend_1\">\r\n    <g id=\"patch_2\">\r\n     <path d=\"M 421.545312 59.239062 \r\nL 543.254687 59.239062 \r\nQ 545.254687 59.239062 545.254687 57.239062 \r\nL 545.254687 43.560937 \r\nQ 545.254687 41.560937 543.254687 41.560937 \r\nL 421.545312 41.560937 \r\nQ 419.545312 41.560937 419.545312 43.560937 \r\nL 419.545312 57.239062 \r\nQ 419.545312 59.239062 421.545312 59.239062 \r\nz\r\n\" style=\"fill:#ffffff;opacity:0.8;stroke:#cccccc;stroke-linejoin:miter;\"/>\r\n    </g>\r\n    <g id=\"patch_3\">\r\n     <path d=\"M 423.545312 53.159375 \r\nL 443.545312 53.159375 \r\nL 443.545312 46.159375 \r\nL 423.545312 46.159375 \r\nz\r\n\" style=\"fill:#9467bd;stroke:#9467bd;stroke-linejoin:miter;\"/>\r\n    </g>\r\n    <g id=\"text_1\">\r\n     <!-- disc -->\r\n     <g transform=\"translate(451.545312 53.159375)scale(0.1 -0.1)\">\r\n      <defs>\r\n       <path d=\"M 45.40625 46.390625 \r\nL 45.40625 75.984375 \r\nL 54.390625 75.984375 \r\nL 54.390625 0 \r\nL 45.40625 0 \r\nL 45.40625 8.203125 \r\nQ 42.578125 3.328125 38.25 0.953125 \r\nQ 33.9375 -1.421875 27.875 -1.421875 \r\nQ 17.96875 -1.421875 11.734375 6.484375 \r\nQ 5.515625 14.40625 5.515625 27.296875 \r\nQ 5.515625 40.1875 11.734375 48.09375 \r\nQ 17.96875 56 27.875 56 \r\nQ 33.9375 56 38.25 53.625 \r\nQ 42.578125 51.265625 45.40625 46.390625 \r\nz\r\nM 14.796875 27.296875 \r\nQ 14.796875 17.390625 18.875 11.75 \r\nQ 22.953125 6.109375 30.078125 6.109375 \r\nQ 37.203125 6.109375 41.296875 11.75 \r\nQ 45.40625 17.390625 45.40625 27.296875 \r\nQ 45.40625 37.203125 41.296875 42.84375 \r\nQ 37.203125 48.484375 30.078125 48.484375 \r\nQ 22.953125 48.484375 18.875 42.84375 \r\nQ 14.796875 37.203125 14.796875 27.296875 \r\nz\r\n\" id=\"DejaVuSans-100\"/>\r\n       <path d=\"M 9.421875 54.6875 \r\nL 18.40625 54.6875 \r\nL 18.40625 0 \r\nL 9.421875 0 \r\nz\r\nM 9.421875 75.984375 \r\nL 18.40625 75.984375 \r\nL 18.40625 64.59375 \r\nL 9.421875 64.59375 \r\nz\r\n\" id=\"DejaVuSans-105\"/>\r\n       <path d=\"M 44.28125 53.078125 \r\nL 44.28125 44.578125 \r\nQ 40.484375 46.53125 36.375 47.5 \r\nQ 32.28125 48.484375 27.875 48.484375 \r\nQ 21.1875 48.484375 17.84375 46.4375 \r\nQ 14.5 44.390625 14.5 40.28125 \r\nQ 14.5 37.15625 16.890625 35.375 \r\nQ 19.28125 33.59375 26.515625 31.984375 \r\nL 29.59375 31.296875 \r\nQ 39.15625 29.25 43.1875 25.515625 \r\nQ 47.21875 21.78125 47.21875 15.09375 \r\nQ 47.21875 7.46875 41.1875 3.015625 \r\nQ 35.15625 -1.421875 24.609375 -1.421875 \r\nQ 20.21875 -1.421875 15.453125 -0.5625 \r\nQ 10.6875 0.296875 5.421875 2 \r\nL 5.421875 11.28125 \r\nQ 10.40625 8.6875 15.234375 7.390625 \r\nQ 20.0625 6.109375 24.8125 6.109375 \r\nQ 31.15625 6.109375 34.5625 8.28125 \r\nQ 37.984375 10.453125 37.984375 14.40625 \r\nQ 37.984375 18.0625 35.515625 20.015625 \r\nQ 33.0625 21.96875 24.703125 23.78125 \r\nL 21.578125 24.515625 \r\nQ 13.234375 26.265625 9.515625 29.90625 \r\nQ 5.8125 33.546875 5.8125 39.890625 \r\nQ 5.8125 47.609375 11.28125 51.796875 \r\nQ 16.75 56 26.8125 56 \r\nQ 31.78125 56 36.171875 55.265625 \r\nQ 40.578125 54.546875 44.28125 53.078125 \r\nz\r\n\" id=\"DejaVuSans-115\"/>\r\n       <path d=\"M 48.78125 52.59375 \r\nL 48.78125 44.1875 \r\nQ 44.96875 46.296875 41.140625 47.34375 \r\nQ 37.3125 48.390625 33.40625 48.390625 \r\nQ 24.65625 48.390625 19.8125 42.84375 \r\nQ 14.984375 37.3125 14.984375 27.296875 \r\nQ 14.984375 17.28125 19.8125 11.734375 \r\nQ 24.65625 6.203125 33.40625 6.203125 \r\nQ 37.3125 6.203125 41.140625 7.25 \r\nQ 44.96875 8.296875 48.78125 10.40625 \r\nL 48.78125 2.09375 \r\nQ 45.015625 0.34375 40.984375 -0.53125 \r\nQ 36.96875 -1.421875 32.421875 -1.421875 \r\nQ 20.0625 -1.421875 12.78125 6.34375 \r\nQ 5.515625 14.109375 5.515625 27.296875 \r\nQ 5.515625 40.671875 12.859375 48.328125 \r\nQ 20.21875 56 33.015625 56 \r\nQ 37.15625 56 41.109375 55.140625 \r\nQ 45.0625 54.296875 48.78125 52.59375 \r\nz\r\n\" id=\"DejaVuSans-99\"/>\r\n      </defs>\r\n      <use xlink:href=\"#DejaVuSans-100\"/>\r\n      <use x=\"63.476562\" xlink:href=\"#DejaVuSans-105\"/>\r\n      <use x=\"91.259766\" xlink:href=\"#DejaVuSans-115\"/>\r\n      <use x=\"143.359375\" xlink:href=\"#DejaVuSans-99\"/>\r\n     </g>\r\n    </g>\r\n    <g id=\"patch_4\">\r\n     <path d=\"M 491.379687 53.159375 \r\nL 511.379687 53.159375 \r\nL 511.379687 46.159375 \r\nL 491.379687 46.159375 \r\nz\r\n\" style=\"fill:#17becf;stroke:#17becf;stroke-linejoin:miter;\"/>\r\n    </g>\r\n    <g id=\"text_2\">\r\n     <!-- cont -->\r\n     <g transform=\"translate(519.379687 53.159375)scale(0.1 -0.1)\">\r\n      <defs>\r\n       <path d=\"M 30.609375 48.390625 \r\nQ 23.390625 48.390625 19.1875 42.75 \r\nQ 14.984375 37.109375 14.984375 27.296875 \r\nQ 14.984375 17.484375 19.15625 11.84375 \r\nQ 23.34375 6.203125 30.609375 6.203125 \r\nQ 37.796875 6.203125 41.984375 11.859375 \r\nQ 46.1875 17.53125 46.1875 27.296875 \r\nQ 46.1875 37.015625 41.984375 42.703125 \r\nQ 37.796875 48.390625 30.609375 48.390625 \r\nz\r\nM 30.609375 56 \r\nQ 42.328125 56 49.015625 48.375 \r\nQ 55.71875 40.765625 55.71875 27.296875 \r\nQ 55.71875 13.875 49.015625 6.21875 \r\nQ 42.328125 -1.421875 30.609375 -1.421875 \r\nQ 18.84375 -1.421875 12.171875 6.21875 \r\nQ 5.515625 13.875 5.515625 27.296875 \r\nQ 5.515625 40.765625 12.171875 48.375 \r\nQ 18.84375 56 30.609375 56 \r\nz\r\n\" id=\"DejaVuSans-111\"/>\r\n       <path d=\"M 54.890625 33.015625 \r\nL 54.890625 0 \r\nL 45.90625 0 \r\nL 45.90625 32.71875 \r\nQ 45.90625 40.484375 42.875 44.328125 \r\nQ 39.84375 48.1875 33.796875 48.1875 \r\nQ 26.515625 48.1875 22.3125 43.546875 \r\nQ 18.109375 38.921875 18.109375 30.90625 \r\nL 18.109375 0 \r\nL 9.078125 0 \r\nL 9.078125 54.6875 \r\nL 18.109375 54.6875 \r\nL 18.109375 46.1875 \r\nQ 21.34375 51.125 25.703125 53.5625 \r\nQ 30.078125 56 35.796875 56 \r\nQ 45.21875 56 50.046875 50.171875 \r\nQ 54.890625 44.34375 54.890625 33.015625 \r\nz\r\n\" id=\"DejaVuSans-110\"/>\r\n       <path d=\"M 18.3125 70.21875 \r\nL 18.3125 54.6875 \r\nL 36.8125 54.6875 \r\nL 36.8125 47.703125 \r\nL 18.3125 47.703125 \r\nL 18.3125 18.015625 \r\nQ 18.3125 11.328125 20.140625 9.421875 \r\nQ 21.96875 7.515625 27.59375 7.515625 \r\nL 36.8125 7.515625 \r\nL 36.8125 0 \r\nL 27.59375 0 \r\nQ 17.1875 0 13.234375 3.875 \r\nQ 9.28125 7.765625 9.28125 18.015625 \r\nL 9.28125 47.703125 \r\nL 2.6875 47.703125 \r\nL 2.6875 54.6875 \r\nL 9.28125 54.6875 \r\nL 9.28125 70.21875 \r\nz\r\n\" id=\"DejaVuSans-116\"/>\r\n      </defs>\r\n      <use xlink:href=\"#DejaVuSans-99\"/>\r\n      <use x=\"54.980469\" xlink:href=\"#DejaVuSans-111\"/>\r\n      <use x=\"116.162109\" xlink:href=\"#DejaVuSans-110\"/>\r\n      <use x=\"179.541016\" xlink:href=\"#DejaVuSans-116\"/>\r\n     </g>\r\n    </g>\r\n   </g>\r\n  </g>\r\n </g>\r\n</svg>\r\n",
      "image/png": "[encoded data removed]"
     },
     "metadata": {
      "needs_background": "light"
     }
    },
    {
     "output_type": "execute_result",
     "data": {
      "text/plain": [
       "<IPython.lib.display.IFrame at 0x1e90bf0c0a0>"
      ],
      "text/html": "\n        <iframe\n            width=\"100%\"\n            height=\"800px\"\n            src=\"../visualization_result/geo_net.html\"\n            frameborder=\"0\"\n            allowfullscreen\n        ></iframe>\n        "
     },
     "metadata": {},
     "execution_count": 44
    }
   ],
   "source": [
    "draw_BN(bn_geo, geo_types, 'geo_net')"
   ]
  },
  {
   "cell_type": "code",
   "execution_count": 45,
   "metadata": {},
   "outputs": [],
   "source": [
    "params = parameter_learning(geo_only_discrete, geo_new_types, bn_geo)"
   ]
  },
  {
   "cell_type": "code",
   "execution_count": 46,
   "metadata": {},
   "outputs": [],
   "source": [
    "save_structure(bn_geo, 'geo_net')\n",
    "skel = read_structure('geo_net')\n",
    "save_params(params, 'geo_net_param')\n",
    "params = read_params('geo_net_param')\n",
    "geo_bn = HyBayesianNetwork(skel, params)"
   ]
  },
  {
   "cell_type": "code",
   "execution_count": 47,
   "metadata": {},
   "outputs": [
    {
     "output_type": "stream",
     "name": "stdout",
     "text": [
      "7\n",
      "7\n",
      "7\n",
      "7\n",
      "7\n",
      "7\n",
      "7\n",
      "12\n",
      "12\n",
      "12\n",
      "12\n",
      "12\n",
      "12\n",
      "12\n",
      "21\n",
      "21\n",
      "21\n",
      "21\n",
      "21\n",
      "21\n",
      "21\n",
      "22\n",
      "22\n",
      "22\n",
      "22\n",
      "22\n",
      "27\n",
      "27\n",
      "27\n",
      "27\n",
      "27\n",
      "27\n",
      "27\n",
      "C:\\Users\\anaxa\\AppData\\Local\\Programs\\Python\\Python38\\lib\\site-packages\\sklearn\\metrics\\_classification.py:208: FutureWarning: elementwise comparison failed; returning scalar instead, but in the future will perform elementwise comparison\n",
      "  score = y_true == y_pred\n",
      "C:\\Users\\anaxa\\AppData\\Local\\Programs\\Python\\Python38\\lib\\site-packages\\sklearn\\metrics\\_classification.py:208: FutureWarning: elementwise comparison failed; returning scalar instead, but in the future will perform elementwise comparison\n",
      "  score = y_true == y_pred\n",
      "C:\\Users\\anaxa\\AppData\\Local\\Programs\\Python\\Python38\\lib\\site-packages\\sklearn\\metrics\\_classification.py:208: FutureWarning: elementwise comparison failed; returning scalar instead, but in the future will perform elementwise comparison\n",
      "  score = y_true == y_pred\n",
      "C:\\Users\\anaxa\\AppData\\Local\\Programs\\Python\\Python38\\lib\\site-packages\\sklearn\\metrics\\_classification.py:208: FutureWarning: elementwise comparison failed; returning scalar instead, but in the future will perform elementwise comparison\n",
      "  score = y_true == y_pred\n",
      "C:\\Users\\anaxa\\AppData\\Local\\Programs\\Python\\Python38\\lib\\site-packages\\sklearn\\metrics\\_classification.py:208: FutureWarning: elementwise comparison failed; returning scalar instead, but in the future will perform elementwise comparison\n",
      "  score = y_true == y_pred\n"
     ]
    }
   ],
   "source": [
    "acc, rmse, real, pred = calculate_acc(geo_bn, test_discrete, columns)"
   ]
  },
  {
   "cell_type": "code",
   "execution_count": 48,
   "metadata": {},
   "outputs": [
    {
     "output_type": "execute_result",
     "data": {
      "text/plain": [
       "{'Tectonic regime': 0.58,\n",
       " 'Period': 0.29,\n",
       " 'Lithology': 0.53,\n",
       " 'Structural setting': 0.6,\n",
       " 'Hydrocarbon type': 0.56,\n",
       " 'Gross': 0.0,\n",
       " 'Netpay': 0.0,\n",
       " 'Porosity': 0.0,\n",
       " 'Permeability': 0.0,\n",
       " 'Depth': 0.0}"
      ]
     },
     "metadata": {},
     "execution_count": 48
    }
   ],
   "source": [
    "acc"
   ]
  },
  {
   "cell_type": "code",
   "execution_count": 49,
   "metadata": {},
   "outputs": [],
   "source": [
    "for key in colums_for_code:\n",
    "    df_result_accuracy = df_result_accuracy.append({'Parameter': key, 'Strategy': 'HC', 'Alg':'M+D','accuracy':acc[key]}, ignore_index=True)"
   ]
  },
  {
   "cell_type": "code",
   "execution_count": 50,
   "metadata": {},
   "outputs": [],
   "source": [
    "invers_real = inverse_discretization(pd.DataFrame(np.transpose(real[5:10]), columns=['Gross', 'Netpay', 'Porosity', 'Permeability', 'Depth']), ['Gross', 'Netpay', 'Porosity', 'Permeability', 'Depth'], discrete_coder)"
   ]
  },
  {
   "cell_type": "code",
   "execution_count": 51,
   "metadata": {},
   "outputs": [],
   "source": [
    "invers_pred = inverse_discretization(pd.DataFrame(np.transpose(pred[5:10]), columns=['Gross', 'Netpay', 'Porosity', 'Permeability', 'Depth']), ['Gross', 'Netpay', 'Porosity', 'Permeability', 'Depth'], discrete_coder)"
   ]
  },
  {
   "cell_type": "code",
   "execution_count": 52,
   "metadata": {},
   "outputs": [],
   "source": [
    "mean_squared_error(invers_real['Gross'], invers_pred['Gross'], squared=False)\n",
    "df_result_rmse = df_result_rmse.append({'Parameter': 'Gross', 'Strategy': 'HC', 'Alg':'M+D','rmse':mean_squared_error(invers_real['Gross'], invers_pred['Gross'], squared=False)}, ignore_index=True)"
   ]
  },
  {
   "cell_type": "code",
   "execution_count": 53,
   "metadata": {},
   "outputs": [],
   "source": [
    "mean_squared_error(invers_real['Netpay'], invers_pred['Netpay'], squared=False)\n",
    "df_result_rmse = df_result_rmse.append({'Parameter': 'Netpay', 'Strategy': 'HC', 'Alg':'M+D','rmse':mean_squared_error(invers_real['Netpay'], invers_pred['Netpay'], squared=False)}, ignore_index=True)"
   ]
  },
  {
   "cell_type": "code",
   "execution_count": 54,
   "metadata": {},
   "outputs": [],
   "source": [
    "mean_squared_error(invers_real['Porosity'], invers_pred['Porosity'], squared=False)\n",
    "df_result_rmse = df_result_rmse.append({'Parameter': 'Porosity', 'Strategy': 'HC', 'Alg':'M+D','rmse':mean_squared_error(invers_real['Porosity'], invers_pred['Porosity'], squared=False)}, ignore_index=True)"
   ]
  },
  {
   "cell_type": "code",
   "execution_count": 55,
   "metadata": {},
   "outputs": [],
   "source": [
    "mean_squared_error(invers_real['Permeability'], invers_pred['Permeability'], squared=False)\n",
    "df_result_rmse = df_result_rmse.append({'Parameter': 'Permeability', 'Strategy': 'HC', 'Alg':'M+D','rmse':mean_squared_error(invers_real['Permeability'], invers_pred['Permeability'], squared=False)}, ignore_index=True)"
   ]
  },
  {
   "cell_type": "code",
   "execution_count": 56,
   "metadata": {},
   "outputs": [],
   "source": [
    "mean_squared_error(invers_real['Depth'], invers_pred['Depth'], squared=False)\n",
    "df_result_rmse = df_result_rmse.append({'Parameter': 'Depth', 'Strategy': 'HC', 'Alg':'M+D','rmse':mean_squared_error(invers_real['Depth'], invers_pred['Depth'], squared=False)}, ignore_index=True)"
   ]
  },
  {
   "source": [
    "# EVO"
   ],
   "cell_type": "markdown",
   "metadata": {}
  },
  {
   "source": [
    "# Дискретная стурктура + смешанные параметры"
   ],
   "cell_type": "markdown",
   "metadata": {}
  },
  {
   "cell_type": "code",
   "execution_count": 57,
   "metadata": {},
   "outputs": [
    {
     "output_type": "stream",
     "name": "stdout",
     "text": [
      "Cannot add to history: 'str' object has no attribute 'operation_type'\n",
      "Best metric is 13.092799999999999\n",
      "Generation num: 0\n",
      "max_depth: 3, no improvements: 0\n",
      "Number of crossover attempts exceeded. Please check composer requirements for correctness.\n",
      "Number of crossover attempts exceeded. Please check composer requirements for correctness.\n",
      "Cannot add to history: 'str' object has no attribute 'operation_type'\n",
      "spent time: 0.1 min\n",
      "Best metric is 11.6002\n",
      "Generation num: 1\n",
      "max_depth: 3, no improvements: 0\n",
      "Cannot add to history: 'str' object has no attribute 'operation_type'\n",
      "spent time: 0.1 min\n",
      "Best metric is 11.5975\n",
      "Generation num: 2\n",
      "max_depth: 3, no improvements: 0\n",
      "Number of mutation attempts exceeded. Please check composer requirements for correctness.\n",
      "Cannot add to history: 'str' object has no attribute 'operation_type'\n",
      "spent time: 0.1 min\n",
      "Best metric is 11.149700000000001\n",
      "Generation num: 3\n",
      "max_depth: 3, no improvements: 0\n",
      "Number of mutation attempts exceeded. Please check composer requirements for correctness.\n",
      "Cannot add to history: 'str' object has no attribute 'operation_type'\n",
      "spent time: 0.2 min\n",
      "Best metric is 11.131400000000001\n",
      "Generation num: 4\n",
      "max_depth: 3, no improvements: 0\n",
      "Cannot add to history: 'str' object has no attribute 'operation_type'\n",
      "spent time: 0.2 min\n",
      "Best metric is 11.131400000000001\n",
      "Generation num: 5\n",
      "max_depth: 3, no improvements: 1\n",
      "Cannot add to history: 'str' object has no attribute 'operation_type'\n",
      "spent time: 0.3 min\n",
      "Best metric is 11.131400000000001\n",
      "Generation num: 6\n",
      "max_depth: 3, no improvements: 2\n",
      "Cannot add to history: 'str' object has no attribute 'operation_type'\n",
      "spent time: 0.3 min\n",
      "Best metric is 11.052200000000001\n",
      "Generation num: 7\n",
      "max_depth: 3, no improvements: 0\n",
      "Cannot add to history: 'str' object has no attribute 'operation_type'\n",
      "spent time: 0.4 min\n",
      "Best metric is 11.052200000000001\n",
      "Generation num: 8\n",
      "max_depth: 3, no improvements: 1\n",
      "Cannot add to history: 'str' object has no attribute 'operation_type'\n",
      "spent time: 0.4 min\n",
      "Best metric is 9.632100000000001\n",
      "Generation num: 9\n",
      "max_depth: 3, no improvements: 0\n",
      "Number of mutation attempts exceeded. Please check composer requirements for correctness.\n",
      "Cannot add to history: 'str' object has no attribute 'operation_type'\n",
      "spent time: 0.5 min\n",
      "Best metric is 9.5916\n",
      "Generation num: 10\n",
      "max_depth: 3, no improvements: 0\n",
      "Number of mutation attempts exceeded. Please check composer requirements for correctness.\n",
      "Number of mutation attempts exceeded. Please check composer requirements for correctness.\n",
      "Cannot add to history: 'str' object has no attribute 'operation_type'\n",
      "spent time: 0.5 min\n",
      "Best metric is 9.5916\n",
      "Generation num: 11\n",
      "max_depth: 3, no improvements: 1\n",
      "Number of mutation attempts exceeded. Please check composer requirements for correctness.\n",
      "Cannot add to history: 'str' object has no attribute 'operation_type'\n",
      "spent time: 0.6 min\n",
      "Best metric is 9.5916\n",
      "Generation num: 12\n",
      "max_depth: 3, no improvements: 2\n",
      "Cannot add to history: 'str' object has no attribute 'operation_type'\n",
      "spent time: 0.7 min\n",
      "Best metric is 9.4936\n",
      "Generation num: 13\n",
      "max_depth: 3, no improvements: 0\n",
      "Number of mutation attempts exceeded. Please check composer requirements for correctness.\n",
      "Number of mutation attempts exceeded. Please check composer requirements for correctness.\n",
      "Cannot add to history: 'str' object has no attribute 'operation_type'\n",
      "spent time: 0.7 min\n",
      "Best metric is 9.4936\n",
      "Generation num: 14\n",
      "max_depth: 3, no improvements: 1\n",
      "Number of mutation attempts exceeded. Please check composer requirements for correctness.\n",
      "Number of mutation attempts exceeded. Please check composer requirements for correctness.\n",
      "Number of mutation attempts exceeded. Please check composer requirements for correctness.\n",
      "Cannot add to history: 'str' object has no attribute 'operation_type'\n",
      "spent time: 0.8 min\n",
      "Best metric is 9.4936\n",
      "Generation num: 15\n",
      "max_depth: 3, no improvements: 2\n",
      "Number of mutation attempts exceeded. Please check composer requirements for correctness.\n",
      "Number of mutation attempts exceeded. Please check composer requirements for correctness.\n",
      "Number of mutation attempts exceeded. Please check composer requirements for correctness.\n",
      "Cannot add to history: 'str' object has no attribute 'operation_type'\n",
      "spent time: 0.8 min\n",
      "Best metric is 9.4936\n",
      "Generation num: 16\n",
      "max_depth: 3, no improvements: 3\n",
      "Number of mutation attempts exceeded. Please check composer requirements for correctness.\n",
      "Number of mutation attempts exceeded. Please check composer requirements for correctness.\n",
      "Number of mutation attempts exceeded. Please check composer requirements for correctness.\n",
      "Cannot add to history: 'str' object has no attribute 'operation_type'\n",
      "spent time: 0.9 min\n",
      "Best metric is 9.4936\n",
      "Generation num: 17\n",
      "max_depth: 3, no improvements: 4\n",
      "Number of mutation attempts exceeded. Please check composer requirements for correctness.\n",
      "Number of mutation attempts exceeded. Please check composer requirements for correctness.\n",
      "Cannot add to history: 'str' object has no attribute 'operation_type'\n",
      "spent time: 0.9 min\n",
      "Best metric is 9.4328\n",
      "Generation num: 18\n",
      "max_depth: 3, no improvements: 0\n",
      "Number of mutation attempts exceeded. Please check composer requirements for correctness.\n",
      "Number of mutation attempts exceeded. Please check composer requirements for correctness.\n",
      "Number of mutation attempts exceeded. Please check composer requirements for correctness.\n",
      "Cannot add to history: 'str' object has no attribute 'operation_type'\n",
      "spent time: 1.0 min\n",
      "Best metric is 9.4328\n",
      "Generation num: 19\n",
      "max_depth: 3, no improvements: 1\n",
      "Number of mutation attempts exceeded. Please check composer requirements for correctness.\n",
      "Number of mutation attempts exceeded. Please check composer requirements for correctness.\n",
      "Cannot add to history: 'str' object has no attribute 'operation_type'\n",
      "spent time: 1.1 min\n",
      "Best metric is 9.4328\n",
      "Generation num: 20\n",
      "max_depth: 3, no improvements: 2\n",
      "Number of mutation attempts exceeded. Please check composer requirements for correctness.\n",
      "Number of mutation attempts exceeded. Please check composer requirements for correctness.\n",
      "Number of mutation attempts exceeded. Please check composer requirements for correctness.\n",
      "Cannot add to history: 'str' object has no attribute 'operation_type'\n",
      "spent time: 1.1 min\n",
      "Best metric is 9.4328\n",
      "Generation num: 21\n",
      "max_depth: 3, no improvements: 3\n",
      "Number of mutation attempts exceeded. Please check composer requirements for correctness.\n",
      "Number of mutation attempts exceeded. Please check composer requirements for correctness.\n",
      "Number of mutation attempts exceeded. Please check composer requirements for correctness.\n",
      "Number of mutation attempts exceeded. Please check composer requirements for correctness.\n",
      "Cannot add to history: 'str' object has no attribute 'operation_type'\n",
      "spent time: 1.2 min\n",
      "Best metric is 9.4328\n",
      "Generation num: 22\n",
      "max_depth: 3, no improvements: 4\n",
      "Cannot add to history: 'str' object has no attribute 'operation_type'\n",
      "spent time: 1.3 min\n",
      "Best metric is 9.4328\n",
      "Generation num: 23\n",
      "max_depth: 3, no improvements: 5\n",
      "Number of mutation attempts exceeded. Please check composer requirements for correctness.\n",
      "Cannot add to history: 'str' object has no attribute 'operation_type'\n",
      "spent time: 1.3 min\n",
      "Best metric is 9.4328\n",
      "Generation num: 24\n",
      "max_depth: 3, no improvements: 6\n",
      "Number of mutation attempts exceeded. Please check composer requirements for correctness.\n",
      "Number of mutation attempts exceeded. Please check composer requirements for correctness.\n",
      "Cannot add to history: 'str' object has no attribute 'operation_type'\n",
      "spent time: 1.3 min\n",
      "Best metric is 9.4328\n",
      "Generation num: 25\n",
      "max_depth: 3, no improvements: 7\n",
      "Cannot add to history: 'str' object has no attribute 'operation_type'\n",
      "spent time: 1.4 min\n",
      "Best metric is 9.4328\n",
      "Generation num: 26\n",
      "max_depth: 3, no improvements: 8\n",
      "Number of mutation attempts exceeded. Please check composer requirements for correctness.\n",
      "Number of mutation attempts exceeded. Please check composer requirements for correctness.\n",
      "Cannot add to history: 'str' object has no attribute 'operation_type'\n",
      "spent time: 1.4 min\n",
      "Best metric is 9.4328\n",
      "Generation num: 27\n",
      "max_depth: 3, no improvements: 9\n",
      "Number of mutation attempts exceeded. Please check composer requirements for correctness.\n",
      "Cannot add to history: 'str' object has no attribute 'operation_type'\n",
      "spent time: 1.5 min\n",
      "Best metric is 9.4328\n",
      "Generation num: 28\n",
      "max_depth: 3, no improvements: 10\n",
      "Number of mutation attempts exceeded. Please check composer requirements for correctness.\n",
      "Cannot add to history: 'str' object has no attribute 'operation_type'\n",
      "spent time: 1.5 min\n",
      "Best metric is 9.4328\n",
      "Result:\n",
      "Best metric is 9.4328\n",
      "Composition time: 1.522 min\n"
     ]
    }
   ],
   "source": [
    "bn_geo = structure_learning(geo_discrete, 'evo', 'MI', geo_types)"
   ]
  },
  {
   "cell_type": "code",
   "execution_count": 58,
   "metadata": {},
   "outputs": [
    {
     "output_type": "display_data",
     "data": {
      "text/plain": "<Figure size 2025x225 with 1 Axes>",
      "image/svg+xml": "<?xml version=\"1.0\" encoding=\"utf-8\" standalone=\"no\"?>\r\n<!DOCTYPE svg PUBLIC \"-//W3C//DTD SVG 1.1//EN\"\r\n  \"http://www.w3.org/Graphics/SVG/1.1/DTD/svg11.dtd\">\r\n<!-- Created with matplotlib (https://matplotlib.org/) -->\r\n<svg height=\"100.8pt\" version=\"1.1\" viewBox=\"0 0 964.8 100.8\" width=\"964.8pt\" xmlns=\"http://www.w3.org/2000/svg\" xmlns:xlink=\"http://www.w3.org/1999/xlink\">\r\n <metadata>\r\n  <rdf:RDF xmlns:cc=\"http://creativecommons.org/ns#\" xmlns:dc=\"http://purl.org/dc/elements/1.1/\" xmlns:rdf=\"http://www.w3.org/1999/02/22-rdf-syntax-ns#\">\r\n   <cc:Work>\r\n    <dc:type rdf:resource=\"http://purl.org/dc/dcmitype/StillImage\"/>\r\n    <dc:date>2021-05-01T15:00:00.519976</dc:date>\r\n    <dc:format>image/svg+xml</dc:format>\r\n    <dc:creator>\r\n     <cc:Agent>\r\n      <dc:title>Matplotlib v3.3.4, https://matplotlib.org/</dc:title>\r\n     </cc:Agent>\r\n    </dc:creator>\r\n   </cc:Work>\r\n  </rdf:RDF>\r\n </metadata>\r\n <defs>\r\n  <style type=\"text/css\">*{stroke-linecap:butt;stroke-linejoin:round;}</style>\r\n </defs>\r\n <g id=\"figure_1\">\r\n  <g id=\"patch_1\">\r\n   <path d=\"M 0 100.8 \r\nL 964.8 100.8 \r\nL 964.8 0 \r\nL 0 0 \r\nz\r\n\" style=\"fill:none;\"/>\r\n  </g>\r\n  <g id=\"axes_1\">\r\n   <g id=\"legend_1\">\r\n    <g id=\"patch_2\">\r\n     <path d=\"M 421.545312 59.239062 \r\nL 543.254687 59.239062 \r\nQ 545.254687 59.239062 545.254687 57.239062 \r\nL 545.254687 43.560937 \r\nQ 545.254687 41.560937 543.254687 41.560937 \r\nL 421.545312 41.560937 \r\nQ 419.545312 41.560937 419.545312 43.560937 \r\nL 419.545312 57.239062 \r\nQ 419.545312 59.239062 421.545312 59.239062 \r\nz\r\n\" style=\"fill:#ffffff;opacity:0.8;stroke:#cccccc;stroke-linejoin:miter;\"/>\r\n    </g>\r\n    <g id=\"patch_3\">\r\n     <path d=\"M 423.545312 53.159375 \r\nL 443.545312 53.159375 \r\nL 443.545312 46.159375 \r\nL 423.545312 46.159375 \r\nz\r\n\" style=\"fill:#9467bd;stroke:#9467bd;stroke-linejoin:miter;\"/>\r\n    </g>\r\n    <g id=\"text_1\">\r\n     <!-- disc -->\r\n     <g transform=\"translate(451.545312 53.159375)scale(0.1 -0.1)\">\r\n      <defs>\r\n       <path d=\"M 45.40625 46.390625 \r\nL 45.40625 75.984375 \r\nL 54.390625 75.984375 \r\nL 54.390625 0 \r\nL 45.40625 0 \r\nL 45.40625 8.203125 \r\nQ 42.578125 3.328125 38.25 0.953125 \r\nQ 33.9375 -1.421875 27.875 -1.421875 \r\nQ 17.96875 -1.421875 11.734375 6.484375 \r\nQ 5.515625 14.40625 5.515625 27.296875 \r\nQ 5.515625 40.1875 11.734375 48.09375 \r\nQ 17.96875 56 27.875 56 \r\nQ 33.9375 56 38.25 53.625 \r\nQ 42.578125 51.265625 45.40625 46.390625 \r\nz\r\nM 14.796875 27.296875 \r\nQ 14.796875 17.390625 18.875 11.75 \r\nQ 22.953125 6.109375 30.078125 6.109375 \r\nQ 37.203125 6.109375 41.296875 11.75 \r\nQ 45.40625 17.390625 45.40625 27.296875 \r\nQ 45.40625 37.203125 41.296875 42.84375 \r\nQ 37.203125 48.484375 30.078125 48.484375 \r\nQ 22.953125 48.484375 18.875 42.84375 \r\nQ 14.796875 37.203125 14.796875 27.296875 \r\nz\r\n\" id=\"DejaVuSans-100\"/>\r\n       <path d=\"M 9.421875 54.6875 \r\nL 18.40625 54.6875 \r\nL 18.40625 0 \r\nL 9.421875 0 \r\nz\r\nM 9.421875 75.984375 \r\nL 18.40625 75.984375 \r\nL 18.40625 64.59375 \r\nL 9.421875 64.59375 \r\nz\r\n\" id=\"DejaVuSans-105\"/>\r\n       <path d=\"M 44.28125 53.078125 \r\nL 44.28125 44.578125 \r\nQ 40.484375 46.53125 36.375 47.5 \r\nQ 32.28125 48.484375 27.875 48.484375 \r\nQ 21.1875 48.484375 17.84375 46.4375 \r\nQ 14.5 44.390625 14.5 40.28125 \r\nQ 14.5 37.15625 16.890625 35.375 \r\nQ 19.28125 33.59375 26.515625 31.984375 \r\nL 29.59375 31.296875 \r\nQ 39.15625 29.25 43.1875 25.515625 \r\nQ 47.21875 21.78125 47.21875 15.09375 \r\nQ 47.21875 7.46875 41.1875 3.015625 \r\nQ 35.15625 -1.421875 24.609375 -1.421875 \r\nQ 20.21875 -1.421875 15.453125 -0.5625 \r\nQ 10.6875 0.296875 5.421875 2 \r\nL 5.421875 11.28125 \r\nQ 10.40625 8.6875 15.234375 7.390625 \r\nQ 20.0625 6.109375 24.8125 6.109375 \r\nQ 31.15625 6.109375 34.5625 8.28125 \r\nQ 37.984375 10.453125 37.984375 14.40625 \r\nQ 37.984375 18.0625 35.515625 20.015625 \r\nQ 33.0625 21.96875 24.703125 23.78125 \r\nL 21.578125 24.515625 \r\nQ 13.234375 26.265625 9.515625 29.90625 \r\nQ 5.8125 33.546875 5.8125 39.890625 \r\nQ 5.8125 47.609375 11.28125 51.796875 \r\nQ 16.75 56 26.8125 56 \r\nQ 31.78125 56 36.171875 55.265625 \r\nQ 40.578125 54.546875 44.28125 53.078125 \r\nz\r\n\" id=\"DejaVuSans-115\"/>\r\n       <path d=\"M 48.78125 52.59375 \r\nL 48.78125 44.1875 \r\nQ 44.96875 46.296875 41.140625 47.34375 \r\nQ 37.3125 48.390625 33.40625 48.390625 \r\nQ 24.65625 48.390625 19.8125 42.84375 \r\nQ 14.984375 37.3125 14.984375 27.296875 \r\nQ 14.984375 17.28125 19.8125 11.734375 \r\nQ 24.65625 6.203125 33.40625 6.203125 \r\nQ 37.3125 6.203125 41.140625 7.25 \r\nQ 44.96875 8.296875 48.78125 10.40625 \r\nL 48.78125 2.09375 \r\nQ 45.015625 0.34375 40.984375 -0.53125 \r\nQ 36.96875 -1.421875 32.421875 -1.421875 \r\nQ 20.0625 -1.421875 12.78125 6.34375 \r\nQ 5.515625 14.109375 5.515625 27.296875 \r\nQ 5.515625 40.671875 12.859375 48.328125 \r\nQ 20.21875 56 33.015625 56 \r\nQ 37.15625 56 41.109375 55.140625 \r\nQ 45.0625 54.296875 48.78125 52.59375 \r\nz\r\n\" id=\"DejaVuSans-99\"/>\r\n      </defs>\r\n      <use xlink:href=\"#DejaVuSans-100\"/>\r\n      <use x=\"63.476562\" xlink:href=\"#DejaVuSans-105\"/>\r\n      <use x=\"91.259766\" xlink:href=\"#DejaVuSans-115\"/>\r\n      <use x=\"143.359375\" xlink:href=\"#DejaVuSans-99\"/>\r\n     </g>\r\n    </g>\r\n    <g id=\"patch_4\">\r\n     <path d=\"M 491.379687 53.159375 \r\nL 511.379687 53.159375 \r\nL 511.379687 46.159375 \r\nL 491.379687 46.159375 \r\nz\r\n\" style=\"fill:#17becf;stroke:#17becf;stroke-linejoin:miter;\"/>\r\n    </g>\r\n    <g id=\"text_2\">\r\n     <!-- cont -->\r\n     <g transform=\"translate(519.379687 53.159375)scale(0.1 -0.1)\">\r\n      <defs>\r\n       <path d=\"M 30.609375 48.390625 \r\nQ 23.390625 48.390625 19.1875 42.75 \r\nQ 14.984375 37.109375 14.984375 27.296875 \r\nQ 14.984375 17.484375 19.15625 11.84375 \r\nQ 23.34375 6.203125 30.609375 6.203125 \r\nQ 37.796875 6.203125 41.984375 11.859375 \r\nQ 46.1875 17.53125 46.1875 27.296875 \r\nQ 46.1875 37.015625 41.984375 42.703125 \r\nQ 37.796875 48.390625 30.609375 48.390625 \r\nz\r\nM 30.609375 56 \r\nQ 42.328125 56 49.015625 48.375 \r\nQ 55.71875 40.765625 55.71875 27.296875 \r\nQ 55.71875 13.875 49.015625 6.21875 \r\nQ 42.328125 -1.421875 30.609375 -1.421875 \r\nQ 18.84375 -1.421875 12.171875 6.21875 \r\nQ 5.515625 13.875 5.515625 27.296875 \r\nQ 5.515625 40.765625 12.171875 48.375 \r\nQ 18.84375 56 30.609375 56 \r\nz\r\n\" id=\"DejaVuSans-111\"/>\r\n       <path d=\"M 54.890625 33.015625 \r\nL 54.890625 0 \r\nL 45.90625 0 \r\nL 45.90625 32.71875 \r\nQ 45.90625 40.484375 42.875 44.328125 \r\nQ 39.84375 48.1875 33.796875 48.1875 \r\nQ 26.515625 48.1875 22.3125 43.546875 \r\nQ 18.109375 38.921875 18.109375 30.90625 \r\nL 18.109375 0 \r\nL 9.078125 0 \r\nL 9.078125 54.6875 \r\nL 18.109375 54.6875 \r\nL 18.109375 46.1875 \r\nQ 21.34375 51.125 25.703125 53.5625 \r\nQ 30.078125 56 35.796875 56 \r\nQ 45.21875 56 50.046875 50.171875 \r\nQ 54.890625 44.34375 54.890625 33.015625 \r\nz\r\n\" id=\"DejaVuSans-110\"/>\r\n       <path d=\"M 18.3125 70.21875 \r\nL 18.3125 54.6875 \r\nL 36.8125 54.6875 \r\nL 36.8125 47.703125 \r\nL 18.3125 47.703125 \r\nL 18.3125 18.015625 \r\nQ 18.3125 11.328125 20.140625 9.421875 \r\nQ 21.96875 7.515625 27.59375 7.515625 \r\nL 36.8125 7.515625 \r\nL 36.8125 0 \r\nL 27.59375 0 \r\nQ 17.1875 0 13.234375 3.875 \r\nQ 9.28125 7.765625 9.28125 18.015625 \r\nL 9.28125 47.703125 \r\nL 2.6875 47.703125 \r\nL 2.6875 54.6875 \r\nL 9.28125 54.6875 \r\nL 9.28125 70.21875 \r\nz\r\n\" id=\"DejaVuSans-116\"/>\r\n      </defs>\r\n      <use xlink:href=\"#DejaVuSans-99\"/>\r\n      <use x=\"54.980469\" xlink:href=\"#DejaVuSans-111\"/>\r\n      <use x=\"116.162109\" xlink:href=\"#DejaVuSans-110\"/>\r\n      <use x=\"179.541016\" xlink:href=\"#DejaVuSans-116\"/>\r\n     </g>\r\n    </g>\r\n   </g>\r\n  </g>\r\n </g>\r\n</svg>\r\n",
      "image/png": "[encoded data removed]"
     },
     "metadata": {
      "needs_background": "light"
     }
    },
    {
     "output_type": "execute_result",
     "data": {
      "text/plain": [
       "<IPython.lib.display.IFrame at 0x1e90c3b8760>"
      ],
      "text/html": "\n        <iframe\n            width=\"100%\"\n            height=\"800px\"\n            src=\"../visualization_result/geo_net.html\"\n            frameborder=\"0\"\n            allowfullscreen\n        ></iframe>\n        "
     },
     "metadata": {},
     "execution_count": 58
    }
   ],
   "source": [
    "draw_BN(bn_geo, geo_types, 'geo_net')"
   ]
  },
  {
   "cell_type": "code",
   "execution_count": 59,
   "metadata": {},
   "outputs": [],
   "source": [
    "params = parameter_learning(geo_train, geo_types, bn_geo)"
   ]
  },
  {
   "cell_type": "code",
   "execution_count": 60,
   "metadata": {},
   "outputs": [],
   "source": [
    "save_structure(bn_geo, 'geo_net')\n",
    "skel = read_structure('geo_net')\n",
    "save_params(params, 'geo_net_param')\n",
    "params = read_params('geo_net_param')\n",
    "geo_bn = HyBayesianNetwork(skel, params)"
   ]
  },
  {
   "cell_type": "code",
   "execution_count": 61,
   "metadata": {},
   "outputs": [
    {
     "output_type": "stream",
     "name": "stdout",
     "text": [
      "7\n",
      "12\n",
      "21\n",
      "27\n",
      "36\n"
     ]
    }
   ],
   "source": [
    "acc, rmse, real_data, pred_data = calculate_acc(geo_bn, geo_test, columns)"
   ]
  },
  {
   "cell_type": "code",
   "execution_count": 62,
   "metadata": {},
   "outputs": [
    {
     "output_type": "execute_result",
     "data": {
      "text/plain": [
       "{'Tectonic regime': 0.58,\n",
       " 'Period': 0.27,\n",
       " 'Lithology': 0.51,\n",
       " 'Structural setting': 0.56,\n",
       " 'Hydrocarbon type': 0.67}"
      ]
     },
     "metadata": {},
     "execution_count": 62
    }
   ],
   "source": [
    "acc"
   ]
  },
  {
   "cell_type": "code",
   "execution_count": 63,
   "metadata": {},
   "outputs": [
    {
     "output_type": "execute_result",
     "data": {
      "text/plain": [
       "{'Gross': 401.05,\n",
       " 'Netpay': 124.06,\n",
       " 'Porosity': 6.42,\n",
       " 'Permeability': 726.17,\n",
       " 'Depth': 1300.66}"
      ]
     },
     "metadata": {},
     "execution_count": 63
    }
   ],
   "source": [
    "rmse"
   ]
  },
  {
   "cell_type": "code",
   "execution_count": 64,
   "metadata": {},
   "outputs": [],
   "source": [
    "for key in acc.keys():\n",
    "    df_result_accuracy = df_result_accuracy.append({'Parameter': key, 'Strategy': 'evo', 'Alg':'D+M','accuracy':acc[key]}, ignore_index=True)\n",
    "for key in rmse.keys():\n",
    "    df_result_rmse = df_result_rmse.append({'Parameter': key, 'Strategy': 'evo', 'Alg':'D+M','rmse':rmse[key]}, ignore_index=True)"
   ]
  },
  {
   "source": [
    "# Смешанная структура + смешанные параметры"
   ],
   "cell_type": "markdown",
   "metadata": {}
  },
  {
   "cell_type": "code",
   "execution_count": 65,
   "metadata": {},
   "outputs": [
    {
     "output_type": "stream",
     "name": "stdout",
     "text": [
      "Cannot add to history: 'str' object has no attribute 'operation_type'\n",
      "Best metric is 24.409237732838285\n",
      "Generation num: 0\n",
      "max_depth: 3, no improvements: 0\n",
      "Cannot add to history: 'str' object has no attribute 'operation_type'\n",
      "spent time: 0.2 min\n",
      "Best metric is 24.409237732838285\n",
      "Generation num: 1\n",
      "max_depth: 3, no improvements: 1\n",
      "Number of crossover attempts exceeded. Please check composer requirements for correctness.\n",
      "Cannot add to history: 'str' object has no attribute 'operation_type'\n",
      "spent time: 0.2 min\n",
      "Best metric is 24.409237732838285\n",
      "Generation num: 2\n",
      "max_depth: 3, no improvements: 2\n",
      "Number of crossover attempts exceeded. Please check composer requirements for correctness.\n",
      "Cannot add to history: 'str' object has no attribute 'operation_type'\n",
      "spent time: 0.3 min\n",
      "Best metric is 24.409237732838285\n",
      "Generation num: 3\n",
      "max_depth: 3, no improvements: 3\n",
      "Cannot add to history: 'str' object has no attribute 'operation_type'\n",
      "spent time: 0.5 min\n",
      "Best metric is 20.26398575676989\n",
      "Generation num: 4\n",
      "max_depth: 3, no improvements: 0\n",
      "Cannot add to history: 'str' object has no attribute 'operation_type'\n",
      "spent time: 0.5 min\n",
      "Best metric is 20.240400063018008\n",
      "Generation num: 5\n",
      "max_depth: 3, no improvements: 0\n",
      "Number of mutation attempts exceeded. Please check composer requirements for correctness.\n",
      "Cannot add to history: 'str' object has no attribute 'operation_type'\n",
      "spent time: 0.7 min\n",
      "Best metric is 19.54798761258698\n",
      "Generation num: 6\n",
      "max_depth: 3, no improvements: 0\n",
      "Number of mutation attempts exceeded. Please check composer requirements for correctness.\n",
      "Cannot add to history: 'str' object has no attribute 'operation_type'\n",
      "spent time: 0.8 min\n",
      "Best metric is 19.54798761258698\n",
      "Generation num: 7\n",
      "max_depth: 3, no improvements: 1\n",
      "Number of mutation attempts exceeded. Please check composer requirements for correctness.\n",
      "Cannot add to history: 'str' object has no attribute 'operation_type'\n",
      "spent time: 0.9 min\n",
      "Best metric is 19.52031771705039\n",
      "Generation num: 8\n",
      "max_depth: 3, no improvements: 0\n",
      "Cannot add to history: 'str' object has no attribute 'operation_type'\n",
      "spent time: 1.0 min\n",
      "Best metric is 19.321948186594213\n",
      "Generation num: 9\n",
      "max_depth: 3, no improvements: 0\n",
      "Number of crossover attempts exceeded. Please check composer requirements for correctness.\n",
      "Number of mutation attempts exceeded. Please check composer requirements for correctness.\n",
      "Cannot add to history: 'str' object has no attribute 'operation_type'\n",
      "spent time: 1.2 min\n",
      "Best metric is 19.138296644375913\n",
      "Generation num: 10\n",
      "max_depth: 3, no improvements: 0\n",
      "Number of mutation attempts exceeded. Please check composer requirements for correctness.\n",
      "Number of mutation attempts exceeded. Please check composer requirements for correctness.\n",
      "Cannot add to history: 'str' object has no attribute 'operation_type'\n",
      "spent time: 1.3 min\n",
      "Best metric is 19.138296644375913\n",
      "Generation num: 11\n",
      "max_depth: 3, no improvements: 1\n",
      "Cannot add to history: 'str' object has no attribute 'operation_type'\n",
      "spent time: 1.4 min\n",
      "Best metric is 19.138296644375913\n",
      "Generation num: 12\n",
      "max_depth: 3, no improvements: 2\n",
      "Cannot add to history: 'str' object has no attribute 'operation_type'\n",
      "spent time: 1.5 min\n",
      "Best metric is 19.138296644375913\n",
      "Generation num: 13\n",
      "max_depth: 3, no improvements: 3\n",
      "Number of mutation attempts exceeded. Please check composer requirements for correctness.\n",
      "Cannot add to history: 'str' object has no attribute 'operation_type'\n",
      "spent time: 1.6 min\n",
      "Best metric is 19.138296644375913\n",
      "Generation num: 14\n",
      "max_depth: 3, no improvements: 4\n",
      "Number of mutation attempts exceeded. Please check composer requirements for correctness.\n",
      "Cannot add to history: 'str' object has no attribute 'operation_type'\n",
      "spent time: 1.7 min\n",
      "Best metric is 19.138296644375913\n",
      "Generation num: 15\n",
      "max_depth: 3, no improvements: 5\n",
      "Number of mutation attempts exceeded. Please check composer requirements for correctness.\n",
      "Cannot add to history: 'str' object has no attribute 'operation_type'\n",
      "spent time: 1.8 min\n",
      "Best metric is 17.05664049727671\n",
      "Generation num: 16\n",
      "max_depth: 3, no improvements: 0\n",
      "Cannot add to history: 'str' object has no attribute 'operation_type'\n",
      "spent time: 1.9 min\n",
      "Best metric is 17.05664049727671\n",
      "Generation num: 17\n",
      "max_depth: 3, no improvements: 1\n",
      "Number of mutation attempts exceeded. Please check composer requirements for correctness.\n",
      "Cannot add to history: 'str' object has no attribute 'operation_type'\n",
      "spent time: 2.0 min\n",
      "Best metric is 13.969181484904668\n",
      "Generation num: 18\n",
      "max_depth: 3, no improvements: 0\n",
      "Number of mutation attempts exceeded. Please check composer requirements for correctness.\n",
      "Cannot add to history: 'str' object has no attribute 'operation_type'\n",
      "spent time: 2.2 min\n",
      "Best metric is 13.969181484904668\n",
      "Generation num: 19\n",
      "max_depth: 3, no improvements: 1\n",
      "Number of mutation attempts exceeded. Please check composer requirements for correctness.\n",
      "Cannot add to history: 'str' object has no attribute 'operation_type'\n",
      "spent time: 2.3 min\n",
      "Best metric is 13.969181484904668\n",
      "Generation num: 20\n",
      "max_depth: 3, no improvements: 2\n",
      "Number of mutation attempts exceeded. Please check composer requirements for correctness.\n",
      "Number of mutation attempts exceeded. Please check composer requirements for correctness.\n",
      "Cannot add to history: 'str' object has no attribute 'operation_type'\n",
      "spent time: 2.5 min\n",
      "Best metric is 13.969181484904668\n",
      "Generation num: 21\n",
      "max_depth: 3, no improvements: 3\n",
      "Cannot add to history: 'str' object has no attribute 'operation_type'\n",
      "spent time: 2.6 min\n",
      "Best metric is 13.969181484904668\n",
      "Generation num: 22\n",
      "max_depth: 3, no improvements: 4\n",
      "Cannot add to history: 'str' object has no attribute 'operation_type'\n",
      "spent time: 2.8 min\n",
      "Best metric is 13.969181484904668\n",
      "Generation num: 23\n",
      "max_depth: 3, no improvements: 5\n",
      "Number of mutation attempts exceeded. Please check composer requirements for correctness.\n",
      "Number of mutation attempts exceeded. Please check composer requirements for correctness.\n",
      "Number of mutation attempts exceeded. Please check composer requirements for correctness.\n",
      "Cannot add to history: 'str' object has no attribute 'operation_type'\n",
      "spent time: 3.0 min\n",
      "Best metric is 13.969181484904668\n",
      "Generation num: 24\n",
      "max_depth: 3, no improvements: 6\n",
      "Cannot add to history: 'str' object has no attribute 'operation_type'\n",
      "spent time: 3.1 min\n",
      "Best metric is 13.969181484904668\n",
      "Generation num: 25\n",
      "max_depth: 3, no improvements: 7\n",
      "Cannot add to history: 'str' object has no attribute 'operation_type'\n",
      "spent time: 3.3 min\n",
      "Best metric is 13.969181484904668\n",
      "Generation num: 26\n",
      "max_depth: 3, no improvements: 8\n",
      "Number of mutation attempts exceeded. Please check composer requirements for correctness.\n",
      "Number of mutation attempts exceeded. Please check composer requirements for correctness.\n",
      "Cannot add to history: 'str' object has no attribute 'operation_type'\n",
      "spent time: 3.4 min\n",
      "Best metric is 13.969181484904668\n",
      "Generation num: 27\n",
      "max_depth: 3, no improvements: 9\n",
      "Number of mutation attempts exceeded. Please check composer requirements for correctness.\n",
      "Number of mutation attempts exceeded. Please check composer requirements for correctness.\n",
      "Number of mutation attempts exceeded. Please check composer requirements for correctness.\n",
      "Cannot add to history: 'str' object has no attribute 'operation_type'\n",
      "spent time: 3.6 min\n",
      "Best metric is 13.969181484904668\n",
      "Generation num: 28\n",
      "max_depth: 3, no improvements: 10\n",
      "Number of mutation attempts exceeded. Please check composer requirements for correctness.\n",
      "Number of mutation attempts exceeded. Please check composer requirements for correctness.\n",
      "Number of mutation attempts exceeded. Please check composer requirements for correctness.\n",
      "Cannot add to history: 'str' object has no attribute 'operation_type'\n",
      "spent time: 3.8 min\n",
      "Best metric is 13.969181484904668\n",
      "Result:\n",
      "Best metric is 13.969181484904668\n",
      "Composition time: 3.755 min\n"
     ]
    }
   ],
   "source": [
    "bn_geo = structure_learning(geo_coded, 'evo', 'MI', geo_types)"
   ]
  },
  {
   "cell_type": "code",
   "execution_count": 66,
   "metadata": {},
   "outputs": [
    {
     "output_type": "display_data",
     "data": {
      "text/plain": "<Figure size 2025x225 with 1 Axes>",
      "image/svg+xml": "<?xml version=\"1.0\" encoding=\"utf-8\" standalone=\"no\"?>\r\n<!DOCTYPE svg PUBLIC \"-//W3C//DTD SVG 1.1//EN\"\r\n  \"http://www.w3.org/Graphics/SVG/1.1/DTD/svg11.dtd\">\r\n<!-- Created with matplotlib (https://matplotlib.org/) -->\r\n<svg height=\"100.8pt\" version=\"1.1\" viewBox=\"0 0 964.8 100.8\" width=\"964.8pt\" xmlns=\"http://www.w3.org/2000/svg\" xmlns:xlink=\"http://www.w3.org/1999/xlink\">\r\n <metadata>\r\n  <rdf:RDF xmlns:cc=\"http://creativecommons.org/ns#\" xmlns:dc=\"http://purl.org/dc/elements/1.1/\" xmlns:rdf=\"http://www.w3.org/1999/02/22-rdf-syntax-ns#\">\r\n   <cc:Work>\r\n    <dc:type rdf:resource=\"http://purl.org/dc/dcmitype/StillImage\"/>\r\n    <dc:date>2021-05-01T15:04:16.584175</dc:date>\r\n    <dc:format>image/svg+xml</dc:format>\r\n    <dc:creator>\r\n     <cc:Agent>\r\n      <dc:title>Matplotlib v3.3.4, https://matplotlib.org/</dc:title>\r\n     </cc:Agent>\r\n    </dc:creator>\r\n   </cc:Work>\r\n  </rdf:RDF>\r\n </metadata>\r\n <defs>\r\n  <style type=\"text/css\">*{stroke-linecap:butt;stroke-linejoin:round;}</style>\r\n </defs>\r\n <g id=\"figure_1\">\r\n  <g id=\"patch_1\">\r\n   <path d=\"M 0 100.8 \r\nL 964.8 100.8 \r\nL 964.8 0 \r\nL 0 0 \r\nz\r\n\" style=\"fill:none;\"/>\r\n  </g>\r\n  <g id=\"axes_1\">\r\n   <g id=\"legend_1\">\r\n    <g id=\"patch_2\">\r\n     <path d=\"M 421.545312 59.239062 \r\nL 543.254687 59.239062 \r\nQ 545.254687 59.239062 545.254687 57.239062 \r\nL 545.254687 43.560937 \r\nQ 545.254687 41.560937 543.254687 41.560937 \r\nL 421.545312 41.560937 \r\nQ 419.545312 41.560937 419.545312 43.560937 \r\nL 419.545312 57.239062 \r\nQ 419.545312 59.239062 421.545312 59.239062 \r\nz\r\n\" style=\"fill:#ffffff;opacity:0.8;stroke:#cccccc;stroke-linejoin:miter;\"/>\r\n    </g>\r\n    <g id=\"patch_3\">\r\n     <path d=\"M 423.545312 53.159375 \r\nL 443.545312 53.159375 \r\nL 443.545312 46.159375 \r\nL 423.545312 46.159375 \r\nz\r\n\" style=\"fill:#9467bd;stroke:#9467bd;stroke-linejoin:miter;\"/>\r\n    </g>\r\n    <g id=\"text_1\">\r\n     <!-- disc -->\r\n     <g transform=\"translate(451.545312 53.159375)scale(0.1 -0.1)\">\r\n      <defs>\r\n       <path d=\"M 45.40625 46.390625 \r\nL 45.40625 75.984375 \r\nL 54.390625 75.984375 \r\nL 54.390625 0 \r\nL 45.40625 0 \r\nL 45.40625 8.203125 \r\nQ 42.578125 3.328125 38.25 0.953125 \r\nQ 33.9375 -1.421875 27.875 -1.421875 \r\nQ 17.96875 -1.421875 11.734375 6.484375 \r\nQ 5.515625 14.40625 5.515625 27.296875 \r\nQ 5.515625 40.1875 11.734375 48.09375 \r\nQ 17.96875 56 27.875 56 \r\nQ 33.9375 56 38.25 53.625 \r\nQ 42.578125 51.265625 45.40625 46.390625 \r\nz\r\nM 14.796875 27.296875 \r\nQ 14.796875 17.390625 18.875 11.75 \r\nQ 22.953125 6.109375 30.078125 6.109375 \r\nQ 37.203125 6.109375 41.296875 11.75 \r\nQ 45.40625 17.390625 45.40625 27.296875 \r\nQ 45.40625 37.203125 41.296875 42.84375 \r\nQ 37.203125 48.484375 30.078125 48.484375 \r\nQ 22.953125 48.484375 18.875 42.84375 \r\nQ 14.796875 37.203125 14.796875 27.296875 \r\nz\r\n\" id=\"DejaVuSans-100\"/>\r\n       <path d=\"M 9.421875 54.6875 \r\nL 18.40625 54.6875 \r\nL 18.40625 0 \r\nL 9.421875 0 \r\nz\r\nM 9.421875 75.984375 \r\nL 18.40625 75.984375 \r\nL 18.40625 64.59375 \r\nL 9.421875 64.59375 \r\nz\r\n\" id=\"DejaVuSans-105\"/>\r\n       <path d=\"M 44.28125 53.078125 \r\nL 44.28125 44.578125 \r\nQ 40.484375 46.53125 36.375 47.5 \r\nQ 32.28125 48.484375 27.875 48.484375 \r\nQ 21.1875 48.484375 17.84375 46.4375 \r\nQ 14.5 44.390625 14.5 40.28125 \r\nQ 14.5 37.15625 16.890625 35.375 \r\nQ 19.28125 33.59375 26.515625 31.984375 \r\nL 29.59375 31.296875 \r\nQ 39.15625 29.25 43.1875 25.515625 \r\nQ 47.21875 21.78125 47.21875 15.09375 \r\nQ 47.21875 7.46875 41.1875 3.015625 \r\nQ 35.15625 -1.421875 24.609375 -1.421875 \r\nQ 20.21875 -1.421875 15.453125 -0.5625 \r\nQ 10.6875 0.296875 5.421875 2 \r\nL 5.421875 11.28125 \r\nQ 10.40625 8.6875 15.234375 7.390625 \r\nQ 20.0625 6.109375 24.8125 6.109375 \r\nQ 31.15625 6.109375 34.5625 8.28125 \r\nQ 37.984375 10.453125 37.984375 14.40625 \r\nQ 37.984375 18.0625 35.515625 20.015625 \r\nQ 33.0625 21.96875 24.703125 23.78125 \r\nL 21.578125 24.515625 \r\nQ 13.234375 26.265625 9.515625 29.90625 \r\nQ 5.8125 33.546875 5.8125 39.890625 \r\nQ 5.8125 47.609375 11.28125 51.796875 \r\nQ 16.75 56 26.8125 56 \r\nQ 31.78125 56 36.171875 55.265625 \r\nQ 40.578125 54.546875 44.28125 53.078125 \r\nz\r\n\" id=\"DejaVuSans-115\"/>\r\n       <path d=\"M 48.78125 52.59375 \r\nL 48.78125 44.1875 \r\nQ 44.96875 46.296875 41.140625 47.34375 \r\nQ 37.3125 48.390625 33.40625 48.390625 \r\nQ 24.65625 48.390625 19.8125 42.84375 \r\nQ 14.984375 37.3125 14.984375 27.296875 \r\nQ 14.984375 17.28125 19.8125 11.734375 \r\nQ 24.65625 6.203125 33.40625 6.203125 \r\nQ 37.3125 6.203125 41.140625 7.25 \r\nQ 44.96875 8.296875 48.78125 10.40625 \r\nL 48.78125 2.09375 \r\nQ 45.015625 0.34375 40.984375 -0.53125 \r\nQ 36.96875 -1.421875 32.421875 -1.421875 \r\nQ 20.0625 -1.421875 12.78125 6.34375 \r\nQ 5.515625 14.109375 5.515625 27.296875 \r\nQ 5.515625 40.671875 12.859375 48.328125 \r\nQ 20.21875 56 33.015625 56 \r\nQ 37.15625 56 41.109375 55.140625 \r\nQ 45.0625 54.296875 48.78125 52.59375 \r\nz\r\n\" id=\"DejaVuSans-99\"/>\r\n      </defs>\r\n      <use xlink:href=\"#DejaVuSans-100\"/>\r\n      <use x=\"63.476562\" xlink:href=\"#DejaVuSans-105\"/>\r\n      <use x=\"91.259766\" xlink:href=\"#DejaVuSans-115\"/>\r\n      <use x=\"143.359375\" xlink:href=\"#DejaVuSans-99\"/>\r\n     </g>\r\n    </g>\r\n    <g id=\"patch_4\">\r\n     <path d=\"M 491.379687 53.159375 \r\nL 511.379687 53.159375 \r\nL 511.379687 46.159375 \r\nL 491.379687 46.159375 \r\nz\r\n\" style=\"fill:#17becf;stroke:#17becf;stroke-linejoin:miter;\"/>\r\n    </g>\r\n    <g id=\"text_2\">\r\n     <!-- cont -->\r\n     <g transform=\"translate(519.379687 53.159375)scale(0.1 -0.1)\">\r\n      <defs>\r\n       <path d=\"M 30.609375 48.390625 \r\nQ 23.390625 48.390625 19.1875 42.75 \r\nQ 14.984375 37.109375 14.984375 27.296875 \r\nQ 14.984375 17.484375 19.15625 11.84375 \r\nQ 23.34375 6.203125 30.609375 6.203125 \r\nQ 37.796875 6.203125 41.984375 11.859375 \r\nQ 46.1875 17.53125 46.1875 27.296875 \r\nQ 46.1875 37.015625 41.984375 42.703125 \r\nQ 37.796875 48.390625 30.609375 48.390625 \r\nz\r\nM 30.609375 56 \r\nQ 42.328125 56 49.015625 48.375 \r\nQ 55.71875 40.765625 55.71875 27.296875 \r\nQ 55.71875 13.875 49.015625 6.21875 \r\nQ 42.328125 -1.421875 30.609375 -1.421875 \r\nQ 18.84375 -1.421875 12.171875 6.21875 \r\nQ 5.515625 13.875 5.515625 27.296875 \r\nQ 5.515625 40.765625 12.171875 48.375 \r\nQ 18.84375 56 30.609375 56 \r\nz\r\n\" id=\"DejaVuSans-111\"/>\r\n       <path d=\"M 54.890625 33.015625 \r\nL 54.890625 0 \r\nL 45.90625 0 \r\nL 45.90625 32.71875 \r\nQ 45.90625 40.484375 42.875 44.328125 \r\nQ 39.84375 48.1875 33.796875 48.1875 \r\nQ 26.515625 48.1875 22.3125 43.546875 \r\nQ 18.109375 38.921875 18.109375 30.90625 \r\nL 18.109375 0 \r\nL 9.078125 0 \r\nL 9.078125 54.6875 \r\nL 18.109375 54.6875 \r\nL 18.109375 46.1875 \r\nQ 21.34375 51.125 25.703125 53.5625 \r\nQ 30.078125 56 35.796875 56 \r\nQ 45.21875 56 50.046875 50.171875 \r\nQ 54.890625 44.34375 54.890625 33.015625 \r\nz\r\n\" id=\"DejaVuSans-110\"/>\r\n       <path d=\"M 18.3125 70.21875 \r\nL 18.3125 54.6875 \r\nL 36.8125 54.6875 \r\nL 36.8125 47.703125 \r\nL 18.3125 47.703125 \r\nL 18.3125 18.015625 \r\nQ 18.3125 11.328125 20.140625 9.421875 \r\nQ 21.96875 7.515625 27.59375 7.515625 \r\nL 36.8125 7.515625 \r\nL 36.8125 0 \r\nL 27.59375 0 \r\nQ 17.1875 0 13.234375 3.875 \r\nQ 9.28125 7.765625 9.28125 18.015625 \r\nL 9.28125 47.703125 \r\nL 2.6875 47.703125 \r\nL 2.6875 54.6875 \r\nL 9.28125 54.6875 \r\nL 9.28125 70.21875 \r\nz\r\n\" id=\"DejaVuSans-116\"/>\r\n      </defs>\r\n      <use xlink:href=\"#DejaVuSans-99\"/>\r\n      <use x=\"54.980469\" xlink:href=\"#DejaVuSans-111\"/>\r\n      <use x=\"116.162109\" xlink:href=\"#DejaVuSans-110\"/>\r\n      <use x=\"179.541016\" xlink:href=\"#DejaVuSans-116\"/>\r\n     </g>\r\n    </g>\r\n   </g>\r\n  </g>\r\n </g>\r\n</svg>\r\n",
      "image/png": "[encoded data removed]"
     },
     "metadata": {
      "needs_background": "light"
     }
    },
    {
     "output_type": "execute_result",
     "data": {
      "text/plain": [
       "<IPython.lib.display.IFrame at 0x1e90eaf7af0>"
      ],
      "text/html": "\n        <iframe\n            width=\"100%\"\n            height=\"800px\"\n            src=\"../visualization_result/geo_net.html\"\n            frameborder=\"0\"\n            allowfullscreen\n        ></iframe>\n        "
     },
     "metadata": {},
     "execution_count": 66
    }
   ],
   "source": [
    "draw_BN(bn_geo, geo_types, 'geo_net')"
   ]
  },
  {
   "cell_type": "code",
   "execution_count": 67,
   "metadata": {},
   "outputs": [],
   "source": [
    "params = parameter_learning(geo_train, geo_types, bn_geo)"
   ]
  },
  {
   "cell_type": "code",
   "execution_count": 68,
   "metadata": {},
   "outputs": [],
   "source": [
    "save_structure(bn_geo, 'geo_net')\n",
    "skel = read_structure('geo_net')\n",
    "save_params(params, 'geo_net_param')\n",
    "params = read_params('geo_net_param')\n",
    "geo_bn = HyBayesianNetwork(skel, params)"
   ]
  },
  {
   "cell_type": "code",
   "execution_count": 69,
   "metadata": {},
   "outputs": [
    {
     "output_type": "stream",
     "name": "stdout",
     "text": [
      "7\n",
      "22\n",
      "29\n",
      "34\n",
      "36\n"
     ]
    }
   ],
   "source": [
    "acc, rmse, real, pred = calculate_acc(geo_bn, geo_test, columns)"
   ]
  },
  {
   "cell_type": "code",
   "execution_count": 70,
   "metadata": {},
   "outputs": [
    {
     "output_type": "execute_result",
     "data": {
      "text/plain": [
       "{'Tectonic regime': 0.58,\n",
       " 'Period': 0.27,\n",
       " 'Lithology': 0.51,\n",
       " 'Structural setting': 0.31,\n",
       " 'Hydrocarbon type': 0.67}"
      ]
     },
     "metadata": {},
     "execution_count": 70
    }
   ],
   "source": [
    "acc"
   ]
  },
  {
   "cell_type": "code",
   "execution_count": 71,
   "metadata": {},
   "outputs": [
    {
     "output_type": "execute_result",
     "data": {
      "text/plain": [
       "{'Gross': 417.6,\n",
       " 'Netpay': 93.77,\n",
       " 'Porosity': 7.57,\n",
       " 'Permeability': 877.12,\n",
       " 'Depth': 1253.64}"
      ]
     },
     "metadata": {},
     "execution_count": 71
    }
   ],
   "source": [
    "rmse"
   ]
  },
  {
   "cell_type": "code",
   "execution_count": 72,
   "metadata": {},
   "outputs": [],
   "source": [
    "for key in acc.keys():\n",
    "    df_result_accuracy = df_result_accuracy.append({'Parameter': key, 'Strategy': 'evo', 'Alg':'M+M','accuracy':acc[key]}, ignore_index=True)\n",
    "for key in rmse.keys():\n",
    "    df_result_rmse = df_result_rmse.append({'Parameter': key, 'Strategy': 'evo', 'Alg':'M+M','rmse':rmse[key]}, ignore_index=True)"
   ]
  },
  {
   "source": [
    "# Дискретная структура + дискретные параметры"
   ],
   "cell_type": "markdown",
   "metadata": {}
  },
  {
   "cell_type": "code",
   "execution_count": 73,
   "metadata": {},
   "outputs": [],
   "source": [
    "geo_new_types = {'Tectonic regime': 'disc',\n",
    " 'Period': 'disc',\n",
    " 'Lithology': 'disc',\n",
    " 'Structural setting': 'disc',\n",
    " 'Hydrocarbon type': 'disc',\n",
    " 'Gross': 'disc',\n",
    " 'Netpay': 'disc',\n",
    " 'Porosity': 'disc',\n",
    " 'Permeability': 'disc',\n",
    " 'Depth': 'disc'}"
   ]
  },
  {
   "cell_type": "code",
   "execution_count": 74,
   "metadata": {},
   "outputs": [
    {
     "output_type": "stream",
     "name": "stdout",
     "text": [
      "Cannot add to history: 'str' object has no attribute 'operation_type'\n",
      "Best metric is 11.737200000000001\n",
      "Generation num: 0\n",
      "max_depth: 3, no improvements: 0\n",
      "Number of crossover attempts exceeded. Please check composer requirements for correctness.\n",
      "Cannot add to history: 'str' object has no attribute 'operation_type'\n",
      "spent time: 0.1 min\n",
      "Best metric is 11.245600000000001\n",
      "Generation num: 1\n",
      "max_depth: 3, no improvements: 0\n",
      "Cannot add to history: 'str' object has no attribute 'operation_type'\n",
      "spent time: 0.1 min\n",
      "Best metric is 10.3696\n",
      "Generation num: 2\n",
      "max_depth: 3, no improvements: 0\n",
      "Cannot add to history: 'str' object has no attribute 'operation_type'\n",
      "spent time: 0.1 min\n",
      "Best metric is 10.3696\n",
      "Generation num: 3\n",
      "max_depth: 3, no improvements: 1\n",
      "Number of mutation attempts exceeded. Please check composer requirements for correctness.\n",
      "Number of mutation attempts exceeded. Please check composer requirements for correctness.\n",
      "Cannot add to history: 'str' object has no attribute 'operation_type'\n",
      "spent time: 0.1 min\n",
      "Best metric is 10.3696\n",
      "Generation num: 4\n",
      "max_depth: 3, no improvements: 2\n",
      "Cannot add to history: 'str' object has no attribute 'operation_type'\n",
      "spent time: 0.2 min\n",
      "Best metric is 10.3473\n",
      "Generation num: 5\n",
      "max_depth: 3, no improvements: 0\n",
      "Number of mutation attempts exceeded. Please check composer requirements for correctness.\n",
      "Number of mutation attempts exceeded. Please check composer requirements for correctness.\n",
      "Cannot add to history: 'str' object has no attribute 'operation_type'\n",
      "spent time: 0.2 min\n",
      "Best metric is 10.1215\n",
      "Generation num: 6\n",
      "max_depth: 3, no improvements: 0\n",
      "Number of mutation attempts exceeded. Please check composer requirements for correctness.\n",
      "Number of mutation attempts exceeded. Please check composer requirements for correctness.\n",
      "Cannot add to history: 'str' object has no attribute 'operation_type'\n",
      "spent time: 0.3 min\n",
      "Best metric is 10.1215\n",
      "Generation num: 7\n",
      "max_depth: 3, no improvements: 1\n",
      "Number of mutation attempts exceeded. Please check composer requirements for correctness.\n",
      "Cannot add to history: 'str' object has no attribute 'operation_type'\n",
      "spent time: 0.3 min\n",
      "Best metric is 10.1215\n",
      "Generation num: 8\n",
      "max_depth: 3, no improvements: 2\n",
      "Cannot add to history: 'str' object has no attribute 'operation_type'\n",
      "spent time: 0.3 min\n",
      "Best metric is 9.6046\n",
      "Generation num: 9\n",
      "max_depth: 3, no improvements: 0\n",
      "Number of mutation attempts exceeded. Please check composer requirements for correctness.\n",
      "Number of mutation attempts exceeded. Please check composer requirements for correctness.\n",
      "Cannot add to history: 'str' object has no attribute 'operation_type'\n",
      "spent time: 0.4 min\n",
      "Best metric is 9.6046\n",
      "Generation num: 10\n",
      "max_depth: 3, no improvements: 1\n",
      "Number of mutation attempts exceeded. Please check composer requirements for correctness.\n",
      "Number of mutation attempts exceeded. Please check composer requirements for correctness.\n",
      "Cannot add to history: 'str' object has no attribute 'operation_type'\n",
      "spent time: 0.4 min\n",
      "Best metric is 9.5925\n",
      "Generation num: 11\n",
      "max_depth: 3, no improvements: 0\n",
      "Number of mutation attempts exceeded. Please check composer requirements for correctness.\n",
      "Cannot add to history: 'str' object has no attribute 'operation_type'\n",
      "spent time: 0.4 min\n",
      "Best metric is 9.5925\n",
      "Generation num: 12\n",
      "max_depth: 3, no improvements: 1\n",
      "Number of mutation attempts exceeded. Please check composer requirements for correctness.\n",
      "Number of mutation attempts exceeded. Please check composer requirements for correctness.\n",
      "Cannot add to history: 'str' object has no attribute 'operation_type'\n",
      "spent time: 0.4 min\n",
      "Best metric is 9.5925\n",
      "Generation num: 13\n",
      "max_depth: 3, no improvements: 2\n",
      "Number of mutation attempts exceeded. Please check composer requirements for correctness.\n",
      "Cannot add to history: 'str' object has no attribute 'operation_type'\n",
      "spent time: 0.5 min\n",
      "Best metric is 9.5925\n",
      "Generation num: 14\n",
      "max_depth: 3, no improvements: 3\n",
      "Number of mutation attempts exceeded. Please check composer requirements for correctness.\n",
      "Number of mutation attempts exceeded. Please check composer requirements for correctness.\n",
      "Number of mutation attempts exceeded. Please check composer requirements for correctness.\n",
      "Number of mutation attempts exceeded. Please check composer requirements for correctness.\n",
      "Number of mutation attempts exceeded. Please check composer requirements for correctness.\n",
      "Number of mutation attempts exceeded. Please check composer requirements for correctness.\n",
      "Cannot add to history: 'str' object has no attribute 'operation_type'\n",
      "spent time: 0.5 min\n",
      "Best metric is 9.5539\n",
      "Generation num: 15\n",
      "max_depth: 3, no improvements: 0\n",
      "Cannot add to history: 'str' object has no attribute 'operation_type'\n",
      "spent time: 0.5 min\n",
      "Best metric is 9.5539\n",
      "Generation num: 16\n",
      "max_depth: 3, no improvements: 1\n",
      "Number of mutation attempts exceeded. Please check composer requirements for correctness.\n",
      "Cannot add to history: 'str' object has no attribute 'operation_type'\n",
      "spent time: 0.6 min\n",
      "Best metric is 9.5539\n",
      "Generation num: 17\n",
      "max_depth: 3, no improvements: 2\n",
      "Number of mutation attempts exceeded. Please check composer requirements for correctness.\n",
      "Cannot add to history: 'str' object has no attribute 'operation_type'\n",
      "spent time: 0.6 min\n",
      "Best metric is 9.5539\n",
      "Generation num: 18\n",
      "max_depth: 3, no improvements: 3\n",
      "Number of mutation attempts exceeded. Please check composer requirements for correctness.\n",
      "Number of mutation attempts exceeded. Please check composer requirements for correctness.\n",
      "Number of mutation attempts exceeded. Please check composer requirements for correctness.\n",
      "Cannot add to history: 'str' object has no attribute 'operation_type'\n",
      "spent time: 0.6 min\n",
      "Best metric is 9.1433\n",
      "Generation num: 19\n",
      "max_depth: 3, no improvements: 0\n",
      "Number of mutation attempts exceeded. Please check composer requirements for correctness.\n",
      "Number of mutation attempts exceeded. Please check composer requirements for correctness.\n",
      "Cannot add to history: 'str' object has no attribute 'operation_type'\n",
      "spent time: 0.7 min\n",
      "Best metric is 9.1433\n",
      "Generation num: 20\n",
      "max_depth: 3, no improvements: 1\n",
      "Number of mutation attempts exceeded. Please check composer requirements for correctness.\n",
      "Number of mutation attempts exceeded. Please check composer requirements for correctness.\n",
      "Cannot add to history: 'str' object has no attribute 'operation_type'\n",
      "spent time: 0.7 min\n",
      "Best metric is 8.9379\n",
      "Generation num: 21\n",
      "max_depth: 3, no improvements: 0\n",
      "Number of mutation attempts exceeded. Please check composer requirements for correctness.\n",
      "Number of mutation attempts exceeded. Please check composer requirements for correctness.\n",
      "Number of mutation attempts exceeded. Please check composer requirements for correctness.\n",
      "Cannot add to history: 'str' object has no attribute 'operation_type'\n",
      "spent time: 0.8 min\n",
      "Best metric is 8.9379\n",
      "Generation num: 22\n",
      "max_depth: 3, no improvements: 1\n",
      "Cannot add to history: 'str' object has no attribute 'operation_type'\n",
      "spent time: 0.8 min\n",
      "Best metric is 8.9379\n",
      "Generation num: 23\n",
      "max_depth: 3, no improvements: 2\n",
      "Number of mutation attempts exceeded. Please check composer requirements for correctness.\n",
      "Number of mutation attempts exceeded. Please check composer requirements for correctness.\n",
      "Cannot add to history: 'str' object has no attribute 'operation_type'\n",
      "spent time: 0.8 min\n",
      "Best metric is 8.9379\n",
      "Generation num: 24\n",
      "max_depth: 3, no improvements: 3\n",
      "Number of mutation attempts exceeded. Please check composer requirements for correctness.\n",
      "Number of mutation attempts exceeded. Please check composer requirements for correctness.\n",
      "Number of mutation attempts exceeded. Please check composer requirements for correctness.\n",
      "Number of mutation attempts exceeded. Please check composer requirements for correctness.\n",
      "Cannot add to history: 'str' object has no attribute 'operation_type'\n",
      "spent time: 0.9 min\n",
      "Best metric is 8.931899999999999\n",
      "Generation num: 25\n",
      "max_depth: 3, no improvements: 0\n",
      "Number of mutation attempts exceeded. Please check composer requirements for correctness.\n",
      "Cannot add to history: 'str' object has no attribute 'operation_type'\n",
      "spent time: 0.9 min\n",
      "Best metric is 8.931899999999999\n",
      "Generation num: 26\n",
      "max_depth: 3, no improvements: 1\n",
      "Number of mutation attempts exceeded. Please check composer requirements for correctness.\n",
      "Cannot add to history: 'str' object has no attribute 'operation_type'\n",
      "spent time: 1.0 min\n",
      "Best metric is 8.9293\n",
      "Generation num: 27\n",
      "max_depth: 3, no improvements: 0\n",
      "Number of mutation attempts exceeded. Please check composer requirements for correctness.\n",
      "Number of mutation attempts exceeded. Please check composer requirements for correctness.\n",
      "Cannot add to history: 'str' object has no attribute 'operation_type'\n",
      "spent time: 1.0 min\n",
      "Best metric is 8.9293\n",
      "Generation num: 28\n",
      "max_depth: 3, no improvements: 1\n",
      "Number of mutation attempts exceeded. Please check composer requirements for correctness.\n",
      "Cannot add to history: 'str' object has no attribute 'operation_type'\n",
      "spent time: 1.0 min\n",
      "Best metric is 8.9293\n",
      "Result:\n",
      "Best metric is 8.9293\n",
      "Composition time: 1.043 min\n"
     ]
    }
   ],
   "source": [
    "bn_geo = structure_learning(geo_discrete, 'evo', 'MI', geo_new_types)"
   ]
  },
  {
   "cell_type": "code",
   "execution_count": 75,
   "metadata": {},
   "outputs": [
    {
     "output_type": "display_data",
     "data": {
      "text/plain": "<Figure size 2025x225 with 1 Axes>",
      "image/svg+xml": "<?xml version=\"1.0\" encoding=\"utf-8\" standalone=\"no\"?>\r\n<!DOCTYPE svg PUBLIC \"-//W3C//DTD SVG 1.1//EN\"\r\n  \"http://www.w3.org/Graphics/SVG/1.1/DTD/svg11.dtd\">\r\n<!-- Created with matplotlib (https://matplotlib.org/) -->\r\n<svg height=\"100.8pt\" version=\"1.1\" viewBox=\"0 0 964.8 100.8\" width=\"964.8pt\" xmlns=\"http://www.w3.org/2000/svg\" xmlns:xlink=\"http://www.w3.org/1999/xlink\">\r\n <metadata>\r\n  <rdf:RDF xmlns:cc=\"http://creativecommons.org/ns#\" xmlns:dc=\"http://purl.org/dc/elements/1.1/\" xmlns:rdf=\"http://www.w3.org/1999/02/22-rdf-syntax-ns#\">\r\n   <cc:Work>\r\n    <dc:type rdf:resource=\"http://purl.org/dc/dcmitype/StillImage\"/>\r\n    <dc:date>2021-05-01T15:05:44.951200</dc:date>\r\n    <dc:format>image/svg+xml</dc:format>\r\n    <dc:creator>\r\n     <cc:Agent>\r\n      <dc:title>Matplotlib v3.3.4, https://matplotlib.org/</dc:title>\r\n     </cc:Agent>\r\n    </dc:creator>\r\n   </cc:Work>\r\n  </rdf:RDF>\r\n </metadata>\r\n <defs>\r\n  <style type=\"text/css\">*{stroke-linecap:butt;stroke-linejoin:round;}</style>\r\n </defs>\r\n <g id=\"figure_1\">\r\n  <g id=\"patch_1\">\r\n   <path d=\"M 0 100.8 \r\nL 964.8 100.8 \r\nL 964.8 0 \r\nL 0 0 \r\nz\r\n\" style=\"fill:none;\"/>\r\n  </g>\r\n  <g id=\"axes_1\">\r\n   <g id=\"legend_1\">\r\n    <g id=\"patch_2\">\r\n     <path d=\"M 421.545312 59.239062 \r\nL 543.254687 59.239062 \r\nQ 545.254687 59.239062 545.254687 57.239062 \r\nL 545.254687 43.560937 \r\nQ 545.254687 41.560937 543.254687 41.560937 \r\nL 421.545312 41.560937 \r\nQ 419.545312 41.560937 419.545312 43.560937 \r\nL 419.545312 57.239062 \r\nQ 419.545312 59.239062 421.545312 59.239062 \r\nz\r\n\" style=\"fill:#ffffff;opacity:0.8;stroke:#cccccc;stroke-linejoin:miter;\"/>\r\n    </g>\r\n    <g id=\"patch_3\">\r\n     <path d=\"M 423.545312 53.159375 \r\nL 443.545312 53.159375 \r\nL 443.545312 46.159375 \r\nL 423.545312 46.159375 \r\nz\r\n\" style=\"fill:#9467bd;stroke:#9467bd;stroke-linejoin:miter;\"/>\r\n    </g>\r\n    <g id=\"text_1\">\r\n     <!-- disc -->\r\n     <g transform=\"translate(451.545312 53.159375)scale(0.1 -0.1)\">\r\n      <defs>\r\n       <path d=\"M 45.40625 46.390625 \r\nL 45.40625 75.984375 \r\nL 54.390625 75.984375 \r\nL 54.390625 0 \r\nL 45.40625 0 \r\nL 45.40625 8.203125 \r\nQ 42.578125 3.328125 38.25 0.953125 \r\nQ 33.9375 -1.421875 27.875 -1.421875 \r\nQ 17.96875 -1.421875 11.734375 6.484375 \r\nQ 5.515625 14.40625 5.515625 27.296875 \r\nQ 5.515625 40.1875 11.734375 48.09375 \r\nQ 17.96875 56 27.875 56 \r\nQ 33.9375 56 38.25 53.625 \r\nQ 42.578125 51.265625 45.40625 46.390625 \r\nz\r\nM 14.796875 27.296875 \r\nQ 14.796875 17.390625 18.875 11.75 \r\nQ 22.953125 6.109375 30.078125 6.109375 \r\nQ 37.203125 6.109375 41.296875 11.75 \r\nQ 45.40625 17.390625 45.40625 27.296875 \r\nQ 45.40625 37.203125 41.296875 42.84375 \r\nQ 37.203125 48.484375 30.078125 48.484375 \r\nQ 22.953125 48.484375 18.875 42.84375 \r\nQ 14.796875 37.203125 14.796875 27.296875 \r\nz\r\n\" id=\"DejaVuSans-100\"/>\r\n       <path d=\"M 9.421875 54.6875 \r\nL 18.40625 54.6875 \r\nL 18.40625 0 \r\nL 9.421875 0 \r\nz\r\nM 9.421875 75.984375 \r\nL 18.40625 75.984375 \r\nL 18.40625 64.59375 \r\nL 9.421875 64.59375 \r\nz\r\n\" id=\"DejaVuSans-105\"/>\r\n       <path d=\"M 44.28125 53.078125 \r\nL 44.28125 44.578125 \r\nQ 40.484375 46.53125 36.375 47.5 \r\nQ 32.28125 48.484375 27.875 48.484375 \r\nQ 21.1875 48.484375 17.84375 46.4375 \r\nQ 14.5 44.390625 14.5 40.28125 \r\nQ 14.5 37.15625 16.890625 35.375 \r\nQ 19.28125 33.59375 26.515625 31.984375 \r\nL 29.59375 31.296875 \r\nQ 39.15625 29.25 43.1875 25.515625 \r\nQ 47.21875 21.78125 47.21875 15.09375 \r\nQ 47.21875 7.46875 41.1875 3.015625 \r\nQ 35.15625 -1.421875 24.609375 -1.421875 \r\nQ 20.21875 -1.421875 15.453125 -0.5625 \r\nQ 10.6875 0.296875 5.421875 2 \r\nL 5.421875 11.28125 \r\nQ 10.40625 8.6875 15.234375 7.390625 \r\nQ 20.0625 6.109375 24.8125 6.109375 \r\nQ 31.15625 6.109375 34.5625 8.28125 \r\nQ 37.984375 10.453125 37.984375 14.40625 \r\nQ 37.984375 18.0625 35.515625 20.015625 \r\nQ 33.0625 21.96875 24.703125 23.78125 \r\nL 21.578125 24.515625 \r\nQ 13.234375 26.265625 9.515625 29.90625 \r\nQ 5.8125 33.546875 5.8125 39.890625 \r\nQ 5.8125 47.609375 11.28125 51.796875 \r\nQ 16.75 56 26.8125 56 \r\nQ 31.78125 56 36.171875 55.265625 \r\nQ 40.578125 54.546875 44.28125 53.078125 \r\nz\r\n\" id=\"DejaVuSans-115\"/>\r\n       <path d=\"M 48.78125 52.59375 \r\nL 48.78125 44.1875 \r\nQ 44.96875 46.296875 41.140625 47.34375 \r\nQ 37.3125 48.390625 33.40625 48.390625 \r\nQ 24.65625 48.390625 19.8125 42.84375 \r\nQ 14.984375 37.3125 14.984375 27.296875 \r\nQ 14.984375 17.28125 19.8125 11.734375 \r\nQ 24.65625 6.203125 33.40625 6.203125 \r\nQ 37.3125 6.203125 41.140625 7.25 \r\nQ 44.96875 8.296875 48.78125 10.40625 \r\nL 48.78125 2.09375 \r\nQ 45.015625 0.34375 40.984375 -0.53125 \r\nQ 36.96875 -1.421875 32.421875 -1.421875 \r\nQ 20.0625 -1.421875 12.78125 6.34375 \r\nQ 5.515625 14.109375 5.515625 27.296875 \r\nQ 5.515625 40.671875 12.859375 48.328125 \r\nQ 20.21875 56 33.015625 56 \r\nQ 37.15625 56 41.109375 55.140625 \r\nQ 45.0625 54.296875 48.78125 52.59375 \r\nz\r\n\" id=\"DejaVuSans-99\"/>\r\n      </defs>\r\n      <use xlink:href=\"#DejaVuSans-100\"/>\r\n      <use x=\"63.476562\" xlink:href=\"#DejaVuSans-105\"/>\r\n      <use x=\"91.259766\" xlink:href=\"#DejaVuSans-115\"/>\r\n      <use x=\"143.359375\" xlink:href=\"#DejaVuSans-99\"/>\r\n     </g>\r\n    </g>\r\n    <g id=\"patch_4\">\r\n     <path d=\"M 491.379687 53.159375 \r\nL 511.379687 53.159375 \r\nL 511.379687 46.159375 \r\nL 491.379687 46.159375 \r\nz\r\n\" style=\"fill:#17becf;stroke:#17becf;stroke-linejoin:miter;\"/>\r\n    </g>\r\n    <g id=\"text_2\">\r\n     <!-- cont -->\r\n     <g transform=\"translate(519.379687 53.159375)scale(0.1 -0.1)\">\r\n      <defs>\r\n       <path d=\"M 30.609375 48.390625 \r\nQ 23.390625 48.390625 19.1875 42.75 \r\nQ 14.984375 37.109375 14.984375 27.296875 \r\nQ 14.984375 17.484375 19.15625 11.84375 \r\nQ 23.34375 6.203125 30.609375 6.203125 \r\nQ 37.796875 6.203125 41.984375 11.859375 \r\nQ 46.1875 17.53125 46.1875 27.296875 \r\nQ 46.1875 37.015625 41.984375 42.703125 \r\nQ 37.796875 48.390625 30.609375 48.390625 \r\nz\r\nM 30.609375 56 \r\nQ 42.328125 56 49.015625 48.375 \r\nQ 55.71875 40.765625 55.71875 27.296875 \r\nQ 55.71875 13.875 49.015625 6.21875 \r\nQ 42.328125 -1.421875 30.609375 -1.421875 \r\nQ 18.84375 -1.421875 12.171875 6.21875 \r\nQ 5.515625 13.875 5.515625 27.296875 \r\nQ 5.515625 40.765625 12.171875 48.375 \r\nQ 18.84375 56 30.609375 56 \r\nz\r\n\" id=\"DejaVuSans-111\"/>\r\n       <path d=\"M 54.890625 33.015625 \r\nL 54.890625 0 \r\nL 45.90625 0 \r\nL 45.90625 32.71875 \r\nQ 45.90625 40.484375 42.875 44.328125 \r\nQ 39.84375 48.1875 33.796875 48.1875 \r\nQ 26.515625 48.1875 22.3125 43.546875 \r\nQ 18.109375 38.921875 18.109375 30.90625 \r\nL 18.109375 0 \r\nL 9.078125 0 \r\nL 9.078125 54.6875 \r\nL 18.109375 54.6875 \r\nL 18.109375 46.1875 \r\nQ 21.34375 51.125 25.703125 53.5625 \r\nQ 30.078125 56 35.796875 56 \r\nQ 45.21875 56 50.046875 50.171875 \r\nQ 54.890625 44.34375 54.890625 33.015625 \r\nz\r\n\" id=\"DejaVuSans-110\"/>\r\n       <path d=\"M 18.3125 70.21875 \r\nL 18.3125 54.6875 \r\nL 36.8125 54.6875 \r\nL 36.8125 47.703125 \r\nL 18.3125 47.703125 \r\nL 18.3125 18.015625 \r\nQ 18.3125 11.328125 20.140625 9.421875 \r\nQ 21.96875 7.515625 27.59375 7.515625 \r\nL 36.8125 7.515625 \r\nL 36.8125 0 \r\nL 27.59375 0 \r\nQ 17.1875 0 13.234375 3.875 \r\nQ 9.28125 7.765625 9.28125 18.015625 \r\nL 9.28125 47.703125 \r\nL 2.6875 47.703125 \r\nL 2.6875 54.6875 \r\nL 9.28125 54.6875 \r\nL 9.28125 70.21875 \r\nz\r\n\" id=\"DejaVuSans-116\"/>\r\n      </defs>\r\n      <use xlink:href=\"#DejaVuSans-99\"/>\r\n      <use x=\"54.980469\" xlink:href=\"#DejaVuSans-111\"/>\r\n      <use x=\"116.162109\" xlink:href=\"#DejaVuSans-110\"/>\r\n      <use x=\"179.541016\" xlink:href=\"#DejaVuSans-116\"/>\r\n     </g>\r\n    </g>\r\n   </g>\r\n  </g>\r\n </g>\r\n</svg>\r\n",
      "image/png": "[encoded data removed]"
     },
     "metadata": {
      "needs_background": "light"
     }
    },
    {
     "output_type": "execute_result",
     "data": {
      "text/plain": [
       "<IPython.lib.display.IFrame at 0x1e90eb00250>"
      ],
      "text/html": "\n        <iframe\n            width=\"100%\"\n            height=\"800px\"\n            src=\"../visualization_result/geo_net.html\"\n            frameborder=\"0\"\n            allowfullscreen\n        ></iframe>\n        "
     },
     "metadata": {},
     "execution_count": 75
    }
   ],
   "source": [
    "draw_BN(bn_geo, geo_types, 'geo_net')"
   ]
  },
  {
   "cell_type": "code",
   "execution_count": 76,
   "metadata": {},
   "outputs": [],
   "source": [
    "params = parameter_learning(geo_only_discrete, geo_new_types, bn_geo)"
   ]
  },
  {
   "cell_type": "code",
   "execution_count": 77,
   "metadata": {},
   "outputs": [],
   "source": [
    "save_structure(bn_geo, 'geo_net')\n",
    "skel = read_structure('geo_net')\n",
    "save_params(params, 'geo_net_param')\n",
    "params = read_params('geo_net_param')\n",
    "geo_bn = HyBayesianNetwork(skel, params)"
   ]
  },
  {
   "cell_type": "code",
   "execution_count": 78,
   "metadata": {},
   "outputs": [
    {
     "output_type": "stream",
     "name": "stdout",
     "text": [
      "7\n",
      "12\n",
      "21\n",
      "22\n",
      "27\n",
      "C:\\Users\\anaxa\\AppData\\Local\\Programs\\Python\\Python38\\lib\\site-packages\\sklearn\\metrics\\_classification.py:208: FutureWarning: elementwise comparison failed; returning scalar instead, but in the future will perform elementwise comparison\n",
      "  score = y_true == y_pred\n",
      "C:\\Users\\anaxa\\AppData\\Local\\Programs\\Python\\Python38\\lib\\site-packages\\sklearn\\metrics\\_classification.py:208: FutureWarning: elementwise comparison failed; returning scalar instead, but in the future will perform elementwise comparison\n",
      "  score = y_true == y_pred\n",
      "C:\\Users\\anaxa\\AppData\\Local\\Programs\\Python\\Python38\\lib\\site-packages\\sklearn\\metrics\\_classification.py:208: FutureWarning: elementwise comparison failed; returning scalar instead, but in the future will perform elementwise comparison\n",
      "  score = y_true == y_pred\n",
      "C:\\Users\\anaxa\\AppData\\Local\\Programs\\Python\\Python38\\lib\\site-packages\\sklearn\\metrics\\_classification.py:208: FutureWarning: elementwise comparison failed; returning scalar instead, but in the future will perform elementwise comparison\n",
      "  score = y_true == y_pred\n",
      "C:\\Users\\anaxa\\AppData\\Local\\Programs\\Python\\Python38\\lib\\site-packages\\sklearn\\metrics\\_classification.py:208: FutureWarning: elementwise comparison failed; returning scalar instead, but in the future will perform elementwise comparison\n",
      "  score = y_true == y_pred\n"
     ]
    }
   ],
   "source": [
    "acc, rmse, real, pred = calculate_acc(geo_bn, test_discrete, columns)"
   ]
  },
  {
   "cell_type": "code",
   "execution_count": 79,
   "metadata": {},
   "outputs": [
    {
     "output_type": "execute_result",
     "data": {
      "text/plain": [
       "{'Tectonic regime': 0.58,\n",
       " 'Period': 0.27,\n",
       " 'Lithology': 0.51,\n",
       " 'Structural setting': 0.27,\n",
       " 'Hydrocarbon type': 0.67,\n",
       " 'Gross': 0.0,\n",
       " 'Netpay': 0.0,\n",
       " 'Porosity': 0.0,\n",
       " 'Permeability': 0.0,\n",
       " 'Depth': 0.0}"
      ]
     },
     "metadata": {},
     "execution_count": 79
    }
   ],
   "source": [
    "acc"
   ]
  },
  {
   "cell_type": "code",
   "execution_count": 80,
   "metadata": {},
   "outputs": [],
   "source": [
    "for key in colums_for_code:\n",
    "    df_result_accuracy = df_result_accuracy.append({'Parameter': key, 'Strategy': 'evo', 'Alg':'D+D','accuracy':acc[key]}, ignore_index=True)"
   ]
  },
  {
   "cell_type": "code",
   "execution_count": 81,
   "metadata": {},
   "outputs": [],
   "source": [
    "invers_real = inverse_discretization(pd.DataFrame(np.transpose(real[5:10]), columns=['Gross', 'Netpay', 'Porosity', 'Permeability', 'Depth']), ['Gross', 'Netpay', 'Porosity', 'Permeability', 'Depth'], discrete_coder)"
   ]
  },
  {
   "cell_type": "code",
   "execution_count": 82,
   "metadata": {},
   "outputs": [],
   "source": [
    "invers_pred = inverse_discretization(pd.DataFrame(np.transpose(pred[5:10]), columns=['Gross', 'Netpay', 'Porosity', 'Permeability', 'Depth']), ['Gross', 'Netpay', 'Porosity', 'Permeability', 'Depth'], discrete_coder)"
   ]
  },
  {
   "cell_type": "code",
   "execution_count": 83,
   "metadata": {},
   "outputs": [],
   "source": [
    "mean_squared_error(invers_real['Gross'], invers_pred['Gross'], squared=False)\n",
    "df_result_rmse = df_result_rmse.append({'Parameter': 'Gross', 'Strategy': 'evo', 'Alg':'D+D','rmse':mean_squared_error(invers_real['Gross'], invers_pred['Gross'], squared=False)}, ignore_index=True)"
   ]
  },
  {
   "cell_type": "code",
   "execution_count": 84,
   "metadata": {},
   "outputs": [],
   "source": [
    "mean_squared_error(invers_real['Netpay'], invers_pred['Netpay'], squared=False)\n",
    "df_result_rmse = df_result_rmse.append({'Parameter': 'Netpay', 'Strategy': 'evo', 'Alg':'D+D','rmse':mean_squared_error(invers_real['Netpay'], invers_pred['Netpay'], squared=False)}, ignore_index=True)"
   ]
  },
  {
   "cell_type": "code",
   "execution_count": 85,
   "metadata": {},
   "outputs": [],
   "source": [
    "mean_squared_error(invers_real['Porosity'], invers_pred['Porosity'], squared=False)\n",
    "df_result_rmse = df_result_rmse.append({'Parameter': 'Porosity', 'Strategy': 'evo', 'Alg':'D+D','rmse':mean_squared_error(invers_real['Porosity'], invers_pred['Porosity'], squared=False)}, ignore_index=True)\n"
   ]
  },
  {
   "cell_type": "code",
   "execution_count": 86,
   "metadata": {},
   "outputs": [],
   "source": [
    "mean_squared_error(invers_real['Permeability'], invers_pred['Permeability'], squared=False)\n",
    "df_result_rmse = df_result_rmse.append({'Parameter': 'Permeability', 'Strategy': 'evo', 'Alg':'D+D','rmse':mean_squared_error(invers_real['Permeability'], invers_pred['Permeability'], squared=False)}, ignore_index=True)"
   ]
  },
  {
   "cell_type": "code",
   "execution_count": 87,
   "metadata": {},
   "outputs": [],
   "source": [
    "mean_squared_error(invers_real['Depth'], invers_pred['Depth'], squared=False)\n",
    "df_result_rmse = df_result_rmse.append({'Parameter': 'Depth', 'Strategy': 'evo', 'Alg':'D+D','rmse':mean_squared_error(invers_real['Depth'], invers_pred['Depth'], squared=False)}, ignore_index=True)"
   ]
  },
  {
   "source": [
    "# Смешанная структура + дискретные параметры"
   ],
   "cell_type": "markdown",
   "metadata": {}
  },
  {
   "cell_type": "code",
   "execution_count": 88,
   "metadata": {},
   "outputs": [
    {
     "output_type": "stream",
     "name": "stdout",
     "text": [
      "Cannot add to history: 'str' object has no attribute 'operation_type'\n",
      "Best metric is 31.726026408575642\n",
      "Generation num: 0\n",
      "max_depth: 3, no improvements: 0\n",
      "Number of crossover attempts exceeded. Please check composer requirements for correctness.\n",
      "Cannot add to history: 'str' object has no attribute 'operation_type'\n",
      "spent time: 0.2 min\n",
      "Best metric is 25.936803376070102\n",
      "Generation num: 1\n",
      "max_depth: 3, no improvements: 0\n",
      "Cannot add to history: 'str' object has no attribute 'operation_type'\n",
      "spent time: 0.3 min\n",
      "Best metric is 25.936803376070102\n",
      "Generation num: 2\n",
      "max_depth: 3, no improvements: 1\n",
      "Number of crossover attempts exceeded. Please check composer requirements for correctness.\n",
      "Cannot add to history: 'str' object has no attribute 'operation_type'\n",
      "spent time: 0.5 min\n",
      "Best metric is 24.871221831345135\n",
      "Generation num: 3\n",
      "max_depth: 3, no improvements: 0\n",
      "Cannot add to history: 'str' object has no attribute 'operation_type'\n",
      "spent time: 0.5 min\n",
      "Best metric is 23.73784127662323\n",
      "Generation num: 4\n",
      "max_depth: 3, no improvements: 0\n",
      "Cannot add to history: 'str' object has no attribute 'operation_type'\n",
      "spent time: 0.7 min\n",
      "Best metric is 23.73784127662323\n",
      "Generation num: 5\n",
      "max_depth: 3, no improvements: 1\n",
      "Number of mutation attempts exceeded. Please check composer requirements for correctness.\n",
      "Number of mutation attempts exceeded. Please check composer requirements for correctness.\n",
      "Cannot add to history: 'str' object has no attribute 'operation_type'\n",
      "spent time: 0.8 min\n",
      "Best metric is 23.73784127662323\n",
      "Generation num: 6\n",
      "max_depth: 3, no improvements: 2\n",
      "Cannot add to history: 'str' object has no attribute 'operation_type'\n",
      "spent time: 0.9 min\n",
      "Best metric is 22.16776710244764\n",
      "Generation num: 7\n",
      "max_depth: 3, no improvements: 0\n",
      "Number of mutation attempts exceeded. Please check composer requirements for correctness.\n",
      "Number of mutation attempts exceeded. Please check composer requirements for correctness.\n",
      "Cannot add to history: 'str' object has no attribute 'operation_type'\n",
      "spent time: 1.0 min\n",
      "Best metric is 21.442059622095734\n",
      "Generation num: 8\n",
      "max_depth: 3, no improvements: 0\n",
      "Cannot add to history: 'str' object has no attribute 'operation_type'\n",
      "spent time: 1.1 min\n",
      "Best metric is 21.442059622095734\n",
      "Generation num: 9\n",
      "max_depth: 3, no improvements: 1\n",
      "Number of mutation attempts exceeded. Please check composer requirements for correctness.\n",
      "Number of mutation attempts exceeded. Please check composer requirements for correctness.\n",
      "Cannot add to history: 'str' object has no attribute 'operation_type'\n",
      "spent time: 1.2 min\n",
      "Best metric is 18.345976149095264\n",
      "Generation num: 10\n",
      "max_depth: 3, no improvements: 0\n",
      "Cannot add to history: 'str' object has no attribute 'operation_type'\n",
      "spent time: 1.4 min\n",
      "Best metric is 18.186524870583398\n",
      "Generation num: 11\n",
      "max_depth: 3, no improvements: 0\n",
      "Cannot add to history: 'str' object has no attribute 'operation_type'\n",
      "spent time: 1.5 min\n",
      "Best metric is 18.186524870583398\n",
      "Generation num: 12\n",
      "max_depth: 3, no improvements: 1\n",
      "Number of mutation attempts exceeded. Please check composer requirements for correctness.\n",
      "Number of mutation attempts exceeded. Please check composer requirements for correctness.\n",
      "Cannot add to history: 'str' object has no attribute 'operation_type'\n",
      "spent time: 1.6 min\n",
      "Best metric is 18.186524870583398\n",
      "Generation num: 13\n",
      "max_depth: 3, no improvements: 2\n",
      "Number of mutation attempts exceeded. Please check composer requirements for correctness.\n",
      "Cannot add to history: 'str' object has no attribute 'operation_type'\n",
      "spent time: 1.8 min\n",
      "Best metric is 18.186524870583398\n",
      "Generation num: 14\n",
      "max_depth: 3, no improvements: 3\n",
      "Number of mutation attempts exceeded. Please check composer requirements for correctness.\n",
      "Number of mutation attempts exceeded. Please check composer requirements for correctness.\n",
      "Cannot add to history: 'str' object has no attribute 'operation_type'\n",
      "spent time: 1.9 min\n",
      "Best metric is 18.03259140440833\n",
      "Generation num: 15\n",
      "max_depth: 3, no improvements: 0\n",
      "Number of mutation attempts exceeded. Please check composer requirements for correctness.\n",
      "Cannot add to history: 'str' object has no attribute 'operation_type'\n",
      "spent time: 2.1 min\n",
      "Best metric is 18.03259140440833\n",
      "Generation num: 16\n",
      "max_depth: 3, no improvements: 1\n",
      "Number of mutation attempts exceeded. Please check composer requirements for correctness.\n",
      "Number of mutation attempts exceeded. Please check composer requirements for correctness.\n",
      "Cannot add to history: 'str' object has no attribute 'operation_type'\n",
      "spent time: 2.2 min\n",
      "Best metric is 18.03259140440833\n",
      "Generation num: 17\n",
      "max_depth: 3, no improvements: 2\n",
      "Number of mutation attempts exceeded. Please check composer requirements for correctness.\n",
      "Number of mutation attempts exceeded. Please check composer requirements for correctness.\n",
      "Number of mutation attempts exceeded. Please check composer requirements for correctness.\n",
      "Cannot add to history: 'str' object has no attribute 'operation_type'\n",
      "spent time: 2.3 min\n",
      "Best metric is 18.03259140440833\n",
      "Generation num: 18\n",
      "max_depth: 3, no improvements: 3\n",
      "Cannot add to history: 'str' object has no attribute 'operation_type'\n",
      "spent time: 2.4 min\n",
      "Best metric is 18.03259140440833\n",
      "Generation num: 19\n",
      "max_depth: 3, no improvements: 4\n",
      "Cannot add to history: 'str' object has no attribute 'operation_type'\n",
      "spent time: 2.5 min\n",
      "Best metric is 18.03259140440833\n",
      "Generation num: 20\n",
      "max_depth: 3, no improvements: 5\n",
      "Number of mutation attempts exceeded. Please check composer requirements for correctness.\n",
      "Cannot add to history: 'str' object has no attribute 'operation_type'\n",
      "spent time: 2.7 min\n",
      "Best metric is 18.03259140440833\n",
      "Generation num: 21\n",
      "max_depth: 3, no improvements: 6\n",
      "Cannot add to history: 'str' object has no attribute 'operation_type'\n",
      "spent time: 2.8 min\n",
      "Best metric is 18.03259140440833\n",
      "Generation num: 22\n",
      "max_depth: 3, no improvements: 7\n",
      "Number of mutation attempts exceeded. Please check composer requirements for correctness.\n",
      "Number of mutation attempts exceeded. Please check composer requirements for correctness.\n",
      "Cannot add to history: 'str' object has no attribute 'operation_type'\n",
      "spent time: 2.9 min\n",
      "Best metric is 18.03259140440833\n",
      "Generation num: 23\n",
      "max_depth: 3, no improvements: 8\n",
      "Number of mutation attempts exceeded. Please check composer requirements for correctness.\n",
      "Number of mutation attempts exceeded. Please check composer requirements for correctness.\n",
      "Cannot add to history: 'str' object has no attribute 'operation_type'\n",
      "spent time: 3.0 min\n",
      "Best metric is 18.03259140440833\n",
      "Generation num: 24\n",
      "max_depth: 3, no improvements: 9\n",
      "Number of mutation attempts exceeded. Please check composer requirements for correctness.\n",
      "Number of mutation attempts exceeded. Please check composer requirements for correctness.\n",
      "Cannot add to history: 'str' object has no attribute 'operation_type'\n",
      "spent time: 3.2 min\n",
      "Best metric is 18.03259140440833\n",
      "Generation num: 25\n",
      "max_depth: 3, no improvements: 10\n",
      "Number of mutation attempts exceeded. Please check composer requirements for correctness.\n",
      "Number of mutation attempts exceeded. Please check composer requirements for correctness.\n",
      "Number of mutation attempts exceeded. Please check composer requirements for correctness.\n",
      "Cannot add to history: 'str' object has no attribute 'operation_type'\n",
      "spent time: 3.3 min\n",
      "Best metric is 18.03259140440833\n",
      "Generation num: 26\n",
      "max_depth: 3, no improvements: 11\n",
      "Number of mutation attempts exceeded. Please check composer requirements for correctness.\n",
      "Number of mutation attempts exceeded. Please check composer requirements for correctness.\n",
      "Number of mutation attempts exceeded. Please check composer requirements for correctness.\n",
      "Number of mutation attempts exceeded. Please check composer requirements for correctness.\n",
      "Cannot add to history: 'str' object has no attribute 'operation_type'\n",
      "spent time: 3.5 min\n",
      "Best metric is 18.03259140440833\n",
      "Generation num: 27\n",
      "max_depth: 3, no improvements: 12\n",
      "Number of mutation attempts exceeded. Please check composer requirements for correctness.\n",
      "Cannot add to history: 'str' object has no attribute 'operation_type'\n",
      "spent time: 3.6 min\n",
      "Best metric is 18.03259140440833\n",
      "Generation num: 28\n",
      "max_depth: 3, no improvements: 13\n",
      "Cannot add to history: 'str' object has no attribute 'operation_type'\n",
      "spent time: 3.7 min\n",
      "Best metric is 18.03259140440833\n",
      "Result:\n",
      "Best metric is 18.03259140440833\n",
      "Composition time: 3.721 min\n"
     ]
    }
   ],
   "source": [
    "bn_geo = structure_learning(geo_coded, 'evo', 'MI', geo_new_types)"
   ]
  },
  {
   "cell_type": "code",
   "execution_count": 89,
   "metadata": {},
   "outputs": [
    {
     "output_type": "display_data",
     "data": {
      "text/plain": "<Figure size 2025x225 with 1 Axes>",
      "image/svg+xml": "<?xml version=\"1.0\" encoding=\"utf-8\" standalone=\"no\"?>\r\n<!DOCTYPE svg PUBLIC \"-//W3C//DTD SVG 1.1//EN\"\r\n  \"http://www.w3.org/Graphics/SVG/1.1/DTD/svg11.dtd\">\r\n<!-- Created with matplotlib (https://matplotlib.org/) -->\r\n<svg height=\"100.8pt\" version=\"1.1\" viewBox=\"0 0 964.8 100.8\" width=\"964.8pt\" xmlns=\"http://www.w3.org/2000/svg\" xmlns:xlink=\"http://www.w3.org/1999/xlink\">\r\n <metadata>\r\n  <rdf:RDF xmlns:cc=\"http://creativecommons.org/ns#\" xmlns:dc=\"http://purl.org/dc/elements/1.1/\" xmlns:rdf=\"http://www.w3.org/1999/02/22-rdf-syntax-ns#\">\r\n   <cc:Work>\r\n    <dc:type rdf:resource=\"http://purl.org/dc/dcmitype/StillImage\"/>\r\n    <dc:date>2021-05-01T15:09:53.998175</dc:date>\r\n    <dc:format>image/svg+xml</dc:format>\r\n    <dc:creator>\r\n     <cc:Agent>\r\n      <dc:title>Matplotlib v3.3.4, https://matplotlib.org/</dc:title>\r\n     </cc:Agent>\r\n    </dc:creator>\r\n   </cc:Work>\r\n  </rdf:RDF>\r\n </metadata>\r\n <defs>\r\n  <style type=\"text/css\">*{stroke-linecap:butt;stroke-linejoin:round;}</style>\r\n </defs>\r\n <g id=\"figure_1\">\r\n  <g id=\"patch_1\">\r\n   <path d=\"M 0 100.8 \r\nL 964.8 100.8 \r\nL 964.8 0 \r\nL 0 0 \r\nz\r\n\" style=\"fill:none;\"/>\r\n  </g>\r\n  <g id=\"axes_1\">\r\n   <g id=\"legend_1\">\r\n    <g id=\"patch_2\">\r\n     <path d=\"M 421.545312 59.239062 \r\nL 543.254687 59.239062 \r\nQ 545.254687 59.239062 545.254687 57.239062 \r\nL 545.254687 43.560937 \r\nQ 545.254687 41.560937 543.254687 41.560937 \r\nL 421.545312 41.560937 \r\nQ 419.545312 41.560937 419.545312 43.560937 \r\nL 419.545312 57.239062 \r\nQ 419.545312 59.239062 421.545312 59.239062 \r\nz\r\n\" style=\"fill:#ffffff;opacity:0.8;stroke:#cccccc;stroke-linejoin:miter;\"/>\r\n    </g>\r\n    <g id=\"patch_3\">\r\n     <path d=\"M 423.545312 53.159375 \r\nL 443.545312 53.159375 \r\nL 443.545312 46.159375 \r\nL 423.545312 46.159375 \r\nz\r\n\" style=\"fill:#9467bd;stroke:#9467bd;stroke-linejoin:miter;\"/>\r\n    </g>\r\n    <g id=\"text_1\">\r\n     <!-- disc -->\r\n     <g transform=\"translate(451.545312 53.159375)scale(0.1 -0.1)\">\r\n      <defs>\r\n       <path d=\"M 45.40625 46.390625 \r\nL 45.40625 75.984375 \r\nL 54.390625 75.984375 \r\nL 54.390625 0 \r\nL 45.40625 0 \r\nL 45.40625 8.203125 \r\nQ 42.578125 3.328125 38.25 0.953125 \r\nQ 33.9375 -1.421875 27.875 -1.421875 \r\nQ 17.96875 -1.421875 11.734375 6.484375 \r\nQ 5.515625 14.40625 5.515625 27.296875 \r\nQ 5.515625 40.1875 11.734375 48.09375 \r\nQ 17.96875 56 27.875 56 \r\nQ 33.9375 56 38.25 53.625 \r\nQ 42.578125 51.265625 45.40625 46.390625 \r\nz\r\nM 14.796875 27.296875 \r\nQ 14.796875 17.390625 18.875 11.75 \r\nQ 22.953125 6.109375 30.078125 6.109375 \r\nQ 37.203125 6.109375 41.296875 11.75 \r\nQ 45.40625 17.390625 45.40625 27.296875 \r\nQ 45.40625 37.203125 41.296875 42.84375 \r\nQ 37.203125 48.484375 30.078125 48.484375 \r\nQ 22.953125 48.484375 18.875 42.84375 \r\nQ 14.796875 37.203125 14.796875 27.296875 \r\nz\r\n\" id=\"DejaVuSans-100\"/>\r\n       <path d=\"M 9.421875 54.6875 \r\nL 18.40625 54.6875 \r\nL 18.40625 0 \r\nL 9.421875 0 \r\nz\r\nM 9.421875 75.984375 \r\nL 18.40625 75.984375 \r\nL 18.40625 64.59375 \r\nL 9.421875 64.59375 \r\nz\r\n\" id=\"DejaVuSans-105\"/>\r\n       <path d=\"M 44.28125 53.078125 \r\nL 44.28125 44.578125 \r\nQ 40.484375 46.53125 36.375 47.5 \r\nQ 32.28125 48.484375 27.875 48.484375 \r\nQ 21.1875 48.484375 17.84375 46.4375 \r\nQ 14.5 44.390625 14.5 40.28125 \r\nQ 14.5 37.15625 16.890625 35.375 \r\nQ 19.28125 33.59375 26.515625 31.984375 \r\nL 29.59375 31.296875 \r\nQ 39.15625 29.25 43.1875 25.515625 \r\nQ 47.21875 21.78125 47.21875 15.09375 \r\nQ 47.21875 7.46875 41.1875 3.015625 \r\nQ 35.15625 -1.421875 24.609375 -1.421875 \r\nQ 20.21875 -1.421875 15.453125 -0.5625 \r\nQ 10.6875 0.296875 5.421875 2 \r\nL 5.421875 11.28125 \r\nQ 10.40625 8.6875 15.234375 7.390625 \r\nQ 20.0625 6.109375 24.8125 6.109375 \r\nQ 31.15625 6.109375 34.5625 8.28125 \r\nQ 37.984375 10.453125 37.984375 14.40625 \r\nQ 37.984375 18.0625 35.515625 20.015625 \r\nQ 33.0625 21.96875 24.703125 23.78125 \r\nL 21.578125 24.515625 \r\nQ 13.234375 26.265625 9.515625 29.90625 \r\nQ 5.8125 33.546875 5.8125 39.890625 \r\nQ 5.8125 47.609375 11.28125 51.796875 \r\nQ 16.75 56 26.8125 56 \r\nQ 31.78125 56 36.171875 55.265625 \r\nQ 40.578125 54.546875 44.28125 53.078125 \r\nz\r\n\" id=\"DejaVuSans-115\"/>\r\n       <path d=\"M 48.78125 52.59375 \r\nL 48.78125 44.1875 \r\nQ 44.96875 46.296875 41.140625 47.34375 \r\nQ 37.3125 48.390625 33.40625 48.390625 \r\nQ 24.65625 48.390625 19.8125 42.84375 \r\nQ 14.984375 37.3125 14.984375 27.296875 \r\nQ 14.984375 17.28125 19.8125 11.734375 \r\nQ 24.65625 6.203125 33.40625 6.203125 \r\nQ 37.3125 6.203125 41.140625 7.25 \r\nQ 44.96875 8.296875 48.78125 10.40625 \r\nL 48.78125 2.09375 \r\nQ 45.015625 0.34375 40.984375 -0.53125 \r\nQ 36.96875 -1.421875 32.421875 -1.421875 \r\nQ 20.0625 -1.421875 12.78125 6.34375 \r\nQ 5.515625 14.109375 5.515625 27.296875 \r\nQ 5.515625 40.671875 12.859375 48.328125 \r\nQ 20.21875 56 33.015625 56 \r\nQ 37.15625 56 41.109375 55.140625 \r\nQ 45.0625 54.296875 48.78125 52.59375 \r\nz\r\n\" id=\"DejaVuSans-99\"/>\r\n      </defs>\r\n      <use xlink:href=\"#DejaVuSans-100\"/>\r\n      <use x=\"63.476562\" xlink:href=\"#DejaVuSans-105\"/>\r\n      <use x=\"91.259766\" xlink:href=\"#DejaVuSans-115\"/>\r\n      <use x=\"143.359375\" xlink:href=\"#DejaVuSans-99\"/>\r\n     </g>\r\n    </g>\r\n    <g id=\"patch_4\">\r\n     <path d=\"M 491.379687 53.159375 \r\nL 511.379687 53.159375 \r\nL 511.379687 46.159375 \r\nL 491.379687 46.159375 \r\nz\r\n\" style=\"fill:#17becf;stroke:#17becf;stroke-linejoin:miter;\"/>\r\n    </g>\r\n    <g id=\"text_2\">\r\n     <!-- cont -->\r\n     <g transform=\"translate(519.379687 53.159375)scale(0.1 -0.1)\">\r\n      <defs>\r\n       <path d=\"M 30.609375 48.390625 \r\nQ 23.390625 48.390625 19.1875 42.75 \r\nQ 14.984375 37.109375 14.984375 27.296875 \r\nQ 14.984375 17.484375 19.15625 11.84375 \r\nQ 23.34375 6.203125 30.609375 6.203125 \r\nQ 37.796875 6.203125 41.984375 11.859375 \r\nQ 46.1875 17.53125 46.1875 27.296875 \r\nQ 46.1875 37.015625 41.984375 42.703125 \r\nQ 37.796875 48.390625 30.609375 48.390625 \r\nz\r\nM 30.609375 56 \r\nQ 42.328125 56 49.015625 48.375 \r\nQ 55.71875 40.765625 55.71875 27.296875 \r\nQ 55.71875 13.875 49.015625 6.21875 \r\nQ 42.328125 -1.421875 30.609375 -1.421875 \r\nQ 18.84375 -1.421875 12.171875 6.21875 \r\nQ 5.515625 13.875 5.515625 27.296875 \r\nQ 5.515625 40.765625 12.171875 48.375 \r\nQ 18.84375 56 30.609375 56 \r\nz\r\n\" id=\"DejaVuSans-111\"/>\r\n       <path d=\"M 54.890625 33.015625 \r\nL 54.890625 0 \r\nL 45.90625 0 \r\nL 45.90625 32.71875 \r\nQ 45.90625 40.484375 42.875 44.328125 \r\nQ 39.84375 48.1875 33.796875 48.1875 \r\nQ 26.515625 48.1875 22.3125 43.546875 \r\nQ 18.109375 38.921875 18.109375 30.90625 \r\nL 18.109375 0 \r\nL 9.078125 0 \r\nL 9.078125 54.6875 \r\nL 18.109375 54.6875 \r\nL 18.109375 46.1875 \r\nQ 21.34375 51.125 25.703125 53.5625 \r\nQ 30.078125 56 35.796875 56 \r\nQ 45.21875 56 50.046875 50.171875 \r\nQ 54.890625 44.34375 54.890625 33.015625 \r\nz\r\n\" id=\"DejaVuSans-110\"/>\r\n       <path d=\"M 18.3125 70.21875 \r\nL 18.3125 54.6875 \r\nL 36.8125 54.6875 \r\nL 36.8125 47.703125 \r\nL 18.3125 47.703125 \r\nL 18.3125 18.015625 \r\nQ 18.3125 11.328125 20.140625 9.421875 \r\nQ 21.96875 7.515625 27.59375 7.515625 \r\nL 36.8125 7.515625 \r\nL 36.8125 0 \r\nL 27.59375 0 \r\nQ 17.1875 0 13.234375 3.875 \r\nQ 9.28125 7.765625 9.28125 18.015625 \r\nL 9.28125 47.703125 \r\nL 2.6875 47.703125 \r\nL 2.6875 54.6875 \r\nL 9.28125 54.6875 \r\nL 9.28125 70.21875 \r\nz\r\n\" id=\"DejaVuSans-116\"/>\r\n      </defs>\r\n      <use xlink:href=\"#DejaVuSans-99\"/>\r\n      <use x=\"54.980469\" xlink:href=\"#DejaVuSans-111\"/>\r\n      <use x=\"116.162109\" xlink:href=\"#DejaVuSans-110\"/>\r\n      <use x=\"179.541016\" xlink:href=\"#DejaVuSans-116\"/>\r\n     </g>\r\n    </g>\r\n   </g>\r\n  </g>\r\n </g>\r\n</svg>\r\n",
      "image/png": "[encoded data removed]"
     },
     "metadata": {
      "needs_background": "light"
     }
    },
    {
     "output_type": "execute_result",
     "data": {
      "text/plain": [
       "<IPython.lib.display.IFrame at 0x1e90bf0c160>"
      ],
      "text/html": "\n        <iframe\n            width=\"100%\"\n            height=\"800px\"\n            src=\"../visualization_result/geo_net.html\"\n            frameborder=\"0\"\n            allowfullscreen\n        ></iframe>\n        "
     },
     "metadata": {},
     "execution_count": 89
    }
   ],
   "source": [
    "draw_BN(bn_geo, geo_types, 'geo_net')"
   ]
  },
  {
   "cell_type": "code",
   "execution_count": 90,
   "metadata": {},
   "outputs": [],
   "source": [
    "params = parameter_learning(geo_only_discrete, geo_new_types, bn_geo)"
   ]
  },
  {
   "cell_type": "code",
   "execution_count": 91,
   "metadata": {},
   "outputs": [],
   "source": [
    "save_structure(bn_geo, 'geo_net')\n",
    "skel = read_structure('geo_net')\n",
    "save_params(params, 'geo_net_param')\n",
    "params = read_params('geo_net_param')\n",
    "geo_bn = HyBayesianNetwork(skel, params)"
   ]
  },
  {
   "cell_type": "code",
   "execution_count": 92,
   "metadata": {},
   "outputs": [
    {
     "output_type": "stream",
     "name": "stdout",
     "text": [
      "22\n",
      "C:\\Users\\anaxa\\AppData\\Local\\Programs\\Python\\Python38\\lib\\site-packages\\sklearn\\metrics\\_classification.py:208: FutureWarning: elementwise comparison failed; returning scalar instead, but in the future will perform elementwise comparison\n",
      "  score = y_true == y_pred\n",
      "C:\\Users\\anaxa\\AppData\\Local\\Programs\\Python\\Python38\\lib\\site-packages\\sklearn\\metrics\\_classification.py:208: FutureWarning: elementwise comparison failed; returning scalar instead, but in the future will perform elementwise comparison\n",
      "  score = y_true == y_pred\n",
      "C:\\Users\\anaxa\\AppData\\Local\\Programs\\Python\\Python38\\lib\\site-packages\\sklearn\\metrics\\_classification.py:208: FutureWarning: elementwise comparison failed; returning scalar instead, but in the future will perform elementwise comparison\n",
      "  score = y_true == y_pred\n",
      "C:\\Users\\anaxa\\AppData\\Local\\Programs\\Python\\Python38\\lib\\site-packages\\sklearn\\metrics\\_classification.py:208: FutureWarning: elementwise comparison failed; returning scalar instead, but in the future will perform elementwise comparison\n",
      "  score = y_true == y_pred\n",
      "C:\\Users\\anaxa\\AppData\\Local\\Programs\\Python\\Python38\\lib\\site-packages\\sklearn\\metrics\\_classification.py:208: FutureWarning: elementwise comparison failed; returning scalar instead, but in the future will perform elementwise comparison\n",
      "  score = y_true == y_pred\n"
     ]
    }
   ],
   "source": [
    "acc, rmse, real, pred = calculate_acc(geo_bn, test_discrete, columns)"
   ]
  },
  {
   "cell_type": "code",
   "execution_count": 93,
   "metadata": {},
   "outputs": [
    {
     "output_type": "execute_result",
     "data": {
      "text/plain": [
       "{'Tectonic regime': 0.58,\n",
       " 'Period': 0.27,\n",
       " 'Lithology': 0.51,\n",
       " 'Structural setting': 0.31,\n",
       " 'Hydrocarbon type': 0.67,\n",
       " 'Gross': 0.0,\n",
       " 'Netpay': 0.0,\n",
       " 'Porosity': 0.0,\n",
       " 'Permeability': 0.0,\n",
       " 'Depth': 0.0}"
      ]
     },
     "metadata": {},
     "execution_count": 93
    }
   ],
   "source": [
    "acc"
   ]
  },
  {
   "cell_type": "code",
   "execution_count": 94,
   "metadata": {},
   "outputs": [],
   "source": [
    "for key in colums_for_code:\n",
    "    df_result_accuracy = df_result_accuracy.append({'Parameter': key, 'Strategy': 'evo', 'Alg':'M+D','accuracy':acc[key]}, ignore_index=True)"
   ]
  },
  {
   "cell_type": "code",
   "execution_count": 95,
   "metadata": {},
   "outputs": [],
   "source": [
    "invers_real = inverse_discretization(pd.DataFrame(np.transpose(real[5:10]), columns=['Gross', 'Netpay', 'Porosity', 'Permeability', 'Depth']), ['Gross', 'Netpay', 'Porosity', 'Permeability', 'Depth'], discrete_coder)\n"
   ]
  },
  {
   "cell_type": "code",
   "execution_count": 96,
   "metadata": {},
   "outputs": [],
   "source": [
    "invers_pred = inverse_discretization(pd.DataFrame(np.transpose(pred[5:10]), columns=['Gross', 'Netpay', 'Porosity', 'Permeability', 'Depth']), ['Gross', 'Netpay', 'Porosity', 'Permeability', 'Depth'], discrete_coder)"
   ]
  },
  {
   "cell_type": "code",
   "execution_count": 97,
   "metadata": {},
   "outputs": [],
   "source": [
    "mean_squared_error(invers_real['Gross'], invers_pred['Gross'], squared=False)\n",
    "df_result_rmse = df_result_rmse.append({'Parameter': 'Gross', 'Strategy': 'evo', 'Alg':'M+D','rmse':mean_squared_error(invers_real['Gross'], invers_pred['Gross'], squared=False)}, ignore_index=True)"
   ]
  },
  {
   "cell_type": "code",
   "execution_count": 98,
   "metadata": {},
   "outputs": [],
   "source": [
    "mean_squared_error(invers_real['Netpay'], invers_pred['Netpay'], squared=False)\n",
    "df_result_rmse = df_result_rmse.append({'Parameter': 'Netpay', 'Strategy': 'evo', 'Alg':'M+D','rmse':mean_squared_error(invers_real['Netpay'], invers_pred['Netpay'], squared=False)}, ignore_index=True)"
   ]
  },
  {
   "cell_type": "code",
   "execution_count": 99,
   "metadata": {},
   "outputs": [],
   "source": [
    "mean_squared_error(invers_real['Porosity'], invers_pred['Porosity'], squared=False)\n",
    "df_result_rmse = df_result_rmse.append({'Parameter': 'Porosity', 'Strategy': 'evo', 'Alg':'M+D','rmse':mean_squared_error(invers_real['Porosity'], invers_pred['Porosity'], squared=False)}, ignore_index=True)"
   ]
  },
  {
   "cell_type": "code",
   "execution_count": 100,
   "metadata": {},
   "outputs": [],
   "source": [
    "mean_squared_error(invers_real['Permeability'], invers_pred['Permeability'], squared=False)\n",
    "df_result_rmse = df_result_rmse = df_result_rmse.append({'Parameter': 'Permeability', 'Strategy': 'evo', 'Alg':'M+D','rmse':mean_squared_error(invers_real['Permeability'], invers_pred['Permeability'], squared=False)}, ignore_index=True)"
   ]
  },
  {
   "cell_type": "code",
   "execution_count": 101,
   "metadata": {},
   "outputs": [],
   "source": [
    "mean_squared_error(invers_real['Depth'], invers_pred['Depth'], squared=False)\n",
    "df_result_rmse = df_result_rmse.append({'Parameter': 'Depth', 'Strategy': 'evo', 'Alg':'M+D','rmse':mean_squared_error(invers_real['Depth'], invers_pred['Depth'], squared=False)}, ignore_index=True)"
   ]
  },
  {
   "cell_type": "code",
   "execution_count": 102,
   "metadata": {},
   "outputs": [],
   "source": [
    "df_result_accuracy.to_csv('geo_results_disc.csv', index=False)\n",
    "df_result_rmse.to_csv('geo_results_cont.csv', index=False)"
   ]
  }
 ]
}