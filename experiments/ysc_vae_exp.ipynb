{
 "metadata": {
  "language_info": {
   "codemirror_mode": {
    "name": "ipython",
    "version": 3
   },
   "file_extension": ".py",
   "mimetype": "text/x-python",
   "name": "python",
   "nbconvert_exporter": "python",
   "pygments_lexer": "ipython3",
   "version": "3.8.8"
  },
  "orig_nbformat": 2,
  "kernelspec": {
   "name": "python388jvsc74a57bd00110e3ad3d2995649b9eed0505b86961f21d80e4cfa55b9dc2096312fa84aa23",
   "display_name": "Python 3.8.8 64-bit"
  },
  "metadata": {
   "interpreter": {
    "hash": "0110e3ad3d2995649b9eed0505b86961f21d80e4cfa55b9dc2096312fa84aa23"
   }
  }
 },
 "nbformat": 4,
 "nbformat_minor": 2,
 "cells": [
  {
   "cell_type": "code",
   "execution_count": 1,
   "metadata": {},
   "outputs": [],
   "source": [
    "import os,sys,inspect\n",
    "currentdir = os.path.dirname(os.path.abspath(inspect.getfile(inspect.currentframe())))\n",
    "parentdir = os.path.dirname(currentdir)\n",
    "sys.path.insert(0,parentdir) "
   ]
  },
  {
   "cell_type": "code",
   "execution_count": 2,
   "metadata": {},
   "outputs": [],
   "source": [
    "import pandas as pd\n",
    "import numpy as np\n",
    "from bayesian.train_bn import structure_learning, parameter_learning, parameter_learning_mix\n",
    "from preprocess.discretization import get_nodes_type, discretization, inverse_discretization, code_categories\n",
    "from bayesian.save_bn import save_structure, save_params, read_structure, read_params\n",
    "from external.libpgm.hybayesiannetwork import HyBayesianNetwork\n",
    "from visualization.visualization import draw_BN\n",
    "from bayesian.calculate_accuracy import calculate_acc\n",
    "import seaborn as sns\n",
    "import matplotlib.pyplot as plt\n",
    "from scipy import stats\n",
    "from copy import copy\n",
    "from external.libpgm.sampleaggregator import SampleAggregator\n",
    "import operator\n",
    "from sklearn.metrics import accuracy_score, mean_squared_error\n",
    "from scipy import stats\n",
    "from scipy.stats import multivariate_normal\n",
    "from sklearn.mixture import GaussianMixture\n",
    "import math\n",
    "from pomegranate import DiscreteDistribution\n",
    "import random\n",
    "from sklearn.model_selection import train_test_split\n",
    "import time"
   ]
  },
  {
   "cell_type": "code",
   "execution_count": 3,
   "metadata": {},
   "outputs": [
    {
     "output_type": "execute_result",
     "data": {
      "text/plain": [
       "    id  sex  age  has_high_education  relation  num_of_relatives  \\\n",
       "0   75   -1   32                  -1         0                 2   \n",
       "1  172    1   35                  -1         0                 2   \n",
       "2  175    1    0                  -1         0                 2   \n",
       "3  176    1   37                  -1         0                 2   \n",
       "4  252    1   39                   1         4                 2   \n",
       "5  375    1   44                  -1         0                 2   \n",
       "6  505    1   31                  -1         0                 2   \n",
       "7  558   -1   38                  -1         0                 2   \n",
       "8  609    1   34                  -1         0                 2   \n",
       "9  711    1   35                  -1         0                 2   \n",
       "\n",
       "   followers_count  status  mobile_phone  twitter  ...  interests  \\\n",
       "0             4068      11            -1       -1  ...          0   \n",
       "1                0       0            -1       -1  ...          0   \n",
       "2            87224       0            -1       -1  ...          0   \n",
       "3                0       0            -1       -1  ...          0   \n",
       "4              270      11            -1       -1  ...          0   \n",
       "5              476       0            -1       -1  ...          0   \n",
       "6                0       0            -1       -1  ...          0   \n",
       "7                0       0            -1       -1  ...          0   \n",
       "8              184      11            -1       -1  ...          0   \n",
       "9                0       0            -1       -1  ...          0   \n",
       "\n",
       "   interests_topic  movies  music  quotes  personal_alcohol  \\\n",
       "0                0      -1     -1      -1                 0   \n",
       "1                0      -1     -1      -1                 0   \n",
       "2                0      -1     -1      -1                 0   \n",
       "3                0      -1     -1      -1                 0   \n",
       "4                0      -1     -1      -1                 0   \n",
       "5                0      -1     -1      -1                 0   \n",
       "6                0      -1     -1      -1                 0   \n",
       "7                0      -1     -1      -1                 0   \n",
       "8                0      -1     -1      -1                 0   \n",
       "9                0      -1     -1      -1                 0   \n",
       "\n",
       "   personal_life_main  personal_people_main  personal_political  age_hidden  \n",
       "0                   0                     0                   0          -1  \n",
       "1                   0                     0                   0          -1  \n",
       "2                   0                     0                   0           1  \n",
       "3                   0                     0                   0          -1  \n",
       "4                   0                     0                   5          -1  \n",
       "5                   0                     0                   0          -1  \n",
       "6                   0                     0                   0          -1  \n",
       "7                   0                     0                   0          -1  \n",
       "8                   0                     0                   0          -1  \n",
       "9                   0                     0                   0          -1  \n",
       "\n",
       "[10 rows x 27 columns]"
      ],
      "text/html": "<div>\n<style scoped>\n    .dataframe tbody tr th:only-of-type {\n        vertical-align: middle;\n    }\n\n    .dataframe tbody tr th {\n        vertical-align: top;\n    }\n\n    .dataframe thead th {\n        text-align: right;\n    }\n</style>\n<table border=\"1\" class=\"dataframe\">\n  <thead>\n    <tr style=\"text-align: right;\">\n      <th></th>\n      <th>id</th>\n      <th>sex</th>\n      <th>age</th>\n      <th>has_high_education</th>\n      <th>relation</th>\n      <th>num_of_relatives</th>\n      <th>followers_count</th>\n      <th>status</th>\n      <th>mobile_phone</th>\n      <th>twitter</th>\n      <th>...</th>\n      <th>interests</th>\n      <th>interests_topic</th>\n      <th>movies</th>\n      <th>music</th>\n      <th>quotes</th>\n      <th>personal_alcohol</th>\n      <th>personal_life_main</th>\n      <th>personal_people_main</th>\n      <th>personal_political</th>\n      <th>age_hidden</th>\n    </tr>\n  </thead>\n  <tbody>\n    <tr>\n      <th>0</th>\n      <td>75</td>\n      <td>-1</td>\n      <td>32</td>\n      <td>-1</td>\n      <td>0</td>\n      <td>2</td>\n      <td>4068</td>\n      <td>11</td>\n      <td>-1</td>\n      <td>-1</td>\n      <td>...</td>\n      <td>0</td>\n      <td>0</td>\n      <td>-1</td>\n      <td>-1</td>\n      <td>-1</td>\n      <td>0</td>\n      <td>0</td>\n      <td>0</td>\n      <td>0</td>\n      <td>-1</td>\n    </tr>\n    <tr>\n      <th>1</th>\n      <td>172</td>\n      <td>1</td>\n      <td>35</td>\n      <td>-1</td>\n      <td>0</td>\n      <td>2</td>\n      <td>0</td>\n      <td>0</td>\n      <td>-1</td>\n      <td>-1</td>\n      <td>...</td>\n      <td>0</td>\n      <td>0</td>\n      <td>-1</td>\n      <td>-1</td>\n      <td>-1</td>\n      <td>0</td>\n      <td>0</td>\n      <td>0</td>\n      <td>0</td>\n      <td>-1</td>\n    </tr>\n    <tr>\n      <th>2</th>\n      <td>175</td>\n      <td>1</td>\n      <td>0</td>\n      <td>-1</td>\n      <td>0</td>\n      <td>2</td>\n      <td>87224</td>\n      <td>0</td>\n      <td>-1</td>\n      <td>-1</td>\n      <td>...</td>\n      <td>0</td>\n      <td>0</td>\n      <td>-1</td>\n      <td>-1</td>\n      <td>-1</td>\n      <td>0</td>\n      <td>0</td>\n      <td>0</td>\n      <td>0</td>\n      <td>1</td>\n    </tr>\n    <tr>\n      <th>3</th>\n      <td>176</td>\n      <td>1</td>\n      <td>37</td>\n      <td>-1</td>\n      <td>0</td>\n      <td>2</td>\n      <td>0</td>\n      <td>0</td>\n      <td>-1</td>\n      <td>-1</td>\n      <td>...</td>\n      <td>0</td>\n      <td>0</td>\n      <td>-1</td>\n      <td>-1</td>\n      <td>-1</td>\n      <td>0</td>\n      <td>0</td>\n      <td>0</td>\n      <td>0</td>\n      <td>-1</td>\n    </tr>\n    <tr>\n      <th>4</th>\n      <td>252</td>\n      <td>1</td>\n      <td>39</td>\n      <td>1</td>\n      <td>4</td>\n      <td>2</td>\n      <td>270</td>\n      <td>11</td>\n      <td>-1</td>\n      <td>-1</td>\n      <td>...</td>\n      <td>0</td>\n      <td>0</td>\n      <td>-1</td>\n      <td>-1</td>\n      <td>-1</td>\n      <td>0</td>\n      <td>0</td>\n      <td>0</td>\n      <td>5</td>\n      <td>-1</td>\n    </tr>\n    <tr>\n      <th>5</th>\n      <td>375</td>\n      <td>1</td>\n      <td>44</td>\n      <td>-1</td>\n      <td>0</td>\n      <td>2</td>\n      <td>476</td>\n      <td>0</td>\n      <td>-1</td>\n      <td>-1</td>\n      <td>...</td>\n      <td>0</td>\n      <td>0</td>\n      <td>-1</td>\n      <td>-1</td>\n      <td>-1</td>\n      <td>0</td>\n      <td>0</td>\n      <td>0</td>\n      <td>0</td>\n      <td>-1</td>\n    </tr>\n    <tr>\n      <th>6</th>\n      <td>505</td>\n      <td>1</td>\n      <td>31</td>\n      <td>-1</td>\n      <td>0</td>\n      <td>2</td>\n      <td>0</td>\n      <td>0</td>\n      <td>-1</td>\n      <td>-1</td>\n      <td>...</td>\n      <td>0</td>\n      <td>0</td>\n      <td>-1</td>\n      <td>-1</td>\n      <td>-1</td>\n      <td>0</td>\n      <td>0</td>\n      <td>0</td>\n      <td>0</td>\n      <td>-1</td>\n    </tr>\n    <tr>\n      <th>7</th>\n      <td>558</td>\n      <td>-1</td>\n      <td>38</td>\n      <td>-1</td>\n      <td>0</td>\n      <td>2</td>\n      <td>0</td>\n      <td>0</td>\n      <td>-1</td>\n      <td>-1</td>\n      <td>...</td>\n      <td>0</td>\n      <td>0</td>\n      <td>-1</td>\n      <td>-1</td>\n      <td>-1</td>\n      <td>0</td>\n      <td>0</td>\n      <td>0</td>\n      <td>0</td>\n      <td>-1</td>\n    </tr>\n    <tr>\n      <th>8</th>\n      <td>609</td>\n      <td>1</td>\n      <td>34</td>\n      <td>-1</td>\n      <td>0</td>\n      <td>2</td>\n      <td>184</td>\n      <td>11</td>\n      <td>-1</td>\n      <td>-1</td>\n      <td>...</td>\n      <td>0</td>\n      <td>0</td>\n      <td>-1</td>\n      <td>-1</td>\n      <td>-1</td>\n      <td>0</td>\n      <td>0</td>\n      <td>0</td>\n      <td>0</td>\n      <td>-1</td>\n    </tr>\n    <tr>\n      <th>9</th>\n      <td>711</td>\n      <td>1</td>\n      <td>35</td>\n      <td>-1</td>\n      <td>0</td>\n      <td>2</td>\n      <td>0</td>\n      <td>0</td>\n      <td>-1</td>\n      <td>-1</td>\n      <td>...</td>\n      <td>0</td>\n      <td>0</td>\n      <td>-1</td>\n      <td>-1</td>\n      <td>-1</td>\n      <td>0</td>\n      <td>0</td>\n      <td>0</td>\n      <td>0</td>\n      <td>-1</td>\n    </tr>\n  </tbody>\n</table>\n<p>10 rows × 27 columns</p>\n</div>"
     },
     "metadata": {},
     "execution_count": 3
    }
   ],
   "source": [
    "vk = pd.read_csv('vk_profiles_cross.csv')\n",
    "vk.head(10)"
   ]
  },
  {
   "cell_type": "code",
   "execution_count": 4,
   "metadata": {},
   "outputs": [
    {
     "output_type": "execute_result",
     "data": {
      "text/plain": [
       "    sbj_0_0   sbj_0_1   sbj_0_2   sbj_0_3   sbj_0_4   sbj_0_5   sbj_0_6  \\\n",
       "0  0.080425  0.055359  0.099797  0.022773  0.015482  0.031199  0.043981   \n",
       "1  0.029986  0.094844  0.355780  0.023383  0.002954  0.022161  0.062144   \n",
       "2  0.035605  0.061990  0.095158  0.038652  0.003878  0.021765  0.049660   \n",
       "3  0.077533  0.055265  0.019700  0.004943  0.022406  0.004232  0.014765   \n",
       "4  0.023390  0.120930  0.329887  0.044455  0.000952  0.094942  0.012271   \n",
       "5  0.034694  0.067079  0.130919  0.100531  0.001699  0.017660  0.221572   \n",
       "6  0.023996  0.095135  0.227457  0.007781  0.003309  0.012939  0.040225   \n",
       "7  0.028281  0.160249  0.166804  0.015272  0.009584  0.037353  0.025442   \n",
       "8  0.031313  0.148632  0.118563  0.018726  0.003604  0.021363  0.048178   \n",
       "9  0.019280  0.121727  0.159137  0.012697  0.009487  0.024468  0.015715   \n",
       "\n",
       "    sbj_0_7   sbj_0_8  sbj_0_11  ...  sbj_0_16  sbj_0_21  sbj_0_22  sbj_0_24  \\\n",
       "0  0.030139  0.001985  0.028075  ...  0.016505  0.097016  0.052347  0.083770   \n",
       "1  0.060318  0.009339  0.015776  ...  0.018903  0.009919  0.011701  0.013376   \n",
       "2  0.086779  0.048905  0.031807  ...  0.034216  0.015246  0.020291  0.014943   \n",
       "3  0.053713  0.002173  0.022065  ...  0.033823  0.171002  0.078734  0.100349   \n",
       "4  0.024358  0.001795  0.018554  ...  0.001795  0.027650  0.023757  0.001456   \n",
       "5  0.062680  0.006153  0.012825  ...  0.006846  0.005404  0.012680  0.005205   \n",
       "6  0.071300  0.019517  0.013690  ...  0.071261  0.005601  0.018104  0.003592   \n",
       "7  0.030182  0.007193  0.077362  ...  0.012782  0.047231  0.031132  0.064004   \n",
       "8  0.053077  0.003177  0.023939  ...  0.030237  0.023843  0.022334  0.018750   \n",
       "9  0.056650  0.009854  0.016708  ...  0.013159  0.019522  0.012918  0.013523   \n",
       "\n",
       "   sbj_0_25  sbj_0_26  sbj_0_28  sbj_0_29  sbj_0_30  user_id  \n",
       "0  0.080065  0.043225  0.007930  0.050312  0.033875       75  \n",
       "1  0.068087  0.023920  0.035157  0.028263  0.012047      172  \n",
       "2  0.045807  0.040546  0.029588  0.028808  0.013248      175  \n",
       "3  0.071107  0.024383  0.008047  0.008630  0.071860      176  \n",
       "4  0.066031  0.056551  0.001863  0.040104  0.001229      252  \n",
       "5  0.035175  0.086706  0.009330  0.066363  0.005775      375  \n",
       "6  0.065593  0.005357  0.118209  0.022737  0.016910      505  \n",
       "7  0.041184  0.025353  0.039849  0.033195  0.008809      558  \n",
       "8  0.040905  0.122373  0.043709  0.091793  0.008117      609  \n",
       "9  0.027085  0.040660  0.308797  0.031134  0.004571      711  \n",
       "\n",
       "[10 rows x 23 columns]"
      ],
      "text/html": "<div>\n<style scoped>\n    .dataframe tbody tr th:only-of-type {\n        vertical-align: middle;\n    }\n\n    .dataframe tbody tr th {\n        vertical-align: top;\n    }\n\n    .dataframe thead th {\n        text-align: right;\n    }\n</style>\n<table border=\"1\" class=\"dataframe\">\n  <thead>\n    <tr style=\"text-align: right;\">\n      <th></th>\n      <th>sbj_0_0</th>\n      <th>sbj_0_1</th>\n      <th>sbj_0_2</th>\n      <th>sbj_0_3</th>\n      <th>sbj_0_4</th>\n      <th>sbj_0_5</th>\n      <th>sbj_0_6</th>\n      <th>sbj_0_7</th>\n      <th>sbj_0_8</th>\n      <th>sbj_0_11</th>\n      <th>...</th>\n      <th>sbj_0_16</th>\n      <th>sbj_0_21</th>\n      <th>sbj_0_22</th>\n      <th>sbj_0_24</th>\n      <th>sbj_0_25</th>\n      <th>sbj_0_26</th>\n      <th>sbj_0_28</th>\n      <th>sbj_0_29</th>\n      <th>sbj_0_30</th>\n      <th>user_id</th>\n    </tr>\n  </thead>\n  <tbody>\n    <tr>\n      <th>0</th>\n      <td>0.080425</td>\n      <td>0.055359</td>\n      <td>0.099797</td>\n      <td>0.022773</td>\n      <td>0.015482</td>\n      <td>0.031199</td>\n      <td>0.043981</td>\n      <td>0.030139</td>\n      <td>0.001985</td>\n      <td>0.028075</td>\n      <td>...</td>\n      <td>0.016505</td>\n      <td>0.097016</td>\n      <td>0.052347</td>\n      <td>0.083770</td>\n      <td>0.080065</td>\n      <td>0.043225</td>\n      <td>0.007930</td>\n      <td>0.050312</td>\n      <td>0.033875</td>\n      <td>75</td>\n    </tr>\n    <tr>\n      <th>1</th>\n      <td>0.029986</td>\n      <td>0.094844</td>\n      <td>0.355780</td>\n      <td>0.023383</td>\n      <td>0.002954</td>\n      <td>0.022161</td>\n      <td>0.062144</td>\n      <td>0.060318</td>\n      <td>0.009339</td>\n      <td>0.015776</td>\n      <td>...</td>\n      <td>0.018903</td>\n      <td>0.009919</td>\n      <td>0.011701</td>\n      <td>0.013376</td>\n      <td>0.068087</td>\n      <td>0.023920</td>\n      <td>0.035157</td>\n      <td>0.028263</td>\n      <td>0.012047</td>\n      <td>172</td>\n    </tr>\n    <tr>\n      <th>2</th>\n      <td>0.035605</td>\n      <td>0.061990</td>\n      <td>0.095158</td>\n      <td>0.038652</td>\n      <td>0.003878</td>\n      <td>0.021765</td>\n      <td>0.049660</td>\n      <td>0.086779</td>\n      <td>0.048905</td>\n      <td>0.031807</td>\n      <td>...</td>\n      <td>0.034216</td>\n      <td>0.015246</td>\n      <td>0.020291</td>\n      <td>0.014943</td>\n      <td>0.045807</td>\n      <td>0.040546</td>\n      <td>0.029588</td>\n      <td>0.028808</td>\n      <td>0.013248</td>\n      <td>175</td>\n    </tr>\n    <tr>\n      <th>3</th>\n      <td>0.077533</td>\n      <td>0.055265</td>\n      <td>0.019700</td>\n      <td>0.004943</td>\n      <td>0.022406</td>\n      <td>0.004232</td>\n      <td>0.014765</td>\n      <td>0.053713</td>\n      <td>0.002173</td>\n      <td>0.022065</td>\n      <td>...</td>\n      <td>0.033823</td>\n      <td>0.171002</td>\n      <td>0.078734</td>\n      <td>0.100349</td>\n      <td>0.071107</td>\n      <td>0.024383</td>\n      <td>0.008047</td>\n      <td>0.008630</td>\n      <td>0.071860</td>\n      <td>176</td>\n    </tr>\n    <tr>\n      <th>4</th>\n      <td>0.023390</td>\n      <td>0.120930</td>\n      <td>0.329887</td>\n      <td>0.044455</td>\n      <td>0.000952</td>\n      <td>0.094942</td>\n      <td>0.012271</td>\n      <td>0.024358</td>\n      <td>0.001795</td>\n      <td>0.018554</td>\n      <td>...</td>\n      <td>0.001795</td>\n      <td>0.027650</td>\n      <td>0.023757</td>\n      <td>0.001456</td>\n      <td>0.066031</td>\n      <td>0.056551</td>\n      <td>0.001863</td>\n      <td>0.040104</td>\n      <td>0.001229</td>\n      <td>252</td>\n    </tr>\n    <tr>\n      <th>5</th>\n      <td>0.034694</td>\n      <td>0.067079</td>\n      <td>0.130919</td>\n      <td>0.100531</td>\n      <td>0.001699</td>\n      <td>0.017660</td>\n      <td>0.221572</td>\n      <td>0.062680</td>\n      <td>0.006153</td>\n      <td>0.012825</td>\n      <td>...</td>\n      <td>0.006846</td>\n      <td>0.005404</td>\n      <td>0.012680</td>\n      <td>0.005205</td>\n      <td>0.035175</td>\n      <td>0.086706</td>\n      <td>0.009330</td>\n      <td>0.066363</td>\n      <td>0.005775</td>\n      <td>375</td>\n    </tr>\n    <tr>\n      <th>6</th>\n      <td>0.023996</td>\n      <td>0.095135</td>\n      <td>0.227457</td>\n      <td>0.007781</td>\n      <td>0.003309</td>\n      <td>0.012939</td>\n      <td>0.040225</td>\n      <td>0.071300</td>\n      <td>0.019517</td>\n      <td>0.013690</td>\n      <td>...</td>\n      <td>0.071261</td>\n      <td>0.005601</td>\n      <td>0.018104</td>\n      <td>0.003592</td>\n      <td>0.065593</td>\n      <td>0.005357</td>\n      <td>0.118209</td>\n      <td>0.022737</td>\n      <td>0.016910</td>\n      <td>505</td>\n    </tr>\n    <tr>\n      <th>7</th>\n      <td>0.028281</td>\n      <td>0.160249</td>\n      <td>0.166804</td>\n      <td>0.015272</td>\n      <td>0.009584</td>\n      <td>0.037353</td>\n      <td>0.025442</td>\n      <td>0.030182</td>\n      <td>0.007193</td>\n      <td>0.077362</td>\n      <td>...</td>\n      <td>0.012782</td>\n      <td>0.047231</td>\n      <td>0.031132</td>\n      <td>0.064004</td>\n      <td>0.041184</td>\n      <td>0.025353</td>\n      <td>0.039849</td>\n      <td>0.033195</td>\n      <td>0.008809</td>\n      <td>558</td>\n    </tr>\n    <tr>\n      <th>8</th>\n      <td>0.031313</td>\n      <td>0.148632</td>\n      <td>0.118563</td>\n      <td>0.018726</td>\n      <td>0.003604</td>\n      <td>0.021363</td>\n      <td>0.048178</td>\n      <td>0.053077</td>\n      <td>0.003177</td>\n      <td>0.023939</td>\n      <td>...</td>\n      <td>0.030237</td>\n      <td>0.023843</td>\n      <td>0.022334</td>\n      <td>0.018750</td>\n      <td>0.040905</td>\n      <td>0.122373</td>\n      <td>0.043709</td>\n      <td>0.091793</td>\n      <td>0.008117</td>\n      <td>609</td>\n    </tr>\n    <tr>\n      <th>9</th>\n      <td>0.019280</td>\n      <td>0.121727</td>\n      <td>0.159137</td>\n      <td>0.012697</td>\n      <td>0.009487</td>\n      <td>0.024468</td>\n      <td>0.015715</td>\n      <td>0.056650</td>\n      <td>0.009854</td>\n      <td>0.016708</td>\n      <td>...</td>\n      <td>0.013159</td>\n      <td>0.019522</td>\n      <td>0.012918</td>\n      <td>0.013523</td>\n      <td>0.027085</td>\n      <td>0.040660</td>\n      <td>0.308797</td>\n      <td>0.031134</td>\n      <td>0.004571</td>\n      <td>711</td>\n    </tr>\n  </tbody>\n</table>\n<p>10 rows × 23 columns</p>\n</div>"
     },
     "metadata": {},
     "execution_count": 4
    }
   ],
   "source": [
    "interes = pd.read_csv('interests_cross.csv')\n",
    "interes.head(10)"
   ]
  },
  {
   "cell_type": "code",
   "execution_count": 5,
   "metadata": {},
   "outputs": [],
   "source": [
    "interes = interes.drop(columns = ['user_id'])"
   ]
  },
  {
   "cell_type": "code",
   "execution_count": 6,
   "metadata": {},
   "outputs": [
    {
     "output_type": "execute_result",
     "data": {
      "text/plain": [
       "   CustomerKey     max_tr  min_tr       mean_tr  median_tr    90_perc  \\\n",
       "0           75   21290.92   45.00   1778.056571      900.0   2994.440   \n",
       "1          172   74377.68    5.00    991.952426      400.0   1652.980   \n",
       "2          175  124500.00  291.85  18155.974390     6117.0  40000.000   \n",
       "3          176   15600.00   15.00   1310.183217      249.5   4750.000   \n",
       "4          252  139845.00   68.20   9718.394202     1390.0  27760.000   \n",
       "5          375    2400.00   35.00   1173.363636     1000.0   2300.000   \n",
       "6          505  119084.00    1.00   3878.404798     1424.5   6015.000   \n",
       "7          558    7870.00   64.00   1459.894364     1000.0   3378.800   \n",
       "8          609  129550.00   19.90   1646.404308      426.5   2414.568   \n",
       "9          711   52500.00    0.63   1339.101724      500.0   2499.800   \n",
       "\n",
       "       sum_am  tr_per_month   cash_sum  cash_usage  game_sum  is_gamer  \\\n",
       "0    62231.98      2.759820    3400.00           1      0.00        -1   \n",
       "1  2007711.71     96.407254  379300.00           1      0.00        -1   \n",
       "2   744394.95      2.381511   18800.00           1      0.00        -1   \n",
       "3   411397.53     15.050675  266600.00           1      0.00        -1   \n",
       "4  1156488.91      5.986757   31184.40           1   7420.15         1   \n",
       "5    12907.00      0.534833    8470.00           1      0.00        -1   \n",
       "6  2982493.29     37.509546   74000.00           1  11370.75         1   \n",
       "7    80294.19      2.704407       0.00          -1      0.00        -1   \n",
       "8   642097.68     19.459641  125400.00           1      0.00        -1   \n",
       "9  1475690.10     52.572784  453432.86           1      0.00        -1   \n",
       "\n",
       "   parent_sum  is_parent  driver_sum  is_driver  pets_sum  has_pets  \n",
       "0        0.00         -1         0.0         -1       0.0        -1  \n",
       "1        0.00         -1         0.0         -1   19383.0        -1  \n",
       "2    28466.60          1         0.0         -1       0.0        -1  \n",
       "3        0.00         -1         0.0         -1     230.0        -1  \n",
       "4        0.00         -1         0.0         -1       0.0        -1  \n",
       "5        0.00         -1         0.0         -1       0.0        -1  \n",
       "6     1066.86          1         0.0         -1   21663.0        -1  \n",
       "7    59992.53          1         0.0         -1       0.0        -1  \n",
       "8        0.00         -1         0.0         -1       0.0        -1  \n",
       "9        0.00         -1         0.0         -1     516.0        -1  "
      ],
      "text/html": "<div>\n<style scoped>\n    .dataframe tbody tr th:only-of-type {\n        vertical-align: middle;\n    }\n\n    .dataframe tbody tr th {\n        vertical-align: top;\n    }\n\n    .dataframe thead th {\n        text-align: right;\n    }\n</style>\n<table border=\"1\" class=\"dataframe\">\n  <thead>\n    <tr style=\"text-align: right;\">\n      <th></th>\n      <th>CustomerKey</th>\n      <th>max_tr</th>\n      <th>min_tr</th>\n      <th>mean_tr</th>\n      <th>median_tr</th>\n      <th>90_perc</th>\n      <th>sum_am</th>\n      <th>tr_per_month</th>\n      <th>cash_sum</th>\n      <th>cash_usage</th>\n      <th>game_sum</th>\n      <th>is_gamer</th>\n      <th>parent_sum</th>\n      <th>is_parent</th>\n      <th>driver_sum</th>\n      <th>is_driver</th>\n      <th>pets_sum</th>\n      <th>has_pets</th>\n    </tr>\n  </thead>\n  <tbody>\n    <tr>\n      <th>0</th>\n      <td>75</td>\n      <td>21290.92</td>\n      <td>45.00</td>\n      <td>1778.056571</td>\n      <td>900.0</td>\n      <td>2994.440</td>\n      <td>62231.98</td>\n      <td>2.759820</td>\n      <td>3400.00</td>\n      <td>1</td>\n      <td>0.00</td>\n      <td>-1</td>\n      <td>0.00</td>\n      <td>-1</td>\n      <td>0.0</td>\n      <td>-1</td>\n      <td>0.0</td>\n      <td>-1</td>\n    </tr>\n    <tr>\n      <th>1</th>\n      <td>172</td>\n      <td>74377.68</td>\n      <td>5.00</td>\n      <td>991.952426</td>\n      <td>400.0</td>\n      <td>1652.980</td>\n      <td>2007711.71</td>\n      <td>96.407254</td>\n      <td>379300.00</td>\n      <td>1</td>\n      <td>0.00</td>\n      <td>-1</td>\n      <td>0.00</td>\n      <td>-1</td>\n      <td>0.0</td>\n      <td>-1</td>\n      <td>19383.0</td>\n      <td>-1</td>\n    </tr>\n    <tr>\n      <th>2</th>\n      <td>175</td>\n      <td>124500.00</td>\n      <td>291.85</td>\n      <td>18155.974390</td>\n      <td>6117.0</td>\n      <td>40000.000</td>\n      <td>744394.95</td>\n      <td>2.381511</td>\n      <td>18800.00</td>\n      <td>1</td>\n      <td>0.00</td>\n      <td>-1</td>\n      <td>28466.60</td>\n      <td>1</td>\n      <td>0.0</td>\n      <td>-1</td>\n      <td>0.0</td>\n      <td>-1</td>\n    </tr>\n    <tr>\n      <th>3</th>\n      <td>176</td>\n      <td>15600.00</td>\n      <td>15.00</td>\n      <td>1310.183217</td>\n      <td>249.5</td>\n      <td>4750.000</td>\n      <td>411397.53</td>\n      <td>15.050675</td>\n      <td>266600.00</td>\n      <td>1</td>\n      <td>0.00</td>\n      <td>-1</td>\n      <td>0.00</td>\n      <td>-1</td>\n      <td>0.0</td>\n      <td>-1</td>\n      <td>230.0</td>\n      <td>-1</td>\n    </tr>\n    <tr>\n      <th>4</th>\n      <td>252</td>\n      <td>139845.00</td>\n      <td>68.20</td>\n      <td>9718.394202</td>\n      <td>1390.0</td>\n      <td>27760.000</td>\n      <td>1156488.91</td>\n      <td>5.986757</td>\n      <td>31184.40</td>\n      <td>1</td>\n      <td>7420.15</td>\n      <td>1</td>\n      <td>0.00</td>\n      <td>-1</td>\n      <td>0.0</td>\n      <td>-1</td>\n      <td>0.0</td>\n      <td>-1</td>\n    </tr>\n    <tr>\n      <th>5</th>\n      <td>375</td>\n      <td>2400.00</td>\n      <td>35.00</td>\n      <td>1173.363636</td>\n      <td>1000.0</td>\n      <td>2300.000</td>\n      <td>12907.00</td>\n      <td>0.534833</td>\n      <td>8470.00</td>\n      <td>1</td>\n      <td>0.00</td>\n      <td>-1</td>\n      <td>0.00</td>\n      <td>-1</td>\n      <td>0.0</td>\n      <td>-1</td>\n      <td>0.0</td>\n      <td>-1</td>\n    </tr>\n    <tr>\n      <th>6</th>\n      <td>505</td>\n      <td>119084.00</td>\n      <td>1.00</td>\n      <td>3878.404798</td>\n      <td>1424.5</td>\n      <td>6015.000</td>\n      <td>2982493.29</td>\n      <td>37.509546</td>\n      <td>74000.00</td>\n      <td>1</td>\n      <td>11370.75</td>\n      <td>1</td>\n      <td>1066.86</td>\n      <td>1</td>\n      <td>0.0</td>\n      <td>-1</td>\n      <td>21663.0</td>\n      <td>-1</td>\n    </tr>\n    <tr>\n      <th>7</th>\n      <td>558</td>\n      <td>7870.00</td>\n      <td>64.00</td>\n      <td>1459.894364</td>\n      <td>1000.0</td>\n      <td>3378.800</td>\n      <td>80294.19</td>\n      <td>2.704407</td>\n      <td>0.00</td>\n      <td>-1</td>\n      <td>0.00</td>\n      <td>-1</td>\n      <td>59992.53</td>\n      <td>1</td>\n      <td>0.0</td>\n      <td>-1</td>\n      <td>0.0</td>\n      <td>-1</td>\n    </tr>\n    <tr>\n      <th>8</th>\n      <td>609</td>\n      <td>129550.00</td>\n      <td>19.90</td>\n      <td>1646.404308</td>\n      <td>426.5</td>\n      <td>2414.568</td>\n      <td>642097.68</td>\n      <td>19.459641</td>\n      <td>125400.00</td>\n      <td>1</td>\n      <td>0.00</td>\n      <td>-1</td>\n      <td>0.00</td>\n      <td>-1</td>\n      <td>0.0</td>\n      <td>-1</td>\n      <td>0.0</td>\n      <td>-1</td>\n    </tr>\n    <tr>\n      <th>9</th>\n      <td>711</td>\n      <td>52500.00</td>\n      <td>0.63</td>\n      <td>1339.101724</td>\n      <td>500.0</td>\n      <td>2499.800</td>\n      <td>1475690.10</td>\n      <td>52.572784</td>\n      <td>453432.86</td>\n      <td>1</td>\n      <td>0.00</td>\n      <td>-1</td>\n      <td>0.00</td>\n      <td>-1</td>\n      <td>0.0</td>\n      <td>-1</td>\n      <td>516.0</td>\n      <td>-1</td>\n    </tr>\n  </tbody>\n</table>\n</div>"
     },
     "metadata": {},
     "execution_count": 6
    }
   ],
   "source": [
    "finance = pd.read_csv('transactions_cross.csv')\n",
    "finance.head(10)"
   ]
  },
  {
   "cell_type": "code",
   "execution_count": 7,
   "metadata": {},
   "outputs": [],
   "source": [
    "finance = finance.drop(columns=['CustomerKey'])"
   ]
  },
  {
   "cell_type": "code",
   "execution_count": 8,
   "metadata": {},
   "outputs": [],
   "source": [
    "all_data = pd.concat([vk, interes, finance], axis=1)"
   ]
  },
  {
   "cell_type": "code",
   "execution_count": 9,
   "metadata": {},
   "outputs": [],
   "source": [
    "all_data = all_data.drop(columns=['id'])"
   ]
  },
  {
   "cell_type": "code",
   "execution_count": 10,
   "metadata": {},
   "outputs": [],
   "source": [
    "all_data.dropna(inplace=True)"
   ]
  },
  {
   "cell_type": "code",
   "execution_count": 11,
   "metadata": {},
   "outputs": [],
   "source": [
    "all_data_sample = all_data.sample(50)"
   ]
  },
  {
   "cell_type": "code",
   "execution_count": 12,
   "metadata": {},
   "outputs": [
    {
     "output_type": "execute_result",
     "data": {
      "text/plain": [
       "{'sex': 'disc',\n",
       " 'age': 'disc',\n",
       " 'has_high_education': 'disc',\n",
       " 'relation': 'disc',\n",
       " 'num_of_relatives': 'disc',\n",
       " 'followers_count': 'disc',\n",
       " 'status': 'disc',\n",
       " 'mobile_phone': 'disc',\n",
       " 'twitter': 'disc',\n",
       " 'facebook': 'disc',\n",
       " 'instagram': 'disc',\n",
       " 'about': 'disc',\n",
       " 'about_topic': 'disc',\n",
       " 'activities': 'disc',\n",
       " 'activities_topic': 'disc',\n",
       " 'books': 'disc',\n",
       " 'interests': 'disc',\n",
       " 'interests_topic': 'disc',\n",
       " 'movies': 'disc',\n",
       " 'music': 'disc',\n",
       " 'quotes': 'disc',\n",
       " 'personal_alcohol': 'disc',\n",
       " 'personal_life_main': 'disc',\n",
       " 'personal_people_main': 'disc',\n",
       " 'personal_political': 'disc',\n",
       " 'age_hidden': 'disc',\n",
       " 'sbj_0_0': 'cont',\n",
       " 'sbj_0_1': 'cont',\n",
       " 'sbj_0_2': 'cont',\n",
       " 'sbj_0_3': 'cont',\n",
       " 'sbj_0_4': 'cont',\n",
       " 'sbj_0_5': 'cont',\n",
       " 'sbj_0_6': 'cont',\n",
       " 'sbj_0_7': 'cont',\n",
       " 'sbj_0_8': 'cont',\n",
       " 'sbj_0_11': 'cont',\n",
       " 'sbj_0_12': 'cont',\n",
       " 'sbj_0_14': 'cont',\n",
       " 'sbj_0_15': 'cont',\n",
       " 'sbj_0_16': 'cont',\n",
       " 'sbj_0_21': 'cont',\n",
       " 'sbj_0_22': 'cont',\n",
       " 'sbj_0_24': 'cont',\n",
       " 'sbj_0_25': 'cont',\n",
       " 'sbj_0_26': 'cont',\n",
       " 'sbj_0_28': 'cont',\n",
       " 'sbj_0_29': 'cont',\n",
       " 'sbj_0_30': 'cont',\n",
       " 'max_tr': 'cont',\n",
       " 'min_tr': 'cont',\n",
       " 'mean_tr': 'cont',\n",
       " 'median_tr': 'cont',\n",
       " '90_perc': 'cont',\n",
       " 'sum_am': 'cont',\n",
       " 'tr_per_month': 'cont',\n",
       " 'cash_sum': 'cont',\n",
       " 'cash_usage': 'disc',\n",
       " 'game_sum': 'cont',\n",
       " 'is_gamer': 'disc',\n",
       " 'parent_sum': 'cont',\n",
       " 'is_parent': 'disc',\n",
       " 'driver_sum': 'cont',\n",
       " 'is_driver': 'disc',\n",
       " 'pets_sum': 'cont',\n",
       " 'has_pets': 'disc'}"
      ]
     },
     "metadata": {},
     "execution_count": 12
    }
   ],
   "source": [
    "nodes_type = get_nodes_type(all_data)\n",
    "nodes_type"
   ]
  },
  {
   "cell_type": "code",
   "execution_count": 13,
   "metadata": {},
   "outputs": [],
   "source": [
    "columns_for_disc = []\n",
    "for key in nodes_type.keys():\n",
    "    if nodes_type[key] == 'cont':\n",
    "        columns_for_disc.append(key)"
   ]
  },
  {
   "cell_type": "code",
   "execution_count": 14,
   "metadata": {},
   "outputs": [
    {
     "output_type": "stream",
     "name": "stderr",
     "text": [
      "C:\\Users\\anaxa\\AppData\\Local\\Programs\\Python\\Python38\\lib\\site-packages\\sklearn\\preprocessing\\_discretization.py:220: UserWarning: Bins whose width are too small (i.e., <= 1e-8) in feature 30 are removed. Consider decreasing the number of bins.\n  warnings.warn('Bins whose width are too small (i.e., <= '\nC:\\Users\\anaxa\\AppData\\Local\\Programs\\Python\\Python38\\lib\\site-packages\\sklearn\\preprocessing\\_discretization.py:220: UserWarning: Bins whose width are too small (i.e., <= 1e-8) in feature 31 are removed. Consider decreasing the number of bins.\n  warnings.warn('Bins whose width are too small (i.e., <= '\nC:\\Users\\anaxa\\AppData\\Local\\Programs\\Python\\Python38\\lib\\site-packages\\sklearn\\preprocessing\\_discretization.py:220: UserWarning: Bins whose width are too small (i.e., <= 1e-8) in feature 32 are removed. Consider decreasing the number of bins.\n  warnings.warn('Bins whose width are too small (i.e., <= '\nC:\\Users\\anaxa\\AppData\\Local\\Programs\\Python\\Python38\\lib\\site-packages\\sklearn\\preprocessing\\_discretization.py:220: UserWarning: Bins whose width are too small (i.e., <= 1e-8) in feature 33 are removed. Consider decreasing the number of bins.\n  warnings.warn('Bins whose width are too small (i.e., <= '\n"
     ]
    }
   ],
   "source": [
    "discrete_data, coder = discretization(all_data_sample, 'equal_frequency', columns_for_disc)"
   ]
  },
  {
   "cell_type": "code",
   "execution_count": 15,
   "metadata": {},
   "outputs": [
    {
     "output_type": "stream",
     "name": "stderr",
     "text": [
      "  0%|          | 161/1000000 [01:39<171:28:58,  1.62it/s]\n"
     ]
    }
   ],
   "source": [
    "bn_geo = structure_learning(discrete_data, 'HC', 'K2', nodes_type)"
   ]
  },
  {
   "cell_type": "code",
   "execution_count": 16,
   "metadata": {},
   "outputs": [],
   "source": [
    "params = parameter_learning(all_data.sample(1000), nodes_type, bn_geo)"
   ]
  },
  {
   "cell_type": "code",
   "execution_count": 17,
   "metadata": {},
   "outputs": [],
   "source": [
    "save_structure(bn_geo, 'geo_net')\n",
    "skel = read_structure('geo_net')\n",
    "save_params(params, 'geo_net_param')\n",
    "params = read_params('geo_net_param')\n",
    "geo_bn = HyBayesianNetwork(skel, params)"
   ]
  },
  {
   "cell_type": "code",
   "execution_count": 18,
   "metadata": {},
   "outputs": [
    {
     "output_type": "stream",
     "name": "stdout",
     "text": [
      "108.78442120552063\n"
     ]
    }
   ],
   "source": [
    "start = time.time()\n",
    "sample = pd.DataFrame(geo_bn.randomsample(80000))\n",
    "end = time.time()\n",
    "print(end - start)"
   ]
  },
  {
   "cell_type": "code",
   "execution_count": null,
   "metadata": {},
   "outputs": [],
   "source": [
    "'sex': 'disc',\n",
    " 'age': 'disc',\n",
    " 'has_high_education': 'disc',\n",
    " 'relation': 'disc',\n",
    " 'num_of_relatives': 'disc',\n",
    " 'followers_count': 'disc',\n",
    " 'status': 'disc',\n",
    " 'mobile_phone': 'disc',\n",
    " 'twitter': 'disc',\n",
    " 'facebook': 'disc',\n",
    " 'instagram': 'disc',\n",
    " 'about': 'disc',\n",
    " 'about_topic': 'disc',\n",
    " 'activities': 'disc',\n",
    " 'activities_topic': 'disc',\n",
    " 'books': 'disc',\n",
    " 'interests': 'disc',\n",
    " 'interests_topic': 'disc',\n",
    " 'movies': 'disc',\n",
    " 'music': 'disc',\n",
    " 'quotes': 'disc',\n",
    " 'personal_alcohol': 'disc',\n",
    " 'personal_life_main': 'disc',\n",
    " 'personal_people_main': 'disc',\n",
    " 'personal_political': 'disc',\n",
    " 'age_hidden': 'disc',"
   ]
  },
  {
   "cell_type": "code",
   "execution_count": 21,
   "metadata": {},
   "outputs": [],
   "source": [
    "sample['sex'] = sample['sex'].apply(lambda x: int(x))\n",
    "sample['age'] = sample['age'].apply(lambda x: int(x))\n",
    "sample['has_high_education'] = sample['has_high_education'].apply(lambda x: int(x))\n",
    "sample['relation'] = sample['relation'].apply(lambda x: int(x))\n",
    "sample['num_of_relatives'] = sample['num_of_relatives'].apply(lambda x: int(x))\n",
    "sample['followers_count'] = sample['followers_count'].apply(lambda x: int(x))\n",
    "sample['status'] = sample['status'].apply(lambda x: int(x))\n",
    "sample['mobile_phone'] = sample['mobile_phone'].apply(lambda x: int(x))\n",
    "sample['twitter'] = sample['twitter'].apply(lambda x: int(x))\n",
    "sample['facebook'] = sample['facebook'].apply(lambda x: int(x))\n",
    "sample['instagram'] = sample['instagram'].apply(lambda x: int(x))\n",
    "sample['about'] = sample['about'].apply(lambda x: int(x))\n",
    "sample['about_topic'] = sample['about_topic'].apply(lambda x: int(x))"
   ]
  },
  {
   "cell_type": "code",
   "execution_count": 19,
   "metadata": {},
   "outputs": [],
   "source": [
    "def MMD(x, y, kernel=\"rbf\"):\n",
    "    xx, yy, zz = np.dot(x, x.T), np.dot(y, y.T), np.dot(x, y.T)\n",
    "\n",
    "    rx = np.tile(np.expand_dims(np.diag(xx), 0), (xx.shape[0], 1))\n",
    "    ry = np.tile(np.expand_dims(np.diag(yy), 0), (yy.shape[0], 1))\n",
    "\n",
    "    dxx = rx.T + rx - 2. * xx\n",
    "    dyy = ry.T + ry - 2. * yy\n",
    "    dxy = rx.T + ry - 2. * zz\n",
    "\n",
    "    XX, YY, XY = np.zeros(xx.shape), np.zeros(xx.shape), np.zeros(xx.shape)\n",
    "\n",
    "    if kernel == \"multiscale\":\n",
    "        bandwidth_range = [0.2, 0.5, 0.9, 1.3]\n",
    "        for a in bandwidth_range:\n",
    "            XX += a**2 * (a**2 + dxx)**-1\n",
    "            YY += a**2 * (a**2 + dyy)**-1\n",
    "            XY += a**2 * (a**2 + dxy)**-1\n",
    "\n",
    "    if kernel == \"rbf\":\n",
    "        bandwidth_range = [10, 15, 20, 50]\n",
    "        for a in bandwidth_range:\n",
    "            XX += np.exp(-0.5*dxx / a)\n",
    "            YY += np.exp(-0.5*dyy / a)\n",
    "            XY += np.exp(-0.5*dxy / a)\n",
    "\n",
    "    return np.mean(XX + YY - 2. * XY)"
   ]
  },
  {
   "cell_type": "code",
   "execution_count": 20,
   "metadata": {},
   "outputs": [
    {
     "output_type": "error",
     "ename": "TypeError",
     "evalue": "can't multiply sequence by non-int of type 'str'",
     "traceback": [
      "\u001b[1;31m---------------------------------------------------------------------------\u001b[0m",
      "\u001b[1;31mTypeError\u001b[0m                                 Traceback (most recent call last)",
      "\u001b[1;32m<ipython-input-20-fda9b952be44>\u001b[0m in \u001b[0;36m<module>\u001b[1;34m\u001b[0m\n\u001b[1;32m----> 1\u001b[1;33m \u001b[0mMMD\u001b[0m\u001b[1;33m(\u001b[0m\u001b[0mall_data\u001b[0m\u001b[1;33m.\u001b[0m\u001b[0msample\u001b[0m\u001b[1;33m(\u001b[0m\u001b[1;36m100\u001b[0m\u001b[1;33m)\u001b[0m\u001b[1;33m.\u001b[0m\u001b[0mvalues\u001b[0m\u001b[1;33m,\u001b[0m \u001b[0msample\u001b[0m\u001b[1;33m.\u001b[0m\u001b[0msample\u001b[0m\u001b[1;33m(\u001b[0m\u001b[1;36m100\u001b[0m\u001b[1;33m)\u001b[0m\u001b[1;33m.\u001b[0m\u001b[0mvalues\u001b[0m\u001b[1;33m)\u001b[0m\u001b[1;33m\u001b[0m\u001b[1;33m\u001b[0m\u001b[0m\n\u001b[0m",
      "\u001b[1;32m<ipython-input-19-4bfba2e32781>\u001b[0m in \u001b[0;36mMMD\u001b[1;34m(x, y, kernel)\u001b[0m\n\u001b[0;32m      1\u001b[0m \u001b[1;32mdef\u001b[0m \u001b[0mMMD\u001b[0m\u001b[1;33m(\u001b[0m\u001b[0mx\u001b[0m\u001b[1;33m,\u001b[0m \u001b[0my\u001b[0m\u001b[1;33m,\u001b[0m \u001b[0mkernel\u001b[0m\u001b[1;33m=\u001b[0m\u001b[1;34m\"rbf\"\u001b[0m\u001b[1;33m)\u001b[0m\u001b[1;33m:\u001b[0m\u001b[1;33m\u001b[0m\u001b[1;33m\u001b[0m\u001b[0m\n\u001b[1;32m----> 2\u001b[1;33m     \u001b[0mxx\u001b[0m\u001b[1;33m,\u001b[0m \u001b[0myy\u001b[0m\u001b[1;33m,\u001b[0m \u001b[0mzz\u001b[0m \u001b[1;33m=\u001b[0m \u001b[0mnp\u001b[0m\u001b[1;33m.\u001b[0m\u001b[0mdot\u001b[0m\u001b[1;33m(\u001b[0m\u001b[0mx\u001b[0m\u001b[1;33m,\u001b[0m \u001b[0mx\u001b[0m\u001b[1;33m.\u001b[0m\u001b[0mT\u001b[0m\u001b[1;33m)\u001b[0m\u001b[1;33m,\u001b[0m \u001b[0mnp\u001b[0m\u001b[1;33m.\u001b[0m\u001b[0mdot\u001b[0m\u001b[1;33m(\u001b[0m\u001b[0my\u001b[0m\u001b[1;33m,\u001b[0m \u001b[0my\u001b[0m\u001b[1;33m.\u001b[0m\u001b[0mT\u001b[0m\u001b[1;33m)\u001b[0m\u001b[1;33m,\u001b[0m \u001b[0mnp\u001b[0m\u001b[1;33m.\u001b[0m\u001b[0mdot\u001b[0m\u001b[1;33m(\u001b[0m\u001b[0mx\u001b[0m\u001b[1;33m,\u001b[0m \u001b[0my\u001b[0m\u001b[1;33m.\u001b[0m\u001b[0mT\u001b[0m\u001b[1;33m)\u001b[0m\u001b[1;33m\u001b[0m\u001b[1;33m\u001b[0m\u001b[0m\n\u001b[0m\u001b[0;32m      3\u001b[0m \u001b[1;33m\u001b[0m\u001b[0m\n\u001b[0;32m      4\u001b[0m     \u001b[0mrx\u001b[0m \u001b[1;33m=\u001b[0m \u001b[0mnp\u001b[0m\u001b[1;33m.\u001b[0m\u001b[0mtile\u001b[0m\u001b[1;33m(\u001b[0m\u001b[0mnp\u001b[0m\u001b[1;33m.\u001b[0m\u001b[0mexpand_dims\u001b[0m\u001b[1;33m(\u001b[0m\u001b[0mnp\u001b[0m\u001b[1;33m.\u001b[0m\u001b[0mdiag\u001b[0m\u001b[1;33m(\u001b[0m\u001b[0mxx\u001b[0m\u001b[1;33m)\u001b[0m\u001b[1;33m,\u001b[0m \u001b[1;36m0\u001b[0m\u001b[1;33m)\u001b[0m\u001b[1;33m,\u001b[0m \u001b[1;33m(\u001b[0m\u001b[0mxx\u001b[0m\u001b[1;33m.\u001b[0m\u001b[0mshape\u001b[0m\u001b[1;33m[\u001b[0m\u001b[1;36m0\u001b[0m\u001b[1;33m]\u001b[0m\u001b[1;33m,\u001b[0m \u001b[1;36m1\u001b[0m\u001b[1;33m)\u001b[0m\u001b[1;33m)\u001b[0m\u001b[1;33m\u001b[0m\u001b[1;33m\u001b[0m\u001b[0m\n\u001b[0;32m      5\u001b[0m     \u001b[0mry\u001b[0m \u001b[1;33m=\u001b[0m \u001b[0mnp\u001b[0m\u001b[1;33m.\u001b[0m\u001b[0mtile\u001b[0m\u001b[1;33m(\u001b[0m\u001b[0mnp\u001b[0m\u001b[1;33m.\u001b[0m\u001b[0mexpand_dims\u001b[0m\u001b[1;33m(\u001b[0m\u001b[0mnp\u001b[0m\u001b[1;33m.\u001b[0m\u001b[0mdiag\u001b[0m\u001b[1;33m(\u001b[0m\u001b[0myy\u001b[0m\u001b[1;33m)\u001b[0m\u001b[1;33m,\u001b[0m \u001b[1;36m0\u001b[0m\u001b[1;33m)\u001b[0m\u001b[1;33m,\u001b[0m \u001b[1;33m(\u001b[0m\u001b[0myy\u001b[0m\u001b[1;33m.\u001b[0m\u001b[0mshape\u001b[0m\u001b[1;33m[\u001b[0m\u001b[1;36m0\u001b[0m\u001b[1;33m]\u001b[0m\u001b[1;33m,\u001b[0m \u001b[1;36m1\u001b[0m\u001b[1;33m)\u001b[0m\u001b[1;33m)\u001b[0m\u001b[1;33m\u001b[0m\u001b[1;33m\u001b[0m\u001b[0m\n",
      "\u001b[1;32m<__array_function__ internals>\u001b[0m in \u001b[0;36mdot\u001b[1;34m(*args, **kwargs)\u001b[0m\n",
      "\u001b[1;31mTypeError\u001b[0m: can't multiply sequence by non-int of type 'str'"
     ]
    }
   ],
   "source": [
    "MMD(all_data.sample(100).values, sample.sample(100).values)"
   ]
  }
 ]
}