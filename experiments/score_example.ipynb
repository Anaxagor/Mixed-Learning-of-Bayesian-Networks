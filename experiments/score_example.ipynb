{
 "metadata": {
  "language_info": {
   "codemirror_mode": {
    "name": "ipython",
    "version": 3
   },
   "file_extension": ".py",
   "mimetype": "text/x-python",
   "name": "python",
   "nbconvert_exporter": "python",
   "pygments_lexer": "ipython3",
   "version": "3.8.2-final"
  },
  "orig_nbformat": 2,
  "kernelspec": {
   "name": "python382jvsc74a57bd01baa965d5efe3ac65b79dfc60c0d706280b1da80fedb7760faf2759126c4f253",
   "display_name": "Python 3.8.2 64-bit"
  },
  "metadata": {
   "interpreter": {
    "hash": "1baa965d5efe3ac65b79dfc60c0d706280b1da80fedb7760faf2759126c4f253"
   }
  }
 },
 "nbformat": 4,
 "nbformat_minor": 2,
 "cells": [
  {
   "cell_type": "code",
   "execution_count": 1,
   "metadata": {},
   "outputs": [
    {
     "output_type": "stream",
     "name": "stdout",
     "text": [
      "-35.139\n"
     ]
    }
   ],
   "source": [
    "import os,sys,inspect\n",
    "currentdir = os.path.dirname(os.path.abspath(inspect.getfile(inspect.currentframe())))\n",
    "parentdir = os.path.dirname(currentdir)\n",
    "sys.path.insert(0,parentdir)\n",
    "\n",
    "\n",
    "import pandas as pd\n",
    "from preprocess.discretization import get_nodes_type, code_categories\n",
    "from bayesian.structure_score import MIG\n",
    "\n",
    "import networkx as nx\n",
    "\n",
    "\n",
    "from pgmpy.estimators import HillClimbSearch\n",
    "\n",
    "\n",
    "\n",
    "\n",
    "orig_data = pd.read_csv('../datasets/hackathon_processed.csv')\n",
    "orig_data.dropna(inplace=True)\n",
    "orig_data.reset_index(inplace=True, drop=True)\n",
    "columns = ['Period', 'Tectonic regime', 'Hydrocarbon type']\n",
    "#columns = ['Gross', 'Netpay','Porosity']\n",
    "#columns = ['Gross', 'Netpay', 'Period']\n",
    "data_test = orig_data[columns]\n",
    "\n",
    "node_type = get_nodes_type(data_test)\n",
    "columns_for_discrete = []\n",
    "for param in columns:\n",
    "    if node_type[param] == 'cont':\n",
    "        columns_for_discrete.append(param)\n",
    "columns_for_code = []\n",
    "for param in columns:\n",
    "    if node_type[param] == 'disc':\n",
    "        columns_for_code.append(param)        \n",
    "\n",
    "data_coded, code_dict = code_categories(data_test, \"label\", columns_for_code)\n",
    "scoring_method = MIG(data=data_coded)\n",
    "\n",
    "local_score = scoring_method.local_score\n",
    "print(local_score('Period', ['Hydrocarbon type']))"
   ]
  },
  {
   "cell_type": "code",
   "execution_count": 4,
   "metadata": {},
   "outputs": [
    {
     "output_type": "stream",
     "name": "stdout",
     "text": [
      "['Period', 'Tectonic regime', 'Hydrocarbon type'] [('Hydrocarbon type', 'Period'), ('Hydrocarbon type', 'Tectonic regime')]\n"
     ]
    }
   ],
   "source": [
    "est = HillClimbSearch(data=data_coded, scoring_method=scoring_method, use_cache=False)\n",
    "estimated_model = est.estimate(max_indegree=4, max_iter=int(1e4), epsilon=1e-6)\n",
    "print(estimated_model.nodes(), estimated_model.edges())"
   ]
  },
  {
   "cell_type": "code",
   "execution_count": 13,
   "metadata": {
    "tags": []
   },
   "outputs": [
    {
     "output_type": "stream",
     "name": "stdout",
     "text": [
      "['Period', 'Tectonic regime', 'Gross', 'Netpay'] [('Gross', 'Netpay'), ('Gross', 'Tectonic regime'), ('Netpay', 'Period')]\n"
     ]
    }
   ],
   "source": [
    "#Fast example with all nodes\n",
    "columns = ['Period', 'Tectonic regime','Gross', 'Netpay']\n",
    "data_test = orig_data[columns]\n",
    "\n",
    "node_type = get_nodes_type(data_test)\n",
    "columns_for_discrete = []\n",
    "for param in columns:\n",
    "    if node_type[param] == 'cont':\n",
    "        columns_for_discrete.append(param)\n",
    "columns_for_code = []\n",
    "for param in columns:\n",
    "    if node_type[param] == 'disc':\n",
    "        columns_for_code.append(param)        \n",
    "data_coded, code_dict = code_categories(data_test, \"label\", columns_for_code)\n",
    "scoring_method = MIG(data=data_coded)\n",
    "est = HillClimbSearch(data=data_coded, scoring_method=scoring_method, use_cache=False)\n",
    "estimated_model = est.estimate(max_indegree=4, max_iter=int(1e4), epsilon=1e-4)\n",
    "print(estimated_model.nodes(), estimated_model.edges())"
   ]
  },
  {
   "cell_type": "code",
   "execution_count": 12,
   "metadata": {},
   "outputs": [
    {
     "output_type": "stream",
     "name": "stdout",
     "text": [
      "['Field name', 'Reservoir unit', 'Country', 'Region', 'Basin name', 'Tectonic regime', 'Latitude', 'Longitude', 'Operator company', 'Onshore/offshore', 'Hydrocarbon type', 'Reservoir status', 'Structural setting', 'Depth', 'Period', 'Lithology', 'Gross', 'Netpay', 'Porosity', 'Permeability'] [('Latitude', 'Operator company'), ('Longitude', 'Field name'), ('Longitude', 'Period'), ('Longitude', 'Region'), ('Longitude', 'Lithology'), ('Longitude', 'Tectonic regime'), ('Depth', 'Gross'), ('Depth', 'Longitude'), ('Depth', 'Latitude'), ('Depth', 'Netpay'), ('Depth', 'Permeability'), ('Depth', 'Porosity'), ('Depth', 'Onshore/offshore'), ('Netpay', 'Reservoir unit'), ('Netpay', 'Basin name'), ('Netpay', 'Country'), ('Netpay', 'Structural setting'), ('Netpay', 'Reservoir status'), ('Porosity', 'Hydrocarbon type')]\n"
     ]
    }
   ],
   "source": [
    "#Example with all nodes\n",
    "\n",
    "columns = orig_data.columns\n",
    "data_test = orig_data[columns]\n",
    "\n",
    "node_type = get_nodes_type(data_test)\n",
    "columns_for_discrete = []\n",
    "for param in columns:\n",
    "    if node_type[param] == 'cont':\n",
    "        columns_for_discrete.append(param)\n",
    "columns_for_code = []\n",
    "for param in columns:\n",
    "    if node_type[param] == 'disc':\n",
    "        columns_for_code.append(param)        \n",
    "data_coded, code_dict = code_categories(data_test, \"label\", columns_for_code)\n",
    "scoring_method = MIG(data=data_coded)\n",
    "est = HillClimbSearch(data=data_coded, scoring_method=scoring_method, use_cache=False)\n",
    "estimated_model = est.estimate(max_indegree=4, max_iter=int(1e4))\n",
    "print(estimated_model.nodes(), estimated_model.edges())"
   ]
  },
  {
   "cell_type": "code",
   "execution_count": 2,
   "metadata": {},
   "outputs": [
    {
     "output_type": "stream",
     "name": "stderr",
     "text": [
      "  0%|          | 7/10000 [00:14<5:43:22,  2.06s/it]['Tectonic regime', 'Period', 'Lithology', 'Structural setting', 'Hydrocarbon type', 'Gross', 'Netpay', 'Porosity', 'Permeability', 'Depth'] [('Tectonic regime', 'Structural setting'), ('Period', 'Netpay'), ('Structural setting', 'Gross'), ('Structural setting', 'Period'), ('Hydrocarbon type', 'Permeability'), ('Hydrocarbon type', 'Depth'), ('Netpay', 'Depth')]\n",
      "\n"
     ]
    }
   ],
   "source": [
    "columns =['Tectonic regime', 'Period', 'Lithology', 'Structural setting', 'Hydrocarbon type', 'Gross','Netpay','Porosity','Permeability', 'Depth']\n",
    "data_test = orig_data[columns]\n",
    "\n",
    "node_type = get_nodes_type(data_test)\n",
    "columns_for_discrete = []\n",
    "for param in columns:\n",
    "    if node_type[param] == 'cont':\n",
    "        columns_for_discrete.append(param)\n",
    "columns_for_code = []\n",
    "for param in columns:\n",
    "    if node_type[param] == 'disc':\n",
    "        columns_for_code.append(param)        \n",
    "data_coded, code_dict = code_categories(data_test, \"label\", columns_for_code)\n",
    "scoring_method = MIG(data=data_coded)\n",
    "est = HillClimbSearch(data=data_coded, scoring_method=scoring_method)\n",
    "estimated_model = est.estimate(max_indegree=4, max_iter=int(1e4))\n",
    "print(estimated_model.nodes(), estimated_model.edges())\n"
   ]
  },
  {
   "cell_type": "code",
   "execution_count": null,
   "metadata": {},
   "outputs": [],
   "source": []
  }
 ]
}