{
 "metadata": {
  "language_info": {
   "codemirror_mode": {
    "name": "ipython",
    "version": 3
   },
   "file_extension": ".py",
   "mimetype": "text/x-python",
   "name": "python",
   "nbconvert_exporter": "python",
   "pygments_lexer": "ipython3",
   "version": "3.8.8-final"
  },
  "orig_nbformat": 2,
  "kernelspec": {
   "name": "python388jvsc74a57bd092325e3824298d5e9d71878960b8883dae61e3776a88d67e07708db8e5eaf7fa",
   "display_name": "Python 3.8.8 64-bit ('venv': venv)",
   "language": "python"
  }
 },
 "nbformat": 4,
 "nbformat_minor": 2,
 "cells": [
  {
   "cell_type": "code",
   "execution_count": 2,
   "metadata": {},
   "outputs": [
    {
     "output_type": "stream",
     "name": "stdout",
     "text": [
      "-35.139\n"
     ]
    }
   ],
   "source": [
    "import os,sys,inspect\n",
    "currentdir = os.path.dirname(os.path.abspath(inspect.getfile(inspect.currentframe())))\n",
    "parentdir = os.path.dirname(currentdir)\n",
    "sys.path.insert(0,parentdir)\n",
    "\n",
    "\n",
    "import pandas as pd\n",
    "from preprocess.discretization import get_nodes_type, code_categories\n",
    "from bayesian.structure_score import MIG\n",
    "\n",
    "import networkx as nx\n",
    "\n",
    "\n",
    "from pgmpy.estimators import HillClimbSearch\n",
    "\n",
    "\n",
    "\n",
    "\n",
    "orig_data = pd.read_csv('../datasets/hackathon_processed.csv')\n",
    "orig_data.dropna(inplace=True)\n",
    "orig_data.reset_index(inplace=True, drop=True)\n",
    "columns = ['Period', 'Tectonic regime', 'Hydrocarbon type']\n",
    "#columns = ['Gross', 'Netpay','Porosity']\n",
    "#columns = ['Gross', 'Netpay', 'Period']\n",
    "data_test = orig_data[columns]\n",
    "\n",
    "node_type = get_nodes_type(data_test)\n",
    "columns_for_discrete = []\n",
    "for param in columns:\n",
    "    if node_type[param] == 'cont':\n",
    "        columns_for_discrete.append(param)\n",
    "columns_for_code = []\n",
    "for param in columns:\n",
    "    if node_type[param] == 'disc':\n",
    "        columns_for_code.append(param)        \n",
    "\n",
    "data_coded, code_dict = code_categories(data_test, \"label\", columns_for_code)\n",
    "scoring_method = MIG(data=data_coded)\n",
    "\n",
    "local_score = scoring_method.local_score\n",
    "print(local_score('Period', ['Hydrocarbon type']))"
   ]
  },
  {
   "cell_type": "code",
   "execution_count": 4,
   "metadata": {},
   "outputs": [
    {
     "output_type": "stream",
     "name": "stdout",
     "text": [
      "['Period', 'Tectonic regime', 'Hydrocarbon type'] [('Hydrocarbon type', 'Period'), ('Hydrocarbon type', 'Tectonic regime')]\n"
     ]
    }
   ],
   "source": [
    "est = HillClimbSearch(data=data_coded, scoring_method=scoring_method, use_cache=False)\n",
    "estimated_model = est.estimate(max_indegree=4, max_iter=int(1e4), epsilon=1e-6)\n",
    "print(estimated_model.nodes(), estimated_model.edges())"
   ]
  },
  {
   "cell_type": "code",
   "execution_count": 10,
   "metadata": {
    "tags": []
   },
   "outputs": [
    {
     "output_type": "error",
     "ename": "TypeError",
     "evalue": "estimate() got an unexpected keyword argument 'show_progress'",
     "traceback": [
      "\u001b[1;31m---------------------------------------------------------------------------\u001b[0m",
      "\u001b[1;31mTypeError\u001b[0m                                 Traceback (most recent call last)",
      "\u001b[1;32m<ipython-input-10-44083e4b2f9a>\u001b[0m in \u001b[0;36m<module>\u001b[1;34m\u001b[0m\n\u001b[0;32m     15\u001b[0m \u001b[0mscoring_method\u001b[0m \u001b[1;33m=\u001b[0m \u001b[0mMIG\u001b[0m\u001b[1;33m(\u001b[0m\u001b[0mdata\u001b[0m\u001b[1;33m=\u001b[0m\u001b[0mdata_coded\u001b[0m\u001b[1;33m)\u001b[0m\u001b[1;33m\u001b[0m\u001b[1;33m\u001b[0m\u001b[0m\n\u001b[0;32m     16\u001b[0m \u001b[0mest\u001b[0m \u001b[1;33m=\u001b[0m \u001b[0mHillClimbSearch\u001b[0m\u001b[1;33m(\u001b[0m\u001b[0mdata\u001b[0m\u001b[1;33m=\u001b[0m\u001b[0mdata_coded\u001b[0m\u001b[1;33m,\u001b[0m \u001b[0mscoring_method\u001b[0m\u001b[1;33m=\u001b[0m\u001b[0mscoring_method\u001b[0m\u001b[1;33m,\u001b[0m \u001b[0muse_cache\u001b[0m\u001b[1;33m=\u001b[0m\u001b[1;32mFalse\u001b[0m\u001b[1;33m)\u001b[0m\u001b[1;33m\u001b[0m\u001b[1;33m\u001b[0m\u001b[0m\n\u001b[1;32m---> 17\u001b[1;33m \u001b[0mestimated_model\u001b[0m \u001b[1;33m=\u001b[0m \u001b[0mest\u001b[0m\u001b[1;33m.\u001b[0m\u001b[0mestimate\u001b[0m\u001b[1;33m(\u001b[0m\u001b[0mmax_indegree\u001b[0m\u001b[1;33m=\u001b[0m\u001b[1;36m4\u001b[0m\u001b[1;33m,\u001b[0m \u001b[0mmax_iter\u001b[0m\u001b[1;33m=\u001b[0m\u001b[0mint\u001b[0m\u001b[1;33m(\u001b[0m\u001b[1;36m1e4\u001b[0m\u001b[1;33m)\u001b[0m\u001b[1;33m,\u001b[0m \u001b[0mepsilon\u001b[0m\u001b[1;33m=\u001b[0m\u001b[1;36m1e-4\u001b[0m\u001b[1;33m,\u001b[0m \u001b[0mshow_progress\u001b[0m\u001b[1;33m=\u001b[0m\u001b[1;32mTrue\u001b[0m\u001b[1;33m)\u001b[0m\u001b[1;33m\u001b[0m\u001b[1;33m\u001b[0m\u001b[0m\n\u001b[0m\u001b[0;32m     18\u001b[0m \u001b[0mprint\u001b[0m\u001b[1;33m(\u001b[0m\u001b[0mestimated_model\u001b[0m\u001b[1;33m.\u001b[0m\u001b[0mnodes\u001b[0m\u001b[1;33m(\u001b[0m\u001b[1;33m)\u001b[0m\u001b[1;33m,\u001b[0m \u001b[0mestimated_model\u001b[0m\u001b[1;33m.\u001b[0m\u001b[0medges\u001b[0m\u001b[1;33m(\u001b[0m\u001b[1;33m)\u001b[0m\u001b[1;33m)\u001b[0m\u001b[1;33m\u001b[0m\u001b[1;33m\u001b[0m\u001b[0m\n",
      "\u001b[1;31mTypeError\u001b[0m: estimate() got an unexpected keyword argument 'show_progress'"
     ]
    }
   ],
   "source": [
    "#Fast example with all nodes\n",
    "columns = ['Period', 'Tectonic regime','Gross', 'Netpay']\n",
    "data_test = orig_data[columns]\n",
    "\n",
    "node_type = get_nodes_type(data_test)\n",
    "columns_for_discrete = []\n",
    "for param in columns:\n",
    "    if node_type[param] == 'cont':\n",
    "        columns_for_discrete.append(param)\n",
    "columns_for_code = []\n",
    "for param in columns:\n",
    "    if node_type[param] == 'disc':\n",
    "        columns_for_code.append(param)        \n",
    "data_coded, code_dict = code_categories(data_test, \"label\", columns_for_code)\n",
    "scoring_method = MIG(data=data_coded)\n",
    "est = HillClimbSearch(data=data_coded, scoring_method=scoring_method, use_cache=False)\n",
    "estimated_model = est.estimate(max_indegree=4, max_iter=int(1e4), epsilon=1e-4)\n",
    "print(estimated_model.nodes(), estimated_model.edges())"
   ]
  },
  {
   "cell_type": "code",
   "execution_count": 12,
   "metadata": {},
   "outputs": [
    {
     "output_type": "stream",
     "name": "stdout",
     "text": [
      "['Field name', 'Reservoir unit', 'Country', 'Region', 'Basin name', 'Tectonic regime', 'Latitude', 'Longitude', 'Operator company', 'Onshore/offshore', 'Hydrocarbon type', 'Reservoir status', 'Structural setting', 'Depth', 'Period', 'Lithology', 'Gross', 'Netpay', 'Porosity', 'Permeability'] [('Latitude', 'Operator company'), ('Longitude', 'Field name'), ('Longitude', 'Period'), ('Longitude', 'Region'), ('Longitude', 'Lithology'), ('Longitude', 'Tectonic regime'), ('Depth', 'Gross'), ('Depth', 'Longitude'), ('Depth', 'Latitude'), ('Depth', 'Netpay'), ('Depth', 'Permeability'), ('Depth', 'Porosity'), ('Depth', 'Onshore/offshore'), ('Netpay', 'Reservoir unit'), ('Netpay', 'Basin name'), ('Netpay', 'Country'), ('Netpay', 'Structural setting'), ('Netpay', 'Reservoir status'), ('Porosity', 'Hydrocarbon type')]\n"
     ]
    }
   ],
   "source": [
    "#Example with all nodes\n",
    "\n",
    "columns = orig_data.columns\n",
    "data_test = orig_data[columns]\n",
    "\n",
    "node_type = get_nodes_type(data_test)\n",
    "columns_for_discrete = []\n",
    "for param in columns:\n",
    "    if node_type[param] == 'cont':\n",
    "        columns_for_discrete.append(param)\n",
    "columns_for_code = []\n",
    "for param in columns:\n",
    "    if node_type[param] == 'disc':\n",
    "        columns_for_code.append(param)        \n",
    "data_coded, code_dict = code_categories(data_test, \"label\", columns_for_code)\n",
    "scoring_method = MIG(data=data_coded)\n",
    "est = HillClimbSearch(data=data_coded, scoring_method=scoring_method, use_cache=False)\n",
    "estimated_model = est.estimate(max_indegree=4, max_iter=int(1e4))\n",
    "print(estimated_model.nodes(), estimated_model.edges())"
   ]
  },
  {
   "cell_type": "code",
   "execution_count": null,
   "metadata": {},
   "outputs": [],
   "source": []
  }
 ]
}