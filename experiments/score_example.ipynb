{
 "metadata": {
  "language_info": {
   "codemirror_mode": {
    "name": "ipython",
    "version": 3
   },
   "file_extension": ".py",
   "mimetype": "text/x-python",
   "name": "python",
   "nbconvert_exporter": "python",
   "pygments_lexer": "ipython3",
   "version": "3.8.8-final"
  },
  "orig_nbformat": 2,
  "kernelspec": {
   "name": "python388jvsc74a57bd092325e3824298d5e9d71878960b8883dae61e3776a88d67e07708db8e5eaf7fa",
   "display_name": "Python 3.8.8 64-bit ('venv': venv)",
   "language": "python"
  }
 },
 "nbformat": 4,
 "nbformat_minor": 2,
 "cells": [
  {
   "cell_type": "code",
   "execution_count": 1,
   "metadata": {},
   "outputs": [
    {
     "output_type": "stream",
     "name": "stdout",
     "text": [
      "0.0795\n"
     ]
    }
   ],
   "source": [
    "import os,sys,inspect\n",
    "currentdir = os.path.dirname(os.path.abspath(inspect.getfile(inspect.currentframe())))\n",
    "parentdir = os.path.dirname(currentdir)\n",
    "sys.path.insert(0,parentdir)\n",
    "\n",
    "\n",
    "import pandas as pd\n",
    "from preprocess.discretization import get_nodes_type, code_categories\n",
    "from bayesian.structure_score import MIG\n",
    "\n",
    "import networkx as nx\n",
    "\n",
    "\n",
    "from pgmpy.estimators import HillClimbSearch\n",
    "\n",
    "\n",
    "\n",
    "\n",
    "orig_data = pd.read_csv('../datasets/hackathon_processed.csv')\n",
    "orig_data.dropna(inplace=True)\n",
    "orig_data.reset_index(inplace=True, drop=True)\n",
    "columns = ['Period', 'Tectonic regime', 'Hydrocarbon type']\n",
    "#columns = ['Gross', 'Netpay','Porosity']\n",
    "#columns = ['Gross', 'Netpay', 'Period']\n",
    "data_test = orig_data[columns]\n",
    "\n",
    "node_type = get_nodes_type(data_test)\n",
    "columns_for_discrete = []\n",
    "for param in columns:\n",
    "    if node_type[param] == 'cont':\n",
    "        columns_for_discrete.append(param)\n",
    "columns_for_code = []\n",
    "for param in columns:\n",
    "    if node_type[param] == 'disc':\n",
    "        columns_for_code.append(param)        \n",
    "\n",
    "data_coded, code_dict = code_categories(data_test, \"label\", columns_for_code)\n",
    "scoring_method = MIG(data=data_coded)\n",
    "\n",
    "local_score = scoring_method.local_score\n",
    "print(local_score('Period', ['Hydrocarbon type']))"
   ]
  },
  {
   "cell_type": "code",
   "execution_count": 5,
   "metadata": {},
   "outputs": [
    {
     "output_type": "stream",
     "name": "stdout",
     "text": [
      "['Period', 'Tectonic regime', 'Hydrocarbon type', 'Lithology', 'Gross'] []\n"
     ]
    }
   ],
   "source": [
    "est = HillClimbSearch(data=data_coded, scoring_method=scoring_method, use_cache=False)\n",
    "estimated_model = est.estimate(max_indegree=4, max_iter=int(1e4), epsilon=1e-6)\n",
    "print(estimated_model.nodes(), estimated_model.edges())"
   ]
  },
  {
   "cell_type": "code",
   "execution_count": 9,
   "metadata": {},
   "outputs": [
    {
     "output_type": "stream",
     "name": "stdout",
     "text": [
      "['Period', 'Tectonic regime', 'Gross'] []\n"
     ]
    }
   ],
   "source": [
    "import os,sys,inspect\n",
    "currentdir = os.path.dirname(os.path.abspath(inspect.getfile(inspect.currentframe())))\n",
    "parentdir = os.path.dirname(currentdir)\n",
    "sys.path.insert(0,parentdir)\n",
    "\n",
    "\n",
    "import pandas as pd\n",
    "from preprocess.discretization import get_nodes_type, code_categories\n",
    "from bayesian.structure_score import MIG\n",
    "\n",
    "import networkx as nx\n",
    "\n",
    "\n",
    "from pgmpy.estimators import HillClimbSearch\n",
    "orig_data = pd.read_csv('../datasets/hackathon_processed.csv')\n",
    "orig_data.dropna(inplace=True)\n",
    "orig_data.reset_index(inplace=True, drop=True)\n",
    "\n",
    "#columns = orig_data.columns\n",
    "columns = ['Period', 'Tectonic regime','Gross']\n",
    "black_list = [('Gross','Period'), ('Gross','Tectonic regime')]\n",
    "data_test = orig_data[columns]\n",
    "\n",
    "node_type = get_nodes_type(data_test)\n",
    "columns_for_discrete = []\n",
    "for param in columns:\n",
    "    if node_type[param] == 'cont':\n",
    "        columns_for_discrete.append(param)\n",
    "columns_for_code = []\n",
    "for param in columns:\n",
    "    if node_type[param] == 'disc':\n",
    "        columns_for_code.append(param)        \n",
    "data_coded, code_dict = code_categories(data_test, \"label\", columns_for_code)\n",
    "scoring_method = MIG(data=data_coded)\n",
    "est = HillClimbSearch(data=data_coded, scoring_method=scoring_method, use_cache=False)\n",
    "estimated_model = est.estimate(max_indegree=4, max_iter=int(1e4), epsilon=1e-8)\n",
    "print(estimated_model.nodes(), estimated_model.edges())"
   ]
  },
  {
   "cell_type": "code",
   "execution_count": 7,
   "metadata": {},
   "outputs": [
    {
     "output_type": "stream",
     "name": "stdout",
     "text": [
      "['Period', 'Tectonic regime', 'Hydrocarbon type', 'Lithology', 'Gross'] []\n"
     ]
    }
   ],
   "source": []
  },
  {
   "cell_type": "code",
   "execution_count": null,
   "metadata": {},
   "outputs": [],
   "source": []
  }
 ]
}