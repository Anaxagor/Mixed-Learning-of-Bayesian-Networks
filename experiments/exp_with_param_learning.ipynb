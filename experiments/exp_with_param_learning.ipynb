{
 "metadata": {
  "language_info": {
   "codemirror_mode": {
    "name": "ipython",
    "version": 3
   },
   "file_extension": ".py",
   "mimetype": "text/x-python",
   "name": "python",
   "nbconvert_exporter": "python",
   "pygments_lexer": "ipython3",
   "version": "3.8.8"
  },
  "orig_nbformat": 2,
  "kernelspec": {
   "name": "python388jvsc74a57bd00110e3ad3d2995649b9eed0505b86961f21d80e4cfa55b9dc2096312fa84aa23",
   "display_name": "Python 3.8.8 64-bit"
  },
  "metadata": {
   "interpreter": {
    "hash": "0110e3ad3d2995649b9eed0505b86961f21d80e4cfa55b9dc2096312fa84aa23"
   }
  }
 },
 "nbformat": 4,
 "nbformat_minor": 2,
 "cells": [
  {
   "cell_type": "code",
   "execution_count": 1,
   "metadata": {},
   "outputs": [],
   "source": [
    "import os,sys,inspect\n",
    "currentdir = os.path.dirname(os.path.abspath(inspect.getfile(inspect.currentframe())))\n",
    "parentdir = os.path.dirname(currentdir)\n",
    "sys.path.insert(0,parentdir) "
   ]
  },
  {
   "cell_type": "code",
   "execution_count": 2,
   "metadata": {},
   "outputs": [],
   "source": [
    "import pandas as pd\n",
    "from bayesian.train_bn import structure_learning, parameter_learning\n",
    "from preprocess.discretization import get_nodes_type, discretization, inverse_discretization\n",
    "from visualization.visualization import draw_BN"
   ]
  },
  {
   "cell_type": "code",
   "execution_count": 3,
   "metadata": {},
   "outputs": [
    {
     "output_type": "execute_result",
     "data": {
      "text/plain": [
       "  first_name      last_name  sex  age  city_id  has_high_education  relation  \\\n",
       "0      Darya     Tsiberkina  1.0   33        2                   0         4   \n",
       "1       Gleb        Kotenev  2.0   18        2                   0         0   \n",
       "2       Anna        Pavlova  1.0   34        2                   0         0   \n",
       "3     Serega       Martynov  2.0   39        2                   0         0   \n",
       "4      Maria     Pavlyukova  1.0    0        2                   0         0   \n",
       "5       Yury       Golubkov  2.0   47        2                   0         0   \n",
       "6   Svetlana       Muratova  1.0   48        2                   0         4   \n",
       "7       Ivan       Poletaev  2.0    0        2                   0         0   \n",
       "8  Anastasia  Yaguzhinskaya  1.0   25        1                   0         0   \n",
       "9  Valentina       Trokhova  1.0   55        2                   0         0   \n",
       "\n",
       "   num_of_relatives  followers_count  status  ...  top3     top3_mean  \\\n",
       "0                 2              486       8  ...  5812   1277.784568   \n",
       "1                 2                0       5  ...  5814    384.000000   \n",
       "2                 2                7       0  ...  6011  24000.000000   \n",
       "3                 2                7      10  ...  5411    142.175000   \n",
       "4                 2              144       0  ...  6011   1095.238095   \n",
       "5                 2                0       0  ...  5964    760.580000   \n",
       "6                 2               30       0  ...  5411    113.000000   \n",
       "7                 2               53      23  ...  5411    446.565263   \n",
       "8                 2              111       3  ...  5499    185.523529   \n",
       "9                12               56       0  ...  5499    345.572472   \n",
       "\n",
       "   game_sum  is_gamer  parent_sum is_parent  driver_sum is_driver  pets_sum  \\\n",
       "0       0.0         0     9968.00         1         0.0         0       0.0   \n",
       "1       0.0         0        0.00         0         0.0         0       0.0   \n",
       "2       0.0         0        0.00         0         0.0         0       0.0   \n",
       "3       0.0         0        0.00         0         0.0         0       0.0   \n",
       "4       0.0         0    60331.59         1         0.0         0      80.0   \n",
       "5       0.0         0        0.00         0         0.0         0       0.0   \n",
       "6       0.0         0        0.00         0         0.0         0       0.0   \n",
       "7    1000.0         1        0.00         0         0.0         0       0.0   \n",
       "8       0.0         0        0.00         0         0.0         0    1287.0   \n",
       "9       0.0         0        0.00         0         0.0         0       0.0   \n",
       "\n",
       "   has_pets  \n",
       "0         0  \n",
       "1         0  \n",
       "2         0  \n",
       "3         0  \n",
       "4         0  \n",
       "5         0  \n",
       "6         0  \n",
       "7         0  \n",
       "8         0  \n",
       "9         0  \n",
       "\n",
       "[10 rows x 78 columns]"
      ],
      "text/html": "<div>\n<style scoped>\n    .dataframe tbody tr th:only-of-type {\n        vertical-align: middle;\n    }\n\n    .dataframe tbody tr th {\n        vertical-align: top;\n    }\n\n    .dataframe thead th {\n        text-align: right;\n    }\n</style>\n<table border=\"1\" class=\"dataframe\">\n  <thead>\n    <tr style=\"text-align: right;\">\n      <th></th>\n      <th>first_name</th>\n      <th>last_name</th>\n      <th>sex</th>\n      <th>age</th>\n      <th>city_id</th>\n      <th>has_high_education</th>\n      <th>relation</th>\n      <th>num_of_relatives</th>\n      <th>followers_count</th>\n      <th>status</th>\n      <th>...</th>\n      <th>top3</th>\n      <th>top3_mean</th>\n      <th>game_sum</th>\n      <th>is_gamer</th>\n      <th>parent_sum</th>\n      <th>is_parent</th>\n      <th>driver_sum</th>\n      <th>is_driver</th>\n      <th>pets_sum</th>\n      <th>has_pets</th>\n    </tr>\n  </thead>\n  <tbody>\n    <tr>\n      <th>0</th>\n      <td>Darya</td>\n      <td>Tsiberkina</td>\n      <td>1.0</td>\n      <td>33</td>\n      <td>2</td>\n      <td>0</td>\n      <td>4</td>\n      <td>2</td>\n      <td>486</td>\n      <td>8</td>\n      <td>...</td>\n      <td>5812</td>\n      <td>1277.784568</td>\n      <td>0.0</td>\n      <td>0</td>\n      <td>9968.00</td>\n      <td>1</td>\n      <td>0.0</td>\n      <td>0</td>\n      <td>0.0</td>\n      <td>0</td>\n    </tr>\n    <tr>\n      <th>1</th>\n      <td>Gleb</td>\n      <td>Kotenev</td>\n      <td>2.0</td>\n      <td>18</td>\n      <td>2</td>\n      <td>0</td>\n      <td>0</td>\n      <td>2</td>\n      <td>0</td>\n      <td>5</td>\n      <td>...</td>\n      <td>5814</td>\n      <td>384.000000</td>\n      <td>0.0</td>\n      <td>0</td>\n      <td>0.00</td>\n      <td>0</td>\n      <td>0.0</td>\n      <td>0</td>\n      <td>0.0</td>\n      <td>0</td>\n    </tr>\n    <tr>\n      <th>2</th>\n      <td>Anna</td>\n      <td>Pavlova</td>\n      <td>1.0</td>\n      <td>34</td>\n      <td>2</td>\n      <td>0</td>\n      <td>0</td>\n      <td>2</td>\n      <td>7</td>\n      <td>0</td>\n      <td>...</td>\n      <td>6011</td>\n      <td>24000.000000</td>\n      <td>0.0</td>\n      <td>0</td>\n      <td>0.00</td>\n      <td>0</td>\n      <td>0.0</td>\n      <td>0</td>\n      <td>0.0</td>\n      <td>0</td>\n    </tr>\n    <tr>\n      <th>3</th>\n      <td>Serega</td>\n      <td>Martynov</td>\n      <td>2.0</td>\n      <td>39</td>\n      <td>2</td>\n      <td>0</td>\n      <td>0</td>\n      <td>2</td>\n      <td>7</td>\n      <td>10</td>\n      <td>...</td>\n      <td>5411</td>\n      <td>142.175000</td>\n      <td>0.0</td>\n      <td>0</td>\n      <td>0.00</td>\n      <td>0</td>\n      <td>0.0</td>\n      <td>0</td>\n      <td>0.0</td>\n      <td>0</td>\n    </tr>\n    <tr>\n      <th>4</th>\n      <td>Maria</td>\n      <td>Pavlyukova</td>\n      <td>1.0</td>\n      <td>0</td>\n      <td>2</td>\n      <td>0</td>\n      <td>0</td>\n      <td>2</td>\n      <td>144</td>\n      <td>0</td>\n      <td>...</td>\n      <td>6011</td>\n      <td>1095.238095</td>\n      <td>0.0</td>\n      <td>0</td>\n      <td>60331.59</td>\n      <td>1</td>\n      <td>0.0</td>\n      <td>0</td>\n      <td>80.0</td>\n      <td>0</td>\n    </tr>\n    <tr>\n      <th>5</th>\n      <td>Yury</td>\n      <td>Golubkov</td>\n      <td>2.0</td>\n      <td>47</td>\n      <td>2</td>\n      <td>0</td>\n      <td>0</td>\n      <td>2</td>\n      <td>0</td>\n      <td>0</td>\n      <td>...</td>\n      <td>5964</td>\n      <td>760.580000</td>\n      <td>0.0</td>\n      <td>0</td>\n      <td>0.00</td>\n      <td>0</td>\n      <td>0.0</td>\n      <td>0</td>\n      <td>0.0</td>\n      <td>0</td>\n    </tr>\n    <tr>\n      <th>6</th>\n      <td>Svetlana</td>\n      <td>Muratova</td>\n      <td>1.0</td>\n      <td>48</td>\n      <td>2</td>\n      <td>0</td>\n      <td>4</td>\n      <td>2</td>\n      <td>30</td>\n      <td>0</td>\n      <td>...</td>\n      <td>5411</td>\n      <td>113.000000</td>\n      <td>0.0</td>\n      <td>0</td>\n      <td>0.00</td>\n      <td>0</td>\n      <td>0.0</td>\n      <td>0</td>\n      <td>0.0</td>\n      <td>0</td>\n    </tr>\n    <tr>\n      <th>7</th>\n      <td>Ivan</td>\n      <td>Poletaev</td>\n      <td>2.0</td>\n      <td>0</td>\n      <td>2</td>\n      <td>0</td>\n      <td>0</td>\n      <td>2</td>\n      <td>53</td>\n      <td>23</td>\n      <td>...</td>\n      <td>5411</td>\n      <td>446.565263</td>\n      <td>1000.0</td>\n      <td>1</td>\n      <td>0.00</td>\n      <td>0</td>\n      <td>0.0</td>\n      <td>0</td>\n      <td>0.0</td>\n      <td>0</td>\n    </tr>\n    <tr>\n      <th>8</th>\n      <td>Anastasia</td>\n      <td>Yaguzhinskaya</td>\n      <td>1.0</td>\n      <td>25</td>\n      <td>1</td>\n      <td>0</td>\n      <td>0</td>\n      <td>2</td>\n      <td>111</td>\n      <td>3</td>\n      <td>...</td>\n      <td>5499</td>\n      <td>185.523529</td>\n      <td>0.0</td>\n      <td>0</td>\n      <td>0.00</td>\n      <td>0</td>\n      <td>0.0</td>\n      <td>0</td>\n      <td>1287.0</td>\n      <td>0</td>\n    </tr>\n    <tr>\n      <th>9</th>\n      <td>Valentina</td>\n      <td>Trokhova</td>\n      <td>1.0</td>\n      <td>55</td>\n      <td>2</td>\n      <td>0</td>\n      <td>0</td>\n      <td>12</td>\n      <td>56</td>\n      <td>0</td>\n      <td>...</td>\n      <td>5499</td>\n      <td>345.572472</td>\n      <td>0.0</td>\n      <td>0</td>\n      <td>0.00</td>\n      <td>0</td>\n      <td>0.0</td>\n      <td>0</td>\n      <td>0.0</td>\n      <td>0</td>\n    </tr>\n  </tbody>\n</table>\n<p>10 rows × 78 columns</p>\n</div>"
     },
     "metadata": {},
     "execution_count": 3
    }
   ],
   "source": [
    "vk = pd.read_csv('../datasets/vk_interests_finance.csv')\n",
    "vk.head(10)"
   ]
  },
  {
   "cell_type": "code",
   "execution_count": 4,
   "metadata": {},
   "outputs": [
    {
     "output_type": "execute_result",
     "data": {
      "text/plain": [
       "Index(['first_name', 'last_name', 'sex', 'age', 'city_id',\n",
       "       'has_high_education', 'relation', 'num_of_relatives', 'followers_count',\n",
       "       'status', 'mobile_phone', 'twitter', 'facebook', 'instagram', 'about',\n",
       "       'about_topic', 'activities', 'activities_topic', 'books', 'interests',\n",
       "       'interests_topic', 'movies', 'music', 'quotes', 'personal_alcohol',\n",
       "       'personal_life_main', 'personal_people_main', 'personal_political',\n",
       "       'платье размер наличие цвет', 'массаж тело   йога',\n",
       "       'игра команда место', 'цвет цветок букет интерьер',\n",
       "       'iphone apple торт набор pro чехол',\n",
       "       'клиент который проект интернет бизнес', 'год война время ссср армия',\n",
       "       'волос маникюр   ресница', 'handmade ряд ручнаяработа что петля лицо',\n",
       "       'работа год график день', 'концерт билет музыка рок группа',\n",
       "       'лечение заболевание кровь врач болезнь',\n",
       "       'школа искать год вопрос тема', 'кожа лицо масло волос',\n",
       "       'книга язык слово', 'санкт петербург участие фестиваль май',\n",
       "       'отдых море   день стоимость', 'магазин цена наличие подарок интернет',\n",
       "       '  дома ремонт работа это', 'фильм игра серия кино',\n",
       "       'футбол матч россия сегодня мск зенит',\n",
       "       'автомобиль добавлять авто машина', 'руб цена рубль продавать размер ',\n",
       "       'минута добавлять ингредиент соль масло ', 'год театр спектакль кино',\n",
       "       'фото фотография шоу фотограф свадьба праздник', 'HLength', 'max_tr',\n",
       "       'min_tr', 'mean_tr', 'median_tr', '90_perc', 'sum_am', 'tr_per_month',\n",
       "       'cash_sum', 'cash_usage', 'top1', 'top1_mean', 'top2', 'top2_mean',\n",
       "       'top3', 'top3_mean', 'game_sum', 'is_gamer', 'parent_sum', 'is_parent',\n",
       "       'driver_sum', 'is_driver', 'pets_sum', 'has_pets'],\n",
       "      dtype='object')"
      ]
     },
     "metadata": {},
     "execution_count": 4
    }
   ],
   "source": [
    "vk.columns"
   ]
  },
  {
   "cell_type": "code",
   "execution_count": 5,
   "metadata": {},
   "outputs": [],
   "source": [
    "vk = vk[['age', 'sex', 'relation', 'mean_tr', 'median_tr', 'tr_per_month', 'is_driver', 'is_parent', 'has_pets']]"
   ]
  },
  {
   "cell_type": "code",
   "execution_count": 6,
   "metadata": {},
   "outputs": [],
   "source": [
    "vk['sex'] = vk['sex'].apply(lambda x: int(x))"
   ]
  },
  {
   "cell_type": "code",
   "execution_count": 7,
   "metadata": {},
   "outputs": [
    {
     "output_type": "execute_result",
     "data": {
      "text/plain": [
       "{'age': 'disc',\n",
       " 'sex': 'disc',\n",
       " 'relation': 'disc',\n",
       " 'mean_tr': 'cont',\n",
       " 'median_tr': 'cont',\n",
       " 'tr_per_month': 'cont',\n",
       " 'is_driver': 'disc',\n",
       " 'is_parent': 'disc',\n",
       " 'has_pets': 'disc'}"
      ]
     },
     "metadata": {},
     "execution_count": 7
    }
   ],
   "source": [
    "nodes_type = get_nodes_type(vk)\n",
    "nodes_type"
   ]
  },
  {
   "cell_type": "code",
   "execution_count": 8,
   "metadata": {},
   "outputs": [],
   "source": [
    "vk.dropna(inplace=True)\n",
    "vk.reset_index(inplace=True, drop=True)"
   ]
  },
  {
   "cell_type": "code",
   "execution_count": 9,
   "metadata": {},
   "outputs": [],
   "source": [
    "vk_discrete, vk_coder = discretization(vk, 'equal_frequency', ['mean_tr', 'median_tr', 'tr_per_month'])"
   ]
  },
  {
   "cell_type": "code",
   "execution_count": 10,
   "metadata": {},
   "outputs": [
    {
     "output_type": "execute_result",
     "data": {
      "text/plain": [
       "       age  sex  relation  mean_tr  median_tr  tr_per_month  is_driver  \\\n",
       "0       33    1         4        2          2             4          0   \n",
       "1       18    2         0        0          0             2          0   \n",
       "2       34    1         0        3          4             0          0   \n",
       "3       39    2         0        4          2             2          0   \n",
       "4        0    1         0        0          0             2          0   \n",
       "...    ...  ...       ...      ...        ...           ...        ...   \n",
       "93613   20    2         0        0          0             0          0   \n",
       "93614   47    1         0        3          3             4          0   \n",
       "93615   57    1         0        4          4             0          0   \n",
       "93616   58    2         4        4          3             1          0   \n",
       "93617   21    2         0        2          2             0          0   \n",
       "\n",
       "       is_parent  has_pets  \n",
       "0              1         0  \n",
       "1              0         0  \n",
       "2              0         0  \n",
       "3              0         0  \n",
       "4              1         0  \n",
       "...          ...       ...  \n",
       "93613          0         0  \n",
       "93614          1         0  \n",
       "93615          0         0  \n",
       "93616          1         0  \n",
       "93617          0         0  \n",
       "\n",
       "[93618 rows x 9 columns]"
      ],
      "text/html": "<div>\n<style scoped>\n    .dataframe tbody tr th:only-of-type {\n        vertical-align: middle;\n    }\n\n    .dataframe tbody tr th {\n        vertical-align: top;\n    }\n\n    .dataframe thead th {\n        text-align: right;\n    }\n</style>\n<table border=\"1\" class=\"dataframe\">\n  <thead>\n    <tr style=\"text-align: right;\">\n      <th></th>\n      <th>age</th>\n      <th>sex</th>\n      <th>relation</th>\n      <th>mean_tr</th>\n      <th>median_tr</th>\n      <th>tr_per_month</th>\n      <th>is_driver</th>\n      <th>is_parent</th>\n      <th>has_pets</th>\n    </tr>\n  </thead>\n  <tbody>\n    <tr>\n      <th>0</th>\n      <td>33</td>\n      <td>1</td>\n      <td>4</td>\n      <td>2</td>\n      <td>2</td>\n      <td>4</td>\n      <td>0</td>\n      <td>1</td>\n      <td>0</td>\n    </tr>\n    <tr>\n      <th>1</th>\n      <td>18</td>\n      <td>2</td>\n      <td>0</td>\n      <td>0</td>\n      <td>0</td>\n      <td>2</td>\n      <td>0</td>\n      <td>0</td>\n      <td>0</td>\n    </tr>\n    <tr>\n      <th>2</th>\n      <td>34</td>\n      <td>1</td>\n      <td>0</td>\n      <td>3</td>\n      <td>4</td>\n      <td>0</td>\n      <td>0</td>\n      <td>0</td>\n      <td>0</td>\n    </tr>\n    <tr>\n      <th>3</th>\n      <td>39</td>\n      <td>2</td>\n      <td>0</td>\n      <td>4</td>\n      <td>2</td>\n      <td>2</td>\n      <td>0</td>\n      <td>0</td>\n      <td>0</td>\n    </tr>\n    <tr>\n      <th>4</th>\n      <td>0</td>\n      <td>1</td>\n      <td>0</td>\n      <td>0</td>\n      <td>0</td>\n      <td>2</td>\n      <td>0</td>\n      <td>1</td>\n      <td>0</td>\n    </tr>\n    <tr>\n      <th>...</th>\n      <td>...</td>\n      <td>...</td>\n      <td>...</td>\n      <td>...</td>\n      <td>...</td>\n      <td>...</td>\n      <td>...</td>\n      <td>...</td>\n      <td>...</td>\n    </tr>\n    <tr>\n      <th>93613</th>\n      <td>20</td>\n      <td>2</td>\n      <td>0</td>\n      <td>0</td>\n      <td>0</td>\n      <td>0</td>\n      <td>0</td>\n      <td>0</td>\n      <td>0</td>\n    </tr>\n    <tr>\n      <th>93614</th>\n      <td>47</td>\n      <td>1</td>\n      <td>0</td>\n      <td>3</td>\n      <td>3</td>\n      <td>4</td>\n      <td>0</td>\n      <td>1</td>\n      <td>0</td>\n    </tr>\n    <tr>\n      <th>93615</th>\n      <td>57</td>\n      <td>1</td>\n      <td>0</td>\n      <td>4</td>\n      <td>4</td>\n      <td>0</td>\n      <td>0</td>\n      <td>0</td>\n      <td>0</td>\n    </tr>\n    <tr>\n      <th>93616</th>\n      <td>58</td>\n      <td>2</td>\n      <td>4</td>\n      <td>4</td>\n      <td>3</td>\n      <td>1</td>\n      <td>0</td>\n      <td>1</td>\n      <td>0</td>\n    </tr>\n    <tr>\n      <th>93617</th>\n      <td>21</td>\n      <td>2</td>\n      <td>0</td>\n      <td>2</td>\n      <td>2</td>\n      <td>0</td>\n      <td>0</td>\n      <td>0</td>\n      <td>0</td>\n    </tr>\n  </tbody>\n</table>\n<p>93618 rows × 9 columns</p>\n</div>"
     },
     "metadata": {},
     "execution_count": 10
    }
   ],
   "source": [
    "vk_discrete"
   ]
  },
  {
   "cell_type": "code",
   "execution_count": 11,
   "metadata": {},
   "outputs": [
    {
     "output_type": "stream",
     "name": "stderr",
     "text": [
      "  0%|          | 21/1000000 [00:03<44:05:58,  6.30it/s]\n"
     ]
    }
   ],
   "source": [
    "bn = structure_learning(vk_discrete, 'K2', nodes_type)"
   ]
  },
  {
   "cell_type": "code",
   "execution_count": 12,
   "metadata": {},
   "outputs": [
    {
     "output_type": "display_data",
     "data": {
      "text/plain": "<Figure size 2025x225 with 1 Axes>",
      "image/svg+xml": "<?xml version=\"1.0\" encoding=\"utf-8\" standalone=\"no\"?>\r\n<!DOCTYPE svg PUBLIC \"-//W3C//DTD SVG 1.1//EN\"\r\n  \"http://www.w3.org/Graphics/SVG/1.1/DTD/svg11.dtd\">\r\n<!-- Created with matplotlib (https://matplotlib.org/) -->\r\n<svg height=\"100.8pt\" version=\"1.1\" viewBox=\"0 0 964.8 100.8\" width=\"964.8pt\" xmlns=\"http://www.w3.org/2000/svg\" xmlns:xlink=\"http://www.w3.org/1999/xlink\">\r\n <metadata>\r\n  <rdf:RDF xmlns:cc=\"http://creativecommons.org/ns#\" xmlns:dc=\"http://purl.org/dc/elements/1.1/\" xmlns:rdf=\"http://www.w3.org/1999/02/22-rdf-syntax-ns#\">\r\n   <cc:Work>\r\n    <dc:type rdf:resource=\"http://purl.org/dc/dcmitype/StillImage\"/>\r\n    <dc:date>2021-04-06T14:44:40.589661</dc:date>\r\n    <dc:format>image/svg+xml</dc:format>\r\n    <dc:creator>\r\n     <cc:Agent>\r\n      <dc:title>Matplotlib v3.3.4, https://matplotlib.org/</dc:title>\r\n     </cc:Agent>\r\n    </dc:creator>\r\n   </cc:Work>\r\n  </rdf:RDF>\r\n </metadata>\r\n <defs>\r\n  <style type=\"text/css\">*{stroke-linecap:butt;stroke-linejoin:round;}</style>\r\n </defs>\r\n <g id=\"figure_1\">\r\n  <g id=\"patch_1\">\r\n   <path d=\"M 0 100.8 \r\nL 964.8 100.8 \r\nL 964.8 0 \r\nL 0 0 \r\nz\r\n\" style=\"fill:none;\"/>\r\n  </g>\r\n  <g id=\"axes_1\"/>\r\n </g>\r\n</svg>\r\n",
      "image/png": "[encoded data removed]"
     },
     "metadata": {
      "needs_background": "light"
     }
    },
    {
     "output_type": "execute_result",
     "data": {
      "text/plain": [
       "<IPython.lib.display.IFrame at 0x1a74f8e2670>"
      ],
      "text/html": "\n        <iframe\n            width=\"100%\"\n            height=\"800px\"\n            src=\"../visualization_result/vk_net.html\"\n            frameborder=\"0\"\n            allowfullscreen\n        ></iframe>\n        "
     },
     "metadata": {},
     "execution_count": 12
    }
   ],
   "source": [
    "draw_BN(bn, nodes_type, 'vk_net')"
   ]
  }
 ]
}