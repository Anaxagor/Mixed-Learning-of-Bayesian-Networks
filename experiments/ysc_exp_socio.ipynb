{
 "metadata": {
  "language_info": {
   "codemirror_mode": {
    "name": "ipython",
    "version": 3
   },
   "file_extension": ".py",
   "mimetype": "text/x-python",
   "name": "python",
   "nbconvert_exporter": "python",
   "pygments_lexer": "ipython3",
   "version": "3.8.8"
  },
  "orig_nbformat": 2,
  "kernelspec": {
   "name": "python388jvsc74a57bd00110e3ad3d2995649b9eed0505b86961f21d80e4cfa55b9dc2096312fa84aa23",
   "display_name": "Python 3.8.8 64-bit"
  },
  "metadata": {
   "interpreter": {
    "hash": "0110e3ad3d2995649b9eed0505b86961f21d80e4cfa55b9dc2096312fa84aa23"
   }
  }
 },
 "nbformat": 4,
 "nbformat_minor": 2,
 "cells": [
  {
   "cell_type": "code",
   "execution_count": 1,
   "metadata": {},
   "outputs": [],
   "source": [
    "import os,sys,inspect\n",
    "currentdir = os.path.dirname(os.path.abspath(inspect.getfile(inspect.currentframe())))\n",
    "parentdir = os.path.dirname(currentdir)\n",
    "sys.path.insert(0,parentdir) "
   ]
  },
  {
   "cell_type": "code",
   "execution_count": 2,
   "metadata": {},
   "outputs": [],
   "source": [
    "import pandas as pd\n",
    "import numpy as np\n",
    "from bayesian.train_bn import structure_learning, parameter_learning, parameter_learning_mix\n",
    "from preprocess.discretization import get_nodes_type, discretization, inverse_discretization, code_categories\n",
    "from bayesian.save_bn import save_structure, save_params, read_structure, read_params\n",
    "from external.libpgm.hybayesiannetwork import HyBayesianNetwork\n",
    "from visualization.visualization import draw_BN\n",
    "from bayesian.calculate_accuracy import calculate_acc\n",
    "import seaborn as sns\n",
    "import matplotlib.pyplot as plt\n",
    "from scipy import stats\n",
    "from copy import copy\n",
    "from external.libpgm.sampleaggregator import SampleAggregator\n",
    "import operator\n",
    "from sklearn.metrics import accuracy_score, mean_squared_error\n",
    "from scipy import stats\n",
    "from scipy.stats import multivariate_normal\n",
    "from sklearn.mixture import GaussianMixture\n",
    "import math\n",
    "from pomegranate import DiscreteDistribution\n",
    "import random\n",
    "from sklearn.model_selection import train_test_split"
   ]
  },
  {
   "cell_type": "code",
   "execution_count": 231,
   "metadata": {},
   "outputs": [],
   "source": [
    "df_result_accuracy = pd.DataFrame(columns = ['Parameter', 'Strategy', 'Alg', 'accuracy'])\n",
    "df_result_rmse = pd.DataFrame(columns = ['Parameter', 'Strategy', 'Alg', 'rmse'])"
   ]
  },
  {
   "cell_type": "code",
   "execution_count": 232,
   "metadata": {},
   "outputs": [],
   "source": [
    "geo = pd.read_csv('../datasets/socio.csv')\n",
    "columns = ['sex', 'relation', 'is_parent', 'has_pets', 'age', 'mean_tr', 'median_tr', 'tr_per_month']\n",
    "geo = geo[columns]\n",
    "geo.dropna(inplace=True)\n",
    "geo.reset_index(inplace=True, drop=True)"
   ]
  },
  {
   "cell_type": "code",
   "execution_count": 233,
   "metadata": {},
   "outputs": [],
   "source": [
    "geo['age'] = geo['age'].apply(lambda x: float(x))\n",
    "geo['sex'] = geo['sex'].apply(lambda x: str(x))\n",
    "geo['relation'] = geo['relation'].apply(lambda x: str(x))\n",
    "geo['is_parent'] = geo['is_parent'].apply(lambda x: str(x))\n",
    "geo['has_pets'] = geo['has_pets'].apply(lambda x: str(x))"
   ]
  },
  {
   "cell_type": "code",
   "execution_count": 234,
   "metadata": {},
   "outputs": [],
   "source": [
    "geo_train, geo_test = train_test_split(geo, test_size=0.1)\n",
    "geo_train.reset_index(inplace=True, drop=True)\n",
    "geo_test.reset_index(inplace=True, drop=True)"
   ]
  },
  {
   "cell_type": "code",
   "execution_count": 235,
   "metadata": {},
   "outputs": [
    {
     "output_type": "execute_result",
     "data": {
      "text/plain": [
       "{'sex': 'disc',\n",
       " 'relation': 'disc',\n",
       " 'is_parent': 'disc',\n",
       " 'has_pets': 'disc',\n",
       " 'age': 'cont',\n",
       " 'mean_tr': 'cont',\n",
       " 'median_tr': 'cont',\n",
       " 'tr_per_month': 'cont'}"
      ]
     },
     "metadata": {},
     "execution_count": 235
    }
   ],
   "source": [
    "geo_types = get_nodes_type(geo)\n",
    "geo_types"
   ]
  },
  {
   "cell_type": "code",
   "execution_count": 236,
   "metadata": {},
   "outputs": [],
   "source": [
    "colums_for_code = []\n",
    "columns_for_disc = []\n",
    "for c in columns:\n",
    "    if geo_types[c] == 'disc':\n",
    "        colums_for_code.append(c)\n",
    "    else:\n",
    "        columns_for_disc.append(c)"
   ]
  },
  {
   "cell_type": "code",
   "execution_count": 237,
   "metadata": {},
   "outputs": [],
   "source": [
    "geo_coded, label_coder = code_categories(geo_train, 'label', colums_for_code)\n",
    "geo_discrete, coder = discretization(geo_coded, 'equal_frequency', columns_for_disc)\n",
    "geo_only_discrete, discrete_coder = discretization(geo_train, 'equal_frequency', columns_for_disc)"
   ]
  },
  {
   "source": [
    "# Hill Climbing"
   ],
   "cell_type": "markdown",
   "metadata": {}
  },
  {
   "source": [
    "# Дискретная структра + смешанные параметры"
   ],
   "cell_type": "markdown",
   "metadata": {}
  },
  {
   "cell_type": "code",
   "execution_count": 238,
   "metadata": {},
   "outputs": [],
   "source": [
    "bn_geo = structure_learning(geo_discrete, 'HC', 'MI', geo_types)"
   ]
  },
  {
   "cell_type": "code",
   "execution_count": 239,
   "metadata": {},
   "outputs": [
    {
     "output_type": "display_data",
     "data": {
      "text/plain": "<Figure size 2025x225 with 1 Axes>",
      "image/svg+xml": "<?xml version=\"1.0\" encoding=\"utf-8\" standalone=\"no\"?>\r\n<!DOCTYPE svg PUBLIC \"-//W3C//DTD SVG 1.1//EN\"\r\n  \"http://www.w3.org/Graphics/SVG/1.1/DTD/svg11.dtd\">\r\n<!-- Created with matplotlib (https://matplotlib.org/) -->\r\n<svg height=\"100.8pt\" version=\"1.1\" viewBox=\"0 0 964.8 100.8\" width=\"964.8pt\" xmlns=\"http://www.w3.org/2000/svg\" xmlns:xlink=\"http://www.w3.org/1999/xlink\">\r\n <metadata>\r\n  <rdf:RDF xmlns:cc=\"http://creativecommons.org/ns#\" xmlns:dc=\"http://purl.org/dc/elements/1.1/\" xmlns:rdf=\"http://www.w3.org/1999/02/22-rdf-syntax-ns#\">\r\n   <cc:Work>\r\n    <dc:type rdf:resource=\"http://purl.org/dc/dcmitype/StillImage\"/>\r\n    <dc:date>2021-05-02T20:07:57.394999</dc:date>\r\n    <dc:format>image/svg+xml</dc:format>\r\n    <dc:creator>\r\n     <cc:Agent>\r\n      <dc:title>Matplotlib v3.3.4, https://matplotlib.org/</dc:title>\r\n     </cc:Agent>\r\n    </dc:creator>\r\n   </cc:Work>\r\n  </rdf:RDF>\r\n </metadata>\r\n <defs>\r\n  <style type=\"text/css\">*{stroke-linecap:butt;stroke-linejoin:round;}</style>\r\n </defs>\r\n <g id=\"figure_1\">\r\n  <g id=\"patch_1\">\r\n   <path d=\"M 0 100.8 \r\nL 964.8 100.8 \r\nL 964.8 0 \r\nL 0 0 \r\nz\r\n\" style=\"fill:none;\"/>\r\n  </g>\r\n  <g id=\"axes_1\">\r\n   <g id=\"legend_1\">\r\n    <g id=\"patch_2\">\r\n     <path d=\"M 421.545312 59.239062 \r\nL 543.254687 59.239062 \r\nQ 545.254687 59.239062 545.254687 57.239062 \r\nL 545.254687 43.560937 \r\nQ 545.254687 41.560937 543.254687 41.560937 \r\nL 421.545312 41.560937 \r\nQ 419.545312 41.560937 419.545312 43.560937 \r\nL 419.545312 57.239062 \r\nQ 419.545312 59.239062 421.545312 59.239062 \r\nz\r\n\" style=\"fill:#ffffff;opacity:0.8;stroke:#cccccc;stroke-linejoin:miter;\"/>\r\n    </g>\r\n    <g id=\"patch_3\">\r\n     <path d=\"M 423.545312 53.159375 \r\nL 443.545312 53.159375 \r\nL 443.545312 46.159375 \r\nL 423.545312 46.159375 \r\nz\r\n\" style=\"fill:#d62728;stroke:#d62728;stroke-linejoin:miter;\"/>\r\n    </g>\r\n    <g id=\"text_1\">\r\n     <!-- disc -->\r\n     <g transform=\"translate(451.545312 53.159375)scale(0.1 -0.1)\">\r\n      <defs>\r\n       <path d=\"M 45.40625 46.390625 \r\nL 45.40625 75.984375 \r\nL 54.390625 75.984375 \r\nL 54.390625 0 \r\nL 45.40625 0 \r\nL 45.40625 8.203125 \r\nQ 42.578125 3.328125 38.25 0.953125 \r\nQ 33.9375 -1.421875 27.875 -1.421875 \r\nQ 17.96875 -1.421875 11.734375 6.484375 \r\nQ 5.515625 14.40625 5.515625 27.296875 \r\nQ 5.515625 40.1875 11.734375 48.09375 \r\nQ 17.96875 56 27.875 56 \r\nQ 33.9375 56 38.25 53.625 \r\nQ 42.578125 51.265625 45.40625 46.390625 \r\nz\r\nM 14.796875 27.296875 \r\nQ 14.796875 17.390625 18.875 11.75 \r\nQ 22.953125 6.109375 30.078125 6.109375 \r\nQ 37.203125 6.109375 41.296875 11.75 \r\nQ 45.40625 17.390625 45.40625 27.296875 \r\nQ 45.40625 37.203125 41.296875 42.84375 \r\nQ 37.203125 48.484375 30.078125 48.484375 \r\nQ 22.953125 48.484375 18.875 42.84375 \r\nQ 14.796875 37.203125 14.796875 27.296875 \r\nz\r\n\" id=\"DejaVuSans-100\"/>\r\n       <path d=\"M 9.421875 54.6875 \r\nL 18.40625 54.6875 \r\nL 18.40625 0 \r\nL 9.421875 0 \r\nz\r\nM 9.421875 75.984375 \r\nL 18.40625 75.984375 \r\nL 18.40625 64.59375 \r\nL 9.421875 64.59375 \r\nz\r\n\" id=\"DejaVuSans-105\"/>\r\n       <path d=\"M 44.28125 53.078125 \r\nL 44.28125 44.578125 \r\nQ 40.484375 46.53125 36.375 47.5 \r\nQ 32.28125 48.484375 27.875 48.484375 \r\nQ 21.1875 48.484375 17.84375 46.4375 \r\nQ 14.5 44.390625 14.5 40.28125 \r\nQ 14.5 37.15625 16.890625 35.375 \r\nQ 19.28125 33.59375 26.515625 31.984375 \r\nL 29.59375 31.296875 \r\nQ 39.15625 29.25 43.1875 25.515625 \r\nQ 47.21875 21.78125 47.21875 15.09375 \r\nQ 47.21875 7.46875 41.1875 3.015625 \r\nQ 35.15625 -1.421875 24.609375 -1.421875 \r\nQ 20.21875 -1.421875 15.453125 -0.5625 \r\nQ 10.6875 0.296875 5.421875 2 \r\nL 5.421875 11.28125 \r\nQ 10.40625 8.6875 15.234375 7.390625 \r\nQ 20.0625 6.109375 24.8125 6.109375 \r\nQ 31.15625 6.109375 34.5625 8.28125 \r\nQ 37.984375 10.453125 37.984375 14.40625 \r\nQ 37.984375 18.0625 35.515625 20.015625 \r\nQ 33.0625 21.96875 24.703125 23.78125 \r\nL 21.578125 24.515625 \r\nQ 13.234375 26.265625 9.515625 29.90625 \r\nQ 5.8125 33.546875 5.8125 39.890625 \r\nQ 5.8125 47.609375 11.28125 51.796875 \r\nQ 16.75 56 26.8125 56 \r\nQ 31.78125 56 36.171875 55.265625 \r\nQ 40.578125 54.546875 44.28125 53.078125 \r\nz\r\n\" id=\"DejaVuSans-115\"/>\r\n       <path d=\"M 48.78125 52.59375 \r\nL 48.78125 44.1875 \r\nQ 44.96875 46.296875 41.140625 47.34375 \r\nQ 37.3125 48.390625 33.40625 48.390625 \r\nQ 24.65625 48.390625 19.8125 42.84375 \r\nQ 14.984375 37.3125 14.984375 27.296875 \r\nQ 14.984375 17.28125 19.8125 11.734375 \r\nQ 24.65625 6.203125 33.40625 6.203125 \r\nQ 37.3125 6.203125 41.140625 7.25 \r\nQ 44.96875 8.296875 48.78125 10.40625 \r\nL 48.78125 2.09375 \r\nQ 45.015625 0.34375 40.984375 -0.53125 \r\nQ 36.96875 -1.421875 32.421875 -1.421875 \r\nQ 20.0625 -1.421875 12.78125 6.34375 \r\nQ 5.515625 14.109375 5.515625 27.296875 \r\nQ 5.515625 40.671875 12.859375 48.328125 \r\nQ 20.21875 56 33.015625 56 \r\nQ 37.15625 56 41.109375 55.140625 \r\nQ 45.0625 54.296875 48.78125 52.59375 \r\nz\r\n\" id=\"DejaVuSans-99\"/>\r\n      </defs>\r\n      <use xlink:href=\"#DejaVuSans-100\"/>\r\n      <use x=\"63.476562\" xlink:href=\"#DejaVuSans-105\"/>\r\n      <use x=\"91.259766\" xlink:href=\"#DejaVuSans-115\"/>\r\n      <use x=\"143.359375\" xlink:href=\"#DejaVuSans-99\"/>\r\n     </g>\r\n    </g>\r\n    <g id=\"patch_4\">\r\n     <path d=\"M 491.379687 53.159375 \r\nL 511.379687 53.159375 \r\nL 511.379687 46.159375 \r\nL 491.379687 46.159375 \r\nz\r\n\" style=\"fill:#7f7f7f;stroke:#7f7f7f;stroke-linejoin:miter;\"/>\r\n    </g>\r\n    <g id=\"text_2\">\r\n     <!-- cont -->\r\n     <g transform=\"translate(519.379687 53.159375)scale(0.1 -0.1)\">\r\n      <defs>\r\n       <path d=\"M 30.609375 48.390625 \r\nQ 23.390625 48.390625 19.1875 42.75 \r\nQ 14.984375 37.109375 14.984375 27.296875 \r\nQ 14.984375 17.484375 19.15625 11.84375 \r\nQ 23.34375 6.203125 30.609375 6.203125 \r\nQ 37.796875 6.203125 41.984375 11.859375 \r\nQ 46.1875 17.53125 46.1875 27.296875 \r\nQ 46.1875 37.015625 41.984375 42.703125 \r\nQ 37.796875 48.390625 30.609375 48.390625 \r\nz\r\nM 30.609375 56 \r\nQ 42.328125 56 49.015625 48.375 \r\nQ 55.71875 40.765625 55.71875 27.296875 \r\nQ 55.71875 13.875 49.015625 6.21875 \r\nQ 42.328125 -1.421875 30.609375 -1.421875 \r\nQ 18.84375 -1.421875 12.171875 6.21875 \r\nQ 5.515625 13.875 5.515625 27.296875 \r\nQ 5.515625 40.765625 12.171875 48.375 \r\nQ 18.84375 56 30.609375 56 \r\nz\r\n\" id=\"DejaVuSans-111\"/>\r\n       <path d=\"M 54.890625 33.015625 \r\nL 54.890625 0 \r\nL 45.90625 0 \r\nL 45.90625 32.71875 \r\nQ 45.90625 40.484375 42.875 44.328125 \r\nQ 39.84375 48.1875 33.796875 48.1875 \r\nQ 26.515625 48.1875 22.3125 43.546875 \r\nQ 18.109375 38.921875 18.109375 30.90625 \r\nL 18.109375 0 \r\nL 9.078125 0 \r\nL 9.078125 54.6875 \r\nL 18.109375 54.6875 \r\nL 18.109375 46.1875 \r\nQ 21.34375 51.125 25.703125 53.5625 \r\nQ 30.078125 56 35.796875 56 \r\nQ 45.21875 56 50.046875 50.171875 \r\nQ 54.890625 44.34375 54.890625 33.015625 \r\nz\r\n\" id=\"DejaVuSans-110\"/>\r\n       <path d=\"M 18.3125 70.21875 \r\nL 18.3125 54.6875 \r\nL 36.8125 54.6875 \r\nL 36.8125 47.703125 \r\nL 18.3125 47.703125 \r\nL 18.3125 18.015625 \r\nQ 18.3125 11.328125 20.140625 9.421875 \r\nQ 21.96875 7.515625 27.59375 7.515625 \r\nL 36.8125 7.515625 \r\nL 36.8125 0 \r\nL 27.59375 0 \r\nQ 17.1875 0 13.234375 3.875 \r\nQ 9.28125 7.765625 9.28125 18.015625 \r\nL 9.28125 47.703125 \r\nL 2.6875 47.703125 \r\nL 2.6875 54.6875 \r\nL 9.28125 54.6875 \r\nL 9.28125 70.21875 \r\nz\r\n\" id=\"DejaVuSans-116\"/>\r\n      </defs>\r\n      <use xlink:href=\"#DejaVuSans-99\"/>\r\n      <use x=\"54.980469\" xlink:href=\"#DejaVuSans-111\"/>\r\n      <use x=\"116.162109\" xlink:href=\"#DejaVuSans-110\"/>\r\n      <use x=\"179.541016\" xlink:href=\"#DejaVuSans-116\"/>\r\n     </g>\r\n    </g>\r\n   </g>\r\n  </g>\r\n </g>\r\n</svg>\r\n",
      "image/png": "[encoded data removed]"
     },
     "metadata": {
      "needs_background": "light"
     }
    },
    {
     "output_type": "execute_result",
     "data": {
      "text/plain": [
       "<IPython.lib.display.IFrame at 0x2ddf1438880>"
      ],
      "text/html": "\n        <iframe\n            width=\"100%\"\n            height=\"800px\"\n            src=\"../visualization_result/geo_net.html\"\n            frameborder=\"0\"\n            allowfullscreen\n        ></iframe>\n        "
     },
     "metadata": {},
     "execution_count": 239
    }
   ],
   "source": [
    "draw_BN(bn_geo, geo_types, 'geo_net')"
   ]
  },
  {
   "cell_type": "code",
   "execution_count": 240,
   "metadata": {},
   "outputs": [],
   "source": [
    "params = parameter_learning(geo_train, geo_types, bn_geo)"
   ]
  },
  {
   "cell_type": "code",
   "execution_count": 241,
   "metadata": {},
   "outputs": [],
   "source": [
    "save_structure(bn_geo, 'geo_net')\n",
    "skel = read_structure('geo_net')\n",
    "save_params(params, 'geo_net_param')\n",
    "params = read_params('geo_net_param')\n",
    "geo_bn = HyBayesianNetwork(skel, params)"
   ]
  },
  {
   "cell_type": "code",
   "execution_count": 242,
   "metadata": {},
   "outputs": [],
   "source": [
    "acc, rmse, real_data, pred_data = calculate_acc(geo_bn, geo_test, columns)"
   ]
  },
  {
   "cell_type": "code",
   "execution_count": 243,
   "metadata": {},
   "outputs": [
    {
     "output_type": "execute_result",
     "data": {
      "text/plain": [
       "{'sex': 0.56, 'relation': 0.27, 'is_parent': 0.74, 'has_pets': 0.95}"
      ]
     },
     "metadata": {},
     "execution_count": 243
    }
   ],
   "source": [
    "acc"
   ]
  },
  {
   "cell_type": "code",
   "execution_count": 244,
   "metadata": {},
   "outputs": [
    {
     "output_type": "execute_result",
     "data": {
      "text/plain": [
       "{'age': 12.21, 'mean_tr': 6504.48, 'median_tr': 5987.11, 'tr_per_month': 19.82}"
      ]
     },
     "metadata": {},
     "execution_count": 244
    }
   ],
   "source": [
    "rmse"
   ]
  },
  {
   "cell_type": "code",
   "execution_count": 245,
   "metadata": {},
   "outputs": [],
   "source": [
    "for key in acc.keys():\n",
    "    df_result_accuracy = df_result_accuracy.append({'Parameter': key, 'Strategy': 'HC', 'Alg':'D+M','accuracy':acc[key]}, ignore_index=True)\n",
    "for key in rmse.keys():\n",
    "    df_result_rmse = df_result_rmse.append({'Parameter': key, 'Strategy': 'HC', 'Alg':'D+M','rmse':rmse[key]}, ignore_index=True)"
   ]
  },
  {
   "source": [
    "# Смешанная структура + смешанные параметры"
   ],
   "cell_type": "markdown",
   "metadata": {}
  },
  {
   "cell_type": "code",
   "execution_count": 246,
   "metadata": {},
   "outputs": [
    {
     "output_type": "stream",
     "name": "stderr",
     "text": [
      "c:\\Users\\anaxa\\Documents\\Projects\\Mixed-Learning-of-Bayesian-Networks\\bayesian\\redef_HC.py:260: RuntimeWarning: overflow encountered in double_scalars\n",
      "  delta_score = delta1 + delta2\n",
      "c:\\Users\\anaxa\\Documents\\Projects\\Mixed-Learning-of-Bayesian-Networks\\bayesian\\redef_HC.py:246: RuntimeWarning: overflow encountered in double_scalars\n",
      "  delta1 = -1* nrow * (mi_old - mi_new)\n",
      "c:\\Users\\anaxa\\Documents\\Projects\\Mixed-Learning-of-Bayesian-Networks\\bayesian\\redef_HC.py:258: RuntimeWarning: overflow encountered in double_scalars\n",
      "  delta2 = nrow * (mi_old - mi_new)\n",
      "c:\\Users\\anaxa\\Documents\\Projects\\Mixed-Learning-of-Bayesian-Networks\\bayesian\\redef_HC.py:246: RuntimeWarning: overflow encountered in double_scalars\n",
      "  delta1 = -1* nrow * (mi_old - mi_new)\n",
      "c:\\Users\\anaxa\\Documents\\Projects\\Mixed-Learning-of-Bayesian-Networks\\bayesian\\redef_HC.py:258: RuntimeWarning: overflow encountered in double_scalars\n",
      "  delta2 = nrow * (mi_old - mi_new)\n",
      "c:\\Users\\anaxa\\Documents\\Projects\\Mixed-Learning-of-Bayesian-Networks\\bayesian\\redef_HC.py:246: RuntimeWarning: overflow encountered in double_scalars\n",
      "  delta1 = -1* nrow * (mi_old - mi_new)\n",
      "c:\\Users\\anaxa\\Documents\\Projects\\Mixed-Learning-of-Bayesian-Networks\\bayesian\\redef_HC.py:258: RuntimeWarning: overflow encountered in double_scalars\n",
      "  delta2 = nrow * (mi_old - mi_new)\n",
      "c:\\Users\\anaxa\\Documents\\Projects\\Mixed-Learning-of-Bayesian-Networks\\bayesian\\redef_HC.py:260: RuntimeWarning: overflow encountered in double_scalars\n",
      "  delta_score = delta1 + delta2\n",
      "c:\\Users\\anaxa\\Documents\\Projects\\Mixed-Learning-of-Bayesian-Networks\\bayesian\\redef_HC.py:246: RuntimeWarning: overflow encountered in double_scalars\n",
      "  delta1 = -1* nrow * (mi_old - mi_new)\n",
      "c:\\Users\\anaxa\\Documents\\Projects\\Mixed-Learning-of-Bayesian-Networks\\bayesian\\redef_HC.py:258: RuntimeWarning: overflow encountered in double_scalars\n",
      "  delta2 = nrow * (mi_old - mi_new)\n",
      "c:\\Users\\anaxa\\Documents\\Projects\\Mixed-Learning-of-Bayesian-Networks\\bayesian\\redef_HC.py:246: RuntimeWarning: overflow encountered in double_scalars\n",
      "  delta1 = -1* nrow * (mi_old - mi_new)\n",
      "c:\\Users\\anaxa\\Documents\\Projects\\Mixed-Learning-of-Bayesian-Networks\\bayesian\\redef_HC.py:258: RuntimeWarning: overflow encountered in double_scalars\n",
      "  delta2 = nrow * (mi_old - mi_new)\n",
      "c:\\Users\\anaxa\\Documents\\Projects\\Mixed-Learning-of-Bayesian-Networks\\bayesian\\redef_HC.py:246: RuntimeWarning: overflow encountered in double_scalars\n",
      "  delta1 = -1* nrow * (mi_old - mi_new)\n",
      "c:\\Users\\anaxa\\Documents\\Projects\\Mixed-Learning-of-Bayesian-Networks\\bayesian\\redef_HC.py:258: RuntimeWarning: overflow encountered in double_scalars\n",
      "  delta2 = nrow * (mi_old - mi_new)\n",
      "c:\\Users\\anaxa\\Documents\\Projects\\Mixed-Learning-of-Bayesian-Networks\\bayesian\\redef_HC.py:246: RuntimeWarning: overflow encountered in double_scalars\n",
      "  delta1 = -1* nrow * (mi_old - mi_new)\n",
      "c:\\Users\\anaxa\\Documents\\Projects\\Mixed-Learning-of-Bayesian-Networks\\bayesian\\redef_HC.py:258: RuntimeWarning: overflow encountered in double_scalars\n",
      "  delta2 = nrow * (mi_old - mi_new)\n",
      "c:\\Users\\anaxa\\Documents\\Projects\\Mixed-Learning-of-Bayesian-Networks\\bayesian\\redef_HC.py:246: RuntimeWarning: overflow encountered in double_scalars\n",
      "  delta1 = -1* nrow * (mi_old - mi_new)\n",
      "c:\\Users\\anaxa\\Documents\\Projects\\Mixed-Learning-of-Bayesian-Networks\\bayesian\\redef_HC.py:258: RuntimeWarning: overflow encountered in double_scalars\n",
      "  delta2 = nrow * (mi_old - mi_new)\n",
      "c:\\Users\\anaxa\\Documents\\Projects\\Mixed-Learning-of-Bayesian-Networks\\bayesian\\redef_HC.py:260: RuntimeWarning: overflow encountered in double_scalars\n",
      "  delta_score = delta1 + delta2\n",
      "c:\\Users\\anaxa\\Documents\\Projects\\Mixed-Learning-of-Bayesian-Networks\\bayesian\\redef_HC.py:246: RuntimeWarning: overflow encountered in double_scalars\n",
      "  delta1 = -1* nrow * (mi_old - mi_new)\n",
      "c:\\Users\\anaxa\\Documents\\Projects\\Mixed-Learning-of-Bayesian-Networks\\bayesian\\redef_HC.py:258: RuntimeWarning: overflow encountered in double_scalars\n",
      "  delta2 = nrow * (mi_old - mi_new)\n",
      "c:\\Users\\anaxa\\Documents\\Projects\\Mixed-Learning-of-Bayesian-Networks\\bayesian\\redef_HC.py:246: RuntimeWarning: overflow encountered in double_scalars\n",
      "  delta1 = -1* nrow * (mi_old - mi_new)\n",
      "c:\\Users\\anaxa\\Documents\\Projects\\Mixed-Learning-of-Bayesian-Networks\\bayesian\\redef_HC.py:258: RuntimeWarning: overflow encountered in double_scalars\n",
      "  delta2 = nrow * (mi_old - mi_new)\n",
      "c:\\Users\\anaxa\\Documents\\Projects\\Mixed-Learning-of-Bayesian-Networks\\bayesian\\redef_HC.py:246: RuntimeWarning: overflow encountered in double_scalars\n",
      "  delta1 = -1* nrow * (mi_old - mi_new)\n",
      "c:\\Users\\anaxa\\Documents\\Projects\\Mixed-Learning-of-Bayesian-Networks\\bayesian\\redef_HC.py:258: RuntimeWarning: overflow encountered in double_scalars\n",
      "  delta2 = nrow * (mi_old - mi_new)\n",
      "c:\\Users\\anaxa\\Documents\\Projects\\Mixed-Learning-of-Bayesian-Networks\\bayesian\\redef_HC.py:246: RuntimeWarning: overflow encountered in double_scalars\n",
      "  delta1 = -1* nrow * (mi_old - mi_new)\n",
      "c:\\Users\\anaxa\\Documents\\Projects\\Mixed-Learning-of-Bayesian-Networks\\bayesian\\redef_HC.py:258: RuntimeWarning: overflow encountered in double_scalars\n",
      "  delta2 = nrow * (mi_old - mi_new)\n"
     ]
    }
   ],
   "source": [
    "bn_geo = structure_learning(geo_coded, 'HC', 'MI', geo_types)"
   ]
  },
  {
   "cell_type": "code",
   "execution_count": 247,
   "metadata": {},
   "outputs": [
    {
     "output_type": "display_data",
     "data": {
      "text/plain": "<Figure size 2025x225 with 1 Axes>",
      "image/svg+xml": "<?xml version=\"1.0\" encoding=\"utf-8\" standalone=\"no\"?>\r\n<!DOCTYPE svg PUBLIC \"-//W3C//DTD SVG 1.1//EN\"\r\n  \"http://www.w3.org/Graphics/SVG/1.1/DTD/svg11.dtd\">\r\n<!-- Created with matplotlib (https://matplotlib.org/) -->\r\n<svg height=\"100.8pt\" version=\"1.1\" viewBox=\"0 0 964.8 100.8\" width=\"964.8pt\" xmlns=\"http://www.w3.org/2000/svg\" xmlns:xlink=\"http://www.w3.org/1999/xlink\">\r\n <metadata>\r\n  <rdf:RDF xmlns:cc=\"http://creativecommons.org/ns#\" xmlns:dc=\"http://purl.org/dc/elements/1.1/\" xmlns:rdf=\"http://www.w3.org/1999/02/22-rdf-syntax-ns#\">\r\n   <cc:Work>\r\n    <dc:type rdf:resource=\"http://purl.org/dc/dcmitype/StillImage\"/>\r\n    <dc:date>2021-05-02T20:10:55.974969</dc:date>\r\n    <dc:format>image/svg+xml</dc:format>\r\n    <dc:creator>\r\n     <cc:Agent>\r\n      <dc:title>Matplotlib v3.3.4, https://matplotlib.org/</dc:title>\r\n     </cc:Agent>\r\n    </dc:creator>\r\n   </cc:Work>\r\n  </rdf:RDF>\r\n </metadata>\r\n <defs>\r\n  <style type=\"text/css\">*{stroke-linecap:butt;stroke-linejoin:round;}</style>\r\n </defs>\r\n <g id=\"figure_1\">\r\n  <g id=\"patch_1\">\r\n   <path d=\"M 0 100.8 \r\nL 964.8 100.8 \r\nL 964.8 0 \r\nL 0 0 \r\nz\r\n\" style=\"fill:none;\"/>\r\n  </g>\r\n  <g id=\"axes_1\">\r\n   <g id=\"legend_1\">\r\n    <g id=\"patch_2\">\r\n     <path d=\"M 421.545312 59.239062 \r\nL 543.254687 59.239062 \r\nQ 545.254687 59.239062 545.254687 57.239062 \r\nL 545.254687 43.560937 \r\nQ 545.254687 41.560937 543.254687 41.560937 \r\nL 421.545312 41.560937 \r\nQ 419.545312 41.560937 419.545312 43.560937 \r\nL 419.545312 57.239062 \r\nQ 419.545312 59.239062 421.545312 59.239062 \r\nz\r\n\" style=\"fill:#ffffff;opacity:0.8;stroke:#cccccc;stroke-linejoin:miter;\"/>\r\n    </g>\r\n    <g id=\"patch_3\">\r\n     <path d=\"M 423.545312 53.159375 \r\nL 443.545312 53.159375 \r\nL 443.545312 46.159375 \r\nL 423.545312 46.159375 \r\nz\r\n\" style=\"fill:#d62728;stroke:#d62728;stroke-linejoin:miter;\"/>\r\n    </g>\r\n    <g id=\"text_1\">\r\n     <!-- disc -->\r\n     <g transform=\"translate(451.545312 53.159375)scale(0.1 -0.1)\">\r\n      <defs>\r\n       <path d=\"M 45.40625 46.390625 \r\nL 45.40625 75.984375 \r\nL 54.390625 75.984375 \r\nL 54.390625 0 \r\nL 45.40625 0 \r\nL 45.40625 8.203125 \r\nQ 42.578125 3.328125 38.25 0.953125 \r\nQ 33.9375 -1.421875 27.875 -1.421875 \r\nQ 17.96875 -1.421875 11.734375 6.484375 \r\nQ 5.515625 14.40625 5.515625 27.296875 \r\nQ 5.515625 40.1875 11.734375 48.09375 \r\nQ 17.96875 56 27.875 56 \r\nQ 33.9375 56 38.25 53.625 \r\nQ 42.578125 51.265625 45.40625 46.390625 \r\nz\r\nM 14.796875 27.296875 \r\nQ 14.796875 17.390625 18.875 11.75 \r\nQ 22.953125 6.109375 30.078125 6.109375 \r\nQ 37.203125 6.109375 41.296875 11.75 \r\nQ 45.40625 17.390625 45.40625 27.296875 \r\nQ 45.40625 37.203125 41.296875 42.84375 \r\nQ 37.203125 48.484375 30.078125 48.484375 \r\nQ 22.953125 48.484375 18.875 42.84375 \r\nQ 14.796875 37.203125 14.796875 27.296875 \r\nz\r\n\" id=\"DejaVuSans-100\"/>\r\n       <path d=\"M 9.421875 54.6875 \r\nL 18.40625 54.6875 \r\nL 18.40625 0 \r\nL 9.421875 0 \r\nz\r\nM 9.421875 75.984375 \r\nL 18.40625 75.984375 \r\nL 18.40625 64.59375 \r\nL 9.421875 64.59375 \r\nz\r\n\" id=\"DejaVuSans-105\"/>\r\n       <path d=\"M 44.28125 53.078125 \r\nL 44.28125 44.578125 \r\nQ 40.484375 46.53125 36.375 47.5 \r\nQ 32.28125 48.484375 27.875 48.484375 \r\nQ 21.1875 48.484375 17.84375 46.4375 \r\nQ 14.5 44.390625 14.5 40.28125 \r\nQ 14.5 37.15625 16.890625 35.375 \r\nQ 19.28125 33.59375 26.515625 31.984375 \r\nL 29.59375 31.296875 \r\nQ 39.15625 29.25 43.1875 25.515625 \r\nQ 47.21875 21.78125 47.21875 15.09375 \r\nQ 47.21875 7.46875 41.1875 3.015625 \r\nQ 35.15625 -1.421875 24.609375 -1.421875 \r\nQ 20.21875 -1.421875 15.453125 -0.5625 \r\nQ 10.6875 0.296875 5.421875 2 \r\nL 5.421875 11.28125 \r\nQ 10.40625 8.6875 15.234375 7.390625 \r\nQ 20.0625 6.109375 24.8125 6.109375 \r\nQ 31.15625 6.109375 34.5625 8.28125 \r\nQ 37.984375 10.453125 37.984375 14.40625 \r\nQ 37.984375 18.0625 35.515625 20.015625 \r\nQ 33.0625 21.96875 24.703125 23.78125 \r\nL 21.578125 24.515625 \r\nQ 13.234375 26.265625 9.515625 29.90625 \r\nQ 5.8125 33.546875 5.8125 39.890625 \r\nQ 5.8125 47.609375 11.28125 51.796875 \r\nQ 16.75 56 26.8125 56 \r\nQ 31.78125 56 36.171875 55.265625 \r\nQ 40.578125 54.546875 44.28125 53.078125 \r\nz\r\n\" id=\"DejaVuSans-115\"/>\r\n       <path d=\"M 48.78125 52.59375 \r\nL 48.78125 44.1875 \r\nQ 44.96875 46.296875 41.140625 47.34375 \r\nQ 37.3125 48.390625 33.40625 48.390625 \r\nQ 24.65625 48.390625 19.8125 42.84375 \r\nQ 14.984375 37.3125 14.984375 27.296875 \r\nQ 14.984375 17.28125 19.8125 11.734375 \r\nQ 24.65625 6.203125 33.40625 6.203125 \r\nQ 37.3125 6.203125 41.140625 7.25 \r\nQ 44.96875 8.296875 48.78125 10.40625 \r\nL 48.78125 2.09375 \r\nQ 45.015625 0.34375 40.984375 -0.53125 \r\nQ 36.96875 -1.421875 32.421875 -1.421875 \r\nQ 20.0625 -1.421875 12.78125 6.34375 \r\nQ 5.515625 14.109375 5.515625 27.296875 \r\nQ 5.515625 40.671875 12.859375 48.328125 \r\nQ 20.21875 56 33.015625 56 \r\nQ 37.15625 56 41.109375 55.140625 \r\nQ 45.0625 54.296875 48.78125 52.59375 \r\nz\r\n\" id=\"DejaVuSans-99\"/>\r\n      </defs>\r\n      <use xlink:href=\"#DejaVuSans-100\"/>\r\n      <use x=\"63.476562\" xlink:href=\"#DejaVuSans-105\"/>\r\n      <use x=\"91.259766\" xlink:href=\"#DejaVuSans-115\"/>\r\n      <use x=\"143.359375\" xlink:href=\"#DejaVuSans-99\"/>\r\n     </g>\r\n    </g>\r\n    <g id=\"patch_4\">\r\n     <path d=\"M 491.379687 53.159375 \r\nL 511.379687 53.159375 \r\nL 511.379687 46.159375 \r\nL 491.379687 46.159375 \r\nz\r\n\" style=\"fill:#7f7f7f;stroke:#7f7f7f;stroke-linejoin:miter;\"/>\r\n    </g>\r\n    <g id=\"text_2\">\r\n     <!-- cont -->\r\n     <g transform=\"translate(519.379687 53.159375)scale(0.1 -0.1)\">\r\n      <defs>\r\n       <path d=\"M 30.609375 48.390625 \r\nQ 23.390625 48.390625 19.1875 42.75 \r\nQ 14.984375 37.109375 14.984375 27.296875 \r\nQ 14.984375 17.484375 19.15625 11.84375 \r\nQ 23.34375 6.203125 30.609375 6.203125 \r\nQ 37.796875 6.203125 41.984375 11.859375 \r\nQ 46.1875 17.53125 46.1875 27.296875 \r\nQ 46.1875 37.015625 41.984375 42.703125 \r\nQ 37.796875 48.390625 30.609375 48.390625 \r\nz\r\nM 30.609375 56 \r\nQ 42.328125 56 49.015625 48.375 \r\nQ 55.71875 40.765625 55.71875 27.296875 \r\nQ 55.71875 13.875 49.015625 6.21875 \r\nQ 42.328125 -1.421875 30.609375 -1.421875 \r\nQ 18.84375 -1.421875 12.171875 6.21875 \r\nQ 5.515625 13.875 5.515625 27.296875 \r\nQ 5.515625 40.765625 12.171875 48.375 \r\nQ 18.84375 56 30.609375 56 \r\nz\r\n\" id=\"DejaVuSans-111\"/>\r\n       <path d=\"M 54.890625 33.015625 \r\nL 54.890625 0 \r\nL 45.90625 0 \r\nL 45.90625 32.71875 \r\nQ 45.90625 40.484375 42.875 44.328125 \r\nQ 39.84375 48.1875 33.796875 48.1875 \r\nQ 26.515625 48.1875 22.3125 43.546875 \r\nQ 18.109375 38.921875 18.109375 30.90625 \r\nL 18.109375 0 \r\nL 9.078125 0 \r\nL 9.078125 54.6875 \r\nL 18.109375 54.6875 \r\nL 18.109375 46.1875 \r\nQ 21.34375 51.125 25.703125 53.5625 \r\nQ 30.078125 56 35.796875 56 \r\nQ 45.21875 56 50.046875 50.171875 \r\nQ 54.890625 44.34375 54.890625 33.015625 \r\nz\r\n\" id=\"DejaVuSans-110\"/>\r\n       <path d=\"M 18.3125 70.21875 \r\nL 18.3125 54.6875 \r\nL 36.8125 54.6875 \r\nL 36.8125 47.703125 \r\nL 18.3125 47.703125 \r\nL 18.3125 18.015625 \r\nQ 18.3125 11.328125 20.140625 9.421875 \r\nQ 21.96875 7.515625 27.59375 7.515625 \r\nL 36.8125 7.515625 \r\nL 36.8125 0 \r\nL 27.59375 0 \r\nQ 17.1875 0 13.234375 3.875 \r\nQ 9.28125 7.765625 9.28125 18.015625 \r\nL 9.28125 47.703125 \r\nL 2.6875 47.703125 \r\nL 2.6875 54.6875 \r\nL 9.28125 54.6875 \r\nL 9.28125 70.21875 \r\nz\r\n\" id=\"DejaVuSans-116\"/>\r\n      </defs>\r\n      <use xlink:href=\"#DejaVuSans-99\"/>\r\n      <use x=\"54.980469\" xlink:href=\"#DejaVuSans-111\"/>\r\n      <use x=\"116.162109\" xlink:href=\"#DejaVuSans-110\"/>\r\n      <use x=\"179.541016\" xlink:href=\"#DejaVuSans-116\"/>\r\n     </g>\r\n    </g>\r\n   </g>\r\n  </g>\r\n </g>\r\n</svg>\r\n",
      "image/png": "[encoded data removed]"
     },
     "metadata": {
      "needs_background": "light"
     }
    },
    {
     "output_type": "execute_result",
     "data": {
      "text/plain": [
       "<IPython.lib.display.IFrame at 0x2ddf0c1d850>"
      ],
      "text/html": "\n        <iframe\n            width=\"100%\"\n            height=\"800px\"\n            src=\"../visualization_result/geo_net.html\"\n            frameborder=\"0\"\n            allowfullscreen\n        ></iframe>\n        "
     },
     "metadata": {},
     "execution_count": 247
    }
   ],
   "source": [
    "draw_BN(bn_geo, geo_types, 'geo_net')"
   ]
  },
  {
   "cell_type": "code",
   "execution_count": 248,
   "metadata": {},
   "outputs": [],
   "source": [
    "params = parameter_learning(geo_train, geo_types, bn_geo)"
   ]
  },
  {
   "cell_type": "code",
   "execution_count": 249,
   "metadata": {},
   "outputs": [],
   "source": [
    "save_structure(bn_geo, 'geo_net')\n",
    "skel = read_structure('geo_net')\n",
    "save_params(params, 'geo_net_param')\n",
    "params = read_params('geo_net_param')\n",
    "geo_bn = HyBayesianNetwork(skel, params)"
   ]
  },
  {
   "cell_type": "code",
   "execution_count": 250,
   "metadata": {},
   "outputs": [],
   "source": [
    "acc, rmse, real, pred = calculate_acc(geo_bn, geo_test, columns)"
   ]
  },
  {
   "cell_type": "code",
   "execution_count": 251,
   "metadata": {},
   "outputs": [
    {
     "output_type": "execute_result",
     "data": {
      "text/plain": [
       "{'sex': 0.56, 'relation': 0.27, 'is_parent': 0.74, 'has_pets': 0.95}"
      ]
     },
     "metadata": {},
     "execution_count": 251
    }
   ],
   "source": [
    "acc"
   ]
  },
  {
   "cell_type": "code",
   "execution_count": 252,
   "metadata": {},
   "outputs": [
    {
     "output_type": "execute_result",
     "data": {
      "text/plain": [
       "{'age': 12.21, 'mean_tr': 6314.49, 'median_tr': 5879.34, 'tr_per_month': 19.76}"
      ]
     },
     "metadata": {},
     "execution_count": 252
    }
   ],
   "source": [
    "rmse"
   ]
  },
  {
   "cell_type": "code",
   "execution_count": 253,
   "metadata": {},
   "outputs": [],
   "source": [
    "for key in acc.keys():\n",
    "    df_result_accuracy = df_result_accuracy.append({'Parameter': key, 'Strategy': 'HC', 'Alg':'M+M','accuracy':acc[key]}, ignore_index=True)\n",
    "for key in rmse.keys():\n",
    "    df_result_rmse = df_result_rmse.append({'Parameter': key, 'Strategy': 'HC', 'Alg':'M+M','rmse':rmse[key]}, ignore_index=True)"
   ]
  },
  {
   "cell_type": "code",
   "execution_count": 254,
   "metadata": {},
   "outputs": [],
   "source": [
    "sample_m_m_hc_tr = pd.DataFrame(geo_bn.randomsample(5000))\n",
    "sample_m_m_hc_tr = sample_m_m_hc_tr.loc[sample_m_m_hc_tr['tr_per_month'] > 0]\n",
    "sample_m_m_hc = pd.DataFrame(geo_bn.randomsample(5000))\n",
    "sample_m_m_hc = sample_m_m_hc.loc[sample_m_m_hc['median_tr'] > 0]"
   ]
  },
  {
   "source": [
    "# Дискретная стурктура + дискретные параметры"
   ],
   "cell_type": "markdown",
   "metadata": {}
  },
  {
   "cell_type": "code",
   "execution_count": 255,
   "metadata": {},
   "outputs": [],
   "source": [
    "geo_new_types = {'sex': 'disc',\n",
    " 'relation': 'disc',\n",
    " 'is_parent': 'disc',\n",
    " 'has_pets': 'disc',\n",
    " 'age': 'disc',\n",
    " 'mean_tr': 'disc',\n",
    " 'median_tr': 'disc',\n",
    " 'tr_per_month': 'disc'}"
   ]
  },
  {
   "cell_type": "code",
   "execution_count": 256,
   "metadata": {},
   "outputs": [],
   "source": [
    "bn_geo = structure_learning(geo_discrete, 'HC', 'MI', geo_new_types)"
   ]
  },
  {
   "cell_type": "code",
   "execution_count": 257,
   "metadata": {},
   "outputs": [
    {
     "output_type": "display_data",
     "data": {
      "text/plain": "<Figure size 2025x225 with 1 Axes>",
      "image/svg+xml": "<?xml version=\"1.0\" encoding=\"utf-8\" standalone=\"no\"?>\r\n<!DOCTYPE svg PUBLIC \"-//W3C//DTD SVG 1.1//EN\"\r\n  \"http://www.w3.org/Graphics/SVG/1.1/DTD/svg11.dtd\">\r\n<!-- Created with matplotlib (https://matplotlib.org/) -->\r\n<svg height=\"100.8pt\" version=\"1.1\" viewBox=\"0 0 964.8 100.8\" width=\"964.8pt\" xmlns=\"http://www.w3.org/2000/svg\" xmlns:xlink=\"http://www.w3.org/1999/xlink\">\r\n <metadata>\r\n  <rdf:RDF xmlns:cc=\"http://creativecommons.org/ns#\" xmlns:dc=\"http://purl.org/dc/elements/1.1/\" xmlns:rdf=\"http://www.w3.org/1999/02/22-rdf-syntax-ns#\">\r\n   <cc:Work>\r\n    <dc:type rdf:resource=\"http://purl.org/dc/dcmitype/StillImage\"/>\r\n    <dc:date>2021-05-02T20:13:23.175410</dc:date>\r\n    <dc:format>image/svg+xml</dc:format>\r\n    <dc:creator>\r\n     <cc:Agent>\r\n      <dc:title>Matplotlib v3.3.4, https://matplotlib.org/</dc:title>\r\n     </cc:Agent>\r\n    </dc:creator>\r\n   </cc:Work>\r\n  </rdf:RDF>\r\n </metadata>\r\n <defs>\r\n  <style type=\"text/css\">*{stroke-linecap:butt;stroke-linejoin:round;}</style>\r\n </defs>\r\n <g id=\"figure_1\">\r\n  <g id=\"patch_1\">\r\n   <path d=\"M 0 100.8 \r\nL 964.8 100.8 \r\nL 964.8 0 \r\nL 0 0 \r\nz\r\n\" style=\"fill:none;\"/>\r\n  </g>\r\n  <g id=\"axes_1\">\r\n   <g id=\"legend_1\">\r\n    <g id=\"patch_2\">\r\n     <path d=\"M 421.545312 59.239062 \r\nL 543.254687 59.239062 \r\nQ 545.254687 59.239062 545.254687 57.239062 \r\nL 545.254687 43.560937 \r\nQ 545.254687 41.560937 543.254687 41.560937 \r\nL 421.545312 41.560937 \r\nQ 419.545312 41.560937 419.545312 43.560937 \r\nL 419.545312 57.239062 \r\nQ 419.545312 59.239062 421.545312 59.239062 \r\nz\r\n\" style=\"fill:#ffffff;opacity:0.8;stroke:#cccccc;stroke-linejoin:miter;\"/>\r\n    </g>\r\n    <g id=\"patch_3\">\r\n     <path d=\"M 423.545312 53.159375 \r\nL 443.545312 53.159375 \r\nL 443.545312 46.159375 \r\nL 423.545312 46.159375 \r\nz\r\n\" style=\"fill:#d62728;stroke:#d62728;stroke-linejoin:miter;\"/>\r\n    </g>\r\n    <g id=\"text_1\">\r\n     <!-- disc -->\r\n     <g transform=\"translate(451.545312 53.159375)scale(0.1 -0.1)\">\r\n      <defs>\r\n       <path d=\"M 45.40625 46.390625 \r\nL 45.40625 75.984375 \r\nL 54.390625 75.984375 \r\nL 54.390625 0 \r\nL 45.40625 0 \r\nL 45.40625 8.203125 \r\nQ 42.578125 3.328125 38.25 0.953125 \r\nQ 33.9375 -1.421875 27.875 -1.421875 \r\nQ 17.96875 -1.421875 11.734375 6.484375 \r\nQ 5.515625 14.40625 5.515625 27.296875 \r\nQ 5.515625 40.1875 11.734375 48.09375 \r\nQ 17.96875 56 27.875 56 \r\nQ 33.9375 56 38.25 53.625 \r\nQ 42.578125 51.265625 45.40625 46.390625 \r\nz\r\nM 14.796875 27.296875 \r\nQ 14.796875 17.390625 18.875 11.75 \r\nQ 22.953125 6.109375 30.078125 6.109375 \r\nQ 37.203125 6.109375 41.296875 11.75 \r\nQ 45.40625 17.390625 45.40625 27.296875 \r\nQ 45.40625 37.203125 41.296875 42.84375 \r\nQ 37.203125 48.484375 30.078125 48.484375 \r\nQ 22.953125 48.484375 18.875 42.84375 \r\nQ 14.796875 37.203125 14.796875 27.296875 \r\nz\r\n\" id=\"DejaVuSans-100\"/>\r\n       <path d=\"M 9.421875 54.6875 \r\nL 18.40625 54.6875 \r\nL 18.40625 0 \r\nL 9.421875 0 \r\nz\r\nM 9.421875 75.984375 \r\nL 18.40625 75.984375 \r\nL 18.40625 64.59375 \r\nL 9.421875 64.59375 \r\nz\r\n\" id=\"DejaVuSans-105\"/>\r\n       <path d=\"M 44.28125 53.078125 \r\nL 44.28125 44.578125 \r\nQ 40.484375 46.53125 36.375 47.5 \r\nQ 32.28125 48.484375 27.875 48.484375 \r\nQ 21.1875 48.484375 17.84375 46.4375 \r\nQ 14.5 44.390625 14.5 40.28125 \r\nQ 14.5 37.15625 16.890625 35.375 \r\nQ 19.28125 33.59375 26.515625 31.984375 \r\nL 29.59375 31.296875 \r\nQ 39.15625 29.25 43.1875 25.515625 \r\nQ 47.21875 21.78125 47.21875 15.09375 \r\nQ 47.21875 7.46875 41.1875 3.015625 \r\nQ 35.15625 -1.421875 24.609375 -1.421875 \r\nQ 20.21875 -1.421875 15.453125 -0.5625 \r\nQ 10.6875 0.296875 5.421875 2 \r\nL 5.421875 11.28125 \r\nQ 10.40625 8.6875 15.234375 7.390625 \r\nQ 20.0625 6.109375 24.8125 6.109375 \r\nQ 31.15625 6.109375 34.5625 8.28125 \r\nQ 37.984375 10.453125 37.984375 14.40625 \r\nQ 37.984375 18.0625 35.515625 20.015625 \r\nQ 33.0625 21.96875 24.703125 23.78125 \r\nL 21.578125 24.515625 \r\nQ 13.234375 26.265625 9.515625 29.90625 \r\nQ 5.8125 33.546875 5.8125 39.890625 \r\nQ 5.8125 47.609375 11.28125 51.796875 \r\nQ 16.75 56 26.8125 56 \r\nQ 31.78125 56 36.171875 55.265625 \r\nQ 40.578125 54.546875 44.28125 53.078125 \r\nz\r\n\" id=\"DejaVuSans-115\"/>\r\n       <path d=\"M 48.78125 52.59375 \r\nL 48.78125 44.1875 \r\nQ 44.96875 46.296875 41.140625 47.34375 \r\nQ 37.3125 48.390625 33.40625 48.390625 \r\nQ 24.65625 48.390625 19.8125 42.84375 \r\nQ 14.984375 37.3125 14.984375 27.296875 \r\nQ 14.984375 17.28125 19.8125 11.734375 \r\nQ 24.65625 6.203125 33.40625 6.203125 \r\nQ 37.3125 6.203125 41.140625 7.25 \r\nQ 44.96875 8.296875 48.78125 10.40625 \r\nL 48.78125 2.09375 \r\nQ 45.015625 0.34375 40.984375 -0.53125 \r\nQ 36.96875 -1.421875 32.421875 -1.421875 \r\nQ 20.0625 -1.421875 12.78125 6.34375 \r\nQ 5.515625 14.109375 5.515625 27.296875 \r\nQ 5.515625 40.671875 12.859375 48.328125 \r\nQ 20.21875 56 33.015625 56 \r\nQ 37.15625 56 41.109375 55.140625 \r\nQ 45.0625 54.296875 48.78125 52.59375 \r\nz\r\n\" id=\"DejaVuSans-99\"/>\r\n      </defs>\r\n      <use xlink:href=\"#DejaVuSans-100\"/>\r\n      <use x=\"63.476562\" xlink:href=\"#DejaVuSans-105\"/>\r\n      <use x=\"91.259766\" xlink:href=\"#DejaVuSans-115\"/>\r\n      <use x=\"143.359375\" xlink:href=\"#DejaVuSans-99\"/>\r\n     </g>\r\n    </g>\r\n    <g id=\"patch_4\">\r\n     <path d=\"M 491.379687 53.159375 \r\nL 511.379687 53.159375 \r\nL 511.379687 46.159375 \r\nL 491.379687 46.159375 \r\nz\r\n\" style=\"fill:#7f7f7f;stroke:#7f7f7f;stroke-linejoin:miter;\"/>\r\n    </g>\r\n    <g id=\"text_2\">\r\n     <!-- cont -->\r\n     <g transform=\"translate(519.379687 53.159375)scale(0.1 -0.1)\">\r\n      <defs>\r\n       <path d=\"M 30.609375 48.390625 \r\nQ 23.390625 48.390625 19.1875 42.75 \r\nQ 14.984375 37.109375 14.984375 27.296875 \r\nQ 14.984375 17.484375 19.15625 11.84375 \r\nQ 23.34375 6.203125 30.609375 6.203125 \r\nQ 37.796875 6.203125 41.984375 11.859375 \r\nQ 46.1875 17.53125 46.1875 27.296875 \r\nQ 46.1875 37.015625 41.984375 42.703125 \r\nQ 37.796875 48.390625 30.609375 48.390625 \r\nz\r\nM 30.609375 56 \r\nQ 42.328125 56 49.015625 48.375 \r\nQ 55.71875 40.765625 55.71875 27.296875 \r\nQ 55.71875 13.875 49.015625 6.21875 \r\nQ 42.328125 -1.421875 30.609375 -1.421875 \r\nQ 18.84375 -1.421875 12.171875 6.21875 \r\nQ 5.515625 13.875 5.515625 27.296875 \r\nQ 5.515625 40.765625 12.171875 48.375 \r\nQ 18.84375 56 30.609375 56 \r\nz\r\n\" id=\"DejaVuSans-111\"/>\r\n       <path d=\"M 54.890625 33.015625 \r\nL 54.890625 0 \r\nL 45.90625 0 \r\nL 45.90625 32.71875 \r\nQ 45.90625 40.484375 42.875 44.328125 \r\nQ 39.84375 48.1875 33.796875 48.1875 \r\nQ 26.515625 48.1875 22.3125 43.546875 \r\nQ 18.109375 38.921875 18.109375 30.90625 \r\nL 18.109375 0 \r\nL 9.078125 0 \r\nL 9.078125 54.6875 \r\nL 18.109375 54.6875 \r\nL 18.109375 46.1875 \r\nQ 21.34375 51.125 25.703125 53.5625 \r\nQ 30.078125 56 35.796875 56 \r\nQ 45.21875 56 50.046875 50.171875 \r\nQ 54.890625 44.34375 54.890625 33.015625 \r\nz\r\n\" id=\"DejaVuSans-110\"/>\r\n       <path d=\"M 18.3125 70.21875 \r\nL 18.3125 54.6875 \r\nL 36.8125 54.6875 \r\nL 36.8125 47.703125 \r\nL 18.3125 47.703125 \r\nL 18.3125 18.015625 \r\nQ 18.3125 11.328125 20.140625 9.421875 \r\nQ 21.96875 7.515625 27.59375 7.515625 \r\nL 36.8125 7.515625 \r\nL 36.8125 0 \r\nL 27.59375 0 \r\nQ 17.1875 0 13.234375 3.875 \r\nQ 9.28125 7.765625 9.28125 18.015625 \r\nL 9.28125 47.703125 \r\nL 2.6875 47.703125 \r\nL 2.6875 54.6875 \r\nL 9.28125 54.6875 \r\nL 9.28125 70.21875 \r\nz\r\n\" id=\"DejaVuSans-116\"/>\r\n      </defs>\r\n      <use xlink:href=\"#DejaVuSans-99\"/>\r\n      <use x=\"54.980469\" xlink:href=\"#DejaVuSans-111\"/>\r\n      <use x=\"116.162109\" xlink:href=\"#DejaVuSans-110\"/>\r\n      <use x=\"179.541016\" xlink:href=\"#DejaVuSans-116\"/>\r\n     </g>\r\n    </g>\r\n   </g>\r\n  </g>\r\n </g>\r\n</svg>\r\n",
      "image/png": "[encoded data removed]"
     },
     "metadata": {
      "needs_background": "light"
     }
    },
    {
     "output_type": "execute_result",
     "data": {
      "text/plain": [
       "<IPython.lib.display.IFrame at 0x2ddf190ca30>"
      ],
      "text/html": "\n        <iframe\n            width=\"100%\"\n            height=\"800px\"\n            src=\"../visualization_result/geo_net.html\"\n            frameborder=\"0\"\n            allowfullscreen\n        ></iframe>\n        "
     },
     "metadata": {},
     "execution_count": 257
    }
   ],
   "source": [
    "draw_BN(bn_geo, geo_types, 'geo_net')"
   ]
  },
  {
   "cell_type": "code",
   "execution_count": 258,
   "metadata": {},
   "outputs": [],
   "source": [
    "params = parameter_learning(geo_only_discrete, geo_new_types, bn_geo)"
   ]
  },
  {
   "cell_type": "code",
   "execution_count": 259,
   "metadata": {},
   "outputs": [],
   "source": [
    "save_structure(bn_geo, 'geo_net')\n",
    "skel = read_structure('geo_net')\n",
    "save_params(params, 'geo_net_param')\n",
    "params = read_params('geo_net_param')\n",
    "geo_bn = HyBayesianNetwork(skel, params)"
   ]
  },
  {
   "cell_type": "code",
   "execution_count": 260,
   "metadata": {},
   "outputs": [],
   "source": [
    "test_discrete = copy(geo_test)"
   ]
  },
  {
   "cell_type": "code",
   "execution_count": 261,
   "metadata": {},
   "outputs": [],
   "source": [
    "test_discrete[columns_for_disc] = discrete_coder.transform(geo_test[columns_for_disc].values) "
   ]
  },
  {
   "cell_type": "code",
   "execution_count": 262,
   "metadata": {},
   "outputs": [
    {
     "output_type": "execute_result",
     "data": {
      "text/plain": [
       "    sex relation is_parent has_pets  age  mean_tr  median_tr  tr_per_month\n",
       "0     2        5         0        0    4        4          4             1\n",
       "1     2        6         0        0    2        3          2             4\n",
       "2     2        6         1        0    4        1          2             4\n",
       "3     2        7         0        0    4        4          4             1\n",
       "4     1        0         1        0    3        3          2             4\n",
       "..   ..      ...       ...      ...  ...      ...        ...           ...\n",
       "374   1        4         0        0    4        3          3             1\n",
       "375   1        6         1        0    1        2          2             0\n",
       "376   1        5         0        0    3        1          2             3\n",
       "377   2        3         0        0    2        3          3             0\n",
       "378   1        5         1        0    2        2          3             1\n",
       "\n",
       "[379 rows x 8 columns]"
      ],
      "text/html": "<div>\n<style scoped>\n    .dataframe tbody tr th:only-of-type {\n        vertical-align: middle;\n    }\n\n    .dataframe tbody tr th {\n        vertical-align: top;\n    }\n\n    .dataframe thead th {\n        text-align: right;\n    }\n</style>\n<table border=\"1\" class=\"dataframe\">\n  <thead>\n    <tr style=\"text-align: right;\">\n      <th></th>\n      <th>sex</th>\n      <th>relation</th>\n      <th>is_parent</th>\n      <th>has_pets</th>\n      <th>age</th>\n      <th>mean_tr</th>\n      <th>median_tr</th>\n      <th>tr_per_month</th>\n    </tr>\n  </thead>\n  <tbody>\n    <tr>\n      <th>0</th>\n      <td>2</td>\n      <td>5</td>\n      <td>0</td>\n      <td>0</td>\n      <td>4</td>\n      <td>4</td>\n      <td>4</td>\n      <td>1</td>\n    </tr>\n    <tr>\n      <th>1</th>\n      <td>2</td>\n      <td>6</td>\n      <td>0</td>\n      <td>0</td>\n      <td>2</td>\n      <td>3</td>\n      <td>2</td>\n      <td>4</td>\n    </tr>\n    <tr>\n      <th>2</th>\n      <td>2</td>\n      <td>6</td>\n      <td>1</td>\n      <td>0</td>\n      <td>4</td>\n      <td>1</td>\n      <td>2</td>\n      <td>4</td>\n    </tr>\n    <tr>\n      <th>3</th>\n      <td>2</td>\n      <td>7</td>\n      <td>0</td>\n      <td>0</td>\n      <td>4</td>\n      <td>4</td>\n      <td>4</td>\n      <td>1</td>\n    </tr>\n    <tr>\n      <th>4</th>\n      <td>1</td>\n      <td>0</td>\n      <td>1</td>\n      <td>0</td>\n      <td>3</td>\n      <td>3</td>\n      <td>2</td>\n      <td>4</td>\n    </tr>\n    <tr>\n      <th>...</th>\n      <td>...</td>\n      <td>...</td>\n      <td>...</td>\n      <td>...</td>\n      <td>...</td>\n      <td>...</td>\n      <td>...</td>\n      <td>...</td>\n    </tr>\n    <tr>\n      <th>374</th>\n      <td>1</td>\n      <td>4</td>\n      <td>0</td>\n      <td>0</td>\n      <td>4</td>\n      <td>3</td>\n      <td>3</td>\n      <td>1</td>\n    </tr>\n    <tr>\n      <th>375</th>\n      <td>1</td>\n      <td>6</td>\n      <td>1</td>\n      <td>0</td>\n      <td>1</td>\n      <td>2</td>\n      <td>2</td>\n      <td>0</td>\n    </tr>\n    <tr>\n      <th>376</th>\n      <td>1</td>\n      <td>5</td>\n      <td>0</td>\n      <td>0</td>\n      <td>3</td>\n      <td>1</td>\n      <td>2</td>\n      <td>3</td>\n    </tr>\n    <tr>\n      <th>377</th>\n      <td>2</td>\n      <td>3</td>\n      <td>0</td>\n      <td>0</td>\n      <td>2</td>\n      <td>3</td>\n      <td>3</td>\n      <td>0</td>\n    </tr>\n    <tr>\n      <th>378</th>\n      <td>1</td>\n      <td>5</td>\n      <td>1</td>\n      <td>0</td>\n      <td>2</td>\n      <td>2</td>\n      <td>3</td>\n      <td>1</td>\n    </tr>\n  </tbody>\n</table>\n<p>379 rows × 8 columns</p>\n</div>"
     },
     "metadata": {},
     "execution_count": 262
    }
   ],
   "source": [
    "for c in columns_for_disc:\n",
    "    test_discrete[c] = test_discrete[c].apply(lambda x: int(x))\n",
    "test_discrete"
   ]
  },
  {
   "cell_type": "code",
   "execution_count": 263,
   "metadata": {},
   "outputs": [
    {
     "output_type": "stream",
     "name": "stderr",
     "text": [
      "C:\\Users\\anaxa\\AppData\\Local\\Programs\\Python\\Python38\\lib\\site-packages\\sklearn\\metrics\\_classification.py:208: FutureWarning: elementwise comparison failed; returning scalar instead, but in the future will perform elementwise comparison\n  score = y_true == y_pred\nC:\\Users\\anaxa\\AppData\\Local\\Programs\\Python\\Python38\\lib\\site-packages\\sklearn\\metrics\\_classification.py:208: FutureWarning: elementwise comparison failed; returning scalar instead, but in the future will perform elementwise comparison\n  score = y_true == y_pred\nC:\\Users\\anaxa\\AppData\\Local\\Programs\\Python\\Python38\\lib\\site-packages\\sklearn\\metrics\\_classification.py:208: FutureWarning: elementwise comparison failed; returning scalar instead, but in the future will perform elementwise comparison\n  score = y_true == y_pred\nC:\\Users\\anaxa\\AppData\\Local\\Programs\\Python\\Python38\\lib\\site-packages\\sklearn\\metrics\\_classification.py:208: FutureWarning: elementwise comparison failed; returning scalar instead, but in the future will perform elementwise comparison\n  score = y_true == y_pred\n"
     ]
    }
   ],
   "source": [
    "acc, rmse, real, pred = calculate_acc(geo_bn, test_discrete, columns)"
   ]
  },
  {
   "cell_type": "code",
   "execution_count": 264,
   "metadata": {},
   "outputs": [
    {
     "output_type": "execute_result",
     "data": {
      "text/plain": [
       "{'sex': 0.56,\n",
       " 'relation': 0.27,\n",
       " 'is_parent': 0.74,\n",
       " 'has_pets': 0.95,\n",
       " 'age': 0.0,\n",
       " 'mean_tr': 0.0,\n",
       " 'median_tr': 0.0,\n",
       " 'tr_per_month': 0.0}"
      ]
     },
     "metadata": {},
     "execution_count": 264
    }
   ],
   "source": [
    "acc"
   ]
  },
  {
   "cell_type": "code",
   "execution_count": 265,
   "metadata": {},
   "outputs": [],
   "source": [
    "for key in colums_for_code:\n",
    "    df_result_accuracy = df_result_accuracy.append({'Parameter': key, 'Strategy': 'HC', 'Alg':'D+D','accuracy':acc[key]}, ignore_index=True)"
   ]
  },
  {
   "cell_type": "code",
   "execution_count": 266,
   "metadata": {},
   "outputs": [],
   "source": [
    "invers_real = inverse_discretization(pd.DataFrame(np.transpose(real[4:8]), columns=['age', 'mean_tr', 'median_tr', 'tr_per_month']), ['age', 'mean_tr', 'median_tr', 'tr_per_month'], discrete_coder)"
   ]
  },
  {
   "cell_type": "code",
   "execution_count": 267,
   "metadata": {},
   "outputs": [],
   "source": [
    "invers_pred = inverse_discretization(pd.DataFrame(np.transpose(pred[4:8]), columns=['age','mean_tr', 'median_tr', 'tr_per_month']), ['age', 'mean_tr', 'median_tr', 'tr_per_month'], discrete_coder)"
   ]
  },
  {
   "cell_type": "code",
   "execution_count": 268,
   "metadata": {},
   "outputs": [],
   "source": [
    "m = mean_squared_error(invers_real['age'], invers_pred['age'], squared=False)\n",
    "df_result_rmse = df_result_rmse.append({'Parameter': 'age', 'Strategy': 'HC', 'Alg':'D+D','rmse':m}, ignore_index=True)"
   ]
  },
  {
   "cell_type": "code",
   "execution_count": 269,
   "metadata": {},
   "outputs": [],
   "source": [
    "m = mean_squared_error(invers_real['mean_tr'], invers_pred['mean_tr'], squared=False)\n",
    "df_result_rmse = df_result_rmse.append({'Parameter': 'mean_tr', 'Strategy': 'HC', 'Alg':'D+D','rmse':m}, ignore_index=True)"
   ]
  },
  {
   "cell_type": "code",
   "execution_count": 270,
   "metadata": {},
   "outputs": [],
   "source": [
    "m = mean_squared_error(invers_real['median_tr'], invers_pred['median_tr'], squared=False)\n",
    "df_result_rmse = df_result_rmse.append({'Parameter': 'median_tr', 'Strategy': 'HC', 'Alg':'D+D','rmse':m}, ignore_index=True)"
   ]
  },
  {
   "cell_type": "code",
   "execution_count": 271,
   "metadata": {},
   "outputs": [],
   "source": [
    "m = mean_squared_error(invers_real['tr_per_month'], invers_pred['tr_per_month'], squared=False)\n",
    "df_result_rmse = df_result_rmse.append({'Parameter': 'tr_per_month', 'Strategy': 'HC', 'Alg':'D+D','rmse':m}, ignore_index=True)"
   ]
  },
  {
   "cell_type": "code",
   "execution_count": 272,
   "metadata": {},
   "outputs": [],
   "source": [
    "sample_d_d_hc = pd.DataFrame(geo_bn.randomsample(5000))\n",
    "sample_d_d_hc = inverse_discretization(sample_d_d_hc, columns_for_disc, discrete_coder)"
   ]
  },
  {
   "source": [
    "# Смешанная структура + дискретные параметры"
   ],
   "cell_type": "markdown",
   "metadata": {}
  },
  {
   "cell_type": "code",
   "execution_count": 273,
   "metadata": {
    "tags": []
   },
   "outputs": [
    {
     "output_type": "stream",
     "name": "stderr",
     "text": [
      "c:\\Users\\anaxa\\Documents\\Projects\\Mixed-Learning-of-Bayesian-Networks\\bayesian\\redef_HC.py:260: RuntimeWarning: overflow encountered in double_scalars\n",
      "  delta_score = delta1 + delta2\n",
      "c:\\Users\\anaxa\\Documents\\Projects\\Mixed-Learning-of-Bayesian-Networks\\bayesian\\redef_HC.py:246: RuntimeWarning: overflow encountered in double_scalars\n",
      "  delta1 = -1* nrow * (mi_old - mi_new)\n",
      "c:\\Users\\anaxa\\Documents\\Projects\\Mixed-Learning-of-Bayesian-Networks\\bayesian\\redef_HC.py:258: RuntimeWarning: overflow encountered in double_scalars\n",
      "  delta2 = nrow * (mi_old - mi_new)\n",
      "c:\\Users\\anaxa\\Documents\\Projects\\Mixed-Learning-of-Bayesian-Networks\\bayesian\\redef_HC.py:246: RuntimeWarning: overflow encountered in double_scalars\n",
      "  delta1 = -1* nrow * (mi_old - mi_new)\n",
      "c:\\Users\\anaxa\\Documents\\Projects\\Mixed-Learning-of-Bayesian-Networks\\bayesian\\redef_HC.py:258: RuntimeWarning: overflow encountered in double_scalars\n",
      "  delta2 = nrow * (mi_old - mi_new)\n",
      "c:\\Users\\anaxa\\Documents\\Projects\\Mixed-Learning-of-Bayesian-Networks\\bayesian\\redef_HC.py:246: RuntimeWarning: overflow encountered in double_scalars\n",
      "  delta1 = -1* nrow * (mi_old - mi_new)\n",
      "c:\\Users\\anaxa\\Documents\\Projects\\Mixed-Learning-of-Bayesian-Networks\\bayesian\\redef_HC.py:258: RuntimeWarning: overflow encountered in double_scalars\n",
      "  delta2 = nrow * (mi_old - mi_new)\n",
      "c:\\Users\\anaxa\\Documents\\Projects\\Mixed-Learning-of-Bayesian-Networks\\bayesian\\redef_HC.py:246: RuntimeWarning: overflow encountered in double_scalars\n",
      "  delta1 = -1* nrow * (mi_old - mi_new)\n",
      "c:\\Users\\anaxa\\Documents\\Projects\\Mixed-Learning-of-Bayesian-Networks\\bayesian\\redef_HC.py:258: RuntimeWarning: overflow encountered in double_scalars\n",
      "  delta2 = nrow * (mi_old - mi_new)\n",
      "c:\\Users\\anaxa\\Documents\\Projects\\Mixed-Learning-of-Bayesian-Networks\\bayesian\\redef_HC.py:246: RuntimeWarning: overflow encountered in double_scalars\n",
      "  delta1 = -1* nrow * (mi_old - mi_new)\n",
      "c:\\Users\\anaxa\\Documents\\Projects\\Mixed-Learning-of-Bayesian-Networks\\bayesian\\redef_HC.py:258: RuntimeWarning: overflow encountered in double_scalars\n",
      "  delta2 = nrow * (mi_old - mi_new)\n",
      "c:\\Users\\anaxa\\Documents\\Projects\\Mixed-Learning-of-Bayesian-Networks\\bayesian\\redef_HC.py:246: RuntimeWarning: overflow encountered in double_scalars\n",
      "  delta1 = -1* nrow * (mi_old - mi_new)\n",
      "c:\\Users\\anaxa\\Documents\\Projects\\Mixed-Learning-of-Bayesian-Networks\\bayesian\\redef_HC.py:258: RuntimeWarning: overflow encountered in double_scalars\n",
      "  delta2 = nrow * (mi_old - mi_new)\n",
      "c:\\Users\\anaxa\\Documents\\Projects\\Mixed-Learning-of-Bayesian-Networks\\bayesian\\redef_HC.py:260: RuntimeWarning: overflow encountered in double_scalars\n",
      "  delta_score = delta1 + delta2\n",
      "c:\\Users\\anaxa\\Documents\\Projects\\Mixed-Learning-of-Bayesian-Networks\\bayesian\\redef_HC.py:246: RuntimeWarning: overflow encountered in double_scalars\n",
      "  delta1 = -1* nrow * (mi_old - mi_new)\n",
      "c:\\Users\\anaxa\\Documents\\Projects\\Mixed-Learning-of-Bayesian-Networks\\bayesian\\redef_HC.py:258: RuntimeWarning: overflow encountered in double_scalars\n",
      "  delta2 = nrow * (mi_old - mi_new)\n",
      "c:\\Users\\anaxa\\Documents\\Projects\\Mixed-Learning-of-Bayesian-Networks\\bayesian\\redef_HC.py:246: RuntimeWarning: overflow encountered in double_scalars\n",
      "  delta1 = -1* nrow * (mi_old - mi_new)\n",
      "c:\\Users\\anaxa\\Documents\\Projects\\Mixed-Learning-of-Bayesian-Networks\\bayesian\\redef_HC.py:258: RuntimeWarning: overflow encountered in double_scalars\n",
      "  delta2 = nrow * (mi_old - mi_new)\n",
      "c:\\Users\\anaxa\\Documents\\Projects\\Mixed-Learning-of-Bayesian-Networks\\bayesian\\redef_HC.py:246: RuntimeWarning: overflow encountered in double_scalars\n",
      "  delta1 = -1* nrow * (mi_old - mi_new)\n",
      "c:\\Users\\anaxa\\Documents\\Projects\\Mixed-Learning-of-Bayesian-Networks\\bayesian\\redef_HC.py:258: RuntimeWarning: overflow encountered in double_scalars\n",
      "  delta2 = nrow * (mi_old - mi_new)\n",
      "c:\\Users\\anaxa\\Documents\\Projects\\Mixed-Learning-of-Bayesian-Networks\\bayesian\\redef_HC.py:246: RuntimeWarning: overflow encountered in double_scalars\n",
      "  delta1 = -1* nrow * (mi_old - mi_new)\n",
      "c:\\Users\\anaxa\\Documents\\Projects\\Mixed-Learning-of-Bayesian-Networks\\bayesian\\redef_HC.py:258: RuntimeWarning: overflow encountered in double_scalars\n",
      "  delta2 = nrow * (mi_old - mi_new)\n",
      "c:\\Users\\anaxa\\Documents\\Projects\\Mixed-Learning-of-Bayesian-Networks\\bayesian\\redef_HC.py:246: RuntimeWarning: overflow encountered in double_scalars\n",
      "  delta1 = -1* nrow * (mi_old - mi_new)\n",
      "c:\\Users\\anaxa\\Documents\\Projects\\Mixed-Learning-of-Bayesian-Networks\\bayesian\\redef_HC.py:258: RuntimeWarning: overflow encountered in double_scalars\n",
      "  delta2 = nrow * (mi_old - mi_new)\n",
      "c:\\Users\\anaxa\\Documents\\Projects\\Mixed-Learning-of-Bayesian-Networks\\bayesian\\redef_HC.py:246: RuntimeWarning: overflow encountered in double_scalars\n",
      "  delta1 = -1* nrow * (mi_old - mi_new)\n",
      "c:\\Users\\anaxa\\Documents\\Projects\\Mixed-Learning-of-Bayesian-Networks\\bayesian\\redef_HC.py:258: RuntimeWarning: overflow encountered in double_scalars\n",
      "  delta2 = nrow * (mi_old - mi_new)\n",
      "c:\\Users\\anaxa\\Documents\\Projects\\Mixed-Learning-of-Bayesian-Networks\\bayesian\\redef_HC.py:246: RuntimeWarning: overflow encountered in double_scalars\n",
      "  delta1 = -1* nrow * (mi_old - mi_new)\n",
      "c:\\Users\\anaxa\\Documents\\Projects\\Mixed-Learning-of-Bayesian-Networks\\bayesian\\redef_HC.py:258: RuntimeWarning: overflow encountered in double_scalars\n",
      "  delta2 = nrow * (mi_old - mi_new)\n",
      "c:\\Users\\anaxa\\Documents\\Projects\\Mixed-Learning-of-Bayesian-Networks\\bayesian\\redef_HC.py:246: RuntimeWarning: overflow encountered in double_scalars\n",
      "  delta1 = -1* nrow * (mi_old - mi_new)\n",
      "c:\\Users\\anaxa\\Documents\\Projects\\Mixed-Learning-of-Bayesian-Networks\\bayesian\\redef_HC.py:258: RuntimeWarning: overflow encountered in double_scalars\n",
      "  delta2 = nrow * (mi_old - mi_new)\n",
      "c:\\Users\\anaxa\\Documents\\Projects\\Mixed-Learning-of-Bayesian-Networks\\bayesian\\redef_HC.py:260: RuntimeWarning: overflow encountered in double_scalars\n",
      "  delta_score = delta1 + delta2\n",
      "c:\\Users\\anaxa\\Documents\\Projects\\Mixed-Learning-of-Bayesian-Networks\\bayesian\\redef_HC.py:246: RuntimeWarning: overflow encountered in double_scalars\n",
      "  delta1 = -1* nrow * (mi_old - mi_new)\n",
      "c:\\Users\\anaxa\\Documents\\Projects\\Mixed-Learning-of-Bayesian-Networks\\bayesian\\redef_HC.py:258: RuntimeWarning: overflow encountered in double_scalars\n",
      "  delta2 = nrow * (mi_old - mi_new)\n",
      "c:\\Users\\anaxa\\Documents\\Projects\\Mixed-Learning-of-Bayesian-Networks\\bayesian\\redef_HC.py:246: RuntimeWarning: overflow encountered in double_scalars\n",
      "  delta1 = -1* nrow * (mi_old - mi_new)\n",
      "c:\\Users\\anaxa\\Documents\\Projects\\Mixed-Learning-of-Bayesian-Networks\\bayesian\\redef_HC.py:258: RuntimeWarning: overflow encountered in double_scalars\n",
      "  delta2 = nrow * (mi_old - mi_new)\n",
      "c:\\Users\\anaxa\\Documents\\Projects\\Mixed-Learning-of-Bayesian-Networks\\bayesian\\redef_HC.py:246: RuntimeWarning: overflow encountered in double_scalars\n",
      "  delta1 = -1* nrow * (mi_old - mi_new)\n",
      "c:\\Users\\anaxa\\Documents\\Projects\\Mixed-Learning-of-Bayesian-Networks\\bayesian\\redef_HC.py:258: RuntimeWarning: overflow encountered in double_scalars\n",
      "  delta2 = nrow * (mi_old - mi_new)\n",
      "c:\\Users\\anaxa\\Documents\\Projects\\Mixed-Learning-of-Bayesian-Networks\\bayesian\\redef_HC.py:246: RuntimeWarning: overflow encountered in double_scalars\n",
      "  delta1 = -1* nrow * (mi_old - mi_new)\n",
      "c:\\Users\\anaxa\\Documents\\Projects\\Mixed-Learning-of-Bayesian-Networks\\bayesian\\redef_HC.py:258: RuntimeWarning: overflow encountered in double_scalars\n",
      "  delta2 = nrow * (mi_old - mi_new)\n",
      "c:\\Users\\anaxa\\Documents\\Projects\\Mixed-Learning-of-Bayesian-Networks\\bayesian\\redef_HC.py:246: RuntimeWarning: overflow encountered in double_scalars\n",
      "  delta1 = -1* nrow * (mi_old - mi_new)\n",
      "c:\\Users\\anaxa\\Documents\\Projects\\Mixed-Learning-of-Bayesian-Networks\\bayesian\\redef_HC.py:258: RuntimeWarning: overflow encountered in double_scalars\n",
      "  delta2 = nrow * (mi_old - mi_new)\n",
      "c:\\Users\\anaxa\\Documents\\Projects\\Mixed-Learning-of-Bayesian-Networks\\bayesian\\redef_HC.py:246: RuntimeWarning: overflow encountered in double_scalars\n",
      "  delta1 = -1* nrow * (mi_old - mi_new)\n",
      "c:\\Users\\anaxa\\Documents\\Projects\\Mixed-Learning-of-Bayesian-Networks\\bayesian\\redef_HC.py:258: RuntimeWarning: overflow encountered in double_scalars\n",
      "  delta2 = nrow * (mi_old - mi_new)\n",
      "c:\\Users\\anaxa\\Documents\\Projects\\Mixed-Learning-of-Bayesian-Networks\\bayesian\\redef_HC.py:246: RuntimeWarning: overflow encountered in double_scalars\n",
      "  delta1 = -1* nrow * (mi_old - mi_new)\n",
      "c:\\Users\\anaxa\\Documents\\Projects\\Mixed-Learning-of-Bayesian-Networks\\bayesian\\redef_HC.py:258: RuntimeWarning: overflow encountered in double_scalars\n",
      "  delta2 = nrow * (mi_old - mi_new)\n",
      "c:\\Users\\anaxa\\Documents\\Projects\\Mixed-Learning-of-Bayesian-Networks\\bayesian\\redef_HC.py:246: RuntimeWarning: overflow encountered in double_scalars\n",
      "  delta1 = -1* nrow * (mi_old - mi_new)\n",
      "c:\\Users\\anaxa\\Documents\\Projects\\Mixed-Learning-of-Bayesian-Networks\\bayesian\\redef_HC.py:258: RuntimeWarning: overflow encountered in double_scalars\n",
      "  delta2 = nrow * (mi_old - mi_new)\n"
     ]
    }
   ],
   "source": [
    "bn_geo = structure_learning(geo_coded, 'HC', 'MI', geo_new_types)"
   ]
  },
  {
   "cell_type": "code",
   "execution_count": 274,
   "metadata": {},
   "outputs": [
    {
     "output_type": "display_data",
     "data": {
      "text/plain": "<Figure size 2025x225 with 1 Axes>",
      "image/svg+xml": "<?xml version=\"1.0\" encoding=\"utf-8\" standalone=\"no\"?>\r\n<!DOCTYPE svg PUBLIC \"-//W3C//DTD SVG 1.1//EN\"\r\n  \"http://www.w3.org/Graphics/SVG/1.1/DTD/svg11.dtd\">\r\n<!-- Created with matplotlib (https://matplotlib.org/) -->\r\n<svg height=\"100.8pt\" version=\"1.1\" viewBox=\"0 0 964.8 100.8\" width=\"964.8pt\" xmlns=\"http://www.w3.org/2000/svg\" xmlns:xlink=\"http://www.w3.org/1999/xlink\">\r\n <metadata>\r\n  <rdf:RDF xmlns:cc=\"http://creativecommons.org/ns#\" xmlns:dc=\"http://purl.org/dc/elements/1.1/\" xmlns:rdf=\"http://www.w3.org/1999/02/22-rdf-syntax-ns#\">\r\n   <cc:Work>\r\n    <dc:type rdf:resource=\"http://purl.org/dc/dcmitype/StillImage\"/>\r\n    <dc:date>2021-05-02T20:16:55.502942</dc:date>\r\n    <dc:format>image/svg+xml</dc:format>\r\n    <dc:creator>\r\n     <cc:Agent>\r\n      <dc:title>Matplotlib v3.3.4, https://matplotlib.org/</dc:title>\r\n     </cc:Agent>\r\n    </dc:creator>\r\n   </cc:Work>\r\n  </rdf:RDF>\r\n </metadata>\r\n <defs>\r\n  <style type=\"text/css\">*{stroke-linecap:butt;stroke-linejoin:round;}</style>\r\n </defs>\r\n <g id=\"figure_1\">\r\n  <g id=\"patch_1\">\r\n   <path d=\"M 0 100.8 \r\nL 964.8 100.8 \r\nL 964.8 0 \r\nL 0 0 \r\nz\r\n\" style=\"fill:none;\"/>\r\n  </g>\r\n  <g id=\"axes_1\">\r\n   <g id=\"legend_1\">\r\n    <g id=\"patch_2\">\r\n     <path d=\"M 421.545312 59.239062 \r\nL 543.254687 59.239062 \r\nQ 545.254687 59.239062 545.254687 57.239062 \r\nL 545.254687 43.560937 \r\nQ 545.254687 41.560937 543.254687 41.560937 \r\nL 421.545312 41.560937 \r\nQ 419.545312 41.560937 419.545312 43.560937 \r\nL 419.545312 57.239062 \r\nQ 419.545312 59.239062 421.545312 59.239062 \r\nz\r\n\" style=\"fill:#ffffff;opacity:0.8;stroke:#cccccc;stroke-linejoin:miter;\"/>\r\n    </g>\r\n    <g id=\"patch_3\">\r\n     <path d=\"M 423.545312 53.159375 \r\nL 443.545312 53.159375 \r\nL 443.545312 46.159375 \r\nL 423.545312 46.159375 \r\nz\r\n\" style=\"fill:#d62728;stroke:#d62728;stroke-linejoin:miter;\"/>\r\n    </g>\r\n    <g id=\"text_1\">\r\n     <!-- disc -->\r\n     <g transform=\"translate(451.545312 53.159375)scale(0.1 -0.1)\">\r\n      <defs>\r\n       <path d=\"M 45.40625 46.390625 \r\nL 45.40625 75.984375 \r\nL 54.390625 75.984375 \r\nL 54.390625 0 \r\nL 45.40625 0 \r\nL 45.40625 8.203125 \r\nQ 42.578125 3.328125 38.25 0.953125 \r\nQ 33.9375 -1.421875 27.875 -1.421875 \r\nQ 17.96875 -1.421875 11.734375 6.484375 \r\nQ 5.515625 14.40625 5.515625 27.296875 \r\nQ 5.515625 40.1875 11.734375 48.09375 \r\nQ 17.96875 56 27.875 56 \r\nQ 33.9375 56 38.25 53.625 \r\nQ 42.578125 51.265625 45.40625 46.390625 \r\nz\r\nM 14.796875 27.296875 \r\nQ 14.796875 17.390625 18.875 11.75 \r\nQ 22.953125 6.109375 30.078125 6.109375 \r\nQ 37.203125 6.109375 41.296875 11.75 \r\nQ 45.40625 17.390625 45.40625 27.296875 \r\nQ 45.40625 37.203125 41.296875 42.84375 \r\nQ 37.203125 48.484375 30.078125 48.484375 \r\nQ 22.953125 48.484375 18.875 42.84375 \r\nQ 14.796875 37.203125 14.796875 27.296875 \r\nz\r\n\" id=\"DejaVuSans-100\"/>\r\n       <path d=\"M 9.421875 54.6875 \r\nL 18.40625 54.6875 \r\nL 18.40625 0 \r\nL 9.421875 0 \r\nz\r\nM 9.421875 75.984375 \r\nL 18.40625 75.984375 \r\nL 18.40625 64.59375 \r\nL 9.421875 64.59375 \r\nz\r\n\" id=\"DejaVuSans-105\"/>\r\n       <path d=\"M 44.28125 53.078125 \r\nL 44.28125 44.578125 \r\nQ 40.484375 46.53125 36.375 47.5 \r\nQ 32.28125 48.484375 27.875 48.484375 \r\nQ 21.1875 48.484375 17.84375 46.4375 \r\nQ 14.5 44.390625 14.5 40.28125 \r\nQ 14.5 37.15625 16.890625 35.375 \r\nQ 19.28125 33.59375 26.515625 31.984375 \r\nL 29.59375 31.296875 \r\nQ 39.15625 29.25 43.1875 25.515625 \r\nQ 47.21875 21.78125 47.21875 15.09375 \r\nQ 47.21875 7.46875 41.1875 3.015625 \r\nQ 35.15625 -1.421875 24.609375 -1.421875 \r\nQ 20.21875 -1.421875 15.453125 -0.5625 \r\nQ 10.6875 0.296875 5.421875 2 \r\nL 5.421875 11.28125 \r\nQ 10.40625 8.6875 15.234375 7.390625 \r\nQ 20.0625 6.109375 24.8125 6.109375 \r\nQ 31.15625 6.109375 34.5625 8.28125 \r\nQ 37.984375 10.453125 37.984375 14.40625 \r\nQ 37.984375 18.0625 35.515625 20.015625 \r\nQ 33.0625 21.96875 24.703125 23.78125 \r\nL 21.578125 24.515625 \r\nQ 13.234375 26.265625 9.515625 29.90625 \r\nQ 5.8125 33.546875 5.8125 39.890625 \r\nQ 5.8125 47.609375 11.28125 51.796875 \r\nQ 16.75 56 26.8125 56 \r\nQ 31.78125 56 36.171875 55.265625 \r\nQ 40.578125 54.546875 44.28125 53.078125 \r\nz\r\n\" id=\"DejaVuSans-115\"/>\r\n       <path d=\"M 48.78125 52.59375 \r\nL 48.78125 44.1875 \r\nQ 44.96875 46.296875 41.140625 47.34375 \r\nQ 37.3125 48.390625 33.40625 48.390625 \r\nQ 24.65625 48.390625 19.8125 42.84375 \r\nQ 14.984375 37.3125 14.984375 27.296875 \r\nQ 14.984375 17.28125 19.8125 11.734375 \r\nQ 24.65625 6.203125 33.40625 6.203125 \r\nQ 37.3125 6.203125 41.140625 7.25 \r\nQ 44.96875 8.296875 48.78125 10.40625 \r\nL 48.78125 2.09375 \r\nQ 45.015625 0.34375 40.984375 -0.53125 \r\nQ 36.96875 -1.421875 32.421875 -1.421875 \r\nQ 20.0625 -1.421875 12.78125 6.34375 \r\nQ 5.515625 14.109375 5.515625 27.296875 \r\nQ 5.515625 40.671875 12.859375 48.328125 \r\nQ 20.21875 56 33.015625 56 \r\nQ 37.15625 56 41.109375 55.140625 \r\nQ 45.0625 54.296875 48.78125 52.59375 \r\nz\r\n\" id=\"DejaVuSans-99\"/>\r\n      </defs>\r\n      <use xlink:href=\"#DejaVuSans-100\"/>\r\n      <use x=\"63.476562\" xlink:href=\"#DejaVuSans-105\"/>\r\n      <use x=\"91.259766\" xlink:href=\"#DejaVuSans-115\"/>\r\n      <use x=\"143.359375\" xlink:href=\"#DejaVuSans-99\"/>\r\n     </g>\r\n    </g>\r\n    <g id=\"patch_4\">\r\n     <path d=\"M 491.379687 53.159375 \r\nL 511.379687 53.159375 \r\nL 511.379687 46.159375 \r\nL 491.379687 46.159375 \r\nz\r\n\" style=\"fill:#7f7f7f;stroke:#7f7f7f;stroke-linejoin:miter;\"/>\r\n    </g>\r\n    <g id=\"text_2\">\r\n     <!-- cont -->\r\n     <g transform=\"translate(519.379687 53.159375)scale(0.1 -0.1)\">\r\n      <defs>\r\n       <path d=\"M 30.609375 48.390625 \r\nQ 23.390625 48.390625 19.1875 42.75 \r\nQ 14.984375 37.109375 14.984375 27.296875 \r\nQ 14.984375 17.484375 19.15625 11.84375 \r\nQ 23.34375 6.203125 30.609375 6.203125 \r\nQ 37.796875 6.203125 41.984375 11.859375 \r\nQ 46.1875 17.53125 46.1875 27.296875 \r\nQ 46.1875 37.015625 41.984375 42.703125 \r\nQ 37.796875 48.390625 30.609375 48.390625 \r\nz\r\nM 30.609375 56 \r\nQ 42.328125 56 49.015625 48.375 \r\nQ 55.71875 40.765625 55.71875 27.296875 \r\nQ 55.71875 13.875 49.015625 6.21875 \r\nQ 42.328125 -1.421875 30.609375 -1.421875 \r\nQ 18.84375 -1.421875 12.171875 6.21875 \r\nQ 5.515625 13.875 5.515625 27.296875 \r\nQ 5.515625 40.765625 12.171875 48.375 \r\nQ 18.84375 56 30.609375 56 \r\nz\r\n\" id=\"DejaVuSans-111\"/>\r\n       <path d=\"M 54.890625 33.015625 \r\nL 54.890625 0 \r\nL 45.90625 0 \r\nL 45.90625 32.71875 \r\nQ 45.90625 40.484375 42.875 44.328125 \r\nQ 39.84375 48.1875 33.796875 48.1875 \r\nQ 26.515625 48.1875 22.3125 43.546875 \r\nQ 18.109375 38.921875 18.109375 30.90625 \r\nL 18.109375 0 \r\nL 9.078125 0 \r\nL 9.078125 54.6875 \r\nL 18.109375 54.6875 \r\nL 18.109375 46.1875 \r\nQ 21.34375 51.125 25.703125 53.5625 \r\nQ 30.078125 56 35.796875 56 \r\nQ 45.21875 56 50.046875 50.171875 \r\nQ 54.890625 44.34375 54.890625 33.015625 \r\nz\r\n\" id=\"DejaVuSans-110\"/>\r\n       <path d=\"M 18.3125 70.21875 \r\nL 18.3125 54.6875 \r\nL 36.8125 54.6875 \r\nL 36.8125 47.703125 \r\nL 18.3125 47.703125 \r\nL 18.3125 18.015625 \r\nQ 18.3125 11.328125 20.140625 9.421875 \r\nQ 21.96875 7.515625 27.59375 7.515625 \r\nL 36.8125 7.515625 \r\nL 36.8125 0 \r\nL 27.59375 0 \r\nQ 17.1875 0 13.234375 3.875 \r\nQ 9.28125 7.765625 9.28125 18.015625 \r\nL 9.28125 47.703125 \r\nL 2.6875 47.703125 \r\nL 2.6875 54.6875 \r\nL 9.28125 54.6875 \r\nL 9.28125 70.21875 \r\nz\r\n\" id=\"DejaVuSans-116\"/>\r\n      </defs>\r\n      <use xlink:href=\"#DejaVuSans-99\"/>\r\n      <use x=\"54.980469\" xlink:href=\"#DejaVuSans-111\"/>\r\n      <use x=\"116.162109\" xlink:href=\"#DejaVuSans-110\"/>\r\n      <use x=\"179.541016\" xlink:href=\"#DejaVuSans-116\"/>\r\n     </g>\r\n    </g>\r\n   </g>\r\n  </g>\r\n </g>\r\n</svg>\r\n",
      "image/png": "[encoded data removed]"
     },
     "metadata": {
      "needs_background": "light"
     }
    },
    {
     "output_type": "execute_result",
     "data": {
      "text/plain": [
       "<IPython.lib.display.IFrame at 0x2ddf168b910>"
      ],
      "text/html": "\n        <iframe\n            width=\"100%\"\n            height=\"800px\"\n            src=\"../visualization_result/geo_net.html\"\n            frameborder=\"0\"\n            allowfullscreen\n        ></iframe>\n        "
     },
     "metadata": {},
     "execution_count": 274
    }
   ],
   "source": [
    "draw_BN(bn_geo, geo_types, 'geo_net')"
   ]
  },
  {
   "cell_type": "code",
   "execution_count": 275,
   "metadata": {},
   "outputs": [],
   "source": [
    "params = parameter_learning(geo_only_discrete, geo_new_types, bn_geo)"
   ]
  },
  {
   "cell_type": "code",
   "execution_count": 276,
   "metadata": {},
   "outputs": [],
   "source": [
    "save_structure(bn_geo, 'geo_net')\n",
    "skel = read_structure('geo_net')\n",
    "save_params(params, 'geo_net_param')\n",
    "params = read_params('geo_net_param')\n",
    "geo_bn = HyBayesianNetwork(skel, params)"
   ]
  },
  {
   "cell_type": "code",
   "execution_count": 277,
   "metadata": {},
   "outputs": [
    {
     "output_type": "stream",
     "name": "stderr",
     "text": [
      "C:\\Users\\anaxa\\AppData\\Local\\Programs\\Python\\Python38\\lib\\site-packages\\sklearn\\metrics\\_classification.py:208: FutureWarning: elementwise comparison failed; returning scalar instead, but in the future will perform elementwise comparison\n  score = y_true == y_pred\nC:\\Users\\anaxa\\AppData\\Local\\Programs\\Python\\Python38\\lib\\site-packages\\sklearn\\metrics\\_classification.py:208: FutureWarning: elementwise comparison failed; returning scalar instead, but in the future will perform elementwise comparison\n  score = y_true == y_pred\nC:\\Users\\anaxa\\AppData\\Local\\Programs\\Python\\Python38\\lib\\site-packages\\sklearn\\metrics\\_classification.py:208: FutureWarning: elementwise comparison failed; returning scalar instead, but in the future will perform elementwise comparison\n  score = y_true == y_pred\nC:\\Users\\anaxa\\AppData\\Local\\Programs\\Python\\Python38\\lib\\site-packages\\sklearn\\metrics\\_classification.py:208: FutureWarning: elementwise comparison failed; returning scalar instead, but in the future will perform elementwise comparison\n  score = y_true == y_pred\n"
     ]
    }
   ],
   "source": [
    "acc, rmse, real, pred = calculate_acc(geo_bn, test_discrete, columns)"
   ]
  },
  {
   "cell_type": "code",
   "execution_count": 278,
   "metadata": {},
   "outputs": [
    {
     "output_type": "execute_result",
     "data": {
      "text/plain": [
       "{'sex': 0.56,\n",
       " 'relation': 0.26,\n",
       " 'is_parent': 0.74,\n",
       " 'has_pets': 0.95,\n",
       " 'age': 0.0,\n",
       " 'mean_tr': 0.0,\n",
       " 'median_tr': 0.0,\n",
       " 'tr_per_month': 0.0}"
      ]
     },
     "metadata": {},
     "execution_count": 278
    }
   ],
   "source": [
    "acc"
   ]
  },
  {
   "cell_type": "code",
   "execution_count": 279,
   "metadata": {},
   "outputs": [],
   "source": [
    "for key in colums_for_code:\n",
    "    df_result_accuracy = df_result_accuracy.append({'Parameter': key, 'Strategy': 'HC', 'Alg':'M+D','accuracy':acc[key]}, ignore_index=True)"
   ]
  },
  {
   "cell_type": "code",
   "execution_count": 280,
   "metadata": {},
   "outputs": [],
   "source": [
    "invers_real = inverse_discretization(pd.DataFrame(np.transpose(real[4:8]), columns=['age', 'mean_tr', 'median_tr', 'tr_per_month']), ['age', 'mean_tr', 'median_tr', 'tr_per_month'], discrete_coder)"
   ]
  },
  {
   "cell_type": "code",
   "execution_count": 281,
   "metadata": {},
   "outputs": [],
   "source": [
    "invers_pred = inverse_discretization(pd.DataFrame(np.transpose(pred[4:8]), columns=['age', 'mean_tr', 'median_tr', 'tr_per_month']), ['age', 'mean_tr', 'median_tr', 'tr_per_month'], discrete_coder)"
   ]
  },
  {
   "cell_type": "code",
   "execution_count": 282,
   "metadata": {},
   "outputs": [],
   "source": [
    "m = mean_squared_error(invers_real['age'], invers_pred['age'], squared=False)\n",
    "df_result_rmse = df_result_rmse.append({'Parameter': 'age', 'Strategy': 'HC', 'Alg':'M+D','rmse':m}, ignore_index=True)"
   ]
  },
  {
   "cell_type": "code",
   "execution_count": 283,
   "metadata": {},
   "outputs": [],
   "source": [
    "m = mean_squared_error(invers_real['mean_tr'], invers_pred['mean_tr'], squared=False)\n",
    "df_result_rmse = df_result_rmse.append({'Parameter': 'mean_tr', 'Strategy': 'HC', 'Alg':'M+D','rmse':m}, ignore_index=True)"
   ]
  },
  {
   "cell_type": "code",
   "execution_count": 284,
   "metadata": {},
   "outputs": [],
   "source": [
    "m = mean_squared_error(invers_real['median_tr'], invers_pred['median_tr'], squared=False)\n",
    "df_result_rmse = df_result_rmse.append({'Parameter': 'median_tr', 'Strategy': 'HC', 'Alg':'M+D','rmse':m}, ignore_index=True)"
   ]
  },
  {
   "cell_type": "code",
   "execution_count": 285,
   "metadata": {},
   "outputs": [],
   "source": [
    "m = mean_squared_error(invers_real['tr_per_month'], invers_pred['tr_per_month'], squared=False)\n",
    "df_result_rmse = df_result_rmse.append({'Parameter': 'tr_per_month', 'Strategy': 'HC', 'Alg':'M+D','rmse':m}, ignore_index=True)"
   ]
  },
  {
   "source": [
    "# EVO"
   ],
   "cell_type": "markdown",
   "metadata": {}
  },
  {
   "source": [
    "# Дискретная стурктура + смешанные параметры"
   ],
   "cell_type": "markdown",
   "metadata": {}
  },
  {
   "cell_type": "code",
   "execution_count": 286,
   "metadata": {},
   "outputs": [
    {
     "output_type": "stream",
     "name": "stdout",
     "text": [
      "Cannot add to history: 'str' object has no attribute 'operation_type'\n",
      "Best metric is 7.1323\n",
      "Generation num: 0\n",
      "max_depth: 3, no improvements: 0\n",
      "Number of crossover attempts exceeded. Please check composer requirements for correctness.\n",
      "Cannot add to history: 'str' object has no attribute 'operation_type'\n",
      "spent time: 0.1 min\n",
      "Best metric is 6.634799999999999\n",
      "Generation num: 1\n",
      "max_depth: 3, no improvements: 0\n",
      "Number of crossover attempts exceeded. Please check composer requirements for correctness.\n",
      "Cannot add to history: 'str' object has no attribute 'operation_type'\n",
      "spent time: 0.1 min\n",
      "Best metric is 6.634799999999999\n",
      "Generation num: 2\n",
      "max_depth: 3, no improvements: 1\n",
      "Number of crossover attempts exceeded. Please check composer requirements for correctness.\n",
      "Cannot add to history: 'str' object has no attribute 'operation_type'\n",
      "spent time: 0.2 min\n",
      "Best metric is 5.5658\n",
      "Generation num: 3\n",
      "max_depth: 3, no improvements: 0\n",
      "Cannot add to history: 'str' object has no attribute 'operation_type'\n",
      "spent time: 0.2 min\n",
      "Best metric is 5.5658\n",
      "Generation num: 4\n",
      "max_depth: 3, no improvements: 1\n",
      "Number of mutation attempts exceeded. Please check composer requirements for correctness.\n",
      "Cannot add to history: 'str' object has no attribute 'operation_type'\n",
      "spent time: 0.3 min\n",
      "Best metric is 5.5658\n",
      "Generation num: 5\n",
      "max_depth: 3, no improvements: 2\n",
      "Number of mutation attempts exceeded. Please check composer requirements for correctness.\n",
      "Cannot add to history: 'str' object has no attribute 'operation_type'\n",
      "spent time: 0.3 min\n",
      "Best metric is 5.565799999999999\n",
      "Generation num: 6\n",
      "max_depth: 3, no improvements: 3\n",
      "Cannot add to history: 'str' object has no attribute 'operation_type'\n",
      "spent time: 0.4 min\n",
      "Best metric is 5.565799999999999\n",
      "Generation num: 7\n",
      "max_depth: 3, no improvements: 4\n",
      "Number of mutation attempts exceeded. Please check composer requirements for correctness.\n",
      "Cannot add to history: 'str' object has no attribute 'operation_type'\n",
      "spent time: 0.5 min\n",
      "Best metric is 5.565799999999999\n",
      "Generation num: 8\n",
      "max_depth: 3, no improvements: 5\n",
      "Number of mutation attempts exceeded. Please check composer requirements for correctness.\n",
      "Number of mutation attempts exceeded. Please check composer requirements for correctness.\n",
      "Cannot add to history: 'str' object has no attribute 'operation_type'\n",
      "spent time: 0.6 min\n",
      "Best metric is 5.5371\n",
      "Generation num: 9\n",
      "max_depth: 3, no improvements: 0\n",
      "Cannot add to history: 'str' object has no attribute 'operation_type'\n",
      "spent time: 0.7 min\n",
      "Best metric is 5.5371\n",
      "Generation num: 10\n",
      "max_depth: 3, no improvements: 1\n",
      "Number of mutation attempts exceeded. Please check composer requirements for correctness.\n",
      "Cannot add to history: 'str' object has no attribute 'operation_type'\n",
      "spent time: 0.7 min\n",
      "Best metric is 5.5371\n",
      "Generation num: 11\n",
      "max_depth: 3, no improvements: 2\n",
      "Number of mutation attempts exceeded. Please check composer requirements for correctness.\n",
      "Cannot add to history: 'str' object has no attribute 'operation_type'\n",
      "spent time: 0.8 min\n",
      "Best metric is 5.5371\n",
      "Generation num: 12\n",
      "max_depth: 3, no improvements: 3\n",
      "Cannot add to history: 'str' object has no attribute 'operation_type'\n",
      "spent time: 0.9 min\n",
      "Best metric is 5.5371\n",
      "Generation num: 13\n",
      "max_depth: 3, no improvements: 4\n",
      "Cannot add to history: 'str' object has no attribute 'operation_type'\n",
      "spent time: 0.9 min\n",
      "Best metric is 5.5371\n",
      "Generation num: 14\n",
      "max_depth: 3, no improvements: 5\n",
      "Cannot add to history: 'str' object has no attribute 'operation_type'\n",
      "spent time: 1.0 min\n",
      "Best metric is 5.5371\n",
      "Generation num: 15\n",
      "max_depth: 3, no improvements: 6\n",
      "Number of mutation attempts exceeded. Please check composer requirements for correctness.\n",
      "Number of mutation attempts exceeded. Please check composer requirements for correctness.\n",
      "Cannot add to history: 'str' object has no attribute 'operation_type'\n",
      "spent time: 1.1 min\n",
      "Best metric is 5.5371\n",
      "Generation num: 16\n",
      "max_depth: 3, no improvements: 7\n",
      "Number of mutation attempts exceeded. Please check composer requirements for correctness.\n",
      "Number of mutation attempts exceeded. Please check composer requirements for correctness.\n",
      "Number of mutation attempts exceeded. Please check composer requirements for correctness.\n",
      "Cannot add to history: 'str' object has no attribute 'operation_type'\n",
      "spent time: 1.1 min\n",
      "Best metric is 5.5371\n",
      "Generation num: 17\n",
      "max_depth: 3, no improvements: 8\n",
      "Cannot add to history: 'str' object has no attribute 'operation_type'\n",
      "spent time: 1.2 min\n",
      "Best metric is 5.5371\n",
      "Generation num: 18\n",
      "max_depth: 3, no improvements: 9\n",
      "Number of mutation attempts exceeded. Please check composer requirements for correctness.\n",
      "Cannot add to history: 'str' object has no attribute 'operation_type'\n",
      "spent time: 1.3 min\n",
      "Best metric is 5.196199999999999\n",
      "Generation num: 19\n",
      "max_depth: 3, no improvements: 0\n",
      "Cannot add to history: 'str' object has no attribute 'operation_type'\n",
      "spent time: 1.3 min\n",
      "Best metric is 5.196199999999999\n",
      "Generation num: 20\n",
      "max_depth: 3, no improvements: 1\n",
      "Cannot add to history: 'str' object has no attribute 'operation_type'\n",
      "spent time: 1.4 min\n",
      "Best metric is 5.196199999999999\n",
      "Generation num: 21\n",
      "max_depth: 3, no improvements: 2\n",
      "Number of mutation attempts exceeded. Please check composer requirements for correctness.\n",
      "Cannot add to history: 'str' object has no attribute 'operation_type'\n",
      "spent time: 1.5 min\n",
      "Best metric is 5.196199999999999\n",
      "Generation num: 22\n",
      "max_depth: 3, no improvements: 3\n",
      "Cannot add to history: 'str' object has no attribute 'operation_type'\n",
      "spent time: 1.5 min\n",
      "Best metric is 5.196199999999999\n",
      "Generation num: 23\n",
      "max_depth: 3, no improvements: 4\n",
      "Cannot add to history: 'str' object has no attribute 'operation_type'\n",
      "spent time: 1.6 min\n",
      "Best metric is 5.1945\n",
      "Generation num: 24\n",
      "max_depth: 3, no improvements: 0\n",
      "Number of mutation attempts exceeded. Please check composer requirements for correctness.\n",
      "Number of mutation attempts exceeded. Please check composer requirements for correctness.\n",
      "Cannot add to history: 'str' object has no attribute 'operation_type'\n",
      "spent time: 1.7 min\n",
      "Best metric is 5.1945\n",
      "Generation num: 25\n",
      "max_depth: 3, no improvements: 1\n",
      "Number of mutation attempts exceeded. Please check composer requirements for correctness.\n",
      "Cannot add to history: 'str' object has no attribute 'operation_type'\n",
      "spent time: 1.8 min\n",
      "Best metric is 5.1945\n",
      "Generation num: 26\n",
      "max_depth: 3, no improvements: 2\n",
      "Cannot add to history: 'str' object has no attribute 'operation_type'\n",
      "spent time: 1.9 min\n",
      "Best metric is 5.194499999999999\n",
      "Generation num: 27\n",
      "max_depth: 3, no improvements: 3\n",
      "Cannot add to history: 'str' object has no attribute 'operation_type'\n",
      "spent time: 2.0 min\n",
      "Best metric is 5.194499999999999\n",
      "Generation num: 28\n",
      "max_depth: 3, no improvements: 4\n",
      "Cannot add to history: 'str' object has no attribute 'operation_type'\n",
      "spent time: 2.0 min\n",
      "Best metric is 5.194499999999999\n",
      "Result:\n",
      "Best metric is 5.194499999999999\n",
      "Composition time: 2.041 min\n"
     ]
    }
   ],
   "source": [
    "bn_geo = structure_learning(geo_discrete, 'evo', 'MI', geo_types)"
   ]
  },
  {
   "cell_type": "code",
   "execution_count": 287,
   "metadata": {},
   "outputs": [
    {
     "output_type": "display_data",
     "data": {
      "text/plain": "<Figure size 2025x225 with 1 Axes>",
      "image/svg+xml": "<?xml version=\"1.0\" encoding=\"utf-8\" standalone=\"no\"?>\r\n<!DOCTYPE svg PUBLIC \"-//W3C//DTD SVG 1.1//EN\"\r\n  \"http://www.w3.org/Graphics/SVG/1.1/DTD/svg11.dtd\">\r\n<!-- Created with matplotlib (https://matplotlib.org/) -->\r\n<svg height=\"100.8pt\" version=\"1.1\" viewBox=\"0 0 964.8 100.8\" width=\"964.8pt\" xmlns=\"http://www.w3.org/2000/svg\" xmlns:xlink=\"http://www.w3.org/1999/xlink\">\r\n <metadata>\r\n  <rdf:RDF xmlns:cc=\"http://creativecommons.org/ns#\" xmlns:dc=\"http://purl.org/dc/elements/1.1/\" xmlns:rdf=\"http://www.w3.org/1999/02/22-rdf-syntax-ns#\">\r\n   <cc:Work>\r\n    <dc:type rdf:resource=\"http://purl.org/dc/dcmitype/StillImage\"/>\r\n    <dc:date>2021-05-02T20:21:28.098541</dc:date>\r\n    <dc:format>image/svg+xml</dc:format>\r\n    <dc:creator>\r\n     <cc:Agent>\r\n      <dc:title>Matplotlib v3.3.4, https://matplotlib.org/</dc:title>\r\n     </cc:Agent>\r\n    </dc:creator>\r\n   </cc:Work>\r\n  </rdf:RDF>\r\n </metadata>\r\n <defs>\r\n  <style type=\"text/css\">*{stroke-linecap:butt;stroke-linejoin:round;}</style>\r\n </defs>\r\n <g id=\"figure_1\">\r\n  <g id=\"patch_1\">\r\n   <path d=\"M 0 100.8 \r\nL 964.8 100.8 \r\nL 964.8 0 \r\nL 0 0 \r\nz\r\n\" style=\"fill:none;\"/>\r\n  </g>\r\n  <g id=\"axes_1\">\r\n   <g id=\"legend_1\">\r\n    <g id=\"patch_2\">\r\n     <path d=\"M 421.545312 59.239062 \r\nL 543.254687 59.239062 \r\nQ 545.254687 59.239062 545.254687 57.239062 \r\nL 545.254687 43.560937 \r\nQ 545.254687 41.560937 543.254687 41.560937 \r\nL 421.545312 41.560937 \r\nQ 419.545312 41.560937 419.545312 43.560937 \r\nL 419.545312 57.239062 \r\nQ 419.545312 59.239062 421.545312 59.239062 \r\nz\r\n\" style=\"fill:#ffffff;opacity:0.8;stroke:#cccccc;stroke-linejoin:miter;\"/>\r\n    </g>\r\n    <g id=\"patch_3\">\r\n     <path d=\"M 423.545312 53.159375 \r\nL 443.545312 53.159375 \r\nL 443.545312 46.159375 \r\nL 423.545312 46.159375 \r\nz\r\n\" style=\"fill:#d62728;stroke:#d62728;stroke-linejoin:miter;\"/>\r\n    </g>\r\n    <g id=\"text_1\">\r\n     <!-- disc -->\r\n     <g transform=\"translate(451.545312 53.159375)scale(0.1 -0.1)\">\r\n      <defs>\r\n       <path d=\"M 45.40625 46.390625 \r\nL 45.40625 75.984375 \r\nL 54.390625 75.984375 \r\nL 54.390625 0 \r\nL 45.40625 0 \r\nL 45.40625 8.203125 \r\nQ 42.578125 3.328125 38.25 0.953125 \r\nQ 33.9375 -1.421875 27.875 -1.421875 \r\nQ 17.96875 -1.421875 11.734375 6.484375 \r\nQ 5.515625 14.40625 5.515625 27.296875 \r\nQ 5.515625 40.1875 11.734375 48.09375 \r\nQ 17.96875 56 27.875 56 \r\nQ 33.9375 56 38.25 53.625 \r\nQ 42.578125 51.265625 45.40625 46.390625 \r\nz\r\nM 14.796875 27.296875 \r\nQ 14.796875 17.390625 18.875 11.75 \r\nQ 22.953125 6.109375 30.078125 6.109375 \r\nQ 37.203125 6.109375 41.296875 11.75 \r\nQ 45.40625 17.390625 45.40625 27.296875 \r\nQ 45.40625 37.203125 41.296875 42.84375 \r\nQ 37.203125 48.484375 30.078125 48.484375 \r\nQ 22.953125 48.484375 18.875 42.84375 \r\nQ 14.796875 37.203125 14.796875 27.296875 \r\nz\r\n\" id=\"DejaVuSans-100\"/>\r\n       <path d=\"M 9.421875 54.6875 \r\nL 18.40625 54.6875 \r\nL 18.40625 0 \r\nL 9.421875 0 \r\nz\r\nM 9.421875 75.984375 \r\nL 18.40625 75.984375 \r\nL 18.40625 64.59375 \r\nL 9.421875 64.59375 \r\nz\r\n\" id=\"DejaVuSans-105\"/>\r\n       <path d=\"M 44.28125 53.078125 \r\nL 44.28125 44.578125 \r\nQ 40.484375 46.53125 36.375 47.5 \r\nQ 32.28125 48.484375 27.875 48.484375 \r\nQ 21.1875 48.484375 17.84375 46.4375 \r\nQ 14.5 44.390625 14.5 40.28125 \r\nQ 14.5 37.15625 16.890625 35.375 \r\nQ 19.28125 33.59375 26.515625 31.984375 \r\nL 29.59375 31.296875 \r\nQ 39.15625 29.25 43.1875 25.515625 \r\nQ 47.21875 21.78125 47.21875 15.09375 \r\nQ 47.21875 7.46875 41.1875 3.015625 \r\nQ 35.15625 -1.421875 24.609375 -1.421875 \r\nQ 20.21875 -1.421875 15.453125 -0.5625 \r\nQ 10.6875 0.296875 5.421875 2 \r\nL 5.421875 11.28125 \r\nQ 10.40625 8.6875 15.234375 7.390625 \r\nQ 20.0625 6.109375 24.8125 6.109375 \r\nQ 31.15625 6.109375 34.5625 8.28125 \r\nQ 37.984375 10.453125 37.984375 14.40625 \r\nQ 37.984375 18.0625 35.515625 20.015625 \r\nQ 33.0625 21.96875 24.703125 23.78125 \r\nL 21.578125 24.515625 \r\nQ 13.234375 26.265625 9.515625 29.90625 \r\nQ 5.8125 33.546875 5.8125 39.890625 \r\nQ 5.8125 47.609375 11.28125 51.796875 \r\nQ 16.75 56 26.8125 56 \r\nQ 31.78125 56 36.171875 55.265625 \r\nQ 40.578125 54.546875 44.28125 53.078125 \r\nz\r\n\" id=\"DejaVuSans-115\"/>\r\n       <path d=\"M 48.78125 52.59375 \r\nL 48.78125 44.1875 \r\nQ 44.96875 46.296875 41.140625 47.34375 \r\nQ 37.3125 48.390625 33.40625 48.390625 \r\nQ 24.65625 48.390625 19.8125 42.84375 \r\nQ 14.984375 37.3125 14.984375 27.296875 \r\nQ 14.984375 17.28125 19.8125 11.734375 \r\nQ 24.65625 6.203125 33.40625 6.203125 \r\nQ 37.3125 6.203125 41.140625 7.25 \r\nQ 44.96875 8.296875 48.78125 10.40625 \r\nL 48.78125 2.09375 \r\nQ 45.015625 0.34375 40.984375 -0.53125 \r\nQ 36.96875 -1.421875 32.421875 -1.421875 \r\nQ 20.0625 -1.421875 12.78125 6.34375 \r\nQ 5.515625 14.109375 5.515625 27.296875 \r\nQ 5.515625 40.671875 12.859375 48.328125 \r\nQ 20.21875 56 33.015625 56 \r\nQ 37.15625 56 41.109375 55.140625 \r\nQ 45.0625 54.296875 48.78125 52.59375 \r\nz\r\n\" id=\"DejaVuSans-99\"/>\r\n      </defs>\r\n      <use xlink:href=\"#DejaVuSans-100\"/>\r\n      <use x=\"63.476562\" xlink:href=\"#DejaVuSans-105\"/>\r\n      <use x=\"91.259766\" xlink:href=\"#DejaVuSans-115\"/>\r\n      <use x=\"143.359375\" xlink:href=\"#DejaVuSans-99\"/>\r\n     </g>\r\n    </g>\r\n    <g id=\"patch_4\">\r\n     <path d=\"M 491.379687 53.159375 \r\nL 511.379687 53.159375 \r\nL 511.379687 46.159375 \r\nL 491.379687 46.159375 \r\nz\r\n\" style=\"fill:#7f7f7f;stroke:#7f7f7f;stroke-linejoin:miter;\"/>\r\n    </g>\r\n    <g id=\"text_2\">\r\n     <!-- cont -->\r\n     <g transform=\"translate(519.379687 53.159375)scale(0.1 -0.1)\">\r\n      <defs>\r\n       <path d=\"M 30.609375 48.390625 \r\nQ 23.390625 48.390625 19.1875 42.75 \r\nQ 14.984375 37.109375 14.984375 27.296875 \r\nQ 14.984375 17.484375 19.15625 11.84375 \r\nQ 23.34375 6.203125 30.609375 6.203125 \r\nQ 37.796875 6.203125 41.984375 11.859375 \r\nQ 46.1875 17.53125 46.1875 27.296875 \r\nQ 46.1875 37.015625 41.984375 42.703125 \r\nQ 37.796875 48.390625 30.609375 48.390625 \r\nz\r\nM 30.609375 56 \r\nQ 42.328125 56 49.015625 48.375 \r\nQ 55.71875 40.765625 55.71875 27.296875 \r\nQ 55.71875 13.875 49.015625 6.21875 \r\nQ 42.328125 -1.421875 30.609375 -1.421875 \r\nQ 18.84375 -1.421875 12.171875 6.21875 \r\nQ 5.515625 13.875 5.515625 27.296875 \r\nQ 5.515625 40.765625 12.171875 48.375 \r\nQ 18.84375 56 30.609375 56 \r\nz\r\n\" id=\"DejaVuSans-111\"/>\r\n       <path d=\"M 54.890625 33.015625 \r\nL 54.890625 0 \r\nL 45.90625 0 \r\nL 45.90625 32.71875 \r\nQ 45.90625 40.484375 42.875 44.328125 \r\nQ 39.84375 48.1875 33.796875 48.1875 \r\nQ 26.515625 48.1875 22.3125 43.546875 \r\nQ 18.109375 38.921875 18.109375 30.90625 \r\nL 18.109375 0 \r\nL 9.078125 0 \r\nL 9.078125 54.6875 \r\nL 18.109375 54.6875 \r\nL 18.109375 46.1875 \r\nQ 21.34375 51.125 25.703125 53.5625 \r\nQ 30.078125 56 35.796875 56 \r\nQ 45.21875 56 50.046875 50.171875 \r\nQ 54.890625 44.34375 54.890625 33.015625 \r\nz\r\n\" id=\"DejaVuSans-110\"/>\r\n       <path d=\"M 18.3125 70.21875 \r\nL 18.3125 54.6875 \r\nL 36.8125 54.6875 \r\nL 36.8125 47.703125 \r\nL 18.3125 47.703125 \r\nL 18.3125 18.015625 \r\nQ 18.3125 11.328125 20.140625 9.421875 \r\nQ 21.96875 7.515625 27.59375 7.515625 \r\nL 36.8125 7.515625 \r\nL 36.8125 0 \r\nL 27.59375 0 \r\nQ 17.1875 0 13.234375 3.875 \r\nQ 9.28125 7.765625 9.28125 18.015625 \r\nL 9.28125 47.703125 \r\nL 2.6875 47.703125 \r\nL 2.6875 54.6875 \r\nL 9.28125 54.6875 \r\nL 9.28125 70.21875 \r\nz\r\n\" id=\"DejaVuSans-116\"/>\r\n      </defs>\r\n      <use xlink:href=\"#DejaVuSans-99\"/>\r\n      <use x=\"54.980469\" xlink:href=\"#DejaVuSans-111\"/>\r\n      <use x=\"116.162109\" xlink:href=\"#DejaVuSans-110\"/>\r\n      <use x=\"179.541016\" xlink:href=\"#DejaVuSans-116\"/>\r\n     </g>\r\n    </g>\r\n   </g>\r\n  </g>\r\n </g>\r\n</svg>\r\n",
      "image/png": "[encoded data removed]"
     },
     "metadata": {
      "needs_background": "light"
     }
    },
    {
     "output_type": "execute_result",
     "data": {
      "text/plain": [
       "<IPython.lib.display.IFrame at 0x2ddf0ac46d0>"
      ],
      "text/html": "\n        <iframe\n            width=\"100%\"\n            height=\"800px\"\n            src=\"../visualization_result/geo_net.html\"\n            frameborder=\"0\"\n            allowfullscreen\n        ></iframe>\n        "
     },
     "metadata": {},
     "execution_count": 287
    }
   ],
   "source": [
    "draw_BN(bn_geo, geo_types, 'geo_net')"
   ]
  },
  {
   "cell_type": "code",
   "execution_count": 288,
   "metadata": {},
   "outputs": [],
   "source": [
    "params = parameter_learning(geo_train, geo_types, bn_geo)"
   ]
  },
  {
   "cell_type": "code",
   "execution_count": 289,
   "metadata": {},
   "outputs": [],
   "source": [
    "save_structure(bn_geo, 'geo_net')\n",
    "skel = read_structure('geo_net')\n",
    "save_params(params, 'geo_net_param')\n",
    "params = read_params('geo_net_param')\n",
    "geo_bn = HyBayesianNetwork(skel, params)"
   ]
  },
  {
   "cell_type": "code",
   "execution_count": 290,
   "metadata": {},
   "outputs": [],
   "source": [
    "acc, rmse, real_data, pred_data = calculate_acc(geo_bn, geo_test, columns)"
   ]
  },
  {
   "cell_type": "code",
   "execution_count": 291,
   "metadata": {},
   "outputs": [
    {
     "output_type": "execute_result",
     "data": {
      "text/plain": [
       "{'sex': 0.56, 'relation': 0.27, 'is_parent': 0.74, 'has_pets': 0.95}"
      ]
     },
     "metadata": {},
     "execution_count": 291
    }
   ],
   "source": [
    "acc"
   ]
  },
  {
   "cell_type": "code",
   "execution_count": 292,
   "metadata": {},
   "outputs": [
    {
     "output_type": "execute_result",
     "data": {
      "text/plain": [
       "{'age': 12.15, 'mean_tr': 6367.19, 'median_tr': 6011.49, 'tr_per_month': 19.54}"
      ]
     },
     "metadata": {},
     "execution_count": 292
    }
   ],
   "source": [
    "rmse"
   ]
  },
  {
   "cell_type": "code",
   "execution_count": 293,
   "metadata": {},
   "outputs": [],
   "source": [
    "for key in acc.keys():\n",
    "    df_result_accuracy = df_result_accuracy.append({'Parameter': key, 'Strategy': 'evo', 'Alg':'D+M','accuracy':acc[key]}, ignore_index=True)\n",
    "for key in rmse.keys():\n",
    "    df_result_rmse = df_result_rmse.append({'Parameter': key, 'Strategy': 'evo', 'Alg':'D+M','rmse':rmse[key]}, ignore_index=True)"
   ]
  },
  {
   "source": [
    "# Смешанная структура + смешанные параметры"
   ],
   "cell_type": "markdown",
   "metadata": {}
  },
  {
   "cell_type": "code",
   "execution_count": 294,
   "metadata": {},
   "outputs": [
    {
     "output_type": "stream",
     "name": "stdout",
     "text": [
      "Cannot add to history: 'str' object has no attribute 'operation_type'\n",
      "Best metric is 21.591360801326836\n",
      "Generation num: 0\n",
      "max_depth: 3, no improvements: 0\n",
      "Number of crossover attempts exceeded. Please check composer requirements for correctness.\n",
      "Cannot add to history: 'str' object has no attribute 'operation_type'\n",
      "spent time: 0.4 min\n",
      "Best metric is 13.884494431204732\n",
      "Generation num: 1\n",
      "max_depth: 3, no improvements: 0\n",
      "Number of crossover attempts exceeded. Please check composer requirements for correctness.\n",
      "Cannot add to history: 'str' object has no attribute 'operation_type'\n",
      "spent time: 0.6 min\n",
      "Best metric is 11.80296920436803\n",
      "Generation num: 2\n",
      "max_depth: 3, no improvements: 0\n",
      "Cannot add to history: 'str' object has no attribute 'operation_type'\n",
      "spent time: 0.8 min\n",
      "Best metric is 11.80296920436803\n",
      "Generation num: 3\n",
      "max_depth: 3, no improvements: 1\n",
      "Number of crossover attempts exceeded. Please check composer requirements for correctness.\n",
      "Cannot add to history: 'str' object has no attribute 'operation_type'\n",
      "spent time: 1.0 min\n",
      "Best metric is 9.588429517205787\n",
      "Generation num: 4\n",
      "max_depth: 3, no improvements: 0\n",
      "Number of crossover attempts exceeded. Please check composer requirements for correctness.\n",
      "Cannot add to history: 'str' object has no attribute 'operation_type'\n",
      "spent time: 1.3 min\n",
      "Best metric is 9.391287689608394\n",
      "Generation num: 5\n",
      "max_depth: 3, no improvements: 0\n",
      "Number of mutation attempts exceeded. Please check composer requirements for correctness.\n",
      "Number of mutation attempts exceeded. Please check composer requirements for correctness.\n",
      "Number of mutation attempts exceeded. Please check composer requirements for correctness.\n",
      "Cannot add to history: 'str' object has no attribute 'operation_type'\n",
      "spent time: 1.6 min\n",
      "Best metric is 9.391287689608394\n",
      "Generation num: 6\n",
      "max_depth: 3, no improvements: 1\n",
      "Number of crossover attempts exceeded. Please check composer requirements for correctness.\n",
      "Cannot add to history: 'str' object has no attribute 'operation_type'\n",
      "spent time: 1.8 min\n",
      "Best metric is 9.384032660242045\n",
      "Generation num: 7\n",
      "max_depth: 3, no improvements: 0\n",
      "Number of mutation attempts exceeded. Please check composer requirements for correctness.\n",
      "Number of mutation attempts exceeded. Please check composer requirements for correctness.\n",
      "Number of mutation attempts exceeded. Please check composer requirements for correctness.\n",
      "Cannot add to history: 'str' object has no attribute 'operation_type'\n",
      "spent time: 2.1 min\n",
      "Best metric is 9.384032660242045\n",
      "Generation num: 8\n",
      "max_depth: 3, no improvements: 1\n",
      "Number of mutation attempts exceeded. Please check composer requirements for correctness.\n",
      "Number of mutation attempts exceeded. Please check composer requirements for correctness.\n",
      "Number of mutation attempts exceeded. Please check composer requirements for correctness.\n",
      "Number of mutation attempts exceeded. Please check composer requirements for correctness.\n",
      "Cannot add to history: 'str' object has no attribute 'operation_type'\n",
      "spent time: 2.4 min\n",
      "Best metric is 9.384032660242045\n",
      "Generation num: 9\n",
      "max_depth: 3, no improvements: 2\n",
      "Number of mutation attempts exceeded. Please check composer requirements for correctness.\n",
      "Cannot add to history: 'str' object has no attribute 'operation_type'\n",
      "spent time: 2.7 min\n",
      "Best metric is 9.384032660242045\n",
      "Generation num: 10\n",
      "max_depth: 3, no improvements: 3\n",
      "Number of mutation attempts exceeded. Please check composer requirements for correctness.\n",
      "Number of mutation attempts exceeded. Please check composer requirements for correctness.\n",
      "Number of mutation attempts exceeded. Please check composer requirements for correctness.\n",
      "Cannot add to history: 'str' object has no attribute 'operation_type'\n",
      "spent time: 3.0 min\n",
      "Best metric is 9.384032660242045\n",
      "Generation num: 11\n",
      "max_depth: 3, no improvements: 4\n",
      "Number of mutation attempts exceeded. Please check composer requirements for correctness.\n",
      "Cannot add to history: 'str' object has no attribute 'operation_type'\n",
      "spent time: 3.2 min\n",
      "Best metric is 9.384032660242045\n",
      "Generation num: 12\n",
      "max_depth: 3, no improvements: 5\n",
      "Number of mutation attempts exceeded. Please check composer requirements for correctness.\n",
      "Number of mutation attempts exceeded. Please check composer requirements for correctness.\n",
      "Number of mutation attempts exceeded. Please check composer requirements for correctness.\n",
      "Cannot add to history: 'str' object has no attribute 'operation_type'\n",
      "spent time: 3.4 min\n",
      "Best metric is 9.384032660242045\n",
      "Generation num: 13\n",
      "max_depth: 3, no improvements: 6\n",
      "Number of mutation attempts exceeded. Please check composer requirements for correctness.\n",
      "Cannot add to history: 'str' object has no attribute 'operation_type'\n",
      "spent time: 3.7 min\n",
      "Best metric is 9.384032660242045\n",
      "Generation num: 14\n",
      "max_depth: 3, no improvements: 7\n",
      "Number of mutation attempts exceeded. Please check composer requirements for correctness.\n",
      "Cannot add to history: 'str' object has no attribute 'operation_type'\n",
      "spent time: 4.0 min\n",
      "Best metric is 9.384032660242045\n",
      "Generation num: 15\n",
      "max_depth: 3, no improvements: 8\n",
      "Number of mutation attempts exceeded. Please check composer requirements for correctness.\n",
      "Cannot add to history: 'str' object has no attribute 'operation_type'\n",
      "spent time: 4.3 min\n",
      "Best metric is 9.384032660242045\n",
      "Generation num: 16\n",
      "max_depth: 3, no improvements: 9\n",
      "Number of mutation attempts exceeded. Please check composer requirements for correctness.\n",
      "Cannot add to history: 'str' object has no attribute 'operation_type'\n",
      "spent time: 4.5 min\n",
      "Best metric is 9.384032660242045\n",
      "Generation num: 17\n",
      "max_depth: 3, no improvements: 10\n",
      "Number of mutation attempts exceeded. Please check composer requirements for correctness.\n",
      "Cannot add to history: 'str' object has no attribute 'operation_type'\n",
      "spent time: 4.8 min\n",
      "Best metric is 9.384032660242045\n",
      "Generation num: 18\n",
      "max_depth: 3, no improvements: 11\n",
      "Number of crossover attempts exceeded. Please check composer requirements for correctness.\n",
      "Number of mutation attempts exceeded. Please check composer requirements for correctness.\n",
      "Cannot add to history: 'str' object has no attribute 'operation_type'\n",
      "spent time: 5.1 min\n",
      "Best metric is 9.384032660242045\n",
      "Generation num: 19\n",
      "max_depth: 3, no improvements: 12\n",
      "Number of mutation attempts exceeded. Please check composer requirements for correctness.\n",
      "Number of mutation attempts exceeded. Please check composer requirements for correctness.\n",
      "Number of mutation attempts exceeded. Please check composer requirements for correctness.\n",
      "Number of mutation attempts exceeded. Please check composer requirements for correctness.\n",
      "Cannot add to history: 'str' object has no attribute 'operation_type'\n",
      "spent time: 5.3 min\n",
      "Best metric is 9.384032660242045\n",
      "Generation num: 20\n",
      "max_depth: 3, no improvements: 13\n",
      "Number of mutation attempts exceeded. Please check composer requirements for correctness.\n",
      "Cannot add to history: 'str' object has no attribute 'operation_type'\n",
      "spent time: 5.6 min\n",
      "Best metric is 9.384032660242045\n",
      "Generation num: 21\n",
      "max_depth: 3, no improvements: 14\n",
      "Number of mutation attempts exceeded. Please check composer requirements for correctness.\n",
      "Number of mutation attempts exceeded. Please check composer requirements for correctness.\n",
      "Cannot add to history: 'str' object has no attribute 'operation_type'\n",
      "spent time: 5.9 min\n",
      "Best metric is 9.384032660242045\n",
      "Generation num: 22\n",
      "max_depth: 3, no improvements: 15\n",
      "Number of mutation attempts exceeded. Please check composer requirements for correctness.\n",
      "Cannot add to history: 'str' object has no attribute 'operation_type'\n",
      "spent time: 6.1 min\n",
      "Best metric is 9.384032660242045\n",
      "Generation num: 23\n",
      "max_depth: 3, no improvements: 16\n",
      "Number of mutation attempts exceeded. Please check composer requirements for correctness.\n",
      "Cannot add to history: 'str' object has no attribute 'operation_type'\n",
      "spent time: 6.4 min\n",
      "Best metric is 9.384032660242045\n",
      "Generation num: 24\n",
      "max_depth: 3, no improvements: 17\n",
      "Number of mutation attempts exceeded. Please check composer requirements for correctness.\n",
      "Cannot add to history: 'str' object has no attribute 'operation_type'\n",
      "spent time: 6.6 min\n",
      "Best metric is 9.384032660242045\n",
      "Generation num: 25\n",
      "max_depth: 3, no improvements: 18\n",
      "Number of mutation attempts exceeded. Please check composer requirements for correctness.\n",
      "Number of mutation attempts exceeded. Please check composer requirements for correctness.\n",
      "Cannot add to history: 'str' object has no attribute 'operation_type'\n",
      "spent time: 6.9 min\n",
      "Best metric is 9.384032660242045\n",
      "Generation num: 26\n",
      "max_depth: 3, no improvements: 19\n",
      "Number of mutation attempts exceeded. Please check composer requirements for correctness.\n",
      "Cannot add to history: 'str' object has no attribute 'operation_type'\n",
      "spent time: 7.2 min\n",
      "Best metric is 9.384032660242045\n",
      "Generation num: 27\n",
      "max_depth: 3, no improvements: 20\n",
      "Number of mutation attempts exceeded. Please check composer requirements for correctness.\n",
      "Number of mutation attempts exceeded. Please check composer requirements for correctness.\n",
      "Number of mutation attempts exceeded. Please check composer requirements for correctness.\n",
      "Number of mutation attempts exceeded. Please check composer requirements for correctness.\n",
      "Number of mutation attempts exceeded. Please check composer requirements for correctness.\n",
      "Cannot add to history: 'str' object has no attribute 'operation_type'\n",
      "spent time: 7.5 min\n",
      "Best metric is 9.384032660242045\n",
      "Generation num: 28\n",
      "max_depth: 3, no improvements: 21\n",
      "Number of mutation attempts exceeded. Please check composer requirements for correctness.\n",
      "Cannot add to history: 'str' object has no attribute 'operation_type'\n",
      "spent time: 7.8 min\n",
      "Best metric is 9.384032660242045\n",
      "Result:\n",
      "Best metric is 9.384032660242045\n",
      "Composition time: 7.794 min\n"
     ]
    }
   ],
   "source": [
    "bn_geo = structure_learning(geo_coded, 'evo', 'MI', geo_types)"
   ]
  },
  {
   "cell_type": "code",
   "execution_count": 295,
   "metadata": {},
   "outputs": [
    {
     "output_type": "display_data",
     "data": {
      "text/plain": "<Figure size 2025x225 with 1 Axes>",
      "image/svg+xml": "<?xml version=\"1.0\" encoding=\"utf-8\" standalone=\"no\"?>\r\n<!DOCTYPE svg PUBLIC \"-//W3C//DTD SVG 1.1//EN\"\r\n  \"http://www.w3.org/Graphics/SVG/1.1/DTD/svg11.dtd\">\r\n<!-- Created with matplotlib (https://matplotlib.org/) -->\r\n<svg height=\"100.8pt\" version=\"1.1\" viewBox=\"0 0 964.8 100.8\" width=\"964.8pt\" xmlns=\"http://www.w3.org/2000/svg\" xmlns:xlink=\"http://www.w3.org/1999/xlink\">\r\n <metadata>\r\n  <rdf:RDF xmlns:cc=\"http://creativecommons.org/ns#\" xmlns:dc=\"http://purl.org/dc/elements/1.1/\" xmlns:rdf=\"http://www.w3.org/1999/02/22-rdf-syntax-ns#\">\r\n   <cc:Work>\r\n    <dc:type rdf:resource=\"http://purl.org/dc/dcmitype/StillImage\"/>\r\n    <dc:date>2021-05-02T20:31:41.737237</dc:date>\r\n    <dc:format>image/svg+xml</dc:format>\r\n    <dc:creator>\r\n     <cc:Agent>\r\n      <dc:title>Matplotlib v3.3.4, https://matplotlib.org/</dc:title>\r\n     </cc:Agent>\r\n    </dc:creator>\r\n   </cc:Work>\r\n  </rdf:RDF>\r\n </metadata>\r\n <defs>\r\n  <style type=\"text/css\">*{stroke-linecap:butt;stroke-linejoin:round;}</style>\r\n </defs>\r\n <g id=\"figure_1\">\r\n  <g id=\"patch_1\">\r\n   <path d=\"M 0 100.8 \r\nL 964.8 100.8 \r\nL 964.8 0 \r\nL 0 0 \r\nz\r\n\" style=\"fill:none;\"/>\r\n  </g>\r\n  <g id=\"axes_1\">\r\n   <g id=\"legend_1\">\r\n    <g id=\"patch_2\">\r\n     <path d=\"M 421.545312 59.239062 \r\nL 543.254687 59.239062 \r\nQ 545.254687 59.239062 545.254687 57.239062 \r\nL 545.254687 43.560937 \r\nQ 545.254687 41.560937 543.254687 41.560937 \r\nL 421.545312 41.560937 \r\nQ 419.545312 41.560937 419.545312 43.560937 \r\nL 419.545312 57.239062 \r\nQ 419.545312 59.239062 421.545312 59.239062 \r\nz\r\n\" style=\"fill:#ffffff;opacity:0.8;stroke:#cccccc;stroke-linejoin:miter;\"/>\r\n    </g>\r\n    <g id=\"patch_3\">\r\n     <path d=\"M 423.545312 53.159375 \r\nL 443.545312 53.159375 \r\nL 443.545312 46.159375 \r\nL 423.545312 46.159375 \r\nz\r\n\" style=\"fill:#d62728;stroke:#d62728;stroke-linejoin:miter;\"/>\r\n    </g>\r\n    <g id=\"text_1\">\r\n     <!-- disc -->\r\n     <g transform=\"translate(451.545312 53.159375)scale(0.1 -0.1)\">\r\n      <defs>\r\n       <path d=\"M 45.40625 46.390625 \r\nL 45.40625 75.984375 \r\nL 54.390625 75.984375 \r\nL 54.390625 0 \r\nL 45.40625 0 \r\nL 45.40625 8.203125 \r\nQ 42.578125 3.328125 38.25 0.953125 \r\nQ 33.9375 -1.421875 27.875 -1.421875 \r\nQ 17.96875 -1.421875 11.734375 6.484375 \r\nQ 5.515625 14.40625 5.515625 27.296875 \r\nQ 5.515625 40.1875 11.734375 48.09375 \r\nQ 17.96875 56 27.875 56 \r\nQ 33.9375 56 38.25 53.625 \r\nQ 42.578125 51.265625 45.40625 46.390625 \r\nz\r\nM 14.796875 27.296875 \r\nQ 14.796875 17.390625 18.875 11.75 \r\nQ 22.953125 6.109375 30.078125 6.109375 \r\nQ 37.203125 6.109375 41.296875 11.75 \r\nQ 45.40625 17.390625 45.40625 27.296875 \r\nQ 45.40625 37.203125 41.296875 42.84375 \r\nQ 37.203125 48.484375 30.078125 48.484375 \r\nQ 22.953125 48.484375 18.875 42.84375 \r\nQ 14.796875 37.203125 14.796875 27.296875 \r\nz\r\n\" id=\"DejaVuSans-100\"/>\r\n       <path d=\"M 9.421875 54.6875 \r\nL 18.40625 54.6875 \r\nL 18.40625 0 \r\nL 9.421875 0 \r\nz\r\nM 9.421875 75.984375 \r\nL 18.40625 75.984375 \r\nL 18.40625 64.59375 \r\nL 9.421875 64.59375 \r\nz\r\n\" id=\"DejaVuSans-105\"/>\r\n       <path d=\"M 44.28125 53.078125 \r\nL 44.28125 44.578125 \r\nQ 40.484375 46.53125 36.375 47.5 \r\nQ 32.28125 48.484375 27.875 48.484375 \r\nQ 21.1875 48.484375 17.84375 46.4375 \r\nQ 14.5 44.390625 14.5 40.28125 \r\nQ 14.5 37.15625 16.890625 35.375 \r\nQ 19.28125 33.59375 26.515625 31.984375 \r\nL 29.59375 31.296875 \r\nQ 39.15625 29.25 43.1875 25.515625 \r\nQ 47.21875 21.78125 47.21875 15.09375 \r\nQ 47.21875 7.46875 41.1875 3.015625 \r\nQ 35.15625 -1.421875 24.609375 -1.421875 \r\nQ 20.21875 -1.421875 15.453125 -0.5625 \r\nQ 10.6875 0.296875 5.421875 2 \r\nL 5.421875 11.28125 \r\nQ 10.40625 8.6875 15.234375 7.390625 \r\nQ 20.0625 6.109375 24.8125 6.109375 \r\nQ 31.15625 6.109375 34.5625 8.28125 \r\nQ 37.984375 10.453125 37.984375 14.40625 \r\nQ 37.984375 18.0625 35.515625 20.015625 \r\nQ 33.0625 21.96875 24.703125 23.78125 \r\nL 21.578125 24.515625 \r\nQ 13.234375 26.265625 9.515625 29.90625 \r\nQ 5.8125 33.546875 5.8125 39.890625 \r\nQ 5.8125 47.609375 11.28125 51.796875 \r\nQ 16.75 56 26.8125 56 \r\nQ 31.78125 56 36.171875 55.265625 \r\nQ 40.578125 54.546875 44.28125 53.078125 \r\nz\r\n\" id=\"DejaVuSans-115\"/>\r\n       <path d=\"M 48.78125 52.59375 \r\nL 48.78125 44.1875 \r\nQ 44.96875 46.296875 41.140625 47.34375 \r\nQ 37.3125 48.390625 33.40625 48.390625 \r\nQ 24.65625 48.390625 19.8125 42.84375 \r\nQ 14.984375 37.3125 14.984375 27.296875 \r\nQ 14.984375 17.28125 19.8125 11.734375 \r\nQ 24.65625 6.203125 33.40625 6.203125 \r\nQ 37.3125 6.203125 41.140625 7.25 \r\nQ 44.96875 8.296875 48.78125 10.40625 \r\nL 48.78125 2.09375 \r\nQ 45.015625 0.34375 40.984375 -0.53125 \r\nQ 36.96875 -1.421875 32.421875 -1.421875 \r\nQ 20.0625 -1.421875 12.78125 6.34375 \r\nQ 5.515625 14.109375 5.515625 27.296875 \r\nQ 5.515625 40.671875 12.859375 48.328125 \r\nQ 20.21875 56 33.015625 56 \r\nQ 37.15625 56 41.109375 55.140625 \r\nQ 45.0625 54.296875 48.78125 52.59375 \r\nz\r\n\" id=\"DejaVuSans-99\"/>\r\n      </defs>\r\n      <use xlink:href=\"#DejaVuSans-100\"/>\r\n      <use x=\"63.476562\" xlink:href=\"#DejaVuSans-105\"/>\r\n      <use x=\"91.259766\" xlink:href=\"#DejaVuSans-115\"/>\r\n      <use x=\"143.359375\" xlink:href=\"#DejaVuSans-99\"/>\r\n     </g>\r\n    </g>\r\n    <g id=\"patch_4\">\r\n     <path d=\"M 491.379687 53.159375 \r\nL 511.379687 53.159375 \r\nL 511.379687 46.159375 \r\nL 491.379687 46.159375 \r\nz\r\n\" style=\"fill:#7f7f7f;stroke:#7f7f7f;stroke-linejoin:miter;\"/>\r\n    </g>\r\n    <g id=\"text_2\">\r\n     <!-- cont -->\r\n     <g transform=\"translate(519.379687 53.159375)scale(0.1 -0.1)\">\r\n      <defs>\r\n       <path d=\"M 30.609375 48.390625 \r\nQ 23.390625 48.390625 19.1875 42.75 \r\nQ 14.984375 37.109375 14.984375 27.296875 \r\nQ 14.984375 17.484375 19.15625 11.84375 \r\nQ 23.34375 6.203125 30.609375 6.203125 \r\nQ 37.796875 6.203125 41.984375 11.859375 \r\nQ 46.1875 17.53125 46.1875 27.296875 \r\nQ 46.1875 37.015625 41.984375 42.703125 \r\nQ 37.796875 48.390625 30.609375 48.390625 \r\nz\r\nM 30.609375 56 \r\nQ 42.328125 56 49.015625 48.375 \r\nQ 55.71875 40.765625 55.71875 27.296875 \r\nQ 55.71875 13.875 49.015625 6.21875 \r\nQ 42.328125 -1.421875 30.609375 -1.421875 \r\nQ 18.84375 -1.421875 12.171875 6.21875 \r\nQ 5.515625 13.875 5.515625 27.296875 \r\nQ 5.515625 40.765625 12.171875 48.375 \r\nQ 18.84375 56 30.609375 56 \r\nz\r\n\" id=\"DejaVuSans-111\"/>\r\n       <path d=\"M 54.890625 33.015625 \r\nL 54.890625 0 \r\nL 45.90625 0 \r\nL 45.90625 32.71875 \r\nQ 45.90625 40.484375 42.875 44.328125 \r\nQ 39.84375 48.1875 33.796875 48.1875 \r\nQ 26.515625 48.1875 22.3125 43.546875 \r\nQ 18.109375 38.921875 18.109375 30.90625 \r\nL 18.109375 0 \r\nL 9.078125 0 \r\nL 9.078125 54.6875 \r\nL 18.109375 54.6875 \r\nL 18.109375 46.1875 \r\nQ 21.34375 51.125 25.703125 53.5625 \r\nQ 30.078125 56 35.796875 56 \r\nQ 45.21875 56 50.046875 50.171875 \r\nQ 54.890625 44.34375 54.890625 33.015625 \r\nz\r\n\" id=\"DejaVuSans-110\"/>\r\n       <path d=\"M 18.3125 70.21875 \r\nL 18.3125 54.6875 \r\nL 36.8125 54.6875 \r\nL 36.8125 47.703125 \r\nL 18.3125 47.703125 \r\nL 18.3125 18.015625 \r\nQ 18.3125 11.328125 20.140625 9.421875 \r\nQ 21.96875 7.515625 27.59375 7.515625 \r\nL 36.8125 7.515625 \r\nL 36.8125 0 \r\nL 27.59375 0 \r\nQ 17.1875 0 13.234375 3.875 \r\nQ 9.28125 7.765625 9.28125 18.015625 \r\nL 9.28125 47.703125 \r\nL 2.6875 47.703125 \r\nL 2.6875 54.6875 \r\nL 9.28125 54.6875 \r\nL 9.28125 70.21875 \r\nz\r\n\" id=\"DejaVuSans-116\"/>\r\n      </defs>\r\n      <use xlink:href=\"#DejaVuSans-99\"/>\r\n      <use x=\"54.980469\" xlink:href=\"#DejaVuSans-111\"/>\r\n      <use x=\"116.162109\" xlink:href=\"#DejaVuSans-110\"/>\r\n      <use x=\"179.541016\" xlink:href=\"#DejaVuSans-116\"/>\r\n     </g>\r\n    </g>\r\n   </g>\r\n  </g>\r\n </g>\r\n</svg>\r\n",
      "image/png": "[encoded data removed]"
     },
     "metadata": {
      "needs_background": "light"
     }
    },
    {
     "output_type": "execute_result",
     "data": {
      "text/plain": [
       "<IPython.lib.display.IFrame at 0x2ddeea3fe80>"
      ],
      "text/html": "\n        <iframe\n            width=\"100%\"\n            height=\"800px\"\n            src=\"../visualization_result/geo_net.html\"\n            frameborder=\"0\"\n            allowfullscreen\n        ></iframe>\n        "
     },
     "metadata": {},
     "execution_count": 295
    }
   ],
   "source": [
    "draw_BN(bn_geo, geo_types, 'geo_net')"
   ]
  },
  {
   "cell_type": "code",
   "execution_count": 296,
   "metadata": {},
   "outputs": [],
   "source": [
    "params = parameter_learning(geo_train, geo_types, bn_geo)"
   ]
  },
  {
   "cell_type": "code",
   "execution_count": 297,
   "metadata": {},
   "outputs": [],
   "source": [
    "save_structure(bn_geo, 'geo_net')\n",
    "skel = read_structure('geo_net')\n",
    "save_params(params, 'geo_net_param')\n",
    "params = read_params('geo_net_param')\n",
    "geo_bn = HyBayesianNetwork(skel, params)"
   ]
  },
  {
   "cell_type": "code",
   "execution_count": 298,
   "metadata": {},
   "outputs": [],
   "source": [
    "acc, rmse, real, pred = calculate_acc(geo_bn, geo_test, columns)"
   ]
  },
  {
   "cell_type": "code",
   "execution_count": 299,
   "metadata": {},
   "outputs": [
    {
     "output_type": "execute_result",
     "data": {
      "text/plain": [
       "{'sex': 0.56, 'relation': 0.27, 'is_parent': 0.74, 'has_pets': 0.95}"
      ]
     },
     "metadata": {},
     "execution_count": 299
    }
   ],
   "source": [
    "acc"
   ]
  },
  {
   "cell_type": "code",
   "execution_count": 300,
   "metadata": {},
   "outputs": [
    {
     "output_type": "execute_result",
     "data": {
      "text/plain": [
       "{'age': 12.19, 'mean_tr': 3094.93, 'median_tr': 5949.14, 'tr_per_month': 19.79}"
      ]
     },
     "metadata": {},
     "execution_count": 300
    }
   ],
   "source": [
    "rmse"
   ]
  },
  {
   "cell_type": "code",
   "execution_count": 301,
   "metadata": {},
   "outputs": [],
   "source": [
    "for key in acc.keys():\n",
    "    df_result_accuracy = df_result_accuracy.append({'Parameter': key, 'Strategy': 'evo', 'Alg':'M+M','accuracy':acc[key]}, ignore_index=True)\n",
    "for key in rmse.keys():\n",
    "    df_result_rmse = df_result_rmse.append({'Parameter': key, 'Strategy': 'evo', 'Alg':'M+M','rmse':rmse[key]}, ignore_index=True)"
   ]
  },
  {
   "cell_type": "code",
   "execution_count": 302,
   "metadata": {},
   "outputs": [],
   "source": [
    "sample_m_m_evo_tr = pd.DataFrame(geo_bn.randomsample(5000))\n",
    "sample_m_m_evo_tr = sample_m_m_evo_tr.loc[sample_m_m_evo_tr['tr_per_month'] > 0]\n",
    "sample_m_m_evo = pd.DataFrame(geo_bn.randomsample(5000))\n",
    "sample_m_m_evo = sample_m_m_evo.loc[sample_m_m_evo['median_tr'] > 0]"
   ]
  },
  {
   "source": [
    "# Дискретная структура + дискретные параметры"
   ],
   "cell_type": "markdown",
   "metadata": {}
  },
  {
   "cell_type": "code",
   "execution_count": 303,
   "metadata": {},
   "outputs": [],
   "source": [
    "geo_new_types = {'sex': 'disc',\n",
    " 'relation': 'disc',\n",
    " 'is_parent': 'disc',\n",
    " 'has_pets': 'disc',\n",
    " 'age': 'disc',\n",
    " 'mean_tr': 'disc',\n",
    " 'median_tr': 'disc',\n",
    " 'tr_per_month': 'disc'}"
   ]
  },
  {
   "cell_type": "code",
   "execution_count": 304,
   "metadata": {},
   "outputs": [
    {
     "output_type": "stream",
     "name": "stdout",
     "text": [
      "Cannot add to history: 'str' object has no attribute 'operation_type'\n",
      "Best metric is 7.4896\n",
      "Generation num: 0\n",
      "max_depth: 3, no improvements: 0\n",
      "Number of crossover attempts exceeded. Please check composer requirements for correctness.\n",
      "Cannot add to history: 'str' object has no attribute 'operation_type'\n",
      "spent time: 0.1 min\n",
      "Best metric is 7.4896\n",
      "Generation num: 1\n",
      "max_depth: 3, no improvements: 1\n",
      "Number of crossover attempts exceeded. Please check composer requirements for correctness.\n",
      "Number of crossover attempts exceeded. Please check composer requirements for correctness.\n",
      "Cannot add to history: 'str' object has no attribute 'operation_type'\n",
      "spent time: 0.1 min\n",
      "Best metric is 6.2824\n",
      "Generation num: 2\n",
      "max_depth: 3, no improvements: 0\n",
      "Number of crossover attempts exceeded. Please check composer requirements for correctness.\n",
      "Cannot add to history: 'str' object has no attribute 'operation_type'\n",
      "spent time: 0.1 min\n",
      "Best metric is 6.2824\n",
      "Generation num: 3\n",
      "max_depth: 3, no improvements: 1\n",
      "Number of crossover attempts exceeded. Please check composer requirements for correctness.\n",
      "Cannot add to history: 'str' object has no attribute 'operation_type'\n",
      "spent time: 0.2 min\n",
      "Best metric is 6.2378\n",
      "Generation num: 4\n",
      "max_depth: 3, no improvements: 0\n",
      "Cannot add to history: 'str' object has no attribute 'operation_type'\n",
      "spent time: 0.2 min\n",
      "Best metric is 4.7593000000000005\n",
      "Generation num: 5\n",
      "max_depth: 3, no improvements: 0\n",
      "Cannot add to history: 'str' object has no attribute 'operation_type'\n",
      "spent time: 0.2 min\n",
      "Best metric is 4.7593000000000005\n",
      "Generation num: 6\n",
      "max_depth: 3, no improvements: 1\n",
      "Number of mutation attempts exceeded. Please check composer requirements for correctness.\n",
      "Cannot add to history: 'str' object has no attribute 'operation_type'\n",
      "spent time: 0.3 min\n",
      "Best metric is 4.6748\n",
      "Generation num: 7\n",
      "max_depth: 3, no improvements: 0\n",
      "Number of mutation attempts exceeded. Please check composer requirements for correctness.\n",
      "Number of mutation attempts exceeded. Please check composer requirements for correctness.\n",
      "Number of mutation attempts exceeded. Please check composer requirements for correctness.\n",
      "Cannot add to history: 'str' object has no attribute 'operation_type'\n",
      "spent time: 0.3 min\n",
      "Best metric is 4.6748\n",
      "Generation num: 8\n",
      "max_depth: 3, no improvements: 1\n",
      "Number of mutation attempts exceeded. Please check composer requirements for correctness.\n",
      "Number of mutation attempts exceeded. Please check composer requirements for correctness.\n",
      "Cannot add to history: 'str' object has no attribute 'operation_type'\n",
      "spent time: 0.4 min\n",
      "Best metric is 4.6748\n",
      "Generation num: 9\n",
      "max_depth: 3, no improvements: 2\n",
      "Number of mutation attempts exceeded. Please check composer requirements for correctness.\n",
      "Number of mutation attempts exceeded. Please check composer requirements for correctness.\n",
      "Cannot add to history: 'str' object has no attribute 'operation_type'\n",
      "spent time: 0.4 min\n",
      "Best metric is 4.674799999999999\n",
      "Generation num: 10\n",
      "max_depth: 3, no improvements: 3\n",
      "Cannot add to history: 'str' object has no attribute 'operation_type'\n",
      "spent time: 0.5 min\n",
      "Best metric is 4.674799999999999\n",
      "Generation num: 11\n",
      "max_depth: 3, no improvements: 4\n",
      "Cannot add to history: 'str' object has no attribute 'operation_type'\n",
      "spent time: 0.5 min\n",
      "Best metric is 4.674799999999999\n",
      "Generation num: 12\n",
      "max_depth: 3, no improvements: 5\n",
      "Number of mutation attempts exceeded. Please check composer requirements for correctness.\n",
      "Cannot add to history: 'str' object has no attribute 'operation_type'\n",
      "spent time: 0.6 min\n",
      "Best metric is 4.674799999999999\n",
      "Generation num: 13\n",
      "max_depth: 3, no improvements: 6\n",
      "Number of mutation attempts exceeded. Please check composer requirements for correctness.\n",
      "Cannot add to history: 'str' object has no attribute 'operation_type'\n",
      "spent time: 0.6 min\n",
      "Best metric is 4.6733\n",
      "Generation num: 14\n",
      "max_depth: 3, no improvements: 0\n",
      "Cannot add to history: 'str' object has no attribute 'operation_type'\n",
      "spent time: 0.7 min\n",
      "Best metric is 4.6733\n",
      "Generation num: 15\n",
      "max_depth: 3, no improvements: 1\n",
      "Cannot add to history: 'str' object has no attribute 'operation_type'\n",
      "spent time: 0.8 min\n",
      "Best metric is 4.6733\n",
      "Generation num: 16\n",
      "max_depth: 3, no improvements: 2\n",
      "Cannot add to history: 'str' object has no attribute 'operation_type'\n",
      "spent time: 0.9 min\n",
      "Best metric is 4.6733\n",
      "Generation num: 17\n",
      "max_depth: 3, no improvements: 3\n",
      "Cannot add to history: 'str' object has no attribute 'operation_type'\n",
      "spent time: 0.9 min\n",
      "Best metric is 4.6733\n",
      "Generation num: 18\n",
      "max_depth: 3, no improvements: 4\n",
      "Number of mutation attempts exceeded. Please check composer requirements for correctness.\n",
      "Cannot add to history: 'str' object has no attribute 'operation_type'\n",
      "spent time: 1.0 min\n",
      "Best metric is 4.6733\n",
      "Generation num: 19\n",
      "max_depth: 3, no improvements: 5\n",
      "Number of mutation attempts exceeded. Please check composer requirements for correctness.\n",
      "Number of mutation attempts exceeded. Please check composer requirements for correctness.\n",
      "Cannot add to history: 'str' object has no attribute 'operation_type'\n",
      "spent time: 1.0 min\n",
      "Best metric is 4.6733\n",
      "Generation num: 20\n",
      "max_depth: 3, no improvements: 6\n",
      "Number of mutation attempts exceeded. Please check composer requirements for correctness.\n",
      "Cannot add to history: 'str' object has no attribute 'operation_type'\n",
      "spent time: 1.0 min\n",
      "Best metric is 4.6733\n",
      "Generation num: 21\n",
      "max_depth: 3, no improvements: 7\n",
      "Number of mutation attempts exceeded. Please check composer requirements for correctness.\n",
      "Cannot add to history: 'str' object has no attribute 'operation_type'\n",
      "spent time: 1.1 min\n",
      "Best metric is 4.6733\n",
      "Generation num: 22\n",
      "max_depth: 3, no improvements: 8\n",
      "Cannot add to history: 'str' object has no attribute 'operation_type'\n",
      "spent time: 1.2 min\n",
      "Best metric is 4.6733\n",
      "Generation num: 23\n",
      "max_depth: 3, no improvements: 9\n",
      "Number of mutation attempts exceeded. Please check composer requirements for correctness.\n",
      "Cannot add to history: 'str' object has no attribute 'operation_type'\n",
      "spent time: 1.2 min\n",
      "Best metric is 4.6733\n",
      "Generation num: 24\n",
      "max_depth: 3, no improvements: 10\n",
      "Cannot add to history: 'str' object has no attribute 'operation_type'\n",
      "spent time: 1.3 min\n",
      "Best metric is 4.6733\n",
      "Generation num: 25\n",
      "max_depth: 3, no improvements: 11\n",
      "Cannot add to history: 'str' object has no attribute 'operation_type'\n",
      "spent time: 1.4 min\n",
      "Best metric is 4.6733\n",
      "Generation num: 26\n",
      "max_depth: 3, no improvements: 12\n",
      "Cannot add to history: 'str' object has no attribute 'operation_type'\n",
      "spent time: 1.4 min\n",
      "Best metric is 4.6733\n",
      "Generation num: 27\n",
      "max_depth: 3, no improvements: 13\n",
      "Number of mutation attempts exceeded. Please check composer requirements for correctness.\n",
      "Cannot add to history: 'str' object has no attribute 'operation_type'\n",
      "spent time: 1.5 min\n",
      "Best metric is 4.6733\n",
      "Generation num: 28\n",
      "max_depth: 3, no improvements: 14\n",
      "Number of mutation attempts exceeded. Please check composer requirements for correctness.\n",
      "Number of mutation attempts exceeded. Please check composer requirements for correctness.\n",
      "Cannot add to history: 'str' object has no attribute 'operation_type'\n",
      "spent time: 1.5 min\n",
      "Best metric is 4.6733\n",
      "Result:\n",
      "Best metric is 4.6733\n",
      "Composition time: 1.533 min\n"
     ]
    }
   ],
   "source": [
    "bn_geo = structure_learning(geo_discrete, 'evo', 'MI', geo_new_types)"
   ]
  },
  {
   "cell_type": "code",
   "execution_count": 305,
   "metadata": {},
   "outputs": [
    {
     "output_type": "display_data",
     "data": {
      "text/plain": "<Figure size 2025x225 with 1 Axes>",
      "image/svg+xml": "<?xml version=\"1.0\" encoding=\"utf-8\" standalone=\"no\"?>\r\n<!DOCTYPE svg PUBLIC \"-//W3C//DTD SVG 1.1//EN\"\r\n  \"http://www.w3.org/Graphics/SVG/1.1/DTD/svg11.dtd\">\r\n<!-- Created with matplotlib (https://matplotlib.org/) -->\r\n<svg height=\"100.8pt\" version=\"1.1\" viewBox=\"0 0 964.8 100.8\" width=\"964.8pt\" xmlns=\"http://www.w3.org/2000/svg\" xmlns:xlink=\"http://www.w3.org/1999/xlink\">\r\n <metadata>\r\n  <rdf:RDF xmlns:cc=\"http://creativecommons.org/ns#\" xmlns:dc=\"http://purl.org/dc/elements/1.1/\" xmlns:rdf=\"http://www.w3.org/1999/02/22-rdf-syntax-ns#\">\r\n   <cc:Work>\r\n    <dc:type rdf:resource=\"http://purl.org/dc/dcmitype/StillImage\"/>\r\n    <dc:date>2021-05-02T20:35:33.687238</dc:date>\r\n    <dc:format>image/svg+xml</dc:format>\r\n    <dc:creator>\r\n     <cc:Agent>\r\n      <dc:title>Matplotlib v3.3.4, https://matplotlib.org/</dc:title>\r\n     </cc:Agent>\r\n    </dc:creator>\r\n   </cc:Work>\r\n  </rdf:RDF>\r\n </metadata>\r\n <defs>\r\n  <style type=\"text/css\">*{stroke-linecap:butt;stroke-linejoin:round;}</style>\r\n </defs>\r\n <g id=\"figure_1\">\r\n  <g id=\"patch_1\">\r\n   <path d=\"M 0 100.8 \r\nL 964.8 100.8 \r\nL 964.8 0 \r\nL 0 0 \r\nz\r\n\" style=\"fill:none;\"/>\r\n  </g>\r\n  <g id=\"axes_1\">\r\n   <g id=\"legend_1\">\r\n    <g id=\"patch_2\">\r\n     <path d=\"M 421.545312 59.239062 \r\nL 543.254687 59.239062 \r\nQ 545.254687 59.239062 545.254687 57.239062 \r\nL 545.254687 43.560937 \r\nQ 545.254687 41.560937 543.254687 41.560937 \r\nL 421.545312 41.560937 \r\nQ 419.545312 41.560937 419.545312 43.560937 \r\nL 419.545312 57.239062 \r\nQ 419.545312 59.239062 421.545312 59.239062 \r\nz\r\n\" style=\"fill:#ffffff;opacity:0.8;stroke:#cccccc;stroke-linejoin:miter;\"/>\r\n    </g>\r\n    <g id=\"patch_3\">\r\n     <path d=\"M 423.545312 53.159375 \r\nL 443.545312 53.159375 \r\nL 443.545312 46.159375 \r\nL 423.545312 46.159375 \r\nz\r\n\" style=\"fill:#d62728;stroke:#d62728;stroke-linejoin:miter;\"/>\r\n    </g>\r\n    <g id=\"text_1\">\r\n     <!-- disc -->\r\n     <g transform=\"translate(451.545312 53.159375)scale(0.1 -0.1)\">\r\n      <defs>\r\n       <path d=\"M 45.40625 46.390625 \r\nL 45.40625 75.984375 \r\nL 54.390625 75.984375 \r\nL 54.390625 0 \r\nL 45.40625 0 \r\nL 45.40625 8.203125 \r\nQ 42.578125 3.328125 38.25 0.953125 \r\nQ 33.9375 -1.421875 27.875 -1.421875 \r\nQ 17.96875 -1.421875 11.734375 6.484375 \r\nQ 5.515625 14.40625 5.515625 27.296875 \r\nQ 5.515625 40.1875 11.734375 48.09375 \r\nQ 17.96875 56 27.875 56 \r\nQ 33.9375 56 38.25 53.625 \r\nQ 42.578125 51.265625 45.40625 46.390625 \r\nz\r\nM 14.796875 27.296875 \r\nQ 14.796875 17.390625 18.875 11.75 \r\nQ 22.953125 6.109375 30.078125 6.109375 \r\nQ 37.203125 6.109375 41.296875 11.75 \r\nQ 45.40625 17.390625 45.40625 27.296875 \r\nQ 45.40625 37.203125 41.296875 42.84375 \r\nQ 37.203125 48.484375 30.078125 48.484375 \r\nQ 22.953125 48.484375 18.875 42.84375 \r\nQ 14.796875 37.203125 14.796875 27.296875 \r\nz\r\n\" id=\"DejaVuSans-100\"/>\r\n       <path d=\"M 9.421875 54.6875 \r\nL 18.40625 54.6875 \r\nL 18.40625 0 \r\nL 9.421875 0 \r\nz\r\nM 9.421875 75.984375 \r\nL 18.40625 75.984375 \r\nL 18.40625 64.59375 \r\nL 9.421875 64.59375 \r\nz\r\n\" id=\"DejaVuSans-105\"/>\r\n       <path d=\"M 44.28125 53.078125 \r\nL 44.28125 44.578125 \r\nQ 40.484375 46.53125 36.375 47.5 \r\nQ 32.28125 48.484375 27.875 48.484375 \r\nQ 21.1875 48.484375 17.84375 46.4375 \r\nQ 14.5 44.390625 14.5 40.28125 \r\nQ 14.5 37.15625 16.890625 35.375 \r\nQ 19.28125 33.59375 26.515625 31.984375 \r\nL 29.59375 31.296875 \r\nQ 39.15625 29.25 43.1875 25.515625 \r\nQ 47.21875 21.78125 47.21875 15.09375 \r\nQ 47.21875 7.46875 41.1875 3.015625 \r\nQ 35.15625 -1.421875 24.609375 -1.421875 \r\nQ 20.21875 -1.421875 15.453125 -0.5625 \r\nQ 10.6875 0.296875 5.421875 2 \r\nL 5.421875 11.28125 \r\nQ 10.40625 8.6875 15.234375 7.390625 \r\nQ 20.0625 6.109375 24.8125 6.109375 \r\nQ 31.15625 6.109375 34.5625 8.28125 \r\nQ 37.984375 10.453125 37.984375 14.40625 \r\nQ 37.984375 18.0625 35.515625 20.015625 \r\nQ 33.0625 21.96875 24.703125 23.78125 \r\nL 21.578125 24.515625 \r\nQ 13.234375 26.265625 9.515625 29.90625 \r\nQ 5.8125 33.546875 5.8125 39.890625 \r\nQ 5.8125 47.609375 11.28125 51.796875 \r\nQ 16.75 56 26.8125 56 \r\nQ 31.78125 56 36.171875 55.265625 \r\nQ 40.578125 54.546875 44.28125 53.078125 \r\nz\r\n\" id=\"DejaVuSans-115\"/>\r\n       <path d=\"M 48.78125 52.59375 \r\nL 48.78125 44.1875 \r\nQ 44.96875 46.296875 41.140625 47.34375 \r\nQ 37.3125 48.390625 33.40625 48.390625 \r\nQ 24.65625 48.390625 19.8125 42.84375 \r\nQ 14.984375 37.3125 14.984375 27.296875 \r\nQ 14.984375 17.28125 19.8125 11.734375 \r\nQ 24.65625 6.203125 33.40625 6.203125 \r\nQ 37.3125 6.203125 41.140625 7.25 \r\nQ 44.96875 8.296875 48.78125 10.40625 \r\nL 48.78125 2.09375 \r\nQ 45.015625 0.34375 40.984375 -0.53125 \r\nQ 36.96875 -1.421875 32.421875 -1.421875 \r\nQ 20.0625 -1.421875 12.78125 6.34375 \r\nQ 5.515625 14.109375 5.515625 27.296875 \r\nQ 5.515625 40.671875 12.859375 48.328125 \r\nQ 20.21875 56 33.015625 56 \r\nQ 37.15625 56 41.109375 55.140625 \r\nQ 45.0625 54.296875 48.78125 52.59375 \r\nz\r\n\" id=\"DejaVuSans-99\"/>\r\n      </defs>\r\n      <use xlink:href=\"#DejaVuSans-100\"/>\r\n      <use x=\"63.476562\" xlink:href=\"#DejaVuSans-105\"/>\r\n      <use x=\"91.259766\" xlink:href=\"#DejaVuSans-115\"/>\r\n      <use x=\"143.359375\" xlink:href=\"#DejaVuSans-99\"/>\r\n     </g>\r\n    </g>\r\n    <g id=\"patch_4\">\r\n     <path d=\"M 491.379687 53.159375 \r\nL 511.379687 53.159375 \r\nL 511.379687 46.159375 \r\nL 491.379687 46.159375 \r\nz\r\n\" style=\"fill:#7f7f7f;stroke:#7f7f7f;stroke-linejoin:miter;\"/>\r\n    </g>\r\n    <g id=\"text_2\">\r\n     <!-- cont -->\r\n     <g transform=\"translate(519.379687 53.159375)scale(0.1 -0.1)\">\r\n      <defs>\r\n       <path d=\"M 30.609375 48.390625 \r\nQ 23.390625 48.390625 19.1875 42.75 \r\nQ 14.984375 37.109375 14.984375 27.296875 \r\nQ 14.984375 17.484375 19.15625 11.84375 \r\nQ 23.34375 6.203125 30.609375 6.203125 \r\nQ 37.796875 6.203125 41.984375 11.859375 \r\nQ 46.1875 17.53125 46.1875 27.296875 \r\nQ 46.1875 37.015625 41.984375 42.703125 \r\nQ 37.796875 48.390625 30.609375 48.390625 \r\nz\r\nM 30.609375 56 \r\nQ 42.328125 56 49.015625 48.375 \r\nQ 55.71875 40.765625 55.71875 27.296875 \r\nQ 55.71875 13.875 49.015625 6.21875 \r\nQ 42.328125 -1.421875 30.609375 -1.421875 \r\nQ 18.84375 -1.421875 12.171875 6.21875 \r\nQ 5.515625 13.875 5.515625 27.296875 \r\nQ 5.515625 40.765625 12.171875 48.375 \r\nQ 18.84375 56 30.609375 56 \r\nz\r\n\" id=\"DejaVuSans-111\"/>\r\n       <path d=\"M 54.890625 33.015625 \r\nL 54.890625 0 \r\nL 45.90625 0 \r\nL 45.90625 32.71875 \r\nQ 45.90625 40.484375 42.875 44.328125 \r\nQ 39.84375 48.1875 33.796875 48.1875 \r\nQ 26.515625 48.1875 22.3125 43.546875 \r\nQ 18.109375 38.921875 18.109375 30.90625 \r\nL 18.109375 0 \r\nL 9.078125 0 \r\nL 9.078125 54.6875 \r\nL 18.109375 54.6875 \r\nL 18.109375 46.1875 \r\nQ 21.34375 51.125 25.703125 53.5625 \r\nQ 30.078125 56 35.796875 56 \r\nQ 45.21875 56 50.046875 50.171875 \r\nQ 54.890625 44.34375 54.890625 33.015625 \r\nz\r\n\" id=\"DejaVuSans-110\"/>\r\n       <path d=\"M 18.3125 70.21875 \r\nL 18.3125 54.6875 \r\nL 36.8125 54.6875 \r\nL 36.8125 47.703125 \r\nL 18.3125 47.703125 \r\nL 18.3125 18.015625 \r\nQ 18.3125 11.328125 20.140625 9.421875 \r\nQ 21.96875 7.515625 27.59375 7.515625 \r\nL 36.8125 7.515625 \r\nL 36.8125 0 \r\nL 27.59375 0 \r\nQ 17.1875 0 13.234375 3.875 \r\nQ 9.28125 7.765625 9.28125 18.015625 \r\nL 9.28125 47.703125 \r\nL 2.6875 47.703125 \r\nL 2.6875 54.6875 \r\nL 9.28125 54.6875 \r\nL 9.28125 70.21875 \r\nz\r\n\" id=\"DejaVuSans-116\"/>\r\n      </defs>\r\n      <use xlink:href=\"#DejaVuSans-99\"/>\r\n      <use x=\"54.980469\" xlink:href=\"#DejaVuSans-111\"/>\r\n      <use x=\"116.162109\" xlink:href=\"#DejaVuSans-110\"/>\r\n      <use x=\"179.541016\" xlink:href=\"#DejaVuSans-116\"/>\r\n     </g>\r\n    </g>\r\n   </g>\r\n  </g>\r\n </g>\r\n</svg>\r\n",
      "image/png": "[encoded data removed]"
     },
     "metadata": {
      "needs_background": "light"
     }
    },
    {
     "output_type": "execute_result",
     "data": {
      "text/plain": [
       "<IPython.lib.display.IFrame at 0x2ddee636400>"
      ],
      "text/html": "\n        <iframe\n            width=\"100%\"\n            height=\"800px\"\n            src=\"../visualization_result/geo_net.html\"\n            frameborder=\"0\"\n            allowfullscreen\n        ></iframe>\n        "
     },
     "metadata": {},
     "execution_count": 305
    }
   ],
   "source": [
    "draw_BN(bn_geo, geo_types, 'geo_net')"
   ]
  },
  {
   "cell_type": "code",
   "execution_count": 306,
   "metadata": {},
   "outputs": [],
   "source": [
    "params = parameter_learning(geo_only_discrete, geo_new_types, bn_geo)"
   ]
  },
  {
   "cell_type": "code",
   "execution_count": 307,
   "metadata": {},
   "outputs": [],
   "source": [
    "save_structure(bn_geo, 'geo_net')\n",
    "skel = read_structure('geo_net')\n",
    "save_params(params, 'geo_net_param')\n",
    "params = read_params('geo_net_param')\n",
    "geo_bn = HyBayesianNetwork(skel, params)"
   ]
  },
  {
   "cell_type": "code",
   "execution_count": 308,
   "metadata": {},
   "outputs": [
    {
     "output_type": "stream",
     "name": "stderr",
     "text": [
      "C:\\Users\\anaxa\\AppData\\Local\\Programs\\Python\\Python38\\lib\\site-packages\\sklearn\\metrics\\_classification.py:208: FutureWarning: elementwise comparison failed; returning scalar instead, but in the future will perform elementwise comparison\n  score = y_true == y_pred\nC:\\Users\\anaxa\\AppData\\Local\\Programs\\Python\\Python38\\lib\\site-packages\\sklearn\\metrics\\_classification.py:208: FutureWarning: elementwise comparison failed; returning scalar instead, but in the future will perform elementwise comparison\n  score = y_true == y_pred\nC:\\Users\\anaxa\\AppData\\Local\\Programs\\Python\\Python38\\lib\\site-packages\\sklearn\\metrics\\_classification.py:208: FutureWarning: elementwise comparison failed; returning scalar instead, but in the future will perform elementwise comparison\n  score = y_true == y_pred\nC:\\Users\\anaxa\\AppData\\Local\\Programs\\Python\\Python38\\lib\\site-packages\\sklearn\\metrics\\_classification.py:208: FutureWarning: elementwise comparison failed; returning scalar instead, but in the future will perform elementwise comparison\n  score = y_true == y_pred\n"
     ]
    }
   ],
   "source": [
    "acc, rmse, real, pred = calculate_acc(geo_bn, test_discrete, columns)"
   ]
  },
  {
   "cell_type": "code",
   "execution_count": 309,
   "metadata": {},
   "outputs": [
    {
     "output_type": "execute_result",
     "data": {
      "text/plain": [
       "{'sex': 0.56,\n",
       " 'relation': 0.27,\n",
       " 'is_parent': 0.74,\n",
       " 'has_pets': 0.95,\n",
       " 'age': 0.0,\n",
       " 'mean_tr': 0.0,\n",
       " 'median_tr': 0.0,\n",
       " 'tr_per_month': 0.0}"
      ]
     },
     "metadata": {},
     "execution_count": 309
    }
   ],
   "source": [
    "acc"
   ]
  },
  {
   "cell_type": "code",
   "execution_count": 310,
   "metadata": {},
   "outputs": [],
   "source": [
    "for key in colums_for_code:\n",
    "    df_result_accuracy = df_result_accuracy.append({'Parameter': key, 'Strategy': 'evo', 'Alg':'D+D','accuracy':acc[key]}, ignore_index=True)"
   ]
  },
  {
   "cell_type": "code",
   "execution_count": 311,
   "metadata": {},
   "outputs": [],
   "source": [
    "invers_real = inverse_discretization(pd.DataFrame(np.transpose(real[4:8]), columns=['age', 'mean_tr', 'median_tr', 'tr_per_month']), ['age', 'mean_tr', 'median_tr', 'tr_per_month'], discrete_coder)"
   ]
  },
  {
   "cell_type": "code",
   "execution_count": 312,
   "metadata": {},
   "outputs": [],
   "source": [
    "invers_pred = inverse_discretization(pd.DataFrame(np.transpose(pred[4:8]), columns=['age', 'mean_tr', 'median_tr', 'tr_per_month']), ['age', 'mean_tr', 'median_tr', 'tr_per_month'], discrete_coder)"
   ]
  },
  {
   "cell_type": "code",
   "execution_count": 313,
   "metadata": {},
   "outputs": [],
   "source": [
    "m = mean_squared_error(invers_real['age'], invers_pred['age'], squared=False)\n",
    "df_result_rmse = df_result_rmse.append({'Parameter': 'age', 'Strategy': 'evo', 'Alg':'D+D','rmse':m}, ignore_index=True)"
   ]
  },
  {
   "cell_type": "code",
   "execution_count": 314,
   "metadata": {},
   "outputs": [],
   "source": [
    "m = mean_squared_error(invers_real['mean_tr'], invers_pred['mean_tr'], squared=False)\n",
    "df_result_rmse = df_result_rmse.append({'Parameter': 'mean_tr', 'Strategy': 'evo', 'Alg':'D+D','rmse':m}, ignore_index=True)"
   ]
  },
  {
   "cell_type": "code",
   "execution_count": 315,
   "metadata": {},
   "outputs": [],
   "source": [
    "m = mean_squared_error(invers_real['median_tr'], invers_pred['median_tr'], squared=False)\n",
    "df_result_rmse = df_result_rmse.append({'Parameter': 'median_tr', 'Strategy': 'evo', 'Alg':'D+D','rmse':m}, ignore_index=True)"
   ]
  },
  {
   "cell_type": "code",
   "execution_count": 316,
   "metadata": {},
   "outputs": [],
   "source": [
    "m = mean_squared_error(invers_real['tr_per_month'], invers_pred['tr_per_month'], squared=False)\n",
    "df_result_rmse = df_result_rmse.append({'Parameter': 'tr_per_month', 'Strategy': 'evo', 'Alg':'D+D','rmse':m}, ignore_index=True)"
   ]
  },
  {
   "cell_type": "code",
   "execution_count": 317,
   "metadata": {},
   "outputs": [],
   "source": [
    "sample_d_d_evo = pd.DataFrame(geo_bn.randomsample(5000))\n",
    "sample_d_d_evo = inverse_discretization(sample_d_d_evo, columns_for_disc, discrete_coder)"
   ]
  },
  {
   "source": [
    "# Смешанная структура + дискретные параметры"
   ],
   "cell_type": "markdown",
   "metadata": {}
  },
  {
   "cell_type": "code",
   "execution_count": 318,
   "metadata": {},
   "outputs": [
    {
     "output_type": "stream",
     "name": "stdout",
     "text": [
      "Cannot add to history: 'str' object has no attribute 'operation_type'\n",
      "Best metric is 17.823995062865052\n",
      "Generation num: 0\n",
      "max_depth: 3, no improvements: 0\n",
      "Number of crossover attempts exceeded. Please check composer requirements for correctness.\n",
      "Number of crossover attempts exceeded. Please check composer requirements for correctness.\n",
      "Cannot add to history: 'str' object has no attribute 'operation_type'\n",
      "spent time: 0.5 min\n",
      "Best metric is 17.823995062865052\n",
      "Generation num: 1\n",
      "max_depth: 3, no improvements: 1\n",
      "Number of crossover attempts exceeded. Please check composer requirements for correctness.\n",
      "Number of crossover attempts exceeded. Please check composer requirements for correctness.\n",
      "Cannot add to history: 'str' object has no attribute 'operation_type'\n",
      "spent time: 0.7 min\n",
      "Best metric is 17.738130240826788\n",
      "Generation num: 2\n",
      "max_depth: 3, no improvements: 0\n",
      "Number of crossover attempts exceeded. Please check composer requirements for correctness.\n",
      "Cannot add to history: 'str' object has no attribute 'operation_type'\n",
      "spent time: 0.9 min\n",
      "Best metric is 17.738130240826788\n",
      "Generation num: 3\n",
      "max_depth: 3, no improvements: 1\n",
      "Cannot add to history: 'str' object has no attribute 'operation_type'\n",
      "spent time: 1.2 min\n",
      "Best metric is 17.738130240826788\n",
      "Generation num: 4\n",
      "max_depth: 3, no improvements: 2\n",
      "Cannot add to history: 'str' object has no attribute 'operation_type'\n",
      "spent time: 1.4 min\n",
      "Best metric is 17.738130240826788\n",
      "Generation num: 5\n",
      "max_depth: 3, no improvements: 3\n",
      "Cannot add to history: 'str' object has no attribute 'operation_type'\n",
      "spent time: 1.7 min\n",
      "Best metric is 17.45233477826293\n",
      "Generation num: 6\n",
      "max_depth: 3, no improvements: 0\n",
      "Cannot add to history: 'str' object has no attribute 'operation_type'\n",
      "spent time: 1.9 min\n",
      "Best metric is 11.851698160852978\n",
      "Generation num: 7\n",
      "max_depth: 3, no improvements: 0\n",
      "Number of mutation attempts exceeded. Please check composer requirements for correctness.\n",
      "Cannot add to history: 'str' object has no attribute 'operation_type'\n",
      "spent time: 2.2 min\n",
      "Best metric is 11.851698160852978\n",
      "Generation num: 8\n",
      "max_depth: 3, no improvements: 1\n",
      "Number of mutation attempts exceeded. Please check composer requirements for correctness.\n",
      "Cannot add to history: 'str' object has no attribute 'operation_type'\n",
      "spent time: 2.5 min\n",
      "Best metric is 11.376557245611707\n",
      "Generation num: 9\n",
      "max_depth: 3, no improvements: 0\n",
      "Cannot add to history: 'str' object has no attribute 'operation_type'\n",
      "spent time: 2.8 min\n",
      "Best metric is 11.340899716525676\n",
      "Generation num: 10\n",
      "max_depth: 3, no improvements: 0\n",
      "Cannot add to history: 'str' object has no attribute 'operation_type'\n",
      "spent time: 3.1 min\n",
      "Best metric is 11.340899716525676\n",
      "Generation num: 11\n",
      "max_depth: 3, no improvements: 1\n",
      "Cannot add to history: 'str' object has no attribute 'operation_type'\n",
      "spent time: 3.4 min\n",
      "Best metric is 11.32687393393853\n",
      "Generation num: 12\n",
      "max_depth: 3, no improvements: 0\n",
      "Cannot add to history: 'str' object has no attribute 'operation_type'\n",
      "spent time: 3.7 min\n",
      "Best metric is 11.32687393393853\n",
      "Generation num: 13\n",
      "max_depth: 3, no improvements: 1\n",
      "Number of mutation attempts exceeded. Please check composer requirements for correctness.\n",
      "Cannot add to history: 'str' object has no attribute 'operation_type'\n",
      "spent time: 4.0 min\n",
      "Best metric is 11.315103801366885\n",
      "Generation num: 14\n",
      "max_depth: 3, no improvements: 0\n",
      "Cannot add to history: 'str' object has no attribute 'operation_type'\n",
      "spent time: 4.3 min\n",
      "Best metric is 11.289791923122069\n",
      "Generation num: 15\n",
      "max_depth: 3, no improvements: 0\n",
      "Number of mutation attempts exceeded. Please check composer requirements for correctness.\n",
      "Cannot add to history: 'str' object has no attribute 'operation_type'\n",
      "spent time: 4.5 min\n",
      "Best metric is 11.289791923122069\n",
      "Generation num: 16\n",
      "max_depth: 3, no improvements: 1\n",
      "Cannot add to history: 'str' object has no attribute 'operation_type'\n",
      "spent time: 4.8 min\n",
      "Best metric is 11.289791923122069\n",
      "Generation num: 17\n",
      "max_depth: 3, no improvements: 2\n",
      "Number of mutation attempts exceeded. Please check composer requirements for correctness.\n",
      "Cannot add to history: 'str' object has no attribute 'operation_type'\n",
      "spent time: 5.1 min\n",
      "Best metric is 8.954893103399883\n",
      "Generation num: 18\n",
      "max_depth: 3, no improvements: 0\n",
      "Number of mutation attempts exceeded. Please check composer requirements for correctness.\n",
      "Cannot add to history: 'str' object has no attribute 'operation_type'\n",
      "spent time: 5.4 min\n",
      "Best metric is 8.954893103399883\n",
      "Generation num: 19\n",
      "max_depth: 3, no improvements: 1\n",
      "Number of mutation attempts exceeded. Please check composer requirements for correctness.\n",
      "Cannot add to history: 'str' object has no attribute 'operation_type'\n",
      "spent time: 5.7 min\n",
      "Best metric is 8.954893103399883\n",
      "Generation num: 20\n",
      "max_depth: 3, no improvements: 2\n",
      "Number of mutation attempts exceeded. Please check composer requirements for correctness.\n",
      "Cannot add to history: 'str' object has no attribute 'operation_type'\n",
      "spent time: 5.9 min\n",
      "Best metric is 7.605319031937703\n",
      "Generation num: 21\n",
      "max_depth: 3, no improvements: 0\n",
      "Cannot add to history: 'str' object has no attribute 'operation_type'\n",
      "spent time: 6.2 min\n",
      "Best metric is 7.605319031937703\n",
      "Generation num: 22\n",
      "max_depth: 3, no improvements: 1\n",
      "Number of mutation attempts exceeded. Please check composer requirements for correctness.\n",
      "Number of mutation attempts exceeded. Please check composer requirements for correctness.\n",
      "Cannot add to history: 'str' object has no attribute 'operation_type'\n",
      "spent time: 6.5 min\n",
      "Best metric is 7.605319031937703\n",
      "Generation num: 23\n",
      "max_depth: 3, no improvements: 2\n",
      "Number of mutation attempts exceeded. Please check composer requirements for correctness.\n",
      "Number of mutation attempts exceeded. Please check composer requirements for correctness.\n",
      "Cannot add to history: 'str' object has no attribute 'operation_type'\n",
      "spent time: 6.8 min\n",
      "Best metric is 7.605319031937703\n",
      "Generation num: 24\n",
      "max_depth: 3, no improvements: 3\n",
      "Cannot add to history: 'str' object has no attribute 'operation_type'\n",
      "spent time: 7.2 min\n",
      "Best metric is 7.605319031937703\n",
      "Generation num: 25\n",
      "max_depth: 3, no improvements: 4\n",
      "Cannot add to history: 'str' object has no attribute 'operation_type'\n",
      "spent time: 7.4 min\n",
      "Best metric is 7.605319031937703\n",
      "Generation num: 26\n",
      "max_depth: 3, no improvements: 5\n",
      "Cannot add to history: 'str' object has no attribute 'operation_type'\n",
      "spent time: 7.7 min\n",
      "Best metric is 7.592989318557614\n",
      "Generation num: 27\n",
      "max_depth: 3, no improvements: 0\n",
      "Cannot add to history: 'str' object has no attribute 'operation_type'\n",
      "spent time: 8.1 min\n",
      "Best metric is 7.54398605513524\n",
      "Generation num: 28\n",
      "max_depth: 3, no improvements: 0\n",
      "Cannot add to history: 'str' object has no attribute 'operation_type'\n",
      "spent time: 8.4 min\n",
      "Best metric is 7.54398605513524\n",
      "Result:\n",
      "Best metric is 7.54398605513524\n",
      "Composition time: 8.399 min\n"
     ]
    }
   ],
   "source": [
    "bn_geo = structure_learning(geo_coded, 'evo', 'MI', geo_new_types)"
   ]
  },
  {
   "cell_type": "code",
   "execution_count": 319,
   "metadata": {},
   "outputs": [
    {
     "output_type": "display_data",
     "data": {
      "text/plain": "<Figure size 2025x225 with 1 Axes>",
      "image/svg+xml": "<?xml version=\"1.0\" encoding=\"utf-8\" standalone=\"no\"?>\r\n<!DOCTYPE svg PUBLIC \"-//W3C//DTD SVG 1.1//EN\"\r\n  \"http://www.w3.org/Graphics/SVG/1.1/DTD/svg11.dtd\">\r\n<!-- Created with matplotlib (https://matplotlib.org/) -->\r\n<svg height=\"100.8pt\" version=\"1.1\" viewBox=\"0 0 964.8 100.8\" width=\"964.8pt\" xmlns=\"http://www.w3.org/2000/svg\" xmlns:xlink=\"http://www.w3.org/1999/xlink\">\r\n <metadata>\r\n  <rdf:RDF xmlns:cc=\"http://creativecommons.org/ns#\" xmlns:dc=\"http://purl.org/dc/elements/1.1/\" xmlns:rdf=\"http://www.w3.org/1999/02/22-rdf-syntax-ns#\">\r\n   <cc:Work>\r\n    <dc:type rdf:resource=\"http://purl.org/dc/dcmitype/StillImage\"/>\r\n    <dc:date>2021-05-02T20:46:10.634234</dc:date>\r\n    <dc:format>image/svg+xml</dc:format>\r\n    <dc:creator>\r\n     <cc:Agent>\r\n      <dc:title>Matplotlib v3.3.4, https://matplotlib.org/</dc:title>\r\n     </cc:Agent>\r\n    </dc:creator>\r\n   </cc:Work>\r\n  </rdf:RDF>\r\n </metadata>\r\n <defs>\r\n  <style type=\"text/css\">*{stroke-linecap:butt;stroke-linejoin:round;}</style>\r\n </defs>\r\n <g id=\"figure_1\">\r\n  <g id=\"patch_1\">\r\n   <path d=\"M 0 100.8 \r\nL 964.8 100.8 \r\nL 964.8 0 \r\nL 0 0 \r\nz\r\n\" style=\"fill:none;\"/>\r\n  </g>\r\n  <g id=\"axes_1\">\r\n   <g id=\"legend_1\">\r\n    <g id=\"patch_2\">\r\n     <path d=\"M 421.545312 59.239062 \r\nL 543.254687 59.239062 \r\nQ 545.254687 59.239062 545.254687 57.239062 \r\nL 545.254687 43.560937 \r\nQ 545.254687 41.560937 543.254687 41.560937 \r\nL 421.545312 41.560937 \r\nQ 419.545312 41.560937 419.545312 43.560937 \r\nL 419.545312 57.239062 \r\nQ 419.545312 59.239062 421.545312 59.239062 \r\nz\r\n\" style=\"fill:#ffffff;opacity:0.8;stroke:#cccccc;stroke-linejoin:miter;\"/>\r\n    </g>\r\n    <g id=\"patch_3\">\r\n     <path d=\"M 423.545312 53.159375 \r\nL 443.545312 53.159375 \r\nL 443.545312 46.159375 \r\nL 423.545312 46.159375 \r\nz\r\n\" style=\"fill:#d62728;stroke:#d62728;stroke-linejoin:miter;\"/>\r\n    </g>\r\n    <g id=\"text_1\">\r\n     <!-- disc -->\r\n     <g transform=\"translate(451.545312 53.159375)scale(0.1 -0.1)\">\r\n      <defs>\r\n       <path d=\"M 45.40625 46.390625 \r\nL 45.40625 75.984375 \r\nL 54.390625 75.984375 \r\nL 54.390625 0 \r\nL 45.40625 0 \r\nL 45.40625 8.203125 \r\nQ 42.578125 3.328125 38.25 0.953125 \r\nQ 33.9375 -1.421875 27.875 -1.421875 \r\nQ 17.96875 -1.421875 11.734375 6.484375 \r\nQ 5.515625 14.40625 5.515625 27.296875 \r\nQ 5.515625 40.1875 11.734375 48.09375 \r\nQ 17.96875 56 27.875 56 \r\nQ 33.9375 56 38.25 53.625 \r\nQ 42.578125 51.265625 45.40625 46.390625 \r\nz\r\nM 14.796875 27.296875 \r\nQ 14.796875 17.390625 18.875 11.75 \r\nQ 22.953125 6.109375 30.078125 6.109375 \r\nQ 37.203125 6.109375 41.296875 11.75 \r\nQ 45.40625 17.390625 45.40625 27.296875 \r\nQ 45.40625 37.203125 41.296875 42.84375 \r\nQ 37.203125 48.484375 30.078125 48.484375 \r\nQ 22.953125 48.484375 18.875 42.84375 \r\nQ 14.796875 37.203125 14.796875 27.296875 \r\nz\r\n\" id=\"DejaVuSans-100\"/>\r\n       <path d=\"M 9.421875 54.6875 \r\nL 18.40625 54.6875 \r\nL 18.40625 0 \r\nL 9.421875 0 \r\nz\r\nM 9.421875 75.984375 \r\nL 18.40625 75.984375 \r\nL 18.40625 64.59375 \r\nL 9.421875 64.59375 \r\nz\r\n\" id=\"DejaVuSans-105\"/>\r\n       <path d=\"M 44.28125 53.078125 \r\nL 44.28125 44.578125 \r\nQ 40.484375 46.53125 36.375 47.5 \r\nQ 32.28125 48.484375 27.875 48.484375 \r\nQ 21.1875 48.484375 17.84375 46.4375 \r\nQ 14.5 44.390625 14.5 40.28125 \r\nQ 14.5 37.15625 16.890625 35.375 \r\nQ 19.28125 33.59375 26.515625 31.984375 \r\nL 29.59375 31.296875 \r\nQ 39.15625 29.25 43.1875 25.515625 \r\nQ 47.21875 21.78125 47.21875 15.09375 \r\nQ 47.21875 7.46875 41.1875 3.015625 \r\nQ 35.15625 -1.421875 24.609375 -1.421875 \r\nQ 20.21875 -1.421875 15.453125 -0.5625 \r\nQ 10.6875 0.296875 5.421875 2 \r\nL 5.421875 11.28125 \r\nQ 10.40625 8.6875 15.234375 7.390625 \r\nQ 20.0625 6.109375 24.8125 6.109375 \r\nQ 31.15625 6.109375 34.5625 8.28125 \r\nQ 37.984375 10.453125 37.984375 14.40625 \r\nQ 37.984375 18.0625 35.515625 20.015625 \r\nQ 33.0625 21.96875 24.703125 23.78125 \r\nL 21.578125 24.515625 \r\nQ 13.234375 26.265625 9.515625 29.90625 \r\nQ 5.8125 33.546875 5.8125 39.890625 \r\nQ 5.8125 47.609375 11.28125 51.796875 \r\nQ 16.75 56 26.8125 56 \r\nQ 31.78125 56 36.171875 55.265625 \r\nQ 40.578125 54.546875 44.28125 53.078125 \r\nz\r\n\" id=\"DejaVuSans-115\"/>\r\n       <path d=\"M 48.78125 52.59375 \r\nL 48.78125 44.1875 \r\nQ 44.96875 46.296875 41.140625 47.34375 \r\nQ 37.3125 48.390625 33.40625 48.390625 \r\nQ 24.65625 48.390625 19.8125 42.84375 \r\nQ 14.984375 37.3125 14.984375 27.296875 \r\nQ 14.984375 17.28125 19.8125 11.734375 \r\nQ 24.65625 6.203125 33.40625 6.203125 \r\nQ 37.3125 6.203125 41.140625 7.25 \r\nQ 44.96875 8.296875 48.78125 10.40625 \r\nL 48.78125 2.09375 \r\nQ 45.015625 0.34375 40.984375 -0.53125 \r\nQ 36.96875 -1.421875 32.421875 -1.421875 \r\nQ 20.0625 -1.421875 12.78125 6.34375 \r\nQ 5.515625 14.109375 5.515625 27.296875 \r\nQ 5.515625 40.671875 12.859375 48.328125 \r\nQ 20.21875 56 33.015625 56 \r\nQ 37.15625 56 41.109375 55.140625 \r\nQ 45.0625 54.296875 48.78125 52.59375 \r\nz\r\n\" id=\"DejaVuSans-99\"/>\r\n      </defs>\r\n      <use xlink:href=\"#DejaVuSans-100\"/>\r\n      <use x=\"63.476562\" xlink:href=\"#DejaVuSans-105\"/>\r\n      <use x=\"91.259766\" xlink:href=\"#DejaVuSans-115\"/>\r\n      <use x=\"143.359375\" xlink:href=\"#DejaVuSans-99\"/>\r\n     </g>\r\n    </g>\r\n    <g id=\"patch_4\">\r\n     <path d=\"M 491.379687 53.159375 \r\nL 511.379687 53.159375 \r\nL 511.379687 46.159375 \r\nL 491.379687 46.159375 \r\nz\r\n\" style=\"fill:#7f7f7f;stroke:#7f7f7f;stroke-linejoin:miter;\"/>\r\n    </g>\r\n    <g id=\"text_2\">\r\n     <!-- cont -->\r\n     <g transform=\"translate(519.379687 53.159375)scale(0.1 -0.1)\">\r\n      <defs>\r\n       <path d=\"M 30.609375 48.390625 \r\nQ 23.390625 48.390625 19.1875 42.75 \r\nQ 14.984375 37.109375 14.984375 27.296875 \r\nQ 14.984375 17.484375 19.15625 11.84375 \r\nQ 23.34375 6.203125 30.609375 6.203125 \r\nQ 37.796875 6.203125 41.984375 11.859375 \r\nQ 46.1875 17.53125 46.1875 27.296875 \r\nQ 46.1875 37.015625 41.984375 42.703125 \r\nQ 37.796875 48.390625 30.609375 48.390625 \r\nz\r\nM 30.609375 56 \r\nQ 42.328125 56 49.015625 48.375 \r\nQ 55.71875 40.765625 55.71875 27.296875 \r\nQ 55.71875 13.875 49.015625 6.21875 \r\nQ 42.328125 -1.421875 30.609375 -1.421875 \r\nQ 18.84375 -1.421875 12.171875 6.21875 \r\nQ 5.515625 13.875 5.515625 27.296875 \r\nQ 5.515625 40.765625 12.171875 48.375 \r\nQ 18.84375 56 30.609375 56 \r\nz\r\n\" id=\"DejaVuSans-111\"/>\r\n       <path d=\"M 54.890625 33.015625 \r\nL 54.890625 0 \r\nL 45.90625 0 \r\nL 45.90625 32.71875 \r\nQ 45.90625 40.484375 42.875 44.328125 \r\nQ 39.84375 48.1875 33.796875 48.1875 \r\nQ 26.515625 48.1875 22.3125 43.546875 \r\nQ 18.109375 38.921875 18.109375 30.90625 \r\nL 18.109375 0 \r\nL 9.078125 0 \r\nL 9.078125 54.6875 \r\nL 18.109375 54.6875 \r\nL 18.109375 46.1875 \r\nQ 21.34375 51.125 25.703125 53.5625 \r\nQ 30.078125 56 35.796875 56 \r\nQ 45.21875 56 50.046875 50.171875 \r\nQ 54.890625 44.34375 54.890625 33.015625 \r\nz\r\n\" id=\"DejaVuSans-110\"/>\r\n       <path d=\"M 18.3125 70.21875 \r\nL 18.3125 54.6875 \r\nL 36.8125 54.6875 \r\nL 36.8125 47.703125 \r\nL 18.3125 47.703125 \r\nL 18.3125 18.015625 \r\nQ 18.3125 11.328125 20.140625 9.421875 \r\nQ 21.96875 7.515625 27.59375 7.515625 \r\nL 36.8125 7.515625 \r\nL 36.8125 0 \r\nL 27.59375 0 \r\nQ 17.1875 0 13.234375 3.875 \r\nQ 9.28125 7.765625 9.28125 18.015625 \r\nL 9.28125 47.703125 \r\nL 2.6875 47.703125 \r\nL 2.6875 54.6875 \r\nL 9.28125 54.6875 \r\nL 9.28125 70.21875 \r\nz\r\n\" id=\"DejaVuSans-116\"/>\r\n      </defs>\r\n      <use xlink:href=\"#DejaVuSans-99\"/>\r\n      <use x=\"54.980469\" xlink:href=\"#DejaVuSans-111\"/>\r\n      <use x=\"116.162109\" xlink:href=\"#DejaVuSans-110\"/>\r\n      <use x=\"179.541016\" xlink:href=\"#DejaVuSans-116\"/>\r\n     </g>\r\n    </g>\r\n   </g>\r\n  </g>\r\n </g>\r\n</svg>\r\n",
      "image/png": "[encoded data removed]"
     },
     "metadata": {
      "needs_background": "light"
     }
    },
    {
     "output_type": "execute_result",
     "data": {
      "text/plain": [
       "<IPython.lib.display.IFrame at 0x2ddf1479250>"
      ],
      "text/html": "\n        <iframe\n            width=\"100%\"\n            height=\"800px\"\n            src=\"../visualization_result/geo_net.html\"\n            frameborder=\"0\"\n            allowfullscreen\n        ></iframe>\n        "
     },
     "metadata": {},
     "execution_count": 319
    }
   ],
   "source": [
    "draw_BN(bn_geo, geo_types, 'geo_net')"
   ]
  },
  {
   "cell_type": "code",
   "execution_count": 320,
   "metadata": {},
   "outputs": [],
   "source": [
    "params = parameter_learning(geo_only_discrete, geo_new_types, bn_geo)"
   ]
  },
  {
   "cell_type": "code",
   "execution_count": 321,
   "metadata": {},
   "outputs": [],
   "source": [
    "save_structure(bn_geo, 'geo_net')\n",
    "skel = read_structure('geo_net')\n",
    "save_params(params, 'geo_net_param')\n",
    "params = read_params('geo_net_param')\n",
    "geo_bn = HyBayesianNetwork(skel, params)"
   ]
  },
  {
   "cell_type": "code",
   "execution_count": 322,
   "metadata": {},
   "outputs": [
    {
     "output_type": "stream",
     "name": "stderr",
     "text": [
      "C:\\Users\\anaxa\\AppData\\Local\\Programs\\Python\\Python38\\lib\\site-packages\\sklearn\\metrics\\_classification.py:208: FutureWarning: elementwise comparison failed; returning scalar instead, but in the future will perform elementwise comparison\n  score = y_true == y_pred\nC:\\Users\\anaxa\\AppData\\Local\\Programs\\Python\\Python38\\lib\\site-packages\\sklearn\\metrics\\_classification.py:208: FutureWarning: elementwise comparison failed; returning scalar instead, but in the future will perform elementwise comparison\n  score = y_true == y_pred\nC:\\Users\\anaxa\\AppData\\Local\\Programs\\Python\\Python38\\lib\\site-packages\\sklearn\\metrics\\_classification.py:208: FutureWarning: elementwise comparison failed; returning scalar instead, but in the future will perform elementwise comparison\n  score = y_true == y_pred\nC:\\Users\\anaxa\\AppData\\Local\\Programs\\Python\\Python38\\lib\\site-packages\\sklearn\\metrics\\_classification.py:208: FutureWarning: elementwise comparison failed; returning scalar instead, but in the future will perform elementwise comparison\n  score = y_true == y_pred\n"
     ]
    }
   ],
   "source": [
    "acc, rmse, real, pred = calculate_acc(geo_bn, test_discrete, columns)"
   ]
  },
  {
   "cell_type": "code",
   "execution_count": 323,
   "metadata": {},
   "outputs": [
    {
     "output_type": "execute_result",
     "data": {
      "text/plain": [
       "{'sex': 0.56,\n",
       " 'relation': 0.27,\n",
       " 'is_parent': 0.74,\n",
       " 'has_pets': 0.95,\n",
       " 'age': 0.0,\n",
       " 'mean_tr': 0.0,\n",
       " 'median_tr': 0.0,\n",
       " 'tr_per_month': 0.0}"
      ]
     },
     "metadata": {},
     "execution_count": 323
    }
   ],
   "source": [
    "acc"
   ]
  },
  {
   "cell_type": "code",
   "execution_count": 324,
   "metadata": {},
   "outputs": [],
   "source": [
    "for key in colums_for_code:\n",
    "    df_result_accuracy = df_result_accuracy.append({'Parameter': key, 'Strategy': 'evo', 'Alg':'M+D','accuracy':acc[key]}, ignore_index=True)"
   ]
  },
  {
   "cell_type": "code",
   "execution_count": 325,
   "metadata": {},
   "outputs": [],
   "source": [
    "invers_real = inverse_discretization(pd.DataFrame(np.transpose(real[4:8]), columns=['age', 'mean_tr', 'median_tr', 'tr_per_month']), ['age', 'mean_tr', 'median_tr', 'tr_per_month'], discrete_coder)"
   ]
  },
  {
   "cell_type": "code",
   "execution_count": 326,
   "metadata": {},
   "outputs": [],
   "source": [
    "invers_pred = inverse_discretization(pd.DataFrame(np.transpose(pred[4:8]), columns=['age', 'mean_tr', 'median_tr', 'tr_per_month']), ['age', 'mean_tr', 'median_tr', 'tr_per_month'], discrete_coder)"
   ]
  },
  {
   "cell_type": "code",
   "execution_count": 327,
   "metadata": {},
   "outputs": [],
   "source": [
    "m = mean_squared_error(invers_real['age'], invers_pred['age'], squared=False)\n",
    "df_result_rmse = df_result_rmse.append({'Parameter': 'age', 'Strategy': 'evo', 'Alg':'M+D','rmse':m}, ignore_index=True)"
   ]
  },
  {
   "cell_type": "code",
   "execution_count": 328,
   "metadata": {},
   "outputs": [],
   "source": [
    "m = mean_squared_error(invers_real['mean_tr'], invers_pred['mean_tr'], squared=False)\n",
    "df_result_rmse = df_result_rmse.append({'Parameter': 'mean_tr', 'Strategy': 'evo', 'Alg':'M+D','rmse':m}, ignore_index=True)"
   ]
  },
  {
   "cell_type": "code",
   "execution_count": 329,
   "metadata": {},
   "outputs": [],
   "source": [
    "m = mean_squared_error(invers_real['median_tr'], invers_pred['median_tr'], squared=False)\n",
    "df_result_rmse = df_result_rmse.append({'Parameter': 'median_tr', 'Strategy': 'evo', 'Alg':'M+D','rmse':m}, ignore_index=True)"
   ]
  },
  {
   "cell_type": "code",
   "execution_count": 330,
   "metadata": {},
   "outputs": [],
   "source": [
    "m = mean_squared_error(invers_real['tr_per_month'], invers_pred['tr_per_month'], squared=False)\n",
    "df_result_rmse = df_result_rmse.append({'Parameter': 'tr_per_month', 'Strategy': 'evo', 'Alg':'M+D','rmse':m}, ignore_index=True)"
   ]
  },
  {
   "cell_type": "code",
   "execution_count": 331,
   "metadata": {},
   "outputs": [],
   "source": [
    "df_result_accuracy.to_csv('socio_results_disc.csv', index=False)\n",
    "df_result_rmse.to_csv('socio_results_cont.csv', index=False)"
   ]
  },
  {
   "cell_type": "code",
   "execution_count": 332,
   "metadata": {},
   "outputs": [],
   "source": [
    "geo_sample = geo.loc[geo['tr_per_month'] < 100]"
   ]
  },
  {
   "cell_type": "code",
   "execution_count": 333,
   "metadata": {},
   "outputs": [
    {
     "output_type": "stream",
     "name": "stderr",
     "text": [
      "C:\\Users\\anaxa\\AppData\\Local\\Programs\\Python\\Python38\\lib\\site-packages\\seaborn\\distributions.py:2557: FutureWarning: `distplot` is a deprecated function and will be removed in a future version. Please adapt your code to use either `displot` (a figure-level function with similar flexibility) or `histplot` (an axes-level function for histograms).\n  warnings.warn(msg, FutureWarning)\nC:\\Users\\anaxa\\AppData\\Local\\Programs\\Python\\Python38\\lib\\site-packages\\seaborn\\distributions.py:2557: FutureWarning: `distplot` is a deprecated function and will be removed in a future version. Please adapt your code to use either `displot` (a figure-level function with similar flexibility) or `histplot` (an axes-level function for histograms).\n  warnings.warn(msg, FutureWarning)\nC:\\Users\\anaxa\\AppData\\Local\\Programs\\Python\\Python38\\lib\\site-packages\\seaborn\\distributions.py:2557: FutureWarning: `distplot` is a deprecated function and will be removed in a future version. Please adapt your code to use either `displot` (a figure-level function with similar flexibility) or `histplot` (an axes-level function for histograms).\n  warnings.warn(msg, FutureWarning)\n"
     ]
    },
    {
     "output_type": "execute_result",
     "data": {
      "text/plain": [
       "<AxesSubplot:xlabel='age', ylabel='Density'>"
      ]
     },
     "metadata": {},
     "execution_count": 333
    },
    {
     "output_type": "display_data",
     "data": {
      "text/plain": "<Figure size 432x288 with 1 Axes>",
      "image/svg+xml": "<?xml version=\"1.0\" encoding=\"utf-8\" standalone=\"no\"?>\r\n<!DOCTYPE svg PUBLIC \"-//W3C//DTD SVG 1.1//EN\"\r\n  \"http://www.w3.org/Graphics/SVG/1.1/DTD/svg11.dtd\">\r\n<!-- Created with matplotlib (https://matplotlib.org/) -->\r\n<svg height=\"263.160424pt\" version=\"1.1\" viewBox=\"0 0 392.14375 263.160424\" width=\"392.14375pt\" xmlns=\"http://www.w3.org/2000/svg\" xmlns:xlink=\"http://www.w3.org/1999/xlink\">\r\n <metadata>\r\n  <rdf:RDF xmlns:cc=\"http://creativecommons.org/ns#\" xmlns:dc=\"http://purl.org/dc/elements/1.1/\" xmlns:rdf=\"http://www.w3.org/1999/02/22-rdf-syntax-ns#\">\r\n   <cc:Work>\r\n    <dc:type rdf:resource=\"http://purl.org/dc/dcmitype/StillImage\"/>\r\n    <dc:date>2021-05-02T20:48:17.559235</dc:date>\r\n    <dc:format>image/svg+xml</dc:format>\r\n    <dc:creator>\r\n     <cc:Agent>\r\n      <dc:title>Matplotlib v3.3.4, https://matplotlib.org/</dc:title>\r\n     </cc:Agent>\r\n    </dc:creator>\r\n   </cc:Work>\r\n  </rdf:RDF>\r\n </metadata>\r\n <defs>\r\n  <style type=\"text/css\">*{stroke-linecap:butt;stroke-linejoin:round;}</style>\r\n </defs>\r\n <g id=\"figure_1\">\r\n  <g id=\"patch_1\">\r\n   <path d=\"M 0 263.160424 \r\nL 392.14375 263.160424 \r\nL 392.14375 0 \r\nL 0 0 \r\nz\r\n\" style=\"fill:none;\"/>\r\n  </g>\r\n  <g id=\"axes_1\">\r\n   <g id=\"patch_2\">\r\n    <path d=\"M 50.14375 225.604174 \r\nL 384.94375 225.604174 \r\nL 384.94375 8.164174 \r\nL 50.14375 8.164174 \r\nz\r\n\" style=\"fill:#ffffff;\"/>\r\n   </g>\r\n   <g id=\"patch_3\">\r\n    <path clip-path=\"url(#p433186ba58)\" d=\"M 157.543525 225.604174 \r\nL 164.604963 225.604174 \r\nL 164.604963 224.375216 \r\nL 157.543525 224.375216 \r\nz\r\n\" style=\"fill:#1f77b4;opacity:0.4;\"/>\r\n   </g>\r\n   <g id=\"patch_4\">\r\n    <path clip-path=\"url(#p433186ba58)\" d=\"M 164.604963 225.604174 \r\nL 171.666401 225.604174 \r\nL 171.666401 212.2612 \r\nL 164.604963 212.2612 \r\nz\r\n\" style=\"fill:#1f77b4;opacity:0.4;\"/>\r\n   </g>\r\n   <g id=\"patch_5\">\r\n    <path clip-path=\"url(#p433186ba58)\" d=\"M 171.666401 225.604174 \r\nL 178.727839 225.604174 \r\nL 178.727839 172.758972 \r\nL 171.666401 172.758972 \r\nz\r\n\" style=\"fill:#1f77b4;opacity:0.4;\"/>\r\n   </g>\r\n   <g id=\"patch_6\">\r\n    <path clip-path=\"url(#p433186ba58)\" d=\"M 178.727839 225.604174 \r\nL 185.789277 225.604174 \r\nL 185.789277 154.149033 \r\nL 178.727839 154.149033 \r\nz\r\n\" style=\"fill:#1f77b4;opacity:0.4;\"/>\r\n   </g>\r\n   <g id=\"patch_7\">\r\n    <path clip-path=\"url(#p433186ba58)\" d=\"M 185.789277 225.604174 \r\nL 192.850715 225.604174 \r\nL 192.850715 191.193345 \r\nL 185.789277 191.193345 \r\nz\r\n\" style=\"fill:#1f77b4;opacity:0.4;\"/>\r\n   </g>\r\n   <g id=\"patch_8\">\r\n    <path clip-path=\"url(#p433186ba58)\" d=\"M 192.850715 225.604174 \r\nL 199.912153 225.604174 \r\nL 199.912153 187.857601 \r\nL 192.850715 187.857601 \r\nz\r\n\" style=\"fill:#1f77b4;opacity:0.4;\"/>\r\n   </g>\r\n   <g id=\"patch_9\">\r\n    <path clip-path=\"url(#p433186ba58)\" d=\"M 199.912153 225.604174 \r\nL 206.973591 225.604174 \r\nL 206.973591 157.133646 \r\nL 199.912153 157.133646 \r\nz\r\n\" style=\"fill:#1f77b4;opacity:0.4;\"/>\r\n   </g>\r\n   <g id=\"patch_10\">\r\n    <path clip-path=\"url(#p433186ba58)\" d=\"M 206.973591 225.604174 \r\nL 214.035029 225.604174 \r\nL 214.035029 183.819596 \r\nL 206.973591 183.819596 \r\nz\r\n\" style=\"fill:#1f77b4;opacity:0.4;\"/>\r\n   </g>\r\n   <g id=\"patch_11\">\r\n    <path clip-path=\"url(#p433186ba58)\" d=\"M 214.035029 225.604174 \r\nL 221.096467 225.604174 \r\nL 221.096467 184.170726 \r\nL 214.035029 184.170726 \r\nz\r\n\" style=\"fill:#1f77b4;opacity:0.4;\"/>\r\n   </g>\r\n   <g id=\"patch_12\">\r\n    <path clip-path=\"url(#p433186ba58)\" d=\"M 221.096467 225.604174 \r\nL 228.157906 225.604174 \r\nL 228.157906 171.530014 \r\nL 221.096467 171.530014 \r\nz\r\n\" style=\"fill:#1f77b4;opacity:0.4;\"/>\r\n   </g>\r\n   <g id=\"patch_13\">\r\n    <path clip-path=\"url(#p433186ba58)\" d=\"M 228.157906 225.604174 \r\nL 235.219344 225.604174 \r\nL 235.219344 194.353523 \r\nL 228.157906 194.353523 \r\nz\r\n\" style=\"fill:#1f77b4;opacity:0.4;\"/>\r\n   </g>\r\n   <g id=\"patch_14\">\r\n    <path clip-path=\"url(#p433186ba58)\" d=\"M 235.219344 225.604174 \r\nL 242.280782 225.604174 \r\nL 242.280782 194.880219 \r\nL 235.219344 194.880219 \r\nz\r\n\" style=\"fill:#1f77b4;opacity:0.4;\"/>\r\n   </g>\r\n   <g id=\"patch_15\">\r\n    <path clip-path=\"url(#p433186ba58)\" d=\"M 242.280782 225.604174 \r\nL 249.34222 225.604174 \r\nL 249.34222 204.711885 \r\nL 242.280782 204.711885 \r\nz\r\n\" style=\"fill:#1f77b4;opacity:0.4;\"/>\r\n   </g>\r\n   <g id=\"patch_16\">\r\n    <path clip-path=\"url(#p433186ba58)\" d=\"M 249.34222 225.604174 \r\nL 256.403658 225.604174 \r\nL 256.403658 188.384297 \r\nL 249.34222 188.384297 \r\nz\r\n\" style=\"fill:#1f77b4;opacity:0.4;\"/>\r\n   </g>\r\n   <g id=\"patch_17\">\r\n    <path clip-path=\"url(#p433186ba58)\" d=\"M 256.403658 225.604174 \r\nL 263.465096 225.604174 \r\nL 263.465096 205.414147 \r\nL 256.403658 205.414147 \r\nz\r\n\" style=\"fill:#1f77b4;opacity:0.4;\"/>\r\n   </g>\r\n   <g id=\"patch_18\">\r\n    <path clip-path=\"url(#p433186ba58)\" d=\"M 263.465096 225.604174 \r\nL 270.526534 225.604174 \r\nL 270.526534 207.696498 \r\nL 263.465096 207.696498 \r\nz\r\n\" style=\"fill:#1f77b4;opacity:0.4;\"/>\r\n   </g>\r\n   <g id=\"patch_19\">\r\n    <path clip-path=\"url(#p433186ba58)\" d=\"M 270.526534 225.604174 \r\nL 277.587972 225.604174 \r\nL 277.587972 204.185189 \r\nL 270.526534 204.185189 \r\nz\r\n\" style=\"fill:#1f77b4;opacity:0.4;\"/>\r\n   </g>\r\n   <g id=\"patch_20\">\r\n    <path clip-path=\"url(#p433186ba58)\" d=\"M 277.587972 225.604174 \r\nL 284.64941 225.604174 \r\nL 284.64941 211.734503 \r\nL 277.587972 211.734503 \r\nz\r\n\" style=\"fill:#1f77b4;opacity:0.4;\"/>\r\n   </g>\r\n   <g id=\"patch_21\">\r\n    <path clip-path=\"url(#p433186ba58)\" d=\"M 284.64941 225.604174 \r\nL 291.710848 225.604174 \r\nL 291.710848 210.154414 \r\nL 284.64941 210.154414 \r\nz\r\n\" style=\"fill:#1f77b4;opacity:0.4;\"/>\r\n   </g>\r\n   <g id=\"patch_22\">\r\n    <path clip-path=\"url(#p433186ba58)\" d=\"M 291.710848 225.604174 \r\nL 298.772286 225.604174 \r\nL 298.772286 208.047629 \r\nL 291.710848 208.047629 \r\nz\r\n\" style=\"fill:#1f77b4;opacity:0.4;\"/>\r\n   </g>\r\n   <g id=\"patch_23\">\r\n    <path clip-path=\"url(#p433186ba58)\" d=\"M 298.772286 225.604174 \r\nL 305.833724 225.604174 \r\nL 305.833724 216.825901 \r\nL 298.772286 216.825901 \r\nz\r\n\" style=\"fill:#1f77b4;opacity:0.4;\"/>\r\n   </g>\r\n   <g id=\"patch_24\">\r\n    <path clip-path=\"url(#p433186ba58)\" d=\"M 305.833724 225.604174 \r\nL 312.895162 225.604174 \r\nL 312.895162 219.283818 \r\nL 305.833724 219.283818 \r\nz\r\n\" style=\"fill:#1f77b4;opacity:0.4;\"/>\r\n   </g>\r\n   <g id=\"patch_25\">\r\n    <path clip-path=\"url(#p433186ba58)\" d=\"M 312.895162 225.604174 \r\nL 319.9566 225.604174 \r\nL 319.9566 218.757122 \r\nL 312.895162 218.757122 \r\nz\r\n\" style=\"fill:#1f77b4;opacity:0.4;\"/>\r\n   </g>\r\n   <g id=\"patch_26\">\r\n    <path clip-path=\"url(#p433186ba58)\" d=\"M 87.507558 225.604174 \r\nL 94.009367 225.604174 \r\nL 94.009367 225.383302 \r\nL 87.507558 225.383302 \r\nz\r\n\" style=\"fill:#ff7f0e;opacity:0.4;\"/>\r\n   </g>\r\n   <g id=\"patch_27\">\r\n    <path clip-path=\"url(#p433186ba58)\" d=\"M 94.009367 225.604174 \r\nL 100.511177 225.604174 \r\nL 100.511177 225.604174 \r\nL 94.009367 225.604174 \r\nz\r\n\" style=\"fill:#ff7f0e;opacity:0.4;\"/>\r\n   </g>\r\n   <g id=\"patch_28\">\r\n    <path clip-path=\"url(#p433186ba58)\" d=\"M 100.511177 225.604174 \r\nL 107.012987 225.604174 \r\nL 107.012987 225.604174 \r\nL 100.511177 225.604174 \r\nz\r\n\" style=\"fill:#ff7f0e;opacity:0.4;\"/>\r\n   </g>\r\n   <g id=\"patch_29\">\r\n    <path clip-path=\"url(#p433186ba58)\" d=\"M 107.012987 225.604174 \r\nL 113.514796 225.604174 \r\nL 113.514796 224.720684 \r\nL 107.012987 224.720684 \r\nz\r\n\" style=\"fill:#ff7f0e;opacity:0.4;\"/>\r\n   </g>\r\n   <g id=\"patch_30\">\r\n    <path clip-path=\"url(#p433186ba58)\" d=\"M 113.514796 225.604174 \r\nL 120.016606 225.604174 \r\nL 120.016606 225.162429 \r\nL 113.514796 225.162429 \r\nz\r\n\" style=\"fill:#ff7f0e;opacity:0.4;\"/>\r\n   </g>\r\n   <g id=\"patch_31\">\r\n    <path clip-path=\"url(#p433186ba58)\" d=\"M 120.016606 225.604174 \r\nL 126.518415 225.604174 \r\nL 126.518415 225.162429 \r\nL 120.016606 225.162429 \r\nz\r\n\" style=\"fill:#ff7f0e;opacity:0.4;\"/>\r\n   </g>\r\n   <g id=\"patch_32\">\r\n    <path clip-path=\"url(#p433186ba58)\" d=\"M 126.518415 225.604174 \r\nL 133.020225 225.604174 \r\nL 133.020225 224.278938 \r\nL 126.518415 224.278938 \r\nz\r\n\" style=\"fill:#ff7f0e;opacity:0.4;\"/>\r\n   </g>\r\n   <g id=\"patch_33\">\r\n    <path clip-path=\"url(#p433186ba58)\" d=\"M 133.020225 225.604174 \r\nL 139.522035 225.604174 \r\nL 139.522035 221.18672 \r\nL 133.020225 221.18672 \r\nz\r\n\" style=\"fill:#ff7f0e;opacity:0.4;\"/>\r\n   </g>\r\n   <g id=\"patch_34\">\r\n    <path clip-path=\"url(#p433186ba58)\" d=\"M 139.522035 225.604174 \r\nL 146.023844 225.604174 \r\nL 146.023844 218.977993 \r\nL 139.522035 218.977993 \r\nz\r\n\" style=\"fill:#ff7f0e;opacity:0.4;\"/>\r\n   </g>\r\n   <g id=\"patch_35\">\r\n    <path clip-path=\"url(#p433186ba58)\" d=\"M 146.023844 225.604174 \r\nL 152.525654 225.604174 \r\nL 152.525654 219.198866 \r\nL 146.023844 219.198866 \r\nz\r\n\" style=\"fill:#ff7f0e;opacity:0.4;\"/>\r\n   </g>\r\n   <g id=\"patch_36\">\r\n    <path clip-path=\"url(#p433186ba58)\" d=\"M 152.525654 225.604174 \r\nL 159.027464 225.604174 \r\nL 159.027464 216.106648 \r\nL 152.525654 216.106648 \r\nz\r\n\" style=\"fill:#ff7f0e;opacity:0.4;\"/>\r\n   </g>\r\n   <g id=\"patch_37\">\r\n    <path clip-path=\"url(#p433186ba58)\" d=\"M 159.027464 225.604174 \r\nL 165.529273 225.604174 \r\nL 165.529273 215.44403 \r\nL 159.027464 215.44403 \r\nz\r\n\" style=\"fill:#ff7f0e;opacity:0.4;\"/>\r\n   </g>\r\n   <g id=\"patch_38\">\r\n    <path clip-path=\"url(#p433186ba58)\" d=\"M 165.529273 225.604174 \r\nL 172.031083 225.604174 \r\nL 172.031083 208.155231 \r\nL 165.529273 208.155231 \r\nz\r\n\" style=\"fill:#ff7f0e;opacity:0.4;\"/>\r\n   </g>\r\n   <g id=\"patch_39\">\r\n    <path clip-path=\"url(#p433186ba58)\" d=\"M 172.031083 225.604174 \r\nL 178.532892 225.604174 \r\nL 178.532892 204.621268 \r\nL 172.031083 204.621268 \r\nz\r\n\" style=\"fill:#ff7f0e;opacity:0.4;\"/>\r\n   </g>\r\n   <g id=\"patch_40\">\r\n    <path clip-path=\"url(#p433186ba58)\" d=\"M 178.532892 225.604174 \r\nL 185.034702 225.604174 \r\nL 185.034702 199.982941 \r\nL 178.532892 199.982941 \r\nz\r\n\" style=\"fill:#ff7f0e;opacity:0.4;\"/>\r\n   </g>\r\n   <g id=\"patch_41\">\r\n    <path clip-path=\"url(#p433186ba58)\" d=\"M 185.034702 225.604174 \r\nL 191.536512 225.604174 \r\nL 191.536512 192.47327 \r\nL 185.034702 192.47327 \r\nz\r\n\" style=\"fill:#ff7f0e;opacity:0.4;\"/>\r\n   </g>\r\n   <g id=\"patch_42\">\r\n    <path clip-path=\"url(#p433186ba58)\" d=\"M 191.536512 225.604174 \r\nL 198.038321 225.604174 \r\nL 198.038321 188.055816 \r\nL 191.536512 188.055816 \r\nz\r\n\" style=\"fill:#ff7f0e;opacity:0.4;\"/>\r\n   </g>\r\n   <g id=\"patch_43\">\r\n    <path clip-path=\"url(#p433186ba58)\" d=\"M 198.038321 225.604174 \r\nL 204.540131 225.604174 \r\nL 204.540131 180.987889 \r\nL 198.038321 180.987889 \r\nz\r\n\" style=\"fill:#ff7f0e;opacity:0.4;\"/>\r\n   </g>\r\n   <g id=\"patch_44\">\r\n    <path clip-path=\"url(#p433186ba58)\" d=\"M 204.540131 225.604174 \r\nL 211.04194 225.604174 \r\nL 211.04194 182.754871 \r\nL 204.540131 182.754871 \r\nz\r\n\" style=\"fill:#ff7f0e;opacity:0.4;\"/>\r\n   </g>\r\n   <g id=\"patch_45\">\r\n    <path clip-path=\"url(#p433186ba58)\" d=\"M 211.04194 225.604174 \r\nL 217.54375 225.604174 \r\nL 217.54375 178.116544 \r\nL 211.04194 178.116544 \r\nz\r\n\" style=\"fill:#ff7f0e;opacity:0.4;\"/>\r\n   </g>\r\n   <g id=\"patch_46\">\r\n    <path clip-path=\"url(#p433186ba58)\" d=\"M 217.54375 225.604174 \r\nL 224.04556 225.604174 \r\nL 224.04556 170.827745 \r\nL 217.54375 170.827745 \r\nz\r\n\" style=\"fill:#ff7f0e;opacity:0.4;\"/>\r\n   </g>\r\n   <g id=\"patch_47\">\r\n    <path clip-path=\"url(#p433186ba58)\" d=\"M 224.04556 225.604174 \r\nL 230.547369 225.604174 \r\nL 230.547369 175.245199 \r\nL 224.04556 175.245199 \r\nz\r\n\" style=\"fill:#ff7f0e;opacity:0.4;\"/>\r\n   </g>\r\n   <g id=\"patch_48\">\r\n    <path clip-path=\"url(#p433186ba58)\" d=\"M 230.547369 225.604174 \r\nL 237.049179 225.604174 \r\nL 237.049179 179.000035 \r\nL 230.547369 179.000035 \r\nz\r\n\" style=\"fill:#ff7f0e;opacity:0.4;\"/>\r\n   </g>\r\n   <g id=\"patch_49\">\r\n    <path clip-path=\"url(#p433186ba58)\" d=\"M 237.049179 225.604174 \r\nL 243.550988 225.604174 \r\nL 243.550988 177.895671 \r\nL 237.049179 177.895671 \r\nz\r\n\" style=\"fill:#ff7f0e;opacity:0.4;\"/>\r\n   </g>\r\n   <g id=\"patch_50\">\r\n    <path clip-path=\"url(#p433186ba58)\" d=\"M 243.550988 225.604174 \r\nL 250.052798 225.604174 \r\nL 250.052798 183.859234 \r\nL 243.550988 183.859234 \r\nz\r\n\" style=\"fill:#ff7f0e;opacity:0.4;\"/>\r\n   </g>\r\n   <g id=\"patch_51\">\r\n    <path clip-path=\"url(#p433186ba58)\" d=\"M 250.052798 225.604174 \r\nL 256.554608 225.604174 \r\nL 256.554608 192.252397 \r\nL 250.052798 192.252397 \r\nz\r\n\" style=\"fill:#ff7f0e;opacity:0.4;\"/>\r\n   </g>\r\n   <g id=\"patch_52\">\r\n    <path clip-path=\"url(#p433186ba58)\" d=\"M 256.554608 225.604174 \r\nL 263.056417 225.604174 \r\nL 263.056417 194.019378 \r\nL 256.554608 194.019378 \r\nz\r\n\" style=\"fill:#ff7f0e;opacity:0.4;\"/>\r\n   </g>\r\n   <g id=\"patch_53\">\r\n    <path clip-path=\"url(#p433186ba58)\" d=\"M 263.056417 225.604174 \r\nL 269.558227 225.604174 \r\nL 269.558227 199.982941 \r\nL 263.056417 199.982941 \r\nz\r\n\" style=\"fill:#ff7f0e;opacity:0.4;\"/>\r\n   </g>\r\n   <g id=\"patch_54\">\r\n    <path clip-path=\"url(#p433186ba58)\" d=\"M 269.558227 225.604174 \r\nL 276.060036 225.604174 \r\nL 276.060036 203.075159 \r\nL 269.558227 203.075159 \r\nz\r\n\" style=\"fill:#ff7f0e;opacity:0.4;\"/>\r\n   </g>\r\n   <g id=\"patch_55\">\r\n    <path clip-path=\"url(#p433186ba58)\" d=\"M 276.060036 225.604174 \r\nL 282.561846 225.604174 \r\nL 282.561846 211.468322 \r\nL 276.060036 211.468322 \r\nz\r\n\" style=\"fill:#ff7f0e;opacity:0.4;\"/>\r\n   </g>\r\n   <g id=\"patch_56\">\r\n    <path clip-path=\"url(#p433186ba58)\" d=\"M 282.561846 225.604174 \r\nL 289.063656 225.604174 \r\nL 289.063656 215.002285 \r\nL 282.561846 215.002285 \r\nz\r\n\" style=\"fill:#ff7f0e;opacity:0.4;\"/>\r\n   </g>\r\n   <g id=\"patch_57\">\r\n    <path clip-path=\"url(#p433186ba58)\" d=\"M 289.063656 225.604174 \r\nL 295.565465 225.604174 \r\nL 295.565465 215.44403 \r\nL 289.063656 215.44403 \r\nz\r\n\" style=\"fill:#ff7f0e;opacity:0.4;\"/>\r\n   </g>\r\n   <g id=\"patch_58\">\r\n    <path clip-path=\"url(#p433186ba58)\" d=\"M 295.565465 225.604174 \r\nL 302.067275 225.604174 \r\nL 302.067275 216.990139 \r\nL 295.565465 216.990139 \r\nz\r\n\" style=\"fill:#ff7f0e;opacity:0.4;\"/>\r\n   </g>\r\n   <g id=\"patch_59\">\r\n    <path clip-path=\"url(#p433186ba58)\" d=\"M 302.067275 225.604174 \r\nL 308.569085 225.604174 \r\nL 308.569085 219.861484 \r\nL 302.067275 219.861484 \r\nz\r\n\" style=\"fill:#ff7f0e;opacity:0.4;\"/>\r\n   </g>\r\n   <g id=\"patch_60\">\r\n    <path clip-path=\"url(#p433186ba58)\" d=\"M 308.569085 225.604174 \r\nL 315.070894 225.604174 \r\nL 315.070894 222.511957 \r\nL 308.569085 222.511957 \r\nz\r\n\" style=\"fill:#ff7f0e;opacity:0.4;\"/>\r\n   </g>\r\n   <g id=\"patch_61\">\r\n    <path clip-path=\"url(#p433186ba58)\" d=\"M 315.070894 225.604174 \r\nL 321.572704 225.604174 \r\nL 321.572704 223.395447 \r\nL 315.070894 223.395447 \r\nz\r\n\" style=\"fill:#ff7f0e;opacity:0.4;\"/>\r\n   </g>\r\n   <g id=\"patch_62\">\r\n    <path clip-path=\"url(#p433186ba58)\" d=\"M 321.572704 225.604174 \r\nL 328.074513 225.604174 \r\nL 328.074513 223.61632 \r\nL 321.572704 223.61632 \r\nz\r\n\" style=\"fill:#ff7f0e;opacity:0.4;\"/>\r\n   </g>\r\n   <g id=\"patch_63\">\r\n    <path clip-path=\"url(#p433186ba58)\" d=\"M 328.074513 225.604174 \r\nL 334.576323 225.604174 \r\nL 334.576323 225.162429 \r\nL 328.074513 225.162429 \r\nz\r\n\" style=\"fill:#ff7f0e;opacity:0.4;\"/>\r\n   </g>\r\n   <g id=\"patch_64\">\r\n    <path clip-path=\"url(#p433186ba58)\" d=\"M 334.576323 225.604174 \r\nL 341.078133 225.604174 \r\nL 341.078133 225.162429 \r\nL 334.576323 225.162429 \r\nz\r\n\" style=\"fill:#ff7f0e;opacity:0.4;\"/>\r\n   </g>\r\n   <g id=\"patch_65\">\r\n    <path clip-path=\"url(#p433186ba58)\" d=\"M 341.078133 225.604174 \r\nL 347.579942 225.604174 \r\nL 347.579942 224.941556 \r\nL 341.078133 224.941556 \r\nz\r\n\" style=\"fill:#ff7f0e;opacity:0.4;\"/>\r\n   </g>\r\n   <g id=\"patch_66\">\r\n    <path clip-path=\"url(#p433186ba58)\" d=\"M 171.333315 225.604174 \r\nL 176.396232 225.604174 \r\nL 176.396232 64.166386 \r\nL 171.333315 64.166386 \r\nz\r\n\" style=\"fill:#2ca02c;opacity:0.4;\"/>\r\n   </g>\r\n   <g id=\"patch_67\">\r\n    <path clip-path=\"url(#p433186ba58)\" d=\"M 176.396232 225.604174 \r\nL 181.45915 225.604174 \r\nL 181.45915 225.604174 \r\nL 176.396232 225.604174 \r\nz\r\n\" style=\"fill:#2ca02c;opacity:0.4;\"/>\r\n   </g>\r\n   <g id=\"patch_68\">\r\n    <path clip-path=\"url(#p433186ba58)\" d=\"M 181.45915 225.604174 \r\nL 186.522068 225.604174 \r\nL 186.522068 225.604174 \r\nL 181.45915 225.604174 \r\nz\r\n\" style=\"fill:#2ca02c;opacity:0.4;\"/>\r\n   </g>\r\n   <g id=\"patch_69\">\r\n    <path clip-path=\"url(#p433186ba58)\" d=\"M 186.522068 225.604174 \r\nL 191.584986 225.604174 \r\nL 191.584986 225.604174 \r\nL 186.522068 225.604174 \r\nz\r\n\" style=\"fill:#2ca02c;opacity:0.4;\"/>\r\n   </g>\r\n   <g id=\"patch_70\">\r\n    <path clip-path=\"url(#p433186ba58)\" d=\"M 191.584986 225.604174 \r\nL 196.647904 225.604174 \r\nL 196.647904 29.837661 \r\nL 191.584986 29.837661 \r\nz\r\n\" style=\"fill:#2ca02c;opacity:0.4;\"/>\r\n   </g>\r\n   <g id=\"patch_71\">\r\n    <path clip-path=\"url(#p433186ba58)\" d=\"M 196.647904 225.604174 \r\nL 201.710822 225.604174 \r\nL 201.710822 225.604174 \r\nL 196.647904 225.604174 \r\nz\r\n\" style=\"fill:#2ca02c;opacity:0.4;\"/>\r\n   </g>\r\n   <g id=\"patch_72\">\r\n    <path clip-path=\"url(#p433186ba58)\" d=\"M 201.710822 225.604174 \r\nL 206.773739 225.604174 \r\nL 206.773739 225.604174 \r\nL 201.710822 225.604174 \r\nz\r\n\" style=\"fill:#2ca02c;opacity:0.4;\"/>\r\n   </g>\r\n   <g id=\"patch_73\">\r\n    <path clip-path=\"url(#p433186ba58)\" d=\"M 206.773739 225.604174 \r\nL 211.836657 225.604174 \r\nL 211.836657 225.604174 \r\nL 206.773739 225.604174 \r\nz\r\n\" style=\"fill:#2ca02c;opacity:0.4;\"/>\r\n   </g>\r\n   <g id=\"patch_74\">\r\n    <path clip-path=\"url(#p433186ba58)\" d=\"M 211.836657 225.604174 \r\nL 216.899575 225.604174 \r\nL 216.899575 52.476064 \r\nL 211.836657 52.476064 \r\nz\r\n\" style=\"fill:#2ca02c;opacity:0.4;\"/>\r\n   </g>\r\n   <g id=\"patch_75\">\r\n    <path clip-path=\"url(#p433186ba58)\" d=\"M 216.899575 225.604174 \r\nL 221.962493 225.604174 \r\nL 221.962493 225.604174 \r\nL 216.899575 225.604174 \r\nz\r\n\" style=\"fill:#2ca02c;opacity:0.4;\"/>\r\n   </g>\r\n   <g id=\"patch_76\">\r\n    <path clip-path=\"url(#p433186ba58)\" d=\"M 221.962493 225.604174 \r\nL 227.025411 225.604174 \r\nL 227.025411 225.604174 \r\nL 221.962493 225.604174 \r\nz\r\n\" style=\"fill:#2ca02c;opacity:0.4;\"/>\r\n   </g>\r\n   <g id=\"patch_77\">\r\n    <path clip-path=\"url(#p433186ba58)\" d=\"M 227.025411 225.604174 \r\nL 232.088329 225.604174 \r\nL 232.088329 225.604174 \r\nL 227.025411 225.604174 \r\nz\r\n\" style=\"fill:#2ca02c;opacity:0.4;\"/>\r\n   </g>\r\n   <g id=\"patch_78\">\r\n    <path clip-path=\"url(#p433186ba58)\" d=\"M 232.088329 225.604174 \r\nL 237.151246 225.604174 \r\nL 237.151246 225.604174 \r\nL 232.088329 225.604174 \r\nz\r\n\" style=\"fill:#2ca02c;opacity:0.4;\"/>\r\n   </g>\r\n   <g id=\"patch_79\">\r\n    <path clip-path=\"url(#p433186ba58)\" d=\"M 237.151246 225.604174 \r\nL 242.214164 225.604174 \r\nL 242.214164 18.51846 \r\nL 237.151246 18.51846 \r\nz\r\n\" style=\"fill:#2ca02c;opacity:0.4;\"/>\r\n   </g>\r\n   <g id=\"patch_80\">\r\n    <path clip-path=\"url(#p433186ba58)\" d=\"M 242.214164 225.604174 \r\nL 247.277082 225.604174 \r\nL 247.277082 225.604174 \r\nL 242.214164 225.604174 \r\nz\r\n\" style=\"fill:#2ca02c;opacity:0.4;\"/>\r\n   </g>\r\n   <g id=\"patch_81\">\r\n    <path clip-path=\"url(#p433186ba58)\" d=\"M 247.277082 225.604174 \r\nL 252.34 225.604174 \r\nL 252.34 225.604174 \r\nL 247.277082 225.604174 \r\nz\r\n\" style=\"fill:#2ca02c;opacity:0.4;\"/>\r\n   </g>\r\n   <g id=\"patch_82\">\r\n    <path clip-path=\"url(#p433186ba58)\" d=\"M 252.34 225.604174 \r\nL 257.402918 225.604174 \r\nL 257.402918 225.604174 \r\nL 252.34 225.604174 \r\nz\r\n\" style=\"fill:#2ca02c;opacity:0.4;\"/>\r\n   </g>\r\n   <g id=\"patch_83\">\r\n    <path clip-path=\"url(#p433186ba58)\" d=\"M 257.402918 225.604174 \r\nL 262.465836 225.604174 \r\nL 262.465836 225.604174 \r\nL 257.402918 225.604174 \r\nz\r\n\" style=\"fill:#2ca02c;opacity:0.4;\"/>\r\n   </g>\r\n   <g id=\"patch_84\">\r\n    <path clip-path=\"url(#p433186ba58)\" d=\"M 262.465836 225.604174 \r\nL 267.528753 225.604174 \r\nL 267.528753 225.604174 \r\nL 262.465836 225.604174 \r\nz\r\n\" style=\"fill:#2ca02c;opacity:0.4;\"/>\r\n   </g>\r\n   <g id=\"patch_85\">\r\n    <path clip-path=\"url(#p433186ba58)\" d=\"M 267.528753 225.604174 \r\nL 272.591671 225.604174 \r\nL 272.591671 225.604174 \r\nL 267.528753 225.604174 \r\nz\r\n\" style=\"fill:#2ca02c;opacity:0.4;\"/>\r\n   </g>\r\n   <g id=\"patch_86\">\r\n    <path clip-path=\"url(#p433186ba58)\" d=\"M 272.591671 225.604174 \r\nL 277.654589 225.604174 \r\nL 277.654589 225.604174 \r\nL 272.591671 225.604174 \r\nz\r\n\" style=\"fill:#2ca02c;opacity:0.4;\"/>\r\n   </g>\r\n   <g id=\"patch_87\">\r\n    <path clip-path=\"url(#p433186ba58)\" d=\"M 277.654589 225.604174 \r\nL 282.717507 225.604174 \r\nL 282.717507 225.604174 \r\nL 277.654589 225.604174 \r\nz\r\n\" style=\"fill:#2ca02c;opacity:0.4;\"/>\r\n   </g>\r\n   <g id=\"patch_88\">\r\n    <path clip-path=\"url(#p433186ba58)\" d=\"M 282.717507 225.604174 \r\nL 287.780425 225.604174 \r\nL 287.780425 35.218921 \r\nL 282.717507 35.218921 \r\nz\r\n\" style=\"fill:#2ca02c;opacity:0.4;\"/>\r\n   </g>\r\n   <g id=\"matplotlib.axis_1\">\r\n    <g id=\"xtick_1\">\r\n     <g id=\"line2d_1\">\r\n      <defs>\r\n       <path d=\"M 0 0 \r\nL 0 3.5 \r\n\" id=\"md9fdcafd5b\" style=\"stroke:#000000;stroke-width:0.8;\"/>\r\n      </defs>\r\n      <g>\r\n       <use style=\"stroke:#000000;stroke-width:0.8;\" x=\"108.513163\" xlink:href=\"#md9fdcafd5b\" y=\"225.604174\"/>\r\n      </g>\r\n     </g>\r\n     <g id=\"text_1\">\r\n      <!-- 0 -->\r\n      <g transform=\"translate(105.331913 240.202612)scale(0.1 -0.1)\">\r\n       <defs>\r\n        <path d=\"M 31.78125 66.40625 \r\nQ 24.171875 66.40625 20.328125 58.90625 \r\nQ 16.5 51.421875 16.5 36.375 \r\nQ 16.5 21.390625 20.328125 13.890625 \r\nQ 24.171875 6.390625 31.78125 6.390625 \r\nQ 39.453125 6.390625 43.28125 13.890625 \r\nQ 47.125 21.390625 47.125 36.375 \r\nQ 47.125 51.421875 43.28125 58.90625 \r\nQ 39.453125 66.40625 31.78125 66.40625 \r\nz\r\nM 31.78125 74.21875 \r\nQ 44.046875 74.21875 50.515625 64.515625 \r\nQ 56.984375 54.828125 56.984375 36.375 \r\nQ 56.984375 17.96875 50.515625 8.265625 \r\nQ 44.046875 -1.421875 31.78125 -1.421875 \r\nQ 19.53125 -1.421875 13.0625 8.265625 \r\nQ 6.59375 17.96875 6.59375 36.375 \r\nQ 6.59375 54.828125 13.0625 64.515625 \r\nQ 19.53125 74.21875 31.78125 74.21875 \r\nz\r\n\" id=\"DejaVuSans-48\"/>\r\n       </defs>\r\n       <use xlink:href=\"#DejaVuSans-48\"/>\r\n      </g>\r\n     </g>\r\n    </g>\r\n    <g id=\"xtick_2\">\r\n     <g id=\"line2d_2\">\r\n      <g>\r\n       <use style=\"stroke:#000000;stroke-width:0.8;\" x=\"169.801116\" xlink:href=\"#md9fdcafd5b\" y=\"225.604174\"/>\r\n      </g>\r\n     </g>\r\n     <g id=\"text_2\">\r\n      <!-- 20 -->\r\n      <g transform=\"translate(163.438616 240.202612)scale(0.1 -0.1)\">\r\n       <defs>\r\n        <path d=\"M 19.1875 8.296875 \r\nL 53.609375 8.296875 \r\nL 53.609375 0 \r\nL 7.328125 0 \r\nL 7.328125 8.296875 \r\nQ 12.9375 14.109375 22.625 23.890625 \r\nQ 32.328125 33.6875 34.8125 36.53125 \r\nQ 39.546875 41.84375 41.421875 45.53125 \r\nQ 43.3125 49.21875 43.3125 52.78125 \r\nQ 43.3125 58.59375 39.234375 62.25 \r\nQ 35.15625 65.921875 28.609375 65.921875 \r\nQ 23.96875 65.921875 18.8125 64.3125 \r\nQ 13.671875 62.703125 7.8125 59.421875 \r\nL 7.8125 69.390625 \r\nQ 13.765625 71.78125 18.9375 73 \r\nQ 24.125 74.21875 28.421875 74.21875 \r\nQ 39.75 74.21875 46.484375 68.546875 \r\nQ 53.21875 62.890625 53.21875 53.421875 \r\nQ 53.21875 48.921875 51.53125 44.890625 \r\nQ 49.859375 40.875 45.40625 35.40625 \r\nQ 44.1875 33.984375 37.640625 27.21875 \r\nQ 31.109375 20.453125 19.1875 8.296875 \r\nz\r\n\" id=\"DejaVuSans-50\"/>\r\n       </defs>\r\n       <use xlink:href=\"#DejaVuSans-50\"/>\r\n       <use x=\"63.623047\" xlink:href=\"#DejaVuSans-48\"/>\r\n      </g>\r\n     </g>\r\n    </g>\r\n    <g id=\"xtick_3\">\r\n     <g id=\"line2d_3\">\r\n      <g>\r\n       <use style=\"stroke:#000000;stroke-width:0.8;\" x=\"231.089068\" xlink:href=\"#md9fdcafd5b\" y=\"225.604174\"/>\r\n      </g>\r\n     </g>\r\n     <g id=\"text_3\">\r\n      <!-- 40 -->\r\n      <g transform=\"translate(224.726568 240.202612)scale(0.1 -0.1)\">\r\n       <defs>\r\n        <path d=\"M 37.796875 64.3125 \r\nL 12.890625 25.390625 \r\nL 37.796875 25.390625 \r\nz\r\nM 35.203125 72.90625 \r\nL 47.609375 72.90625 \r\nL 47.609375 25.390625 \r\nL 58.015625 25.390625 \r\nL 58.015625 17.1875 \r\nL 47.609375 17.1875 \r\nL 47.609375 0 \r\nL 37.796875 0 \r\nL 37.796875 17.1875 \r\nL 4.890625 17.1875 \r\nL 4.890625 26.703125 \r\nz\r\n\" id=\"DejaVuSans-52\"/>\r\n       </defs>\r\n       <use xlink:href=\"#DejaVuSans-52\"/>\r\n       <use x=\"63.623047\" xlink:href=\"#DejaVuSans-48\"/>\r\n      </g>\r\n     </g>\r\n    </g>\r\n    <g id=\"xtick_4\">\r\n     <g id=\"line2d_4\">\r\n      <g>\r\n       <use style=\"stroke:#000000;stroke-width:0.8;\" x=\"292.377021\" xlink:href=\"#md9fdcafd5b\" y=\"225.604174\"/>\r\n      </g>\r\n     </g>\r\n     <g id=\"text_4\">\r\n      <!-- 60 -->\r\n      <g transform=\"translate(286.014521 240.202612)scale(0.1 -0.1)\">\r\n       <defs>\r\n        <path d=\"M 33.015625 40.375 \r\nQ 26.375 40.375 22.484375 35.828125 \r\nQ 18.609375 31.296875 18.609375 23.390625 \r\nQ 18.609375 15.53125 22.484375 10.953125 \r\nQ 26.375 6.390625 33.015625 6.390625 \r\nQ 39.65625 6.390625 43.53125 10.953125 \r\nQ 47.40625 15.53125 47.40625 23.390625 \r\nQ 47.40625 31.296875 43.53125 35.828125 \r\nQ 39.65625 40.375 33.015625 40.375 \r\nz\r\nM 52.59375 71.296875 \r\nL 52.59375 62.3125 \r\nQ 48.875 64.0625 45.09375 64.984375 \r\nQ 41.3125 65.921875 37.59375 65.921875 \r\nQ 27.828125 65.921875 22.671875 59.328125 \r\nQ 17.53125 52.734375 16.796875 39.40625 \r\nQ 19.671875 43.65625 24.015625 45.921875 \r\nQ 28.375 48.1875 33.59375 48.1875 \r\nQ 44.578125 48.1875 50.953125 41.515625 \r\nQ 57.328125 34.859375 57.328125 23.390625 \r\nQ 57.328125 12.15625 50.6875 5.359375 \r\nQ 44.046875 -1.421875 33.015625 -1.421875 \r\nQ 20.359375 -1.421875 13.671875 8.265625 \r\nQ 6.984375 17.96875 6.984375 36.375 \r\nQ 6.984375 53.65625 15.1875 63.9375 \r\nQ 23.390625 74.21875 37.203125 74.21875 \r\nQ 40.921875 74.21875 44.703125 73.484375 \r\nQ 48.484375 72.75 52.59375 71.296875 \r\nz\r\n\" id=\"DejaVuSans-54\"/>\r\n       </defs>\r\n       <use xlink:href=\"#DejaVuSans-54\"/>\r\n       <use x=\"63.623047\" xlink:href=\"#DejaVuSans-48\"/>\r\n      </g>\r\n     </g>\r\n    </g>\r\n    <g id=\"xtick_5\">\r\n     <g id=\"line2d_5\">\r\n      <g>\r\n       <use style=\"stroke:#000000;stroke-width:0.8;\" x=\"353.664974\" xlink:href=\"#md9fdcafd5b\" y=\"225.604174\"/>\r\n      </g>\r\n     </g>\r\n     <g id=\"text_5\">\r\n      <!-- 80 -->\r\n      <g transform=\"translate(347.302474 240.202612)scale(0.1 -0.1)\">\r\n       <defs>\r\n        <path d=\"M 31.78125 34.625 \r\nQ 24.75 34.625 20.71875 30.859375 \r\nQ 16.703125 27.09375 16.703125 20.515625 \r\nQ 16.703125 13.921875 20.71875 10.15625 \r\nQ 24.75 6.390625 31.78125 6.390625 \r\nQ 38.8125 6.390625 42.859375 10.171875 \r\nQ 46.921875 13.96875 46.921875 20.515625 \r\nQ 46.921875 27.09375 42.890625 30.859375 \r\nQ 38.875 34.625 31.78125 34.625 \r\nz\r\nM 21.921875 38.8125 \r\nQ 15.578125 40.375 12.03125 44.71875 \r\nQ 8.5 49.078125 8.5 55.328125 \r\nQ 8.5 64.0625 14.71875 69.140625 \r\nQ 20.953125 74.21875 31.78125 74.21875 \r\nQ 42.671875 74.21875 48.875 69.140625 \r\nQ 55.078125 64.0625 55.078125 55.328125 \r\nQ 55.078125 49.078125 51.53125 44.71875 \r\nQ 48 40.375 41.703125 38.8125 \r\nQ 48.828125 37.15625 52.796875 32.3125 \r\nQ 56.78125 27.484375 56.78125 20.515625 \r\nQ 56.78125 9.90625 50.3125 4.234375 \r\nQ 43.84375 -1.421875 31.78125 -1.421875 \r\nQ 19.734375 -1.421875 13.25 4.234375 \r\nQ 6.78125 9.90625 6.78125 20.515625 \r\nQ 6.78125 27.484375 10.78125 32.3125 \r\nQ 14.796875 37.15625 21.921875 38.8125 \r\nz\r\nM 18.3125 54.390625 \r\nQ 18.3125 48.734375 21.84375 45.5625 \r\nQ 25.390625 42.390625 31.78125 42.390625 \r\nQ 38.140625 42.390625 41.71875 45.5625 \r\nQ 45.3125 48.734375 45.3125 54.390625 \r\nQ 45.3125 60.0625 41.71875 63.234375 \r\nQ 38.140625 66.40625 31.78125 66.40625 \r\nQ 25.390625 66.40625 21.84375 63.234375 \r\nQ 18.3125 60.0625 18.3125 54.390625 \r\nz\r\n\" id=\"DejaVuSans-56\"/>\r\n       </defs>\r\n       <use xlink:href=\"#DejaVuSans-56\"/>\r\n       <use x=\"63.623047\" xlink:href=\"#DejaVuSans-48\"/>\r\n      </g>\r\n     </g>\r\n    </g>\r\n    <g id=\"text_6\">\r\n     <!-- age -->\r\n     <g transform=\"translate(208.228906 253.880737)scale(0.1 -0.1)\">\r\n      <defs>\r\n       <path d=\"M 34.28125 27.484375 \r\nQ 23.390625 27.484375 19.1875 25 \r\nQ 14.984375 22.515625 14.984375 16.5 \r\nQ 14.984375 11.71875 18.140625 8.90625 \r\nQ 21.296875 6.109375 26.703125 6.109375 \r\nQ 34.1875 6.109375 38.703125 11.40625 \r\nQ 43.21875 16.703125 43.21875 25.484375 \r\nL 43.21875 27.484375 \r\nz\r\nM 52.203125 31.203125 \r\nL 52.203125 0 \r\nL 43.21875 0 \r\nL 43.21875 8.296875 \r\nQ 40.140625 3.328125 35.546875 0.953125 \r\nQ 30.953125 -1.421875 24.3125 -1.421875 \r\nQ 15.921875 -1.421875 10.953125 3.296875 \r\nQ 6 8.015625 6 15.921875 \r\nQ 6 25.140625 12.171875 29.828125 \r\nQ 18.359375 34.515625 30.609375 34.515625 \r\nL 43.21875 34.515625 \r\nL 43.21875 35.40625 \r\nQ 43.21875 41.609375 39.140625 45 \r\nQ 35.0625 48.390625 27.6875 48.390625 \r\nQ 23 48.390625 18.546875 47.265625 \r\nQ 14.109375 46.140625 10.015625 43.890625 \r\nL 10.015625 52.203125 \r\nQ 14.9375 54.109375 19.578125 55.046875 \r\nQ 24.21875 56 28.609375 56 \r\nQ 40.484375 56 46.34375 49.84375 \r\nQ 52.203125 43.703125 52.203125 31.203125 \r\nz\r\n\" id=\"DejaVuSans-97\"/>\r\n       <path d=\"M 45.40625 27.984375 \r\nQ 45.40625 37.75 41.375 43.109375 \r\nQ 37.359375 48.484375 30.078125 48.484375 \r\nQ 22.859375 48.484375 18.828125 43.109375 \r\nQ 14.796875 37.75 14.796875 27.984375 \r\nQ 14.796875 18.265625 18.828125 12.890625 \r\nQ 22.859375 7.515625 30.078125 7.515625 \r\nQ 37.359375 7.515625 41.375 12.890625 \r\nQ 45.40625 18.265625 45.40625 27.984375 \r\nz\r\nM 54.390625 6.78125 \r\nQ 54.390625 -7.171875 48.1875 -13.984375 \r\nQ 42 -20.796875 29.203125 -20.796875 \r\nQ 24.46875 -20.796875 20.265625 -20.09375 \r\nQ 16.0625 -19.390625 12.109375 -17.921875 \r\nL 12.109375 -9.1875 \r\nQ 16.0625 -11.328125 19.921875 -12.34375 \r\nQ 23.78125 -13.375 27.78125 -13.375 \r\nQ 36.625 -13.375 41.015625 -8.765625 \r\nQ 45.40625 -4.15625 45.40625 5.171875 \r\nL 45.40625 9.625 \r\nQ 42.625 4.78125 38.28125 2.390625 \r\nQ 33.9375 0 27.875 0 \r\nQ 17.828125 0 11.671875 7.65625 \r\nQ 5.515625 15.328125 5.515625 27.984375 \r\nQ 5.515625 40.671875 11.671875 48.328125 \r\nQ 17.828125 56 27.875 56 \r\nQ 33.9375 56 38.28125 53.609375 \r\nQ 42.625 51.21875 45.40625 46.390625 \r\nL 45.40625 54.6875 \r\nL 54.390625 54.6875 \r\nz\r\n\" id=\"DejaVuSans-103\"/>\r\n       <path d=\"M 56.203125 29.59375 \r\nL 56.203125 25.203125 \r\nL 14.890625 25.203125 \r\nQ 15.484375 15.921875 20.484375 11.0625 \r\nQ 25.484375 6.203125 34.421875 6.203125 \r\nQ 39.59375 6.203125 44.453125 7.46875 \r\nQ 49.3125 8.734375 54.109375 11.28125 \r\nL 54.109375 2.78125 \r\nQ 49.265625 0.734375 44.1875 -0.34375 \r\nQ 39.109375 -1.421875 33.890625 -1.421875 \r\nQ 20.796875 -1.421875 13.15625 6.1875 \r\nQ 5.515625 13.8125 5.515625 26.8125 \r\nQ 5.515625 40.234375 12.765625 48.109375 \r\nQ 20.015625 56 32.328125 56 \r\nQ 43.359375 56 49.78125 48.890625 \r\nQ 56.203125 41.796875 56.203125 29.59375 \r\nz\r\nM 47.21875 32.234375 \r\nQ 47.125 39.59375 43.09375 43.984375 \r\nQ 39.0625 48.390625 32.421875 48.390625 \r\nQ 24.90625 48.390625 20.390625 44.140625 \r\nQ 15.875 39.890625 15.1875 32.171875 \r\nz\r\n\" id=\"DejaVuSans-101\"/>\r\n      </defs>\r\n      <use xlink:href=\"#DejaVuSans-97\"/>\r\n      <use x=\"61.279297\" xlink:href=\"#DejaVuSans-103\"/>\r\n      <use x=\"124.755859\" xlink:href=\"#DejaVuSans-101\"/>\r\n     </g>\r\n    </g>\r\n   </g>\r\n   <g id=\"matplotlib.axis_2\">\r\n    <g id=\"ytick_1\">\r\n     <g id=\"line2d_6\">\r\n      <defs>\r\n       <path d=\"M 0 0 \r\nL -3.5 0 \r\n\" id=\"m3176973d10\" style=\"stroke:#000000;stroke-width:0.8;\"/>\r\n      </defs>\r\n      <g>\r\n       <use style=\"stroke:#000000;stroke-width:0.8;\" x=\"50.14375\" xlink:href=\"#m3176973d10\" y=\"225.604174\"/>\r\n      </g>\r\n     </g>\r\n     <g id=\"text_7\">\r\n      <!-- 0.00 -->\r\n      <g transform=\"translate(20.878125 229.403393)scale(0.1 -0.1)\">\r\n       <defs>\r\n        <path d=\"M 10.6875 12.40625 \r\nL 21 12.40625 \r\nL 21 0 \r\nL 10.6875 0 \r\nz\r\n\" id=\"DejaVuSans-46\"/>\r\n       </defs>\r\n       <use xlink:href=\"#DejaVuSans-48\"/>\r\n       <use x=\"63.623047\" xlink:href=\"#DejaVuSans-46\"/>\r\n       <use x=\"95.410156\" xlink:href=\"#DejaVuSans-48\"/>\r\n       <use x=\"159.033203\" xlink:href=\"#DejaVuSans-48\"/>\r\n      </g>\r\n     </g>\r\n    </g>\r\n    <g id=\"ytick_2\">\r\n     <g id=\"line2d_7\">\r\n      <g>\r\n       <use style=\"stroke:#000000;stroke-width:0.8;\" x=\"50.14375\" xlink:href=\"#m3176973d10\" y=\"194.946324\"/>\r\n      </g>\r\n     </g>\r\n     <g id=\"text_8\">\r\n      <!-- 0.02 -->\r\n      <g transform=\"translate(20.878125 198.745542)scale(0.1 -0.1)\">\r\n       <use xlink:href=\"#DejaVuSans-48\"/>\r\n       <use x=\"63.623047\" xlink:href=\"#DejaVuSans-46\"/>\r\n       <use x=\"95.410156\" xlink:href=\"#DejaVuSans-48\"/>\r\n       <use x=\"159.033203\" xlink:href=\"#DejaVuSans-50\"/>\r\n      </g>\r\n     </g>\r\n    </g>\r\n    <g id=\"ytick_3\">\r\n     <g id=\"line2d_8\">\r\n      <g>\r\n       <use style=\"stroke:#000000;stroke-width:0.8;\" x=\"50.14375\" xlink:href=\"#m3176973d10\" y=\"164.288473\"/>\r\n      </g>\r\n     </g>\r\n     <g id=\"text_9\">\r\n      <!-- 0.04 -->\r\n      <g transform=\"translate(20.878125 168.087691)scale(0.1 -0.1)\">\r\n       <use xlink:href=\"#DejaVuSans-48\"/>\r\n       <use x=\"63.623047\" xlink:href=\"#DejaVuSans-46\"/>\r\n       <use x=\"95.410156\" xlink:href=\"#DejaVuSans-48\"/>\r\n       <use x=\"159.033203\" xlink:href=\"#DejaVuSans-52\"/>\r\n      </g>\r\n     </g>\r\n    </g>\r\n    <g id=\"ytick_4\">\r\n     <g id=\"line2d_9\">\r\n      <g>\r\n       <use style=\"stroke:#000000;stroke-width:0.8;\" x=\"50.14375\" xlink:href=\"#m3176973d10\" y=\"133.630622\"/>\r\n      </g>\r\n     </g>\r\n     <g id=\"text_10\">\r\n      <!-- 0.06 -->\r\n      <g transform=\"translate(20.878125 137.429841)scale(0.1 -0.1)\">\r\n       <use xlink:href=\"#DejaVuSans-48\"/>\r\n       <use x=\"63.623047\" xlink:href=\"#DejaVuSans-46\"/>\r\n       <use x=\"95.410156\" xlink:href=\"#DejaVuSans-48\"/>\r\n       <use x=\"159.033203\" xlink:href=\"#DejaVuSans-54\"/>\r\n      </g>\r\n     </g>\r\n    </g>\r\n    <g id=\"ytick_5\">\r\n     <g id=\"line2d_10\">\r\n      <g>\r\n       <use style=\"stroke:#000000;stroke-width:0.8;\" x=\"50.14375\" xlink:href=\"#m3176973d10\" y=\"102.972771\"/>\r\n      </g>\r\n     </g>\r\n     <g id=\"text_11\">\r\n      <!-- 0.08 -->\r\n      <g transform=\"translate(20.878125 106.77199)scale(0.1 -0.1)\">\r\n       <use xlink:href=\"#DejaVuSans-48\"/>\r\n       <use x=\"63.623047\" xlink:href=\"#DejaVuSans-46\"/>\r\n       <use x=\"95.410156\" xlink:href=\"#DejaVuSans-48\"/>\r\n       <use x=\"159.033203\" xlink:href=\"#DejaVuSans-56\"/>\r\n      </g>\r\n     </g>\r\n    </g>\r\n    <g id=\"ytick_6\">\r\n     <g id=\"line2d_11\">\r\n      <g>\r\n       <use style=\"stroke:#000000;stroke-width:0.8;\" x=\"50.14375\" xlink:href=\"#m3176973d10\" y=\"72.31492\"/>\r\n      </g>\r\n     </g>\r\n     <g id=\"text_12\">\r\n      <!-- 0.10 -->\r\n      <g transform=\"translate(20.878125 76.114139)scale(0.1 -0.1)\">\r\n       <defs>\r\n        <path d=\"M 12.40625 8.296875 \r\nL 28.515625 8.296875 \r\nL 28.515625 63.921875 \r\nL 10.984375 60.40625 \r\nL 10.984375 69.390625 \r\nL 28.421875 72.90625 \r\nL 38.28125 72.90625 \r\nL 38.28125 8.296875 \r\nL 54.390625 8.296875 \r\nL 54.390625 0 \r\nL 12.40625 0 \r\nz\r\n\" id=\"DejaVuSans-49\"/>\r\n       </defs>\r\n       <use xlink:href=\"#DejaVuSans-48\"/>\r\n       <use x=\"63.623047\" xlink:href=\"#DejaVuSans-46\"/>\r\n       <use x=\"95.410156\" xlink:href=\"#DejaVuSans-49\"/>\r\n       <use x=\"159.033203\" xlink:href=\"#DejaVuSans-48\"/>\r\n      </g>\r\n     </g>\r\n    </g>\r\n    <g id=\"ytick_7\">\r\n     <g id=\"line2d_12\">\r\n      <g>\r\n       <use style=\"stroke:#000000;stroke-width:0.8;\" x=\"50.14375\" xlink:href=\"#m3176973d10\" y=\"41.65707\"/>\r\n      </g>\r\n     </g>\r\n     <g id=\"text_13\">\r\n      <!-- 0.12 -->\r\n      <g transform=\"translate(20.878125 45.456288)scale(0.1 -0.1)\">\r\n       <use xlink:href=\"#DejaVuSans-48\"/>\r\n       <use x=\"63.623047\" xlink:href=\"#DejaVuSans-46\"/>\r\n       <use x=\"95.410156\" xlink:href=\"#DejaVuSans-49\"/>\r\n       <use x=\"159.033203\" xlink:href=\"#DejaVuSans-50\"/>\r\n      </g>\r\n     </g>\r\n    </g>\r\n    <g id=\"ytick_8\">\r\n     <g id=\"line2d_13\">\r\n      <g>\r\n       <use style=\"stroke:#000000;stroke-width:0.8;\" x=\"50.14375\" xlink:href=\"#m3176973d10\" y=\"10.999219\"/>\r\n      </g>\r\n     </g>\r\n     <g id=\"text_14\">\r\n      <!-- 0.14 -->\r\n      <g transform=\"translate(20.878125 14.798437)scale(0.1 -0.1)\">\r\n       <use xlink:href=\"#DejaVuSans-48\"/>\r\n       <use x=\"63.623047\" xlink:href=\"#DejaVuSans-46\"/>\r\n       <use x=\"95.410156\" xlink:href=\"#DejaVuSans-49\"/>\r\n       <use x=\"159.033203\" xlink:href=\"#DejaVuSans-52\"/>\r\n      </g>\r\n     </g>\r\n    </g>\r\n    <g id=\"text_15\">\r\n     <!-- Density -->\r\n     <g transform=\"translate(14.798438 135.892768)rotate(-90)scale(0.1 -0.1)\">\r\n      <defs>\r\n       <path d=\"M 19.671875 64.796875 \r\nL 19.671875 8.109375 \r\nL 31.59375 8.109375 \r\nQ 46.6875 8.109375 53.6875 14.9375 \r\nQ 60.6875 21.78125 60.6875 36.53125 \r\nQ 60.6875 51.171875 53.6875 57.984375 \r\nQ 46.6875 64.796875 31.59375 64.796875 \r\nz\r\nM 9.8125 72.90625 \r\nL 30.078125 72.90625 \r\nQ 51.265625 72.90625 61.171875 64.09375 \r\nQ 71.09375 55.28125 71.09375 36.53125 \r\nQ 71.09375 17.671875 61.125 8.828125 \r\nQ 51.171875 0 30.078125 0 \r\nL 9.8125 0 \r\nz\r\n\" id=\"DejaVuSans-68\"/>\r\n       <path d=\"M 54.890625 33.015625 \r\nL 54.890625 0 \r\nL 45.90625 0 \r\nL 45.90625 32.71875 \r\nQ 45.90625 40.484375 42.875 44.328125 \r\nQ 39.84375 48.1875 33.796875 48.1875 \r\nQ 26.515625 48.1875 22.3125 43.546875 \r\nQ 18.109375 38.921875 18.109375 30.90625 \r\nL 18.109375 0 \r\nL 9.078125 0 \r\nL 9.078125 54.6875 \r\nL 18.109375 54.6875 \r\nL 18.109375 46.1875 \r\nQ 21.34375 51.125 25.703125 53.5625 \r\nQ 30.078125 56 35.796875 56 \r\nQ 45.21875 56 50.046875 50.171875 \r\nQ 54.890625 44.34375 54.890625 33.015625 \r\nz\r\n\" id=\"DejaVuSans-110\"/>\r\n       <path d=\"M 44.28125 53.078125 \r\nL 44.28125 44.578125 \r\nQ 40.484375 46.53125 36.375 47.5 \r\nQ 32.28125 48.484375 27.875 48.484375 \r\nQ 21.1875 48.484375 17.84375 46.4375 \r\nQ 14.5 44.390625 14.5 40.28125 \r\nQ 14.5 37.15625 16.890625 35.375 \r\nQ 19.28125 33.59375 26.515625 31.984375 \r\nL 29.59375 31.296875 \r\nQ 39.15625 29.25 43.1875 25.515625 \r\nQ 47.21875 21.78125 47.21875 15.09375 \r\nQ 47.21875 7.46875 41.1875 3.015625 \r\nQ 35.15625 -1.421875 24.609375 -1.421875 \r\nQ 20.21875 -1.421875 15.453125 -0.5625 \r\nQ 10.6875 0.296875 5.421875 2 \r\nL 5.421875 11.28125 \r\nQ 10.40625 8.6875 15.234375 7.390625 \r\nQ 20.0625 6.109375 24.8125 6.109375 \r\nQ 31.15625 6.109375 34.5625 8.28125 \r\nQ 37.984375 10.453125 37.984375 14.40625 \r\nQ 37.984375 18.0625 35.515625 20.015625 \r\nQ 33.0625 21.96875 24.703125 23.78125 \r\nL 21.578125 24.515625 \r\nQ 13.234375 26.265625 9.515625 29.90625 \r\nQ 5.8125 33.546875 5.8125 39.890625 \r\nQ 5.8125 47.609375 11.28125 51.796875 \r\nQ 16.75 56 26.8125 56 \r\nQ 31.78125 56 36.171875 55.265625 \r\nQ 40.578125 54.546875 44.28125 53.078125 \r\nz\r\n\" id=\"DejaVuSans-115\"/>\r\n       <path d=\"M 9.421875 54.6875 \r\nL 18.40625 54.6875 \r\nL 18.40625 0 \r\nL 9.421875 0 \r\nz\r\nM 9.421875 75.984375 \r\nL 18.40625 75.984375 \r\nL 18.40625 64.59375 \r\nL 9.421875 64.59375 \r\nz\r\n\" id=\"DejaVuSans-105\"/>\r\n       <path d=\"M 18.3125 70.21875 \r\nL 18.3125 54.6875 \r\nL 36.8125 54.6875 \r\nL 36.8125 47.703125 \r\nL 18.3125 47.703125 \r\nL 18.3125 18.015625 \r\nQ 18.3125 11.328125 20.140625 9.421875 \r\nQ 21.96875 7.515625 27.59375 7.515625 \r\nL 36.8125 7.515625 \r\nL 36.8125 0 \r\nL 27.59375 0 \r\nQ 17.1875 0 13.234375 3.875 \r\nQ 9.28125 7.765625 9.28125 18.015625 \r\nL 9.28125 47.703125 \r\nL 2.6875 47.703125 \r\nL 2.6875 54.6875 \r\nL 9.28125 54.6875 \r\nL 9.28125 70.21875 \r\nz\r\n\" id=\"DejaVuSans-116\"/>\r\n       <path d=\"M 32.171875 -5.078125 \r\nQ 28.375 -14.84375 24.75 -17.8125 \r\nQ 21.140625 -20.796875 15.09375 -20.796875 \r\nL 7.90625 -20.796875 \r\nL 7.90625 -13.28125 \r\nL 13.1875 -13.28125 \r\nQ 16.890625 -13.28125 18.9375 -11.515625 \r\nQ 21 -9.765625 23.484375 -3.21875 \r\nL 25.09375 0.875 \r\nL 2.984375 54.6875 \r\nL 12.5 54.6875 \r\nL 29.59375 11.921875 \r\nL 46.6875 54.6875 \r\nL 56.203125 54.6875 \r\nz\r\n\" id=\"DejaVuSans-121\"/>\r\n      </defs>\r\n      <use xlink:href=\"#DejaVuSans-68\"/>\r\n      <use x=\"77.001953\" xlink:href=\"#DejaVuSans-101\"/>\r\n      <use x=\"138.525391\" xlink:href=\"#DejaVuSans-110\"/>\r\n      <use x=\"201.904297\" xlink:href=\"#DejaVuSans-115\"/>\r\n      <use x=\"254.003906\" xlink:href=\"#DejaVuSans-105\"/>\r\n      <use x=\"281.787109\" xlink:href=\"#DejaVuSans-116\"/>\r\n      <use x=\"320.996094\" xlink:href=\"#DejaVuSans-121\"/>\r\n     </g>\r\n    </g>\r\n   </g>\r\n   <g id=\"line2d_14\">\r\n    <path clip-path=\"url(#p433186ba58)\" d=\"M 135.999883 225.60246 \r\nL 146.326534 225.485795 \r\nL 149.42453 225.264837 \r\nL 151.48986 224.951679 \r\nL 153.55519 224.398126 \r\nL 155.62052 223.465752 \r\nL 156.653185 222.803031 \r\nL 157.68585 221.976441 \r\nL 158.718516 220.96056 \r\nL 159.751181 219.731009 \r\nL 160.783846 218.266246 \r\nL 161.816511 216.549607 \r\nL 162.849176 214.571461 \r\nL 164.914506 209.839479 \r\nL 166.979837 204.203792 \r\nL 173.175827 185.914826 \r\nL 174.208492 183.37792 \r\nL 175.241158 181.154468 \r\nL 176.273823 179.283843 \r\nL 177.306488 177.789453 \r\nL 178.339153 176.677775 \r\nL 179.371818 175.938585 \r\nL 180.404483 175.546298 \r\nL 181.437148 175.462251 \r\nL 182.469813 175.637676 \r\nL 183.502479 176.017095 \r\nL 185.567809 177.153359 \r\nL 188.665804 178.985962 \r\nL 190.731134 179.812003 \r\nL 191.7638 180.035878 \r\nL 192.796465 180.124427 \r\nL 193.82913 180.081556 \r\nL 195.89446 179.65273 \r\nL 197.95979 178.902579 \r\nL 202.090451 177.225664 \r\nL 204.155781 176.636905 \r\nL 206.221111 176.339962 \r\nL 208.286441 176.345424 \r\nL 210.351772 176.619963 \r\nL 212.417102 177.116663 \r\nL 214.482432 177.799283 \r\nL 216.547762 178.651288 \r\nL 219.645758 180.23896 \r\nL 222.743753 182.162338 \r\nL 228.939744 186.465354 \r\nL 237.201065 192.003961 \r\nL 241.331725 194.696158 \r\nL 243.397056 195.886116 \r\nL 245.462386 196.882131 \r\nL 247.527716 197.659918 \r\nL 250.625711 198.51012 \r\nL 254.756372 199.573842 \r\nL 256.821702 200.290053 \r\nL 259.919698 201.673589 \r\nL 268.181019 205.826003 \r\nL 271.279014 207.025745 \r\nL 274.377009 207.93671 \r\nL 277.475005 208.573705 \r\nL 281.605665 209.106854 \r\nL 286.768991 209.756814 \r\nL 289.866986 210.439452 \r\nL 292.964981 211.425289 \r\nL 297.095642 213.066991 \r\nL 305.356963 216.423044 \r\nL 315.683614 220.47849 \r\nL 321.879605 222.948141 \r\nL 324.9776 223.959676 \r\nL 328.075596 224.705664 \r\nL 331.173591 225.17714 \r\nL 334.271586 225.429581 \r\nL 339.434912 225.576641 \r\nL 341.500242 225.592623 \r\nL 341.500242 225.592623 \r\n\" style=\"fill:none;stroke:#1f77b4;stroke-linecap:square;stroke-width:1.5;\"/>\r\n   </g>\r\n   <g id=\"line2d_15\">\r\n    <path clip-path=\"url(#p433186ba58)\" d=\"M 65.361932 225.603312 \r\nL 100.539639 225.483482 \r\nL 109.716432 225.156375 \r\nL 123.481621 224.511834 \r\nL 126.540552 224.104005 \r\nL 129.599483 223.494235 \r\nL 134.18788 222.258048 \r\nL 141.835207 220.048957 \r\nL 152.541466 217.228338 \r\nL 155.600397 216.18809 \r\nL 158.659328 214.91258 \r\nL 161.718259 213.339585 \r\nL 164.77719 211.468869 \r\nL 169.365586 208.314679 \r\nL 180.071845 200.690066 \r\nL 183.130776 198.244484 \r\nL 189.248638 192.934944 \r\nL 193.837035 189.131579 \r\nL 196.895966 186.904886 \r\nL 199.954897 184.954867 \r\nL 204.543293 182.401588 \r\nL 210.661155 179.055972 \r\nL 215.249552 176.573798 \r\nL 216.779017 175.901144 \r\nL 218.308483 175.372654 \r\nL 219.837948 175.017279 \r\nL 221.367414 174.84778 \r\nL 222.896879 174.857991 \r\nL 224.426345 175.023955 \r\nL 227.485276 175.670866 \r\nL 233.603138 177.334928 \r\nL 236.662069 178.340774 \r\nL 238.191534 178.981994 \r\nL 239.721 179.753303 \r\nL 241.250465 180.669017 \r\nL 244.309396 182.914951 \r\nL 248.897793 186.913609 \r\nL 251.956724 189.552478 \r\nL 255.015655 191.892351 \r\nL 258.074586 193.898446 \r\nL 264.192448 197.622176 \r\nL 267.251379 199.79583 \r\nL 270.31031 202.306122 \r\nL 277.957638 208.962403 \r\nL 281.016569 211.144795 \r\nL 284.0755 212.867643 \r\nL 287.134431 214.187279 \r\nL 290.193362 215.227665 \r\nL 297.840689 217.396481 \r\nL 303.958551 219.251234 \r\nL 310.076413 221.127179 \r\nL 314.66481 222.296738 \r\nL 319.253206 223.193015 \r\nL 323.841603 223.863785 \r\nL 329.959465 224.521429 \r\nL 336.077327 224.947934 \r\nL 343.724655 225.201852 \r\nL 363.607706 225.590543 \r\nL 369.725568 225.602789 \r\nL 369.725568 225.602789 \r\n\" style=\"fill:none;stroke:#ff7f0e;stroke-linecap:square;stroke-width:1.5;\"/>\r\n   </g>\r\n   <g id=\"line2d_16\">\r\n    <path clip-path=\"url(#p433186ba58)\" d=\"M 149.784019 225.099886 \r\nL 151.387493 224.643227 \r\nL 152.990968 223.862051 \r\nL 153.792705 223.301922 \r\nL 154.594442 222.599366 \r\nL 155.396179 221.73097 \r\nL 156.197916 220.673416 \r\nL 156.999654 219.404813 \r\nL 157.801391 217.906314 \r\nL 159.404865 214.170483 \r\nL 161.00834 209.447023 \r\nL 162.611814 203.881725 \r\nL 166.6205 188.986056 \r\nL 168.223974 184.235518 \r\nL 169.025712 182.440988 \r\nL 169.827449 181.118372 \r\nL 170.629186 180.311246 \r\nL 171.430923 180.043326 \r\nL 172.23266 180.316451 \r\nL 173.034397 181.109768 \r\nL 173.836135 182.38021 \r\nL 174.637872 184.064185 \r\nL 176.241346 188.333393 \r\nL 179.448295 197.561025 \r\nL 180.250032 199.386579 \r\nL 181.051769 200.830629 \r\nL 181.853507 201.821441 \r\nL 182.655244 202.304786 \r\nL 183.456981 202.245865 \r\nL 184.258718 201.630656 \r\nL 185.060455 200.466653 \r\nL 185.862193 198.782984 \r\nL 186.66393 196.629858 \r\nL 188.267404 191.212906 \r\nL 192.27609 176.081242 \r\nL 193.077827 173.706691 \r\nL 193.879565 171.787895 \r\nL 194.681302 170.393103 \r\nL 195.483039 169.56523 \r\nL 196.284776 169.319064 \r\nL 197.086513 169.640032 \r\nL 197.88825 170.4847 \r\nL 198.689988 171.783021 \r\nL 200.293462 175.352191 \r\nL 202.698674 181.36356 \r\nL 203.500411 183.063427 \r\nL 204.302148 184.441853 \r\nL 205.103885 185.427447 \r\nL 205.905622 185.975214 \r\nL 206.70736 186.068938 \r\nL 207.509097 185.721815 \r\nL 208.310834 184.975333 \r\nL 209.112571 183.896474 \r\nL 210.716046 181.110014 \r\nL 212.31952 178.216988 \r\nL 213.121257 177.013694 \r\nL 213.922994 176.109134 \r\nL 214.724732 175.585879 \r\nL 215.526469 175.504711 \r\nL 216.328206 175.901276 \r\nL 217.129943 176.784291 \r\nL 217.93168 178.135346 \r\nL 218.733418 179.910256 \r\nL 220.336892 184.443492 \r\nL 223.543841 194.624486 \r\nL 224.345578 196.754736 \r\nL 225.147315 198.512806 \r\nL 225.949052 199.816314 \r\nL 226.750789 200.600171 \r\nL 227.552527 200.819007 \r\nL 228.354264 200.448943 \r\nL 229.156001 199.488711 \r\nL 229.957738 197.960116 \r\nL 230.759475 195.907813 \r\nL 231.561213 193.398343 \r\nL 233.164687 187.372006 \r\nL 236.371636 174.598894 \r\nL 237.173373 172.006131 \r\nL 237.97511 169.892319 \r\nL 238.776847 168.35087 \r\nL 239.578585 167.452514 \r\nL 240.380322 167.241931 \r\nL 241.182059 167.73581 \r\nL 241.983796 168.922516 \r\nL 242.785533 170.763394 \r\nL 243.587271 173.19561 \r\nL 245.190745 179.487668 \r\nL 247.595957 190.925089 \r\nL 250.001168 202.289203 \r\nL 251.604642 208.791369 \r\nL 253.208117 214.069156 \r\nL 254.811591 218.073993 \r\nL 255.613328 219.631871 \r\nL 256.415066 220.925035 \r\nL 257.216803 221.981872 \r\nL 258.01854 222.832 \r\nL 258.820277 223.504575 \r\nL 260.423752 224.423801 \r\nL 262.027226 224.921696 \r\nL 263.6307 225.120453 \r\nL 265.234175 225.076147 \r\nL 266.837649 224.778031 \r\nL 268.441124 224.14978 \r\nL 269.242861 223.670929 \r\nL 270.044598 223.053485 \r\nL 270.846335 222.272449 \r\nL 271.648072 221.301131 \r\nL 272.44981 220.112384 \r\nL 273.251547 218.680163 \r\nL 274.053284 216.981406 \r\nL 275.656758 212.719924 \r\nL 277.260233 207.287025 \r\nL 278.863707 200.828721 \r\nL 283.67413 180.139968 \r\nL 284.475867 177.445465 \r\nL 285.277605 175.222833 \r\nL 286.079342 173.550155 \r\nL 286.881079 172.487794 \r\nL 287.682816 172.07478 \r\nL 288.484553 172.326428 \r\nL 289.286291 173.233397 \r\nL 290.088028 174.762264 \r\nL 290.889765 176.857572 \r\nL 291.691502 179.445163 \r\nL 293.294977 185.73385 \r\nL 298.1054 206.550384 \r\nL 299.708874 212.120471 \r\nL 301.312349 216.526061 \r\nL 302.114086 218.293233 \r\nL 302.915823 219.789295 \r\nL 303.71756 221.036473 \r\nL 304.519297 222.060577 \r\nL 305.321034 222.889106 \r\nL 306.924509 224.068771 \r\nL 308.527983 224.778093 \r\nL 309.32972 225.009462 \r\nL 309.32972 225.009462 \r\n\" style=\"fill:none;stroke:#2ca02c;stroke-linecap:square;stroke-width:1.5;\"/>\r\n   </g>\r\n   <g id=\"patch_89\">\r\n    <path d=\"M 50.14375 225.604174 \r\nL 50.14375 8.164174 \r\n\" style=\"fill:none;stroke:#000000;stroke-linecap:square;stroke-linejoin:miter;stroke-width:0.8;\"/>\r\n   </g>\r\n   <g id=\"patch_90\">\r\n    <path d=\"M 384.94375 225.604174 \r\nL 384.94375 8.164174 \r\n\" style=\"fill:none;stroke:#000000;stroke-linecap:square;stroke-linejoin:miter;stroke-width:0.8;\"/>\r\n   </g>\r\n   <g id=\"patch_91\">\r\n    <path d=\"M 50.14375 225.604174 \r\nL 384.94375 225.604174 \r\n\" style=\"fill:none;stroke:#000000;stroke-linecap:square;stroke-linejoin:miter;stroke-width:0.8;\"/>\r\n   </g>\r\n   <g id=\"patch_92\">\r\n    <path d=\"M 50.14375 8.164174 \r\nL 384.94375 8.164174 \r\n\" style=\"fill:none;stroke:#000000;stroke-linecap:square;stroke-linejoin:miter;stroke-width:0.8;\"/>\r\n   </g>\r\n  </g>\r\n </g>\r\n <defs>\r\n  <clipPath id=\"p433186ba58\">\r\n   <rect height=\"217.44\" width=\"334.8\" x=\"50.14375\" y=\"8.164174\"/>\r\n  </clipPath>\r\n </defs>\r\n</svg>\r\n",
      "image/png": "[encoded data removed]"
     },
     "metadata": {
      "needs_background": "light"
     }
    }
   ],
   "source": [
    "sns.distplot(geo['age'])\n",
    "sns.distplot(sample_m_m_hc['age'])\n",
    "sns.distplot(sample_d_d_hc['age'])"
   ]
  },
  {
   "cell_type": "code",
   "execution_count": 334,
   "metadata": {},
   "outputs": [
    {
     "output_type": "stream",
     "name": "stderr",
     "text": [
      "C:\\Users\\anaxa\\AppData\\Local\\Programs\\Python\\Python38\\lib\\site-packages\\seaborn\\distributions.py:2557: FutureWarning: `distplot` is a deprecated function and will be removed in a future version. Please adapt your code to use either `displot` (a figure-level function with similar flexibility) or `histplot` (an axes-level function for histograms).\n  warnings.warn(msg, FutureWarning)\nC:\\Users\\anaxa\\AppData\\Local\\Programs\\Python\\Python38\\lib\\site-packages\\seaborn\\distributions.py:2557: FutureWarning: `distplot` is a deprecated function and will be removed in a future version. Please adapt your code to use either `displot` (a figure-level function with similar flexibility) or `histplot` (an axes-level function for histograms).\n  warnings.warn(msg, FutureWarning)\nC:\\Users\\anaxa\\AppData\\Local\\Programs\\Python\\Python38\\lib\\site-packages\\seaborn\\distributions.py:2557: FutureWarning: `distplot` is a deprecated function and will be removed in a future version. Please adapt your code to use either `displot` (a figure-level function with similar flexibility) or `histplot` (an axes-level function for histograms).\n  warnings.warn(msg, FutureWarning)\n"
     ]
    },
    {
     "output_type": "execute_result",
     "data": {
      "text/plain": [
       "<AxesSubplot:xlabel='median_tr', ylabel='Density'>"
      ]
     },
     "metadata": {},
     "execution_count": 334
    },
    {
     "output_type": "display_data",
     "data": {
      "text/plain": "<Figure size 432x288 with 1 Axes>",
      "image/svg+xml": "<?xml version=\"1.0\" encoding=\"utf-8\" standalone=\"no\"?>\r\n<!DOCTYPE svg PUBLIC \"-//W3C//DTD SVG 1.1//EN\"\r\n  \"http://www.w3.org/Graphics/SVG/1.1/DTD/svg11.dtd\">\r\n<!-- Created with matplotlib (https://matplotlib.org/) -->\r\n<svg height=\"262.474375pt\" version=\"1.1\" viewBox=\"0 0 414.017139 262.474375\" width=\"414.017139pt\" xmlns=\"http://www.w3.org/2000/svg\" xmlns:xlink=\"http://www.w3.org/1999/xlink\">\r\n <metadata>\r\n  <rdf:RDF xmlns:cc=\"http://creativecommons.org/ns#\" xmlns:dc=\"http://purl.org/dc/elements/1.1/\" xmlns:rdf=\"http://www.w3.org/1999/02/22-rdf-syntax-ns#\">\r\n   <cc:Work>\r\n    <dc:type rdf:resource=\"http://purl.org/dc/dcmitype/StillImage\"/>\r\n    <dc:date>2021-05-02T20:48:18.266236</dc:date>\r\n    <dc:format>image/svg+xml</dc:format>\r\n    <dc:creator>\r\n     <cc:Agent>\r\n      <dc:title>Matplotlib v3.3.4, https://matplotlib.org/</dc:title>\r\n     </cc:Agent>\r\n    </dc:creator>\r\n   </cc:Work>\r\n  </rdf:RDF>\r\n </metadata>\r\n <defs>\r\n  <style type=\"text/css\">*{stroke-linecap:butt;stroke-linejoin:round;}</style>\r\n </defs>\r\n <g id=\"figure_1\">\r\n  <g id=\"patch_1\">\r\n   <path d=\"M 0 262.474375 \r\nL 414.017139 262.474375 \r\nL 414.017139 0 \r\nL 0 0 \r\nz\r\n\" style=\"fill:none;\"/>\r\n  </g>\r\n  <g id=\"axes_1\">\r\n   <g id=\"patch_2\">\r\n    <path d=\"M 62.86875 224.64 \r\nL 397.66875 224.64 \r\nL 397.66875 7.2 \r\nL 62.86875 7.2 \r\nz\r\n\" style=\"fill:#ffffff;\"/>\r\n   </g>\r\n   <g id=\"patch_3\">\r\n    <path clip-path=\"url(#pc481f8cec0)\" d=\"M 106.495076 224.64 \r\nL 111.776962 224.64 \r\nL 111.776962 87.122146 \r\nL 106.495076 87.122146 \r\nz\r\n\" style=\"fill:#1f77b4;opacity:0.4;\"/>\r\n   </g>\r\n   <g id=\"patch_4\">\r\n    <path clip-path=\"url(#pc481f8cec0)\" d=\"M 111.776962 224.64 \r\nL 117.058848 224.64 \r\nL 117.058848 210.593468 \r\nL 111.776962 210.593468 \r\nz\r\n\" style=\"fill:#1f77b4;opacity:0.4;\"/>\r\n   </g>\r\n   <g id=\"patch_5\">\r\n    <path clip-path=\"url(#pc481f8cec0)\" d=\"M 117.058848 224.64 \r\nL 122.340734 224.64 \r\nL 122.340734 220.633284 \r\nL 117.058848 220.633284 \r\nz\r\n\" style=\"fill:#1f77b4;opacity:0.4;\"/>\r\n   </g>\r\n   <g id=\"patch_6\">\r\n    <path clip-path=\"url(#pc481f8cec0)\" d=\"M 122.340734 224.64 \r\nL 127.62262 224.64 \r\nL 127.62262 220.403013 \r\nL 122.340734 220.403013 \r\nz\r\n\" style=\"fill:#1f77b4;opacity:0.4;\"/>\r\n   </g>\r\n   <g id=\"patch_7\">\r\n    <path clip-path=\"url(#pc481f8cec0)\" d=\"M 127.62262 224.64 \r\nL 132.904506 224.64 \r\nL 132.904506 222.291236 \r\nL 127.62262 222.291236 \r\nz\r\n\" style=\"fill:#1f77b4;opacity:0.4;\"/>\r\n   </g>\r\n   <g id=\"patch_8\">\r\n    <path clip-path=\"url(#pc481f8cec0)\" d=\"M 132.904506 224.64 \r\nL 138.186392 224.64 \r\nL 138.186392 223.442591 \r\nL 132.904506 223.442591 \r\nz\r\n\" style=\"fill:#1f77b4;opacity:0.4;\"/>\r\n   </g>\r\n   <g id=\"patch_9\">\r\n    <path clip-path=\"url(#pc481f8cec0)\" d=\"M 138.186392 224.64 \r\nL 143.468278 224.64 \r\nL 143.468278 223.258374 \r\nL 138.186392 223.258374 \r\nz\r\n\" style=\"fill:#1f77b4;opacity:0.4;\"/>\r\n   </g>\r\n   <g id=\"patch_10\">\r\n    <path clip-path=\"url(#pc481f8cec0)\" d=\"M 143.468278 224.64 \r\nL 148.750164 224.64 \r\nL 148.750164 222.659669 \r\nL 143.468278 222.659669 \r\nz\r\n\" style=\"fill:#1f77b4;opacity:0.4;\"/>\r\n   </g>\r\n   <g id=\"patch_11\">\r\n    <path clip-path=\"url(#pc481f8cec0)\" d=\"M 148.750164 224.64 \r\nL 154.03205 224.64 \r\nL 154.03205 223.949187 \r\nL 148.750164 223.949187 \r\nz\r\n\" style=\"fill:#1f77b4;opacity:0.4;\"/>\r\n   </g>\r\n   <g id=\"patch_12\">\r\n    <path clip-path=\"url(#pc481f8cec0)\" d=\"M 154.03205 224.64 \r\nL 159.313936 224.64 \r\nL 159.313936 223.995241 \r\nL 154.03205 223.995241 \r\nz\r\n\" style=\"fill:#1f77b4;opacity:0.4;\"/>\r\n   </g>\r\n   <g id=\"patch_13\">\r\n    <path clip-path=\"url(#pc481f8cec0)\" d=\"M 159.313936 224.64 \r\nL 164.595822 224.64 \r\nL 164.595822 224.225512 \r\nL 159.313936 224.225512 \r\nz\r\n\" style=\"fill:#1f77b4;opacity:0.4;\"/>\r\n   </g>\r\n   <g id=\"patch_14\">\r\n    <path clip-path=\"url(#pc481f8cec0)\" d=\"M 164.595822 224.64 \r\nL 169.877708 224.64 \r\nL 169.877708 224.179458 \r\nL 164.595822 224.179458 \r\nz\r\n\" style=\"fill:#1f77b4;opacity:0.4;\"/>\r\n   </g>\r\n   <g id=\"patch_15\">\r\n    <path clip-path=\"url(#pc481f8cec0)\" d=\"M 169.877708 224.64 \r\nL 175.159594 224.64 \r\nL 175.159594 224.225512 \r\nL 169.877708 224.225512 \r\nz\r\n\" style=\"fill:#1f77b4;opacity:0.4;\"/>\r\n   </g>\r\n   <g id=\"patch_16\">\r\n    <path clip-path=\"url(#pc481f8cec0)\" d=\"M 175.159594 224.64 \r\nL 180.44148 224.64 \r\nL 180.44148 223.949187 \r\nL 175.159594 223.949187 \r\nz\r\n\" style=\"fill:#1f77b4;opacity:0.4;\"/>\r\n   </g>\r\n   <g id=\"patch_17\">\r\n    <path clip-path=\"url(#pc481f8cec0)\" d=\"M 180.44148 224.64 \r\nL 185.723367 224.64 \r\nL 185.723367 224.409729 \r\nL 180.44148 224.409729 \r\nz\r\n\" style=\"fill:#1f77b4;opacity:0.4;\"/>\r\n   </g>\r\n   <g id=\"patch_18\">\r\n    <path clip-path=\"url(#pc481f8cec0)\" d=\"M 185.723367 224.64 \r\nL 191.005253 224.64 \r\nL 191.005253 224.133404 \r\nL 185.723367 224.133404 \r\nz\r\n\" style=\"fill:#1f77b4;opacity:0.4;\"/>\r\n   </g>\r\n   <g id=\"patch_19\">\r\n    <path clip-path=\"url(#pc481f8cec0)\" d=\"M 191.005253 224.64 \r\nL 196.287139 224.64 \r\nL 196.287139 224.409729 \r\nL 191.005253 224.409729 \r\nz\r\n\" style=\"fill:#1f77b4;opacity:0.4;\"/>\r\n   </g>\r\n   <g id=\"patch_20\">\r\n    <path clip-path=\"url(#pc481f8cec0)\" d=\"M 196.287139 224.64 \r\nL 201.569025 224.64 \r\nL 201.569025 224.455783 \r\nL 196.287139 224.455783 \r\nz\r\n\" style=\"fill:#1f77b4;opacity:0.4;\"/>\r\n   </g>\r\n   <g id=\"patch_21\">\r\n    <path clip-path=\"url(#pc481f8cec0)\" d=\"M 201.569025 224.64 \r\nL 206.850911 224.64 \r\nL 206.850911 224.501837 \r\nL 201.569025 224.501837 \r\nz\r\n\" style=\"fill:#1f77b4;opacity:0.4;\"/>\r\n   </g>\r\n   <g id=\"patch_22\">\r\n    <path clip-path=\"url(#pc481f8cec0)\" d=\"M 206.850911 224.64 \r\nL 212.132797 224.64 \r\nL 212.132797 224.363675 \r\nL 206.850911 224.363675 \r\nz\r\n\" style=\"fill:#1f77b4;opacity:0.4;\"/>\r\n   </g>\r\n   <g id=\"patch_23\">\r\n    <path clip-path=\"url(#pc481f8cec0)\" d=\"M 212.132797 224.64 \r\nL 217.414683 224.64 \r\nL 217.414683 224.593946 \r\nL 212.132797 224.593946 \r\nz\r\n\" style=\"fill:#1f77b4;opacity:0.4;\"/>\r\n   </g>\r\n   <g id=\"patch_24\">\r\n    <path clip-path=\"url(#pc481f8cec0)\" d=\"M 217.414683 224.64 \r\nL 222.696569 224.64 \r\nL 222.696569 224.593946 \r\nL 217.414683 224.593946 \r\nz\r\n\" style=\"fill:#1f77b4;opacity:0.4;\"/>\r\n   </g>\r\n   <g id=\"patch_25\">\r\n    <path clip-path=\"url(#pc481f8cec0)\" d=\"M 222.696569 224.64 \r\nL 227.978455 224.64 \r\nL 227.978455 224.455783 \r\nL 222.696569 224.455783 \r\nz\r\n\" style=\"fill:#1f77b4;opacity:0.4;\"/>\r\n   </g>\r\n   <g id=\"patch_26\">\r\n    <path clip-path=\"url(#pc481f8cec0)\" d=\"M 227.978455 224.64 \r\nL 233.260341 224.64 \r\nL 233.260341 224.271566 \r\nL 227.978455 224.271566 \r\nz\r\n\" style=\"fill:#1f77b4;opacity:0.4;\"/>\r\n   </g>\r\n   <g id=\"patch_27\">\r\n    <path clip-path=\"url(#pc481f8cec0)\" d=\"M 233.260341 224.64 \r\nL 238.542227 224.64 \r\nL 238.542227 224.547892 \r\nL 233.260341 224.547892 \r\nz\r\n\" style=\"fill:#1f77b4;opacity:0.4;\"/>\r\n   </g>\r\n   <g id=\"patch_28\">\r\n    <path clip-path=\"url(#pc481f8cec0)\" d=\"M 238.542227 224.64 \r\nL 243.824113 224.64 \r\nL 243.824113 224.501837 \r\nL 238.542227 224.501837 \r\nz\r\n\" style=\"fill:#1f77b4;opacity:0.4;\"/>\r\n   </g>\r\n   <g id=\"patch_29\">\r\n    <path clip-path=\"url(#pc481f8cec0)\" d=\"M 243.824113 224.64 \r\nL 249.105999 224.64 \r\nL 249.105999 224.547892 \r\nL 243.824113 224.547892 \r\nz\r\n\" style=\"fill:#1f77b4;opacity:0.4;\"/>\r\n   </g>\r\n   <g id=\"patch_30\">\r\n    <path clip-path=\"url(#pc481f8cec0)\" d=\"M 249.105999 224.64 \r\nL 254.387885 224.64 \r\nL 254.387885 224.593946 \r\nL 249.105999 224.593946 \r\nz\r\n\" style=\"fill:#1f77b4;opacity:0.4;\"/>\r\n   </g>\r\n   <g id=\"patch_31\">\r\n    <path clip-path=\"url(#pc481f8cec0)\" d=\"M 254.387885 224.64 \r\nL 259.669771 224.64 \r\nL 259.669771 224.547892 \r\nL 254.387885 224.547892 \r\nz\r\n\" style=\"fill:#1f77b4;opacity:0.4;\"/>\r\n   </g>\r\n   <g id=\"patch_32\">\r\n    <path clip-path=\"url(#pc481f8cec0)\" d=\"M 259.669771 224.64 \r\nL 264.951657 224.64 \r\nL 264.951657 224.501837 \r\nL 259.669771 224.501837 \r\nz\r\n\" style=\"fill:#1f77b4;opacity:0.4;\"/>\r\n   </g>\r\n   <g id=\"patch_33\">\r\n    <path clip-path=\"url(#pc481f8cec0)\" d=\"M 264.951657 224.64 \r\nL 270.233543 224.64 \r\nL 270.233543 224.179458 \r\nL 264.951657 224.179458 \r\nz\r\n\" style=\"fill:#1f77b4;opacity:0.4;\"/>\r\n   </g>\r\n   <g id=\"patch_34\">\r\n    <path clip-path=\"url(#pc481f8cec0)\" d=\"M 270.233543 224.64 \r\nL 275.515429 224.64 \r\nL 275.515429 224.64 \r\nL 270.233543 224.64 \r\nz\r\n\" style=\"fill:#1f77b4;opacity:0.4;\"/>\r\n   </g>\r\n   <g id=\"patch_35\">\r\n    <path clip-path=\"url(#pc481f8cec0)\" d=\"M 275.515429 224.64 \r\nL 280.797315 224.64 \r\nL 280.797315 224.64 \r\nL 275.515429 224.64 \r\nz\r\n\" style=\"fill:#1f77b4;opacity:0.4;\"/>\r\n   </g>\r\n   <g id=\"patch_36\">\r\n    <path clip-path=\"url(#pc481f8cec0)\" d=\"M 280.797315 224.64 \r\nL 286.079201 224.64 \r\nL 286.079201 224.593946 \r\nL 280.797315 224.593946 \r\nz\r\n\" style=\"fill:#1f77b4;opacity:0.4;\"/>\r\n   </g>\r\n   <g id=\"patch_37\">\r\n    <path clip-path=\"url(#pc481f8cec0)\" d=\"M 286.079201 224.64 \r\nL 291.361087 224.64 \r\nL 291.361087 224.593946 \r\nL 286.079201 224.593946 \r\nz\r\n\" style=\"fill:#1f77b4;opacity:0.4;\"/>\r\n   </g>\r\n   <g id=\"patch_38\">\r\n    <path clip-path=\"url(#pc481f8cec0)\" d=\"M 291.361087 224.64 \r\nL 296.642973 224.64 \r\nL 296.642973 224.64 \r\nL 291.361087 224.64 \r\nz\r\n\" style=\"fill:#1f77b4;opacity:0.4;\"/>\r\n   </g>\r\n   <g id=\"patch_39\">\r\n    <path clip-path=\"url(#pc481f8cec0)\" d=\"M 296.642973 224.64 \r\nL 301.924859 224.64 \r\nL 301.924859 224.593946 \r\nL 296.642973 224.593946 \r\nz\r\n\" style=\"fill:#1f77b4;opacity:0.4;\"/>\r\n   </g>\r\n   <g id=\"patch_40\">\r\n    <path clip-path=\"url(#pc481f8cec0)\" d=\"M 301.924859 224.64 \r\nL 307.206745 224.64 \r\nL 307.206745 224.64 \r\nL 301.924859 224.64 \r\nz\r\n\" style=\"fill:#1f77b4;opacity:0.4;\"/>\r\n   </g>\r\n   <g id=\"patch_41\">\r\n    <path clip-path=\"url(#pc481f8cec0)\" d=\"M 307.206745 224.64 \r\nL 312.488631 224.64 \r\nL 312.488631 224.455783 \r\nL 307.206745 224.455783 \r\nz\r\n\" style=\"fill:#1f77b4;opacity:0.4;\"/>\r\n   </g>\r\n   <g id=\"patch_42\">\r\n    <path clip-path=\"url(#pc481f8cec0)\" d=\"M 312.488631 224.64 \r\nL 317.770517 224.64 \r\nL 317.770517 224.64 \r\nL 312.488631 224.64 \r\nz\r\n\" style=\"fill:#1f77b4;opacity:0.4;\"/>\r\n   </g>\r\n   <g id=\"patch_43\">\r\n    <path clip-path=\"url(#pc481f8cec0)\" d=\"M 317.770517 224.64 \r\nL 323.052403 224.64 \r\nL 323.052403 224.64 \r\nL 317.770517 224.64 \r\nz\r\n\" style=\"fill:#1f77b4;opacity:0.4;\"/>\r\n   </g>\r\n   <g id=\"patch_44\">\r\n    <path clip-path=\"url(#pc481f8cec0)\" d=\"M 323.052403 224.64 \r\nL 328.334289 224.64 \r\nL 328.334289 224.64 \r\nL 323.052403 224.64 \r\nz\r\n\" style=\"fill:#1f77b4;opacity:0.4;\"/>\r\n   </g>\r\n   <g id=\"patch_45\">\r\n    <path clip-path=\"url(#pc481f8cec0)\" d=\"M 328.334289 224.64 \r\nL 333.616175 224.64 \r\nL 333.616175 224.64 \r\nL 328.334289 224.64 \r\nz\r\n\" style=\"fill:#1f77b4;opacity:0.4;\"/>\r\n   </g>\r\n   <g id=\"patch_46\">\r\n    <path clip-path=\"url(#pc481f8cec0)\" d=\"M 333.616175 224.64 \r\nL 338.898061 224.64 \r\nL 338.898061 224.64 \r\nL 333.616175 224.64 \r\nz\r\n\" style=\"fill:#1f77b4;opacity:0.4;\"/>\r\n   </g>\r\n   <g id=\"patch_47\">\r\n    <path clip-path=\"url(#pc481f8cec0)\" d=\"M 338.898061 224.64 \r\nL 344.179947 224.64 \r\nL 344.179947 224.64 \r\nL 338.898061 224.64 \r\nz\r\n\" style=\"fill:#1f77b4;opacity:0.4;\"/>\r\n   </g>\r\n   <g id=\"patch_48\">\r\n    <path clip-path=\"url(#pc481f8cec0)\" d=\"M 344.179947 224.64 \r\nL 349.461833 224.64 \r\nL 349.461833 224.64 \r\nL 344.179947 224.64 \r\nz\r\n\" style=\"fill:#1f77b4;opacity:0.4;\"/>\r\n   </g>\r\n   <g id=\"patch_49\">\r\n    <path clip-path=\"url(#pc481f8cec0)\" d=\"M 349.461833 224.64 \r\nL 354.743719 224.64 \r\nL 354.743719 224.64 \r\nL 349.461833 224.64 \r\nz\r\n\" style=\"fill:#1f77b4;opacity:0.4;\"/>\r\n   </g>\r\n   <g id=\"patch_50\">\r\n    <path clip-path=\"url(#pc481f8cec0)\" d=\"M 354.743719 224.64 \r\nL 360.025605 224.64 \r\nL 360.025605 224.64 \r\nL 354.743719 224.64 \r\nz\r\n\" style=\"fill:#1f77b4;opacity:0.4;\"/>\r\n   </g>\r\n   <g id=\"patch_51\">\r\n    <path clip-path=\"url(#pc481f8cec0)\" d=\"M 360.025605 224.64 \r\nL 365.307492 224.64 \r\nL 365.307492 224.64 \r\nL 360.025605 224.64 \r\nz\r\n\" style=\"fill:#1f77b4;opacity:0.4;\"/>\r\n   </g>\r\n   <g id=\"patch_52\">\r\n    <path clip-path=\"url(#pc481f8cec0)\" d=\"M 365.307492 224.64 \r\nL 370.589378 224.64 \r\nL 370.589378 224.593946 \r\nL 365.307492 224.593946 \r\nz\r\n\" style=\"fill:#1f77b4;opacity:0.4;\"/>\r\n   </g>\r\n   <g id=\"patch_53\">\r\n    <path clip-path=\"url(#pc481f8cec0)\" d=\"M 106.420667 224.64 \r\nL 109.032655 224.64 \r\nL 109.032655 200.06972 \r\nL 106.420667 200.06972 \r\nz\r\n\" style=\"fill:#ff7f0e;opacity:0.4;\"/>\r\n   </g>\r\n   <g id=\"patch_54\">\r\n    <path clip-path=\"url(#pc481f8cec0)\" d=\"M 109.032655 224.64 \r\nL 111.644643 224.64 \r\nL 111.644643 195.920073 \r\nL 109.032655 195.920073 \r\nz\r\n\" style=\"fill:#ff7f0e;opacity:0.4;\"/>\r\n   </g>\r\n   <g id=\"patch_55\">\r\n    <path clip-path=\"url(#pc481f8cec0)\" d=\"M 111.644643 224.64 \r\nL 114.256631 224.64 \r\nL 114.256631 196.466079 \r\nL 111.644643 196.466079 \r\nz\r\n\" style=\"fill:#ff7f0e;opacity:0.4;\"/>\r\n   </g>\r\n   <g id=\"patch_56\">\r\n    <path clip-path=\"url(#pc481f8cec0)\" d=\"M 114.256631 224.64 \r\nL 116.86862 224.64 \r\nL 116.86862 194.282054 \r\nL 114.256631 194.282054 \r\nz\r\n\" style=\"fill:#ff7f0e;opacity:0.4;\"/>\r\n   </g>\r\n   <g id=\"patch_57\">\r\n    <path clip-path=\"url(#pc481f8cec0)\" d=\"M 116.86862 224.64 \r\nL 119.480608 224.64 \r\nL 119.480608 198.977708 \r\nL 116.86862 198.977708 \r\nz\r\n\" style=\"fill:#ff7f0e;opacity:0.4;\"/>\r\n   </g>\r\n   <g id=\"patch_58\">\r\n    <path clip-path=\"url(#pc481f8cec0)\" d=\"M 119.480608 224.64 \r\nL 122.092596 224.64 \r\nL 122.092596 197.121287 \r\nL 119.480608 197.121287 \r\nz\r\n\" style=\"fill:#ff7f0e;opacity:0.4;\"/>\r\n   </g>\r\n   <g id=\"patch_59\">\r\n    <path clip-path=\"url(#pc481f8cec0)\" d=\"M 122.092596 224.64 \r\nL 124.704584 224.64 \r\nL 124.704584 198.213299 \r\nL 122.092596 198.213299 \r\nz\r\n\" style=\"fill:#ff7f0e;opacity:0.4;\"/>\r\n   </g>\r\n   <g id=\"patch_60\">\r\n    <path clip-path=\"url(#pc481f8cec0)\" d=\"M 124.704584 224.64 \r\nL 127.316573 224.64 \r\nL 127.316573 201.052532 \r\nL 124.704584 201.052532 \r\nz\r\n\" style=\"fill:#ff7f0e;opacity:0.4;\"/>\r\n   </g>\r\n   <g id=\"patch_61\">\r\n    <path clip-path=\"url(#pc481f8cec0)\" d=\"M 127.316573 224.64 \r\nL 129.928561 224.64 \r\nL 129.928561 203.891764 \r\nL 127.316573 203.891764 \r\nz\r\n\" style=\"fill:#ff7f0e;opacity:0.4;\"/>\r\n   </g>\r\n   <g id=\"patch_62\">\r\n    <path clip-path=\"url(#pc481f8cec0)\" d=\"M 129.928561 224.64 \r\nL 132.540549 224.64 \r\nL 132.540549 206.294191 \r\nL 129.928561 206.294191 \r\nz\r\n\" style=\"fill:#ff7f0e;opacity:0.4;\"/>\r\n   </g>\r\n   <g id=\"patch_63\">\r\n    <path clip-path=\"url(#pc481f8cec0)\" d=\"M 132.540549 224.64 \r\nL 135.152537 224.64 \r\nL 135.152537 210.116235 \r\nL 132.540549 210.116235 \r\nz\r\n\" style=\"fill:#ff7f0e;opacity:0.4;\"/>\r\n   </g>\r\n   <g id=\"patch_64\">\r\n    <path clip-path=\"url(#pc481f8cec0)\" d=\"M 135.152537 224.64 \r\nL 137.764526 224.64 \r\nL 137.764526 210.662241 \r\nL 135.152537 210.662241 \r\nz\r\n\" style=\"fill:#ff7f0e;opacity:0.4;\"/>\r\n   </g>\r\n   <g id=\"patch_65\">\r\n    <path clip-path=\"url(#pc481f8cec0)\" d=\"M 137.764526 224.64 \r\nL 140.376514 224.64 \r\nL 140.376514 212.737065 \r\nL 137.764526 212.737065 \r\nz\r\n\" style=\"fill:#ff7f0e;opacity:0.4;\"/>\r\n   </g>\r\n   <g id=\"patch_66\">\r\n    <path clip-path=\"url(#pc481f8cec0)\" d=\"M 140.376514 224.64 \r\nL 142.988502 224.64 \r\nL 142.988502 212.846266 \r\nL 140.376514 212.846266 \r\nz\r\n\" style=\"fill:#ff7f0e;opacity:0.4;\"/>\r\n   </g>\r\n   <g id=\"patch_67\">\r\n    <path clip-path=\"url(#pc481f8cec0)\" d=\"M 142.988502 224.64 \r\nL 145.60049 224.64 \r\nL 145.60049 215.248693 \r\nL 142.988502 215.248693 \r\nz\r\n\" style=\"fill:#ff7f0e;opacity:0.4;\"/>\r\n   </g>\r\n   <g id=\"patch_68\">\r\n    <path clip-path=\"url(#pc481f8cec0)\" d=\"M 145.60049 224.64 \r\nL 148.212479 224.64 \r\nL 148.212479 216.886712 \r\nL 145.60049 216.886712 \r\nz\r\n\" style=\"fill:#ff7f0e;opacity:0.4;\"/>\r\n   </g>\r\n   <g id=\"patch_69\">\r\n    <path clip-path=\"url(#pc481f8cec0)\" d=\"M 148.212479 224.64 \r\nL 150.824467 224.64 \r\nL 150.824467 217.760322 \r\nL 148.212479 217.760322 \r\nz\r\n\" style=\"fill:#ff7f0e;opacity:0.4;\"/>\r\n   </g>\r\n   <g id=\"patch_70\">\r\n    <path clip-path=\"url(#pc481f8cec0)\" d=\"M 150.824467 224.64 \r\nL 153.436455 224.64 \r\nL 153.436455 219.39834 \r\nL 150.824467 219.39834 \r\nz\r\n\" style=\"fill:#ff7f0e;opacity:0.4;\"/>\r\n   </g>\r\n   <g id=\"patch_71\">\r\n    <path clip-path=\"url(#pc481f8cec0)\" d=\"M 153.436455 224.64 \r\nL 156.048443 224.64 \r\nL 156.048443 221.14556 \r\nL 153.436455 221.14556 \r\nz\r\n\" style=\"fill:#ff7f0e;opacity:0.4;\"/>\r\n   </g>\r\n   <g id=\"patch_72\">\r\n    <path clip-path=\"url(#pc481f8cec0)\" d=\"M 156.048443 224.64 \r\nL 158.660432 224.64 \r\nL 158.660432 221.473164 \r\nL 156.048443 221.473164 \r\nz\r\n\" style=\"fill:#ff7f0e;opacity:0.4;\"/>\r\n   </g>\r\n   <g id=\"patch_73\">\r\n    <path clip-path=\"url(#pc481f8cec0)\" d=\"M 158.660432 224.64 \r\nL 161.27242 224.64 \r\nL 161.27242 221.582365 \r\nL 158.660432 221.582365 \r\nz\r\n\" style=\"fill:#ff7f0e;opacity:0.4;\"/>\r\n   </g>\r\n   <g id=\"patch_74\">\r\n    <path clip-path=\"url(#pc481f8cec0)\" d=\"M 161.27242 224.64 \r\nL 163.884408 224.64 \r\nL 163.884408 222.89278 \r\nL 161.27242 222.89278 \r\nz\r\n\" style=\"fill:#ff7f0e;opacity:0.4;\"/>\r\n   </g>\r\n   <g id=\"patch_75\">\r\n    <path clip-path=\"url(#pc481f8cec0)\" d=\"M 163.884408 224.64 \r\nL 166.496396 224.64 \r\nL 166.496396 223.547988 \r\nL 163.884408 223.547988 \r\nz\r\n\" style=\"fill:#ff7f0e;opacity:0.4;\"/>\r\n   </g>\r\n   <g id=\"patch_76\">\r\n    <path clip-path=\"url(#pc481f8cec0)\" d=\"M 166.496396 224.64 \r\nL 169.108385 224.64 \r\nL 169.108385 223.76639 \r\nL 166.496396 223.76639 \r\nz\r\n\" style=\"fill:#ff7f0e;opacity:0.4;\"/>\r\n   </g>\r\n   <g id=\"patch_77\">\r\n    <path clip-path=\"url(#pc481f8cec0)\" d=\"M 169.108385 224.64 \r\nL 171.720373 224.64 \r\nL 171.720373 223.657189 \r\nL 169.108385 223.657189 \r\nz\r\n\" style=\"fill:#ff7f0e;opacity:0.4;\"/>\r\n   </g>\r\n   <g id=\"patch_78\">\r\n    <path clip-path=\"url(#pc481f8cec0)\" d=\"M 171.720373 224.64 \r\nL 174.332361 224.64 \r\nL 174.332361 224.421598 \r\nL 171.720373 224.421598 \r\nz\r\n\" style=\"fill:#ff7f0e;opacity:0.4;\"/>\r\n   </g>\r\n   <g id=\"patch_79\">\r\n    <path clip-path=\"url(#pc481f8cec0)\" d=\"M 174.332361 224.64 \r\nL 176.944349 224.64 \r\nL 176.944349 224.530799 \r\nL 174.332361 224.530799 \r\nz\r\n\" style=\"fill:#ff7f0e;opacity:0.4;\"/>\r\n   </g>\r\n   <g id=\"patch_80\">\r\n    <path clip-path=\"url(#pc481f8cec0)\" d=\"M 176.944349 224.64 \r\nL 179.556338 224.64 \r\nL 179.556338 224.421598 \r\nL 176.944349 224.421598 \r\nz\r\n\" style=\"fill:#ff7f0e;opacity:0.4;\"/>\r\n   </g>\r\n   <g id=\"patch_81\">\r\n    <path clip-path=\"url(#pc481f8cec0)\" d=\"M 179.556338 224.64 \r\nL 182.168326 224.64 \r\nL 182.168326 224.64 \r\nL 179.556338 224.64 \r\nz\r\n\" style=\"fill:#ff7f0e;opacity:0.4;\"/>\r\n   </g>\r\n   <g id=\"patch_82\">\r\n    <path clip-path=\"url(#pc481f8cec0)\" d=\"M 182.168326 224.64 \r\nL 184.780314 224.64 \r\nL 184.780314 224.312396 \r\nL 182.168326 224.312396 \r\nz\r\n\" style=\"fill:#ff7f0e;opacity:0.4;\"/>\r\n   </g>\r\n   <g id=\"patch_83\">\r\n    <path clip-path=\"url(#pc481f8cec0)\" d=\"M 184.780314 224.64 \r\nL 187.392302 224.64 \r\nL 187.392302 224.64 \r\nL 184.780314 224.64 \r\nz\r\n\" style=\"fill:#ff7f0e;opacity:0.4;\"/>\r\n   </g>\r\n   <g id=\"patch_84\">\r\n    <path clip-path=\"url(#pc481f8cec0)\" d=\"M 187.392302 224.64 \r\nL 190.004291 224.64 \r\nL 190.004291 224.421598 \r\nL 187.392302 224.421598 \r\nz\r\n\" style=\"fill:#ff7f0e;opacity:0.4;\"/>\r\n   </g>\r\n   <g id=\"patch_85\">\r\n    <path clip-path=\"url(#pc481f8cec0)\" d=\"M 190.004291 224.64 \r\nL 192.616279 224.64 \r\nL 192.616279 224.64 \r\nL 190.004291 224.64 \r\nz\r\n\" style=\"fill:#ff7f0e;opacity:0.4;\"/>\r\n   </g>\r\n   <g id=\"patch_86\">\r\n    <path clip-path=\"url(#pc481f8cec0)\" d=\"M 192.616279 224.64 \r\nL 195.228267 224.64 \r\nL 195.228267 224.530799 \r\nL 192.616279 224.530799 \r\nz\r\n\" style=\"fill:#ff7f0e;opacity:0.4;\"/>\r\n   </g>\r\n   <g id=\"patch_87\">\r\n    <path clip-path=\"url(#pc481f8cec0)\" d=\"M 106.950441 224.64 \r\nL 109.638323 224.64 \r\nL 109.638323 17.554286 \r\nL 106.950441 17.554286 \r\nz\r\n\" style=\"fill:#2ca02c;opacity:0.4;\"/>\r\n   </g>\r\n   <g id=\"patch_88\">\r\n    <path clip-path=\"url(#pc481f8cec0)\" d=\"M 109.638323 224.64 \r\nL 112.326205 224.64 \r\nL 112.326205 157.477066 \r\nL 109.638323 157.477066 \r\nz\r\n\" style=\"fill:#2ca02c;opacity:0.4;\"/>\r\n   </g>\r\n   <g id=\"patch_89\">\r\n    <path clip-path=\"url(#pc481f8cec0)\" d=\"M 112.326205 224.64 \r\nL 115.014088 224.64 \r\nL 115.014088 224.64 \r\nL 112.326205 224.64 \r\nz\r\n\" style=\"fill:#2ca02c;opacity:0.4;\"/>\r\n   </g>\r\n   <g id=\"patch_90\">\r\n    <path clip-path=\"url(#pc481f8cec0)\" d=\"M 115.014088 224.64 \r\nL 117.70197 224.64 \r\nL 117.70197 224.64 \r\nL 115.014088 224.64 \r\nz\r\n\" style=\"fill:#2ca02c;opacity:0.4;\"/>\r\n   </g>\r\n   <g id=\"patch_91\">\r\n    <path clip-path=\"url(#pc481f8cec0)\" d=\"M 117.70197 224.64 \r\nL 120.389853 224.64 \r\nL 120.389853 224.64 \r\nL 117.70197 224.64 \r\nz\r\n\" style=\"fill:#2ca02c;opacity:0.4;\"/>\r\n   </g>\r\n   <g id=\"patch_92\">\r\n    <path clip-path=\"url(#pc481f8cec0)\" d=\"M 120.389853 224.64 \r\nL 123.077735 224.64 \r\nL 123.077735 224.64 \r\nL 120.389853 224.64 \r\nz\r\n\" style=\"fill:#2ca02c;opacity:0.4;\"/>\r\n   </g>\r\n   <g id=\"patch_93\">\r\n    <path clip-path=\"url(#pc481f8cec0)\" d=\"M 123.077735 224.64 \r\nL 125.765618 224.64 \r\nL 125.765618 224.64 \r\nL 123.077735 224.64 \r\nz\r\n\" style=\"fill:#2ca02c;opacity:0.4;\"/>\r\n   </g>\r\n   <g id=\"patch_94\">\r\n    <path clip-path=\"url(#pc481f8cec0)\" d=\"M 125.765618 224.64 \r\nL 128.4535 224.64 \r\nL 128.4535 224.64 \r\nL 125.765618 224.64 \r\nz\r\n\" style=\"fill:#2ca02c;opacity:0.4;\"/>\r\n   </g>\r\n   <g id=\"patch_95\">\r\n    <path clip-path=\"url(#pc481f8cec0)\" d=\"M 128.4535 224.64 \r\nL 131.141383 224.64 \r\nL 131.141383 224.64 \r\nL 128.4535 224.64 \r\nz\r\n\" style=\"fill:#2ca02c;opacity:0.4;\"/>\r\n   </g>\r\n   <g id=\"patch_96\">\r\n    <path clip-path=\"url(#pc481f8cec0)\" d=\"M 131.141383 224.64 \r\nL 133.829265 224.64 \r\nL 133.829265 224.64 \r\nL 131.141383 224.64 \r\nz\r\n\" style=\"fill:#2ca02c;opacity:0.4;\"/>\r\n   </g>\r\n   <g id=\"patch_97\">\r\n    <path clip-path=\"url(#pc481f8cec0)\" d=\"M 133.829265 224.64 \r\nL 136.517148 224.64 \r\nL 136.517148 224.64 \r\nL 133.829265 224.64 \r\nz\r\n\" style=\"fill:#2ca02c;opacity:0.4;\"/>\r\n   </g>\r\n   <g id=\"patch_98\">\r\n    <path clip-path=\"url(#pc481f8cec0)\" d=\"M 136.517148 224.64 \r\nL 139.20503 224.64 \r\nL 139.20503 224.64 \r\nL 136.517148 224.64 \r\nz\r\n\" style=\"fill:#2ca02c;opacity:0.4;\"/>\r\n   </g>\r\n   <g id=\"patch_99\">\r\n    <path clip-path=\"url(#pc481f8cec0)\" d=\"M 139.20503 224.64 \r\nL 141.892912 224.64 \r\nL 141.892912 224.64 \r\nL 139.20503 224.64 \r\nz\r\n\" style=\"fill:#2ca02c;opacity:0.4;\"/>\r\n   </g>\r\n   <g id=\"patch_100\">\r\n    <path clip-path=\"url(#pc481f8cec0)\" d=\"M 141.892912 224.64 \r\nL 144.580795 224.64 \r\nL 144.580795 224.64 \r\nL 141.892912 224.64 \r\nz\r\n\" style=\"fill:#2ca02c;opacity:0.4;\"/>\r\n   </g>\r\n   <g id=\"patch_101\">\r\n    <path clip-path=\"url(#pc481f8cec0)\" d=\"M 144.580795 224.64 \r\nL 147.268677 224.64 \r\nL 147.268677 224.64 \r\nL 144.580795 224.64 \r\nz\r\n\" style=\"fill:#2ca02c;opacity:0.4;\"/>\r\n   </g>\r\n   <g id=\"patch_102\">\r\n    <path clip-path=\"url(#pc481f8cec0)\" d=\"M 147.268677 224.64 \r\nL 149.95656 224.64 \r\nL 149.95656 224.64 \r\nL 147.268677 224.64 \r\nz\r\n\" style=\"fill:#2ca02c;opacity:0.4;\"/>\r\n   </g>\r\n   <g id=\"patch_103\">\r\n    <path clip-path=\"url(#pc481f8cec0)\" d=\"M 149.95656 224.64 \r\nL 152.644442 224.64 \r\nL 152.644442 224.64 \r\nL 149.95656 224.64 \r\nz\r\n\" style=\"fill:#2ca02c;opacity:0.4;\"/>\r\n   </g>\r\n   <g id=\"patch_104\">\r\n    <path clip-path=\"url(#pc481f8cec0)\" d=\"M 152.644442 224.64 \r\nL 155.332325 224.64 \r\nL 155.332325 224.64 \r\nL 152.644442 224.64 \r\nz\r\n\" style=\"fill:#2ca02c;opacity:0.4;\"/>\r\n   </g>\r\n   <g id=\"patch_105\">\r\n    <path clip-path=\"url(#pc481f8cec0)\" d=\"M 155.332325 224.64 \r\nL 158.020207 224.64 \r\nL 158.020207 224.64 \r\nL 155.332325 224.64 \r\nz\r\n\" style=\"fill:#2ca02c;opacity:0.4;\"/>\r\n   </g>\r\n   <g id=\"patch_106\">\r\n    <path clip-path=\"url(#pc481f8cec0)\" d=\"M 158.020207 224.64 \r\nL 160.70809 224.64 \r\nL 160.70809 224.64 \r\nL 158.020207 224.64 \r\nz\r\n\" style=\"fill:#2ca02c;opacity:0.4;\"/>\r\n   </g>\r\n   <g id=\"patch_107\">\r\n    <path clip-path=\"url(#pc481f8cec0)\" d=\"M 160.70809 224.64 \r\nL 163.395972 224.64 \r\nL 163.395972 224.64 \r\nL 160.70809 224.64 \r\nz\r\n\" style=\"fill:#2ca02c;opacity:0.4;\"/>\r\n   </g>\r\n   <g id=\"patch_108\">\r\n    <path clip-path=\"url(#pc481f8cec0)\" d=\"M 163.395972 224.64 \r\nL 166.083855 224.64 \r\nL 166.083855 224.64 \r\nL 163.395972 224.64 \r\nz\r\n\" style=\"fill:#2ca02c;opacity:0.4;\"/>\r\n   </g>\r\n   <g id=\"patch_109\">\r\n    <path clip-path=\"url(#pc481f8cec0)\" d=\"M 166.083855 224.64 \r\nL 168.771737 224.64 \r\nL 168.771737 224.64 \r\nL 166.083855 224.64 \r\nz\r\n\" style=\"fill:#2ca02c;opacity:0.4;\"/>\r\n   </g>\r\n   <g id=\"patch_110\">\r\n    <path clip-path=\"url(#pc481f8cec0)\" d=\"M 168.771737 224.64 \r\nL 171.459619 224.64 \r\nL 171.459619 224.64 \r\nL 168.771737 224.64 \r\nz\r\n\" style=\"fill:#2ca02c;opacity:0.4;\"/>\r\n   </g>\r\n   <g id=\"patch_111\">\r\n    <path clip-path=\"url(#pc481f8cec0)\" d=\"M 171.459619 224.64 \r\nL 174.147502 224.64 \r\nL 174.147502 224.64 \r\nL 171.459619 224.64 \r\nz\r\n\" style=\"fill:#2ca02c;opacity:0.4;\"/>\r\n   </g>\r\n   <g id=\"patch_112\">\r\n    <path clip-path=\"url(#pc481f8cec0)\" d=\"M 174.147502 224.64 \r\nL 176.835384 224.64 \r\nL 176.835384 224.64 \r\nL 174.147502 224.64 \r\nz\r\n\" style=\"fill:#2ca02c;opacity:0.4;\"/>\r\n   </g>\r\n   <g id=\"patch_113\">\r\n    <path clip-path=\"url(#pc481f8cec0)\" d=\"M 176.835384 224.64 \r\nL 179.523267 224.64 \r\nL 179.523267 224.64 \r\nL 176.835384 224.64 \r\nz\r\n\" style=\"fill:#2ca02c;opacity:0.4;\"/>\r\n   </g>\r\n   <g id=\"patch_114\">\r\n    <path clip-path=\"url(#pc481f8cec0)\" d=\"M 179.523267 224.64 \r\nL 182.211149 224.64 \r\nL 182.211149 224.64 \r\nL 179.523267 224.64 \r\nz\r\n\" style=\"fill:#2ca02c;opacity:0.4;\"/>\r\n   </g>\r\n   <g id=\"patch_115\">\r\n    <path clip-path=\"url(#pc481f8cec0)\" d=\"M 182.211149 224.64 \r\nL 184.899032 224.64 \r\nL 184.899032 224.64 \r\nL 182.211149 224.64 \r\nz\r\n\" style=\"fill:#2ca02c;opacity:0.4;\"/>\r\n   </g>\r\n   <g id=\"patch_116\">\r\n    <path clip-path=\"url(#pc481f8cec0)\" d=\"M 184.899032 224.64 \r\nL 187.586914 224.64 \r\nL 187.586914 224.64 \r\nL 184.899032 224.64 \r\nz\r\n\" style=\"fill:#2ca02c;opacity:0.4;\"/>\r\n   </g>\r\n   <g id=\"patch_117\">\r\n    <path clip-path=\"url(#pc481f8cec0)\" d=\"M 187.586914 224.64 \r\nL 190.274797 224.64 \r\nL 190.274797 224.64 \r\nL 187.586914 224.64 \r\nz\r\n\" style=\"fill:#2ca02c;opacity:0.4;\"/>\r\n   </g>\r\n   <g id=\"patch_118\">\r\n    <path clip-path=\"url(#pc481f8cec0)\" d=\"M 190.274797 224.64 \r\nL 192.962679 224.64 \r\nL 192.962679 224.64 \r\nL 190.274797 224.64 \r\nz\r\n\" style=\"fill:#2ca02c;opacity:0.4;\"/>\r\n   </g>\r\n   <g id=\"patch_119\">\r\n    <path clip-path=\"url(#pc481f8cec0)\" d=\"M 192.962679 224.64 \r\nL 195.650562 224.64 \r\nL 195.650562 224.64 \r\nL 192.962679 224.64 \r\nz\r\n\" style=\"fill:#2ca02c;opacity:0.4;\"/>\r\n   </g>\r\n   <g id=\"patch_120\">\r\n    <path clip-path=\"url(#pc481f8cec0)\" d=\"M 195.650562 224.64 \r\nL 198.338444 224.64 \r\nL 198.338444 224.64 \r\nL 195.650562 224.64 \r\nz\r\n\" style=\"fill:#2ca02c;opacity:0.4;\"/>\r\n   </g>\r\n   <g id=\"patch_121\">\r\n    <path clip-path=\"url(#pc481f8cec0)\" d=\"M 198.338444 224.64 \r\nL 201.026326 224.64 \r\nL 201.026326 224.64 \r\nL 198.338444 224.64 \r\nz\r\n\" style=\"fill:#2ca02c;opacity:0.4;\"/>\r\n   </g>\r\n   <g id=\"patch_122\">\r\n    <path clip-path=\"url(#pc481f8cec0)\" d=\"M 201.026326 224.64 \r\nL 203.714209 224.64 \r\nL 203.714209 224.64 \r\nL 201.026326 224.64 \r\nz\r\n\" style=\"fill:#2ca02c;opacity:0.4;\"/>\r\n   </g>\r\n   <g id=\"patch_123\">\r\n    <path clip-path=\"url(#pc481f8cec0)\" d=\"M 203.714209 224.64 \r\nL 206.402091 224.64 \r\nL 206.402091 224.64 \r\nL 203.714209 224.64 \r\nz\r\n\" style=\"fill:#2ca02c;opacity:0.4;\"/>\r\n   </g>\r\n   <g id=\"patch_124\">\r\n    <path clip-path=\"url(#pc481f8cec0)\" d=\"M 206.402091 224.64 \r\nL 209.089974 224.64 \r\nL 209.089974 224.64 \r\nL 206.402091 224.64 \r\nz\r\n\" style=\"fill:#2ca02c;opacity:0.4;\"/>\r\n   </g>\r\n   <g id=\"patch_125\">\r\n    <path clip-path=\"url(#pc481f8cec0)\" d=\"M 209.089974 224.64 \r\nL 211.777856 224.64 \r\nL 211.777856 224.64 \r\nL 209.089974 224.64 \r\nz\r\n\" style=\"fill:#2ca02c;opacity:0.4;\"/>\r\n   </g>\r\n   <g id=\"patch_126\">\r\n    <path clip-path=\"url(#pc481f8cec0)\" d=\"M 211.777856 224.64 \r\nL 214.465739 224.64 \r\nL 214.465739 224.64 \r\nL 211.777856 224.64 \r\nz\r\n\" style=\"fill:#2ca02c;opacity:0.4;\"/>\r\n   </g>\r\n   <g id=\"patch_127\">\r\n    <path clip-path=\"url(#pc481f8cec0)\" d=\"M 214.465739 224.64 \r\nL 217.153621 224.64 \r\nL 217.153621 224.64 \r\nL 214.465739 224.64 \r\nz\r\n\" style=\"fill:#2ca02c;opacity:0.4;\"/>\r\n   </g>\r\n   <g id=\"patch_128\">\r\n    <path clip-path=\"url(#pc481f8cec0)\" d=\"M 217.153621 224.64 \r\nL 219.841504 224.64 \r\nL 219.841504 224.64 \r\nL 217.153621 224.64 \r\nz\r\n\" style=\"fill:#2ca02c;opacity:0.4;\"/>\r\n   </g>\r\n   <g id=\"patch_129\">\r\n    <path clip-path=\"url(#pc481f8cec0)\" d=\"M 219.841504 224.64 \r\nL 222.529386 224.64 \r\nL 222.529386 224.64 \r\nL 219.841504 224.64 \r\nz\r\n\" style=\"fill:#2ca02c;opacity:0.4;\"/>\r\n   </g>\r\n   <g id=\"patch_130\">\r\n    <path clip-path=\"url(#pc481f8cec0)\" d=\"M 222.529386 224.64 \r\nL 225.217269 224.64 \r\nL 225.217269 224.64 \r\nL 222.529386 224.64 \r\nz\r\n\" style=\"fill:#2ca02c;opacity:0.4;\"/>\r\n   </g>\r\n   <g id=\"patch_131\">\r\n    <path clip-path=\"url(#pc481f8cec0)\" d=\"M 225.217269 224.64 \r\nL 227.905151 224.64 \r\nL 227.905151 224.64 \r\nL 225.217269 224.64 \r\nz\r\n\" style=\"fill:#2ca02c;opacity:0.4;\"/>\r\n   </g>\r\n   <g id=\"patch_132\">\r\n    <path clip-path=\"url(#pc481f8cec0)\" d=\"M 227.905151 224.64 \r\nL 230.593033 224.64 \r\nL 230.593033 224.64 \r\nL 227.905151 224.64 \r\nz\r\n\" style=\"fill:#2ca02c;opacity:0.4;\"/>\r\n   </g>\r\n   <g id=\"patch_133\">\r\n    <path clip-path=\"url(#pc481f8cec0)\" d=\"M 230.593033 224.64 \r\nL 233.280916 224.64 \r\nL 233.280916 224.64 \r\nL 230.593033 224.64 \r\nz\r\n\" style=\"fill:#2ca02c;opacity:0.4;\"/>\r\n   </g>\r\n   <g id=\"patch_134\">\r\n    <path clip-path=\"url(#pc481f8cec0)\" d=\"M 233.280916 224.64 \r\nL 235.968798 224.64 \r\nL 235.968798 224.64 \r\nL 233.280916 224.64 \r\nz\r\n\" style=\"fill:#2ca02c;opacity:0.4;\"/>\r\n   </g>\r\n   <g id=\"patch_135\">\r\n    <path clip-path=\"url(#pc481f8cec0)\" d=\"M 235.968798 224.64 \r\nL 238.656681 224.64 \r\nL 238.656681 224.64 \r\nL 235.968798 224.64 \r\nz\r\n\" style=\"fill:#2ca02c;opacity:0.4;\"/>\r\n   </g>\r\n   <g id=\"patch_136\">\r\n    <path clip-path=\"url(#pc481f8cec0)\" d=\"M 238.656681 224.64 \r\nL 241.344563 224.64 \r\nL 241.344563 157.613576 \r\nL 238.656681 157.613576 \r\nz\r\n\" style=\"fill:#2ca02c;opacity:0.4;\"/>\r\n   </g>\r\n   <g id=\"matplotlib.axis_1\">\r\n    <g id=\"xtick_1\">\r\n     <g id=\"line2d_1\">\r\n      <defs>\r\n       <path d=\"M 0 0 \r\nL 0 3.5 \r\n\" id=\"m56dbe13cd3\" style=\"stroke:#000000;stroke-width:0.8;\"/>\r\n      </defs>\r\n      <g>\r\n       <use style=\"stroke:#000000;stroke-width:0.8;\" x=\"65.766702\" xlink:href=\"#m56dbe13cd3\" y=\"224.64\"/>\r\n      </g>\r\n     </g>\r\n     <g id=\"text_1\">\r\n      <!-- −10000 -->\r\n      <g transform=\"translate(45.670609 239.238438)scale(0.1 -0.1)\">\r\n       <defs>\r\n        <path d=\"M 10.59375 35.5 \r\nL 73.1875 35.5 \r\nL 73.1875 27.203125 \r\nL 10.59375 27.203125 \r\nz\r\n\" id=\"DejaVuSans-8722\"/>\r\n        <path d=\"M 12.40625 8.296875 \r\nL 28.515625 8.296875 \r\nL 28.515625 63.921875 \r\nL 10.984375 60.40625 \r\nL 10.984375 69.390625 \r\nL 28.421875 72.90625 \r\nL 38.28125 72.90625 \r\nL 38.28125 8.296875 \r\nL 54.390625 8.296875 \r\nL 54.390625 0 \r\nL 12.40625 0 \r\nz\r\n\" id=\"DejaVuSans-49\"/>\r\n        <path d=\"M 31.78125 66.40625 \r\nQ 24.171875 66.40625 20.328125 58.90625 \r\nQ 16.5 51.421875 16.5 36.375 \r\nQ 16.5 21.390625 20.328125 13.890625 \r\nQ 24.171875 6.390625 31.78125 6.390625 \r\nQ 39.453125 6.390625 43.28125 13.890625 \r\nQ 47.125 21.390625 47.125 36.375 \r\nQ 47.125 51.421875 43.28125 58.90625 \r\nQ 39.453125 66.40625 31.78125 66.40625 \r\nz\r\nM 31.78125 74.21875 \r\nQ 44.046875 74.21875 50.515625 64.515625 \r\nQ 56.984375 54.828125 56.984375 36.375 \r\nQ 56.984375 17.96875 50.515625 8.265625 \r\nQ 44.046875 -1.421875 31.78125 -1.421875 \r\nQ 19.53125 -1.421875 13.0625 8.265625 \r\nQ 6.59375 17.96875 6.59375 36.375 \r\nQ 6.59375 54.828125 13.0625 64.515625 \r\nQ 19.53125 74.21875 31.78125 74.21875 \r\nz\r\n\" id=\"DejaVuSans-48\"/>\r\n       </defs>\r\n       <use xlink:href=\"#DejaVuSans-8722\"/>\r\n       <use x=\"83.789062\" xlink:href=\"#DejaVuSans-49\"/>\r\n       <use x=\"147.412109\" xlink:href=\"#DejaVuSans-48\"/>\r\n       <use x=\"211.035156\" xlink:href=\"#DejaVuSans-48\"/>\r\n       <use x=\"274.658203\" xlink:href=\"#DejaVuSans-48\"/>\r\n       <use x=\"338.28125\" xlink:href=\"#DejaVuSans-48\"/>\r\n      </g>\r\n     </g>\r\n    </g>\r\n    <g id=\"xtick_2\">\r\n     <g id=\"line2d_2\">\r\n      <g>\r\n       <use style=\"stroke:#000000;stroke-width:0.8;\" x=\"106.409726\" xlink:href=\"#m56dbe13cd3\" y=\"224.64\"/>\r\n      </g>\r\n     </g>\r\n     <g id=\"text_2\">\r\n      <!-- 0 -->\r\n      <g transform=\"translate(103.228476 239.238438)scale(0.1 -0.1)\">\r\n       <use xlink:href=\"#DejaVuSans-48\"/>\r\n      </g>\r\n     </g>\r\n    </g>\r\n    <g id=\"xtick_3\">\r\n     <g id=\"line2d_3\">\r\n      <g>\r\n       <use style=\"stroke:#000000;stroke-width:0.8;\" x=\"147.052749\" xlink:href=\"#m56dbe13cd3\" y=\"224.64\"/>\r\n      </g>\r\n     </g>\r\n     <g id=\"text_3\">\r\n      <!-- 10000 -->\r\n      <g transform=\"translate(131.146499 239.238438)scale(0.1 -0.1)\">\r\n       <use xlink:href=\"#DejaVuSans-49\"/>\r\n       <use x=\"63.623047\" xlink:href=\"#DejaVuSans-48\"/>\r\n       <use x=\"127.246094\" xlink:href=\"#DejaVuSans-48\"/>\r\n       <use x=\"190.869141\" xlink:href=\"#DejaVuSans-48\"/>\r\n       <use x=\"254.492188\" xlink:href=\"#DejaVuSans-48\"/>\r\n      </g>\r\n     </g>\r\n    </g>\r\n    <g id=\"xtick_4\">\r\n     <g id=\"line2d_4\">\r\n      <g>\r\n       <use style=\"stroke:#000000;stroke-width:0.8;\" x=\"187.695772\" xlink:href=\"#m56dbe13cd3\" y=\"224.64\"/>\r\n      </g>\r\n     </g>\r\n     <g id=\"text_4\">\r\n      <!-- 20000 -->\r\n      <g transform=\"translate(171.789522 239.238438)scale(0.1 -0.1)\">\r\n       <defs>\r\n        <path d=\"M 19.1875 8.296875 \r\nL 53.609375 8.296875 \r\nL 53.609375 0 \r\nL 7.328125 0 \r\nL 7.328125 8.296875 \r\nQ 12.9375 14.109375 22.625 23.890625 \r\nQ 32.328125 33.6875 34.8125 36.53125 \r\nQ 39.546875 41.84375 41.421875 45.53125 \r\nQ 43.3125 49.21875 43.3125 52.78125 \r\nQ 43.3125 58.59375 39.234375 62.25 \r\nQ 35.15625 65.921875 28.609375 65.921875 \r\nQ 23.96875 65.921875 18.8125 64.3125 \r\nQ 13.671875 62.703125 7.8125 59.421875 \r\nL 7.8125 69.390625 \r\nQ 13.765625 71.78125 18.9375 73 \r\nQ 24.125 74.21875 28.421875 74.21875 \r\nQ 39.75 74.21875 46.484375 68.546875 \r\nQ 53.21875 62.890625 53.21875 53.421875 \r\nQ 53.21875 48.921875 51.53125 44.890625 \r\nQ 49.859375 40.875 45.40625 35.40625 \r\nQ 44.1875 33.984375 37.640625 27.21875 \r\nQ 31.109375 20.453125 19.1875 8.296875 \r\nz\r\n\" id=\"DejaVuSans-50\"/>\r\n       </defs>\r\n       <use xlink:href=\"#DejaVuSans-50\"/>\r\n       <use x=\"63.623047\" xlink:href=\"#DejaVuSans-48\"/>\r\n       <use x=\"127.246094\" xlink:href=\"#DejaVuSans-48\"/>\r\n       <use x=\"190.869141\" xlink:href=\"#DejaVuSans-48\"/>\r\n       <use x=\"254.492188\" xlink:href=\"#DejaVuSans-48\"/>\r\n      </g>\r\n     </g>\r\n    </g>\r\n    <g id=\"xtick_5\">\r\n     <g id=\"line2d_5\">\r\n      <g>\r\n       <use style=\"stroke:#000000;stroke-width:0.8;\" x=\"228.338796\" xlink:href=\"#m56dbe13cd3\" y=\"224.64\"/>\r\n      </g>\r\n     </g>\r\n     <g id=\"text_5\">\r\n      <!-- 30000 -->\r\n      <g transform=\"translate(212.432546 239.238438)scale(0.1 -0.1)\">\r\n       <defs>\r\n        <path d=\"M 40.578125 39.3125 \r\nQ 47.65625 37.796875 51.625 33 \r\nQ 55.609375 28.21875 55.609375 21.1875 \r\nQ 55.609375 10.40625 48.1875 4.484375 \r\nQ 40.765625 -1.421875 27.09375 -1.421875 \r\nQ 22.515625 -1.421875 17.65625 -0.515625 \r\nQ 12.796875 0.390625 7.625 2.203125 \r\nL 7.625 11.71875 \r\nQ 11.71875 9.328125 16.59375 8.109375 \r\nQ 21.484375 6.890625 26.8125 6.890625 \r\nQ 36.078125 6.890625 40.9375 10.546875 \r\nQ 45.796875 14.203125 45.796875 21.1875 \r\nQ 45.796875 27.640625 41.28125 31.265625 \r\nQ 36.765625 34.90625 28.71875 34.90625 \r\nL 20.21875 34.90625 \r\nL 20.21875 43.015625 \r\nL 29.109375 43.015625 \r\nQ 36.375 43.015625 40.234375 45.921875 \r\nQ 44.09375 48.828125 44.09375 54.296875 \r\nQ 44.09375 59.90625 40.109375 62.90625 \r\nQ 36.140625 65.921875 28.71875 65.921875 \r\nQ 24.65625 65.921875 20.015625 65.03125 \r\nQ 15.375 64.15625 9.8125 62.3125 \r\nL 9.8125 71.09375 \r\nQ 15.4375 72.65625 20.34375 73.4375 \r\nQ 25.25 74.21875 29.59375 74.21875 \r\nQ 40.828125 74.21875 47.359375 69.109375 \r\nQ 53.90625 64.015625 53.90625 55.328125 \r\nQ 53.90625 49.265625 50.4375 45.09375 \r\nQ 46.96875 40.921875 40.578125 39.3125 \r\nz\r\n\" id=\"DejaVuSans-51\"/>\r\n       </defs>\r\n       <use xlink:href=\"#DejaVuSans-51\"/>\r\n       <use x=\"63.623047\" xlink:href=\"#DejaVuSans-48\"/>\r\n       <use x=\"127.246094\" xlink:href=\"#DejaVuSans-48\"/>\r\n       <use x=\"190.869141\" xlink:href=\"#DejaVuSans-48\"/>\r\n       <use x=\"254.492188\" xlink:href=\"#DejaVuSans-48\"/>\r\n      </g>\r\n     </g>\r\n    </g>\r\n    <g id=\"xtick_6\">\r\n     <g id=\"line2d_6\">\r\n      <g>\r\n       <use style=\"stroke:#000000;stroke-width:0.8;\" x=\"268.981819\" xlink:href=\"#m56dbe13cd3\" y=\"224.64\"/>\r\n      </g>\r\n     </g>\r\n     <g id=\"text_6\">\r\n      <!-- 40000 -->\r\n      <g transform=\"translate(253.075569 239.238438)scale(0.1 -0.1)\">\r\n       <defs>\r\n        <path d=\"M 37.796875 64.3125 \r\nL 12.890625 25.390625 \r\nL 37.796875 25.390625 \r\nz\r\nM 35.203125 72.90625 \r\nL 47.609375 72.90625 \r\nL 47.609375 25.390625 \r\nL 58.015625 25.390625 \r\nL 58.015625 17.1875 \r\nL 47.609375 17.1875 \r\nL 47.609375 0 \r\nL 37.796875 0 \r\nL 37.796875 17.1875 \r\nL 4.890625 17.1875 \r\nL 4.890625 26.703125 \r\nz\r\n\" id=\"DejaVuSans-52\"/>\r\n       </defs>\r\n       <use xlink:href=\"#DejaVuSans-52\"/>\r\n       <use x=\"63.623047\" xlink:href=\"#DejaVuSans-48\"/>\r\n       <use x=\"127.246094\" xlink:href=\"#DejaVuSans-48\"/>\r\n       <use x=\"190.869141\" xlink:href=\"#DejaVuSans-48\"/>\r\n       <use x=\"254.492188\" xlink:href=\"#DejaVuSans-48\"/>\r\n      </g>\r\n     </g>\r\n    </g>\r\n    <g id=\"xtick_7\">\r\n     <g id=\"line2d_7\">\r\n      <g>\r\n       <use style=\"stroke:#000000;stroke-width:0.8;\" x=\"309.624843\" xlink:href=\"#m56dbe13cd3\" y=\"224.64\"/>\r\n      </g>\r\n     </g>\r\n     <g id=\"text_7\">\r\n      <!-- 50000 -->\r\n      <g transform=\"translate(293.718593 239.238438)scale(0.1 -0.1)\">\r\n       <defs>\r\n        <path d=\"M 10.796875 72.90625 \r\nL 49.515625 72.90625 \r\nL 49.515625 64.59375 \r\nL 19.828125 64.59375 \r\nL 19.828125 46.734375 \r\nQ 21.96875 47.46875 24.109375 47.828125 \r\nQ 26.265625 48.1875 28.421875 48.1875 \r\nQ 40.625 48.1875 47.75 41.5 \r\nQ 54.890625 34.8125 54.890625 23.390625 \r\nQ 54.890625 11.625 47.5625 5.09375 \r\nQ 40.234375 -1.421875 26.90625 -1.421875 \r\nQ 22.3125 -1.421875 17.546875 -0.640625 \r\nQ 12.796875 0.140625 7.71875 1.703125 \r\nL 7.71875 11.625 \r\nQ 12.109375 9.234375 16.796875 8.0625 \r\nQ 21.484375 6.890625 26.703125 6.890625 \r\nQ 35.15625 6.890625 40.078125 11.328125 \r\nQ 45.015625 15.765625 45.015625 23.390625 \r\nQ 45.015625 31 40.078125 35.4375 \r\nQ 35.15625 39.890625 26.703125 39.890625 \r\nQ 22.75 39.890625 18.8125 39.015625 \r\nQ 14.890625 38.140625 10.796875 36.28125 \r\nz\r\n\" id=\"DejaVuSans-53\"/>\r\n       </defs>\r\n       <use xlink:href=\"#DejaVuSans-53\"/>\r\n       <use x=\"63.623047\" xlink:href=\"#DejaVuSans-48\"/>\r\n       <use x=\"127.246094\" xlink:href=\"#DejaVuSans-48\"/>\r\n       <use x=\"190.869141\" xlink:href=\"#DejaVuSans-48\"/>\r\n       <use x=\"254.492188\" xlink:href=\"#DejaVuSans-48\"/>\r\n      </g>\r\n     </g>\r\n    </g>\r\n    <g id=\"xtick_8\">\r\n     <g id=\"line2d_8\">\r\n      <g>\r\n       <use style=\"stroke:#000000;stroke-width:0.8;\" x=\"350.267866\" xlink:href=\"#m56dbe13cd3\" y=\"224.64\"/>\r\n      </g>\r\n     </g>\r\n     <g id=\"text_8\">\r\n      <!-- 60000 -->\r\n      <g transform=\"translate(334.361616 239.238438)scale(0.1 -0.1)\">\r\n       <defs>\r\n        <path d=\"M 33.015625 40.375 \r\nQ 26.375 40.375 22.484375 35.828125 \r\nQ 18.609375 31.296875 18.609375 23.390625 \r\nQ 18.609375 15.53125 22.484375 10.953125 \r\nQ 26.375 6.390625 33.015625 6.390625 \r\nQ 39.65625 6.390625 43.53125 10.953125 \r\nQ 47.40625 15.53125 47.40625 23.390625 \r\nQ 47.40625 31.296875 43.53125 35.828125 \r\nQ 39.65625 40.375 33.015625 40.375 \r\nz\r\nM 52.59375 71.296875 \r\nL 52.59375 62.3125 \r\nQ 48.875 64.0625 45.09375 64.984375 \r\nQ 41.3125 65.921875 37.59375 65.921875 \r\nQ 27.828125 65.921875 22.671875 59.328125 \r\nQ 17.53125 52.734375 16.796875 39.40625 \r\nQ 19.671875 43.65625 24.015625 45.921875 \r\nQ 28.375 48.1875 33.59375 48.1875 \r\nQ 44.578125 48.1875 50.953125 41.515625 \r\nQ 57.328125 34.859375 57.328125 23.390625 \r\nQ 57.328125 12.15625 50.6875 5.359375 \r\nQ 44.046875 -1.421875 33.015625 -1.421875 \r\nQ 20.359375 -1.421875 13.671875 8.265625 \r\nQ 6.984375 17.96875 6.984375 36.375 \r\nQ 6.984375 53.65625 15.1875 63.9375 \r\nQ 23.390625 74.21875 37.203125 74.21875 \r\nQ 40.921875 74.21875 44.703125 73.484375 \r\nQ 48.484375 72.75 52.59375 71.296875 \r\nz\r\n\" id=\"DejaVuSans-54\"/>\r\n       </defs>\r\n       <use xlink:href=\"#DejaVuSans-54\"/>\r\n       <use x=\"63.623047\" xlink:href=\"#DejaVuSans-48\"/>\r\n       <use x=\"127.246094\" xlink:href=\"#DejaVuSans-48\"/>\r\n       <use x=\"190.869141\" xlink:href=\"#DejaVuSans-48\"/>\r\n       <use x=\"254.492188\" xlink:href=\"#DejaVuSans-48\"/>\r\n      </g>\r\n     </g>\r\n    </g>\r\n    <g id=\"xtick_9\">\r\n     <g id=\"line2d_9\">\r\n      <g>\r\n       <use style=\"stroke:#000000;stroke-width:0.8;\" x=\"390.910889\" xlink:href=\"#m56dbe13cd3\" y=\"224.64\"/>\r\n      </g>\r\n     </g>\r\n     <g id=\"text_9\">\r\n      <!-- 70000 -->\r\n      <g transform=\"translate(375.004639 239.238438)scale(0.1 -0.1)\">\r\n       <defs>\r\n        <path d=\"M 8.203125 72.90625 \r\nL 55.078125 72.90625 \r\nL 55.078125 68.703125 \r\nL 28.609375 0 \r\nL 18.3125 0 \r\nL 43.21875 64.59375 \r\nL 8.203125 64.59375 \r\nz\r\n\" id=\"DejaVuSans-55\"/>\r\n       </defs>\r\n       <use xlink:href=\"#DejaVuSans-55\"/>\r\n       <use x=\"63.623047\" xlink:href=\"#DejaVuSans-48\"/>\r\n       <use x=\"127.246094\" xlink:href=\"#DejaVuSans-48\"/>\r\n       <use x=\"190.869141\" xlink:href=\"#DejaVuSans-48\"/>\r\n       <use x=\"254.492188\" xlink:href=\"#DejaVuSans-48\"/>\r\n      </g>\r\n     </g>\r\n    </g>\r\n    <g id=\"text_10\">\r\n     <!-- median_tr -->\r\n     <g transform=\"translate(205.010156 252.916562)scale(0.1 -0.1)\">\r\n      <defs>\r\n       <path d=\"M 52 44.1875 \r\nQ 55.375 50.25 60.0625 53.125 \r\nQ 64.75 56 71.09375 56 \r\nQ 79.640625 56 84.28125 50.015625 \r\nQ 88.921875 44.046875 88.921875 33.015625 \r\nL 88.921875 0 \r\nL 79.890625 0 \r\nL 79.890625 32.71875 \r\nQ 79.890625 40.578125 77.09375 44.375 \r\nQ 74.3125 48.1875 68.609375 48.1875 \r\nQ 61.625 48.1875 57.5625 43.546875 \r\nQ 53.515625 38.921875 53.515625 30.90625 \r\nL 53.515625 0 \r\nL 44.484375 0 \r\nL 44.484375 32.71875 \r\nQ 44.484375 40.625 41.703125 44.40625 \r\nQ 38.921875 48.1875 33.109375 48.1875 \r\nQ 26.21875 48.1875 22.15625 43.53125 \r\nQ 18.109375 38.875 18.109375 30.90625 \r\nL 18.109375 0 \r\nL 9.078125 0 \r\nL 9.078125 54.6875 \r\nL 18.109375 54.6875 \r\nL 18.109375 46.1875 \r\nQ 21.1875 51.21875 25.484375 53.609375 \r\nQ 29.78125 56 35.6875 56 \r\nQ 41.65625 56 45.828125 52.96875 \r\nQ 50 49.953125 52 44.1875 \r\nz\r\n\" id=\"DejaVuSans-109\"/>\r\n       <path d=\"M 56.203125 29.59375 \r\nL 56.203125 25.203125 \r\nL 14.890625 25.203125 \r\nQ 15.484375 15.921875 20.484375 11.0625 \r\nQ 25.484375 6.203125 34.421875 6.203125 \r\nQ 39.59375 6.203125 44.453125 7.46875 \r\nQ 49.3125 8.734375 54.109375 11.28125 \r\nL 54.109375 2.78125 \r\nQ 49.265625 0.734375 44.1875 -0.34375 \r\nQ 39.109375 -1.421875 33.890625 -1.421875 \r\nQ 20.796875 -1.421875 13.15625 6.1875 \r\nQ 5.515625 13.8125 5.515625 26.8125 \r\nQ 5.515625 40.234375 12.765625 48.109375 \r\nQ 20.015625 56 32.328125 56 \r\nQ 43.359375 56 49.78125 48.890625 \r\nQ 56.203125 41.796875 56.203125 29.59375 \r\nz\r\nM 47.21875 32.234375 \r\nQ 47.125 39.59375 43.09375 43.984375 \r\nQ 39.0625 48.390625 32.421875 48.390625 \r\nQ 24.90625 48.390625 20.390625 44.140625 \r\nQ 15.875 39.890625 15.1875 32.171875 \r\nz\r\n\" id=\"DejaVuSans-101\"/>\r\n       <path d=\"M 45.40625 46.390625 \r\nL 45.40625 75.984375 \r\nL 54.390625 75.984375 \r\nL 54.390625 0 \r\nL 45.40625 0 \r\nL 45.40625 8.203125 \r\nQ 42.578125 3.328125 38.25 0.953125 \r\nQ 33.9375 -1.421875 27.875 -1.421875 \r\nQ 17.96875 -1.421875 11.734375 6.484375 \r\nQ 5.515625 14.40625 5.515625 27.296875 \r\nQ 5.515625 40.1875 11.734375 48.09375 \r\nQ 17.96875 56 27.875 56 \r\nQ 33.9375 56 38.25 53.625 \r\nQ 42.578125 51.265625 45.40625 46.390625 \r\nz\r\nM 14.796875 27.296875 \r\nQ 14.796875 17.390625 18.875 11.75 \r\nQ 22.953125 6.109375 30.078125 6.109375 \r\nQ 37.203125 6.109375 41.296875 11.75 \r\nQ 45.40625 17.390625 45.40625 27.296875 \r\nQ 45.40625 37.203125 41.296875 42.84375 \r\nQ 37.203125 48.484375 30.078125 48.484375 \r\nQ 22.953125 48.484375 18.875 42.84375 \r\nQ 14.796875 37.203125 14.796875 27.296875 \r\nz\r\n\" id=\"DejaVuSans-100\"/>\r\n       <path d=\"M 9.421875 54.6875 \r\nL 18.40625 54.6875 \r\nL 18.40625 0 \r\nL 9.421875 0 \r\nz\r\nM 9.421875 75.984375 \r\nL 18.40625 75.984375 \r\nL 18.40625 64.59375 \r\nL 9.421875 64.59375 \r\nz\r\n\" id=\"DejaVuSans-105\"/>\r\n       <path d=\"M 34.28125 27.484375 \r\nQ 23.390625 27.484375 19.1875 25 \r\nQ 14.984375 22.515625 14.984375 16.5 \r\nQ 14.984375 11.71875 18.140625 8.90625 \r\nQ 21.296875 6.109375 26.703125 6.109375 \r\nQ 34.1875 6.109375 38.703125 11.40625 \r\nQ 43.21875 16.703125 43.21875 25.484375 \r\nL 43.21875 27.484375 \r\nz\r\nM 52.203125 31.203125 \r\nL 52.203125 0 \r\nL 43.21875 0 \r\nL 43.21875 8.296875 \r\nQ 40.140625 3.328125 35.546875 0.953125 \r\nQ 30.953125 -1.421875 24.3125 -1.421875 \r\nQ 15.921875 -1.421875 10.953125 3.296875 \r\nQ 6 8.015625 6 15.921875 \r\nQ 6 25.140625 12.171875 29.828125 \r\nQ 18.359375 34.515625 30.609375 34.515625 \r\nL 43.21875 34.515625 \r\nL 43.21875 35.40625 \r\nQ 43.21875 41.609375 39.140625 45 \r\nQ 35.0625 48.390625 27.6875 48.390625 \r\nQ 23 48.390625 18.546875 47.265625 \r\nQ 14.109375 46.140625 10.015625 43.890625 \r\nL 10.015625 52.203125 \r\nQ 14.9375 54.109375 19.578125 55.046875 \r\nQ 24.21875 56 28.609375 56 \r\nQ 40.484375 56 46.34375 49.84375 \r\nQ 52.203125 43.703125 52.203125 31.203125 \r\nz\r\n\" id=\"DejaVuSans-97\"/>\r\n       <path d=\"M 54.890625 33.015625 \r\nL 54.890625 0 \r\nL 45.90625 0 \r\nL 45.90625 32.71875 \r\nQ 45.90625 40.484375 42.875 44.328125 \r\nQ 39.84375 48.1875 33.796875 48.1875 \r\nQ 26.515625 48.1875 22.3125 43.546875 \r\nQ 18.109375 38.921875 18.109375 30.90625 \r\nL 18.109375 0 \r\nL 9.078125 0 \r\nL 9.078125 54.6875 \r\nL 18.109375 54.6875 \r\nL 18.109375 46.1875 \r\nQ 21.34375 51.125 25.703125 53.5625 \r\nQ 30.078125 56 35.796875 56 \r\nQ 45.21875 56 50.046875 50.171875 \r\nQ 54.890625 44.34375 54.890625 33.015625 \r\nz\r\n\" id=\"DejaVuSans-110\"/>\r\n       <path d=\"M 50.984375 -16.609375 \r\nL 50.984375 -23.578125 \r\nL -0.984375 -23.578125 \r\nL -0.984375 -16.609375 \r\nz\r\n\" id=\"DejaVuSans-95\"/>\r\n       <path d=\"M 18.3125 70.21875 \r\nL 18.3125 54.6875 \r\nL 36.8125 54.6875 \r\nL 36.8125 47.703125 \r\nL 18.3125 47.703125 \r\nL 18.3125 18.015625 \r\nQ 18.3125 11.328125 20.140625 9.421875 \r\nQ 21.96875 7.515625 27.59375 7.515625 \r\nL 36.8125 7.515625 \r\nL 36.8125 0 \r\nL 27.59375 0 \r\nQ 17.1875 0 13.234375 3.875 \r\nQ 9.28125 7.765625 9.28125 18.015625 \r\nL 9.28125 47.703125 \r\nL 2.6875 47.703125 \r\nL 2.6875 54.6875 \r\nL 9.28125 54.6875 \r\nL 9.28125 70.21875 \r\nz\r\n\" id=\"DejaVuSans-116\"/>\r\n       <path d=\"M 41.109375 46.296875 \r\nQ 39.59375 47.171875 37.8125 47.578125 \r\nQ 36.03125 48 33.890625 48 \r\nQ 26.265625 48 22.1875 43.046875 \r\nQ 18.109375 38.09375 18.109375 28.8125 \r\nL 18.109375 0 \r\nL 9.078125 0 \r\nL 9.078125 54.6875 \r\nL 18.109375 54.6875 \r\nL 18.109375 46.1875 \r\nQ 20.953125 51.171875 25.484375 53.578125 \r\nQ 30.03125 56 36.53125 56 \r\nQ 37.453125 56 38.578125 55.875 \r\nQ 39.703125 55.765625 41.0625 55.515625 \r\nz\r\n\" id=\"DejaVuSans-114\"/>\r\n      </defs>\r\n      <use xlink:href=\"#DejaVuSans-109\"/>\r\n      <use x=\"97.412109\" xlink:href=\"#DejaVuSans-101\"/>\r\n      <use x=\"158.935547\" xlink:href=\"#DejaVuSans-100\"/>\r\n      <use x=\"222.412109\" xlink:href=\"#DejaVuSans-105\"/>\r\n      <use x=\"250.195312\" xlink:href=\"#DejaVuSans-97\"/>\r\n      <use x=\"311.474609\" xlink:href=\"#DejaVuSans-110\"/>\r\n      <use x=\"374.853516\" xlink:href=\"#DejaVuSans-95\"/>\r\n      <use x=\"424.853516\" xlink:href=\"#DejaVuSans-116\"/>\r\n      <use x=\"464.0625\" xlink:href=\"#DejaVuSans-114\"/>\r\n     </g>\r\n    </g>\r\n   </g>\r\n   <g id=\"matplotlib.axis_2\">\r\n    <g id=\"ytick_1\">\r\n     <g id=\"line2d_10\">\r\n      <defs>\r\n       <path d=\"M 0 0 \r\nL -3.5 0 \r\n\" id=\"mee7d0b164e\" style=\"stroke:#000000;stroke-width:0.8;\"/>\r\n      </defs>\r\n      <g>\r\n       <use style=\"stroke:#000000;stroke-width:0.8;\" x=\"62.86875\" xlink:href=\"#mee7d0b164e\" y=\"224.64\"/>\r\n      </g>\r\n     </g>\r\n     <g id=\"text_11\">\r\n      <!-- 0.0000 -->\r\n      <g transform=\"translate(20.878125 228.439219)scale(0.1 -0.1)\">\r\n       <defs>\r\n        <path d=\"M 10.6875 12.40625 \r\nL 21 12.40625 \r\nL 21 0 \r\nL 10.6875 0 \r\nz\r\n\" id=\"DejaVuSans-46\"/>\r\n       </defs>\r\n       <use xlink:href=\"#DejaVuSans-48\"/>\r\n       <use x=\"63.623047\" xlink:href=\"#DejaVuSans-46\"/>\r\n       <use x=\"95.410156\" xlink:href=\"#DejaVuSans-48\"/>\r\n       <use x=\"159.033203\" xlink:href=\"#DejaVuSans-48\"/>\r\n       <use x=\"222.65625\" xlink:href=\"#DejaVuSans-48\"/>\r\n       <use x=\"286.279297\" xlink:href=\"#DejaVuSans-48\"/>\r\n      </g>\r\n     </g>\r\n    </g>\r\n    <g id=\"ytick_2\">\r\n     <g id=\"line2d_11\">\r\n      <g>\r\n       <use style=\"stroke:#000000;stroke-width:0.8;\" x=\"62.86875\" xlink:href=\"#mee7d0b164e\" y=\"179.500283\"/>\r\n      </g>\r\n     </g>\r\n     <g id=\"text_12\">\r\n      <!-- 0.0002 -->\r\n      <g transform=\"translate(20.878125 183.299502)scale(0.1 -0.1)\">\r\n       <use xlink:href=\"#DejaVuSans-48\"/>\r\n       <use x=\"63.623047\" xlink:href=\"#DejaVuSans-46\"/>\r\n       <use x=\"95.410156\" xlink:href=\"#DejaVuSans-48\"/>\r\n       <use x=\"159.033203\" xlink:href=\"#DejaVuSans-48\"/>\r\n       <use x=\"222.65625\" xlink:href=\"#DejaVuSans-48\"/>\r\n       <use x=\"286.279297\" xlink:href=\"#DejaVuSans-50\"/>\r\n      </g>\r\n     </g>\r\n    </g>\r\n    <g id=\"ytick_3\">\r\n     <g id=\"line2d_12\">\r\n      <g>\r\n       <use style=\"stroke:#000000;stroke-width:0.8;\" x=\"62.86875\" xlink:href=\"#mee7d0b164e\" y=\"134.360567\"/>\r\n      </g>\r\n     </g>\r\n     <g id=\"text_13\">\r\n      <!-- 0.0004 -->\r\n      <g transform=\"translate(20.878125 138.159785)scale(0.1 -0.1)\">\r\n       <use xlink:href=\"#DejaVuSans-48\"/>\r\n       <use x=\"63.623047\" xlink:href=\"#DejaVuSans-46\"/>\r\n       <use x=\"95.410156\" xlink:href=\"#DejaVuSans-48\"/>\r\n       <use x=\"159.033203\" xlink:href=\"#DejaVuSans-48\"/>\r\n       <use x=\"222.65625\" xlink:href=\"#DejaVuSans-48\"/>\r\n       <use x=\"286.279297\" xlink:href=\"#DejaVuSans-52\"/>\r\n      </g>\r\n     </g>\r\n    </g>\r\n    <g id=\"ytick_4\">\r\n     <g id=\"line2d_13\">\r\n      <g>\r\n       <use style=\"stroke:#000000;stroke-width:0.8;\" x=\"62.86875\" xlink:href=\"#mee7d0b164e\" y=\"89.22085\"/>\r\n      </g>\r\n     </g>\r\n     <g id=\"text_14\">\r\n      <!-- 0.0006 -->\r\n      <g transform=\"translate(20.878125 93.020069)scale(0.1 -0.1)\">\r\n       <use xlink:href=\"#DejaVuSans-48\"/>\r\n       <use x=\"63.623047\" xlink:href=\"#DejaVuSans-46\"/>\r\n       <use x=\"95.410156\" xlink:href=\"#DejaVuSans-48\"/>\r\n       <use x=\"159.033203\" xlink:href=\"#DejaVuSans-48\"/>\r\n       <use x=\"222.65625\" xlink:href=\"#DejaVuSans-48\"/>\r\n       <use x=\"286.279297\" xlink:href=\"#DejaVuSans-54\"/>\r\n      </g>\r\n     </g>\r\n    </g>\r\n    <g id=\"ytick_5\">\r\n     <g id=\"line2d_14\">\r\n      <g>\r\n       <use style=\"stroke:#000000;stroke-width:0.8;\" x=\"62.86875\" xlink:href=\"#mee7d0b164e\" y=\"44.081133\"/>\r\n      </g>\r\n     </g>\r\n     <g id=\"text_15\">\r\n      <!-- 0.0008 -->\r\n      <g transform=\"translate(20.878125 47.880352)scale(0.1 -0.1)\">\r\n       <defs>\r\n        <path d=\"M 31.78125 34.625 \r\nQ 24.75 34.625 20.71875 30.859375 \r\nQ 16.703125 27.09375 16.703125 20.515625 \r\nQ 16.703125 13.921875 20.71875 10.15625 \r\nQ 24.75 6.390625 31.78125 6.390625 \r\nQ 38.8125 6.390625 42.859375 10.171875 \r\nQ 46.921875 13.96875 46.921875 20.515625 \r\nQ 46.921875 27.09375 42.890625 30.859375 \r\nQ 38.875 34.625 31.78125 34.625 \r\nz\r\nM 21.921875 38.8125 \r\nQ 15.578125 40.375 12.03125 44.71875 \r\nQ 8.5 49.078125 8.5 55.328125 \r\nQ 8.5 64.0625 14.71875 69.140625 \r\nQ 20.953125 74.21875 31.78125 74.21875 \r\nQ 42.671875 74.21875 48.875 69.140625 \r\nQ 55.078125 64.0625 55.078125 55.328125 \r\nQ 55.078125 49.078125 51.53125 44.71875 \r\nQ 48 40.375 41.703125 38.8125 \r\nQ 48.828125 37.15625 52.796875 32.3125 \r\nQ 56.78125 27.484375 56.78125 20.515625 \r\nQ 56.78125 9.90625 50.3125 4.234375 \r\nQ 43.84375 -1.421875 31.78125 -1.421875 \r\nQ 19.734375 -1.421875 13.25 4.234375 \r\nQ 6.78125 9.90625 6.78125 20.515625 \r\nQ 6.78125 27.484375 10.78125 32.3125 \r\nQ 14.796875 37.15625 21.921875 38.8125 \r\nz\r\nM 18.3125 54.390625 \r\nQ 18.3125 48.734375 21.84375 45.5625 \r\nQ 25.390625 42.390625 31.78125 42.390625 \r\nQ 38.140625 42.390625 41.71875 45.5625 \r\nQ 45.3125 48.734375 45.3125 54.390625 \r\nQ 45.3125 60.0625 41.71875 63.234375 \r\nQ 38.140625 66.40625 31.78125 66.40625 \r\nQ 25.390625 66.40625 21.84375 63.234375 \r\nQ 18.3125 60.0625 18.3125 54.390625 \r\nz\r\n\" id=\"DejaVuSans-56\"/>\r\n       </defs>\r\n       <use xlink:href=\"#DejaVuSans-48\"/>\r\n       <use x=\"63.623047\" xlink:href=\"#DejaVuSans-46\"/>\r\n       <use x=\"95.410156\" xlink:href=\"#DejaVuSans-48\"/>\r\n       <use x=\"159.033203\" xlink:href=\"#DejaVuSans-48\"/>\r\n       <use x=\"222.65625\" xlink:href=\"#DejaVuSans-48\"/>\r\n       <use x=\"286.279297\" xlink:href=\"#DejaVuSans-56\"/>\r\n      </g>\r\n     </g>\r\n    </g>\r\n    <g id=\"text_16\">\r\n     <!-- Density -->\r\n     <g transform=\"translate(14.798438 134.928594)rotate(-90)scale(0.1 -0.1)\">\r\n      <defs>\r\n       <path d=\"M 19.671875 64.796875 \r\nL 19.671875 8.109375 \r\nL 31.59375 8.109375 \r\nQ 46.6875 8.109375 53.6875 14.9375 \r\nQ 60.6875 21.78125 60.6875 36.53125 \r\nQ 60.6875 51.171875 53.6875 57.984375 \r\nQ 46.6875 64.796875 31.59375 64.796875 \r\nz\r\nM 9.8125 72.90625 \r\nL 30.078125 72.90625 \r\nQ 51.265625 72.90625 61.171875 64.09375 \r\nQ 71.09375 55.28125 71.09375 36.53125 \r\nQ 71.09375 17.671875 61.125 8.828125 \r\nQ 51.171875 0 30.078125 0 \r\nL 9.8125 0 \r\nz\r\n\" id=\"DejaVuSans-68\"/>\r\n       <path d=\"M 44.28125 53.078125 \r\nL 44.28125 44.578125 \r\nQ 40.484375 46.53125 36.375 47.5 \r\nQ 32.28125 48.484375 27.875 48.484375 \r\nQ 21.1875 48.484375 17.84375 46.4375 \r\nQ 14.5 44.390625 14.5 40.28125 \r\nQ 14.5 37.15625 16.890625 35.375 \r\nQ 19.28125 33.59375 26.515625 31.984375 \r\nL 29.59375 31.296875 \r\nQ 39.15625 29.25 43.1875 25.515625 \r\nQ 47.21875 21.78125 47.21875 15.09375 \r\nQ 47.21875 7.46875 41.1875 3.015625 \r\nQ 35.15625 -1.421875 24.609375 -1.421875 \r\nQ 20.21875 -1.421875 15.453125 -0.5625 \r\nQ 10.6875 0.296875 5.421875 2 \r\nL 5.421875 11.28125 \r\nQ 10.40625 8.6875 15.234375 7.390625 \r\nQ 20.0625 6.109375 24.8125 6.109375 \r\nQ 31.15625 6.109375 34.5625 8.28125 \r\nQ 37.984375 10.453125 37.984375 14.40625 \r\nQ 37.984375 18.0625 35.515625 20.015625 \r\nQ 33.0625 21.96875 24.703125 23.78125 \r\nL 21.578125 24.515625 \r\nQ 13.234375 26.265625 9.515625 29.90625 \r\nQ 5.8125 33.546875 5.8125 39.890625 \r\nQ 5.8125 47.609375 11.28125 51.796875 \r\nQ 16.75 56 26.8125 56 \r\nQ 31.78125 56 36.171875 55.265625 \r\nQ 40.578125 54.546875 44.28125 53.078125 \r\nz\r\n\" id=\"DejaVuSans-115\"/>\r\n       <path d=\"M 32.171875 -5.078125 \r\nQ 28.375 -14.84375 24.75 -17.8125 \r\nQ 21.140625 -20.796875 15.09375 -20.796875 \r\nL 7.90625 -20.796875 \r\nL 7.90625 -13.28125 \r\nL 13.1875 -13.28125 \r\nQ 16.890625 -13.28125 18.9375 -11.515625 \r\nQ 21 -9.765625 23.484375 -3.21875 \r\nL 25.09375 0.875 \r\nL 2.984375 54.6875 \r\nL 12.5 54.6875 \r\nL 29.59375 11.921875 \r\nL 46.6875 54.6875 \r\nL 56.203125 54.6875 \r\nz\r\n\" id=\"DejaVuSans-121\"/>\r\n      </defs>\r\n      <use xlink:href=\"#DejaVuSans-68\"/>\r\n      <use x=\"77.001953\" xlink:href=\"#DejaVuSans-101\"/>\r\n      <use x=\"138.525391\" xlink:href=\"#DejaVuSans-110\"/>\r\n      <use x=\"201.904297\" xlink:href=\"#DejaVuSans-115\"/>\r\n      <use x=\"254.003906\" xlink:href=\"#DejaVuSans-105\"/>\r\n      <use x=\"281.787109\" xlink:href=\"#DejaVuSans-116\"/>\r\n      <use x=\"320.996094\" xlink:href=\"#DejaVuSans-121\"/>\r\n     </g>\r\n    </g>\r\n   </g>\r\n   <g id=\"line2d_15\">\r\n    <path clip-path=\"url(#pc481f8cec0)\" d=\"M 94.633885 224.370343 \r\nL 96.0802 223.80502 \r\nL 97.526515 222.368209 \r\nL 98.97283 219.205857 \r\nL 100.419145 213.204264 \r\nL 101.86546 203.449258 \r\nL 103.311775 190.02503 \r\nL 104.75809 174.722083 \r\nL 106.204405 160.963119 \r\nL 107.65072 152.592191 \r\nL 109.097035 152.056254 \r\nL 110.54335 159.169461 \r\nL 111.989665 171.331201 \r\nL 113.43598 184.971884 \r\nL 114.882295 197.159213 \r\nL 116.32861 206.424099 \r\nL 117.774925 212.644146 \r\nL 119.22124 216.442068 \r\nL 120.667555 218.616264 \r\nL 122.11387 219.832486 \r\nL 123.560185 220.542698 \r\nL 126.452815 221.383007 \r\nL 130.79176 222.286767 \r\nL 135.130705 222.951684 \r\nL 138.023335 223.183814 \r\nL 140.915965 223.214813 \r\nL 146.701225 223.140234 \r\nL 149.593855 223.386043 \r\nL 153.9328 223.839015 \r\nL 158.271745 224.07936 \r\nL 164.057005 224.163877 \r\nL 182.8591 224.212645 \r\nL 190.090675 224.286037 \r\nL 198.768565 224.434546 \r\nL 224.802234 224.424859 \r\nL 230.587494 224.403074 \r\nL 239.265384 224.523369 \r\nL 262.406424 224.497165 \r\nL 269.637999 224.386181 \r\nL 282.654834 224.613584 \r\nL 311.581134 224.553808 \r\nL 326.044284 224.639984 \r\nL 382.450568 224.639727 \r\nL 382.450568 224.639727 \r\n\" style=\"fill:none;stroke:#1f77b4;stroke-linecap:square;stroke-width:1.5;\"/>\r\n   </g>\r\n   <g id=\"line2d_16\">\r\n    <path clip-path=\"url(#pc481f8cec0)\" d=\"M 98.080847 224.605753 \r\nL 99.671107 224.447009 \r\nL 100.73128 224.121465 \r\nL 101.791453 223.414295 \r\nL 102.32154 222.841853 \r\nL 102.851627 222.081381 \r\nL 103.9118 219.900431 \r\nL 104.971973 216.8008 \r\nL 106.562233 210.914252 \r\nL 108.152493 204.989435 \r\nL 109.212666 201.809919 \r\nL 110.27284 199.489796 \r\nL 111.333013 197.95872 \r\nL 112.393186 197.025915 \r\nL 113.453359 196.513842 \r\nL 114.513533 196.31542 \r\nL 115.573706 196.368888 \r\nL 117.163966 196.770262 \r\nL 121.934745 198.440401 \r\nL 123.525005 199.262221 \r\nL 125.115265 200.372737 \r\nL 126.705525 201.779629 \r\nL 128.825872 204.010922 \r\nL 132.006391 207.376982 \r\nL 133.596651 208.772651 \r\nL 135.716998 210.281293 \r\nL 138.897518 212.128762 \r\nL 151.08951 218.932651 \r\nL 153.209857 220.077865 \r\nL 154.800117 220.715907 \r\nL 156.920463 221.277916 \r\nL 161.691243 222.41074 \r\nL 165.401849 223.326373 \r\nL 168.052282 223.700424 \r\nL 176.003582 224.448684 \r\nL 181.304448 224.481766 \r\nL 197.737134 224.611961 \r\nL 203.568087 224.639545 \r\nL 203.568087 224.639545 \r\n\" style=\"fill:none;stroke:#ff7f0e;stroke-linecap:square;stroke-width:1.5;\"/>\r\n   </g>\r\n   <g id=\"line2d_17\">\r\n    <path clip-path=\"url(#pc481f8cec0)\" d=\"M 78.086932 224.407128 \r\nL 80.98323 224.074212 \r\nL 82.914096 223.667038 \r\nL 84.844962 223.032021 \r\nL 86.775828 222.086041 \r\nL 88.706693 220.741446 \r\nL 90.637559 218.920523 \r\nL 92.568425 216.575469 \r\nL 94.499291 213.711035 \r\nL 96.430156 210.404814 \r\nL 102.222753 199.837777 \r\nL 104.153619 197.06719 \r\nL 105.119052 195.996059 \r\nL 106.084485 195.176121 \r\nL 107.049918 194.630875 \r\nL 108.015351 194.376179 \r\nL 108.980784 194.419475 \r\nL 109.946216 194.759434 \r\nL 110.911649 195.38602 \r\nL 111.877082 196.280984 \r\nL 112.842515 197.418747 \r\nL 114.773381 200.291224 \r\nL 116.704246 203.703823 \r\nL 121.531411 212.563135 \r\nL 123.462276 215.595366 \r\nL 125.393142 218.128237 \r\nL 127.324008 220.133075 \r\nL 129.254874 221.641259 \r\nL 131.185739 222.721876 \r\nL 133.116605 223.460507 \r\nL 135.047471 223.942738 \r\nL 137.943769 224.345657 \r\nL 141.805501 224.558801 \r\nL 148.563531 224.634166 \r\nL 203.593204 224.636611 \r\nL 213.247533 224.534942 \r\nL 217.109264 224.327025 \r\nL 220.005563 224.001512 \r\nL 222.901862 223.450293 \r\nL 225.79816 222.615253 \r\nL 228.694459 221.49265 \r\nL 237.383355 217.776755 \r\nL 239.31422 217.334192 \r\nL 241.245086 217.170091 \r\nL 243.175952 217.303809 \r\nL 245.106817 217.719552 \r\nL 247.037683 218.369444 \r\nL 249.933982 219.625048 \r\nL 254.761146 221.814625 \r\nL 257.657445 222.865457 \r\nL 260.553743 223.622017 \r\nL 263.450042 224.106618 \r\nL 267.311773 224.44432 \r\nL 270.208072 224.557012 \r\nL 270.208072 224.557012 \r\n\" style=\"fill:none;stroke:#2ca02c;stroke-linecap:square;stroke-width:1.5;\"/>\r\n   </g>\r\n   <g id=\"patch_137\">\r\n    <path d=\"M 62.86875 224.64 \r\nL 62.86875 7.2 \r\n\" style=\"fill:none;stroke:#000000;stroke-linecap:square;stroke-linejoin:miter;stroke-width:0.8;\"/>\r\n   </g>\r\n   <g id=\"patch_138\">\r\n    <path d=\"M 397.66875 224.64 \r\nL 397.66875 7.2 \r\n\" style=\"fill:none;stroke:#000000;stroke-linecap:square;stroke-linejoin:miter;stroke-width:0.8;\"/>\r\n   </g>\r\n   <g id=\"patch_139\">\r\n    <path d=\"M 62.86875 224.64 \r\nL 397.66875 224.64 \r\n\" style=\"fill:none;stroke:#000000;stroke-linecap:square;stroke-linejoin:miter;stroke-width:0.8;\"/>\r\n   </g>\r\n   <g id=\"patch_140\">\r\n    <path d=\"M 62.86875 7.2 \r\nL 397.66875 7.2 \r\n\" style=\"fill:none;stroke:#000000;stroke-linecap:square;stroke-linejoin:miter;stroke-width:0.8;\"/>\r\n   </g>\r\n  </g>\r\n </g>\r\n <defs>\r\n  <clipPath id=\"pc481f8cec0\">\r\n   <rect height=\"217.44\" width=\"334.8\" x=\"62.86875\" y=\"7.2\"/>\r\n  </clipPath>\r\n </defs>\r\n</svg>\r\n",
      "image/png": "[encoded data removed]"
     },
     "metadata": {
      "needs_background": "light"
     }
    }
   ],
   "source": [
    "sns.distplot(geo_sample['median_tr'])\n",
    "sns.distplot(sample_m_m_evo['median_tr'])\n",
    "sns.distplot(sample_d_d_evo['median_tr'])"
   ]
  }
 ]
}