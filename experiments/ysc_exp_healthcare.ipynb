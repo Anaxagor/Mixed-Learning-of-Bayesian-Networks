{
 "metadata": {
  "language_info": {
   "codemirror_mode": {
    "name": "ipython",
    "version": 3
   },
   "file_extension": ".py",
   "mimetype": "text/x-python",
   "name": "python",
   "nbconvert_exporter": "python",
   "pygments_lexer": "ipython3",
   "version": "3.8.8"
  },
  "orig_nbformat": 2,
  "kernelspec": {
   "name": "python388jvsc74a57bd00110e3ad3d2995649b9eed0505b86961f21d80e4cfa55b9dc2096312fa84aa23",
   "display_name": "Python 3.8.8 64-bit"
  },
  "metadata": {
   "interpreter": {
    "hash": "0110e3ad3d2995649b9eed0505b86961f21d80e4cfa55b9dc2096312fa84aa23"
   }
  }
 },
 "nbformat": 4,
 "nbformat_minor": 2,
 "cells": [
  {
   "cell_type": "code",
   "execution_count": 1,
   "metadata": {},
   "outputs": [],
   "source": [
    "import os,sys,inspect\n",
    "currentdir = os.path.dirname(os.path.abspath(inspect.getfile(inspect.currentframe())))\n",
    "parentdir = os.path.dirname(currentdir)\n",
    "sys.path.insert(0,parentdir) "
   ]
  },
  {
   "cell_type": "code",
   "execution_count": 2,
   "metadata": {},
   "outputs": [],
   "source": [
    "import pandas as pd\n",
    "import numpy as np\n",
    "from bayesian.train_bn import structure_learning, parameter_learning, parameter_learning_mix\n",
    "from preprocess.discretization import get_nodes_type, discretization, inverse_discretization, code_categories\n",
    "from bayesian.save_bn import save_structure, save_params, read_structure, read_params\n",
    "from external.libpgm.hybayesiannetwork import HyBayesianNetwork\n",
    "from visualization.visualization import draw_BN\n",
    "from bayesian.calculate_accuracy import calculate_acc\n",
    "import seaborn as sns\n",
    "import matplotlib.pyplot as plt\n",
    "from scipy import stats\n",
    "from copy import copy\n",
    "from external.libpgm.sampleaggregator import SampleAggregator\n",
    "import operator\n",
    "from sklearn.metrics import accuracy_score, mean_squared_error\n",
    "from scipy import stats\n",
    "from scipy.stats import multivariate_normal\n",
    "from sklearn.mixture import GaussianMixture\n",
    "import math\n",
    "from pomegranate import DiscreteDistribution\n",
    "import random\n",
    "from sklearn.model_selection import train_test_split"
   ]
  },
  {
   "cell_type": "code",
   "execution_count": 3,
   "metadata": {},
   "outputs": [],
   "source": [
    "df_result_accuracy = pd.DataFrame(columns = ['Parameter', 'Strategy', 'Alg', 'accuracy'])\n",
    "df_result_rmse = pd.DataFrame(columns = ['Parameter', 'Strategy', 'Alg', 'rmse'])"
   ]
  },
  {
   "cell_type": "code",
   "execution_count": 4,
   "metadata": {},
   "outputs": [
    {
     "output_type": "execute_result",
     "data": {
      "text/plain": [
       "          A     C     H    D           I           O           T\n",
       "0     adult  none  none  0.0   60.951920  208.270608  392.597656\n",
       "1     young  none  none  0.0   85.975117   69.108913  260.175850\n",
       "2     young  none  none  0.0   90.088710   70.067062  274.118320\n",
       "3     adult  none  none  0.0  139.532400  233.650271  512.696254\n",
       "4       old  mild  none  0.0   84.896581  321.880259  556.283609\n",
       "...     ...   ...   ...  ...         ...         ...         ...\n",
       "2995  young  none  none  0.0   60.833829   45.987380  225.318268\n",
       "2996  adult  mild  none  0.0   67.750014  195.825954  388.724558\n",
       "2997    old  mild  none  0.0   96.797948  430.435109  654.767639\n",
       "2998  young  mild  none  0.0   12.815626   77.018709  212.537813\n",
       "2999  adult  none  none  0.0   94.649876  181.341287  411.831798\n",
       "\n",
       "[3000 rows x 7 columns]"
      ],
      "text/html": "<div>\n<style scoped>\n    .dataframe tbody tr th:only-of-type {\n        vertical-align: middle;\n    }\n\n    .dataframe tbody tr th {\n        vertical-align: top;\n    }\n\n    .dataframe thead th {\n        text-align: right;\n    }\n</style>\n<table border=\"1\" class=\"dataframe\">\n  <thead>\n    <tr style=\"text-align: right;\">\n      <th></th>\n      <th>A</th>\n      <th>C</th>\n      <th>H</th>\n      <th>D</th>\n      <th>I</th>\n      <th>O</th>\n      <th>T</th>\n    </tr>\n  </thead>\n  <tbody>\n    <tr>\n      <th>0</th>\n      <td>adult</td>\n      <td>none</td>\n      <td>none</td>\n      <td>0.0</td>\n      <td>60.951920</td>\n      <td>208.270608</td>\n      <td>392.597656</td>\n    </tr>\n    <tr>\n      <th>1</th>\n      <td>young</td>\n      <td>none</td>\n      <td>none</td>\n      <td>0.0</td>\n      <td>85.975117</td>\n      <td>69.108913</td>\n      <td>260.175850</td>\n    </tr>\n    <tr>\n      <th>2</th>\n      <td>young</td>\n      <td>none</td>\n      <td>none</td>\n      <td>0.0</td>\n      <td>90.088710</td>\n      <td>70.067062</td>\n      <td>274.118320</td>\n    </tr>\n    <tr>\n      <th>3</th>\n      <td>adult</td>\n      <td>none</td>\n      <td>none</td>\n      <td>0.0</td>\n      <td>139.532400</td>\n      <td>233.650271</td>\n      <td>512.696254</td>\n    </tr>\n    <tr>\n      <th>4</th>\n      <td>old</td>\n      <td>mild</td>\n      <td>none</td>\n      <td>0.0</td>\n      <td>84.896581</td>\n      <td>321.880259</td>\n      <td>556.283609</td>\n    </tr>\n    <tr>\n      <th>...</th>\n      <td>...</td>\n      <td>...</td>\n      <td>...</td>\n      <td>...</td>\n      <td>...</td>\n      <td>...</td>\n      <td>...</td>\n    </tr>\n    <tr>\n      <th>2995</th>\n      <td>young</td>\n      <td>none</td>\n      <td>none</td>\n      <td>0.0</td>\n      <td>60.833829</td>\n      <td>45.987380</td>\n      <td>225.318268</td>\n    </tr>\n    <tr>\n      <th>2996</th>\n      <td>adult</td>\n      <td>mild</td>\n      <td>none</td>\n      <td>0.0</td>\n      <td>67.750014</td>\n      <td>195.825954</td>\n      <td>388.724558</td>\n    </tr>\n    <tr>\n      <th>2997</th>\n      <td>old</td>\n      <td>mild</td>\n      <td>none</td>\n      <td>0.0</td>\n      <td>96.797948</td>\n      <td>430.435109</td>\n      <td>654.767639</td>\n    </tr>\n    <tr>\n      <th>2998</th>\n      <td>young</td>\n      <td>mild</td>\n      <td>none</td>\n      <td>0.0</td>\n      <td>12.815626</td>\n      <td>77.018709</td>\n      <td>212.537813</td>\n    </tr>\n    <tr>\n      <th>2999</th>\n      <td>adult</td>\n      <td>none</td>\n      <td>none</td>\n      <td>0.0</td>\n      <td>94.649876</td>\n      <td>181.341287</td>\n      <td>411.831798</td>\n    </tr>\n  </tbody>\n</table>\n<p>3000 rows × 7 columns</p>\n</div>"
     },
     "metadata": {},
     "execution_count": 4
    }
   ],
   "source": [
    "geo = pd.read_csv('../datasets/healthcare.csv')\n",
    "geo = geo.drop(columns=['Unnamed: 0'])\n",
    "columns = ['A', 'C', 'H', 'D', 'I', 'O', 'T']\n",
    "geo = geo[columns]\n",
    "geo.dropna(inplace=True)\n",
    "geo.reset_index(inplace=True, drop=True)\n",
    "geo"
   ]
  },
  {
   "cell_type": "code",
   "execution_count": 5,
   "metadata": {},
   "outputs": [],
   "source": [
    "geo_train, geo_test = train_test_split(geo, test_size=0.1)\n",
    "geo_train.reset_index(inplace=True, drop=True)\n",
    "geo_test.reset_index(inplace=True, drop=True)"
   ]
  },
  {
   "cell_type": "code",
   "execution_count": 6,
   "metadata": {},
   "outputs": [
    {
     "output_type": "execute_result",
     "data": {
      "text/plain": [
       "{'A': 'disc',\n",
       " 'C': 'disc',\n",
       " 'H': 'disc',\n",
       " 'D': 'cont',\n",
       " 'I': 'cont',\n",
       " 'O': 'cont',\n",
       " 'T': 'cont'}"
      ]
     },
     "metadata": {},
     "execution_count": 6
    }
   ],
   "source": [
    "geo_types = get_nodes_type(geo)\n",
    "geo_types"
   ]
  },
  {
   "cell_type": "code",
   "execution_count": 7,
   "metadata": {},
   "outputs": [],
   "source": [
    "colums_for_code = []\n",
    "columns_for_disc = []\n",
    "for c in columns:\n",
    "    if geo_types[c] == 'disc':\n",
    "        colums_for_code.append(c)\n",
    "    else:\n",
    "        columns_for_disc.append(c)"
   ]
  },
  {
   "cell_type": "code",
   "execution_count": 8,
   "metadata": {},
   "outputs": [
    {
     "output_type": "stream",
     "name": "stderr",
     "text": [
      "C:\\Users\\anaxa\\AppData\\Local\\Programs\\Python\\Python38\\lib\\site-packages\\sklearn\\preprocessing\\_discretization.py:220: UserWarning: Bins whose width are too small (i.e., <= 1e-8) in feature 0 are removed. Consider decreasing the number of bins.\n  warnings.warn('Bins whose width are too small (i.e., <= '\nC:\\Users\\anaxa\\AppData\\Local\\Programs\\Python\\Python38\\lib\\site-packages\\sklearn\\preprocessing\\_discretization.py:220: UserWarning: Bins whose width are too small (i.e., <= 1e-8) in feature 0 are removed. Consider decreasing the number of bins.\n  warnings.warn('Bins whose width are too small (i.e., <= '\n"
     ]
    }
   ],
   "source": [
    "geo_coded, label_coder = code_categories(geo_train, 'label', colums_for_code)\n",
    "geo_discrete, coder = discretization(geo_coded, 'equal_frequency', columns_for_disc)\n",
    "geo_only_discrete, discrete_coder = discretization(geo_train, 'equal_frequency', columns_for_disc)"
   ]
  },
  {
   "source": [
    "# Hill Climbing"
   ],
   "cell_type": "markdown",
   "metadata": {}
  },
  {
   "source": [
    "# Дискретная структра + смешанные параметры"
   ],
   "cell_type": "markdown",
   "metadata": {}
  },
  {
   "cell_type": "code",
   "execution_count": 9,
   "metadata": {},
   "outputs": [],
   "source": [
    "bn_geo = structure_learning(geo_discrete, 'HC', 'MI', geo_types)"
   ]
  },
  {
   "cell_type": "code",
   "execution_count": 10,
   "metadata": {},
   "outputs": [
    {
     "output_type": "display_data",
     "data": {
      "text/plain": "<Figure size 2025x225 with 1 Axes>",
      "image/svg+xml": "<?xml version=\"1.0\" encoding=\"utf-8\" standalone=\"no\"?>\r\n<!DOCTYPE svg PUBLIC \"-//W3C//DTD SVG 1.1//EN\"\r\n  \"http://www.w3.org/Graphics/SVG/1.1/DTD/svg11.dtd\">\r\n<!-- Created with matplotlib (https://matplotlib.org/) -->\r\n<svg height=\"100.8pt\" version=\"1.1\" viewBox=\"0 0 964.8 100.8\" width=\"964.8pt\" xmlns=\"http://www.w3.org/2000/svg\" xmlns:xlink=\"http://www.w3.org/1999/xlink\">\r\n <metadata>\r\n  <rdf:RDF xmlns:cc=\"http://creativecommons.org/ns#\" xmlns:dc=\"http://purl.org/dc/elements/1.1/\" xmlns:rdf=\"http://www.w3.org/1999/02/22-rdf-syntax-ns#\">\r\n   <cc:Work>\r\n    <dc:type rdf:resource=\"http://purl.org/dc/dcmitype/StillImage\"/>\r\n    <dc:date>2021-05-01T16:41:29.827188</dc:date>\r\n    <dc:format>image/svg+xml</dc:format>\r\n    <dc:creator>\r\n     <cc:Agent>\r\n      <dc:title>Matplotlib v3.3.4, https://matplotlib.org/</dc:title>\r\n     </cc:Agent>\r\n    </dc:creator>\r\n   </cc:Work>\r\n  </rdf:RDF>\r\n </metadata>\r\n <defs>\r\n  <style type=\"text/css\">*{stroke-linecap:butt;stroke-linejoin:round;}</style>\r\n </defs>\r\n <g id=\"figure_1\">\r\n  <g id=\"patch_1\">\r\n   <path d=\"M 0 100.8 \r\nL 964.8 100.8 \r\nL 964.8 0 \r\nL 0 0 \r\nz\r\n\" style=\"fill:none;\"/>\r\n  </g>\r\n  <g id=\"axes_1\">\r\n   <g id=\"legend_1\">\r\n    <g id=\"patch_2\">\r\n     <path d=\"M 421.545312 59.239062 \r\nL 543.254687 59.239062 \r\nQ 545.254687 59.239062 545.254687 57.239062 \r\nL 545.254687 43.560937 \r\nQ 545.254687 41.560937 543.254687 41.560937 \r\nL 421.545312 41.560937 \r\nQ 419.545312 41.560937 419.545312 43.560937 \r\nL 419.545312 57.239062 \r\nQ 419.545312 59.239062 421.545312 59.239062 \r\nz\r\n\" style=\"fill:#ffffff;opacity:0.8;stroke:#cccccc;stroke-linejoin:miter;\"/>\r\n    </g>\r\n    <g id=\"patch_3\">\r\n     <path d=\"M 423.545312 53.159375 \r\nL 443.545312 53.159375 \r\nL 443.545312 46.159375 \r\nL 423.545312 46.159375 \r\nz\r\n\" style=\"fill:#2ca02c;stroke:#2ca02c;stroke-linejoin:miter;\"/>\r\n    </g>\r\n    <g id=\"text_1\">\r\n     <!-- disc -->\r\n     <g transform=\"translate(451.545312 53.159375)scale(0.1 -0.1)\">\r\n      <defs>\r\n       <path d=\"M 45.40625 46.390625 \r\nL 45.40625 75.984375 \r\nL 54.390625 75.984375 \r\nL 54.390625 0 \r\nL 45.40625 0 \r\nL 45.40625 8.203125 \r\nQ 42.578125 3.328125 38.25 0.953125 \r\nQ 33.9375 -1.421875 27.875 -1.421875 \r\nQ 17.96875 -1.421875 11.734375 6.484375 \r\nQ 5.515625 14.40625 5.515625 27.296875 \r\nQ 5.515625 40.1875 11.734375 48.09375 \r\nQ 17.96875 56 27.875 56 \r\nQ 33.9375 56 38.25 53.625 \r\nQ 42.578125 51.265625 45.40625 46.390625 \r\nz\r\nM 14.796875 27.296875 \r\nQ 14.796875 17.390625 18.875 11.75 \r\nQ 22.953125 6.109375 30.078125 6.109375 \r\nQ 37.203125 6.109375 41.296875 11.75 \r\nQ 45.40625 17.390625 45.40625 27.296875 \r\nQ 45.40625 37.203125 41.296875 42.84375 \r\nQ 37.203125 48.484375 30.078125 48.484375 \r\nQ 22.953125 48.484375 18.875 42.84375 \r\nQ 14.796875 37.203125 14.796875 27.296875 \r\nz\r\n\" id=\"DejaVuSans-100\"/>\r\n       <path d=\"M 9.421875 54.6875 \r\nL 18.40625 54.6875 \r\nL 18.40625 0 \r\nL 9.421875 0 \r\nz\r\nM 9.421875 75.984375 \r\nL 18.40625 75.984375 \r\nL 18.40625 64.59375 \r\nL 9.421875 64.59375 \r\nz\r\n\" id=\"DejaVuSans-105\"/>\r\n       <path d=\"M 44.28125 53.078125 \r\nL 44.28125 44.578125 \r\nQ 40.484375 46.53125 36.375 47.5 \r\nQ 32.28125 48.484375 27.875 48.484375 \r\nQ 21.1875 48.484375 17.84375 46.4375 \r\nQ 14.5 44.390625 14.5 40.28125 \r\nQ 14.5 37.15625 16.890625 35.375 \r\nQ 19.28125 33.59375 26.515625 31.984375 \r\nL 29.59375 31.296875 \r\nQ 39.15625 29.25 43.1875 25.515625 \r\nQ 47.21875 21.78125 47.21875 15.09375 \r\nQ 47.21875 7.46875 41.1875 3.015625 \r\nQ 35.15625 -1.421875 24.609375 -1.421875 \r\nQ 20.21875 -1.421875 15.453125 -0.5625 \r\nQ 10.6875 0.296875 5.421875 2 \r\nL 5.421875 11.28125 \r\nQ 10.40625 8.6875 15.234375 7.390625 \r\nQ 20.0625 6.109375 24.8125 6.109375 \r\nQ 31.15625 6.109375 34.5625 8.28125 \r\nQ 37.984375 10.453125 37.984375 14.40625 \r\nQ 37.984375 18.0625 35.515625 20.015625 \r\nQ 33.0625 21.96875 24.703125 23.78125 \r\nL 21.578125 24.515625 \r\nQ 13.234375 26.265625 9.515625 29.90625 \r\nQ 5.8125 33.546875 5.8125 39.890625 \r\nQ 5.8125 47.609375 11.28125 51.796875 \r\nQ 16.75 56 26.8125 56 \r\nQ 31.78125 56 36.171875 55.265625 \r\nQ 40.578125 54.546875 44.28125 53.078125 \r\nz\r\n\" id=\"DejaVuSans-115\"/>\r\n       <path d=\"M 48.78125 52.59375 \r\nL 48.78125 44.1875 \r\nQ 44.96875 46.296875 41.140625 47.34375 \r\nQ 37.3125 48.390625 33.40625 48.390625 \r\nQ 24.65625 48.390625 19.8125 42.84375 \r\nQ 14.984375 37.3125 14.984375 27.296875 \r\nQ 14.984375 17.28125 19.8125 11.734375 \r\nQ 24.65625 6.203125 33.40625 6.203125 \r\nQ 37.3125 6.203125 41.140625 7.25 \r\nQ 44.96875 8.296875 48.78125 10.40625 \r\nL 48.78125 2.09375 \r\nQ 45.015625 0.34375 40.984375 -0.53125 \r\nQ 36.96875 -1.421875 32.421875 -1.421875 \r\nQ 20.0625 -1.421875 12.78125 6.34375 \r\nQ 5.515625 14.109375 5.515625 27.296875 \r\nQ 5.515625 40.671875 12.859375 48.328125 \r\nQ 20.21875 56 33.015625 56 \r\nQ 37.15625 56 41.109375 55.140625 \r\nQ 45.0625 54.296875 48.78125 52.59375 \r\nz\r\n\" id=\"DejaVuSans-99\"/>\r\n      </defs>\r\n      <use xlink:href=\"#DejaVuSans-100\"/>\r\n      <use x=\"63.476562\" xlink:href=\"#DejaVuSans-105\"/>\r\n      <use x=\"91.259766\" xlink:href=\"#DejaVuSans-115\"/>\r\n      <use x=\"143.359375\" xlink:href=\"#DejaVuSans-99\"/>\r\n     </g>\r\n    </g>\r\n    <g id=\"patch_4\">\r\n     <path d=\"M 491.379687 53.159375 \r\nL 511.379687 53.159375 \r\nL 511.379687 46.159375 \r\nL 491.379687 46.159375 \r\nz\r\n\" style=\"fill:#e377c2;stroke:#e377c2;stroke-linejoin:miter;\"/>\r\n    </g>\r\n    <g id=\"text_2\">\r\n     <!-- cont -->\r\n     <g transform=\"translate(519.379687 53.159375)scale(0.1 -0.1)\">\r\n      <defs>\r\n       <path d=\"M 30.609375 48.390625 \r\nQ 23.390625 48.390625 19.1875 42.75 \r\nQ 14.984375 37.109375 14.984375 27.296875 \r\nQ 14.984375 17.484375 19.15625 11.84375 \r\nQ 23.34375 6.203125 30.609375 6.203125 \r\nQ 37.796875 6.203125 41.984375 11.859375 \r\nQ 46.1875 17.53125 46.1875 27.296875 \r\nQ 46.1875 37.015625 41.984375 42.703125 \r\nQ 37.796875 48.390625 30.609375 48.390625 \r\nz\r\nM 30.609375 56 \r\nQ 42.328125 56 49.015625 48.375 \r\nQ 55.71875 40.765625 55.71875 27.296875 \r\nQ 55.71875 13.875 49.015625 6.21875 \r\nQ 42.328125 -1.421875 30.609375 -1.421875 \r\nQ 18.84375 -1.421875 12.171875 6.21875 \r\nQ 5.515625 13.875 5.515625 27.296875 \r\nQ 5.515625 40.765625 12.171875 48.375 \r\nQ 18.84375 56 30.609375 56 \r\nz\r\n\" id=\"DejaVuSans-111\"/>\r\n       <path d=\"M 54.890625 33.015625 \r\nL 54.890625 0 \r\nL 45.90625 0 \r\nL 45.90625 32.71875 \r\nQ 45.90625 40.484375 42.875 44.328125 \r\nQ 39.84375 48.1875 33.796875 48.1875 \r\nQ 26.515625 48.1875 22.3125 43.546875 \r\nQ 18.109375 38.921875 18.109375 30.90625 \r\nL 18.109375 0 \r\nL 9.078125 0 \r\nL 9.078125 54.6875 \r\nL 18.109375 54.6875 \r\nL 18.109375 46.1875 \r\nQ 21.34375 51.125 25.703125 53.5625 \r\nQ 30.078125 56 35.796875 56 \r\nQ 45.21875 56 50.046875 50.171875 \r\nQ 54.890625 44.34375 54.890625 33.015625 \r\nz\r\n\" id=\"DejaVuSans-110\"/>\r\n       <path d=\"M 18.3125 70.21875 \r\nL 18.3125 54.6875 \r\nL 36.8125 54.6875 \r\nL 36.8125 47.703125 \r\nL 18.3125 47.703125 \r\nL 18.3125 18.015625 \r\nQ 18.3125 11.328125 20.140625 9.421875 \r\nQ 21.96875 7.515625 27.59375 7.515625 \r\nL 36.8125 7.515625 \r\nL 36.8125 0 \r\nL 27.59375 0 \r\nQ 17.1875 0 13.234375 3.875 \r\nQ 9.28125 7.765625 9.28125 18.015625 \r\nL 9.28125 47.703125 \r\nL 2.6875 47.703125 \r\nL 2.6875 54.6875 \r\nL 9.28125 54.6875 \r\nL 9.28125 70.21875 \r\nz\r\n\" id=\"DejaVuSans-116\"/>\r\n      </defs>\r\n      <use xlink:href=\"#DejaVuSans-99\"/>\r\n      <use x=\"54.980469\" xlink:href=\"#DejaVuSans-111\"/>\r\n      <use x=\"116.162109\" xlink:href=\"#DejaVuSans-110\"/>\r\n      <use x=\"179.541016\" xlink:href=\"#DejaVuSans-116\"/>\r\n     </g>\r\n    </g>\r\n   </g>\r\n  </g>\r\n </g>\r\n</svg>\r\n",
      "image/png": "[encoded data removed]"
     },
     "metadata": {
      "needs_background": "light"
     }
    },
    {
     "output_type": "execute_result",
     "data": {
      "text/plain": [
       "<IPython.lib.display.IFrame at 0x26cd3d7f0a0>"
      ],
      "text/html": "\n        <iframe\n            width=\"100%\"\n            height=\"800px\"\n            src=\"../visualization_result/geo_net.html\"\n            frameborder=\"0\"\n            allowfullscreen\n        ></iframe>\n        "
     },
     "metadata": {},
     "execution_count": 10
    }
   ],
   "source": [
    "draw_BN(bn_geo, geo_types, 'geo_net')"
   ]
  },
  {
   "cell_type": "code",
   "execution_count": 11,
   "metadata": {},
   "outputs": [],
   "source": [
    "params = parameter_learning(geo_train, geo_types, bn_geo)"
   ]
  },
  {
   "cell_type": "code",
   "execution_count": 12,
   "metadata": {},
   "outputs": [],
   "source": [
    "save_structure(bn_geo, 'geo_net')\n",
    "skel = read_structure('geo_net')\n",
    "save_params(params, 'geo_net_param')\n",
    "params = read_params('geo_net_param')\n",
    "geo_bn = HyBayesianNetwork(skel, params)"
   ]
  },
  {
   "cell_type": "code",
   "execution_count": 13,
   "metadata": {},
   "outputs": [],
   "source": [
    "acc, rmse, real_data, pred_data = calculate_acc(geo_bn, geo_test, columns)"
   ]
  },
  {
   "cell_type": "code",
   "execution_count": 14,
   "metadata": {},
   "outputs": [
    {
     "output_type": "execute_result",
     "data": {
      "text/plain": [
       "{'A': 0.37, 'C': 0.75, 'H': 0.78}"
      ]
     },
     "metadata": {},
     "execution_count": 14
    }
   ],
   "source": [
    "acc"
   ]
  },
  {
   "cell_type": "code",
   "execution_count": 15,
   "metadata": {},
   "outputs": [
    {
     "output_type": "execute_result",
     "data": {
      "text/plain": [
       "{'D': 2.6, 'I': 1121.99, 'O': 110.76, 'T': 1158.74}"
      ]
     },
     "metadata": {},
     "execution_count": 15
    }
   ],
   "source": [
    "rmse"
   ]
  },
  {
   "cell_type": "code",
   "execution_count": 16,
   "metadata": {},
   "outputs": [],
   "source": [
    "for key in acc.keys():\n",
    "    df_result_accuracy = df_result_accuracy.append({'Parameter': key, 'Strategy': 'HC', 'Alg':'D+M','accuracy':acc[key]}, ignore_index=True)\n",
    "for key in rmse.keys():\n",
    "    df_result_rmse = df_result_rmse.append({'Parameter': key, 'Strategy': 'HC', 'Alg':'D+M','rmse':rmse[key]}, ignore_index=True)"
   ]
  },
  {
   "source": [
    "# Смешанная структура + смешанные параметры"
   ],
   "cell_type": "markdown",
   "metadata": {}
  },
  {
   "cell_type": "code",
   "execution_count": 17,
   "metadata": {},
   "outputs": [],
   "source": [
    "bn_geo = structure_learning(geo_coded, 'HC', 'MI', geo_types)"
   ]
  },
  {
   "cell_type": "code",
   "execution_count": 18,
   "metadata": {},
   "outputs": [
    {
     "output_type": "display_data",
     "data": {
      "text/plain": "<Figure size 2025x225 with 1 Axes>",
      "image/svg+xml": "<?xml version=\"1.0\" encoding=\"utf-8\" standalone=\"no\"?>\r\n<!DOCTYPE svg PUBLIC \"-//W3C//DTD SVG 1.1//EN\"\r\n  \"http://www.w3.org/Graphics/SVG/1.1/DTD/svg11.dtd\">\r\n<!-- Created with matplotlib (https://matplotlib.org/) -->\r\n<svg height=\"100.8pt\" version=\"1.1\" viewBox=\"0 0 964.8 100.8\" width=\"964.8pt\" xmlns=\"http://www.w3.org/2000/svg\" xmlns:xlink=\"http://www.w3.org/1999/xlink\">\r\n <metadata>\r\n  <rdf:RDF xmlns:cc=\"http://creativecommons.org/ns#\" xmlns:dc=\"http://purl.org/dc/elements/1.1/\" xmlns:rdf=\"http://www.w3.org/1999/02/22-rdf-syntax-ns#\">\r\n   <cc:Work>\r\n    <dc:type rdf:resource=\"http://purl.org/dc/dcmitype/StillImage\"/>\r\n    <dc:date>2021-05-01T16:42:55.338675</dc:date>\r\n    <dc:format>image/svg+xml</dc:format>\r\n    <dc:creator>\r\n     <cc:Agent>\r\n      <dc:title>Matplotlib v3.3.4, https://matplotlib.org/</dc:title>\r\n     </cc:Agent>\r\n    </dc:creator>\r\n   </cc:Work>\r\n  </rdf:RDF>\r\n </metadata>\r\n <defs>\r\n  <style type=\"text/css\">*{stroke-linecap:butt;stroke-linejoin:round;}</style>\r\n </defs>\r\n <g id=\"figure_1\">\r\n  <g id=\"patch_1\">\r\n   <path d=\"M 0 100.8 \r\nL 964.8 100.8 \r\nL 964.8 0 \r\nL 0 0 \r\nz\r\n\" style=\"fill:none;\"/>\r\n  </g>\r\n  <g id=\"axes_1\">\r\n   <g id=\"legend_1\">\r\n    <g id=\"patch_2\">\r\n     <path d=\"M 421.545312 59.239062 \r\nL 543.254687 59.239062 \r\nQ 545.254687 59.239062 545.254687 57.239062 \r\nL 545.254687 43.560937 \r\nQ 545.254687 41.560937 543.254687 41.560937 \r\nL 421.545312 41.560937 \r\nQ 419.545312 41.560937 419.545312 43.560937 \r\nL 419.545312 57.239062 \r\nQ 419.545312 59.239062 421.545312 59.239062 \r\nz\r\n\" style=\"fill:#ffffff;opacity:0.8;stroke:#cccccc;stroke-linejoin:miter;\"/>\r\n    </g>\r\n    <g id=\"patch_3\">\r\n     <path d=\"M 423.545312 53.159375 \r\nL 443.545312 53.159375 \r\nL 443.545312 46.159375 \r\nL 423.545312 46.159375 \r\nz\r\n\" style=\"fill:#2ca02c;stroke:#2ca02c;stroke-linejoin:miter;\"/>\r\n    </g>\r\n    <g id=\"text_1\">\r\n     <!-- disc -->\r\n     <g transform=\"translate(451.545312 53.159375)scale(0.1 -0.1)\">\r\n      <defs>\r\n       <path d=\"M 45.40625 46.390625 \r\nL 45.40625 75.984375 \r\nL 54.390625 75.984375 \r\nL 54.390625 0 \r\nL 45.40625 0 \r\nL 45.40625 8.203125 \r\nQ 42.578125 3.328125 38.25 0.953125 \r\nQ 33.9375 -1.421875 27.875 -1.421875 \r\nQ 17.96875 -1.421875 11.734375 6.484375 \r\nQ 5.515625 14.40625 5.515625 27.296875 \r\nQ 5.515625 40.1875 11.734375 48.09375 \r\nQ 17.96875 56 27.875 56 \r\nQ 33.9375 56 38.25 53.625 \r\nQ 42.578125 51.265625 45.40625 46.390625 \r\nz\r\nM 14.796875 27.296875 \r\nQ 14.796875 17.390625 18.875 11.75 \r\nQ 22.953125 6.109375 30.078125 6.109375 \r\nQ 37.203125 6.109375 41.296875 11.75 \r\nQ 45.40625 17.390625 45.40625 27.296875 \r\nQ 45.40625 37.203125 41.296875 42.84375 \r\nQ 37.203125 48.484375 30.078125 48.484375 \r\nQ 22.953125 48.484375 18.875 42.84375 \r\nQ 14.796875 37.203125 14.796875 27.296875 \r\nz\r\n\" id=\"DejaVuSans-100\"/>\r\n       <path d=\"M 9.421875 54.6875 \r\nL 18.40625 54.6875 \r\nL 18.40625 0 \r\nL 9.421875 0 \r\nz\r\nM 9.421875 75.984375 \r\nL 18.40625 75.984375 \r\nL 18.40625 64.59375 \r\nL 9.421875 64.59375 \r\nz\r\n\" id=\"DejaVuSans-105\"/>\r\n       <path d=\"M 44.28125 53.078125 \r\nL 44.28125 44.578125 \r\nQ 40.484375 46.53125 36.375 47.5 \r\nQ 32.28125 48.484375 27.875 48.484375 \r\nQ 21.1875 48.484375 17.84375 46.4375 \r\nQ 14.5 44.390625 14.5 40.28125 \r\nQ 14.5 37.15625 16.890625 35.375 \r\nQ 19.28125 33.59375 26.515625 31.984375 \r\nL 29.59375 31.296875 \r\nQ 39.15625 29.25 43.1875 25.515625 \r\nQ 47.21875 21.78125 47.21875 15.09375 \r\nQ 47.21875 7.46875 41.1875 3.015625 \r\nQ 35.15625 -1.421875 24.609375 -1.421875 \r\nQ 20.21875 -1.421875 15.453125 -0.5625 \r\nQ 10.6875 0.296875 5.421875 2 \r\nL 5.421875 11.28125 \r\nQ 10.40625 8.6875 15.234375 7.390625 \r\nQ 20.0625 6.109375 24.8125 6.109375 \r\nQ 31.15625 6.109375 34.5625 8.28125 \r\nQ 37.984375 10.453125 37.984375 14.40625 \r\nQ 37.984375 18.0625 35.515625 20.015625 \r\nQ 33.0625 21.96875 24.703125 23.78125 \r\nL 21.578125 24.515625 \r\nQ 13.234375 26.265625 9.515625 29.90625 \r\nQ 5.8125 33.546875 5.8125 39.890625 \r\nQ 5.8125 47.609375 11.28125 51.796875 \r\nQ 16.75 56 26.8125 56 \r\nQ 31.78125 56 36.171875 55.265625 \r\nQ 40.578125 54.546875 44.28125 53.078125 \r\nz\r\n\" id=\"DejaVuSans-115\"/>\r\n       <path d=\"M 48.78125 52.59375 \r\nL 48.78125 44.1875 \r\nQ 44.96875 46.296875 41.140625 47.34375 \r\nQ 37.3125 48.390625 33.40625 48.390625 \r\nQ 24.65625 48.390625 19.8125 42.84375 \r\nQ 14.984375 37.3125 14.984375 27.296875 \r\nQ 14.984375 17.28125 19.8125 11.734375 \r\nQ 24.65625 6.203125 33.40625 6.203125 \r\nQ 37.3125 6.203125 41.140625 7.25 \r\nQ 44.96875 8.296875 48.78125 10.40625 \r\nL 48.78125 2.09375 \r\nQ 45.015625 0.34375 40.984375 -0.53125 \r\nQ 36.96875 -1.421875 32.421875 -1.421875 \r\nQ 20.0625 -1.421875 12.78125 6.34375 \r\nQ 5.515625 14.109375 5.515625 27.296875 \r\nQ 5.515625 40.671875 12.859375 48.328125 \r\nQ 20.21875 56 33.015625 56 \r\nQ 37.15625 56 41.109375 55.140625 \r\nQ 45.0625 54.296875 48.78125 52.59375 \r\nz\r\n\" id=\"DejaVuSans-99\"/>\r\n      </defs>\r\n      <use xlink:href=\"#DejaVuSans-100\"/>\r\n      <use x=\"63.476562\" xlink:href=\"#DejaVuSans-105\"/>\r\n      <use x=\"91.259766\" xlink:href=\"#DejaVuSans-115\"/>\r\n      <use x=\"143.359375\" xlink:href=\"#DejaVuSans-99\"/>\r\n     </g>\r\n    </g>\r\n    <g id=\"patch_4\">\r\n     <path d=\"M 491.379687 53.159375 \r\nL 511.379687 53.159375 \r\nL 511.379687 46.159375 \r\nL 491.379687 46.159375 \r\nz\r\n\" style=\"fill:#e377c2;stroke:#e377c2;stroke-linejoin:miter;\"/>\r\n    </g>\r\n    <g id=\"text_2\">\r\n     <!-- cont -->\r\n     <g transform=\"translate(519.379687 53.159375)scale(0.1 -0.1)\">\r\n      <defs>\r\n       <path d=\"M 30.609375 48.390625 \r\nQ 23.390625 48.390625 19.1875 42.75 \r\nQ 14.984375 37.109375 14.984375 27.296875 \r\nQ 14.984375 17.484375 19.15625 11.84375 \r\nQ 23.34375 6.203125 30.609375 6.203125 \r\nQ 37.796875 6.203125 41.984375 11.859375 \r\nQ 46.1875 17.53125 46.1875 27.296875 \r\nQ 46.1875 37.015625 41.984375 42.703125 \r\nQ 37.796875 48.390625 30.609375 48.390625 \r\nz\r\nM 30.609375 56 \r\nQ 42.328125 56 49.015625 48.375 \r\nQ 55.71875 40.765625 55.71875 27.296875 \r\nQ 55.71875 13.875 49.015625 6.21875 \r\nQ 42.328125 -1.421875 30.609375 -1.421875 \r\nQ 18.84375 -1.421875 12.171875 6.21875 \r\nQ 5.515625 13.875 5.515625 27.296875 \r\nQ 5.515625 40.765625 12.171875 48.375 \r\nQ 18.84375 56 30.609375 56 \r\nz\r\n\" id=\"DejaVuSans-111\"/>\r\n       <path d=\"M 54.890625 33.015625 \r\nL 54.890625 0 \r\nL 45.90625 0 \r\nL 45.90625 32.71875 \r\nQ 45.90625 40.484375 42.875 44.328125 \r\nQ 39.84375 48.1875 33.796875 48.1875 \r\nQ 26.515625 48.1875 22.3125 43.546875 \r\nQ 18.109375 38.921875 18.109375 30.90625 \r\nL 18.109375 0 \r\nL 9.078125 0 \r\nL 9.078125 54.6875 \r\nL 18.109375 54.6875 \r\nL 18.109375 46.1875 \r\nQ 21.34375 51.125 25.703125 53.5625 \r\nQ 30.078125 56 35.796875 56 \r\nQ 45.21875 56 50.046875 50.171875 \r\nQ 54.890625 44.34375 54.890625 33.015625 \r\nz\r\n\" id=\"DejaVuSans-110\"/>\r\n       <path d=\"M 18.3125 70.21875 \r\nL 18.3125 54.6875 \r\nL 36.8125 54.6875 \r\nL 36.8125 47.703125 \r\nL 18.3125 47.703125 \r\nL 18.3125 18.015625 \r\nQ 18.3125 11.328125 20.140625 9.421875 \r\nQ 21.96875 7.515625 27.59375 7.515625 \r\nL 36.8125 7.515625 \r\nL 36.8125 0 \r\nL 27.59375 0 \r\nQ 17.1875 0 13.234375 3.875 \r\nQ 9.28125 7.765625 9.28125 18.015625 \r\nL 9.28125 47.703125 \r\nL 2.6875 47.703125 \r\nL 2.6875 54.6875 \r\nL 9.28125 54.6875 \r\nL 9.28125 70.21875 \r\nz\r\n\" id=\"DejaVuSans-116\"/>\r\n      </defs>\r\n      <use xlink:href=\"#DejaVuSans-99\"/>\r\n      <use x=\"54.980469\" xlink:href=\"#DejaVuSans-111\"/>\r\n      <use x=\"116.162109\" xlink:href=\"#DejaVuSans-110\"/>\r\n      <use x=\"179.541016\" xlink:href=\"#DejaVuSans-116\"/>\r\n     </g>\r\n    </g>\r\n   </g>\r\n  </g>\r\n </g>\r\n</svg>\r\n",
      "image/png": "[encoded data removed]"
     },
     "metadata": {
      "needs_background": "light"
     }
    },
    {
     "output_type": "execute_result",
     "data": {
      "text/plain": [
       "<IPython.lib.display.IFrame at 0x26cd634d1f0>"
      ],
      "text/html": "\n        <iframe\n            width=\"100%\"\n            height=\"800px\"\n            src=\"../visualization_result/geo_net.html\"\n            frameborder=\"0\"\n            allowfullscreen\n        ></iframe>\n        "
     },
     "metadata": {},
     "execution_count": 18
    }
   ],
   "source": [
    "draw_BN(bn_geo, geo_types, 'geo_net')"
   ]
  },
  {
   "cell_type": "code",
   "execution_count": 19,
   "metadata": {},
   "outputs": [],
   "source": [
    "params = parameter_learning(geo_train, geo_types, bn_geo)"
   ]
  },
  {
   "cell_type": "code",
   "execution_count": 20,
   "metadata": {},
   "outputs": [],
   "source": [
    "save_structure(bn_geo, 'geo_net')\n",
    "skel = read_structure('geo_net')\n",
    "save_params(params, 'geo_net_param')\n",
    "params = read_params('geo_net_param')\n",
    "geo_bn = HyBayesianNetwork(skel, params)"
   ]
  },
  {
   "cell_type": "code",
   "execution_count": 21,
   "metadata": {},
   "outputs": [],
   "source": [
    "acc, rmse, real, pred = calculate_acc(geo_bn, geo_test, columns)"
   ]
  },
  {
   "cell_type": "code",
   "execution_count": 22,
   "metadata": {},
   "outputs": [
    {
     "output_type": "execute_result",
     "data": {
      "text/plain": [
       "{'A': 0.37, 'C': 0.75, 'H': 0.78}"
      ]
     },
     "metadata": {},
     "execution_count": 22
    }
   ],
   "source": [
    "acc"
   ]
  },
  {
   "cell_type": "code",
   "execution_count": 23,
   "metadata": {},
   "outputs": [
    {
     "output_type": "execute_result",
     "data": {
      "text/plain": [
       "{'D': 2.59, 'I': 1117.56, 'O': 110.73, 'T': 1161.32}"
      ]
     },
     "metadata": {},
     "execution_count": 23
    }
   ],
   "source": [
    "rmse"
   ]
  },
  {
   "cell_type": "code",
   "execution_count": 24,
   "metadata": {},
   "outputs": [],
   "source": [
    "for key in acc.keys():\n",
    "    df_result_accuracy = df_result_accuracy.append({'Parameter': key, 'Strategy': 'HC', 'Alg':'M+M','accuracy':acc[key]}, ignore_index=True)\n",
    "for key in rmse.keys():\n",
    "    df_result_rmse = df_result_rmse.append({'Parameter': key, 'Strategy': 'HC', 'Alg':'M+M','rmse':rmse[key]}, ignore_index=True)"
   ]
  },
  {
   "source": [
    "# Дискретная стурктура + дискретные параметры"
   ],
   "cell_type": "markdown",
   "metadata": {}
  },
  {
   "cell_type": "code",
   "execution_count": 25,
   "metadata": {},
   "outputs": [],
   "source": [
    "geo_new_types = {'A': 'disc',\n",
    " 'C': 'disc',\n",
    " 'H': 'disc',\n",
    " 'D': 'disc',\n",
    " 'I': 'disc',\n",
    " 'O': 'disc',\n",
    " 'T': 'disc'}"
   ]
  },
  {
   "cell_type": "code",
   "execution_count": 26,
   "metadata": {},
   "outputs": [],
   "source": [
    "bn_geo = structure_learning(geo_discrete, 'HC', 'MI', geo_new_types)"
   ]
  },
  {
   "cell_type": "code",
   "execution_count": 27,
   "metadata": {},
   "outputs": [
    {
     "output_type": "display_data",
     "data": {
      "text/plain": "<Figure size 2025x225 with 1 Axes>",
      "image/svg+xml": "<?xml version=\"1.0\" encoding=\"utf-8\" standalone=\"no\"?>\r\n<!DOCTYPE svg PUBLIC \"-//W3C//DTD SVG 1.1//EN\"\r\n  \"http://www.w3.org/Graphics/SVG/1.1/DTD/svg11.dtd\">\r\n<!-- Created with matplotlib (https://matplotlib.org/) -->\r\n<svg height=\"100.8pt\" version=\"1.1\" viewBox=\"0 0 964.8 100.8\" width=\"964.8pt\" xmlns=\"http://www.w3.org/2000/svg\" xmlns:xlink=\"http://www.w3.org/1999/xlink\">\r\n <metadata>\r\n  <rdf:RDF xmlns:cc=\"http://creativecommons.org/ns#\" xmlns:dc=\"http://purl.org/dc/elements/1.1/\" xmlns:rdf=\"http://www.w3.org/1999/02/22-rdf-syntax-ns#\">\r\n   <cc:Work>\r\n    <dc:type rdf:resource=\"http://purl.org/dc/dcmitype/StillImage\"/>\r\n    <dc:date>2021-05-01T16:44:12.500401</dc:date>\r\n    <dc:format>image/svg+xml</dc:format>\r\n    <dc:creator>\r\n     <cc:Agent>\r\n      <dc:title>Matplotlib v3.3.4, https://matplotlib.org/</dc:title>\r\n     </cc:Agent>\r\n    </dc:creator>\r\n   </cc:Work>\r\n  </rdf:RDF>\r\n </metadata>\r\n <defs>\r\n  <style type=\"text/css\">*{stroke-linecap:butt;stroke-linejoin:round;}</style>\r\n </defs>\r\n <g id=\"figure_1\">\r\n  <g id=\"patch_1\">\r\n   <path d=\"M 0 100.8 \r\nL 964.8 100.8 \r\nL 964.8 0 \r\nL 0 0 \r\nz\r\n\" style=\"fill:none;\"/>\r\n  </g>\r\n  <g id=\"axes_1\">\r\n   <g id=\"legend_1\">\r\n    <g id=\"patch_2\">\r\n     <path d=\"M 421.545312 59.239062 \r\nL 543.254687 59.239062 \r\nQ 545.254687 59.239062 545.254687 57.239062 \r\nL 545.254687 43.560937 \r\nQ 545.254687 41.560937 543.254687 41.560937 \r\nL 421.545312 41.560937 \r\nQ 419.545312 41.560937 419.545312 43.560937 \r\nL 419.545312 57.239062 \r\nQ 419.545312 59.239062 421.545312 59.239062 \r\nz\r\n\" style=\"fill:#ffffff;opacity:0.8;stroke:#cccccc;stroke-linejoin:miter;\"/>\r\n    </g>\r\n    <g id=\"patch_3\">\r\n     <path d=\"M 423.545312 53.159375 \r\nL 443.545312 53.159375 \r\nL 443.545312 46.159375 \r\nL 423.545312 46.159375 \r\nz\r\n\" style=\"fill:#2ca02c;stroke:#2ca02c;stroke-linejoin:miter;\"/>\r\n    </g>\r\n    <g id=\"text_1\">\r\n     <!-- disc -->\r\n     <g transform=\"translate(451.545312 53.159375)scale(0.1 -0.1)\">\r\n      <defs>\r\n       <path d=\"M 45.40625 46.390625 \r\nL 45.40625 75.984375 \r\nL 54.390625 75.984375 \r\nL 54.390625 0 \r\nL 45.40625 0 \r\nL 45.40625 8.203125 \r\nQ 42.578125 3.328125 38.25 0.953125 \r\nQ 33.9375 -1.421875 27.875 -1.421875 \r\nQ 17.96875 -1.421875 11.734375 6.484375 \r\nQ 5.515625 14.40625 5.515625 27.296875 \r\nQ 5.515625 40.1875 11.734375 48.09375 \r\nQ 17.96875 56 27.875 56 \r\nQ 33.9375 56 38.25 53.625 \r\nQ 42.578125 51.265625 45.40625 46.390625 \r\nz\r\nM 14.796875 27.296875 \r\nQ 14.796875 17.390625 18.875 11.75 \r\nQ 22.953125 6.109375 30.078125 6.109375 \r\nQ 37.203125 6.109375 41.296875 11.75 \r\nQ 45.40625 17.390625 45.40625 27.296875 \r\nQ 45.40625 37.203125 41.296875 42.84375 \r\nQ 37.203125 48.484375 30.078125 48.484375 \r\nQ 22.953125 48.484375 18.875 42.84375 \r\nQ 14.796875 37.203125 14.796875 27.296875 \r\nz\r\n\" id=\"DejaVuSans-100\"/>\r\n       <path d=\"M 9.421875 54.6875 \r\nL 18.40625 54.6875 \r\nL 18.40625 0 \r\nL 9.421875 0 \r\nz\r\nM 9.421875 75.984375 \r\nL 18.40625 75.984375 \r\nL 18.40625 64.59375 \r\nL 9.421875 64.59375 \r\nz\r\n\" id=\"DejaVuSans-105\"/>\r\n       <path d=\"M 44.28125 53.078125 \r\nL 44.28125 44.578125 \r\nQ 40.484375 46.53125 36.375 47.5 \r\nQ 32.28125 48.484375 27.875 48.484375 \r\nQ 21.1875 48.484375 17.84375 46.4375 \r\nQ 14.5 44.390625 14.5 40.28125 \r\nQ 14.5 37.15625 16.890625 35.375 \r\nQ 19.28125 33.59375 26.515625 31.984375 \r\nL 29.59375 31.296875 \r\nQ 39.15625 29.25 43.1875 25.515625 \r\nQ 47.21875 21.78125 47.21875 15.09375 \r\nQ 47.21875 7.46875 41.1875 3.015625 \r\nQ 35.15625 -1.421875 24.609375 -1.421875 \r\nQ 20.21875 -1.421875 15.453125 -0.5625 \r\nQ 10.6875 0.296875 5.421875 2 \r\nL 5.421875 11.28125 \r\nQ 10.40625 8.6875 15.234375 7.390625 \r\nQ 20.0625 6.109375 24.8125 6.109375 \r\nQ 31.15625 6.109375 34.5625 8.28125 \r\nQ 37.984375 10.453125 37.984375 14.40625 \r\nQ 37.984375 18.0625 35.515625 20.015625 \r\nQ 33.0625 21.96875 24.703125 23.78125 \r\nL 21.578125 24.515625 \r\nQ 13.234375 26.265625 9.515625 29.90625 \r\nQ 5.8125 33.546875 5.8125 39.890625 \r\nQ 5.8125 47.609375 11.28125 51.796875 \r\nQ 16.75 56 26.8125 56 \r\nQ 31.78125 56 36.171875 55.265625 \r\nQ 40.578125 54.546875 44.28125 53.078125 \r\nz\r\n\" id=\"DejaVuSans-115\"/>\r\n       <path d=\"M 48.78125 52.59375 \r\nL 48.78125 44.1875 \r\nQ 44.96875 46.296875 41.140625 47.34375 \r\nQ 37.3125 48.390625 33.40625 48.390625 \r\nQ 24.65625 48.390625 19.8125 42.84375 \r\nQ 14.984375 37.3125 14.984375 27.296875 \r\nQ 14.984375 17.28125 19.8125 11.734375 \r\nQ 24.65625 6.203125 33.40625 6.203125 \r\nQ 37.3125 6.203125 41.140625 7.25 \r\nQ 44.96875 8.296875 48.78125 10.40625 \r\nL 48.78125 2.09375 \r\nQ 45.015625 0.34375 40.984375 -0.53125 \r\nQ 36.96875 -1.421875 32.421875 -1.421875 \r\nQ 20.0625 -1.421875 12.78125 6.34375 \r\nQ 5.515625 14.109375 5.515625 27.296875 \r\nQ 5.515625 40.671875 12.859375 48.328125 \r\nQ 20.21875 56 33.015625 56 \r\nQ 37.15625 56 41.109375 55.140625 \r\nQ 45.0625 54.296875 48.78125 52.59375 \r\nz\r\n\" id=\"DejaVuSans-99\"/>\r\n      </defs>\r\n      <use xlink:href=\"#DejaVuSans-100\"/>\r\n      <use x=\"63.476562\" xlink:href=\"#DejaVuSans-105\"/>\r\n      <use x=\"91.259766\" xlink:href=\"#DejaVuSans-115\"/>\r\n      <use x=\"143.359375\" xlink:href=\"#DejaVuSans-99\"/>\r\n     </g>\r\n    </g>\r\n    <g id=\"patch_4\">\r\n     <path d=\"M 491.379687 53.159375 \r\nL 511.379687 53.159375 \r\nL 511.379687 46.159375 \r\nL 491.379687 46.159375 \r\nz\r\n\" style=\"fill:#e377c2;stroke:#e377c2;stroke-linejoin:miter;\"/>\r\n    </g>\r\n    <g id=\"text_2\">\r\n     <!-- cont -->\r\n     <g transform=\"translate(519.379687 53.159375)scale(0.1 -0.1)\">\r\n      <defs>\r\n       <path d=\"M 30.609375 48.390625 \r\nQ 23.390625 48.390625 19.1875 42.75 \r\nQ 14.984375 37.109375 14.984375 27.296875 \r\nQ 14.984375 17.484375 19.15625 11.84375 \r\nQ 23.34375 6.203125 30.609375 6.203125 \r\nQ 37.796875 6.203125 41.984375 11.859375 \r\nQ 46.1875 17.53125 46.1875 27.296875 \r\nQ 46.1875 37.015625 41.984375 42.703125 \r\nQ 37.796875 48.390625 30.609375 48.390625 \r\nz\r\nM 30.609375 56 \r\nQ 42.328125 56 49.015625 48.375 \r\nQ 55.71875 40.765625 55.71875 27.296875 \r\nQ 55.71875 13.875 49.015625 6.21875 \r\nQ 42.328125 -1.421875 30.609375 -1.421875 \r\nQ 18.84375 -1.421875 12.171875 6.21875 \r\nQ 5.515625 13.875 5.515625 27.296875 \r\nQ 5.515625 40.765625 12.171875 48.375 \r\nQ 18.84375 56 30.609375 56 \r\nz\r\n\" id=\"DejaVuSans-111\"/>\r\n       <path d=\"M 54.890625 33.015625 \r\nL 54.890625 0 \r\nL 45.90625 0 \r\nL 45.90625 32.71875 \r\nQ 45.90625 40.484375 42.875 44.328125 \r\nQ 39.84375 48.1875 33.796875 48.1875 \r\nQ 26.515625 48.1875 22.3125 43.546875 \r\nQ 18.109375 38.921875 18.109375 30.90625 \r\nL 18.109375 0 \r\nL 9.078125 0 \r\nL 9.078125 54.6875 \r\nL 18.109375 54.6875 \r\nL 18.109375 46.1875 \r\nQ 21.34375 51.125 25.703125 53.5625 \r\nQ 30.078125 56 35.796875 56 \r\nQ 45.21875 56 50.046875 50.171875 \r\nQ 54.890625 44.34375 54.890625 33.015625 \r\nz\r\n\" id=\"DejaVuSans-110\"/>\r\n       <path d=\"M 18.3125 70.21875 \r\nL 18.3125 54.6875 \r\nL 36.8125 54.6875 \r\nL 36.8125 47.703125 \r\nL 18.3125 47.703125 \r\nL 18.3125 18.015625 \r\nQ 18.3125 11.328125 20.140625 9.421875 \r\nQ 21.96875 7.515625 27.59375 7.515625 \r\nL 36.8125 7.515625 \r\nL 36.8125 0 \r\nL 27.59375 0 \r\nQ 17.1875 0 13.234375 3.875 \r\nQ 9.28125 7.765625 9.28125 18.015625 \r\nL 9.28125 47.703125 \r\nL 2.6875 47.703125 \r\nL 2.6875 54.6875 \r\nL 9.28125 54.6875 \r\nL 9.28125 70.21875 \r\nz\r\n\" id=\"DejaVuSans-116\"/>\r\n      </defs>\r\n      <use xlink:href=\"#DejaVuSans-99\"/>\r\n      <use x=\"54.980469\" xlink:href=\"#DejaVuSans-111\"/>\r\n      <use x=\"116.162109\" xlink:href=\"#DejaVuSans-110\"/>\r\n      <use x=\"179.541016\" xlink:href=\"#DejaVuSans-116\"/>\r\n     </g>\r\n    </g>\r\n   </g>\r\n  </g>\r\n </g>\r\n</svg>\r\n",
      "image/png": "[encoded data removed]"
     },
     "metadata": {
      "needs_background": "light"
     }
    },
    {
     "output_type": "execute_result",
     "data": {
      "text/plain": [
       "<IPython.lib.display.IFrame at 0x26cd5d834c0>"
      ],
      "text/html": "\n        <iframe\n            width=\"100%\"\n            height=\"800px\"\n            src=\"../visualization_result/geo_net.html\"\n            frameborder=\"0\"\n            allowfullscreen\n        ></iframe>\n        "
     },
     "metadata": {},
     "execution_count": 27
    }
   ],
   "source": [
    "draw_BN(bn_geo, geo_types, 'geo_net')"
   ]
  },
  {
   "cell_type": "code",
   "execution_count": 28,
   "metadata": {},
   "outputs": [],
   "source": [
    "params = parameter_learning(geo_only_discrete, geo_new_types, bn_geo)"
   ]
  },
  {
   "cell_type": "code",
   "execution_count": 29,
   "metadata": {},
   "outputs": [],
   "source": [
    "save_structure(bn_geo, 'geo_net')\n",
    "skel = read_structure('geo_net')\n",
    "save_params(params, 'geo_net_param')\n",
    "params = read_params('geo_net_param')\n",
    "geo_bn = HyBayesianNetwork(skel, params)"
   ]
  },
  {
   "cell_type": "code",
   "execution_count": 30,
   "metadata": {},
   "outputs": [],
   "source": [
    "test_discrete = copy(geo_test)"
   ]
  },
  {
   "cell_type": "code",
   "execution_count": 31,
   "metadata": {},
   "outputs": [],
   "source": [
    "test_discrete[columns_for_disc] = discrete_coder.transform(geo_test[columns_for_disc].values) "
   ]
  },
  {
   "cell_type": "code",
   "execution_count": 32,
   "metadata": {},
   "outputs": [
    {
     "output_type": "execute_result",
     "data": {
      "text/plain": [
       "         A       C     H  D  I  O  T\n",
       "0      old    none   any  1  4  4  4\n",
       "1      old    none   any  1  4  4  4\n",
       "2    adult    none  none  0  3  3  3\n",
       "3      old    none  none  0  2  4  3\n",
       "4    young    none  none  0  3  1  1\n",
       "..     ...     ...   ... .. .. .. ..\n",
       "295  young    none   any  0  3  0  3\n",
       "296  young    none  none  0  0  1  0\n",
       "297  adult  severe  none  0  3  3  3\n",
       "298  adult  severe  none  0  0  2  1\n",
       "299  adult    none   any  1  4  4  4\n",
       "\n",
       "[300 rows x 7 columns]"
      ],
      "text/html": "<div>\n<style scoped>\n    .dataframe tbody tr th:only-of-type {\n        vertical-align: middle;\n    }\n\n    .dataframe tbody tr th {\n        vertical-align: top;\n    }\n\n    .dataframe thead th {\n        text-align: right;\n    }\n</style>\n<table border=\"1\" class=\"dataframe\">\n  <thead>\n    <tr style=\"text-align: right;\">\n      <th></th>\n      <th>A</th>\n      <th>C</th>\n      <th>H</th>\n      <th>D</th>\n      <th>I</th>\n      <th>O</th>\n      <th>T</th>\n    </tr>\n  </thead>\n  <tbody>\n    <tr>\n      <th>0</th>\n      <td>old</td>\n      <td>none</td>\n      <td>any</td>\n      <td>1</td>\n      <td>4</td>\n      <td>4</td>\n      <td>4</td>\n    </tr>\n    <tr>\n      <th>1</th>\n      <td>old</td>\n      <td>none</td>\n      <td>any</td>\n      <td>1</td>\n      <td>4</td>\n      <td>4</td>\n      <td>4</td>\n    </tr>\n    <tr>\n      <th>2</th>\n      <td>adult</td>\n      <td>none</td>\n      <td>none</td>\n      <td>0</td>\n      <td>3</td>\n      <td>3</td>\n      <td>3</td>\n    </tr>\n    <tr>\n      <th>3</th>\n      <td>old</td>\n      <td>none</td>\n      <td>none</td>\n      <td>0</td>\n      <td>2</td>\n      <td>4</td>\n      <td>3</td>\n    </tr>\n    <tr>\n      <th>4</th>\n      <td>young</td>\n      <td>none</td>\n      <td>none</td>\n      <td>0</td>\n      <td>3</td>\n      <td>1</td>\n      <td>1</td>\n    </tr>\n    <tr>\n      <th>...</th>\n      <td>...</td>\n      <td>...</td>\n      <td>...</td>\n      <td>...</td>\n      <td>...</td>\n      <td>...</td>\n      <td>...</td>\n    </tr>\n    <tr>\n      <th>295</th>\n      <td>young</td>\n      <td>none</td>\n      <td>any</td>\n      <td>0</td>\n      <td>3</td>\n      <td>0</td>\n      <td>3</td>\n    </tr>\n    <tr>\n      <th>296</th>\n      <td>young</td>\n      <td>none</td>\n      <td>none</td>\n      <td>0</td>\n      <td>0</td>\n      <td>1</td>\n      <td>0</td>\n    </tr>\n    <tr>\n      <th>297</th>\n      <td>adult</td>\n      <td>severe</td>\n      <td>none</td>\n      <td>0</td>\n      <td>3</td>\n      <td>3</td>\n      <td>3</td>\n    </tr>\n    <tr>\n      <th>298</th>\n      <td>adult</td>\n      <td>severe</td>\n      <td>none</td>\n      <td>0</td>\n      <td>0</td>\n      <td>2</td>\n      <td>1</td>\n    </tr>\n    <tr>\n      <th>299</th>\n      <td>adult</td>\n      <td>none</td>\n      <td>any</td>\n      <td>1</td>\n      <td>4</td>\n      <td>4</td>\n      <td>4</td>\n    </tr>\n  </tbody>\n</table>\n<p>300 rows × 7 columns</p>\n</div>"
     },
     "metadata": {},
     "execution_count": 32
    }
   ],
   "source": [
    "for c in columns_for_disc:\n",
    "    test_discrete[c] = test_discrete[c].apply(lambda x: int(x))\n",
    "test_discrete"
   ]
  },
  {
   "cell_type": "code",
   "execution_count": 33,
   "metadata": {},
   "outputs": [
    {
     "output_type": "stream",
     "name": "stderr",
     "text": [
      "C:\\Users\\anaxa\\AppData\\Local\\Programs\\Python\\Python38\\lib\\site-packages\\sklearn\\metrics\\_classification.py:208: FutureWarning: elementwise comparison failed; returning scalar instead, but in the future will perform elementwise comparison\n  score = y_true == y_pred\nC:\\Users\\anaxa\\AppData\\Local\\Programs\\Python\\Python38\\lib\\site-packages\\sklearn\\metrics\\_classification.py:208: FutureWarning: elementwise comparison failed; returning scalar instead, but in the future will perform elementwise comparison\n  score = y_true == y_pred\nC:\\Users\\anaxa\\AppData\\Local\\Programs\\Python\\Python38\\lib\\site-packages\\sklearn\\metrics\\_classification.py:208: FutureWarning: elementwise comparison failed; returning scalar instead, but in the future will perform elementwise comparison\n  score = y_true == y_pred\nC:\\Users\\anaxa\\AppData\\Local\\Programs\\Python\\Python38\\lib\\site-packages\\sklearn\\metrics\\_classification.py:208: FutureWarning: elementwise comparison failed; returning scalar instead, but in the future will perform elementwise comparison\n  score = y_true == y_pred\n"
     ]
    }
   ],
   "source": [
    "acc, rmse, real, pred = calculate_acc(geo_bn, test_discrete, columns)"
   ]
  },
  {
   "cell_type": "code",
   "execution_count": 34,
   "metadata": {},
   "outputs": [
    {
     "output_type": "execute_result",
     "data": {
      "text/plain": [
       "{'A': 0.36, 'C': 0.75, 'H': 0.78, 'D': 0.0, 'I': 0.0, 'O': 0.0, 'T': 0.0}"
      ]
     },
     "metadata": {},
     "execution_count": 34
    }
   ],
   "source": [
    "acc"
   ]
  },
  {
   "cell_type": "code",
   "execution_count": 35,
   "metadata": {},
   "outputs": [],
   "source": [
    "for key in colums_for_code:\n",
    "    df_result_accuracy = df_result_accuracy.append({'Parameter': key, 'Strategy': 'HC', 'Alg':'D+D','accuracy':acc[key]}, ignore_index=True)"
   ]
  },
  {
   "cell_type": "code",
   "execution_count": 36,
   "metadata": {},
   "outputs": [],
   "source": [
    "invers_real = inverse_discretization(pd.DataFrame(np.transpose(real[3:7]), columns=['D', 'I', 'O', 'T']), ['D', 'I', 'O', 'T'], discrete_coder)"
   ]
  },
  {
   "cell_type": "code",
   "execution_count": 37,
   "metadata": {},
   "outputs": [],
   "source": [
    "invers_pred = inverse_discretization(pd.DataFrame(np.transpose(pred[3:7]), columns=['D', 'I', 'O', 'T']), ['D', 'I', 'O', 'T'], discrete_coder)"
   ]
  },
  {
   "cell_type": "code",
   "execution_count": 38,
   "metadata": {},
   "outputs": [],
   "source": [
    "m = mean_squared_error(invers_real['D'], invers_pred['D'], squared=False)\n",
    "df_result_rmse = df_result_rmse.append({'Parameter': 'D', 'Strategy': 'HC', 'Alg':'D+D','rmse':m}, ignore_index=True)"
   ]
  },
  {
   "cell_type": "code",
   "execution_count": 39,
   "metadata": {},
   "outputs": [],
   "source": [
    "m = mean_squared_error(invers_real['I'], invers_pred['I'], squared=False)\n",
    "df_result_rmse = df_result_rmse.append({'Parameter': 'I', 'Strategy': 'HC', 'Alg':'D+D','rmse':m}, ignore_index=True)"
   ]
  },
  {
   "cell_type": "code",
   "execution_count": 40,
   "metadata": {},
   "outputs": [],
   "source": [
    "m = mean_squared_error(invers_real['O'], invers_pred['O'], squared=False)\n",
    "df_result_rmse = df_result_rmse.append({'Parameter': 'O', 'Strategy': 'HC', 'Alg':'D+D','rmse':m}, ignore_index=True)"
   ]
  },
  {
   "cell_type": "code",
   "execution_count": 41,
   "metadata": {},
   "outputs": [],
   "source": [
    "m = mean_squared_error(invers_real['T'], invers_pred['T'], squared=False)\n",
    "df_result_rmse = df_result_rmse.append({'Parameter': 'T', 'Strategy': 'HC', 'Alg':'D+D','rmse':m}, ignore_index=True)"
   ]
  },
  {
   "source": [
    "# Смешанная структура + дискретные параметры"
   ],
   "cell_type": "markdown",
   "metadata": {}
  },
  {
   "cell_type": "code",
   "execution_count": 42,
   "metadata": {
    "tags": []
   },
   "outputs": [],
   "source": [
    "bn_geo = structure_learning(geo_coded, 'HC', 'MI', geo_new_types)"
   ]
  },
  {
   "cell_type": "code",
   "execution_count": 43,
   "metadata": {},
   "outputs": [
    {
     "output_type": "display_data",
     "data": {
      "text/plain": "<Figure size 2025x225 with 1 Axes>",
      "image/svg+xml": "<?xml version=\"1.0\" encoding=\"utf-8\" standalone=\"no\"?>\r\n<!DOCTYPE svg PUBLIC \"-//W3C//DTD SVG 1.1//EN\"\r\n  \"http://www.w3.org/Graphics/SVG/1.1/DTD/svg11.dtd\">\r\n<!-- Created with matplotlib (https://matplotlib.org/) -->\r\n<svg height=\"100.8pt\" version=\"1.1\" viewBox=\"0 0 964.8 100.8\" width=\"964.8pt\" xmlns=\"http://www.w3.org/2000/svg\" xmlns:xlink=\"http://www.w3.org/1999/xlink\">\r\n <metadata>\r\n  <rdf:RDF xmlns:cc=\"http://creativecommons.org/ns#\" xmlns:dc=\"http://purl.org/dc/elements/1.1/\" xmlns:rdf=\"http://www.w3.org/1999/02/22-rdf-syntax-ns#\">\r\n   <cc:Work>\r\n    <dc:type rdf:resource=\"http://purl.org/dc/dcmitype/StillImage\"/>\r\n    <dc:date>2021-05-01T16:45:45.309909</dc:date>\r\n    <dc:format>image/svg+xml</dc:format>\r\n    <dc:creator>\r\n     <cc:Agent>\r\n      <dc:title>Matplotlib v3.3.4, https://matplotlib.org/</dc:title>\r\n     </cc:Agent>\r\n    </dc:creator>\r\n   </cc:Work>\r\n  </rdf:RDF>\r\n </metadata>\r\n <defs>\r\n  <style type=\"text/css\">*{stroke-linecap:butt;stroke-linejoin:round;}</style>\r\n </defs>\r\n <g id=\"figure_1\">\r\n  <g id=\"patch_1\">\r\n   <path d=\"M 0 100.8 \r\nL 964.8 100.8 \r\nL 964.8 0 \r\nL 0 0 \r\nz\r\n\" style=\"fill:none;\"/>\r\n  </g>\r\n  <g id=\"axes_1\">\r\n   <g id=\"legend_1\">\r\n    <g id=\"patch_2\">\r\n     <path d=\"M 421.545312 59.239062 \r\nL 543.254687 59.239062 \r\nQ 545.254687 59.239062 545.254687 57.239062 \r\nL 545.254687 43.560937 \r\nQ 545.254687 41.560937 543.254687 41.560937 \r\nL 421.545312 41.560937 \r\nQ 419.545312 41.560937 419.545312 43.560937 \r\nL 419.545312 57.239062 \r\nQ 419.545312 59.239062 421.545312 59.239062 \r\nz\r\n\" style=\"fill:#ffffff;opacity:0.8;stroke:#cccccc;stroke-linejoin:miter;\"/>\r\n    </g>\r\n    <g id=\"patch_3\">\r\n     <path d=\"M 423.545312 53.159375 \r\nL 443.545312 53.159375 \r\nL 443.545312 46.159375 \r\nL 423.545312 46.159375 \r\nz\r\n\" style=\"fill:#2ca02c;stroke:#2ca02c;stroke-linejoin:miter;\"/>\r\n    </g>\r\n    <g id=\"text_1\">\r\n     <!-- disc -->\r\n     <g transform=\"translate(451.545312 53.159375)scale(0.1 -0.1)\">\r\n      <defs>\r\n       <path d=\"M 45.40625 46.390625 \r\nL 45.40625 75.984375 \r\nL 54.390625 75.984375 \r\nL 54.390625 0 \r\nL 45.40625 0 \r\nL 45.40625 8.203125 \r\nQ 42.578125 3.328125 38.25 0.953125 \r\nQ 33.9375 -1.421875 27.875 -1.421875 \r\nQ 17.96875 -1.421875 11.734375 6.484375 \r\nQ 5.515625 14.40625 5.515625 27.296875 \r\nQ 5.515625 40.1875 11.734375 48.09375 \r\nQ 17.96875 56 27.875 56 \r\nQ 33.9375 56 38.25 53.625 \r\nQ 42.578125 51.265625 45.40625 46.390625 \r\nz\r\nM 14.796875 27.296875 \r\nQ 14.796875 17.390625 18.875 11.75 \r\nQ 22.953125 6.109375 30.078125 6.109375 \r\nQ 37.203125 6.109375 41.296875 11.75 \r\nQ 45.40625 17.390625 45.40625 27.296875 \r\nQ 45.40625 37.203125 41.296875 42.84375 \r\nQ 37.203125 48.484375 30.078125 48.484375 \r\nQ 22.953125 48.484375 18.875 42.84375 \r\nQ 14.796875 37.203125 14.796875 27.296875 \r\nz\r\n\" id=\"DejaVuSans-100\"/>\r\n       <path d=\"M 9.421875 54.6875 \r\nL 18.40625 54.6875 \r\nL 18.40625 0 \r\nL 9.421875 0 \r\nz\r\nM 9.421875 75.984375 \r\nL 18.40625 75.984375 \r\nL 18.40625 64.59375 \r\nL 9.421875 64.59375 \r\nz\r\n\" id=\"DejaVuSans-105\"/>\r\n       <path d=\"M 44.28125 53.078125 \r\nL 44.28125 44.578125 \r\nQ 40.484375 46.53125 36.375 47.5 \r\nQ 32.28125 48.484375 27.875 48.484375 \r\nQ 21.1875 48.484375 17.84375 46.4375 \r\nQ 14.5 44.390625 14.5 40.28125 \r\nQ 14.5 37.15625 16.890625 35.375 \r\nQ 19.28125 33.59375 26.515625 31.984375 \r\nL 29.59375 31.296875 \r\nQ 39.15625 29.25 43.1875 25.515625 \r\nQ 47.21875 21.78125 47.21875 15.09375 \r\nQ 47.21875 7.46875 41.1875 3.015625 \r\nQ 35.15625 -1.421875 24.609375 -1.421875 \r\nQ 20.21875 -1.421875 15.453125 -0.5625 \r\nQ 10.6875 0.296875 5.421875 2 \r\nL 5.421875 11.28125 \r\nQ 10.40625 8.6875 15.234375 7.390625 \r\nQ 20.0625 6.109375 24.8125 6.109375 \r\nQ 31.15625 6.109375 34.5625 8.28125 \r\nQ 37.984375 10.453125 37.984375 14.40625 \r\nQ 37.984375 18.0625 35.515625 20.015625 \r\nQ 33.0625 21.96875 24.703125 23.78125 \r\nL 21.578125 24.515625 \r\nQ 13.234375 26.265625 9.515625 29.90625 \r\nQ 5.8125 33.546875 5.8125 39.890625 \r\nQ 5.8125 47.609375 11.28125 51.796875 \r\nQ 16.75 56 26.8125 56 \r\nQ 31.78125 56 36.171875 55.265625 \r\nQ 40.578125 54.546875 44.28125 53.078125 \r\nz\r\n\" id=\"DejaVuSans-115\"/>\r\n       <path d=\"M 48.78125 52.59375 \r\nL 48.78125 44.1875 \r\nQ 44.96875 46.296875 41.140625 47.34375 \r\nQ 37.3125 48.390625 33.40625 48.390625 \r\nQ 24.65625 48.390625 19.8125 42.84375 \r\nQ 14.984375 37.3125 14.984375 27.296875 \r\nQ 14.984375 17.28125 19.8125 11.734375 \r\nQ 24.65625 6.203125 33.40625 6.203125 \r\nQ 37.3125 6.203125 41.140625 7.25 \r\nQ 44.96875 8.296875 48.78125 10.40625 \r\nL 48.78125 2.09375 \r\nQ 45.015625 0.34375 40.984375 -0.53125 \r\nQ 36.96875 -1.421875 32.421875 -1.421875 \r\nQ 20.0625 -1.421875 12.78125 6.34375 \r\nQ 5.515625 14.109375 5.515625 27.296875 \r\nQ 5.515625 40.671875 12.859375 48.328125 \r\nQ 20.21875 56 33.015625 56 \r\nQ 37.15625 56 41.109375 55.140625 \r\nQ 45.0625 54.296875 48.78125 52.59375 \r\nz\r\n\" id=\"DejaVuSans-99\"/>\r\n      </defs>\r\n      <use xlink:href=\"#DejaVuSans-100\"/>\r\n      <use x=\"63.476562\" xlink:href=\"#DejaVuSans-105\"/>\r\n      <use x=\"91.259766\" xlink:href=\"#DejaVuSans-115\"/>\r\n      <use x=\"143.359375\" xlink:href=\"#DejaVuSans-99\"/>\r\n     </g>\r\n    </g>\r\n    <g id=\"patch_4\">\r\n     <path d=\"M 491.379687 53.159375 \r\nL 511.379687 53.159375 \r\nL 511.379687 46.159375 \r\nL 491.379687 46.159375 \r\nz\r\n\" style=\"fill:#e377c2;stroke:#e377c2;stroke-linejoin:miter;\"/>\r\n    </g>\r\n    <g id=\"text_2\">\r\n     <!-- cont -->\r\n     <g transform=\"translate(519.379687 53.159375)scale(0.1 -0.1)\">\r\n      <defs>\r\n       <path d=\"M 30.609375 48.390625 \r\nQ 23.390625 48.390625 19.1875 42.75 \r\nQ 14.984375 37.109375 14.984375 27.296875 \r\nQ 14.984375 17.484375 19.15625 11.84375 \r\nQ 23.34375 6.203125 30.609375 6.203125 \r\nQ 37.796875 6.203125 41.984375 11.859375 \r\nQ 46.1875 17.53125 46.1875 27.296875 \r\nQ 46.1875 37.015625 41.984375 42.703125 \r\nQ 37.796875 48.390625 30.609375 48.390625 \r\nz\r\nM 30.609375 56 \r\nQ 42.328125 56 49.015625 48.375 \r\nQ 55.71875 40.765625 55.71875 27.296875 \r\nQ 55.71875 13.875 49.015625 6.21875 \r\nQ 42.328125 -1.421875 30.609375 -1.421875 \r\nQ 18.84375 -1.421875 12.171875 6.21875 \r\nQ 5.515625 13.875 5.515625 27.296875 \r\nQ 5.515625 40.765625 12.171875 48.375 \r\nQ 18.84375 56 30.609375 56 \r\nz\r\n\" id=\"DejaVuSans-111\"/>\r\n       <path d=\"M 54.890625 33.015625 \r\nL 54.890625 0 \r\nL 45.90625 0 \r\nL 45.90625 32.71875 \r\nQ 45.90625 40.484375 42.875 44.328125 \r\nQ 39.84375 48.1875 33.796875 48.1875 \r\nQ 26.515625 48.1875 22.3125 43.546875 \r\nQ 18.109375 38.921875 18.109375 30.90625 \r\nL 18.109375 0 \r\nL 9.078125 0 \r\nL 9.078125 54.6875 \r\nL 18.109375 54.6875 \r\nL 18.109375 46.1875 \r\nQ 21.34375 51.125 25.703125 53.5625 \r\nQ 30.078125 56 35.796875 56 \r\nQ 45.21875 56 50.046875 50.171875 \r\nQ 54.890625 44.34375 54.890625 33.015625 \r\nz\r\n\" id=\"DejaVuSans-110\"/>\r\n       <path d=\"M 18.3125 70.21875 \r\nL 18.3125 54.6875 \r\nL 36.8125 54.6875 \r\nL 36.8125 47.703125 \r\nL 18.3125 47.703125 \r\nL 18.3125 18.015625 \r\nQ 18.3125 11.328125 20.140625 9.421875 \r\nQ 21.96875 7.515625 27.59375 7.515625 \r\nL 36.8125 7.515625 \r\nL 36.8125 0 \r\nL 27.59375 0 \r\nQ 17.1875 0 13.234375 3.875 \r\nQ 9.28125 7.765625 9.28125 18.015625 \r\nL 9.28125 47.703125 \r\nL 2.6875 47.703125 \r\nL 2.6875 54.6875 \r\nL 9.28125 54.6875 \r\nL 9.28125 70.21875 \r\nz\r\n\" id=\"DejaVuSans-116\"/>\r\n      </defs>\r\n      <use xlink:href=\"#DejaVuSans-99\"/>\r\n      <use x=\"54.980469\" xlink:href=\"#DejaVuSans-111\"/>\r\n      <use x=\"116.162109\" xlink:href=\"#DejaVuSans-110\"/>\r\n      <use x=\"179.541016\" xlink:href=\"#DejaVuSans-116\"/>\r\n     </g>\r\n    </g>\r\n   </g>\r\n  </g>\r\n </g>\r\n</svg>\r\n",
      "image/png": "[encoded data removed]"
     },
     "metadata": {
      "needs_background": "light"
     }
    },
    {
     "output_type": "execute_result",
     "data": {
      "text/plain": [
       "<IPython.lib.display.IFrame at 0x26cd5edef70>"
      ],
      "text/html": "\n        <iframe\n            width=\"100%\"\n            height=\"800px\"\n            src=\"../visualization_result/geo_net.html\"\n            frameborder=\"0\"\n            allowfullscreen\n        ></iframe>\n        "
     },
     "metadata": {},
     "execution_count": 43
    }
   ],
   "source": [
    "draw_BN(bn_geo, geo_types, 'geo_net')"
   ]
  },
  {
   "cell_type": "code",
   "execution_count": 44,
   "metadata": {},
   "outputs": [],
   "source": [
    "params = parameter_learning(geo_only_discrete, geo_new_types, bn_geo)"
   ]
  },
  {
   "cell_type": "code",
   "execution_count": 45,
   "metadata": {},
   "outputs": [],
   "source": [
    "save_structure(bn_geo, 'geo_net')\n",
    "skel = read_structure('geo_net')\n",
    "save_params(params, 'geo_net_param')\n",
    "params = read_params('geo_net_param')\n",
    "geo_bn = HyBayesianNetwork(skel, params)"
   ]
  },
  {
   "cell_type": "code",
   "execution_count": 46,
   "metadata": {},
   "outputs": [
    {
     "output_type": "stream",
     "name": "stderr",
     "text": [
      "C:\\Users\\anaxa\\AppData\\Local\\Programs\\Python\\Python38\\lib\\site-packages\\sklearn\\metrics\\_classification.py:208: FutureWarning: elementwise comparison failed; returning scalar instead, but in the future will perform elementwise comparison\n  score = y_true == y_pred\nC:\\Users\\anaxa\\AppData\\Local\\Programs\\Python\\Python38\\lib\\site-packages\\sklearn\\metrics\\_classification.py:208: FutureWarning: elementwise comparison failed; returning scalar instead, but in the future will perform elementwise comparison\n  score = y_true == y_pred\nC:\\Users\\anaxa\\AppData\\Local\\Programs\\Python\\Python38\\lib\\site-packages\\sklearn\\metrics\\_classification.py:208: FutureWarning: elementwise comparison failed; returning scalar instead, but in the future will perform elementwise comparison\n  score = y_true == y_pred\nC:\\Users\\anaxa\\AppData\\Local\\Programs\\Python\\Python38\\lib\\site-packages\\sklearn\\metrics\\_classification.py:208: FutureWarning: elementwise comparison failed; returning scalar instead, but in the future will perform elementwise comparison\n  score = y_true == y_pred\n"
     ]
    }
   ],
   "source": [
    "acc, rmse, real, pred = calculate_acc(geo_bn, test_discrete, columns)"
   ]
  },
  {
   "cell_type": "code",
   "execution_count": 47,
   "metadata": {},
   "outputs": [
    {
     "output_type": "execute_result",
     "data": {
      "text/plain": [
       "{'A': 0.37, 'C': 0.75, 'H': 0.78, 'D': 0.0, 'I': 0.0, 'O': 0.0, 'T': 0.0}"
      ]
     },
     "metadata": {},
     "execution_count": 47
    }
   ],
   "source": [
    "acc"
   ]
  },
  {
   "cell_type": "code",
   "execution_count": 48,
   "metadata": {},
   "outputs": [],
   "source": [
    "for key in colums_for_code:\n",
    "    df_result_accuracy = df_result_accuracy.append({'Parameter': key, 'Strategy': 'HC', 'Alg':'M+D','accuracy':acc[key]}, ignore_index=True)"
   ]
  },
  {
   "cell_type": "code",
   "execution_count": 49,
   "metadata": {},
   "outputs": [],
   "source": [
    "invers_real = inverse_discretization(pd.DataFrame(np.transpose(real[3:7]), columns=['D', 'I', 'O', 'T']), ['D', 'I', 'O', 'T'], discrete_coder)"
   ]
  },
  {
   "cell_type": "code",
   "execution_count": 50,
   "metadata": {},
   "outputs": [],
   "source": [
    "invers_pred = inverse_discretization(pd.DataFrame(np.transpose(pred[3:7]), columns=['D', 'I', 'O', 'T']), ['D', 'I', 'O', 'T'], discrete_coder)"
   ]
  },
  {
   "cell_type": "code",
   "execution_count": 51,
   "metadata": {},
   "outputs": [],
   "source": [
    "m = mean_squared_error(invers_real['D'], invers_pred['D'], squared=False)\n",
    "df_result_rmse = df_result_rmse.append({'Parameter': 'D', 'Strategy': 'HC', 'Alg':'M+D','rmse':m}, ignore_index=True)"
   ]
  },
  {
   "cell_type": "code",
   "execution_count": 52,
   "metadata": {},
   "outputs": [],
   "source": [
    "m = mean_squared_error(invers_real['I'], invers_pred['I'], squared=False)\n",
    "df_result_rmse = df_result_rmse.append({'Parameter': 'I', 'Strategy': 'HC', 'Alg':'M+D','rmse':m}, ignore_index=True)"
   ]
  },
  {
   "cell_type": "code",
   "execution_count": 53,
   "metadata": {},
   "outputs": [],
   "source": [
    "m = mean_squared_error(invers_real['O'], invers_pred['O'], squared=False)\n",
    "df_result_rmse = df_result_rmse.append({'Parameter': 'O', 'Strategy': 'HC', 'Alg':'M+D','rmse':m}, ignore_index=True)"
   ]
  },
  {
   "cell_type": "code",
   "execution_count": 54,
   "metadata": {},
   "outputs": [],
   "source": [
    "m = mean_squared_error(invers_real['T'], invers_pred['T'], squared=False)\n",
    "df_result_rmse = df_result_rmse.append({'Parameter': 'T', 'Strategy': 'HC', 'Alg':'M+D','rmse':m}, ignore_index=True)"
   ]
  },
  {
   "source": [
    "# EVO"
   ],
   "cell_type": "markdown",
   "metadata": {}
  },
  {
   "source": [
    "# Дискретная стурктура + смешанные параметры"
   ],
   "cell_type": "markdown",
   "metadata": {}
  },
  {
   "cell_type": "code",
   "execution_count": 55,
   "metadata": {},
   "outputs": [
    {
     "output_type": "stream",
     "name": "stdout",
     "text": [
      "Cannot add to history: 'str' object has no attribute 'operation_type'\n",
      "Best metric is 5.9702\n",
      "Generation num: 0\n",
      "max_depth: 3, no improvements: 0\n",
      "Cannot add to history: 'str' object has no attribute 'operation_type'\n",
      "spent time: 0.1 min\n",
      "Best metric is 4.8734\n",
      "Generation num: 1\n",
      "max_depth: 3, no improvements: 0\n",
      "Number of crossover attempts exceeded. Please check composer requirements for correctness.\n",
      "Cannot add to history: 'str' object has no attribute 'operation_type'\n",
      "spent time: 0.1 min\n",
      "Best metric is 4.485099999999999\n",
      "Generation num: 2\n",
      "max_depth: 3, no improvements: 0\n",
      "Number of crossover attempts exceeded. Please check composer requirements for correctness.\n",
      "Cannot add to history: 'str' object has no attribute 'operation_type'\n",
      "spent time: 0.2 min\n",
      "Best metric is 4.485099999999999\n",
      "Generation num: 3\n",
      "max_depth: 3, no improvements: 1\n",
      "Cannot add to history: 'str' object has no attribute 'operation_type'\n",
      "spent time: 0.2 min\n",
      "Best metric is 3.8271\n",
      "Generation num: 4\n",
      "max_depth: 3, no improvements: 0\n",
      "Cannot add to history: 'str' object has no attribute 'operation_type'\n",
      "spent time: 0.3 min\n",
      "Best metric is 3.8271\n",
      "Generation num: 5\n",
      "max_depth: 3, no improvements: 1\n",
      "Cannot add to history: 'str' object has no attribute 'operation_type'\n",
      "spent time: 0.4 min\n",
      "Best metric is 3.8271\n",
      "Generation num: 6\n",
      "max_depth: 3, no improvements: 2\n",
      "Cannot add to history: 'str' object has no attribute 'operation_type'\n",
      "spent time: 0.4 min\n",
      "Best metric is 3.8271\n",
      "Generation num: 7\n",
      "max_depth: 3, no improvements: 3\n",
      "Number of mutation attempts exceeded. Please check composer requirements for correctness.\n",
      "Number of mutation attempts exceeded. Please check composer requirements for correctness.\n",
      "Cannot add to history: 'str' object has no attribute 'operation_type'\n",
      "spent time: 0.5 min\n",
      "Best metric is 3.8271\n",
      "Generation num: 8\n",
      "max_depth: 3, no improvements: 4\n",
      "Number of mutation attempts exceeded. Please check composer requirements for correctness.\n",
      "Number of mutation attempts exceeded. Please check composer requirements for correctness.\n",
      "Cannot add to history: 'str' object has no attribute 'operation_type'\n",
      "spent time: 0.6 min\n",
      "Best metric is 3.8271\n",
      "Generation num: 9\n",
      "max_depth: 3, no improvements: 5\n",
      "Number of mutation attempts exceeded. Please check composer requirements for correctness.\n",
      "Cannot add to history: 'str' object has no attribute 'operation_type'\n",
      "spent time: 0.6 min\n",
      "Best metric is 3.8271\n",
      "Generation num: 10\n",
      "max_depth: 3, no improvements: 6\n",
      "Cannot add to history: 'str' object has no attribute 'operation_type'\n",
      "spent time: 0.7 min\n",
      "Best metric is 3.8271\n",
      "Generation num: 11\n",
      "max_depth: 3, no improvements: 7\n",
      "Cannot add to history: 'str' object has no attribute 'operation_type'\n",
      "spent time: 0.8 min\n",
      "Best metric is 3.8271\n",
      "Generation num: 12\n",
      "max_depth: 3, no improvements: 8\n",
      "Cannot add to history: 'str' object has no attribute 'operation_type'\n",
      "spent time: 0.9 min\n",
      "Best metric is 3.7839\n",
      "Generation num: 13\n",
      "max_depth: 3, no improvements: 0\n",
      "Cannot add to history: 'str' object has no attribute 'operation_type'\n",
      "spent time: 0.9 min\n",
      "Best metric is 3.7839\n",
      "Generation num: 14\n",
      "max_depth: 3, no improvements: 1\n",
      "Cannot add to history: 'str' object has no attribute 'operation_type'\n",
      "spent time: 1.0 min\n",
      "Best metric is 3.7839\n",
      "Generation num: 15\n",
      "max_depth: 3, no improvements: 2\n",
      "Cannot add to history: 'str' object has no attribute 'operation_type'\n",
      "spent time: 1.0 min\n",
      "Best metric is 3.7839\n",
      "Generation num: 16\n",
      "max_depth: 3, no improvements: 3\n",
      "Number of mutation attempts exceeded. Please check composer requirements for correctness.\n",
      "Cannot add to history: 'str' object has no attribute 'operation_type'\n",
      "spent time: 1.1 min\n",
      "Best metric is 3.7839\n",
      "Generation num: 17\n",
      "max_depth: 3, no improvements: 4\n",
      "Number of mutation attempts exceeded. Please check composer requirements for correctness.\n",
      "Cannot add to history: 'str' object has no attribute 'operation_type'\n",
      "spent time: 1.2 min\n",
      "Best metric is 3.7839\n",
      "Generation num: 18\n",
      "max_depth: 3, no improvements: 5\n",
      "Cannot add to history: 'str' object has no attribute 'operation_type'\n",
      "spent time: 1.3 min\n",
      "Best metric is 3.3970000000000002\n",
      "Generation num: 19\n",
      "max_depth: 3, no improvements: 0\n",
      "Number of mutation attempts exceeded. Please check composer requirements for correctness.\n",
      "Cannot add to history: 'str' object has no attribute 'operation_type'\n",
      "spent time: 1.4 min\n",
      "Best metric is 3.3970000000000002\n",
      "Generation num: 20\n",
      "max_depth: 3, no improvements: 1\n",
      "Number of mutation attempts exceeded. Please check composer requirements for correctness.\n",
      "Cannot add to history: 'str' object has no attribute 'operation_type'\n",
      "spent time: 1.4 min\n",
      "Best metric is 3.3970000000000002\n",
      "Generation num: 21\n",
      "max_depth: 3, no improvements: 2\n",
      "Number of mutation attempts exceeded. Please check composer requirements for correctness.\n",
      "Cannot add to history: 'str' object has no attribute 'operation_type'\n",
      "spent time: 1.5 min\n",
      "Best metric is 3.3970000000000002\n",
      "Generation num: 22\n",
      "max_depth: 3, no improvements: 3\n",
      "Number of mutation attempts exceeded. Please check composer requirements for correctness.\n",
      "Cannot add to history: 'str' object has no attribute 'operation_type'\n",
      "spent time: 1.6 min\n",
      "Best metric is 3.3970000000000002\n",
      "Generation num: 23\n",
      "max_depth: 3, no improvements: 4\n",
      "Cannot add to history: 'str' object has no attribute 'operation_type'\n",
      "spent time: 1.6 min\n",
      "Best metric is 3.3970000000000002\n",
      "Generation num: 24\n",
      "max_depth: 3, no improvements: 5\n",
      "Number of mutation attempts exceeded. Please check composer requirements for correctness.\n",
      "Cannot add to history: 'str' object has no attribute 'operation_type'\n",
      "spent time: 1.7 min\n",
      "Best metric is 3.3970000000000002\n",
      "Generation num: 25\n",
      "max_depth: 3, no improvements: 6\n",
      "Number of mutation attempts exceeded. Please check composer requirements for correctness.\n",
      "Cannot add to history: 'str' object has no attribute 'operation_type'\n",
      "spent time: 1.8 min\n",
      "Best metric is 3.3970000000000002\n",
      "Generation num: 26\n",
      "max_depth: 3, no improvements: 7\n",
      "Number of mutation attempts exceeded. Please check composer requirements for correctness.\n",
      "Number of mutation attempts exceeded. Please check composer requirements for correctness.\n",
      "Cannot add to history: 'str' object has no attribute 'operation_type'\n",
      "spent time: 1.9 min\n",
      "Best metric is 3.3970000000000002\n",
      "Generation num: 27\n",
      "max_depth: 3, no improvements: 8\n",
      "Number of mutation attempts exceeded. Please check composer requirements for correctness.\n",
      "Number of mutation attempts exceeded. Please check composer requirements for correctness.\n",
      "Cannot add to history: 'str' object has no attribute 'operation_type'\n",
      "spent time: 1.9 min\n",
      "Best metric is 3.3970000000000002\n",
      "Generation num: 28\n",
      "max_depth: 3, no improvements: 9\n",
      "Number of mutation attempts exceeded. Please check composer requirements for correctness.\n",
      "Cannot add to history: 'str' object has no attribute 'operation_type'\n",
      "spent time: 2.0 min\n",
      "Best metric is 3.3970000000000002\n",
      "Result:\n",
      "Best metric is 3.3970000000000002\n",
      "Composition time: 2.027 min\n"
     ]
    }
   ],
   "source": [
    "bn_geo = structure_learning(geo_discrete, 'evo', 'MI', geo_types)"
   ]
  },
  {
   "cell_type": "code",
   "execution_count": 56,
   "metadata": {},
   "outputs": [
    {
     "output_type": "display_data",
     "data": {
      "text/plain": "<Figure size 2025x225 with 1 Axes>",
      "image/svg+xml": "<?xml version=\"1.0\" encoding=\"utf-8\" standalone=\"no\"?>\r\n<!DOCTYPE svg PUBLIC \"-//W3C//DTD SVG 1.1//EN\"\r\n  \"http://www.w3.org/Graphics/SVG/1.1/DTD/svg11.dtd\">\r\n<!-- Created with matplotlib (https://matplotlib.org/) -->\r\n<svg height=\"100.8pt\" version=\"1.1\" viewBox=\"0 0 964.8 100.8\" width=\"964.8pt\" xmlns=\"http://www.w3.org/2000/svg\" xmlns:xlink=\"http://www.w3.org/1999/xlink\">\r\n <metadata>\r\n  <rdf:RDF xmlns:cc=\"http://creativecommons.org/ns#\" xmlns:dc=\"http://purl.org/dc/elements/1.1/\" xmlns:rdf=\"http://www.w3.org/1999/02/22-rdf-syntax-ns#\">\r\n   <cc:Work>\r\n    <dc:type rdf:resource=\"http://purl.org/dc/dcmitype/StillImage\"/>\r\n    <dc:date>2021-05-01T16:49:14.275143</dc:date>\r\n    <dc:format>image/svg+xml</dc:format>\r\n    <dc:creator>\r\n     <cc:Agent>\r\n      <dc:title>Matplotlib v3.3.4, https://matplotlib.org/</dc:title>\r\n     </cc:Agent>\r\n    </dc:creator>\r\n   </cc:Work>\r\n  </rdf:RDF>\r\n </metadata>\r\n <defs>\r\n  <style type=\"text/css\">*{stroke-linecap:butt;stroke-linejoin:round;}</style>\r\n </defs>\r\n <g id=\"figure_1\">\r\n  <g id=\"patch_1\">\r\n   <path d=\"M 0 100.8 \r\nL 964.8 100.8 \r\nL 964.8 0 \r\nL 0 0 \r\nz\r\n\" style=\"fill:none;\"/>\r\n  </g>\r\n  <g id=\"axes_1\">\r\n   <g id=\"legend_1\">\r\n    <g id=\"patch_2\">\r\n     <path d=\"M 421.545312 59.239062 \r\nL 543.254687 59.239062 \r\nQ 545.254687 59.239062 545.254687 57.239062 \r\nL 545.254687 43.560937 \r\nQ 545.254687 41.560937 543.254687 41.560937 \r\nL 421.545312 41.560937 \r\nQ 419.545312 41.560937 419.545312 43.560937 \r\nL 419.545312 57.239062 \r\nQ 419.545312 59.239062 421.545312 59.239062 \r\nz\r\n\" style=\"fill:#ffffff;opacity:0.8;stroke:#cccccc;stroke-linejoin:miter;\"/>\r\n    </g>\r\n    <g id=\"patch_3\">\r\n     <path d=\"M 423.545312 53.159375 \r\nL 443.545312 53.159375 \r\nL 443.545312 46.159375 \r\nL 423.545312 46.159375 \r\nz\r\n\" style=\"fill:#2ca02c;stroke:#2ca02c;stroke-linejoin:miter;\"/>\r\n    </g>\r\n    <g id=\"text_1\">\r\n     <!-- disc -->\r\n     <g transform=\"translate(451.545312 53.159375)scale(0.1 -0.1)\">\r\n      <defs>\r\n       <path d=\"M 45.40625 46.390625 \r\nL 45.40625 75.984375 \r\nL 54.390625 75.984375 \r\nL 54.390625 0 \r\nL 45.40625 0 \r\nL 45.40625 8.203125 \r\nQ 42.578125 3.328125 38.25 0.953125 \r\nQ 33.9375 -1.421875 27.875 -1.421875 \r\nQ 17.96875 -1.421875 11.734375 6.484375 \r\nQ 5.515625 14.40625 5.515625 27.296875 \r\nQ 5.515625 40.1875 11.734375 48.09375 \r\nQ 17.96875 56 27.875 56 \r\nQ 33.9375 56 38.25 53.625 \r\nQ 42.578125 51.265625 45.40625 46.390625 \r\nz\r\nM 14.796875 27.296875 \r\nQ 14.796875 17.390625 18.875 11.75 \r\nQ 22.953125 6.109375 30.078125 6.109375 \r\nQ 37.203125 6.109375 41.296875 11.75 \r\nQ 45.40625 17.390625 45.40625 27.296875 \r\nQ 45.40625 37.203125 41.296875 42.84375 \r\nQ 37.203125 48.484375 30.078125 48.484375 \r\nQ 22.953125 48.484375 18.875 42.84375 \r\nQ 14.796875 37.203125 14.796875 27.296875 \r\nz\r\n\" id=\"DejaVuSans-100\"/>\r\n       <path d=\"M 9.421875 54.6875 \r\nL 18.40625 54.6875 \r\nL 18.40625 0 \r\nL 9.421875 0 \r\nz\r\nM 9.421875 75.984375 \r\nL 18.40625 75.984375 \r\nL 18.40625 64.59375 \r\nL 9.421875 64.59375 \r\nz\r\n\" id=\"DejaVuSans-105\"/>\r\n       <path d=\"M 44.28125 53.078125 \r\nL 44.28125 44.578125 \r\nQ 40.484375 46.53125 36.375 47.5 \r\nQ 32.28125 48.484375 27.875 48.484375 \r\nQ 21.1875 48.484375 17.84375 46.4375 \r\nQ 14.5 44.390625 14.5 40.28125 \r\nQ 14.5 37.15625 16.890625 35.375 \r\nQ 19.28125 33.59375 26.515625 31.984375 \r\nL 29.59375 31.296875 \r\nQ 39.15625 29.25 43.1875 25.515625 \r\nQ 47.21875 21.78125 47.21875 15.09375 \r\nQ 47.21875 7.46875 41.1875 3.015625 \r\nQ 35.15625 -1.421875 24.609375 -1.421875 \r\nQ 20.21875 -1.421875 15.453125 -0.5625 \r\nQ 10.6875 0.296875 5.421875 2 \r\nL 5.421875 11.28125 \r\nQ 10.40625 8.6875 15.234375 7.390625 \r\nQ 20.0625 6.109375 24.8125 6.109375 \r\nQ 31.15625 6.109375 34.5625 8.28125 \r\nQ 37.984375 10.453125 37.984375 14.40625 \r\nQ 37.984375 18.0625 35.515625 20.015625 \r\nQ 33.0625 21.96875 24.703125 23.78125 \r\nL 21.578125 24.515625 \r\nQ 13.234375 26.265625 9.515625 29.90625 \r\nQ 5.8125 33.546875 5.8125 39.890625 \r\nQ 5.8125 47.609375 11.28125 51.796875 \r\nQ 16.75 56 26.8125 56 \r\nQ 31.78125 56 36.171875 55.265625 \r\nQ 40.578125 54.546875 44.28125 53.078125 \r\nz\r\n\" id=\"DejaVuSans-115\"/>\r\n       <path d=\"M 48.78125 52.59375 \r\nL 48.78125 44.1875 \r\nQ 44.96875 46.296875 41.140625 47.34375 \r\nQ 37.3125 48.390625 33.40625 48.390625 \r\nQ 24.65625 48.390625 19.8125 42.84375 \r\nQ 14.984375 37.3125 14.984375 27.296875 \r\nQ 14.984375 17.28125 19.8125 11.734375 \r\nQ 24.65625 6.203125 33.40625 6.203125 \r\nQ 37.3125 6.203125 41.140625 7.25 \r\nQ 44.96875 8.296875 48.78125 10.40625 \r\nL 48.78125 2.09375 \r\nQ 45.015625 0.34375 40.984375 -0.53125 \r\nQ 36.96875 -1.421875 32.421875 -1.421875 \r\nQ 20.0625 -1.421875 12.78125 6.34375 \r\nQ 5.515625 14.109375 5.515625 27.296875 \r\nQ 5.515625 40.671875 12.859375 48.328125 \r\nQ 20.21875 56 33.015625 56 \r\nQ 37.15625 56 41.109375 55.140625 \r\nQ 45.0625 54.296875 48.78125 52.59375 \r\nz\r\n\" id=\"DejaVuSans-99\"/>\r\n      </defs>\r\n      <use xlink:href=\"#DejaVuSans-100\"/>\r\n      <use x=\"63.476562\" xlink:href=\"#DejaVuSans-105\"/>\r\n      <use x=\"91.259766\" xlink:href=\"#DejaVuSans-115\"/>\r\n      <use x=\"143.359375\" xlink:href=\"#DejaVuSans-99\"/>\r\n     </g>\r\n    </g>\r\n    <g id=\"patch_4\">\r\n     <path d=\"M 491.379687 53.159375 \r\nL 511.379687 53.159375 \r\nL 511.379687 46.159375 \r\nL 491.379687 46.159375 \r\nz\r\n\" style=\"fill:#e377c2;stroke:#e377c2;stroke-linejoin:miter;\"/>\r\n    </g>\r\n    <g id=\"text_2\">\r\n     <!-- cont -->\r\n     <g transform=\"translate(519.379687 53.159375)scale(0.1 -0.1)\">\r\n      <defs>\r\n       <path d=\"M 30.609375 48.390625 \r\nQ 23.390625 48.390625 19.1875 42.75 \r\nQ 14.984375 37.109375 14.984375 27.296875 \r\nQ 14.984375 17.484375 19.15625 11.84375 \r\nQ 23.34375 6.203125 30.609375 6.203125 \r\nQ 37.796875 6.203125 41.984375 11.859375 \r\nQ 46.1875 17.53125 46.1875 27.296875 \r\nQ 46.1875 37.015625 41.984375 42.703125 \r\nQ 37.796875 48.390625 30.609375 48.390625 \r\nz\r\nM 30.609375 56 \r\nQ 42.328125 56 49.015625 48.375 \r\nQ 55.71875 40.765625 55.71875 27.296875 \r\nQ 55.71875 13.875 49.015625 6.21875 \r\nQ 42.328125 -1.421875 30.609375 -1.421875 \r\nQ 18.84375 -1.421875 12.171875 6.21875 \r\nQ 5.515625 13.875 5.515625 27.296875 \r\nQ 5.515625 40.765625 12.171875 48.375 \r\nQ 18.84375 56 30.609375 56 \r\nz\r\n\" id=\"DejaVuSans-111\"/>\r\n       <path d=\"M 54.890625 33.015625 \r\nL 54.890625 0 \r\nL 45.90625 0 \r\nL 45.90625 32.71875 \r\nQ 45.90625 40.484375 42.875 44.328125 \r\nQ 39.84375 48.1875 33.796875 48.1875 \r\nQ 26.515625 48.1875 22.3125 43.546875 \r\nQ 18.109375 38.921875 18.109375 30.90625 \r\nL 18.109375 0 \r\nL 9.078125 0 \r\nL 9.078125 54.6875 \r\nL 18.109375 54.6875 \r\nL 18.109375 46.1875 \r\nQ 21.34375 51.125 25.703125 53.5625 \r\nQ 30.078125 56 35.796875 56 \r\nQ 45.21875 56 50.046875 50.171875 \r\nQ 54.890625 44.34375 54.890625 33.015625 \r\nz\r\n\" id=\"DejaVuSans-110\"/>\r\n       <path d=\"M 18.3125 70.21875 \r\nL 18.3125 54.6875 \r\nL 36.8125 54.6875 \r\nL 36.8125 47.703125 \r\nL 18.3125 47.703125 \r\nL 18.3125 18.015625 \r\nQ 18.3125 11.328125 20.140625 9.421875 \r\nQ 21.96875 7.515625 27.59375 7.515625 \r\nL 36.8125 7.515625 \r\nL 36.8125 0 \r\nL 27.59375 0 \r\nQ 17.1875 0 13.234375 3.875 \r\nQ 9.28125 7.765625 9.28125 18.015625 \r\nL 9.28125 47.703125 \r\nL 2.6875 47.703125 \r\nL 2.6875 54.6875 \r\nL 9.28125 54.6875 \r\nL 9.28125 70.21875 \r\nz\r\n\" id=\"DejaVuSans-116\"/>\r\n      </defs>\r\n      <use xlink:href=\"#DejaVuSans-99\"/>\r\n      <use x=\"54.980469\" xlink:href=\"#DejaVuSans-111\"/>\r\n      <use x=\"116.162109\" xlink:href=\"#DejaVuSans-110\"/>\r\n      <use x=\"179.541016\" xlink:href=\"#DejaVuSans-116\"/>\r\n     </g>\r\n    </g>\r\n   </g>\r\n  </g>\r\n </g>\r\n</svg>\r\n",
      "image/png": "[encoded data removed]"
     },
     "metadata": {
      "needs_background": "light"
     }
    },
    {
     "output_type": "execute_result",
     "data": {
      "text/plain": [
       "<IPython.lib.display.IFrame at 0x26cd5f18700>"
      ],
      "text/html": "\n        <iframe\n            width=\"100%\"\n            height=\"800px\"\n            src=\"../visualization_result/geo_net.html\"\n            frameborder=\"0\"\n            allowfullscreen\n        ></iframe>\n        "
     },
     "metadata": {},
     "execution_count": 56
    }
   ],
   "source": [
    "draw_BN(bn_geo, geo_types, 'geo_net')"
   ]
  },
  {
   "cell_type": "code",
   "execution_count": 57,
   "metadata": {},
   "outputs": [],
   "source": [
    "params = parameter_learning(geo_train, geo_types, bn_geo)"
   ]
  },
  {
   "cell_type": "code",
   "execution_count": 58,
   "metadata": {},
   "outputs": [],
   "source": [
    "save_structure(bn_geo, 'geo_net')\n",
    "skel = read_structure('geo_net')\n",
    "save_params(params, 'geo_net_param')\n",
    "params = read_params('geo_net_param')\n",
    "geo_bn = HyBayesianNetwork(skel, params)"
   ]
  },
  {
   "cell_type": "code",
   "execution_count": 59,
   "metadata": {},
   "outputs": [],
   "source": [
    "acc, rmse, real_data, pred_data = calculate_acc(geo_bn, geo_test, columns)"
   ]
  },
  {
   "cell_type": "code",
   "execution_count": 60,
   "metadata": {},
   "outputs": [
    {
     "output_type": "execute_result",
     "data": {
      "text/plain": [
       "{'A': 0.37, 'C': 0.75, 'H': 0.78}"
      ]
     },
     "metadata": {},
     "execution_count": 60
    }
   ],
   "source": [
    "acc"
   ]
  },
  {
   "cell_type": "code",
   "execution_count": 61,
   "metadata": {},
   "outputs": [
    {
     "output_type": "execute_result",
     "data": {
      "text/plain": [
       "{'D': 2.65, 'I': 1064.9, 'O': 42.13, 'T': 112.27}"
      ]
     },
     "metadata": {},
     "execution_count": 61
    }
   ],
   "source": [
    "rmse"
   ]
  },
  {
   "cell_type": "code",
   "execution_count": 62,
   "metadata": {},
   "outputs": [],
   "source": [
    "for key in acc.keys():\n",
    "    df_result_accuracy = df_result_accuracy.append({'Parameter': key, 'Strategy': 'evo', 'Alg':'D+M','accuracy':acc[key]}, ignore_index=True)\n",
    "for key in rmse.keys():\n",
    "    df_result_rmse = df_result_rmse.append({'Parameter': key, 'Strategy': 'evo', 'Alg':'D+M','rmse':rmse[key]}, ignore_index=True)"
   ]
  },
  {
   "source": [
    "# Смешанная структура + смешанные параметры"
   ],
   "cell_type": "markdown",
   "metadata": {}
  },
  {
   "cell_type": "code",
   "execution_count": 63,
   "metadata": {},
   "outputs": [
    {
     "output_type": "stream",
     "name": "stdout",
     "text": [
      "Cannot add to history: 'str' object has no attribute 'operation_type'\n",
      "Best metric is 19.347865810878393\n",
      "Generation num: 0\n",
      "max_depth: 3, no improvements: 0\n",
      "Number of crossover attempts exceeded. Please check composer requirements for correctness.\n",
      "Cannot add to history: 'str' object has no attribute 'operation_type'\n",
      "spent time: 0.3 min\n",
      "Best metric is 15.432481475188522\n",
      "Generation num: 1\n",
      "max_depth: 3, no improvements: 0\n",
      "Number of crossover attempts exceeded. Please check composer requirements for correctness.\n",
      "Cannot add to history: 'str' object has no attribute 'operation_type'\n",
      "spent time: 0.5 min\n",
      "Best metric is 15.432481475188522\n",
      "Generation num: 2\n",
      "max_depth: 3, no improvements: 1\n",
      "Number of crossover attempts exceeded. Please check composer requirements for correctness.\n",
      "Number of crossover attempts exceeded. Please check composer requirements for correctness.\n",
      "Number of crossover attempts exceeded. Please check composer requirements for correctness.\n",
      "Cannot add to history: 'str' object has no attribute 'operation_type'\n",
      "spent time: 0.7 min\n",
      "Best metric is 15.363464966724209\n",
      "Generation num: 3\n",
      "max_depth: 3, no improvements: 0\n",
      "Number of crossover attempts exceeded. Please check composer requirements for correctness.\n",
      "Number of crossover attempts exceeded. Please check composer requirements for correctness.\n",
      "Cannot add to history: 'str' object has no attribute 'operation_type'\n",
      "spent time: 0.8 min\n",
      "Best metric is 13.292300015537462\n",
      "Generation num: 4\n",
      "max_depth: 3, no improvements: 0\n",
      "Number of crossover attempts exceeded. Please check composer requirements for correctness.\n",
      "Number of crossover attempts exceeded. Please check composer requirements for correctness.\n",
      "Number of crossover attempts exceeded. Please check composer requirements for correctness.\n",
      "Cannot add to history: 'str' object has no attribute 'operation_type'\n",
      "spent time: 1.0 min\n",
      "Best metric is 11.089861473486405\n",
      "Generation num: 5\n",
      "max_depth: 3, no improvements: 0\n",
      "Cannot add to history: 'str' object has no attribute 'operation_type'\n",
      "spent time: 1.2 min\n",
      "Best metric is 11.089861473486405\n",
      "Generation num: 6\n",
      "max_depth: 3, no improvements: 1\n",
      "Cannot add to history: 'str' object has no attribute 'operation_type'\n",
      "spent time: 1.5 min\n",
      "Best metric is 11.089861473486405\n",
      "Generation num: 7\n",
      "max_depth: 3, no improvements: 2\n",
      "Cannot add to history: 'str' object has no attribute 'operation_type'\n",
      "spent time: 1.6 min\n",
      "Best metric is 11.089861473486405\n",
      "Generation num: 8\n",
      "max_depth: 3, no improvements: 3\n",
      "Cannot add to history: 'str' object has no attribute 'operation_type'\n",
      "spent time: 1.8 min\n",
      "Best metric is 11.089861473486405\n",
      "Generation num: 9\n",
      "max_depth: 3, no improvements: 4\n",
      "Number of mutation attempts exceeded. Please check composer requirements for correctness.\n",
      "Cannot add to history: 'str' object has no attribute 'operation_type'\n",
      "spent time: 2.0 min\n",
      "Best metric is 11.089861473486405\n",
      "Generation num: 10\n",
      "max_depth: 3, no improvements: 5\n",
      "Cannot add to history: 'str' object has no attribute 'operation_type'\n",
      "spent time: 2.3 min\n",
      "Best metric is 11.089861473486405\n",
      "Generation num: 11\n",
      "max_depth: 3, no improvements: 6\n",
      "Number of mutation attempts exceeded. Please check composer requirements for correctness.\n",
      "Cannot add to history: 'str' object has no attribute 'operation_type'\n",
      "spent time: 2.5 min\n",
      "Best metric is 11.089861473486405\n",
      "Generation num: 12\n",
      "max_depth: 3, no improvements: 7\n",
      "Number of mutation attempts exceeded. Please check composer requirements for correctness.\n",
      "Number of mutation attempts exceeded. Please check composer requirements for correctness.\n",
      "Cannot add to history: 'str' object has no attribute 'operation_type'\n",
      "spent time: 2.7 min\n",
      "Best metric is 11.089861473486405\n",
      "Generation num: 13\n",
      "max_depth: 3, no improvements: 8\n",
      "Number of mutation attempts exceeded. Please check composer requirements for correctness.\n",
      "Number of mutation attempts exceeded. Please check composer requirements for correctness.\n",
      "Cannot add to history: 'str' object has no attribute 'operation_type'\n",
      "spent time: 2.9 min\n",
      "Best metric is 11.089861473486405\n",
      "Generation num: 14\n",
      "max_depth: 3, no improvements: 9\n",
      "Number of mutation attempts exceeded. Please check composer requirements for correctness.\n",
      "Number of mutation attempts exceeded. Please check composer requirements for correctness.\n",
      "Number of mutation attempts exceeded. Please check composer requirements for correctness.\n",
      "Cannot add to history: 'str' object has no attribute 'operation_type'\n",
      "spent time: 3.2 min\n",
      "Best metric is 11.089861473486405\n",
      "Generation num: 15\n",
      "max_depth: 3, no improvements: 10\n",
      "Number of mutation attempts exceeded. Please check composer requirements for correctness.\n",
      "Number of mutation attempts exceeded. Please check composer requirements for correctness.\n",
      "Cannot add to history: 'str' object has no attribute 'operation_type'\n",
      "spent time: 3.4 min\n",
      "Best metric is 11.089861473486405\n",
      "Generation num: 16\n",
      "max_depth: 3, no improvements: 11\n",
      "Number of mutation attempts exceeded. Please check composer requirements for correctness.\n",
      "Number of mutation attempts exceeded. Please check composer requirements for correctness.\n",
      "Cannot add to history: 'str' object has no attribute 'operation_type'\n",
      "spent time: 3.6 min\n",
      "Best metric is 11.040698640361697\n",
      "Generation num: 17\n",
      "max_depth: 3, no improvements: 0\n",
      "Number of mutation attempts exceeded. Please check composer requirements for correctness.\n",
      "Number of mutation attempts exceeded. Please check composer requirements for correctness.\n",
      "Number of mutation attempts exceeded. Please check composer requirements for correctness.\n",
      "Cannot add to history: 'str' object has no attribute 'operation_type'\n",
      "spent time: 3.9 min\n",
      "Best metric is 11.040698640361697\n",
      "Generation num: 18\n",
      "max_depth: 3, no improvements: 1\n",
      "Number of mutation attempts exceeded. Please check composer requirements for correctness.\n",
      "Number of mutation attempts exceeded. Please check composer requirements for correctness.\n",
      "Number of mutation attempts exceeded. Please check composer requirements for correctness.\n",
      "Number of mutation attempts exceeded. Please check composer requirements for correctness.\n",
      "Cannot add to history: 'str' object has no attribute 'operation_type'\n",
      "spent time: 4.1 min\n",
      "Best metric is 11.040698640361697\n",
      "Generation num: 19\n",
      "max_depth: 3, no improvements: 2\n",
      "Cannot add to history: 'str' object has no attribute 'operation_type'\n",
      "spent time: 4.4 min\n",
      "Best metric is 11.040698640361697\n",
      "Generation num: 20\n",
      "max_depth: 3, no improvements: 3\n",
      "Number of mutation attempts exceeded. Please check composer requirements for correctness.\n",
      "Number of mutation attempts exceeded. Please check composer requirements for correctness.\n",
      "Cannot add to history: 'str' object has no attribute 'operation_type'\n",
      "spent time: 4.6 min\n",
      "Best metric is 11.040698640361697\n",
      "Generation num: 21\n",
      "max_depth: 3, no improvements: 4\n",
      "Number of mutation attempts exceeded. Please check composer requirements for correctness.\n",
      "Number of mutation attempts exceeded. Please check composer requirements for correctness.\n",
      "Number of mutation attempts exceeded. Please check composer requirements for correctness.\n",
      "Number of mutation attempts exceeded. Please check composer requirements for correctness.\n",
      "Number of mutation attempts exceeded. Please check composer requirements for correctness.\n",
      "Cannot add to history: 'str' object has no attribute 'operation_type'\n",
      "spent time: 4.8 min\n",
      "Best metric is 11.040698640361697\n",
      "Generation num: 22\n",
      "max_depth: 3, no improvements: 5\n",
      "Number of mutation attempts exceeded. Please check composer requirements for correctness.\n",
      "Number of mutation attempts exceeded. Please check composer requirements for correctness.\n",
      "Number of mutation attempts exceeded. Please check composer requirements for correctness.\n",
      "Number of mutation attempts exceeded. Please check composer requirements for correctness.\n",
      "Cannot add to history: 'str' object has no attribute 'operation_type'\n",
      "spent time: 5.0 min\n",
      "Best metric is 11.040698640361697\n",
      "Generation num: 23\n",
      "max_depth: 3, no improvements: 6\n",
      "Number of mutation attempts exceeded. Please check composer requirements for correctness.\n",
      "Number of mutation attempts exceeded. Please check composer requirements for correctness.\n",
      "Number of mutation attempts exceeded. Please check composer requirements for correctness.\n",
      "Cannot add to history: 'str' object has no attribute 'operation_type'\n",
      "spent time: 5.3 min\n",
      "Best metric is 11.040698640361697\n",
      "Generation num: 24\n",
      "max_depth: 3, no improvements: 7\n",
      "Number of mutation attempts exceeded. Please check composer requirements for correctness.\n",
      "Number of mutation attempts exceeded. Please check composer requirements for correctness.\n",
      "Cannot add to history: 'str' object has no attribute 'operation_type'\n",
      "spent time: 5.5 min\n",
      "Best metric is 11.040698640361697\n",
      "Generation num: 25\n",
      "max_depth: 3, no improvements: 8\n",
      "Number of mutation attempts exceeded. Please check composer requirements for correctness.\n",
      "Number of mutation attempts exceeded. Please check composer requirements for correctness.\n",
      "Number of mutation attempts exceeded. Please check composer requirements for correctness.\n",
      "Number of mutation attempts exceeded. Please check composer requirements for correctness.\n",
      "Number of mutation attempts exceeded. Please check composer requirements for correctness.\n",
      "Number of mutation attempts exceeded. Please check composer requirements for correctness.\n",
      "Number of mutation attempts exceeded. Please check composer requirements for correctness.\n",
      "Cannot add to history: 'str' object has no attribute 'operation_type'\n",
      "spent time: 5.8 min\n",
      "Best metric is 11.040698640361697\n",
      "Generation num: 26\n",
      "max_depth: 3, no improvements: 9\n",
      "Number of mutation attempts exceeded. Please check composer requirements for correctness.\n",
      "Number of mutation attempts exceeded. Please check composer requirements for correctness.\n",
      "Number of mutation attempts exceeded. Please check composer requirements for correctness.\n",
      "Cannot add to history: 'str' object has no attribute 'operation_type'\n",
      "spent time: 6.0 min\n",
      "Best metric is 11.040698640361697\n",
      "Generation num: 27\n",
      "max_depth: 3, no improvements: 10\n",
      "Number of mutation attempts exceeded. Please check composer requirements for correctness.\n",
      "Cannot add to history: 'str' object has no attribute 'operation_type'\n",
      "spent time: 6.2 min\n",
      "Best metric is 11.040698640361697\n",
      "Generation num: 28\n",
      "max_depth: 3, no improvements: 11\n",
      "Number of mutation attempts exceeded. Please check composer requirements for correctness.\n",
      "Number of mutation attempts exceeded. Please check composer requirements for correctness.\n",
      "Cannot add to history: 'str' object has no attribute 'operation_type'\n",
      "spent time: 6.5 min\n",
      "Best metric is 11.040698640361697\n",
      "Result:\n",
      "Best metric is 11.040698640361697\n",
      "Composition time: 6.478 min\n"
     ]
    }
   ],
   "source": [
    "bn_geo = structure_learning(geo_coded, 'evo', 'MI', geo_types)"
   ]
  },
  {
   "cell_type": "code",
   "execution_count": 64,
   "metadata": {},
   "outputs": [
    {
     "output_type": "display_data",
     "data": {
      "text/plain": "<Figure size 2025x225 with 1 Axes>",
      "image/svg+xml": "<?xml version=\"1.0\" encoding=\"utf-8\" standalone=\"no\"?>\r\n<!DOCTYPE svg PUBLIC \"-//W3C//DTD SVG 1.1//EN\"\r\n  \"http://www.w3.org/Graphics/SVG/1.1/DTD/svg11.dtd\">\r\n<!-- Created with matplotlib (https://matplotlib.org/) -->\r\n<svg height=\"100.8pt\" version=\"1.1\" viewBox=\"0 0 964.8 100.8\" width=\"964.8pt\" xmlns=\"http://www.w3.org/2000/svg\" xmlns:xlink=\"http://www.w3.org/1999/xlink\">\r\n <metadata>\r\n  <rdf:RDF xmlns:cc=\"http://creativecommons.org/ns#\" xmlns:dc=\"http://purl.org/dc/elements/1.1/\" xmlns:rdf=\"http://www.w3.org/1999/02/22-rdf-syntax-ns#\">\r\n   <cc:Work>\r\n    <dc:type rdf:resource=\"http://purl.org/dc/dcmitype/StillImage\"/>\r\n    <dc:date>2021-05-01T16:57:32.627256</dc:date>\r\n    <dc:format>image/svg+xml</dc:format>\r\n    <dc:creator>\r\n     <cc:Agent>\r\n      <dc:title>Matplotlib v3.3.4, https://matplotlib.org/</dc:title>\r\n     </cc:Agent>\r\n    </dc:creator>\r\n   </cc:Work>\r\n  </rdf:RDF>\r\n </metadata>\r\n <defs>\r\n  <style type=\"text/css\">*{stroke-linecap:butt;stroke-linejoin:round;}</style>\r\n </defs>\r\n <g id=\"figure_1\">\r\n  <g id=\"patch_1\">\r\n   <path d=\"M 0 100.8 \r\nL 964.8 100.8 \r\nL 964.8 0 \r\nL 0 0 \r\nz\r\n\" style=\"fill:none;\"/>\r\n  </g>\r\n  <g id=\"axes_1\">\r\n   <g id=\"legend_1\">\r\n    <g id=\"patch_2\">\r\n     <path d=\"M 421.545312 59.239062 \r\nL 543.254687 59.239062 \r\nQ 545.254687 59.239062 545.254687 57.239062 \r\nL 545.254687 43.560937 \r\nQ 545.254687 41.560937 543.254687 41.560937 \r\nL 421.545312 41.560937 \r\nQ 419.545312 41.560937 419.545312 43.560937 \r\nL 419.545312 57.239062 \r\nQ 419.545312 59.239062 421.545312 59.239062 \r\nz\r\n\" style=\"fill:#ffffff;opacity:0.8;stroke:#cccccc;stroke-linejoin:miter;\"/>\r\n    </g>\r\n    <g id=\"patch_3\">\r\n     <path d=\"M 423.545312 53.159375 \r\nL 443.545312 53.159375 \r\nL 443.545312 46.159375 \r\nL 423.545312 46.159375 \r\nz\r\n\" style=\"fill:#2ca02c;stroke:#2ca02c;stroke-linejoin:miter;\"/>\r\n    </g>\r\n    <g id=\"text_1\">\r\n     <!-- disc -->\r\n     <g transform=\"translate(451.545312 53.159375)scale(0.1 -0.1)\">\r\n      <defs>\r\n       <path d=\"M 45.40625 46.390625 \r\nL 45.40625 75.984375 \r\nL 54.390625 75.984375 \r\nL 54.390625 0 \r\nL 45.40625 0 \r\nL 45.40625 8.203125 \r\nQ 42.578125 3.328125 38.25 0.953125 \r\nQ 33.9375 -1.421875 27.875 -1.421875 \r\nQ 17.96875 -1.421875 11.734375 6.484375 \r\nQ 5.515625 14.40625 5.515625 27.296875 \r\nQ 5.515625 40.1875 11.734375 48.09375 \r\nQ 17.96875 56 27.875 56 \r\nQ 33.9375 56 38.25 53.625 \r\nQ 42.578125 51.265625 45.40625 46.390625 \r\nz\r\nM 14.796875 27.296875 \r\nQ 14.796875 17.390625 18.875 11.75 \r\nQ 22.953125 6.109375 30.078125 6.109375 \r\nQ 37.203125 6.109375 41.296875 11.75 \r\nQ 45.40625 17.390625 45.40625 27.296875 \r\nQ 45.40625 37.203125 41.296875 42.84375 \r\nQ 37.203125 48.484375 30.078125 48.484375 \r\nQ 22.953125 48.484375 18.875 42.84375 \r\nQ 14.796875 37.203125 14.796875 27.296875 \r\nz\r\n\" id=\"DejaVuSans-100\"/>\r\n       <path d=\"M 9.421875 54.6875 \r\nL 18.40625 54.6875 \r\nL 18.40625 0 \r\nL 9.421875 0 \r\nz\r\nM 9.421875 75.984375 \r\nL 18.40625 75.984375 \r\nL 18.40625 64.59375 \r\nL 9.421875 64.59375 \r\nz\r\n\" id=\"DejaVuSans-105\"/>\r\n       <path d=\"M 44.28125 53.078125 \r\nL 44.28125 44.578125 \r\nQ 40.484375 46.53125 36.375 47.5 \r\nQ 32.28125 48.484375 27.875 48.484375 \r\nQ 21.1875 48.484375 17.84375 46.4375 \r\nQ 14.5 44.390625 14.5 40.28125 \r\nQ 14.5 37.15625 16.890625 35.375 \r\nQ 19.28125 33.59375 26.515625 31.984375 \r\nL 29.59375 31.296875 \r\nQ 39.15625 29.25 43.1875 25.515625 \r\nQ 47.21875 21.78125 47.21875 15.09375 \r\nQ 47.21875 7.46875 41.1875 3.015625 \r\nQ 35.15625 -1.421875 24.609375 -1.421875 \r\nQ 20.21875 -1.421875 15.453125 -0.5625 \r\nQ 10.6875 0.296875 5.421875 2 \r\nL 5.421875 11.28125 \r\nQ 10.40625 8.6875 15.234375 7.390625 \r\nQ 20.0625 6.109375 24.8125 6.109375 \r\nQ 31.15625 6.109375 34.5625 8.28125 \r\nQ 37.984375 10.453125 37.984375 14.40625 \r\nQ 37.984375 18.0625 35.515625 20.015625 \r\nQ 33.0625 21.96875 24.703125 23.78125 \r\nL 21.578125 24.515625 \r\nQ 13.234375 26.265625 9.515625 29.90625 \r\nQ 5.8125 33.546875 5.8125 39.890625 \r\nQ 5.8125 47.609375 11.28125 51.796875 \r\nQ 16.75 56 26.8125 56 \r\nQ 31.78125 56 36.171875 55.265625 \r\nQ 40.578125 54.546875 44.28125 53.078125 \r\nz\r\n\" id=\"DejaVuSans-115\"/>\r\n       <path d=\"M 48.78125 52.59375 \r\nL 48.78125 44.1875 \r\nQ 44.96875 46.296875 41.140625 47.34375 \r\nQ 37.3125 48.390625 33.40625 48.390625 \r\nQ 24.65625 48.390625 19.8125 42.84375 \r\nQ 14.984375 37.3125 14.984375 27.296875 \r\nQ 14.984375 17.28125 19.8125 11.734375 \r\nQ 24.65625 6.203125 33.40625 6.203125 \r\nQ 37.3125 6.203125 41.140625 7.25 \r\nQ 44.96875 8.296875 48.78125 10.40625 \r\nL 48.78125 2.09375 \r\nQ 45.015625 0.34375 40.984375 -0.53125 \r\nQ 36.96875 -1.421875 32.421875 -1.421875 \r\nQ 20.0625 -1.421875 12.78125 6.34375 \r\nQ 5.515625 14.109375 5.515625 27.296875 \r\nQ 5.515625 40.671875 12.859375 48.328125 \r\nQ 20.21875 56 33.015625 56 \r\nQ 37.15625 56 41.109375 55.140625 \r\nQ 45.0625 54.296875 48.78125 52.59375 \r\nz\r\n\" id=\"DejaVuSans-99\"/>\r\n      </defs>\r\n      <use xlink:href=\"#DejaVuSans-100\"/>\r\n      <use x=\"63.476562\" xlink:href=\"#DejaVuSans-105\"/>\r\n      <use x=\"91.259766\" xlink:href=\"#DejaVuSans-115\"/>\r\n      <use x=\"143.359375\" xlink:href=\"#DejaVuSans-99\"/>\r\n     </g>\r\n    </g>\r\n    <g id=\"patch_4\">\r\n     <path d=\"M 491.379687 53.159375 \r\nL 511.379687 53.159375 \r\nL 511.379687 46.159375 \r\nL 491.379687 46.159375 \r\nz\r\n\" style=\"fill:#e377c2;stroke:#e377c2;stroke-linejoin:miter;\"/>\r\n    </g>\r\n    <g id=\"text_2\">\r\n     <!-- cont -->\r\n     <g transform=\"translate(519.379687 53.159375)scale(0.1 -0.1)\">\r\n      <defs>\r\n       <path d=\"M 30.609375 48.390625 \r\nQ 23.390625 48.390625 19.1875 42.75 \r\nQ 14.984375 37.109375 14.984375 27.296875 \r\nQ 14.984375 17.484375 19.15625 11.84375 \r\nQ 23.34375 6.203125 30.609375 6.203125 \r\nQ 37.796875 6.203125 41.984375 11.859375 \r\nQ 46.1875 17.53125 46.1875 27.296875 \r\nQ 46.1875 37.015625 41.984375 42.703125 \r\nQ 37.796875 48.390625 30.609375 48.390625 \r\nz\r\nM 30.609375 56 \r\nQ 42.328125 56 49.015625 48.375 \r\nQ 55.71875 40.765625 55.71875 27.296875 \r\nQ 55.71875 13.875 49.015625 6.21875 \r\nQ 42.328125 -1.421875 30.609375 -1.421875 \r\nQ 18.84375 -1.421875 12.171875 6.21875 \r\nQ 5.515625 13.875 5.515625 27.296875 \r\nQ 5.515625 40.765625 12.171875 48.375 \r\nQ 18.84375 56 30.609375 56 \r\nz\r\n\" id=\"DejaVuSans-111\"/>\r\n       <path d=\"M 54.890625 33.015625 \r\nL 54.890625 0 \r\nL 45.90625 0 \r\nL 45.90625 32.71875 \r\nQ 45.90625 40.484375 42.875 44.328125 \r\nQ 39.84375 48.1875 33.796875 48.1875 \r\nQ 26.515625 48.1875 22.3125 43.546875 \r\nQ 18.109375 38.921875 18.109375 30.90625 \r\nL 18.109375 0 \r\nL 9.078125 0 \r\nL 9.078125 54.6875 \r\nL 18.109375 54.6875 \r\nL 18.109375 46.1875 \r\nQ 21.34375 51.125 25.703125 53.5625 \r\nQ 30.078125 56 35.796875 56 \r\nQ 45.21875 56 50.046875 50.171875 \r\nQ 54.890625 44.34375 54.890625 33.015625 \r\nz\r\n\" id=\"DejaVuSans-110\"/>\r\n       <path d=\"M 18.3125 70.21875 \r\nL 18.3125 54.6875 \r\nL 36.8125 54.6875 \r\nL 36.8125 47.703125 \r\nL 18.3125 47.703125 \r\nL 18.3125 18.015625 \r\nQ 18.3125 11.328125 20.140625 9.421875 \r\nQ 21.96875 7.515625 27.59375 7.515625 \r\nL 36.8125 7.515625 \r\nL 36.8125 0 \r\nL 27.59375 0 \r\nQ 17.1875 0 13.234375 3.875 \r\nQ 9.28125 7.765625 9.28125 18.015625 \r\nL 9.28125 47.703125 \r\nL 2.6875 47.703125 \r\nL 2.6875 54.6875 \r\nL 9.28125 54.6875 \r\nL 9.28125 70.21875 \r\nz\r\n\" id=\"DejaVuSans-116\"/>\r\n      </defs>\r\n      <use xlink:href=\"#DejaVuSans-99\"/>\r\n      <use x=\"54.980469\" xlink:href=\"#DejaVuSans-111\"/>\r\n      <use x=\"116.162109\" xlink:href=\"#DejaVuSans-110\"/>\r\n      <use x=\"179.541016\" xlink:href=\"#DejaVuSans-116\"/>\r\n     </g>\r\n    </g>\r\n   </g>\r\n  </g>\r\n </g>\r\n</svg>\r\n",
      "image/png": "[encoded data removed]"
     },
     "metadata": {
      "needs_background": "light"
     }
    },
    {
     "output_type": "execute_result",
     "data": {
      "text/plain": [
       "<IPython.lib.display.IFrame at 0x26cd634dbe0>"
      ],
      "text/html": "\n        <iframe\n            width=\"100%\"\n            height=\"800px\"\n            src=\"../visualization_result/geo_net.html\"\n            frameborder=\"0\"\n            allowfullscreen\n        ></iframe>\n        "
     },
     "metadata": {},
     "execution_count": 64
    }
   ],
   "source": [
    "draw_BN(bn_geo, geo_types, 'geo_net')"
   ]
  },
  {
   "cell_type": "code",
   "execution_count": 65,
   "metadata": {},
   "outputs": [],
   "source": [
    "params = parameter_learning(geo_train, geo_types, bn_geo)"
   ]
  },
  {
   "cell_type": "code",
   "execution_count": 66,
   "metadata": {},
   "outputs": [],
   "source": [
    "save_structure(bn_geo, 'geo_net')\n",
    "skel = read_structure('geo_net')\n",
    "save_params(params, 'geo_net_param')\n",
    "params = read_params('geo_net_param')\n",
    "geo_bn = HyBayesianNetwork(skel, params)"
   ]
  },
  {
   "cell_type": "code",
   "execution_count": 67,
   "metadata": {},
   "outputs": [
    {
     "output_type": "stream",
     "name": "stdout",
     "text": [
      "85\n"
     ]
    }
   ],
   "source": [
    "acc, rmse, real, pred = calculate_acc(geo_bn, geo_test, columns)"
   ]
  },
  {
   "cell_type": "code",
   "execution_count": 68,
   "metadata": {},
   "outputs": [
    {
     "output_type": "execute_result",
     "data": {
      "text/plain": [
       "{'A': 0.37, 'C': 0.75, 'H': 0.78}"
      ]
     },
     "metadata": {},
     "execution_count": 68
    }
   ],
   "source": [
    "acc"
   ]
  },
  {
   "cell_type": "code",
   "execution_count": 69,
   "metadata": {},
   "outputs": [
    {
     "output_type": "execute_result",
     "data": {
      "text/plain": [
       "{'D': 2.65, 'I': 10.18, 'O': 95.8, 'T': 426.22}"
      ]
     },
     "metadata": {},
     "execution_count": 69
    }
   ],
   "source": [
    "rmse"
   ]
  },
  {
   "cell_type": "code",
   "execution_count": 70,
   "metadata": {},
   "outputs": [],
   "source": [
    "for key in acc.keys():\n",
    "    df_result_accuracy = df_result_accuracy.append({'Parameter': key, 'Strategy': 'evo', 'Alg':'M+M','accuracy':acc[key]}, ignore_index=True)\n",
    "for key in rmse.keys():\n",
    "    df_result_rmse = df_result_rmse.append({'Parameter': key, 'Strategy': 'evo', 'Alg':'M+M','rmse':rmse[key]}, ignore_index=True)"
   ]
  },
  {
   "source": [
    "# Дискретная структура + дискретные параметры"
   ],
   "cell_type": "markdown",
   "metadata": {}
  },
  {
   "cell_type": "code",
   "execution_count": 71,
   "metadata": {},
   "outputs": [],
   "source": [
    "geo_new_types = {'A': 'disc',\n",
    " 'C': 'disc',\n",
    " 'H': 'disc',\n",
    " 'D': 'disc',\n",
    " 'I': 'disc',\n",
    " 'O': 'disc',\n",
    " 'T': 'disc'}"
   ]
  },
  {
   "cell_type": "code",
   "execution_count": 72,
   "metadata": {},
   "outputs": [
    {
     "output_type": "stream",
     "name": "stdout",
     "text": [
      "Cannot add to history: 'str' object has no attribute 'operation_type'\n",
      "Best metric is 5.310499999999999\n",
      "Generation num: 0\n",
      "max_depth: 3, no improvements: 0\n",
      "Cannot add to history: 'str' object has no attribute 'operation_type'\n",
      "spent time: 0.1 min\n",
      "Best metric is 5.310499999999999\n",
      "Generation num: 1\n",
      "max_depth: 3, no improvements: 1\n",
      "Number of crossover attempts exceeded. Please check composer requirements for correctness.\n",
      "Number of crossover attempts exceeded. Please check composer requirements for correctness.\n",
      "Number of crossover attempts exceeded. Please check composer requirements for correctness.\n",
      "Cannot add to history: 'str' object has no attribute 'operation_type'\n",
      "spent time: 0.1 min\n",
      "Best metric is 4.4919\n",
      "Generation num: 2\n",
      "max_depth: 3, no improvements: 0\n",
      "Cannot add to history: 'str' object has no attribute 'operation_type'\n",
      "spent time: 0.2 min\n",
      "Best metric is 4.4919\n",
      "Generation num: 3\n",
      "max_depth: 3, no improvements: 1\n",
      "Number of mutation attempts exceeded. Please check composer requirements for correctness.\n",
      "Number of crossover attempts exceeded. Please check composer requirements for correctness.\n",
      "Cannot add to history: 'str' object has no attribute 'operation_type'\n",
      "spent time: 0.2 min\n",
      "Best metric is 4.491899999999999\n",
      "Generation num: 4\n",
      "max_depth: 3, no improvements: 2\n",
      "Cannot add to history: 'str' object has no attribute 'operation_type'\n",
      "spent time: 0.3 min\n",
      "Best metric is 4.491899999999999\n",
      "Generation num: 5\n",
      "max_depth: 3, no improvements: 3\n",
      "Cannot add to history: 'str' object has no attribute 'operation_type'\n",
      "spent time: 0.3 min\n",
      "Best metric is 4.491899999999999\n",
      "Generation num: 6\n",
      "max_depth: 3, no improvements: 4\n",
      "Cannot add to history: 'str' object has no attribute 'operation_type'\n",
      "spent time: 0.3 min\n",
      "Best metric is 4.4491\n",
      "Generation num: 7\n",
      "max_depth: 3, no improvements: 0\n",
      "Cannot add to history: 'str' object has no attribute 'operation_type'\n",
      "spent time: 0.4 min\n",
      "Best metric is 4.4491\n",
      "Generation num: 8\n",
      "max_depth: 3, no improvements: 1\n",
      "Cannot add to history: 'str' object has no attribute 'operation_type'\n",
      "spent time: 0.4 min\n",
      "Best metric is 4.4491\n",
      "Generation num: 9\n",
      "max_depth: 3, no improvements: 2\n",
      "Number of crossover attempts exceeded. Please check composer requirements for correctness.\n",
      "Number of mutation attempts exceeded. Please check composer requirements for correctness.\n",
      "Cannot add to history: 'str' object has no attribute 'operation_type'\n",
      "spent time: 0.5 min\n",
      "Best metric is 4.4491\n",
      "Generation num: 10\n",
      "max_depth: 3, no improvements: 3\n",
      "Cannot add to history: 'str' object has no attribute 'operation_type'\n",
      "spent time: 0.5 min\n",
      "Best metric is 4.4491\n",
      "Generation num: 11\n",
      "max_depth: 3, no improvements: 4\n",
      "Cannot add to history: 'str' object has no attribute 'operation_type'\n",
      "spent time: 0.6 min\n",
      "Best metric is 4.4491\n",
      "Generation num: 12\n",
      "max_depth: 3, no improvements: 5\n",
      "Cannot add to history: 'str' object has no attribute 'operation_type'\n",
      "spent time: 0.6 min\n",
      "Best metric is 4.4491\n",
      "Generation num: 13\n",
      "max_depth: 3, no improvements: 6\n",
      "Cannot add to history: 'str' object has no attribute 'operation_type'\n",
      "spent time: 0.6 min\n",
      "Best metric is 4.4491\n",
      "Generation num: 14\n",
      "max_depth: 3, no improvements: 7\n",
      "Cannot add to history: 'str' object has no attribute 'operation_type'\n",
      "spent time: 0.7 min\n",
      "Best metric is 4.4491\n",
      "Generation num: 15\n",
      "max_depth: 3, no improvements: 8\n",
      "Cannot add to history: 'str' object has no attribute 'operation_type'\n",
      "spent time: 0.7 min\n",
      "Best metric is 4.4304\n",
      "Generation num: 16\n",
      "max_depth: 3, no improvements: 0\n",
      "Cannot add to history: 'str' object has no attribute 'operation_type'\n",
      "spent time: 0.8 min\n",
      "Best metric is 4.4304\n",
      "Generation num: 17\n",
      "max_depth: 3, no improvements: 1\n",
      "Cannot add to history: 'str' object has no attribute 'operation_type'\n",
      "spent time: 0.8 min\n",
      "Best metric is 4.4304\n",
      "Generation num: 18\n",
      "max_depth: 3, no improvements: 2\n",
      "Number of mutation attempts exceeded. Please check composer requirements for correctness.\n",
      "Cannot add to history: 'str' object has no attribute 'operation_type'\n",
      "spent time: 0.9 min\n",
      "Best metric is 4.4304\n",
      "Generation num: 19\n",
      "max_depth: 3, no improvements: 3\n",
      "Number of crossover attempts exceeded. Please check composer requirements for correctness.\n",
      "Cannot add to history: 'str' object has no attribute 'operation_type'\n",
      "spent time: 0.9 min\n",
      "Best metric is 4.4304\n",
      "Generation num: 20\n",
      "max_depth: 3, no improvements: 4\n",
      "Cannot add to history: 'str' object has no attribute 'operation_type'\n",
      "spent time: 0.9 min\n",
      "Best metric is 4.4304\n",
      "Generation num: 21\n",
      "max_depth: 3, no improvements: 5\n",
      "Number of mutation attempts exceeded. Please check composer requirements for correctness.\n",
      "Number of mutation attempts exceeded. Please check composer requirements for correctness.\n",
      "Cannot add to history: 'str' object has no attribute 'operation_type'\n",
      "spent time: 1.0 min\n",
      "Best metric is 4.4304\n",
      "Generation num: 22\n",
      "max_depth: 3, no improvements: 6\n",
      "Cannot add to history: 'str' object has no attribute 'operation_type'\n",
      "spent time: 1.0 min\n",
      "Best metric is 4.4304\n",
      "Generation num: 23\n",
      "max_depth: 3, no improvements: 7\n",
      "Cannot add to history: 'str' object has no attribute 'operation_type'\n",
      "spent time: 1.0 min\n",
      "Best metric is 4.4304\n",
      "Generation num: 24\n",
      "max_depth: 3, no improvements: 8\n",
      "Cannot add to history: 'str' object has no attribute 'operation_type'\n",
      "spent time: 1.1 min\n",
      "Best metric is 4.4304\n",
      "Generation num: 25\n",
      "max_depth: 3, no improvements: 9\n",
      "Cannot add to history: 'str' object has no attribute 'operation_type'\n",
      "spent time: 1.1 min\n",
      "Best metric is 3.4426\n",
      "Generation num: 26\n",
      "max_depth: 3, no improvements: 0\n",
      "Number of mutation attempts exceeded. Please check composer requirements for correctness.\n",
      "Cannot add to history: 'str' object has no attribute 'operation_type'\n",
      "spent time: 1.1 min\n",
      "Best metric is 3.4426\n",
      "Generation num: 27\n",
      "max_depth: 3, no improvements: 1\n",
      "Number of mutation attempts exceeded. Please check composer requirements for correctness.\n",
      "Cannot add to history: 'str' object has no attribute 'operation_type'\n",
      "spent time: 1.2 min\n",
      "Best metric is 3.4426\n",
      "Generation num: 28\n",
      "max_depth: 3, no improvements: 2\n",
      "Number of mutation attempts exceeded. Please check composer requirements for correctness.\n",
      "Cannot add to history: 'str' object has no attribute 'operation_type'\n",
      "spent time: 1.3 min\n",
      "Best metric is 3.4426\n",
      "Result:\n",
      "Best metric is 3.4426\n",
      "Composition time: 1.251 min\n"
     ]
    }
   ],
   "source": [
    "bn_geo = structure_learning(geo_discrete, 'evo', 'MI', geo_new_types)"
   ]
  },
  {
   "cell_type": "code",
   "execution_count": 73,
   "metadata": {},
   "outputs": [
    {
     "output_type": "display_data",
     "data": {
      "text/plain": "<Figure size 2025x225 with 1 Axes>",
      "image/svg+xml": "<?xml version=\"1.0\" encoding=\"utf-8\" standalone=\"no\"?>\r\n<!DOCTYPE svg PUBLIC \"-//W3C//DTD SVG 1.1//EN\"\r\n  \"http://www.w3.org/Graphics/SVG/1.1/DTD/svg11.dtd\">\r\n<!-- Created with matplotlib (https://matplotlib.org/) -->\r\n<svg height=\"100.8pt\" version=\"1.1\" viewBox=\"0 0 964.8 100.8\" width=\"964.8pt\" xmlns=\"http://www.w3.org/2000/svg\" xmlns:xlink=\"http://www.w3.org/1999/xlink\">\r\n <metadata>\r\n  <rdf:RDF xmlns:cc=\"http://creativecommons.org/ns#\" xmlns:dc=\"http://purl.org/dc/elements/1.1/\" xmlns:rdf=\"http://www.w3.org/1999/02/22-rdf-syntax-ns#\">\r\n   <cc:Work>\r\n    <dc:type rdf:resource=\"http://purl.org/dc/dcmitype/StillImage\"/>\r\n    <dc:date>2021-05-01T17:00:24.327253</dc:date>\r\n    <dc:format>image/svg+xml</dc:format>\r\n    <dc:creator>\r\n     <cc:Agent>\r\n      <dc:title>Matplotlib v3.3.4, https://matplotlib.org/</dc:title>\r\n     </cc:Agent>\r\n    </dc:creator>\r\n   </cc:Work>\r\n  </rdf:RDF>\r\n </metadata>\r\n <defs>\r\n  <style type=\"text/css\">*{stroke-linecap:butt;stroke-linejoin:round;}</style>\r\n </defs>\r\n <g id=\"figure_1\">\r\n  <g id=\"patch_1\">\r\n   <path d=\"M 0 100.8 \r\nL 964.8 100.8 \r\nL 964.8 0 \r\nL 0 0 \r\nz\r\n\" style=\"fill:none;\"/>\r\n  </g>\r\n  <g id=\"axes_1\">\r\n   <g id=\"legend_1\">\r\n    <g id=\"patch_2\">\r\n     <path d=\"M 421.545312 59.239062 \r\nL 543.254687 59.239062 \r\nQ 545.254687 59.239062 545.254687 57.239062 \r\nL 545.254687 43.560937 \r\nQ 545.254687 41.560937 543.254687 41.560937 \r\nL 421.545312 41.560937 \r\nQ 419.545312 41.560937 419.545312 43.560937 \r\nL 419.545312 57.239062 \r\nQ 419.545312 59.239062 421.545312 59.239062 \r\nz\r\n\" style=\"fill:#ffffff;opacity:0.8;stroke:#cccccc;stroke-linejoin:miter;\"/>\r\n    </g>\r\n    <g id=\"patch_3\">\r\n     <path d=\"M 423.545312 53.159375 \r\nL 443.545312 53.159375 \r\nL 443.545312 46.159375 \r\nL 423.545312 46.159375 \r\nz\r\n\" style=\"fill:#2ca02c;stroke:#2ca02c;stroke-linejoin:miter;\"/>\r\n    </g>\r\n    <g id=\"text_1\">\r\n     <!-- disc -->\r\n     <g transform=\"translate(451.545312 53.159375)scale(0.1 -0.1)\">\r\n      <defs>\r\n       <path d=\"M 45.40625 46.390625 \r\nL 45.40625 75.984375 \r\nL 54.390625 75.984375 \r\nL 54.390625 0 \r\nL 45.40625 0 \r\nL 45.40625 8.203125 \r\nQ 42.578125 3.328125 38.25 0.953125 \r\nQ 33.9375 -1.421875 27.875 -1.421875 \r\nQ 17.96875 -1.421875 11.734375 6.484375 \r\nQ 5.515625 14.40625 5.515625 27.296875 \r\nQ 5.515625 40.1875 11.734375 48.09375 \r\nQ 17.96875 56 27.875 56 \r\nQ 33.9375 56 38.25 53.625 \r\nQ 42.578125 51.265625 45.40625 46.390625 \r\nz\r\nM 14.796875 27.296875 \r\nQ 14.796875 17.390625 18.875 11.75 \r\nQ 22.953125 6.109375 30.078125 6.109375 \r\nQ 37.203125 6.109375 41.296875 11.75 \r\nQ 45.40625 17.390625 45.40625 27.296875 \r\nQ 45.40625 37.203125 41.296875 42.84375 \r\nQ 37.203125 48.484375 30.078125 48.484375 \r\nQ 22.953125 48.484375 18.875 42.84375 \r\nQ 14.796875 37.203125 14.796875 27.296875 \r\nz\r\n\" id=\"DejaVuSans-100\"/>\r\n       <path d=\"M 9.421875 54.6875 \r\nL 18.40625 54.6875 \r\nL 18.40625 0 \r\nL 9.421875 0 \r\nz\r\nM 9.421875 75.984375 \r\nL 18.40625 75.984375 \r\nL 18.40625 64.59375 \r\nL 9.421875 64.59375 \r\nz\r\n\" id=\"DejaVuSans-105\"/>\r\n       <path d=\"M 44.28125 53.078125 \r\nL 44.28125 44.578125 \r\nQ 40.484375 46.53125 36.375 47.5 \r\nQ 32.28125 48.484375 27.875 48.484375 \r\nQ 21.1875 48.484375 17.84375 46.4375 \r\nQ 14.5 44.390625 14.5 40.28125 \r\nQ 14.5 37.15625 16.890625 35.375 \r\nQ 19.28125 33.59375 26.515625 31.984375 \r\nL 29.59375 31.296875 \r\nQ 39.15625 29.25 43.1875 25.515625 \r\nQ 47.21875 21.78125 47.21875 15.09375 \r\nQ 47.21875 7.46875 41.1875 3.015625 \r\nQ 35.15625 -1.421875 24.609375 -1.421875 \r\nQ 20.21875 -1.421875 15.453125 -0.5625 \r\nQ 10.6875 0.296875 5.421875 2 \r\nL 5.421875 11.28125 \r\nQ 10.40625 8.6875 15.234375 7.390625 \r\nQ 20.0625 6.109375 24.8125 6.109375 \r\nQ 31.15625 6.109375 34.5625 8.28125 \r\nQ 37.984375 10.453125 37.984375 14.40625 \r\nQ 37.984375 18.0625 35.515625 20.015625 \r\nQ 33.0625 21.96875 24.703125 23.78125 \r\nL 21.578125 24.515625 \r\nQ 13.234375 26.265625 9.515625 29.90625 \r\nQ 5.8125 33.546875 5.8125 39.890625 \r\nQ 5.8125 47.609375 11.28125 51.796875 \r\nQ 16.75 56 26.8125 56 \r\nQ 31.78125 56 36.171875 55.265625 \r\nQ 40.578125 54.546875 44.28125 53.078125 \r\nz\r\n\" id=\"DejaVuSans-115\"/>\r\n       <path d=\"M 48.78125 52.59375 \r\nL 48.78125 44.1875 \r\nQ 44.96875 46.296875 41.140625 47.34375 \r\nQ 37.3125 48.390625 33.40625 48.390625 \r\nQ 24.65625 48.390625 19.8125 42.84375 \r\nQ 14.984375 37.3125 14.984375 27.296875 \r\nQ 14.984375 17.28125 19.8125 11.734375 \r\nQ 24.65625 6.203125 33.40625 6.203125 \r\nQ 37.3125 6.203125 41.140625 7.25 \r\nQ 44.96875 8.296875 48.78125 10.40625 \r\nL 48.78125 2.09375 \r\nQ 45.015625 0.34375 40.984375 -0.53125 \r\nQ 36.96875 -1.421875 32.421875 -1.421875 \r\nQ 20.0625 -1.421875 12.78125 6.34375 \r\nQ 5.515625 14.109375 5.515625 27.296875 \r\nQ 5.515625 40.671875 12.859375 48.328125 \r\nQ 20.21875 56 33.015625 56 \r\nQ 37.15625 56 41.109375 55.140625 \r\nQ 45.0625 54.296875 48.78125 52.59375 \r\nz\r\n\" id=\"DejaVuSans-99\"/>\r\n      </defs>\r\n      <use xlink:href=\"#DejaVuSans-100\"/>\r\n      <use x=\"63.476562\" xlink:href=\"#DejaVuSans-105\"/>\r\n      <use x=\"91.259766\" xlink:href=\"#DejaVuSans-115\"/>\r\n      <use x=\"143.359375\" xlink:href=\"#DejaVuSans-99\"/>\r\n     </g>\r\n    </g>\r\n    <g id=\"patch_4\">\r\n     <path d=\"M 491.379687 53.159375 \r\nL 511.379687 53.159375 \r\nL 511.379687 46.159375 \r\nL 491.379687 46.159375 \r\nz\r\n\" style=\"fill:#e377c2;stroke:#e377c2;stroke-linejoin:miter;\"/>\r\n    </g>\r\n    <g id=\"text_2\">\r\n     <!-- cont -->\r\n     <g transform=\"translate(519.379687 53.159375)scale(0.1 -0.1)\">\r\n      <defs>\r\n       <path d=\"M 30.609375 48.390625 \r\nQ 23.390625 48.390625 19.1875 42.75 \r\nQ 14.984375 37.109375 14.984375 27.296875 \r\nQ 14.984375 17.484375 19.15625 11.84375 \r\nQ 23.34375 6.203125 30.609375 6.203125 \r\nQ 37.796875 6.203125 41.984375 11.859375 \r\nQ 46.1875 17.53125 46.1875 27.296875 \r\nQ 46.1875 37.015625 41.984375 42.703125 \r\nQ 37.796875 48.390625 30.609375 48.390625 \r\nz\r\nM 30.609375 56 \r\nQ 42.328125 56 49.015625 48.375 \r\nQ 55.71875 40.765625 55.71875 27.296875 \r\nQ 55.71875 13.875 49.015625 6.21875 \r\nQ 42.328125 -1.421875 30.609375 -1.421875 \r\nQ 18.84375 -1.421875 12.171875 6.21875 \r\nQ 5.515625 13.875 5.515625 27.296875 \r\nQ 5.515625 40.765625 12.171875 48.375 \r\nQ 18.84375 56 30.609375 56 \r\nz\r\n\" id=\"DejaVuSans-111\"/>\r\n       <path d=\"M 54.890625 33.015625 \r\nL 54.890625 0 \r\nL 45.90625 0 \r\nL 45.90625 32.71875 \r\nQ 45.90625 40.484375 42.875 44.328125 \r\nQ 39.84375 48.1875 33.796875 48.1875 \r\nQ 26.515625 48.1875 22.3125 43.546875 \r\nQ 18.109375 38.921875 18.109375 30.90625 \r\nL 18.109375 0 \r\nL 9.078125 0 \r\nL 9.078125 54.6875 \r\nL 18.109375 54.6875 \r\nL 18.109375 46.1875 \r\nQ 21.34375 51.125 25.703125 53.5625 \r\nQ 30.078125 56 35.796875 56 \r\nQ 45.21875 56 50.046875 50.171875 \r\nQ 54.890625 44.34375 54.890625 33.015625 \r\nz\r\n\" id=\"DejaVuSans-110\"/>\r\n       <path d=\"M 18.3125 70.21875 \r\nL 18.3125 54.6875 \r\nL 36.8125 54.6875 \r\nL 36.8125 47.703125 \r\nL 18.3125 47.703125 \r\nL 18.3125 18.015625 \r\nQ 18.3125 11.328125 20.140625 9.421875 \r\nQ 21.96875 7.515625 27.59375 7.515625 \r\nL 36.8125 7.515625 \r\nL 36.8125 0 \r\nL 27.59375 0 \r\nQ 17.1875 0 13.234375 3.875 \r\nQ 9.28125 7.765625 9.28125 18.015625 \r\nL 9.28125 47.703125 \r\nL 2.6875 47.703125 \r\nL 2.6875 54.6875 \r\nL 9.28125 54.6875 \r\nL 9.28125 70.21875 \r\nz\r\n\" id=\"DejaVuSans-116\"/>\r\n      </defs>\r\n      <use xlink:href=\"#DejaVuSans-99\"/>\r\n      <use x=\"54.980469\" xlink:href=\"#DejaVuSans-111\"/>\r\n      <use x=\"116.162109\" xlink:href=\"#DejaVuSans-110\"/>\r\n      <use x=\"179.541016\" xlink:href=\"#DejaVuSans-116\"/>\r\n     </g>\r\n    </g>\r\n   </g>\r\n  </g>\r\n </g>\r\n</svg>\r\n",
      "image/png": "[encoded data removed]"
     },
     "metadata": {
      "needs_background": "light"
     }
    },
    {
     "output_type": "execute_result",
     "data": {
      "text/plain": [
       "<IPython.lib.display.IFrame at 0x26cd6331fa0>"
      ],
      "text/html": "\n        <iframe\n            width=\"100%\"\n            height=\"800px\"\n            src=\"../visualization_result/geo_net.html\"\n            frameborder=\"0\"\n            allowfullscreen\n        ></iframe>\n        "
     },
     "metadata": {},
     "execution_count": 73
    }
   ],
   "source": [
    "draw_BN(bn_geo, geo_types, 'geo_net')"
   ]
  },
  {
   "cell_type": "code",
   "execution_count": 74,
   "metadata": {},
   "outputs": [],
   "source": [
    "params = parameter_learning(geo_only_discrete, geo_new_types, bn_geo)"
   ]
  },
  {
   "cell_type": "code",
   "execution_count": 75,
   "metadata": {},
   "outputs": [],
   "source": [
    "save_structure(bn_geo, 'geo_net')\n",
    "skel = read_structure('geo_net')\n",
    "save_params(params, 'geo_net_param')\n",
    "params = read_params('geo_net_param')\n",
    "geo_bn = HyBayesianNetwork(skel, params)"
   ]
  },
  {
   "cell_type": "code",
   "execution_count": 76,
   "metadata": {},
   "outputs": [
    {
     "output_type": "stream",
     "name": "stderr",
     "text": [
      "C:\\Users\\anaxa\\AppData\\Local\\Programs\\Python\\Python38\\lib\\site-packages\\sklearn\\metrics\\_classification.py:208: FutureWarning: elementwise comparison failed; returning scalar instead, but in the future will perform elementwise comparison\n  score = y_true == y_pred\nC:\\Users\\anaxa\\AppData\\Local\\Programs\\Python\\Python38\\lib\\site-packages\\sklearn\\metrics\\_classification.py:208: FutureWarning: elementwise comparison failed; returning scalar instead, but in the future will perform elementwise comparison\n  score = y_true == y_pred\nC:\\Users\\anaxa\\AppData\\Local\\Programs\\Python\\Python38\\lib\\site-packages\\sklearn\\metrics\\_classification.py:208: FutureWarning: elementwise comparison failed; returning scalar instead, but in the future will perform elementwise comparison\n  score = y_true == y_pred\nC:\\Users\\anaxa\\AppData\\Local\\Programs\\Python\\Python38\\lib\\site-packages\\sklearn\\metrics\\_classification.py:208: FutureWarning: elementwise comparison failed; returning scalar instead, but in the future will perform elementwise comparison\n  score = y_true == y_pred\n"
     ]
    }
   ],
   "source": [
    "acc, rmse, real, pred = calculate_acc(geo_bn, test_discrete, columns)"
   ]
  },
  {
   "cell_type": "code",
   "execution_count": 77,
   "metadata": {},
   "outputs": [
    {
     "output_type": "execute_result",
     "data": {
      "text/plain": [
       "{'A': 0.37, 'C': 0.75, 'H': 0.78, 'D': 0.0, 'I': 0.0, 'O': 0.0, 'T': 0.0}"
      ]
     },
     "metadata": {},
     "execution_count": 77
    }
   ],
   "source": [
    "acc"
   ]
  },
  {
   "cell_type": "code",
   "execution_count": 78,
   "metadata": {},
   "outputs": [],
   "source": [
    "for key in colums_for_code:\n",
    "    df_result_accuracy = df_result_accuracy.append({'Parameter': key, 'Strategy': 'evo', 'Alg':'D+D','accuracy':acc[key]}, ignore_index=True)"
   ]
  },
  {
   "cell_type": "code",
   "execution_count": 79,
   "metadata": {},
   "outputs": [],
   "source": [
    "invers_real = inverse_discretization(pd.DataFrame(np.transpose(real[3:7]), columns=['D', 'I', 'O', 'T']), ['D', 'I', 'O', 'T'], discrete_coder)"
   ]
  },
  {
   "cell_type": "code",
   "execution_count": 80,
   "metadata": {},
   "outputs": [],
   "source": [
    "invers_pred = inverse_discretization(pd.DataFrame(np.transpose(pred[3:7]), columns=['D', 'I', 'O', 'T']), ['D', 'I', 'O', 'T'], discrete_coder)"
   ]
  },
  {
   "cell_type": "code",
   "execution_count": 81,
   "metadata": {},
   "outputs": [],
   "source": [
    "m = mean_squared_error(invers_real['D'], invers_pred['D'], squared=False)\n",
    "df_result_rmse = df_result_rmse.append({'Parameter': 'D', 'Strategy': 'evo', 'Alg':'D+D','rmse':m}, ignore_index=True)"
   ]
  },
  {
   "cell_type": "code",
   "execution_count": 82,
   "metadata": {},
   "outputs": [],
   "source": [
    "m = mean_squared_error(invers_real['I'], invers_pred['I'], squared=False)\n",
    "df_result_rmse = df_result_rmse.append({'Parameter': 'I', 'Strategy': 'evo', 'Alg':'D+D','rmse':m}, ignore_index=True)"
   ]
  },
  {
   "cell_type": "code",
   "execution_count": 83,
   "metadata": {},
   "outputs": [],
   "source": [
    "m = mean_squared_error(invers_real['O'], invers_pred['O'], squared=False)\n",
    "df_result_rmse = df_result_rmse.append({'Parameter': 'O', 'Strategy': 'evo', 'Alg':'D+D','rmse':m}, ignore_index=True)"
   ]
  },
  {
   "cell_type": "code",
   "execution_count": 84,
   "metadata": {},
   "outputs": [],
   "source": [
    "m = mean_squared_error(invers_real['T'], invers_pred['T'], squared=False)\n",
    "df_result_rmse = df_result_rmse.append({'Parameter': 'T', 'Strategy': 'evo', 'Alg':'D+D','rmse':m}, ignore_index=True)"
   ]
  },
  {
   "source": [
    "# Смешанная структура + дискретные параметры"
   ],
   "cell_type": "markdown",
   "metadata": {}
  },
  {
   "cell_type": "code",
   "execution_count": 85,
   "metadata": {},
   "outputs": [
    {
     "output_type": "stream",
     "name": "stdout",
     "text": [
      "Cannot add to history: 'str' object has no attribute 'operation_type'\n",
      "Best metric is 19.415947236277223\n",
      "Generation num: 0\n",
      "max_depth: 3, no improvements: 0\n",
      "Cannot add to history: 'str' object has no attribute 'operation_type'\n",
      "spent time: 0.4 min\n",
      "Best metric is 19.347382737262997\n",
      "Generation num: 1\n",
      "max_depth: 3, no improvements: 0\n",
      "Number of crossover attempts exceeded. Please check composer requirements for correctness.\n",
      "Cannot add to history: 'str' object has no attribute 'operation_type'\n",
      "spent time: 0.5 min\n",
      "Best metric is 19.347382737262997\n",
      "Generation num: 2\n",
      "max_depth: 3, no improvements: 1\n",
      "Number of crossover attempts exceeded. Please check composer requirements for correctness.\n",
      "Cannot add to history: 'str' object has no attribute 'operation_type'\n",
      "spent time: 0.6 min\n",
      "Best metric is 19.347382737262997\n",
      "Generation num: 3\n",
      "max_depth: 3, no improvements: 2\n",
      "Number of crossover attempts exceeded. Please check composer requirements for correctness.\n",
      "Cannot add to history: 'str' object has no attribute 'operation_type'\n",
      "spent time: 0.7 min\n",
      "Best metric is 19.347382737262997\n",
      "Generation num: 4\n",
      "max_depth: 3, no improvements: 3\n",
      "Number of crossover attempts exceeded. Please check composer requirements for correctness.\n",
      "Number of crossover attempts exceeded. Please check composer requirements for correctness.\n",
      "Number of crossover attempts exceeded. Please check composer requirements for correctness.\n",
      "Number of crossover attempts exceeded. Please check composer requirements for correctness.\n",
      "Cannot add to history: 'str' object has no attribute 'operation_type'\n",
      "spent time: 0.9 min\n",
      "Best metric is 19.317380573089153\n",
      "Generation num: 5\n",
      "max_depth: 3, no improvements: 0\n",
      "Number of crossover attempts exceeded. Please check composer requirements for correctness.\n",
      "Cannot add to history: 'str' object has no attribute 'operation_type'\n",
      "spent time: 1.0 min\n",
      "Best metric is 18.744455791911015\n",
      "Generation num: 6\n",
      "max_depth: 3, no improvements: 0\n",
      "Number of crossover attempts exceeded. Please check composer requirements for correctness.\n",
      "Cannot add to history: 'str' object has no attribute 'operation_type'\n",
      "spent time: 1.1 min\n",
      "Best metric is 18.675582737262992\n",
      "Generation num: 7\n",
      "max_depth: 3, no improvements: 0\n",
      "Cannot add to history: 'str' object has no attribute 'operation_type'\n",
      "spent time: 1.3 min\n",
      "Best metric is 18.675582737262992\n",
      "Generation num: 8\n",
      "max_depth: 3, no improvements: 1\n",
      "Cannot add to history: 'str' object has no attribute 'operation_type'\n",
      "spent time: 1.5 min\n",
      "Best metric is 13.598170397284001\n",
      "Generation num: 9\n",
      "max_depth: 3, no improvements: 0\n",
      "Number of mutation attempts exceeded. Please check composer requirements for correctness.\n",
      "Number of crossover attempts exceeded. Please check composer requirements for correctness.\n",
      "Cannot add to history: 'str' object has no attribute 'operation_type'\n",
      "spent time: 1.7 min\n",
      "Best metric is 13.598170397284001\n",
      "Generation num: 10\n",
      "max_depth: 3, no improvements: 1\n",
      "Number of mutation attempts exceeded. Please check composer requirements for correctness.\n",
      "Cannot add to history: 'str' object has no attribute 'operation_type'\n",
      "spent time: 1.9 min\n",
      "Best metric is 13.598170397284001\n",
      "Generation num: 11\n",
      "max_depth: 3, no improvements: 2\n",
      "Cannot add to history: 'str' object has no attribute 'operation_type'\n",
      "spent time: 2.1 min\n",
      "Best metric is 12.256065996382455\n",
      "Generation num: 12\n",
      "max_depth: 3, no improvements: 0\n",
      "Number of mutation attempts exceeded. Please check composer requirements for correctness.\n",
      "Cannot add to history: 'str' object has no attribute 'operation_type'\n",
      "spent time: 2.3 min\n",
      "Best metric is 12.256065996382455\n",
      "Generation num: 13\n",
      "max_depth: 3, no improvements: 1\n",
      "Number of mutation attempts exceeded. Please check composer requirements for correctness.\n",
      "Cannot add to history: 'str' object has no attribute 'operation_type'\n",
      "spent time: 2.4 min\n",
      "Best metric is 12.256065996382455\n",
      "Generation num: 14\n",
      "max_depth: 3, no improvements: 2\n",
      "Cannot add to history: 'str' object has no attribute 'operation_type'\n",
      "spent time: 2.6 min\n",
      "Best metric is 12.256065996382455\n",
      "Generation num: 15\n",
      "max_depth: 3, no improvements: 3\n",
      "Cannot add to history: 'str' object has no attribute 'operation_type'\n",
      "spent time: 2.8 min\n",
      "Best metric is 12.256065996382455\n",
      "Generation num: 16\n",
      "max_depth: 3, no improvements: 4\n",
      "Cannot add to history: 'str' object has no attribute 'operation_type'\n",
      "spent time: 3.0 min\n",
      "Best metric is 12.256065996382455\n",
      "Generation num: 17\n",
      "max_depth: 3, no improvements: 5\n",
      "Cannot add to history: 'str' object has no attribute 'operation_type'\n",
      "spent time: 3.2 min\n",
      "Best metric is 12.256065996382455\n",
      "Generation num: 18\n",
      "max_depth: 3, no improvements: 6\n",
      "Cannot add to history: 'str' object has no attribute 'operation_type'\n",
      "spent time: 3.4 min\n",
      "Best metric is 12.256065996382455\n",
      "Generation num: 19\n",
      "max_depth: 3, no improvements: 7\n",
      "Cannot add to history: 'str' object has no attribute 'operation_type'\n",
      "spent time: 3.6 min\n",
      "Best metric is 12.256065996382455\n",
      "Generation num: 20\n",
      "max_depth: 3, no improvements: 8\n",
      "Number of mutation attempts exceeded. Please check composer requirements for correctness.\n",
      "Cannot add to history: 'str' object has no attribute 'operation_type'\n",
      "spent time: 3.8 min\n",
      "Best metric is 12.256065996382455\n",
      "Generation num: 21\n",
      "max_depth: 3, no improvements: 9\n",
      "Number of crossover attempts exceeded. Please check composer requirements for correctness.\n",
      "Cannot add to history: 'str' object has no attribute 'operation_type'\n",
      "spent time: 4.0 min\n",
      "Best metric is 8.904334462281543\n",
      "Generation num: 22\n",
      "max_depth: 3, no improvements: 0\n",
      "Cannot add to history: 'str' object has no attribute 'operation_type'\n",
      "spent time: 4.2 min\n",
      "Best metric is 8.904334462281543\n",
      "Generation num: 23\n",
      "max_depth: 3, no improvements: 1\n",
      "Cannot add to history: 'str' object has no attribute 'operation_type'\n",
      "spent time: 4.4 min\n",
      "Best metric is 8.904334462281543\n",
      "Generation num: 24\n",
      "max_depth: 3, no improvements: 2\n",
      "Number of mutation attempts exceeded. Please check composer requirements for correctness.\n",
      "Cannot add to history: 'str' object has no attribute 'operation_type'\n",
      "spent time: 4.6 min\n",
      "Best metric is 8.904334462281543\n",
      "Generation num: 25\n",
      "max_depth: 3, no improvements: 3\n",
      "Cannot add to history: 'str' object has no attribute 'operation_type'\n",
      "spent time: 4.8 min\n",
      "Best metric is 8.904334462281543\n",
      "Generation num: 26\n",
      "max_depth: 3, no improvements: 4\n",
      "Number of mutation attempts exceeded. Please check composer requirements for correctness.\n",
      "Number of mutation attempts exceeded. Please check composer requirements for correctness.\n",
      "Number of mutation attempts exceeded. Please check composer requirements for correctness.\n",
      "Number of mutation attempts exceeded. Please check composer requirements for correctness.\n",
      "Cannot add to history: 'str' object has no attribute 'operation_type'\n",
      "spent time: 5.0 min\n",
      "Best metric is 8.904334462281543\n",
      "Generation num: 27\n",
      "max_depth: 3, no improvements: 5\n",
      "Number of mutation attempts exceeded. Please check composer requirements for correctness.\n",
      "Number of mutation attempts exceeded. Please check composer requirements for correctness.\n",
      "Cannot add to history: 'str' object has no attribute 'operation_type'\n",
      "spent time: 5.2 min\n",
      "Best metric is 8.206764636232844\n",
      "Generation num: 28\n",
      "max_depth: 3, no improvements: 0\n",
      "Cannot add to history: 'str' object has no attribute 'operation_type'\n",
      "spent time: 5.4 min\n",
      "Best metric is 8.206764636232844\n",
      "Result:\n",
      "Best metric is 8.206764636232844\n",
      "Composition time: 5.43 min\n"
     ]
    }
   ],
   "source": [
    "bn_geo = structure_learning(geo_coded, 'evo', 'MI', geo_new_types)"
   ]
  },
  {
   "cell_type": "code",
   "execution_count": 86,
   "metadata": {},
   "outputs": [
    {
     "output_type": "display_data",
     "data": {
      "text/plain": "<Figure size 2025x225 with 1 Axes>",
      "image/svg+xml": "<?xml version=\"1.0\" encoding=\"utf-8\" standalone=\"no\"?>\r\n<!DOCTYPE svg PUBLIC \"-//W3C//DTD SVG 1.1//EN\"\r\n  \"http://www.w3.org/Graphics/SVG/1.1/DTD/svg11.dtd\">\r\n<!-- Created with matplotlib (https://matplotlib.org/) -->\r\n<svg height=\"100.8pt\" version=\"1.1\" viewBox=\"0 0 964.8 100.8\" width=\"964.8pt\" xmlns=\"http://www.w3.org/2000/svg\" xmlns:xlink=\"http://www.w3.org/1999/xlink\">\r\n <metadata>\r\n  <rdf:RDF xmlns:cc=\"http://creativecommons.org/ns#\" xmlns:dc=\"http://purl.org/dc/elements/1.1/\" xmlns:rdf=\"http://www.w3.org/1999/02/22-rdf-syntax-ns#\">\r\n   <cc:Work>\r\n    <dc:type rdf:resource=\"http://purl.org/dc/dcmitype/StillImage\"/>\r\n    <dc:date>2021-05-01T17:07:21.097525</dc:date>\r\n    <dc:format>image/svg+xml</dc:format>\r\n    <dc:creator>\r\n     <cc:Agent>\r\n      <dc:title>Matplotlib v3.3.4, https://matplotlib.org/</dc:title>\r\n     </cc:Agent>\r\n    </dc:creator>\r\n   </cc:Work>\r\n  </rdf:RDF>\r\n </metadata>\r\n <defs>\r\n  <style type=\"text/css\">*{stroke-linecap:butt;stroke-linejoin:round;}</style>\r\n </defs>\r\n <g id=\"figure_1\">\r\n  <g id=\"patch_1\">\r\n   <path d=\"M 0 100.8 \r\nL 964.8 100.8 \r\nL 964.8 0 \r\nL 0 0 \r\nz\r\n\" style=\"fill:none;\"/>\r\n  </g>\r\n  <g id=\"axes_1\">\r\n   <g id=\"legend_1\">\r\n    <g id=\"patch_2\">\r\n     <path d=\"M 421.545312 59.239062 \r\nL 543.254687 59.239062 \r\nQ 545.254687 59.239062 545.254687 57.239062 \r\nL 545.254687 43.560937 \r\nQ 545.254687 41.560937 543.254687 41.560937 \r\nL 421.545312 41.560937 \r\nQ 419.545312 41.560937 419.545312 43.560937 \r\nL 419.545312 57.239062 \r\nQ 419.545312 59.239062 421.545312 59.239062 \r\nz\r\n\" style=\"fill:#ffffff;opacity:0.8;stroke:#cccccc;stroke-linejoin:miter;\"/>\r\n    </g>\r\n    <g id=\"patch_3\">\r\n     <path d=\"M 423.545312 53.159375 \r\nL 443.545312 53.159375 \r\nL 443.545312 46.159375 \r\nL 423.545312 46.159375 \r\nz\r\n\" style=\"fill:#2ca02c;stroke:#2ca02c;stroke-linejoin:miter;\"/>\r\n    </g>\r\n    <g id=\"text_1\">\r\n     <!-- disc -->\r\n     <g transform=\"translate(451.545312 53.159375)scale(0.1 -0.1)\">\r\n      <defs>\r\n       <path d=\"M 45.40625 46.390625 \r\nL 45.40625 75.984375 \r\nL 54.390625 75.984375 \r\nL 54.390625 0 \r\nL 45.40625 0 \r\nL 45.40625 8.203125 \r\nQ 42.578125 3.328125 38.25 0.953125 \r\nQ 33.9375 -1.421875 27.875 -1.421875 \r\nQ 17.96875 -1.421875 11.734375 6.484375 \r\nQ 5.515625 14.40625 5.515625 27.296875 \r\nQ 5.515625 40.1875 11.734375 48.09375 \r\nQ 17.96875 56 27.875 56 \r\nQ 33.9375 56 38.25 53.625 \r\nQ 42.578125 51.265625 45.40625 46.390625 \r\nz\r\nM 14.796875 27.296875 \r\nQ 14.796875 17.390625 18.875 11.75 \r\nQ 22.953125 6.109375 30.078125 6.109375 \r\nQ 37.203125 6.109375 41.296875 11.75 \r\nQ 45.40625 17.390625 45.40625 27.296875 \r\nQ 45.40625 37.203125 41.296875 42.84375 \r\nQ 37.203125 48.484375 30.078125 48.484375 \r\nQ 22.953125 48.484375 18.875 42.84375 \r\nQ 14.796875 37.203125 14.796875 27.296875 \r\nz\r\n\" id=\"DejaVuSans-100\"/>\r\n       <path d=\"M 9.421875 54.6875 \r\nL 18.40625 54.6875 \r\nL 18.40625 0 \r\nL 9.421875 0 \r\nz\r\nM 9.421875 75.984375 \r\nL 18.40625 75.984375 \r\nL 18.40625 64.59375 \r\nL 9.421875 64.59375 \r\nz\r\n\" id=\"DejaVuSans-105\"/>\r\n       <path d=\"M 44.28125 53.078125 \r\nL 44.28125 44.578125 \r\nQ 40.484375 46.53125 36.375 47.5 \r\nQ 32.28125 48.484375 27.875 48.484375 \r\nQ 21.1875 48.484375 17.84375 46.4375 \r\nQ 14.5 44.390625 14.5 40.28125 \r\nQ 14.5 37.15625 16.890625 35.375 \r\nQ 19.28125 33.59375 26.515625 31.984375 \r\nL 29.59375 31.296875 \r\nQ 39.15625 29.25 43.1875 25.515625 \r\nQ 47.21875 21.78125 47.21875 15.09375 \r\nQ 47.21875 7.46875 41.1875 3.015625 \r\nQ 35.15625 -1.421875 24.609375 -1.421875 \r\nQ 20.21875 -1.421875 15.453125 -0.5625 \r\nQ 10.6875 0.296875 5.421875 2 \r\nL 5.421875 11.28125 \r\nQ 10.40625 8.6875 15.234375 7.390625 \r\nQ 20.0625 6.109375 24.8125 6.109375 \r\nQ 31.15625 6.109375 34.5625 8.28125 \r\nQ 37.984375 10.453125 37.984375 14.40625 \r\nQ 37.984375 18.0625 35.515625 20.015625 \r\nQ 33.0625 21.96875 24.703125 23.78125 \r\nL 21.578125 24.515625 \r\nQ 13.234375 26.265625 9.515625 29.90625 \r\nQ 5.8125 33.546875 5.8125 39.890625 \r\nQ 5.8125 47.609375 11.28125 51.796875 \r\nQ 16.75 56 26.8125 56 \r\nQ 31.78125 56 36.171875 55.265625 \r\nQ 40.578125 54.546875 44.28125 53.078125 \r\nz\r\n\" id=\"DejaVuSans-115\"/>\r\n       <path d=\"M 48.78125 52.59375 \r\nL 48.78125 44.1875 \r\nQ 44.96875 46.296875 41.140625 47.34375 \r\nQ 37.3125 48.390625 33.40625 48.390625 \r\nQ 24.65625 48.390625 19.8125 42.84375 \r\nQ 14.984375 37.3125 14.984375 27.296875 \r\nQ 14.984375 17.28125 19.8125 11.734375 \r\nQ 24.65625 6.203125 33.40625 6.203125 \r\nQ 37.3125 6.203125 41.140625 7.25 \r\nQ 44.96875 8.296875 48.78125 10.40625 \r\nL 48.78125 2.09375 \r\nQ 45.015625 0.34375 40.984375 -0.53125 \r\nQ 36.96875 -1.421875 32.421875 -1.421875 \r\nQ 20.0625 -1.421875 12.78125 6.34375 \r\nQ 5.515625 14.109375 5.515625 27.296875 \r\nQ 5.515625 40.671875 12.859375 48.328125 \r\nQ 20.21875 56 33.015625 56 \r\nQ 37.15625 56 41.109375 55.140625 \r\nQ 45.0625 54.296875 48.78125 52.59375 \r\nz\r\n\" id=\"DejaVuSans-99\"/>\r\n      </defs>\r\n      <use xlink:href=\"#DejaVuSans-100\"/>\r\n      <use x=\"63.476562\" xlink:href=\"#DejaVuSans-105\"/>\r\n      <use x=\"91.259766\" xlink:href=\"#DejaVuSans-115\"/>\r\n      <use x=\"143.359375\" xlink:href=\"#DejaVuSans-99\"/>\r\n     </g>\r\n    </g>\r\n    <g id=\"patch_4\">\r\n     <path d=\"M 491.379687 53.159375 \r\nL 511.379687 53.159375 \r\nL 511.379687 46.159375 \r\nL 491.379687 46.159375 \r\nz\r\n\" style=\"fill:#e377c2;stroke:#e377c2;stroke-linejoin:miter;\"/>\r\n    </g>\r\n    <g id=\"text_2\">\r\n     <!-- cont -->\r\n     <g transform=\"translate(519.379687 53.159375)scale(0.1 -0.1)\">\r\n      <defs>\r\n       <path d=\"M 30.609375 48.390625 \r\nQ 23.390625 48.390625 19.1875 42.75 \r\nQ 14.984375 37.109375 14.984375 27.296875 \r\nQ 14.984375 17.484375 19.15625 11.84375 \r\nQ 23.34375 6.203125 30.609375 6.203125 \r\nQ 37.796875 6.203125 41.984375 11.859375 \r\nQ 46.1875 17.53125 46.1875 27.296875 \r\nQ 46.1875 37.015625 41.984375 42.703125 \r\nQ 37.796875 48.390625 30.609375 48.390625 \r\nz\r\nM 30.609375 56 \r\nQ 42.328125 56 49.015625 48.375 \r\nQ 55.71875 40.765625 55.71875 27.296875 \r\nQ 55.71875 13.875 49.015625 6.21875 \r\nQ 42.328125 -1.421875 30.609375 -1.421875 \r\nQ 18.84375 -1.421875 12.171875 6.21875 \r\nQ 5.515625 13.875 5.515625 27.296875 \r\nQ 5.515625 40.765625 12.171875 48.375 \r\nQ 18.84375 56 30.609375 56 \r\nz\r\n\" id=\"DejaVuSans-111\"/>\r\n       <path d=\"M 54.890625 33.015625 \r\nL 54.890625 0 \r\nL 45.90625 0 \r\nL 45.90625 32.71875 \r\nQ 45.90625 40.484375 42.875 44.328125 \r\nQ 39.84375 48.1875 33.796875 48.1875 \r\nQ 26.515625 48.1875 22.3125 43.546875 \r\nQ 18.109375 38.921875 18.109375 30.90625 \r\nL 18.109375 0 \r\nL 9.078125 0 \r\nL 9.078125 54.6875 \r\nL 18.109375 54.6875 \r\nL 18.109375 46.1875 \r\nQ 21.34375 51.125 25.703125 53.5625 \r\nQ 30.078125 56 35.796875 56 \r\nQ 45.21875 56 50.046875 50.171875 \r\nQ 54.890625 44.34375 54.890625 33.015625 \r\nz\r\n\" id=\"DejaVuSans-110\"/>\r\n       <path d=\"M 18.3125 70.21875 \r\nL 18.3125 54.6875 \r\nL 36.8125 54.6875 \r\nL 36.8125 47.703125 \r\nL 18.3125 47.703125 \r\nL 18.3125 18.015625 \r\nQ 18.3125 11.328125 20.140625 9.421875 \r\nQ 21.96875 7.515625 27.59375 7.515625 \r\nL 36.8125 7.515625 \r\nL 36.8125 0 \r\nL 27.59375 0 \r\nQ 17.1875 0 13.234375 3.875 \r\nQ 9.28125 7.765625 9.28125 18.015625 \r\nL 9.28125 47.703125 \r\nL 2.6875 47.703125 \r\nL 2.6875 54.6875 \r\nL 9.28125 54.6875 \r\nL 9.28125 70.21875 \r\nz\r\n\" id=\"DejaVuSans-116\"/>\r\n      </defs>\r\n      <use xlink:href=\"#DejaVuSans-99\"/>\r\n      <use x=\"54.980469\" xlink:href=\"#DejaVuSans-111\"/>\r\n      <use x=\"116.162109\" xlink:href=\"#DejaVuSans-110\"/>\r\n      <use x=\"179.541016\" xlink:href=\"#DejaVuSans-116\"/>\r\n     </g>\r\n    </g>\r\n   </g>\r\n  </g>\r\n </g>\r\n</svg>\r\n",
      "image/png": "[encoded data removed]"
     },
     "metadata": {
      "needs_background": "light"
     }
    },
    {
     "output_type": "execute_result",
     "data": {
      "text/plain": [
       "<IPython.lib.display.IFrame at 0x26cd3d7f610>"
      ],
      "text/html": "\n        <iframe\n            width=\"100%\"\n            height=\"800px\"\n            src=\"../visualization_result/geo_net.html\"\n            frameborder=\"0\"\n            allowfullscreen\n        ></iframe>\n        "
     },
     "metadata": {},
     "execution_count": 86
    }
   ],
   "source": [
    "draw_BN(bn_geo, geo_types, 'geo_net')"
   ]
  },
  {
   "cell_type": "code",
   "execution_count": 87,
   "metadata": {},
   "outputs": [],
   "source": [
    "params = parameter_learning(geo_only_discrete, geo_new_types, bn_geo)"
   ]
  },
  {
   "cell_type": "code",
   "execution_count": 88,
   "metadata": {},
   "outputs": [],
   "source": [
    "save_structure(bn_geo, 'geo_net')\n",
    "skel = read_structure('geo_net')\n",
    "save_params(params, 'geo_net_param')\n",
    "params = read_params('geo_net_param')\n",
    "geo_bn = HyBayesianNetwork(skel, params)"
   ]
  },
  {
   "cell_type": "code",
   "execution_count": 89,
   "metadata": {},
   "outputs": [
    {
     "output_type": "stream",
     "name": "stderr",
     "text": [
      "C:\\Users\\anaxa\\AppData\\Local\\Programs\\Python\\Python38\\lib\\site-packages\\sklearn\\metrics\\_classification.py:208: FutureWarning: elementwise comparison failed; returning scalar instead, but in the future will perform elementwise comparison\n  score = y_true == y_pred\nC:\\Users\\anaxa\\AppData\\Local\\Programs\\Python\\Python38\\lib\\site-packages\\sklearn\\metrics\\_classification.py:208: FutureWarning: elementwise comparison failed; returning scalar instead, but in the future will perform elementwise comparison\n  score = y_true == y_pred\nC:\\Users\\anaxa\\AppData\\Local\\Programs\\Python\\Python38\\lib\\site-packages\\sklearn\\metrics\\_classification.py:208: FutureWarning: elementwise comparison failed; returning scalar instead, but in the future will perform elementwise comparison\n  score = y_true == y_pred\nC:\\Users\\anaxa\\AppData\\Local\\Programs\\Python\\Python38\\lib\\site-packages\\sklearn\\metrics\\_classification.py:208: FutureWarning: elementwise comparison failed; returning scalar instead, but in the future will perform elementwise comparison\n  score = y_true == y_pred\n"
     ]
    }
   ],
   "source": [
    "acc, rmse, real, pred = calculate_acc(geo_bn, test_discrete, columns)"
   ]
  },
  {
   "cell_type": "code",
   "execution_count": 90,
   "metadata": {},
   "outputs": [
    {
     "output_type": "execute_result",
     "data": {
      "text/plain": [
       "{'A': 0.37, 'C': 0.75, 'H': 0.78, 'D': 0.0, 'I': 0.0, 'O': 0.0, 'T': 0.0}"
      ]
     },
     "metadata": {},
     "execution_count": 90
    }
   ],
   "source": [
    "acc"
   ]
  },
  {
   "cell_type": "code",
   "execution_count": 91,
   "metadata": {},
   "outputs": [],
   "source": [
    "for key in colums_for_code:\n",
    "    df_result_accuracy = df_result_accuracy.append({'Parameter': key, 'Strategy': 'evo', 'Alg':'M+D','accuracy':acc[key]}, ignore_index=True)"
   ]
  },
  {
   "cell_type": "code",
   "execution_count": 92,
   "metadata": {},
   "outputs": [],
   "source": [
    "invers_real = inverse_discretization(pd.DataFrame(np.transpose(real[3:7]), columns=['D', 'I', 'O', 'T']), ['D', 'I', 'O', 'T'], discrete_coder)"
   ]
  },
  {
   "cell_type": "code",
   "execution_count": 93,
   "metadata": {},
   "outputs": [],
   "source": [
    "invers_pred = inverse_discretization(pd.DataFrame(np.transpose(pred[3:7]), columns=['D', 'I', 'O', 'T']), ['D', 'I', 'O', 'T'], discrete_coder)"
   ]
  },
  {
   "cell_type": "code",
   "execution_count": 94,
   "metadata": {},
   "outputs": [],
   "source": [
    "m = mean_squared_error(invers_real['D'], invers_pred['D'], squared=False)\n",
    "df_result_rmse = df_result_rmse.append({'Parameter': 'D', 'Strategy': 'evo', 'Alg':'M+D','rmse':m}, ignore_index=True)"
   ]
  },
  {
   "cell_type": "code",
   "execution_count": 95,
   "metadata": {},
   "outputs": [],
   "source": [
    "m = mean_squared_error(invers_real['I'], invers_pred['I'], squared=False)\n",
    "df_result_rmse = df_result_rmse.append({'Parameter': 'I', 'Strategy': 'evo', 'Alg':'M+D','rmse':m}, ignore_index=True)"
   ]
  },
  {
   "cell_type": "code",
   "execution_count": 96,
   "metadata": {},
   "outputs": [],
   "source": [
    "m = mean_squared_error(invers_real['O'], invers_pred['O'], squared=False)\n",
    "df_result_rmse = df_result_rmse.append({'Parameter': 'O', 'Strategy': 'evo', 'Alg':'M+D','rmse':m}, ignore_index=True)"
   ]
  },
  {
   "cell_type": "code",
   "execution_count": 97,
   "metadata": {},
   "outputs": [],
   "source": [
    "m = mean_squared_error(invers_real['T'], invers_pred['T'], squared=False)\n",
    "df_result_rmse = df_result_rmse.append({'Parameter': 'T', 'Strategy': 'evo', 'Alg':'M+D','rmse':m}, ignore_index=True)"
   ]
  },
  {
   "cell_type": "code",
   "execution_count": 98,
   "metadata": {},
   "outputs": [],
   "source": [
    "df_result_accuracy.to_csv('health_results_disc.csv', index=False)\n",
    "df_result_rmse.to_csv('health_results_cont.csv', index=False)"
   ]
  }
 ]
}